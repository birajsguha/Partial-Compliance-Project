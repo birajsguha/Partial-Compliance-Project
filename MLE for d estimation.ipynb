{
 "cells": [
  {
   "cell_type": "code",
   "execution_count": 7,
   "id": "8457c11f",
   "metadata": {},
   "outputs": [],
   "source": [
    "import numpy as np\n",
    "import pandas as pd\n",
    "from scipy import stats\n",
    "from scipy import linalg\n",
    "from scipy import special\n",
    "import matplotlib.pyplot as plt\n",
    "import arviz as ar\n",
    "import seaborn as sns"
   ]
  },
  {
   "cell_type": "code",
   "execution_count": 8,
   "id": "42ab3b9a",
   "metadata": {},
   "outputs": [],
   "source": [
    "from scipy.optimize import minimize"
   ]
  },
  {
   "cell_type": "code",
   "execution_count": 9,
   "id": "861ea31a",
   "metadata": {},
   "outputs": [],
   "source": [
    "# l_2 distance squared\n",
    "def l2_sq(a, b):\n",
    "    temp = np.array([v**2 for v in a - b])\n",
    "    return np.sum(temp)\n",
    "\n",
    "# STANDARD Squared Exponential Kernel function (isotropic scale parameter 'l') for feature vectors x1, x2\n",
    "def K_sqexp(x1, x2, l):\n",
    "        return np.exp(-l2_sq(x1, x2)/(l**2))\n",
    "    \n",
    "# creating the baseline sqexp kernel matrix\n",
    "def create_sqexp_mat(X_mat, l):\n",
    "    n = len(X_mat)\n",
    "    out = np.zeros(shape = (n, n))\n",
    "    for i in range(n - 1):\n",
    "        for j in range(i + 1, n):\n",
    "            out[j][i] = out[i][j] = K_sqexp(x1 = X_mat[i], x2 = X_mat[j], l = l)\n",
    "    for i in range(n):\n",
    "        out[i][i] = K_sqexp(x1 = X_mat[i], x2 = X_mat[i], l = l)\n",
    "    return out\n",
    "\n",
    "def create_full_K1(X_mat, d_vec, l):\n",
    "    d = np.atleast_2d(d_vec)\n",
    "    return np.multiply(create_sqexp_mat(X_mat, l), 1 + np.matmul(d.T, d))"
   ]
  },
  {
   "cell_type": "markdown",
   "id": "96875801",
   "metadata": {},
   "source": [
    "$$ K_{l} \\left( \\left( \\boldsymbol{x}_i, d_i \\right), \\left( \\boldsymbol{x}_j, d_j \\right) \\right) \n",
    ":= \\left( 1 + d_i d_j \\right) \\exp \\left[ - \\frac{\\| \\boldsymbol{x}_i - \\boldsymbol{x}_j \\|_2^2}{2 l^2} \\right], \n",
    "\\; l > 0 $$"
   ]
  },
  {
   "cell_type": "code",
   "execution_count": 47,
   "id": "b8ef8837",
   "metadata": {},
   "outputs": [],
   "source": [
    "n = 100\n",
    "p = 10\n",
    "sigma = 1\n",
    "X = np.random.normal(size = (n, p))\n",
    "d_true = np.ones(n)/5\n",
    "Y_true = np.random.multivariate_normal(mean = np.zeros(n), \n",
    "                                      cov = sigma * np.identity(n) + create_full_K1(X, d_true, l = 1.0e+1))\n",
    "                                      \n",
    "\n",
    "def obj_func(d):\n",
    "    cov = sigma * np.identity(n) + create_full_K1(X, d, l = 1.0e+1)\n",
    "    return np.matmul(Y_true, np.matmul(linalg.inv(cov), Y_true))"
   ]
  },
  {
   "cell_type": "code",
   "execution_count": null,
   "id": "494a2433",
   "metadata": {},
   "outputs": [],
   "source": []
  },
  {
   "cell_type": "code",
   "execution_count": 23,
   "id": "ccb588e7",
   "metadata": {},
   "outputs": [],
   "source": [
    "# cons = ({'type': 'ineq', 'fun': lambda x: np.max(x) < 1}, {'type': 'ineq', 'fun': lambda x: np.min(x) > 0})"
   ]
  },
  {
   "cell_type": "code",
   "execution_count": 48,
   "id": "f6b55409",
   "metadata": {},
   "outputs": [],
   "source": [
    "bnds = tuple([(0, 1)]*n)"
   ]
  },
  {
   "cell_type": "code",
   "execution_count": 49,
   "id": "1f15c2ab",
   "metadata": {},
   "outputs": [],
   "source": [
    "res = minimize(fun = obj_func, x0 = np.ones(n)/2, bounds = bnds)"
   ]
  },
  {
   "cell_type": "code",
   "execution_count": 50,
   "id": "3ae9e592",
   "metadata": {},
   "outputs": [
    {
     "data": {
      "text/plain": [
       "True"
      ]
     },
     "execution_count": 50,
     "metadata": {},
     "output_type": "execute_result"
    }
   ],
   "source": [
    "res.success"
   ]
  },
  {
   "cell_type": "code",
   "execution_count": 51,
   "id": "5afe9215",
   "metadata": {},
   "outputs": [
    {
     "data": {
      "text/plain": [
       "array([0.80800042, 0.47780582, 0.        , 0.84953251, 0.        ,\n",
       "       0.29352083, 1.        , 0.02201886, 0.37367161, 0.70611766,\n",
       "       0.58524308, 0.57827076, 0.24825822, 0.44412247, 0.57491711,\n",
       "       1.        , 1.        , 1.        , 0.29396299, 1.        ,\n",
       "       0.51642762, 0.04103116, 0.        , 0.38769305, 0.63550345,\n",
       "       0.48276881, 1.        , 0.56865054, 0.53038083, 0.        ,\n",
       "       0.68087194, 0.7118192 , 1.        , 0.21646218, 0.48720035,\n",
       "       0.61779547, 0.69615012, 0.41216263, 0.77674795, 0.20415616,\n",
       "       0.73685883, 0.12987052, 0.74901395, 0.89803184, 0.        ,\n",
       "       0.        , 0.70367013, 0.27546854, 0.80066662, 0.38771879,\n",
       "       1.        , 0.23502483, 0.        , 0.7396996 , 0.        ,\n",
       "       0.22552309, 0.45766418, 0.48667348, 0.81262291, 0.23305441,\n",
       "       0.40520605, 0.17571559, 0.7358717 , 0.49571305, 0.08433276,\n",
       "       0.        , 0.82317454, 0.89198167, 0.87601654, 1.        ,\n",
       "       0.        , 0.32054091, 0.59833697, 0.106274  , 0.40164456,\n",
       "       0.42409166, 0.13057473, 0.78140399, 1.        , 0.95722519,\n",
       "       0.57645081, 0.        , 0.80089633, 0.32660504, 0.46092884,\n",
       "       0.45574687, 0.42809875, 0.22257353, 0.63914645, 0.42006975,\n",
       "       0.76343412, 1.        , 0.41724688, 0.32966372, 0.10086697,\n",
       "       0.50277287, 0.39664584, 0.69230362, 0.56694633, 0.69296451])"
      ]
     },
     "execution_count": 51,
     "metadata": {},
     "output_type": "execute_result"
    }
   ],
   "source": [
    "res.x"
   ]
  },
  {
   "cell_type": "code",
   "execution_count": null,
   "id": "1913f287",
   "metadata": {},
   "outputs": [],
   "source": []
  }
 ],
 "metadata": {
  "kernelspec": {
   "display_name": "Python 3 (ipykernel)",
   "language": "python",
   "name": "python3"
  },
  "language_info": {
   "codemirror_mode": {
    "name": "ipython",
    "version": 3
   },
   "file_extension": ".py",
   "mimetype": "text/x-python",
   "name": "python",
   "nbconvert_exporter": "python",
   "pygments_lexer": "ipython3",
   "version": "3.9.12"
  }
 },
 "nbformat": 4,
 "nbformat_minor": 5
}
