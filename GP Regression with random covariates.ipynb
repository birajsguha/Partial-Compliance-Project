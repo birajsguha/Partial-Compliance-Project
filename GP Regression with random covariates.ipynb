{
 "cells": [
  {
   "cell_type": "code",
   "execution_count": 1,
   "id": "2aa99547",
   "metadata": {},
   "outputs": [],
   "source": [
    "%load_ext cmdstanjupyter"
   ]
  },
  {
   "cell_type": "code",
   "execution_count": 2,
   "id": "ae00b8ab",
   "metadata": {},
   "outputs": [],
   "source": [
    "import numpy as np\n",
    "import pandas as pd\n",
    "from scipy import stats\n",
    "from scipy import linalg\n",
    "from scipy import special\n",
    "import matplotlib.pyplot as plt\n",
    "import arviz as ar"
   ]
  },
  {
   "cell_type": "code",
   "execution_count": 3,
   "id": "3fff2bbb",
   "metadata": {},
   "outputs": [],
   "source": [
    "# l_2 distance squared\n",
    "def l2_sq(a, b):\n",
    "    temp = [v**2 for v in a - b]\n",
    "    return np.sum(temp)"
   ]
  },
  {
   "cell_type": "markdown",
   "id": "4521bb82",
   "metadata": {},
   "source": [
    "# Creating Sq-exp Gram matrix for just the baseline covariates"
   ]
  },
  {
   "cell_type": "code",
   "execution_count": 4,
   "id": "73e66fc9",
   "metadata": {},
   "outputs": [],
   "source": [
    "# STANDARD Squared Exponential Kernel function (isotropic scale parameter 'l') for feature vectors x1, x2\n",
    "def K_sqexp(x1, x2, l):\n",
    "        return np.exp(-l2_sq(x1, x2)/(l**2))"
   ]
  },
  {
   "cell_type": "code",
   "execution_count": 5,
   "id": "2dc0c213",
   "metadata": {},
   "outputs": [],
   "source": [
    "def create_sqexp_mat(X_mat, l):\n",
    "    n = len(X_mat)\n",
    "    out = np.zeros(shape = (n, n))\n",
    "    for i in range(n - 1):\n",
    "        for j in range(i + 1, n):\n",
    "            out[j][i] = out[i][j] = K_sqexp(x1 = X_mat[i], x2 = X_mat[j], l = l)\n",
    "    for i in range(n):\n",
    "        out[i][i] = K_sqexp(x1 = X_mat[i], x2 = X_mat[i], l = l)\n",
    "    return out"
   ]
  },
  {
   "cell_type": "code",
   "execution_count": 6,
   "id": "56944c41",
   "metadata": {},
   "outputs": [
    {
     "data": {
      "text/plain": [
       "0.7420747373172563"
      ]
     },
     "execution_count": 6,
     "metadata": {},
     "output_type": "execute_result"
    }
   ],
   "source": [
    "K_X_mat = create_sqexp_mat(X_mat = np.random.normal(size = (100, 10)), l = 1.0e-0)\n",
    "\n",
    "# smallest absolute eigen-value\n",
    "np.min(abs(linalg.eig(K_X_mat)[0]))"
   ]
  },
  {
   "cell_type": "code",
   "execution_count": null,
   "id": "e2c3b2de",
   "metadata": {},
   "outputs": [],
   "source": []
  },
  {
   "cell_type": "markdown",
   "id": "22688180",
   "metadata": {},
   "source": [
    "# Polynomial kernel for d"
   ]
  },
  {
   "cell_type": "markdown",
   "id": "00ac0c7b",
   "metadata": {},
   "source": [
    "$$ K_{l, c_0, p} \\left( \\left( \\boldsymbol{x}_i, d_i \\right), \\left( \\boldsymbol{x}_j, d_j \\right) \\right) \n",
    ":= \\left( c_0 + d_i d_j \\right)^p \\exp \\left[ - \\frac{\\| \\boldsymbol{x}_i - \\boldsymbol{x}_j \\|_2^2}{2 l^2} \\right], \n",
    "\\; l > 0, \\, c_0 > 0, \\, p > 0 $$"
   ]
  },
  {
   "cell_type": "code",
   "execution_count": 7,
   "id": "cb4ca30d",
   "metadata": {},
   "outputs": [],
   "source": [
    "def K_poly_d_mat(d_vec, c_0, p):\n",
    "    n = len(d_vec)\n",
    "    d = np.atleast_2d(d_vec)\n",
    "    out = c_0 + np.matmul(d.reshape(n, 1), d)\n",
    "    return out**p"
   ]
  },
  {
   "cell_type": "code",
   "execution_count": 8,
   "id": "9759a109",
   "metadata": {},
   "outputs": [
    {
     "data": {
      "text/plain": [
       "8.461992121681261e-17"
      ]
     },
     "execution_count": 8,
     "metadata": {},
     "output_type": "execute_result"
    }
   ],
   "source": [
    "KK = K_poly_d_mat(d_vec = np.random.uniform(size = 100), c_0 = 1, p = 2)\n",
    "\n",
    "# smallest absolute eigen-value\n",
    "np.min(abs(linalg.eig(KK)[0]))"
   ]
  },
  {
   "cell_type": "code",
   "execution_count": 9,
   "id": "4b7fd908",
   "metadata": {},
   "outputs": [],
   "source": [
    "def create_K_full(X_mat, d_vec, l, c_0, p):\n",
    "    return np.multiply(create_sqexp_mat(X_mat = X_mat, l = l), K_poly_d_mat(d_vec = d_vec, c_0 = c_0, p = p))"
   ]
  },
  {
   "cell_type": "code",
   "execution_count": 10,
   "id": "91d1b0a2",
   "metadata": {},
   "outputs": [],
   "source": [
    "def create_K_vec(X_mat, d_vec, X_vec, d_scalar, l, c_0, p):\n",
    "    return np.array([((c_0 + d_vec[i]*d_scalar)**p)*K_sqexp(X_mat[i], X_vec, l) for i in range(len(d_vec))])"
   ]
  },
  {
   "cell_type": "code",
   "execution_count": 11,
   "id": "43c94312",
   "metadata": {},
   "outputs": [],
   "source": [
    "K_vec = create_K_vec(X_mat = np.random.normal(size = (100, 10)), d_vec = np.random.uniform(size = 100), \n",
    "             X_vec = np.random.normal(size = 10), d_scalar = 0.9, l = 1.0e+1, c_0 = 1, p = 2)"
   ]
  },
  {
   "cell_type": "code",
   "execution_count": 12,
   "id": "8a15e0e2",
   "metadata": {
    "collapsed": true
   },
   "outputs": [
    {
     "data": {
      "text/plain": [
       "array([1.48016987, 0.77852746, 2.37826717, 2.22660984, 0.70601774,\n",
       "       1.25356748, 1.63049524, 1.66998497, 0.91053847, 0.78732691,\n",
       "       1.18661865, 2.46912951, 0.77969478, 2.26867252, 1.14018744,\n",
       "       1.88538791, 2.12661305, 1.98935676, 0.85464325, 1.98596965,\n",
       "       0.93782706, 0.7487438 , 1.53021811, 1.86234273, 1.78836088,\n",
       "       0.97350167, 1.76950871, 1.71575973, 1.83180581, 1.77976283,\n",
       "       1.96518536, 1.25021504, 1.10666697, 2.93700145, 1.3549606 ,\n",
       "       1.41111625, 2.75418209, 1.58818727, 0.75285226, 2.81978177,\n",
       "       1.18247345, 1.15643875, 2.01591069, 2.20383971, 1.00978956,\n",
       "       2.52250919, 1.2873829 , 2.28074256, 2.02638422, 1.37720469,\n",
       "       0.9093901 , 1.63781129, 2.35306806, 0.91511955, 2.08778574,\n",
       "       2.90411054, 2.31217738, 1.61746537, 1.01319517, 1.71342475,\n",
       "       2.05123914, 1.11661193, 2.30037475, 1.13312525, 1.70042367,\n",
       "       1.58570885, 1.67795831, 2.02172999, 1.73324956, 2.42802125,\n",
       "       1.21379762, 1.33790289, 1.93076928, 1.96004825, 1.64491754,\n",
       "       2.50538981, 0.99178884, 1.08080127, 1.96418686, 0.91672841,\n",
       "       1.95727332, 2.12219656, 1.60080749, 2.37831317, 1.91503583,\n",
       "       1.44939216, 0.77044534, 0.88019159, 0.96337501, 2.42350096,\n",
       "       1.18874722, 1.00055869, 2.12247596, 2.01285497, 1.57710752,\n",
       "       0.98413937, 1.50309935, 0.73171945, 0.70551866, 1.73861269])"
      ]
     },
     "execution_count": 12,
     "metadata": {},
     "output_type": "execute_result"
    }
   ],
   "source": [
    "K_vec"
   ]
  },
  {
   "cell_type": "code",
   "execution_count": null,
   "id": "9a025907",
   "metadata": {
    "collapsed": true
   },
   "outputs": [],
   "source": []
  },
  {
   "cell_type": "code",
   "execution_count": 13,
   "id": "f8fd528e",
   "metadata": {},
   "outputs": [
    {
     "data": {
      "text/plain": [
       "0.00046854090418785744"
      ]
     },
     "execution_count": 13,
     "metadata": {},
     "output_type": "execute_result"
    }
   ],
   "source": [
    "K_full = create_K_full(X_mat = np.random.normal(size = (100, 10)), \n",
    "                       d_vec = np.random.uniform(size = 100), l = 1.0e+1, c_0 = 1, p = 2)\n",
    "\n",
    "# smallest absolute eigen-value\n",
    "np.min(abs(linalg.eig(K_full)[0]))"
   ]
  },
  {
   "cell_type": "code",
   "execution_count": null,
   "id": "7a6f18ce",
   "metadata": {},
   "outputs": [],
   "source": []
  },
  {
   "cell_type": "code",
   "execution_count": 16,
   "id": "4bbb4980",
   "metadata": {},
   "outputs": [
    {
     "name": "stderr",
     "output_type": "stream",
     "text": [
      "INFO:cmdstanjupyter:Reusing cached model file .stan/d_model.stan\n",
      "INFO:cmdstanjupyter:Creating CmdStanPy model & assigning it to variable \"d_model\"\n",
      "INFO:cmdstanjupyter:StanModel now available as variable \"d_model\"!\n",
      " Compilation took a moment.\n"
     ]
    }
   ],
   "source": [
    "%%stan d_model\n",
    "functions{\n",
    "    matrix create_K_new(matrix K_old, vector d, real c_0, int p, int s){\n",
    "      matrix[s, s] K_new = rep_matrix(0, s, s);\n",
    "      for(j in 1:s){\n",
    "        for(i in 1:s){\n",
    "          K_new[i, j] = K_old[i, j] * pow(c_0 + d[i]*d[j], 2);\n",
    "        }\n",
    "      }\n",
    "      return K_new;\n",
    "    }\n",
    "}\n",
    "\n",
    "data{\n",
    "    int<lower = 0> s;\n",
    "    int<lower = 0> p;\n",
    "    vector[s] mu;\n",
    "    real<lower = 0> c_0;\n",
    "    matrix[s, s] K_old;\n",
    "}\n",
    "\n",
    "parameters{\n",
    "    vector<lower=0, upper=1>[s] d;\n",
    "}\n",
    "\n",
    "model{\n",
    "    mu ~ multi_normal(rep_vector(0, s), create_K_new(K_old, d, c_0, p, s));\n",
    "}"
   ]
  },
  {
   "cell_type": "code",
   "execution_count": 19,
   "id": "16f329bb",
   "metadata": {},
   "outputs": [],
   "source": [
    "X_mat = np.random.normal(size = (100, 10))"
   ]
  },
  {
   "cell_type": "code",
   "execution_count": 20,
   "id": "997727aa",
   "metadata": {},
   "outputs": [],
   "source": [
    "K_old = create_sqexp_mat(X_mat = X_mat, l = 1.0e-0)"
   ]
  },
  {
   "cell_type": "code",
   "execution_count": 21,
   "id": "f5b7dbd9",
   "metadata": {},
   "outputs": [],
   "source": [
    "def update_d(mu, K_old, c_0, p):\n",
    "    n = len(mu)\n",
    "    data_d = {'s':n, 'p':p, 'c_0':c_0, 'mu':mu, 'K_old':K_old}\n",
    "    fit_d = d_model.sample(data = data_d)\n",
    "    out = list(fit_d.summary()['Mean'].iloc[1:])\n",
    "    return out"
   ]
  },
  {
   "cell_type": "code",
   "execution_count": 22,
   "id": "8731f632",
   "metadata": {},
   "outputs": [
    {
     "name": "stderr",
     "output_type": "stream",
     "text": [
      "11:18:53 - cmdstanpy - INFO - CmdStan start processing\n"
     ]
    },
    {
     "data": {
      "application/vnd.jupyter.widget-view+json": {
       "model_id": "7081bc20c8d24b3cab0a73b3808cf0b4",
       "version_major": 2,
       "version_minor": 0
      },
      "text/plain": [
       "chain 1 |          | 00:00 Status"
      ]
     },
     "metadata": {},
     "output_type": "display_data"
    },
    {
     "data": {
      "application/vnd.jupyter.widget-view+json": {
       "model_id": "dfa501e36c214797a9a997da4906d106",
       "version_major": 2,
       "version_minor": 0
      },
      "text/plain": [
       "chain 2 |          | 00:00 Status"
      ]
     },
     "metadata": {},
     "output_type": "display_data"
    },
    {
     "data": {
      "application/vnd.jupyter.widget-view+json": {
       "model_id": "b52939cae4a2456aa94ecb3a18437b96",
       "version_major": 2,
       "version_minor": 0
      },
      "text/plain": [
       "chain 3 |          | 00:00 Status"
      ]
     },
     "metadata": {},
     "output_type": "display_data"
    },
    {
     "data": {
      "application/vnd.jupyter.widget-view+json": {
       "model_id": "734514714aaa4527a99087280af4fbd4",
       "version_major": 2,
       "version_minor": 0
      },
      "text/plain": [
       "chain 4 |          | 00:00 Status"
      ]
     },
     "metadata": {},
     "output_type": "display_data"
    },
    {
     "name": "stdout",
     "output_type": "stream",
     "text": [
      "                                                                                                                                                                                                                                                                                                                                "
     ]
    },
    {
     "name": "stderr",
     "output_type": "stream",
     "text": [
      "11:19:22 - cmdstanpy - INFO - CmdStan done processing.\n"
     ]
    },
    {
     "name": "stdout",
     "output_type": "stream",
     "text": [
      "\n"
     ]
    },
    {
     "data": {
      "text/plain": [
       "[0.570753,\n",
       " 0.462308,\n",
       " 0.471192,\n",
       " 0.447672,\n",
       " 0.450299,\n",
       " 0.445949,\n",
       " 0.469429,\n",
       " 0.545888,\n",
       " 0.501364,\n",
       " 0.462751,\n",
       " 0.457581,\n",
       " 0.660607,\n",
       " 0.571283,\n",
       " 0.445263,\n",
       " 0.445074,\n",
       " 0.440335,\n",
       " 0.484717,\n",
       " 0.457859,\n",
       " 0.498027,\n",
       " 0.44548,\n",
       " 0.544465,\n",
       " 0.437027,\n",
       " 0.443597,\n",
       " 0.47099,\n",
       " 0.67156,\n",
       " 0.461011,\n",
       " 0.445493,\n",
       " 0.520573,\n",
       " 0.449803,\n",
       " 0.560025,\n",
       " 0.445603,\n",
       " 0.471202,\n",
       " 0.480248,\n",
       " 0.461441,\n",
       " 0.486353,\n",
       " 0.45281,\n",
       " 0.448198,\n",
       " 0.455391,\n",
       " 0.455714,\n",
       " 0.446298,\n",
       " 0.446862,\n",
       " 0.461866,\n",
       " 0.438055,\n",
       " 0.519999,\n",
       " 0.530621,\n",
       " 0.440859,\n",
       " 0.448102,\n",
       " 0.458867,\n",
       " 0.467877,\n",
       " 0.492764,\n",
       " 0.460293,\n",
       " 0.458217,\n",
       " 0.444741,\n",
       " 0.441376,\n",
       " 0.47392,\n",
       " 0.444132,\n",
       " 0.443121,\n",
       " 0.511839,\n",
       " 0.585612,\n",
       " 0.468521,\n",
       " 0.443255,\n",
       " 0.475209,\n",
       " 0.452988,\n",
       " 0.432882,\n",
       " 0.451159,\n",
       " 0.455594,\n",
       " 0.458169,\n",
       " 0.445143,\n",
       " 0.439785,\n",
       " 0.522119,\n",
       " 0.449947,\n",
       " 0.459953,\n",
       " 0.44951,\n",
       " 0.444926,\n",
       " 0.476498,\n",
       " 0.452737,\n",
       " 0.469509,\n",
       " 0.441997,\n",
       " 0.464663,\n",
       " 0.443307,\n",
       " 0.444333,\n",
       " 0.448548,\n",
       " 0.450622,\n",
       " 0.45355,\n",
       " 0.444223,\n",
       " 0.481038,\n",
       " 0.454997,\n",
       " 0.462086,\n",
       " 0.441975,\n",
       " 0.444645,\n",
       " 0.453878,\n",
       " 0.450762,\n",
       " 0.470366,\n",
       " 0.446275,\n",
       " 0.453853,\n",
       " 0.445428,\n",
       " 0.439266,\n",
       " 0.457853,\n",
       " 0.514846,\n",
       " 0.490646]"
      ]
     },
     "execution_count": 22,
     "metadata": {},
     "output_type": "execute_result"
    }
   ],
   "source": [
    "update_d(mu = np.random.normal(size = 100), K_old = K_old, c_0 = 1, p = 2)"
   ]
  },
  {
   "cell_type": "code",
   "execution_count": null,
   "id": "07bb6e16",
   "metadata": {},
   "outputs": [],
   "source": []
  },
  {
   "cell_type": "code",
   "execution_count": 23,
   "id": "d01c6e43",
   "metadata": {},
   "outputs": [],
   "source": [
    "def GP_mean(Y_vec, X_mat, d_vec, X_vec, d_scalar, l, c_0, p):\n",
    "    n = len(Y_vec)\n",
    "    v = create_K_vec(X_mat, d_vec, X_vec, d_scalar, l, c_0, p)\n",
    "    M = linalg.inv(np.identity(n) + create_K_full(X_mat, d_vec, l, c_0, p))\n",
    "    return np.dot(np.matmul(M, v), Y_vec)"
   ]
  },
  {
   "cell_type": "code",
   "execution_count": 24,
   "id": "7fed3279",
   "metadata": {},
   "outputs": [
    {
     "data": {
      "text/plain": [
       "0.04113693934068077"
      ]
     },
     "execution_count": 24,
     "metadata": {},
     "output_type": "execute_result"
    }
   ],
   "source": [
    "GP_mean(Y_vec = np.random.normal(size = 100), X_mat = np.random.normal(size = (100, 10)),\n",
    "        d_vec = np.random.uniform(size = 100), X_vec = np.random.normal(size = 10), d_scalar = 0.5,\n",
    "        l = 1.0e+1, c_0 = 1, p = 2)"
   ]
  },
  {
   "cell_type": "code",
   "execution_count": null,
   "id": "6b211d1e",
   "metadata": {},
   "outputs": [],
   "source": []
  },
  {
   "cell_type": "code",
   "execution_count": 54,
   "id": "7526781f",
   "metadata": {},
   "outputs": [],
   "source": [
    "def update_mu(Y_vec, X_mat, d_vec, l, c_0, p):\n",
    "    n = len(Y_vec)\n",
    "    K_full = create_K_full(X_mat, d_vec, l, c_0, p)\n",
    "    cov = linalg.inv(linalg.inv(K_full) + np.identity(n))\n",
    "    mu = np.random.multivariate_normal(mean = np.matmul(cov, Y_vec), cov = cov)\n",
    "    return mu"
   ]
  },
  {
   "cell_type": "code",
   "execution_count": 55,
   "id": "7072467d",
   "metadata": {
    "collapsed": true
   },
   "outputs": [
    {
     "data": {
      "text/plain": [
       "array([-2.13055180e-01,  5.43149982e-02,  2.39358780e-01, -1.51678935e-01,\n",
       "       -2.98551782e-01, -2.83907841e-01, -3.22342276e-01, -1.34199253e-03,\n",
       "       -8.51514791e-01,  5.36686172e-01,  2.16246872e-01, -7.96992225e-01,\n",
       "        4.86117810e-01, -1.71659355e-01, -2.81368450e-02, -1.06552803e-01,\n",
       "       -2.04164717e-01, -4.63060944e-01, -1.59444522e-01,  1.08076739e-01,\n",
       "        4.83810191e-01, -5.07474689e-01, -1.20598274e-01, -5.74876037e-01,\n",
       "       -5.60428382e-01,  2.05417722e-01, -1.95237486e-01, -3.48711049e-01,\n",
       "       -8.25243904e-02, -1.42044995e-01, -4.90398507e-01, -2.05859454e-01,\n",
       "       -1.10367043e+00,  9.18609246e-02, -8.78916840e-01, -3.49926905e-01,\n",
       "        6.01024148e-01, -1.24396736e-01, -1.61628450e-02, -9.20182629e-01,\n",
       "        3.55504819e-01,  1.52365159e-01, -1.39848483e-01, -1.76653058e-01,\n",
       "       -4.79201369e-01, -3.93349929e-01,  1.41172234e-01,  5.22327040e-01,\n",
       "        8.29711693e-02, -3.21230930e-01,  1.81868031e-01, -8.91033329e-01,\n",
       "       -1.65078461e-01, -6.41804494e-02,  1.06198288e-01,  5.42524995e-01,\n",
       "       -1.67638483e+00,  2.46109522e-01,  3.33387464e-01,  4.56728965e-01,\n",
       "       -1.37295630e-02,  4.56839164e-01, -4.02945237e-01,  9.59347861e-01,\n",
       "        1.51067232e-01, -7.94525617e-02, -3.08237022e-01,  2.69923123e-01,\n",
       "        2.33970089e-01, -1.09595257e-01,  9.16969527e-01,  1.42168978e-02,\n",
       "        4.34181213e-01,  2.91027440e-01, -4.19639620e-01, -5.54312466e-01,\n",
       "        3.46552279e-01, -1.28151374e-01, -8.03662634e-02, -3.85017225e-01,\n",
       "       -4.51933023e-01,  6.52176417e-01,  3.50419697e-01, -3.80279867e-01,\n",
       "       -9.95638766e-02, -2.33919422e-01, -7.17018410e-02, -1.24421969e-01,\n",
       "       -3.02470346e-01, -7.12528547e-01, -1.40023894e+00,  9.40968059e-01,\n",
       "       -4.20839670e-01,  1.80908033e-01, -6.86065422e-01, -2.21944965e-01,\n",
       "       -7.79009059e-01, -1.07183821e-01, -5.21719804e-01, -5.90516194e-01])"
      ]
     },
     "execution_count": 55,
     "metadata": {},
     "output_type": "execute_result"
    }
   ],
   "source": [
    "update_mu(Y_vec = np.random.normal(size = 100), X_mat = np.random.normal(size = (100, 10)), \n",
    "          d_vec = np.random.uniform(size = 100), l = 1.0e+1, c_0 = 1, p = 2)"
   ]
  },
  {
   "cell_type": "code",
   "execution_count": null,
   "id": "c32c2b55",
   "metadata": {},
   "outputs": [],
   "source": []
  },
  {
   "cell_type": "code",
   "execution_count": 64,
   "id": "5888ceab",
   "metadata": {},
   "outputs": [],
   "source": [
    "def update_all(n_iter, Y_vec, X_mat, l, c_0, p):\n",
    "    n = len(Y_vec)\n",
    "    K_old = create_sqexp_mat(X_mat = X_mat, l = l)\n",
    "    \n",
    "    # initializing\n",
    "    d_vec = np.random.uniform(size = n)\n",
    "    \n",
    "    mu_mat = []\n",
    "    d_mat = []\n",
    "    \n",
    "    # iteration\n",
    "    for j in range(n_iter):\n",
    "        mu = update_mu(Y_vec, X_mat, d_vec, l, c_0, p)\n",
    "        d_vec = update_d(mu, K_old, c_0, p)\n",
    "        \n",
    "        # storing all draws\n",
    "        mu_mat = mu_mat + [mu]\n",
    "        d_mat = d_mat + [d_vec]\n",
    "    return {'mu_mat':np.array(mu_mat), 'd_mat':d_mat}"
   ]
  },
  {
   "cell_type": "markdown",
   "id": "1fb2ed26",
   "metadata": {},
   "source": [
    "## True Y data generation"
   ]
  },
  {
   "cell_type": "code",
   "execution_count": 61,
   "id": "1ac29c7e",
   "metadata": {},
   "outputs": [],
   "source": [
    "# run this only once !!\n",
    "X_given = np.random.normal(size = (100, 10))\n",
    "d_true = np.ones(100)/3"
   ]
  },
  {
   "cell_type": "code",
   "execution_count": 62,
   "id": "d1974ba7",
   "metadata": {},
   "outputs": [],
   "source": [
    "def f_true(X_vec, d_scalar):\n",
    "    return np.dot(X_vec, X_vec)/len(X_vec) + d_scalar**2"
   ]
  },
  {
   "cell_type": "code",
   "execution_count": 63,
   "id": "e1a03466",
   "metadata": {},
   "outputs": [],
   "source": [
    "Y_vec = np.array([f_true(X_vec = X_given[i], d_scalar = d_true[i]) for i in range(len(d_true))])"
   ]
  },
  {
   "cell_type": "code",
   "execution_count": null,
   "id": "429af4f4",
   "metadata": {},
   "outputs": [],
   "source": [
    "update_all(n_iter, Y_vec, X_mat, d_vec, l, c_0, p)"
   ]
  },
  {
   "cell_type": "code",
   "execution_count": 68,
   "id": "fdca911a",
   "metadata": {},
   "outputs": [
    {
     "name": "stderr",
     "output_type": "stream",
     "text": [
      "16:07:05 - cmdstanpy - INFO - CmdStan start processing\n"
     ]
    },
    {
     "data": {
      "application/vnd.jupyter.widget-view+json": {
       "model_id": "cbff7c36c820402e93966bedfcbc51ce",
       "version_major": 2,
       "version_minor": 0
      },
      "text/plain": [
       "chain 1 |          | 00:00 Status"
      ]
     },
     "metadata": {},
     "output_type": "display_data"
    },
    {
     "data": {
      "application/vnd.jupyter.widget-view+json": {
       "model_id": "68a68b2431404ef1b6b3168cc9364040",
       "version_major": 2,
       "version_minor": 0
      },
      "text/plain": [
       "chain 2 |          | 00:00 Status"
      ]
     },
     "metadata": {},
     "output_type": "display_data"
    },
    {
     "data": {
      "application/vnd.jupyter.widget-view+json": {
       "model_id": "59386885cdb14c18802f8cdf504d73cf",
       "version_major": 2,
       "version_minor": 0
      },
      "text/plain": [
       "chain 3 |          | 00:00 Status"
      ]
     },
     "metadata": {},
     "output_type": "display_data"
    },
    {
     "data": {
      "application/vnd.jupyter.widget-view+json": {
       "model_id": "9458065e92124106bd3062aac91a9330",
       "version_major": 2,
       "version_minor": 0
      },
      "text/plain": [
       "chain 4 |          | 00:00 Status"
      ]
     },
     "metadata": {},
     "output_type": "display_data"
    },
    {
     "name": "stdout",
     "output_type": "stream",
     "text": [
      "                                                                                                                                                                                                                                                                                                                                "
     ]
    },
    {
     "name": "stderr",
     "output_type": "stream",
     "text": [
      "16:09:47 - cmdstanpy - INFO - CmdStan done processing.\n"
     ]
    },
    {
     "name": "stdout",
     "output_type": "stream",
     "text": [
      "\n"
     ]
    },
    {
     "name": "stderr",
     "output_type": "stream",
     "text": [
      "16:09:49 - cmdstanpy - INFO - CmdStan start processing\n"
     ]
    },
    {
     "data": {
      "application/vnd.jupyter.widget-view+json": {
       "model_id": "cf4edc6eee834db4895344438081b1ea",
       "version_major": 2,
       "version_minor": 0
      },
      "text/plain": [
       "chain 1 |          | 00:00 Status"
      ]
     },
     "metadata": {},
     "output_type": "display_data"
    },
    {
     "data": {
      "application/vnd.jupyter.widget-view+json": {
       "model_id": "a8578f335e3340ea8666c49327cb838c",
       "version_major": 2,
       "version_minor": 0
      },
      "text/plain": [
       "chain 2 |          | 00:00 Status"
      ]
     },
     "metadata": {},
     "output_type": "display_data"
    },
    {
     "data": {
      "application/vnd.jupyter.widget-view+json": {
       "model_id": "b76b81f7e883451ba03f6404a657add4",
       "version_major": 2,
       "version_minor": 0
      },
      "text/plain": [
       "chain 3 |          | 00:00 Status"
      ]
     },
     "metadata": {},
     "output_type": "display_data"
    },
    {
     "data": {
      "application/vnd.jupyter.widget-view+json": {
       "model_id": "bc8f7fff207640359f979773520c42e9",
       "version_major": 2,
       "version_minor": 0
      },
      "text/plain": [
       "chain 4 |          | 00:00 Status"
      ]
     },
     "metadata": {},
     "output_type": "display_data"
    },
    {
     "name": "stdout",
     "output_type": "stream",
     "text": [
      "                                                                                                                                                                                                                                                                                                                                "
     ]
    },
    {
     "name": "stderr",
     "output_type": "stream",
     "text": [
      "16:10:52 - cmdstanpy - INFO - CmdStan done processing.\n"
     ]
    },
    {
     "name": "stdout",
     "output_type": "stream",
     "text": [
      "\n"
     ]
    },
    {
     "name": "stderr",
     "output_type": "stream",
     "text": [
      "16:10:54 - cmdstanpy - INFO - CmdStan start processing\n"
     ]
    },
    {
     "data": {
      "application/vnd.jupyter.widget-view+json": {
       "model_id": "ba16748c5c2d4b6389d358689d112318",
       "version_major": 2,
       "version_minor": 0
      },
      "text/plain": [
       "chain 1 |          | 00:00 Status"
      ]
     },
     "metadata": {},
     "output_type": "display_data"
    },
    {
     "data": {
      "application/vnd.jupyter.widget-view+json": {
       "model_id": "4bbcfc1b83c4437c9f52befa050e73c4",
       "version_major": 2,
       "version_minor": 0
      },
      "text/plain": [
       "chain 2 |          | 00:00 Status"
      ]
     },
     "metadata": {},
     "output_type": "display_data"
    },
    {
     "data": {
      "application/vnd.jupyter.widget-view+json": {
       "model_id": "41826d10d3f744fabbe126d9391bdcba",
       "version_major": 2,
       "version_minor": 0
      },
      "text/plain": [
       "chain 3 |          | 00:00 Status"
      ]
     },
     "metadata": {},
     "output_type": "display_data"
    },
    {
     "data": {
      "application/vnd.jupyter.widget-view+json": {
       "model_id": "f8b1cfb7c0b44a0296b169dc850f4a3e",
       "version_major": 2,
       "version_minor": 0
      },
      "text/plain": [
       "chain 4 |          | 00:00 Status"
      ]
     },
     "metadata": {},
     "output_type": "display_data"
    },
    {
     "name": "stdout",
     "output_type": "stream",
     "text": [
      "                                                                                                                                                                                                                                                                                                                                "
     ]
    },
    {
     "name": "stderr",
     "output_type": "stream",
     "text": [
      "16:12:27 - cmdstanpy - INFO - CmdStan done processing.\n"
     ]
    },
    {
     "name": "stdout",
     "output_type": "stream",
     "text": [
      "\n"
     ]
    },
    {
     "name": "stderr",
     "output_type": "stream",
     "text": [
      "16:12:28 - cmdstanpy - INFO - CmdStan start processing\n"
     ]
    },
    {
     "data": {
      "application/vnd.jupyter.widget-view+json": {
       "model_id": "c3c39e612f304118abd06e6a1194ed10",
       "version_major": 2,
       "version_minor": 0
      },
      "text/plain": [
       "chain 1 |          | 00:00 Status"
      ]
     },
     "metadata": {},
     "output_type": "display_data"
    },
    {
     "data": {
      "application/vnd.jupyter.widget-view+json": {
       "model_id": "5d38904505494f60ac0b83efdca84d9e",
       "version_major": 2,
       "version_minor": 0
      },
      "text/plain": [
       "chain 2 |          | 00:00 Status"
      ]
     },
     "metadata": {},
     "output_type": "display_data"
    },
    {
     "data": {
      "application/vnd.jupyter.widget-view+json": {
       "model_id": "3c79941ecb5c41baa698b25c48117628",
       "version_major": 2,
       "version_minor": 0
      },
      "text/plain": [
       "chain 3 |          | 00:00 Status"
      ]
     },
     "metadata": {},
     "output_type": "display_data"
    },
    {
     "data": {
      "application/vnd.jupyter.widget-view+json": {
       "model_id": "8b8e2a3064da4ee99f433bcfbf6ccec1",
       "version_major": 2,
       "version_minor": 0
      },
      "text/plain": [
       "chain 4 |          | 00:00 Status"
      ]
     },
     "metadata": {},
     "output_type": "display_data"
    },
    {
     "name": "stdout",
     "output_type": "stream",
     "text": [
      "                                                                                                                                                                                                                                                                                                                                "
     ]
    },
    {
     "name": "stderr",
     "output_type": "stream",
     "text": [
      "16:13:26 - cmdstanpy - INFO - CmdStan done processing.\n"
     ]
    },
    {
     "name": "stdout",
     "output_type": "stream",
     "text": [
      "\n"
     ]
    },
    {
     "name": "stderr",
     "output_type": "stream",
     "text": [
      "16:13:27 - cmdstanpy - INFO - CmdStan start processing\n"
     ]
    },
    {
     "data": {
      "application/vnd.jupyter.widget-view+json": {
       "model_id": "ec76cf9b63444d0ca7abb186d6d0e565",
       "version_major": 2,
       "version_minor": 0
      },
      "text/plain": [
       "chain 1 |          | 00:00 Status"
      ]
     },
     "metadata": {},
     "output_type": "display_data"
    },
    {
     "data": {
      "application/vnd.jupyter.widget-view+json": {
       "model_id": "3c07f72e26614c90acdb55105e0157a9",
       "version_major": 2,
       "version_minor": 0
      },
      "text/plain": [
       "chain 2 |          | 00:00 Status"
      ]
     },
     "metadata": {},
     "output_type": "display_data"
    },
    {
     "data": {
      "application/vnd.jupyter.widget-view+json": {
       "model_id": "c78228ee62324df1975a913c02221765",
       "version_major": 2,
       "version_minor": 0
      },
      "text/plain": [
       "chain 3 |          | 00:00 Status"
      ]
     },
     "metadata": {},
     "output_type": "display_data"
    },
    {
     "data": {
      "application/vnd.jupyter.widget-view+json": {
       "model_id": "e19caf6be8b44e9796802042b7e48100",
       "version_major": 2,
       "version_minor": 0
      },
      "text/plain": [
       "chain 4 |          | 00:00 Status"
      ]
     },
     "metadata": {},
     "output_type": "display_data"
    },
    {
     "name": "stdout",
     "output_type": "stream",
     "text": [
      "                                                                                                                                                                                                                                                                                                                                "
     ]
    },
    {
     "name": "stderr",
     "output_type": "stream",
     "text": [
      "16:14:40 - cmdstanpy - INFO - CmdStan done processing.\n"
     ]
    },
    {
     "name": "stdout",
     "output_type": "stream",
     "text": [
      "\n"
     ]
    },
    {
     "name": "stderr",
     "output_type": "stream",
     "text": [
      "16:14:41 - cmdstanpy - INFO - CmdStan start processing\n"
     ]
    },
    {
     "data": {
      "application/vnd.jupyter.widget-view+json": {
       "model_id": "6d4e3876fabe45308c40e0ca4fbc534f",
       "version_major": 2,
       "version_minor": 0
      },
      "text/plain": [
       "chain 1 |          | 00:00 Status"
      ]
     },
     "metadata": {},
     "output_type": "display_data"
    },
    {
     "data": {
      "application/vnd.jupyter.widget-view+json": {
       "model_id": "7271c23c4319466f8ad21811eedc3d99",
       "version_major": 2,
       "version_minor": 0
      },
      "text/plain": [
       "chain 2 |          | 00:00 Status"
      ]
     },
     "metadata": {},
     "output_type": "display_data"
    },
    {
     "data": {
      "application/vnd.jupyter.widget-view+json": {
       "model_id": "a3f2089e2e694267b7f92bf5d0bf28df",
       "version_major": 2,
       "version_minor": 0
      },
      "text/plain": [
       "chain 3 |          | 00:00 Status"
      ]
     },
     "metadata": {},
     "output_type": "display_data"
    },
    {
     "data": {
      "application/vnd.jupyter.widget-view+json": {
       "model_id": "4285bda368cb4670b8774b98bd4288e7",
       "version_major": 2,
       "version_minor": 0
      },
      "text/plain": [
       "chain 4 |          | 00:00 Status"
      ]
     },
     "metadata": {},
     "output_type": "display_data"
    },
    {
     "name": "stdout",
     "output_type": "stream",
     "text": [
      "                                                                                                                                                                                                                                                                                                                                "
     ]
    },
    {
     "name": "stderr",
     "output_type": "stream",
     "text": [
      "16:15:31 - cmdstanpy - INFO - CmdStan done processing.\n"
     ]
    },
    {
     "name": "stdout",
     "output_type": "stream",
     "text": [
      "\n"
     ]
    },
    {
     "name": "stderr",
     "output_type": "stream",
     "text": [
      "16:15:33 - cmdstanpy - INFO - CmdStan start processing\n"
     ]
    },
    {
     "data": {
      "application/vnd.jupyter.widget-view+json": {
       "model_id": "ea055dd704d94a6db28c7463969718bb",
       "version_major": 2,
       "version_minor": 0
      },
      "text/plain": [
       "chain 1 |          | 00:00 Status"
      ]
     },
     "metadata": {},
     "output_type": "display_data"
    },
    {
     "data": {
      "application/vnd.jupyter.widget-view+json": {
       "model_id": "a7ea318ef7554d92936a8ea81a07870f",
       "version_major": 2,
       "version_minor": 0
      },
      "text/plain": [
       "chain 2 |          | 00:00 Status"
      ]
     },
     "metadata": {},
     "output_type": "display_data"
    },
    {
     "data": {
      "application/vnd.jupyter.widget-view+json": {
       "model_id": "cd418cc0b22846eb80e5ee62e4047db4",
       "version_major": 2,
       "version_minor": 0
      },
      "text/plain": [
       "chain 3 |          | 00:00 Status"
      ]
     },
     "metadata": {},
     "output_type": "display_data"
    },
    {
     "data": {
      "application/vnd.jupyter.widget-view+json": {
       "model_id": "5a7d24536eef4b418e7386dc3fb5ee76",
       "version_major": 2,
       "version_minor": 0
      },
      "text/plain": [
       "chain 4 |          | 00:00 Status"
      ]
     },
     "metadata": {},
     "output_type": "display_data"
    },
    {
     "name": "stdout",
     "output_type": "stream",
     "text": [
      "                                                                                                                                                                                                                                                                                                                                "
     ]
    },
    {
     "name": "stderr",
     "output_type": "stream",
     "text": [
      "16:16:16 - cmdstanpy - INFO - CmdStan done processing.\n"
     ]
    },
    {
     "name": "stdout",
     "output_type": "stream",
     "text": [
      "\n"
     ]
    },
    {
     "name": "stderr",
     "output_type": "stream",
     "text": [
      "16:16:18 - cmdstanpy - INFO - CmdStan start processing\n"
     ]
    },
    {
     "data": {
      "application/vnd.jupyter.widget-view+json": {
       "model_id": "cfb927a4501b452896ed8bfabcb254c5",
       "version_major": 2,
       "version_minor": 0
      },
      "text/plain": [
       "chain 1 |          | 00:00 Status"
      ]
     },
     "metadata": {},
     "output_type": "display_data"
    },
    {
     "data": {
      "application/vnd.jupyter.widget-view+json": {
       "model_id": "0386078c5c274d08b4f1e383bff6a02d",
       "version_major": 2,
       "version_minor": 0
      },
      "text/plain": [
       "chain 2 |          | 00:00 Status"
      ]
     },
     "metadata": {},
     "output_type": "display_data"
    },
    {
     "data": {
      "application/vnd.jupyter.widget-view+json": {
       "model_id": "c47908c88c084b90ba977caad9665bba",
       "version_major": 2,
       "version_minor": 0
      },
      "text/plain": [
       "chain 3 |          | 00:00 Status"
      ]
     },
     "metadata": {},
     "output_type": "display_data"
    },
    {
     "data": {
      "application/vnd.jupyter.widget-view+json": {
       "model_id": "709ce58b5fb24dcbac3827caf1babe6e",
       "version_major": 2,
       "version_minor": 0
      },
      "text/plain": [
       "chain 4 |          | 00:00 Status"
      ]
     },
     "metadata": {},
     "output_type": "display_data"
    },
    {
     "name": "stdout",
     "output_type": "stream",
     "text": [
      "                                                                                                                                                                                                                                                                                                                                "
     ]
    },
    {
     "name": "stderr",
     "output_type": "stream",
     "text": [
      "16:17:12 - cmdstanpy - INFO - CmdStan done processing.\n"
     ]
    },
    {
     "name": "stdout",
     "output_type": "stream",
     "text": [
      "\n"
     ]
    },
    {
     "name": "stderr",
     "output_type": "stream",
     "text": [
      "16:17:13 - cmdstanpy - INFO - CmdStan start processing\n"
     ]
    },
    {
     "data": {
      "application/vnd.jupyter.widget-view+json": {
       "model_id": "3b1ab21856884ea396613f1833b09d8d",
       "version_major": 2,
       "version_minor": 0
      },
      "text/plain": [
       "chain 1 |          | 00:00 Status"
      ]
     },
     "metadata": {},
     "output_type": "display_data"
    },
    {
     "data": {
      "application/vnd.jupyter.widget-view+json": {
       "model_id": "43a252e998ae4a78bf43eba49f2e0ef9",
       "version_major": 2,
       "version_minor": 0
      },
      "text/plain": [
       "chain 2 |          | 00:00 Status"
      ]
     },
     "metadata": {},
     "output_type": "display_data"
    },
    {
     "data": {
      "application/vnd.jupyter.widget-view+json": {
       "model_id": "fe1f02d0d4a24214b5672c5057a14ef6",
       "version_major": 2,
       "version_minor": 0
      },
      "text/plain": [
       "chain 3 |          | 00:00 Status"
      ]
     },
     "metadata": {},
     "output_type": "display_data"
    },
    {
     "data": {
      "application/vnd.jupyter.widget-view+json": {
       "model_id": "903a4f320d724484af15aa456a4b37bb",
       "version_major": 2,
       "version_minor": 0
      },
      "text/plain": [
       "chain 4 |          | 00:00 Status"
      ]
     },
     "metadata": {},
     "output_type": "display_data"
    },
    {
     "name": "stdout",
     "output_type": "stream",
     "text": [
      "                                                                                                                                                                                                                                                                                                                                "
     ]
    },
    {
     "name": "stderr",
     "output_type": "stream",
     "text": [
      "16:18:33 - cmdstanpy - INFO - CmdStan done processing.\n"
     ]
    },
    {
     "name": "stdout",
     "output_type": "stream",
     "text": [
      "\n"
     ]
    },
    {
     "name": "stderr",
     "output_type": "stream",
     "text": [
      "16:18:35 - cmdstanpy - INFO - CmdStan start processing\n"
     ]
    },
    {
     "data": {
      "application/vnd.jupyter.widget-view+json": {
       "model_id": "070452fb48344f29ad13a472863198c3",
       "version_major": 2,
       "version_minor": 0
      },
      "text/plain": [
       "chain 1 |          | 00:00 Status"
      ]
     },
     "metadata": {},
     "output_type": "display_data"
    },
    {
     "data": {
      "application/vnd.jupyter.widget-view+json": {
       "model_id": "8840c89bb241442c9ccf3ec3b0f8d0ee",
       "version_major": 2,
       "version_minor": 0
      },
      "text/plain": [
       "chain 2 |          | 00:00 Status"
      ]
     },
     "metadata": {},
     "output_type": "display_data"
    },
    {
     "data": {
      "application/vnd.jupyter.widget-view+json": {
       "model_id": "0150cdef63364d378a55e90864ef09ea",
       "version_major": 2,
       "version_minor": 0
      },
      "text/plain": [
       "chain 3 |          | 00:00 Status"
      ]
     },
     "metadata": {},
     "output_type": "display_data"
    },
    {
     "data": {
      "application/vnd.jupyter.widget-view+json": {
       "model_id": "42275d1fed1e4e329f5f101940d83237",
       "version_major": 2,
       "version_minor": 0
      },
      "text/plain": [
       "chain 4 |          | 00:00 Status"
      ]
     },
     "metadata": {},
     "output_type": "display_data"
    },
    {
     "name": "stdout",
     "output_type": "stream",
     "text": [
      "                                                                                                                                                                                                                                                                                                                                "
     ]
    },
    {
     "name": "stderr",
     "output_type": "stream",
     "text": [
      "16:19:30 - cmdstanpy - INFO - CmdStan done processing.\n"
     ]
    },
    {
     "name": "stdout",
     "output_type": "stream",
     "text": [
      "\n"
     ]
    },
    {
     "name": "stderr",
     "output_type": "stream",
     "text": [
      "16:19:32 - cmdstanpy - INFO - CmdStan start processing\n"
     ]
    },
    {
     "data": {
      "application/vnd.jupyter.widget-view+json": {
       "model_id": "32b98f214adf4177ab9545869f589a61",
       "version_major": 2,
       "version_minor": 0
      },
      "text/plain": [
       "chain 1 |          | 00:00 Status"
      ]
     },
     "metadata": {},
     "output_type": "display_data"
    },
    {
     "data": {
      "application/vnd.jupyter.widget-view+json": {
       "model_id": "eadcc28f272b41318d993411250013ab",
       "version_major": 2,
       "version_minor": 0
      },
      "text/plain": [
       "chain 2 |          | 00:00 Status"
      ]
     },
     "metadata": {},
     "output_type": "display_data"
    },
    {
     "data": {
      "application/vnd.jupyter.widget-view+json": {
       "model_id": "482be1a4d1454da380739e624507b6d1",
       "version_major": 2,
       "version_minor": 0
      },
      "text/plain": [
       "chain 3 |          | 00:00 Status"
      ]
     },
     "metadata": {},
     "output_type": "display_data"
    },
    {
     "data": {
      "application/vnd.jupyter.widget-view+json": {
       "model_id": "db84f87dd04742ddbd1a8a8036460630",
       "version_major": 2,
       "version_minor": 0
      },
      "text/plain": [
       "chain 4 |          | 00:00 Status"
      ]
     },
     "metadata": {},
     "output_type": "display_data"
    },
    {
     "name": "stdout",
     "output_type": "stream",
     "text": [
      "                                                                                                                                                                                                                                                                                                                                "
     ]
    },
    {
     "name": "stderr",
     "output_type": "stream",
     "text": [
      "16:21:00 - cmdstanpy - INFO - CmdStan done processing.\n"
     ]
    },
    {
     "name": "stdout",
     "output_type": "stream",
     "text": [
      "\n"
     ]
    },
    {
     "name": "stderr",
     "output_type": "stream",
     "text": [
      "16:21:02 - cmdstanpy - INFO - CmdStan start processing\n"
     ]
    },
    {
     "data": {
      "application/vnd.jupyter.widget-view+json": {
       "model_id": "efbf568af71043b9a8bd0eec942d1a17",
       "version_major": 2,
       "version_minor": 0
      },
      "text/plain": [
       "chain 1 |          | 00:00 Status"
      ]
     },
     "metadata": {},
     "output_type": "display_data"
    },
    {
     "data": {
      "application/vnd.jupyter.widget-view+json": {
       "model_id": "f08a3acaec464cefa051490eb6822e29",
       "version_major": 2,
       "version_minor": 0
      },
      "text/plain": [
       "chain 2 |          | 00:00 Status"
      ]
     },
     "metadata": {},
     "output_type": "display_data"
    },
    {
     "data": {
      "application/vnd.jupyter.widget-view+json": {
       "model_id": "bb34b0c2de1c4610bfae219784aaea20",
       "version_major": 2,
       "version_minor": 0
      },
      "text/plain": [
       "chain 3 |          | 00:00 Status"
      ]
     },
     "metadata": {},
     "output_type": "display_data"
    },
    {
     "data": {
      "application/vnd.jupyter.widget-view+json": {
       "model_id": "cc0fad1a44ce48fa80602dc8b17b498a",
       "version_major": 2,
       "version_minor": 0
      },
      "text/plain": [
       "chain 4 |          | 00:00 Status"
      ]
     },
     "metadata": {},
     "output_type": "display_data"
    },
    {
     "name": "stdout",
     "output_type": "stream",
     "text": [
      "                                                                                                                                                                                                                                                                                                                                "
     ]
    },
    {
     "name": "stderr",
     "output_type": "stream",
     "text": [
      "16:21:59 - cmdstanpy - INFO - CmdStan done processing.\n"
     ]
    },
    {
     "name": "stdout",
     "output_type": "stream",
     "text": [
      "\n"
     ]
    },
    {
     "name": "stderr",
     "output_type": "stream",
     "text": [
      "16:22:01 - cmdstanpy - INFO - CmdStan start processing\n"
     ]
    },
    {
     "data": {
      "application/vnd.jupyter.widget-view+json": {
       "model_id": "da68372e859c4a0fba1d236f8daf227a",
       "version_major": 2,
       "version_minor": 0
      },
      "text/plain": [
       "chain 1 |          | 00:00 Status"
      ]
     },
     "metadata": {},
     "output_type": "display_data"
    },
    {
     "data": {
      "application/vnd.jupyter.widget-view+json": {
       "model_id": "9d99497cb91543afb29606f41d3746a0",
       "version_major": 2,
       "version_minor": 0
      },
      "text/plain": [
       "chain 2 |          | 00:00 Status"
      ]
     },
     "metadata": {},
     "output_type": "display_data"
    },
    {
     "data": {
      "application/vnd.jupyter.widget-view+json": {
       "model_id": "78283d26cef74c948c5a31cd49d3305f",
       "version_major": 2,
       "version_minor": 0
      },
      "text/plain": [
       "chain 3 |          | 00:00 Status"
      ]
     },
     "metadata": {},
     "output_type": "display_data"
    },
    {
     "data": {
      "application/vnd.jupyter.widget-view+json": {
       "model_id": "ecb88a74d28c4edb9dff3b93ed2f9216",
       "version_major": 2,
       "version_minor": 0
      },
      "text/plain": [
       "chain 4 |          | 00:00 Status"
      ]
     },
     "metadata": {},
     "output_type": "display_data"
    },
    {
     "name": "stdout",
     "output_type": "stream",
     "text": [
      "                                                                                                                                                                                                                                                                                                                                "
     ]
    },
    {
     "name": "stderr",
     "output_type": "stream",
     "text": [
      "16:23:16 - cmdstanpy - INFO - CmdStan done processing.\n"
     ]
    },
    {
     "name": "stdout",
     "output_type": "stream",
     "text": [
      "\n"
     ]
    },
    {
     "name": "stderr",
     "output_type": "stream",
     "text": [
      "16:23:17 - cmdstanpy - INFO - CmdStan start processing\n"
     ]
    },
    {
     "data": {
      "application/vnd.jupyter.widget-view+json": {
       "model_id": "5934535499fb4750b642d0d8f7d6e4fb",
       "version_major": 2,
       "version_minor": 0
      },
      "text/plain": [
       "chain 1 |          | 00:00 Status"
      ]
     },
     "metadata": {},
     "output_type": "display_data"
    },
    {
     "data": {
      "application/vnd.jupyter.widget-view+json": {
       "model_id": "995604208bff45148d69b7a4d596a182",
       "version_major": 2,
       "version_minor": 0
      },
      "text/plain": [
       "chain 2 |          | 00:00 Status"
      ]
     },
     "metadata": {},
     "output_type": "display_data"
    },
    {
     "data": {
      "application/vnd.jupyter.widget-view+json": {
       "model_id": "06dadefdcb6e49919b6b900ddcd26a44",
       "version_major": 2,
       "version_minor": 0
      },
      "text/plain": [
       "chain 3 |          | 00:00 Status"
      ]
     },
     "metadata": {},
     "output_type": "display_data"
    },
    {
     "data": {
      "application/vnd.jupyter.widget-view+json": {
       "model_id": "ad22cd20195e46c2819c066f396a5e3c",
       "version_major": 2,
       "version_minor": 0
      },
      "text/plain": [
       "chain 4 |          | 00:00 Status"
      ]
     },
     "metadata": {},
     "output_type": "display_data"
    },
    {
     "name": "stdout",
     "output_type": "stream",
     "text": [
      "                                                                                                                                                                                                                                                                                                                                "
     ]
    },
    {
     "name": "stderr",
     "output_type": "stream",
     "text": [
      "16:24:10 - cmdstanpy - INFO - CmdStan done processing.\n"
     ]
    },
    {
     "name": "stdout",
     "output_type": "stream",
     "text": [
      "\n"
     ]
    },
    {
     "name": "stderr",
     "output_type": "stream",
     "text": [
      "16:24:11 - cmdstanpy - INFO - CmdStan start processing\n"
     ]
    },
    {
     "data": {
      "application/vnd.jupyter.widget-view+json": {
       "model_id": "f75cbcaaeec54846b2c70be7bd5ba199",
       "version_major": 2,
       "version_minor": 0
      },
      "text/plain": [
       "chain 1 |          | 00:00 Status"
      ]
     },
     "metadata": {},
     "output_type": "display_data"
    },
    {
     "data": {
      "application/vnd.jupyter.widget-view+json": {
       "model_id": "083ff67248fc472e9fe453526db09de2",
       "version_major": 2,
       "version_minor": 0
      },
      "text/plain": [
       "chain 2 |          | 00:00 Status"
      ]
     },
     "metadata": {},
     "output_type": "display_data"
    },
    {
     "data": {
      "application/vnd.jupyter.widget-view+json": {
       "model_id": "e175bdeef1d04a25b6cc9765b1828378",
       "version_major": 2,
       "version_minor": 0
      },
      "text/plain": [
       "chain 3 |          | 00:00 Status"
      ]
     },
     "metadata": {},
     "output_type": "display_data"
    },
    {
     "data": {
      "application/vnd.jupyter.widget-view+json": {
       "model_id": "e1df03a55fa14af2bcfd90e6dc33b3ed",
       "version_major": 2,
       "version_minor": 0
      },
      "text/plain": [
       "chain 4 |          | 00:00 Status"
      ]
     },
     "metadata": {},
     "output_type": "display_data"
    },
    {
     "name": "stdout",
     "output_type": "stream",
     "text": [
      "                                                                                                                                                                                                                                                                                                                                "
     ]
    },
    {
     "name": "stderr",
     "output_type": "stream",
     "text": [
      "16:25:05 - cmdstanpy - INFO - CmdStan done processing.\n"
     ]
    },
    {
     "name": "stdout",
     "output_type": "stream",
     "text": [
      "\n"
     ]
    },
    {
     "name": "stderr",
     "output_type": "stream",
     "text": [
      "16:25:06 - cmdstanpy - INFO - CmdStan start processing\n"
     ]
    },
    {
     "data": {
      "application/vnd.jupyter.widget-view+json": {
       "model_id": "d63c9fb49f034b96953e31650355b99a",
       "version_major": 2,
       "version_minor": 0
      },
      "text/plain": [
       "chain 1 |          | 00:00 Status"
      ]
     },
     "metadata": {},
     "output_type": "display_data"
    },
    {
     "data": {
      "application/vnd.jupyter.widget-view+json": {
       "model_id": "cf8859f8077d44ccb971ac37c9a2e8c1",
       "version_major": 2,
       "version_minor": 0
      },
      "text/plain": [
       "chain 2 |          | 00:00 Status"
      ]
     },
     "metadata": {},
     "output_type": "display_data"
    },
    {
     "data": {
      "application/vnd.jupyter.widget-view+json": {
       "model_id": "f9b04f810f4f45ddb37fb68039f3ce03",
       "version_major": 2,
       "version_minor": 0
      },
      "text/plain": [
       "chain 3 |          | 00:00 Status"
      ]
     },
     "metadata": {},
     "output_type": "display_data"
    },
    {
     "data": {
      "application/vnd.jupyter.widget-view+json": {
       "model_id": "0d7f61f792034337bd8bd3f2ce470ee6",
       "version_major": 2,
       "version_minor": 0
      },
      "text/plain": [
       "chain 4 |          | 00:00 Status"
      ]
     },
     "metadata": {},
     "output_type": "display_data"
    },
    {
     "name": "stdout",
     "output_type": "stream",
     "text": [
      "                                                                                                                                                                                                                                                                                                                                "
     ]
    },
    {
     "name": "stderr",
     "output_type": "stream",
     "text": [
      "16:26:54 - cmdstanpy - INFO - CmdStan done processing.\n"
     ]
    },
    {
     "name": "stdout",
     "output_type": "stream",
     "text": [
      "\n"
     ]
    },
    {
     "name": "stderr",
     "output_type": "stream",
     "text": [
      "16:26:56 - cmdstanpy - INFO - CmdStan start processing\n"
     ]
    },
    {
     "data": {
      "application/vnd.jupyter.widget-view+json": {
       "model_id": "cab2c3bbffeb4bf9bc016f1681273e86",
       "version_major": 2,
       "version_minor": 0
      },
      "text/plain": [
       "chain 1 |          | 00:00 Status"
      ]
     },
     "metadata": {},
     "output_type": "display_data"
    },
    {
     "data": {
      "application/vnd.jupyter.widget-view+json": {
       "model_id": "f769ed32e95e48f9b138fb463035c123",
       "version_major": 2,
       "version_minor": 0
      },
      "text/plain": [
       "chain 2 |          | 00:00 Status"
      ]
     },
     "metadata": {},
     "output_type": "display_data"
    },
    {
     "data": {
      "application/vnd.jupyter.widget-view+json": {
       "model_id": "747c8086719e46b3848d6788cc704c6a",
       "version_major": 2,
       "version_minor": 0
      },
      "text/plain": [
       "chain 3 |          | 00:00 Status"
      ]
     },
     "metadata": {},
     "output_type": "display_data"
    },
    {
     "data": {
      "application/vnd.jupyter.widget-view+json": {
       "model_id": "2bb67de4bf6d46868b44dd5e56a76411",
       "version_major": 2,
       "version_minor": 0
      },
      "text/plain": [
       "chain 4 |          | 00:00 Status"
      ]
     },
     "metadata": {},
     "output_type": "display_data"
    },
    {
     "name": "stdout",
     "output_type": "stream",
     "text": [
      "                                                                                                                                                                                                                                                                                                                                "
     ]
    },
    {
     "name": "stderr",
     "output_type": "stream",
     "text": [
      "16:28:34 - cmdstanpy - INFO - CmdStan done processing.\n"
     ]
    },
    {
     "name": "stdout",
     "output_type": "stream",
     "text": [
      "\n"
     ]
    },
    {
     "name": "stderr",
     "output_type": "stream",
     "text": [
      "16:28:36 - cmdstanpy - INFO - CmdStan start processing\n"
     ]
    },
    {
     "data": {
      "application/vnd.jupyter.widget-view+json": {
       "model_id": "49ac517546ca4df2a8c960e0a5f461e0",
       "version_major": 2,
       "version_minor": 0
      },
      "text/plain": [
       "chain 1 |          | 00:00 Status"
      ]
     },
     "metadata": {},
     "output_type": "display_data"
    },
    {
     "data": {
      "application/vnd.jupyter.widget-view+json": {
       "model_id": "4fab1ffcac8a4fe791b72eadaf280db0",
       "version_major": 2,
       "version_minor": 0
      },
      "text/plain": [
       "chain 2 |          | 00:00 Status"
      ]
     },
     "metadata": {},
     "output_type": "display_data"
    },
    {
     "data": {
      "application/vnd.jupyter.widget-view+json": {
       "model_id": "1a917239a8ac401abe9de0ad2583d5c7",
       "version_major": 2,
       "version_minor": 0
      },
      "text/plain": [
       "chain 3 |          | 00:00 Status"
      ]
     },
     "metadata": {},
     "output_type": "display_data"
    },
    {
     "data": {
      "application/vnd.jupyter.widget-view+json": {
       "model_id": "3279835b22554674adef75faaa6a6204",
       "version_major": 2,
       "version_minor": 0
      },
      "text/plain": [
       "chain 4 |          | 00:00 Status"
      ]
     },
     "metadata": {},
     "output_type": "display_data"
    },
    {
     "name": "stdout",
     "output_type": "stream",
     "text": [
      "                                                                                                                                                                                                                                                                                                                                "
     ]
    },
    {
     "name": "stderr",
     "output_type": "stream",
     "text": [
      "16:29:31 - cmdstanpy - INFO - CmdStan done processing.\n"
     ]
    },
    {
     "name": "stdout",
     "output_type": "stream",
     "text": [
      "\n"
     ]
    },
    {
     "name": "stderr",
     "output_type": "stream",
     "text": [
      "16:29:33 - cmdstanpy - INFO - CmdStan start processing\n"
     ]
    },
    {
     "data": {
      "application/vnd.jupyter.widget-view+json": {
       "model_id": "324ca515fb03476f8c6e70541e86b4b5",
       "version_major": 2,
       "version_minor": 0
      },
      "text/plain": [
       "chain 1 |          | 00:00 Status"
      ]
     },
     "metadata": {},
     "output_type": "display_data"
    },
    {
     "data": {
      "application/vnd.jupyter.widget-view+json": {
       "model_id": "7bdc2a59a2e54421811c23beac6923ae",
       "version_major": 2,
       "version_minor": 0
      },
      "text/plain": [
       "chain 2 |          | 00:00 Status"
      ]
     },
     "metadata": {},
     "output_type": "display_data"
    },
    {
     "data": {
      "application/vnd.jupyter.widget-view+json": {
       "model_id": "5623ac9ae14c4d42bbfa93173338681b",
       "version_major": 2,
       "version_minor": 0
      },
      "text/plain": [
       "chain 3 |          | 00:00 Status"
      ]
     },
     "metadata": {},
     "output_type": "display_data"
    },
    {
     "data": {
      "application/vnd.jupyter.widget-view+json": {
       "model_id": "30b8be05b9d34b4090e5310a6a08b415",
       "version_major": 2,
       "version_minor": 0
      },
      "text/plain": [
       "chain 4 |          | 00:00 Status"
      ]
     },
     "metadata": {},
     "output_type": "display_data"
    },
    {
     "name": "stdout",
     "output_type": "stream",
     "text": [
      "                                                                                                                                                                                                                                                                                                                                "
     ]
    },
    {
     "name": "stderr",
     "output_type": "stream",
     "text": [
      "16:30:26 - cmdstanpy - INFO - CmdStan done processing.\n"
     ]
    },
    {
     "name": "stdout",
     "output_type": "stream",
     "text": [
      "\n"
     ]
    },
    {
     "name": "stderr",
     "output_type": "stream",
     "text": [
      "16:30:28 - cmdstanpy - INFO - CmdStan start processing\n"
     ]
    },
    {
     "data": {
      "application/vnd.jupyter.widget-view+json": {
       "model_id": "90cb6e56328b49eea816251515a177a8",
       "version_major": 2,
       "version_minor": 0
      },
      "text/plain": [
       "chain 1 |          | 00:00 Status"
      ]
     },
     "metadata": {},
     "output_type": "display_data"
    },
    {
     "data": {
      "application/vnd.jupyter.widget-view+json": {
       "model_id": "34f5fd70aaa8425792ae564270cef75e",
       "version_major": 2,
       "version_minor": 0
      },
      "text/plain": [
       "chain 2 |          | 00:00 Status"
      ]
     },
     "metadata": {},
     "output_type": "display_data"
    },
    {
     "data": {
      "application/vnd.jupyter.widget-view+json": {
       "model_id": "7103fcb4ae304110b89e0e0d0d25fcc6",
       "version_major": 2,
       "version_minor": 0
      },
      "text/plain": [
       "chain 3 |          | 00:00 Status"
      ]
     },
     "metadata": {},
     "output_type": "display_data"
    },
    {
     "data": {
      "application/vnd.jupyter.widget-view+json": {
       "model_id": "3e9dff075ef64d5194746f86d56a1c2e",
       "version_major": 2,
       "version_minor": 0
      },
      "text/plain": [
       "chain 4 |          | 00:00 Status"
      ]
     },
     "metadata": {},
     "output_type": "display_data"
    },
    {
     "name": "stdout",
     "output_type": "stream",
     "text": [
      "                                                                                                                                                                                                                                                                                                                                "
     ]
    },
    {
     "name": "stderr",
     "output_type": "stream",
     "text": [
      "16:31:37 - cmdstanpy - INFO - CmdStan done processing.\n"
     ]
    },
    {
     "name": "stdout",
     "output_type": "stream",
     "text": [
      "\n"
     ]
    },
    {
     "name": "stderr",
     "output_type": "stream",
     "text": [
      "16:31:39 - cmdstanpy - INFO - CmdStan start processing\n"
     ]
    },
    {
     "data": {
      "application/vnd.jupyter.widget-view+json": {
       "model_id": "046b34cbcdd44f729d1f32cce8767ff9",
       "version_major": 2,
       "version_minor": 0
      },
      "text/plain": [
       "chain 1 |          | 00:00 Status"
      ]
     },
     "metadata": {},
     "output_type": "display_data"
    },
    {
     "data": {
      "application/vnd.jupyter.widget-view+json": {
       "model_id": "8bab6ce9a7c147cba5da4708ade9df0e",
       "version_major": 2,
       "version_minor": 0
      },
      "text/plain": [
       "chain 2 |          | 00:00 Status"
      ]
     },
     "metadata": {},
     "output_type": "display_data"
    },
    {
     "data": {
      "application/vnd.jupyter.widget-view+json": {
       "model_id": "793abc1955454fdb805a829070f6c9f7",
       "version_major": 2,
       "version_minor": 0
      },
      "text/plain": [
       "chain 3 |          | 00:00 Status"
      ]
     },
     "metadata": {},
     "output_type": "display_data"
    },
    {
     "data": {
      "application/vnd.jupyter.widget-view+json": {
       "model_id": "38eb76705cb1433b9d67e55be8ef026c",
       "version_major": 2,
       "version_minor": 0
      },
      "text/plain": [
       "chain 4 |          | 00:00 Status"
      ]
     },
     "metadata": {},
     "output_type": "display_data"
    },
    {
     "name": "stdout",
     "output_type": "stream",
     "text": [
      "                                                                                                                                                                                                                                                                                                                                "
     ]
    },
    {
     "name": "stderr",
     "output_type": "stream",
     "text": [
      "16:34:27 - cmdstanpy - INFO - CmdStan done processing.\n"
     ]
    },
    {
     "name": "stdout",
     "output_type": "stream",
     "text": [
      "\n"
     ]
    },
    {
     "name": "stderr",
     "output_type": "stream",
     "text": [
      "16:34:28 - cmdstanpy - INFO - CmdStan start processing\n"
     ]
    },
    {
     "data": {
      "application/vnd.jupyter.widget-view+json": {
       "model_id": "be2585dee9df42799cba68b8bf75e9b6",
       "version_major": 2,
       "version_minor": 0
      },
      "text/plain": [
       "chain 1 |          | 00:00 Status"
      ]
     },
     "metadata": {},
     "output_type": "display_data"
    },
    {
     "data": {
      "application/vnd.jupyter.widget-view+json": {
       "model_id": "826bb1e241e94bd2be0808060cfe7c9f",
       "version_major": 2,
       "version_minor": 0
      },
      "text/plain": [
       "chain 2 |          | 00:00 Status"
      ]
     },
     "metadata": {},
     "output_type": "display_data"
    },
    {
     "data": {
      "application/vnd.jupyter.widget-view+json": {
       "model_id": "d335f83233d64dff9f70ad9b62517dda",
       "version_major": 2,
       "version_minor": 0
      },
      "text/plain": [
       "chain 3 |          | 00:00 Status"
      ]
     },
     "metadata": {},
     "output_type": "display_data"
    },
    {
     "data": {
      "application/vnd.jupyter.widget-view+json": {
       "model_id": "6dcda47df48648529f7a2cc0fca5e17e",
       "version_major": 2,
       "version_minor": 0
      },
      "text/plain": [
       "chain 4 |          | 00:00 Status"
      ]
     },
     "metadata": {},
     "output_type": "display_data"
    },
    {
     "name": "stdout",
     "output_type": "stream",
     "text": [
      "                                                                                                                                                                                                                                                                                                                                "
     ]
    },
    {
     "name": "stderr",
     "output_type": "stream",
     "text": [
      "16:36:21 - cmdstanpy - INFO - CmdStan done processing.\n"
     ]
    },
    {
     "name": "stdout",
     "output_type": "stream",
     "text": [
      "\n"
     ]
    },
    {
     "name": "stderr",
     "output_type": "stream",
     "text": [
      "16:36:23 - cmdstanpy - INFO - CmdStan start processing\n"
     ]
    },
    {
     "data": {
      "application/vnd.jupyter.widget-view+json": {
       "model_id": "93488c32b05d42879533169c6dabf3e5",
       "version_major": 2,
       "version_minor": 0
      },
      "text/plain": [
       "chain 1 |          | 00:00 Status"
      ]
     },
     "metadata": {},
     "output_type": "display_data"
    },
    {
     "data": {
      "application/vnd.jupyter.widget-view+json": {
       "model_id": "4d25240319ae49c3844330b72ad55f3c",
       "version_major": 2,
       "version_minor": 0
      },
      "text/plain": [
       "chain 2 |          | 00:00 Status"
      ]
     },
     "metadata": {},
     "output_type": "display_data"
    },
    {
     "data": {
      "application/vnd.jupyter.widget-view+json": {
       "model_id": "4eed370aabe047e0a7708b2cfe83662a",
       "version_major": 2,
       "version_minor": 0
      },
      "text/plain": [
       "chain 3 |          | 00:00 Status"
      ]
     },
     "metadata": {},
     "output_type": "display_data"
    },
    {
     "data": {
      "application/vnd.jupyter.widget-view+json": {
       "model_id": "9b876dc91f2e435283674af79c457ffe",
       "version_major": 2,
       "version_minor": 0
      },
      "text/plain": [
       "chain 4 |          | 00:00 Status"
      ]
     },
     "metadata": {},
     "output_type": "display_data"
    },
    {
     "name": "stdout",
     "output_type": "stream",
     "text": [
      "                                                                                                                                                                                                                                                                                                                                "
     ]
    },
    {
     "name": "stderr",
     "output_type": "stream",
     "text": [
      "16:37:27 - cmdstanpy - INFO - CmdStan done processing.\n"
     ]
    },
    {
     "name": "stdout",
     "output_type": "stream",
     "text": [
      "\n"
     ]
    },
    {
     "name": "stderr",
     "output_type": "stream",
     "text": [
      "16:37:29 - cmdstanpy - INFO - CmdStan start processing\n"
     ]
    },
    {
     "data": {
      "application/vnd.jupyter.widget-view+json": {
       "model_id": "d54c9d177235426e9a973b1ffc15bfdf",
       "version_major": 2,
       "version_minor": 0
      },
      "text/plain": [
       "chain 1 |          | 00:00 Status"
      ]
     },
     "metadata": {},
     "output_type": "display_data"
    },
    {
     "data": {
      "application/vnd.jupyter.widget-view+json": {
       "model_id": "b94de6c671b84356b36817098bc061e8",
       "version_major": 2,
       "version_minor": 0
      },
      "text/plain": [
       "chain 2 |          | 00:00 Status"
      ]
     },
     "metadata": {},
     "output_type": "display_data"
    },
    {
     "data": {
      "application/vnd.jupyter.widget-view+json": {
       "model_id": "ef71dc4c7a32430da300c47e35f1583d",
       "version_major": 2,
       "version_minor": 0
      },
      "text/plain": [
       "chain 3 |          | 00:00 Status"
      ]
     },
     "metadata": {},
     "output_type": "display_data"
    },
    {
     "data": {
      "application/vnd.jupyter.widget-view+json": {
       "model_id": "21a13f2f72544f56b757bea362c9a0a6",
       "version_major": 2,
       "version_minor": 0
      },
      "text/plain": [
       "chain 4 |          | 00:00 Status"
      ]
     },
     "metadata": {},
     "output_type": "display_data"
    },
    {
     "name": "stdout",
     "output_type": "stream",
     "text": [
      "                                                                                                                                                                                                                                                                                                                                "
     ]
    },
    {
     "name": "stderr",
     "output_type": "stream",
     "text": [
      "16:39:16 - cmdstanpy - INFO - CmdStan done processing.\n"
     ]
    },
    {
     "name": "stdout",
     "output_type": "stream",
     "text": [
      "\n"
     ]
    },
    {
     "name": "stderr",
     "output_type": "stream",
     "text": [
      "16:39:17 - cmdstanpy - INFO - CmdStan start processing\n"
     ]
    },
    {
     "data": {
      "application/vnd.jupyter.widget-view+json": {
       "model_id": "17bf1cb1ff884cb4973faafec8e999e1",
       "version_major": 2,
       "version_minor": 0
      },
      "text/plain": [
       "chain 1 |          | 00:00 Status"
      ]
     },
     "metadata": {},
     "output_type": "display_data"
    },
    {
     "data": {
      "application/vnd.jupyter.widget-view+json": {
       "model_id": "73044d1d57bb44da81ac05a41d73b2bb",
       "version_major": 2,
       "version_minor": 0
      },
      "text/plain": [
       "chain 2 |          | 00:00 Status"
      ]
     },
     "metadata": {},
     "output_type": "display_data"
    },
    {
     "data": {
      "application/vnd.jupyter.widget-view+json": {
       "model_id": "97e74b0bd3a343fc9c864cfe3c82dd39",
       "version_major": 2,
       "version_minor": 0
      },
      "text/plain": [
       "chain 3 |          | 00:00 Status"
      ]
     },
     "metadata": {},
     "output_type": "display_data"
    },
    {
     "data": {
      "application/vnd.jupyter.widget-view+json": {
       "model_id": "9af0ead28c2f42a0b002b5486e5a68ec",
       "version_major": 2,
       "version_minor": 0
      },
      "text/plain": [
       "chain 4 |          | 00:00 Status"
      ]
     },
     "metadata": {},
     "output_type": "display_data"
    },
    {
     "name": "stdout",
     "output_type": "stream",
     "text": [
      "                                                                                                                                                                                                                                                                                                                                "
     ]
    },
    {
     "name": "stderr",
     "output_type": "stream",
     "text": [
      "16:41:23 - cmdstanpy - INFO - CmdStan done processing.\n"
     ]
    },
    {
     "name": "stdout",
     "output_type": "stream",
     "text": [
      "\n"
     ]
    },
    {
     "name": "stderr",
     "output_type": "stream",
     "text": [
      "16:41:25 - cmdstanpy - INFO - CmdStan start processing\n"
     ]
    },
    {
     "data": {
      "application/vnd.jupyter.widget-view+json": {
       "model_id": "01c5f7f6ca7443069b11d4de69c0de20",
       "version_major": 2,
       "version_minor": 0
      },
      "text/plain": [
       "chain 1 |          | 00:00 Status"
      ]
     },
     "metadata": {},
     "output_type": "display_data"
    },
    {
     "data": {
      "application/vnd.jupyter.widget-view+json": {
       "model_id": "0d93804a587344cb88343efc20d6c247",
       "version_major": 2,
       "version_minor": 0
      },
      "text/plain": [
       "chain 2 |          | 00:00 Status"
      ]
     },
     "metadata": {},
     "output_type": "display_data"
    },
    {
     "data": {
      "application/vnd.jupyter.widget-view+json": {
       "model_id": "a5d014537b1044a18dba322a7a08a3f9",
       "version_major": 2,
       "version_minor": 0
      },
      "text/plain": [
       "chain 3 |          | 00:00 Status"
      ]
     },
     "metadata": {},
     "output_type": "display_data"
    },
    {
     "data": {
      "application/vnd.jupyter.widget-view+json": {
       "model_id": "2daa4a08bbb9409f9a65fdfdbd8fd9ee",
       "version_major": 2,
       "version_minor": 0
      },
      "text/plain": [
       "chain 4 |          | 00:00 Status"
      ]
     },
     "metadata": {},
     "output_type": "display_data"
    },
    {
     "name": "stdout",
     "output_type": "stream",
     "text": [
      "                                                                                                                                                                                                                                                                                                                                "
     ]
    },
    {
     "name": "stderr",
     "output_type": "stream",
     "text": [
      "16:42:46 - cmdstanpy - INFO - CmdStan done processing.\n"
     ]
    },
    {
     "name": "stdout",
     "output_type": "stream",
     "text": [
      "\n"
     ]
    },
    {
     "name": "stderr",
     "output_type": "stream",
     "text": [
      "16:42:48 - cmdstanpy - INFO - CmdStan start processing\n"
     ]
    },
    {
     "data": {
      "application/vnd.jupyter.widget-view+json": {
       "model_id": "bd4a0ff81802496e907a60e50ecc04c1",
       "version_major": 2,
       "version_minor": 0
      },
      "text/plain": [
       "chain 1 |          | 00:00 Status"
      ]
     },
     "metadata": {},
     "output_type": "display_data"
    },
    {
     "data": {
      "application/vnd.jupyter.widget-view+json": {
       "model_id": "275d65021b54466ba3b35687caa21a48",
       "version_major": 2,
       "version_minor": 0
      },
      "text/plain": [
       "chain 2 |          | 00:00 Status"
      ]
     },
     "metadata": {},
     "output_type": "display_data"
    },
    {
     "data": {
      "application/vnd.jupyter.widget-view+json": {
       "model_id": "715380706a6d4736977c0f48ee4140a9",
       "version_major": 2,
       "version_minor": 0
      },
      "text/plain": [
       "chain 3 |          | 00:00 Status"
      ]
     },
     "metadata": {},
     "output_type": "display_data"
    },
    {
     "data": {
      "application/vnd.jupyter.widget-view+json": {
       "model_id": "5c53c81db90b4f859ebdbd8fe1cdbefb",
       "version_major": 2,
       "version_minor": 0
      },
      "text/plain": [
       "chain 4 |          | 00:00 Status"
      ]
     },
     "metadata": {},
     "output_type": "display_data"
    },
    {
     "name": "stdout",
     "output_type": "stream",
     "text": [
      "                                                                                                                                                                                                                                                                                                                                "
     ]
    },
    {
     "name": "stderr",
     "output_type": "stream",
     "text": [
      "16:43:39 - cmdstanpy - INFO - CmdStan done processing.\n"
     ]
    },
    {
     "name": "stdout",
     "output_type": "stream",
     "text": [
      "\n"
     ]
    },
    {
     "name": "stderr",
     "output_type": "stream",
     "text": [
      "16:43:41 - cmdstanpy - INFO - CmdStan start processing\n"
     ]
    },
    {
     "data": {
      "application/vnd.jupyter.widget-view+json": {
       "model_id": "a15b1df7765f41e8b661626e061ec234",
       "version_major": 2,
       "version_minor": 0
      },
      "text/plain": [
       "chain 1 |          | 00:00 Status"
      ]
     },
     "metadata": {},
     "output_type": "display_data"
    },
    {
     "data": {
      "application/vnd.jupyter.widget-view+json": {
       "model_id": "5ef183b1d6b448428e08c603e72ccedc",
       "version_major": 2,
       "version_minor": 0
      },
      "text/plain": [
       "chain 2 |          | 00:00 Status"
      ]
     },
     "metadata": {},
     "output_type": "display_data"
    },
    {
     "data": {
      "application/vnd.jupyter.widget-view+json": {
       "model_id": "625bd7bb5ae2482bb55f7cc7c5701c7d",
       "version_major": 2,
       "version_minor": 0
      },
      "text/plain": [
       "chain 3 |          | 00:00 Status"
      ]
     },
     "metadata": {},
     "output_type": "display_data"
    },
    {
     "data": {
      "application/vnd.jupyter.widget-view+json": {
       "model_id": "cae8fd2d6e8f4ffd9e2a0338a8b4c0f5",
       "version_major": 2,
       "version_minor": 0
      },
      "text/plain": [
       "chain 4 |          | 00:00 Status"
      ]
     },
     "metadata": {},
     "output_type": "display_data"
    },
    {
     "name": "stdout",
     "output_type": "stream",
     "text": [
      "                                                                                                                                                                                                                                                                                                                                "
     ]
    },
    {
     "name": "stderr",
     "output_type": "stream",
     "text": [
      "16:44:38 - cmdstanpy - INFO - CmdStan done processing.\n"
     ]
    },
    {
     "name": "stdout",
     "output_type": "stream",
     "text": [
      "\n"
     ]
    },
    {
     "name": "stderr",
     "output_type": "stream",
     "text": [
      "16:44:40 - cmdstanpy - INFO - CmdStan start processing\n"
     ]
    },
    {
     "data": {
      "application/vnd.jupyter.widget-view+json": {
       "model_id": "f45767d52d0d407a94be5ae6af396db8",
       "version_major": 2,
       "version_minor": 0
      },
      "text/plain": [
       "chain 1 |          | 00:00 Status"
      ]
     },
     "metadata": {},
     "output_type": "display_data"
    },
    {
     "data": {
      "application/vnd.jupyter.widget-view+json": {
       "model_id": "aceaf12ba5a140769e3a9ddd60599ac0",
       "version_major": 2,
       "version_minor": 0
      },
      "text/plain": [
       "chain 2 |          | 00:00 Status"
      ]
     },
     "metadata": {},
     "output_type": "display_data"
    },
    {
     "data": {
      "application/vnd.jupyter.widget-view+json": {
       "model_id": "243b8a7213e84c84bba6e632c9dc1dad",
       "version_major": 2,
       "version_minor": 0
      },
      "text/plain": [
       "chain 3 |          | 00:00 Status"
      ]
     },
     "metadata": {},
     "output_type": "display_data"
    },
    {
     "data": {
      "application/vnd.jupyter.widget-view+json": {
       "model_id": "8052803d75b54cf38b38003d00d95800",
       "version_major": 2,
       "version_minor": 0
      },
      "text/plain": [
       "chain 4 |          | 00:00 Status"
      ]
     },
     "metadata": {},
     "output_type": "display_data"
    },
    {
     "name": "stdout",
     "output_type": "stream",
     "text": [
      "                                                                                                                                                                                                                                                                                                                                "
     ]
    },
    {
     "name": "stderr",
     "output_type": "stream",
     "text": [
      "16:45:38 - cmdstanpy - INFO - CmdStan done processing.\n"
     ]
    },
    {
     "name": "stdout",
     "output_type": "stream",
     "text": [
      "\n"
     ]
    },
    {
     "name": "stderr",
     "output_type": "stream",
     "text": [
      "16:45:39 - cmdstanpy - INFO - CmdStan start processing\n"
     ]
    },
    {
     "data": {
      "application/vnd.jupyter.widget-view+json": {
       "model_id": "9e24c7bc264a4c678623b443ca54d22e",
       "version_major": 2,
       "version_minor": 0
      },
      "text/plain": [
       "chain 1 |          | 00:00 Status"
      ]
     },
     "metadata": {},
     "output_type": "display_data"
    },
    {
     "data": {
      "application/vnd.jupyter.widget-view+json": {
       "model_id": "ece136b74cdb4930bfe902954359194d",
       "version_major": 2,
       "version_minor": 0
      },
      "text/plain": [
       "chain 2 |          | 00:00 Status"
      ]
     },
     "metadata": {},
     "output_type": "display_data"
    },
    {
     "data": {
      "application/vnd.jupyter.widget-view+json": {
       "model_id": "af0316a4fbc84353b44c5b6b41eecc8b",
       "version_major": 2,
       "version_minor": 0
      },
      "text/plain": [
       "chain 3 |          | 00:00 Status"
      ]
     },
     "metadata": {},
     "output_type": "display_data"
    },
    {
     "data": {
      "application/vnd.jupyter.widget-view+json": {
       "model_id": "6c5870290a974ad8b2f1025dbd09083c",
       "version_major": 2,
       "version_minor": 0
      },
      "text/plain": [
       "chain 4 |          | 00:00 Status"
      ]
     },
     "metadata": {},
     "output_type": "display_data"
    },
    {
     "name": "stdout",
     "output_type": "stream",
     "text": [
      "                                                                                                                                                                                                                                                                                                                                "
     ]
    },
    {
     "name": "stderr",
     "output_type": "stream",
     "text": [
      "16:46:32 - cmdstanpy - INFO - CmdStan done processing.\n"
     ]
    },
    {
     "name": "stdout",
     "output_type": "stream",
     "text": [
      "\n"
     ]
    },
    {
     "name": "stderr",
     "output_type": "stream",
     "text": [
      "16:46:34 - cmdstanpy - INFO - CmdStan start processing\n"
     ]
    },
    {
     "data": {
      "application/vnd.jupyter.widget-view+json": {
       "model_id": "0071902f43bb43c185e14b790ede5ab6",
       "version_major": 2,
       "version_minor": 0
      },
      "text/plain": [
       "chain 1 |          | 00:00 Status"
      ]
     },
     "metadata": {},
     "output_type": "display_data"
    },
    {
     "data": {
      "application/vnd.jupyter.widget-view+json": {
       "model_id": "3370d21ee8bb4fbfb0c9d9d5f79e937b",
       "version_major": 2,
       "version_minor": 0
      },
      "text/plain": [
       "chain 2 |          | 00:00 Status"
      ]
     },
     "metadata": {},
     "output_type": "display_data"
    },
    {
     "data": {
      "application/vnd.jupyter.widget-view+json": {
       "model_id": "189bf37272bb46d581b20dba305602d4",
       "version_major": 2,
       "version_minor": 0
      },
      "text/plain": [
       "chain 3 |          | 00:00 Status"
      ]
     },
     "metadata": {},
     "output_type": "display_data"
    },
    {
     "data": {
      "application/vnd.jupyter.widget-view+json": {
       "model_id": "1cbfde7c24cd438f93376fe4f77bf778",
       "version_major": 2,
       "version_minor": 0
      },
      "text/plain": [
       "chain 4 |          | 00:00 Status"
      ]
     },
     "metadata": {},
     "output_type": "display_data"
    },
    {
     "name": "stdout",
     "output_type": "stream",
     "text": [
      "                                                                                                                                                                                                                                                                                                                                "
     ]
    },
    {
     "name": "stderr",
     "output_type": "stream",
     "text": [
      "16:47:29 - cmdstanpy - INFO - CmdStan done processing.\n"
     ]
    },
    {
     "name": "stdout",
     "output_type": "stream",
     "text": [
      "\n"
     ]
    },
    {
     "name": "stderr",
     "output_type": "stream",
     "text": [
      "16:47:31 - cmdstanpy - INFO - CmdStan start processing\n"
     ]
    },
    {
     "data": {
      "application/vnd.jupyter.widget-view+json": {
       "model_id": "78fd3819d22d4326a230f5da2bb2ce97",
       "version_major": 2,
       "version_minor": 0
      },
      "text/plain": [
       "chain 1 |          | 00:00 Status"
      ]
     },
     "metadata": {},
     "output_type": "display_data"
    },
    {
     "data": {
      "application/vnd.jupyter.widget-view+json": {
       "model_id": "b574e103b95540edab54db3e1a091307",
       "version_major": 2,
       "version_minor": 0
      },
      "text/plain": [
       "chain 2 |          | 00:00 Status"
      ]
     },
     "metadata": {},
     "output_type": "display_data"
    },
    {
     "data": {
      "application/vnd.jupyter.widget-view+json": {
       "model_id": "cd961d44136249978e99c39945b367fe",
       "version_major": 2,
       "version_minor": 0
      },
      "text/plain": [
       "chain 3 |          | 00:00 Status"
      ]
     },
     "metadata": {},
     "output_type": "display_data"
    },
    {
     "data": {
      "application/vnd.jupyter.widget-view+json": {
       "model_id": "6feec740dbac4befb09552d319e5570c",
       "version_major": 2,
       "version_minor": 0
      },
      "text/plain": [
       "chain 4 |          | 00:00 Status"
      ]
     },
     "metadata": {},
     "output_type": "display_data"
    },
    {
     "name": "stdout",
     "output_type": "stream",
     "text": [
      "                                                                                                                                                                                                                                                                                                                                "
     ]
    },
    {
     "name": "stderr",
     "output_type": "stream",
     "text": [
      "16:48:37 - cmdstanpy - INFO - CmdStan done processing.\n"
     ]
    },
    {
     "name": "stdout",
     "output_type": "stream",
     "text": [
      "\n"
     ]
    },
    {
     "name": "stderr",
     "output_type": "stream",
     "text": [
      "16:48:39 - cmdstanpy - INFO - CmdStan start processing\n"
     ]
    },
    {
     "data": {
      "application/vnd.jupyter.widget-view+json": {
       "model_id": "d7bfad30f1a746299bf56909841cc4f8",
       "version_major": 2,
       "version_minor": 0
      },
      "text/plain": [
       "chain 1 |          | 00:00 Status"
      ]
     },
     "metadata": {},
     "output_type": "display_data"
    },
    {
     "data": {
      "application/vnd.jupyter.widget-view+json": {
       "model_id": "e75d048747e64719acdbd80d6ff05644",
       "version_major": 2,
       "version_minor": 0
      },
      "text/plain": [
       "chain 2 |          | 00:00 Status"
      ]
     },
     "metadata": {},
     "output_type": "display_data"
    },
    {
     "data": {
      "application/vnd.jupyter.widget-view+json": {
       "model_id": "33c63158d80e49eb96c5f520e8391059",
       "version_major": 2,
       "version_minor": 0
      },
      "text/plain": [
       "chain 3 |          | 00:00 Status"
      ]
     },
     "metadata": {},
     "output_type": "display_data"
    },
    {
     "data": {
      "application/vnd.jupyter.widget-view+json": {
       "model_id": "c362951b7cb5402a944125d30c2e990e",
       "version_major": 2,
       "version_minor": 0
      },
      "text/plain": [
       "chain 4 |          | 00:00 Status"
      ]
     },
     "metadata": {},
     "output_type": "display_data"
    },
    {
     "name": "stdout",
     "output_type": "stream",
     "text": [
      "                                                                                                                                                                                                                                                                                                                                "
     ]
    },
    {
     "name": "stderr",
     "output_type": "stream",
     "text": [
      "16:50:33 - cmdstanpy - INFO - CmdStan done processing.\n"
     ]
    },
    {
     "name": "stdout",
     "output_type": "stream",
     "text": [
      "\n"
     ]
    },
    {
     "name": "stderr",
     "output_type": "stream",
     "text": [
      "16:50:35 - cmdstanpy - INFO - CmdStan start processing\n"
     ]
    },
    {
     "data": {
      "application/vnd.jupyter.widget-view+json": {
       "model_id": "24b26d0615354f8fbb183154e61d5c3a",
       "version_major": 2,
       "version_minor": 0
      },
      "text/plain": [
       "chain 1 |          | 00:00 Status"
      ]
     },
     "metadata": {},
     "output_type": "display_data"
    },
    {
     "data": {
      "application/vnd.jupyter.widget-view+json": {
       "model_id": "771acc5a89b5406e9404f191fc7b74a9",
       "version_major": 2,
       "version_minor": 0
      },
      "text/plain": [
       "chain 2 |          | 00:00 Status"
      ]
     },
     "metadata": {},
     "output_type": "display_data"
    },
    {
     "data": {
      "application/vnd.jupyter.widget-view+json": {
       "model_id": "b0c530388a7e45a88353753806fe38c3",
       "version_major": 2,
       "version_minor": 0
      },
      "text/plain": [
       "chain 3 |          | 00:00 Status"
      ]
     },
     "metadata": {},
     "output_type": "display_data"
    },
    {
     "data": {
      "application/vnd.jupyter.widget-view+json": {
       "model_id": "fabd410da2e0424db65a2b6126dc353a",
       "version_major": 2,
       "version_minor": 0
      },
      "text/plain": [
       "chain 4 |          | 00:00 Status"
      ]
     },
     "metadata": {},
     "output_type": "display_data"
    },
    {
     "name": "stdout",
     "output_type": "stream",
     "text": [
      "                                                                                                                                                                                                                                                                                                                                "
     ]
    },
    {
     "name": "stderr",
     "output_type": "stream",
     "text": [
      "16:51:35 - cmdstanpy - INFO - CmdStan done processing.\n"
     ]
    },
    {
     "name": "stdout",
     "output_type": "stream",
     "text": [
      "\n"
     ]
    },
    {
     "name": "stderr",
     "output_type": "stream",
     "text": [
      "16:51:36 - cmdstanpy - INFO - CmdStan start processing\n"
     ]
    },
    {
     "data": {
      "application/vnd.jupyter.widget-view+json": {
       "model_id": "cfa2a3af9033416d9199f372e76767c7",
       "version_major": 2,
       "version_minor": 0
      },
      "text/plain": [
       "chain 1 |          | 00:00 Status"
      ]
     },
     "metadata": {},
     "output_type": "display_data"
    },
    {
     "data": {
      "application/vnd.jupyter.widget-view+json": {
       "model_id": "8159875d744744449ee6eaef2886a03b",
       "version_major": 2,
       "version_minor": 0
      },
      "text/plain": [
       "chain 2 |          | 00:00 Status"
      ]
     },
     "metadata": {},
     "output_type": "display_data"
    },
    {
     "data": {
      "application/vnd.jupyter.widget-view+json": {
       "model_id": "138add7578054db48de6ac2a90ead030",
       "version_major": 2,
       "version_minor": 0
      },
      "text/plain": [
       "chain 3 |          | 00:00 Status"
      ]
     },
     "metadata": {},
     "output_type": "display_data"
    },
    {
     "data": {
      "application/vnd.jupyter.widget-view+json": {
       "model_id": "35e83d749a7843479b9a456bfa64afac",
       "version_major": 2,
       "version_minor": 0
      },
      "text/plain": [
       "chain 4 |          | 00:00 Status"
      ]
     },
     "metadata": {},
     "output_type": "display_data"
    },
    {
     "name": "stdout",
     "output_type": "stream",
     "text": [
      "                                                                                                                                                                                                                                                                                                                                "
     ]
    },
    {
     "name": "stderr",
     "output_type": "stream",
     "text": [
      "16:52:31 - cmdstanpy - INFO - CmdStan done processing.\n"
     ]
    },
    {
     "name": "stdout",
     "output_type": "stream",
     "text": [
      "\n"
     ]
    },
    {
     "name": "stderr",
     "output_type": "stream",
     "text": [
      "16:52:33 - cmdstanpy - INFO - CmdStan start processing\n"
     ]
    },
    {
     "data": {
      "application/vnd.jupyter.widget-view+json": {
       "model_id": "394ed1dd4f1e4385a7742ff58fd2fdb7",
       "version_major": 2,
       "version_minor": 0
      },
      "text/plain": [
       "chain 1 |          | 00:00 Status"
      ]
     },
     "metadata": {},
     "output_type": "display_data"
    },
    {
     "data": {
      "application/vnd.jupyter.widget-view+json": {
       "model_id": "0b1d3509b13947cc8f2283e53d48f1fc",
       "version_major": 2,
       "version_minor": 0
      },
      "text/plain": [
       "chain 2 |          | 00:00 Status"
      ]
     },
     "metadata": {},
     "output_type": "display_data"
    },
    {
     "data": {
      "application/vnd.jupyter.widget-view+json": {
       "model_id": "0b12ee1e9e124efd9dccb99e19a8b6c8",
       "version_major": 2,
       "version_minor": 0
      },
      "text/plain": [
       "chain 3 |          | 00:00 Status"
      ]
     },
     "metadata": {},
     "output_type": "display_data"
    },
    {
     "data": {
      "application/vnd.jupyter.widget-view+json": {
       "model_id": "462d648c953c4101b491f60ff66fd2ce",
       "version_major": 2,
       "version_minor": 0
      },
      "text/plain": [
       "chain 4 |          | 00:00 Status"
      ]
     },
     "metadata": {},
     "output_type": "display_data"
    },
    {
     "name": "stdout",
     "output_type": "stream",
     "text": [
      "                                                                                                                                                                                                                                                                                                                                "
     ]
    },
    {
     "name": "stderr",
     "output_type": "stream",
     "text": [
      "16:53:21 - cmdstanpy - INFO - CmdStan done processing.\n"
     ]
    },
    {
     "name": "stdout",
     "output_type": "stream",
     "text": [
      "\n"
     ]
    },
    {
     "name": "stderr",
     "output_type": "stream",
     "text": [
      "16:53:23 - cmdstanpy - INFO - CmdStan start processing\n"
     ]
    },
    {
     "data": {
      "application/vnd.jupyter.widget-view+json": {
       "model_id": "bf3b225a00034c6caf8338b524098b13",
       "version_major": 2,
       "version_minor": 0
      },
      "text/plain": [
       "chain 1 |          | 00:00 Status"
      ]
     },
     "metadata": {},
     "output_type": "display_data"
    },
    {
     "data": {
      "application/vnd.jupyter.widget-view+json": {
       "model_id": "6e94df062d654e1f9711e728a1235e46",
       "version_major": 2,
       "version_minor": 0
      },
      "text/plain": [
       "chain 2 |          | 00:00 Status"
      ]
     },
     "metadata": {},
     "output_type": "display_data"
    },
    {
     "data": {
      "application/vnd.jupyter.widget-view+json": {
       "model_id": "6b36208e3e71429e8f9c5d2984b14b49",
       "version_major": 2,
       "version_minor": 0
      },
      "text/plain": [
       "chain 3 |          | 00:00 Status"
      ]
     },
     "metadata": {},
     "output_type": "display_data"
    },
    {
     "data": {
      "application/vnd.jupyter.widget-view+json": {
       "model_id": "0ddb913ec9cd47ffb447c6fb7edffb88",
       "version_major": 2,
       "version_minor": 0
      },
      "text/plain": [
       "chain 4 |          | 00:00 Status"
      ]
     },
     "metadata": {},
     "output_type": "display_data"
    },
    {
     "name": "stdout",
     "output_type": "stream",
     "text": [
      "                                                                                                                                                                                                                                                                                                                                "
     ]
    },
    {
     "name": "stderr",
     "output_type": "stream",
     "text": [
      "16:55:10 - cmdstanpy - INFO - CmdStan done processing.\n"
     ]
    },
    {
     "name": "stdout",
     "output_type": "stream",
     "text": [
      "\n"
     ]
    },
    {
     "name": "stderr",
     "output_type": "stream",
     "text": [
      "16:55:12 - cmdstanpy - INFO - CmdStan start processing\n"
     ]
    },
    {
     "data": {
      "application/vnd.jupyter.widget-view+json": {
       "model_id": "79ca4dbdcf7d4d34a28f72b8499ba323",
       "version_major": 2,
       "version_minor": 0
      },
      "text/plain": [
       "chain 1 |          | 00:00 Status"
      ]
     },
     "metadata": {},
     "output_type": "display_data"
    },
    {
     "data": {
      "application/vnd.jupyter.widget-view+json": {
       "model_id": "3eedc574cb854b56a03162b013d11b2a",
       "version_major": 2,
       "version_minor": 0
      },
      "text/plain": [
       "chain 2 |          | 00:00 Status"
      ]
     },
     "metadata": {},
     "output_type": "display_data"
    },
    {
     "data": {
      "application/vnd.jupyter.widget-view+json": {
       "model_id": "f69203692bf34f6d8a05e1e3eee13c0d",
       "version_major": 2,
       "version_minor": 0
      },
      "text/plain": [
       "chain 3 |          | 00:00 Status"
      ]
     },
     "metadata": {},
     "output_type": "display_data"
    },
    {
     "data": {
      "application/vnd.jupyter.widget-view+json": {
       "model_id": "774a4668415e4e209a57d854ac3b6c4a",
       "version_major": 2,
       "version_minor": 0
      },
      "text/plain": [
       "chain 4 |          | 00:00 Status"
      ]
     },
     "metadata": {},
     "output_type": "display_data"
    },
    {
     "name": "stdout",
     "output_type": "stream",
     "text": [
      "                                                                                                                                                                                                                                                                                                                                "
     ]
    },
    {
     "name": "stderr",
     "output_type": "stream",
     "text": [
      "16:56:18 - cmdstanpy - INFO - CmdStan done processing.\n"
     ]
    },
    {
     "name": "stdout",
     "output_type": "stream",
     "text": [
      "\n"
     ]
    },
    {
     "name": "stderr",
     "output_type": "stream",
     "text": [
      "16:56:20 - cmdstanpy - INFO - CmdStan start processing\n"
     ]
    },
    {
     "data": {
      "application/vnd.jupyter.widget-view+json": {
       "model_id": "dd9b30579f5b46c7807af177da99ba19",
       "version_major": 2,
       "version_minor": 0
      },
      "text/plain": [
       "chain 1 |          | 00:00 Status"
      ]
     },
     "metadata": {},
     "output_type": "display_data"
    },
    {
     "data": {
      "application/vnd.jupyter.widget-view+json": {
       "model_id": "b8e86a9626384453847f0268d180f308",
       "version_major": 2,
       "version_minor": 0
      },
      "text/plain": [
       "chain 2 |          | 00:00 Status"
      ]
     },
     "metadata": {},
     "output_type": "display_data"
    },
    {
     "data": {
      "application/vnd.jupyter.widget-view+json": {
       "model_id": "dd1cc02c10054c189503812d8fb3f611",
       "version_major": 2,
       "version_minor": 0
      },
      "text/plain": [
       "chain 3 |          | 00:00 Status"
      ]
     },
     "metadata": {},
     "output_type": "display_data"
    },
    {
     "data": {
      "application/vnd.jupyter.widget-view+json": {
       "model_id": "89151057682947a9ad1ab8694d3ca023",
       "version_major": 2,
       "version_minor": 0
      },
      "text/plain": [
       "chain 4 |          | 00:00 Status"
      ]
     },
     "metadata": {},
     "output_type": "display_data"
    },
    {
     "name": "stdout",
     "output_type": "stream",
     "text": [
      "                                                                                                                                                                                                                                                                                                                                "
     ]
    },
    {
     "name": "stderr",
     "output_type": "stream",
     "text": [
      "16:57:19 - cmdstanpy - INFO - CmdStan done processing.\n"
     ]
    },
    {
     "name": "stdout",
     "output_type": "stream",
     "text": [
      "\n"
     ]
    },
    {
     "name": "stderr",
     "output_type": "stream",
     "text": [
      "16:57:20 - cmdstanpy - INFO - CmdStan start processing\n"
     ]
    },
    {
     "data": {
      "application/vnd.jupyter.widget-view+json": {
       "model_id": "05069d82e4e5470c80f6c62c3c19f690",
       "version_major": 2,
       "version_minor": 0
      },
      "text/plain": [
       "chain 1 |          | 00:00 Status"
      ]
     },
     "metadata": {},
     "output_type": "display_data"
    },
    {
     "data": {
      "application/vnd.jupyter.widget-view+json": {
       "model_id": "2018a92c5ac14567b88a6508a9a4477e",
       "version_major": 2,
       "version_minor": 0
      },
      "text/plain": [
       "chain 2 |          | 00:00 Status"
      ]
     },
     "metadata": {},
     "output_type": "display_data"
    },
    {
     "data": {
      "application/vnd.jupyter.widget-view+json": {
       "model_id": "a200d5ca25174a389a62dc00190bdcca",
       "version_major": 2,
       "version_minor": 0
      },
      "text/plain": [
       "chain 3 |          | 00:00 Status"
      ]
     },
     "metadata": {},
     "output_type": "display_data"
    },
    {
     "data": {
      "application/vnd.jupyter.widget-view+json": {
       "model_id": "5166ebc4904549758374d61ac75cdd1e",
       "version_major": 2,
       "version_minor": 0
      },
      "text/plain": [
       "chain 4 |          | 00:00 Status"
      ]
     },
     "metadata": {},
     "output_type": "display_data"
    },
    {
     "name": "stdout",
     "output_type": "stream",
     "text": [
      "                                                                                                                                                                                                                                                                                                                                "
     ]
    },
    {
     "name": "stderr",
     "output_type": "stream",
     "text": [
      "16:58:20 - cmdstanpy - INFO - CmdStan done processing.\n"
     ]
    },
    {
     "name": "stdout",
     "output_type": "stream",
     "text": [
      "\n"
     ]
    },
    {
     "name": "stderr",
     "output_type": "stream",
     "text": [
      "16:58:22 - cmdstanpy - INFO - CmdStan start processing\n"
     ]
    },
    {
     "data": {
      "application/vnd.jupyter.widget-view+json": {
       "model_id": "3126fa8499b240e5ae5a80c66bc6c902",
       "version_major": 2,
       "version_minor": 0
      },
      "text/plain": [
       "chain 1 |          | 00:00 Status"
      ]
     },
     "metadata": {},
     "output_type": "display_data"
    },
    {
     "data": {
      "application/vnd.jupyter.widget-view+json": {
       "model_id": "58e8633573844b0c826d93892b67ba87",
       "version_major": 2,
       "version_minor": 0
      },
      "text/plain": [
       "chain 2 |          | 00:00 Status"
      ]
     },
     "metadata": {},
     "output_type": "display_data"
    },
    {
     "data": {
      "application/vnd.jupyter.widget-view+json": {
       "model_id": "4105f30a4ee542e98f353e7e7413a501",
       "version_major": 2,
       "version_minor": 0
      },
      "text/plain": [
       "chain 3 |          | 00:00 Status"
      ]
     },
     "metadata": {},
     "output_type": "display_data"
    },
    {
     "data": {
      "application/vnd.jupyter.widget-view+json": {
       "model_id": "5c4728648f7c4f7fb71e63ba9afed3eb",
       "version_major": 2,
       "version_minor": 0
      },
      "text/plain": [
       "chain 4 |          | 00:00 Status"
      ]
     },
     "metadata": {},
     "output_type": "display_data"
    },
    {
     "name": "stdout",
     "output_type": "stream",
     "text": [
      "                                                                                                                                                                                                                                                                                                                                "
     ]
    },
    {
     "name": "stderr",
     "output_type": "stream",
     "text": [
      "16:59:22 - cmdstanpy - INFO - CmdStan done processing.\n"
     ]
    },
    {
     "name": "stdout",
     "output_type": "stream",
     "text": [
      "\n"
     ]
    },
    {
     "name": "stderr",
     "output_type": "stream",
     "text": [
      "16:59:24 - cmdstanpy - INFO - CmdStan start processing\n"
     ]
    },
    {
     "data": {
      "application/vnd.jupyter.widget-view+json": {
       "model_id": "32ee67bf6a584d9f924f3f1d1158a684",
       "version_major": 2,
       "version_minor": 0
      },
      "text/plain": [
       "chain 1 |          | 00:00 Status"
      ]
     },
     "metadata": {},
     "output_type": "display_data"
    },
    {
     "data": {
      "application/vnd.jupyter.widget-view+json": {
       "model_id": "ca2357cec73047b1bd9d1e479e116f48",
       "version_major": 2,
       "version_minor": 0
      },
      "text/plain": [
       "chain 2 |          | 00:00 Status"
      ]
     },
     "metadata": {},
     "output_type": "display_data"
    },
    {
     "data": {
      "application/vnd.jupyter.widget-view+json": {
       "model_id": "e0d2c6e3a94b45bb8fafaf9d35b64bc6",
       "version_major": 2,
       "version_minor": 0
      },
      "text/plain": [
       "chain 3 |          | 00:00 Status"
      ]
     },
     "metadata": {},
     "output_type": "display_data"
    },
    {
     "data": {
      "application/vnd.jupyter.widget-view+json": {
       "model_id": "d65e418f91a24e14a8736ca5930cd652",
       "version_major": 2,
       "version_minor": 0
      },
      "text/plain": [
       "chain 4 |          | 00:00 Status"
      ]
     },
     "metadata": {},
     "output_type": "display_data"
    },
    {
     "name": "stdout",
     "output_type": "stream",
     "text": [
      "                                                                                                                                                                                                                                                                                                                                "
     ]
    },
    {
     "name": "stderr",
     "output_type": "stream",
     "text": [
      "17:00:32 - cmdstanpy - INFO - CmdStan done processing.\n"
     ]
    },
    {
     "name": "stdout",
     "output_type": "stream",
     "text": [
      "\n"
     ]
    },
    {
     "name": "stderr",
     "output_type": "stream",
     "text": [
      "17:00:33 - cmdstanpy - INFO - CmdStan start processing\n"
     ]
    },
    {
     "data": {
      "application/vnd.jupyter.widget-view+json": {
       "model_id": "b571fe9702a646219f4cb264813d9aa2",
       "version_major": 2,
       "version_minor": 0
      },
      "text/plain": [
       "chain 1 |          | 00:00 Status"
      ]
     },
     "metadata": {},
     "output_type": "display_data"
    },
    {
     "data": {
      "application/vnd.jupyter.widget-view+json": {
       "model_id": "a33304e8448042a3bb3e07f2ef98438f",
       "version_major": 2,
       "version_minor": 0
      },
      "text/plain": [
       "chain 2 |          | 00:00 Status"
      ]
     },
     "metadata": {},
     "output_type": "display_data"
    },
    {
     "data": {
      "application/vnd.jupyter.widget-view+json": {
       "model_id": "466f420181814cdebcdb48dac86ac943",
       "version_major": 2,
       "version_minor": 0
      },
      "text/plain": [
       "chain 3 |          | 00:00 Status"
      ]
     },
     "metadata": {},
     "output_type": "display_data"
    },
    {
     "data": {
      "application/vnd.jupyter.widget-view+json": {
       "model_id": "184f318eec5e41958b9fd3627fd3d59a",
       "version_major": 2,
       "version_minor": 0
      },
      "text/plain": [
       "chain 4 |          | 00:00 Status"
      ]
     },
     "metadata": {},
     "output_type": "display_data"
    },
    {
     "name": "stdout",
     "output_type": "stream",
     "text": [
      "                                                                                                                                                                                                                                                                                                                                "
     ]
    },
    {
     "name": "stderr",
     "output_type": "stream",
     "text": [
      "17:01:23 - cmdstanpy - INFO - CmdStan done processing.\n"
     ]
    },
    {
     "name": "stdout",
     "output_type": "stream",
     "text": [
      "\n"
     ]
    },
    {
     "name": "stderr",
     "output_type": "stream",
     "text": [
      "17:01:25 - cmdstanpy - INFO - CmdStan start processing\n"
     ]
    },
    {
     "data": {
      "application/vnd.jupyter.widget-view+json": {
       "model_id": "880db555d2fb41c6be42191d0e9c0ecc",
       "version_major": 2,
       "version_minor": 0
      },
      "text/plain": [
       "chain 1 |          | 00:00 Status"
      ]
     },
     "metadata": {},
     "output_type": "display_data"
    },
    {
     "data": {
      "application/vnd.jupyter.widget-view+json": {
       "model_id": "a2329fc6681248df88dead629391c3ac",
       "version_major": 2,
       "version_minor": 0
      },
      "text/plain": [
       "chain 2 |          | 00:00 Status"
      ]
     },
     "metadata": {},
     "output_type": "display_data"
    },
    {
     "data": {
      "application/vnd.jupyter.widget-view+json": {
       "model_id": "a94b274aa0cc460d9146dfdb7710752b",
       "version_major": 2,
       "version_minor": 0
      },
      "text/plain": [
       "chain 3 |          | 00:00 Status"
      ]
     },
     "metadata": {},
     "output_type": "display_data"
    },
    {
     "data": {
      "application/vnd.jupyter.widget-view+json": {
       "model_id": "2ed47c0f9fab4799a3f2604165b9058a",
       "version_major": 2,
       "version_minor": 0
      },
      "text/plain": [
       "chain 4 |          | 00:00 Status"
      ]
     },
     "metadata": {},
     "output_type": "display_data"
    },
    {
     "name": "stdout",
     "output_type": "stream",
     "text": [
      "                                                                                                                                                                                                                                                                                                                                "
     ]
    },
    {
     "name": "stderr",
     "output_type": "stream",
     "text": [
      "17:02:17 - cmdstanpy - INFO - CmdStan done processing.\n"
     ]
    },
    {
     "name": "stdout",
     "output_type": "stream",
     "text": [
      "\n"
     ]
    },
    {
     "name": "stderr",
     "output_type": "stream",
     "text": [
      "17:02:19 - cmdstanpy - INFO - CmdStan start processing\n"
     ]
    },
    {
     "data": {
      "application/vnd.jupyter.widget-view+json": {
       "model_id": "40773c6d206e40e5b175a06ab6dd520c",
       "version_major": 2,
       "version_minor": 0
      },
      "text/plain": [
       "chain 1 |          | 00:00 Status"
      ]
     },
     "metadata": {},
     "output_type": "display_data"
    },
    {
     "data": {
      "application/vnd.jupyter.widget-view+json": {
       "model_id": "f62a644986e643c7813e11625aeebfbc",
       "version_major": 2,
       "version_minor": 0
      },
      "text/plain": [
       "chain 2 |          | 00:00 Status"
      ]
     },
     "metadata": {},
     "output_type": "display_data"
    },
    {
     "data": {
      "application/vnd.jupyter.widget-view+json": {
       "model_id": "c2822402cc1c443db00ed77b522a5eae",
       "version_major": 2,
       "version_minor": 0
      },
      "text/plain": [
       "chain 3 |          | 00:00 Status"
      ]
     },
     "metadata": {},
     "output_type": "display_data"
    },
    {
     "data": {
      "application/vnd.jupyter.widget-view+json": {
       "model_id": "3b174bec0c7443e98ba4bce1cc8bc0f5",
       "version_major": 2,
       "version_minor": 0
      },
      "text/plain": [
       "chain 4 |          | 00:00 Status"
      ]
     },
     "metadata": {},
     "output_type": "display_data"
    },
    {
     "name": "stdout",
     "output_type": "stream",
     "text": [
      "                                                                                                                                                                                                                                                                                                                                "
     ]
    },
    {
     "name": "stderr",
     "output_type": "stream",
     "text": [
      "17:03:21 - cmdstanpy - INFO - CmdStan done processing.\n"
     ]
    },
    {
     "name": "stdout",
     "output_type": "stream",
     "text": [
      "\n"
     ]
    },
    {
     "name": "stderr",
     "output_type": "stream",
     "text": [
      "17:03:23 - cmdstanpy - INFO - CmdStan start processing\n"
     ]
    },
    {
     "data": {
      "application/vnd.jupyter.widget-view+json": {
       "model_id": "2016d1f675db47b58f219139b3b16b6a",
       "version_major": 2,
       "version_minor": 0
      },
      "text/plain": [
       "chain 1 |          | 00:00 Status"
      ]
     },
     "metadata": {},
     "output_type": "display_data"
    },
    {
     "data": {
      "application/vnd.jupyter.widget-view+json": {
       "model_id": "4d08b3424d5e43e9a36184da456032c4",
       "version_major": 2,
       "version_minor": 0
      },
      "text/plain": [
       "chain 2 |          | 00:00 Status"
      ]
     },
     "metadata": {},
     "output_type": "display_data"
    },
    {
     "data": {
      "application/vnd.jupyter.widget-view+json": {
       "model_id": "5e273d7cf4864f13a20999671db1f113",
       "version_major": 2,
       "version_minor": 0
      },
      "text/plain": [
       "chain 3 |          | 00:00 Status"
      ]
     },
     "metadata": {},
     "output_type": "display_data"
    },
    {
     "data": {
      "application/vnd.jupyter.widget-view+json": {
       "model_id": "de777a7f1c884242ab59cc082d3b7aa7",
       "version_major": 2,
       "version_minor": 0
      },
      "text/plain": [
       "chain 4 |          | 00:00 Status"
      ]
     },
     "metadata": {},
     "output_type": "display_data"
    },
    {
     "name": "stdout",
     "output_type": "stream",
     "text": [
      "                                                                                                                                                                                                                                                                                                                                "
     ]
    },
    {
     "name": "stderr",
     "output_type": "stream",
     "text": [
      "17:05:14 - cmdstanpy - INFO - CmdStan done processing.\n"
     ]
    },
    {
     "name": "stdout",
     "output_type": "stream",
     "text": [
      "\n"
     ]
    },
    {
     "name": "stderr",
     "output_type": "stream",
     "text": [
      "17:05:16 - cmdstanpy - INFO - CmdStan start processing\n"
     ]
    },
    {
     "data": {
      "application/vnd.jupyter.widget-view+json": {
       "model_id": "4fab58211ad7494895471f1cc654faa7",
       "version_major": 2,
       "version_minor": 0
      },
      "text/plain": [
       "chain 1 |          | 00:00 Status"
      ]
     },
     "metadata": {},
     "output_type": "display_data"
    },
    {
     "data": {
      "application/vnd.jupyter.widget-view+json": {
       "model_id": "87f34460b06347a09d00659b006e0eae",
       "version_major": 2,
       "version_minor": 0
      },
      "text/plain": [
       "chain 2 |          | 00:00 Status"
      ]
     },
     "metadata": {},
     "output_type": "display_data"
    },
    {
     "data": {
      "application/vnd.jupyter.widget-view+json": {
       "model_id": "d908a640c4284694904d2418816a0100",
       "version_major": 2,
       "version_minor": 0
      },
      "text/plain": [
       "chain 3 |          | 00:00 Status"
      ]
     },
     "metadata": {},
     "output_type": "display_data"
    },
    {
     "data": {
      "application/vnd.jupyter.widget-view+json": {
       "model_id": "1c13d009061943a796dfdfb06acce2a5",
       "version_major": 2,
       "version_minor": 0
      },
      "text/plain": [
       "chain 4 |          | 00:00 Status"
      ]
     },
     "metadata": {},
     "output_type": "display_data"
    },
    {
     "name": "stdout",
     "output_type": "stream",
     "text": [
      "                                                                                                                                                                                                                                                                                                                                "
     ]
    },
    {
     "name": "stderr",
     "output_type": "stream",
     "text": [
      "17:06:30 - cmdstanpy - INFO - CmdStan done processing.\n"
     ]
    },
    {
     "name": "stdout",
     "output_type": "stream",
     "text": [
      "\n"
     ]
    },
    {
     "name": "stderr",
     "output_type": "stream",
     "text": [
      "17:06:32 - cmdstanpy - INFO - CmdStan start processing\n"
     ]
    },
    {
     "data": {
      "application/vnd.jupyter.widget-view+json": {
       "model_id": "9a25d9ff0d9c484c980ce001d400bb73",
       "version_major": 2,
       "version_minor": 0
      },
      "text/plain": [
       "chain 1 |          | 00:00 Status"
      ]
     },
     "metadata": {},
     "output_type": "display_data"
    },
    {
     "data": {
      "application/vnd.jupyter.widget-view+json": {
       "model_id": "aaa5a7b657a6445eb53ba2d39bef5588",
       "version_major": 2,
       "version_minor": 0
      },
      "text/plain": [
       "chain 2 |          | 00:00 Status"
      ]
     },
     "metadata": {},
     "output_type": "display_data"
    },
    {
     "data": {
      "application/vnd.jupyter.widget-view+json": {
       "model_id": "759b5b8d6a38443083a0993ea4a44bab",
       "version_major": 2,
       "version_minor": 0
      },
      "text/plain": [
       "chain 3 |          | 00:00 Status"
      ]
     },
     "metadata": {},
     "output_type": "display_data"
    },
    {
     "data": {
      "application/vnd.jupyter.widget-view+json": {
       "model_id": "9be59cb6e89e4e3e9c39ef6d160a6ee9",
       "version_major": 2,
       "version_minor": 0
      },
      "text/plain": [
       "chain 4 |          | 00:00 Status"
      ]
     },
     "metadata": {},
     "output_type": "display_data"
    },
    {
     "name": "stdout",
     "output_type": "stream",
     "text": [
      "                                                                                                                                                                                                                                                                                                                                "
     ]
    },
    {
     "name": "stderr",
     "output_type": "stream",
     "text": [
      "17:07:28 - cmdstanpy - INFO - CmdStan done processing.\n"
     ]
    },
    {
     "name": "stdout",
     "output_type": "stream",
     "text": [
      "\n"
     ]
    },
    {
     "name": "stderr",
     "output_type": "stream",
     "text": [
      "17:07:30 - cmdstanpy - INFO - CmdStan start processing\n"
     ]
    },
    {
     "data": {
      "application/vnd.jupyter.widget-view+json": {
       "model_id": "dda04306e15e47eb8eba17833af666b3",
       "version_major": 2,
       "version_minor": 0
      },
      "text/plain": [
       "chain 1 |          | 00:00 Status"
      ]
     },
     "metadata": {},
     "output_type": "display_data"
    },
    {
     "data": {
      "application/vnd.jupyter.widget-view+json": {
       "model_id": "26dbb119f3574ec3a639434edc16410a",
       "version_major": 2,
       "version_minor": 0
      },
      "text/plain": [
       "chain 2 |          | 00:00 Status"
      ]
     },
     "metadata": {},
     "output_type": "display_data"
    },
    {
     "data": {
      "application/vnd.jupyter.widget-view+json": {
       "model_id": "b2df3a861f7b466a934fb26d827d2f34",
       "version_major": 2,
       "version_minor": 0
      },
      "text/plain": [
       "chain 3 |          | 00:00 Status"
      ]
     },
     "metadata": {},
     "output_type": "display_data"
    },
    {
     "data": {
      "application/vnd.jupyter.widget-view+json": {
       "model_id": "77d280f36d804a2ebc791734691c8bee",
       "version_major": 2,
       "version_minor": 0
      },
      "text/plain": [
       "chain 4 |          | 00:00 Status"
      ]
     },
     "metadata": {},
     "output_type": "display_data"
    },
    {
     "name": "stdout",
     "output_type": "stream",
     "text": [
      "                                                                                                                                                                                                                                                                                                                                "
     ]
    },
    {
     "name": "stderr",
     "output_type": "stream",
     "text": [
      "17:08:27 - cmdstanpy - INFO - CmdStan done processing.\n"
     ]
    },
    {
     "name": "stdout",
     "output_type": "stream",
     "text": [
      "\n"
     ]
    },
    {
     "name": "stderr",
     "output_type": "stream",
     "text": [
      "17:08:29 - cmdstanpy - INFO - CmdStan start processing\n"
     ]
    },
    {
     "data": {
      "application/vnd.jupyter.widget-view+json": {
       "model_id": "b56da72b40954f17b21c3a8bf0c56ff5",
       "version_major": 2,
       "version_minor": 0
      },
      "text/plain": [
       "chain 1 |          | 00:00 Status"
      ]
     },
     "metadata": {},
     "output_type": "display_data"
    },
    {
     "data": {
      "application/vnd.jupyter.widget-view+json": {
       "model_id": "6c7b74c5edbf4f31841ca20408cc11a9",
       "version_major": 2,
       "version_minor": 0
      },
      "text/plain": [
       "chain 2 |          | 00:00 Status"
      ]
     },
     "metadata": {},
     "output_type": "display_data"
    },
    {
     "data": {
      "application/vnd.jupyter.widget-view+json": {
       "model_id": "389daea79c5544d383c5ceb507a63463",
       "version_major": 2,
       "version_minor": 0
      },
      "text/plain": [
       "chain 3 |          | 00:00 Status"
      ]
     },
     "metadata": {},
     "output_type": "display_data"
    },
    {
     "data": {
      "application/vnd.jupyter.widget-view+json": {
       "model_id": "a7aff76610f44e58a36c1b0333ada513",
       "version_major": 2,
       "version_minor": 0
      },
      "text/plain": [
       "chain 4 |          | 00:00 Status"
      ]
     },
     "metadata": {},
     "output_type": "display_data"
    },
    {
     "name": "stdout",
     "output_type": "stream",
     "text": [
      "                                                                                                                                                                                                                                                                                                                                "
     ]
    },
    {
     "name": "stderr",
     "output_type": "stream",
     "text": [
      "17:09:56 - cmdstanpy - INFO - CmdStan done processing.\n"
     ]
    },
    {
     "name": "stdout",
     "output_type": "stream",
     "text": [
      "\n"
     ]
    },
    {
     "name": "stderr",
     "output_type": "stream",
     "text": [
      "17:09:57 - cmdstanpy - INFO - CmdStan start processing\n"
     ]
    },
    {
     "data": {
      "application/vnd.jupyter.widget-view+json": {
       "model_id": "60176c04ca0b4e9fbe39e78992b1e0ec",
       "version_major": 2,
       "version_minor": 0
      },
      "text/plain": [
       "chain 1 |          | 00:00 Status"
      ]
     },
     "metadata": {},
     "output_type": "display_data"
    },
    {
     "data": {
      "application/vnd.jupyter.widget-view+json": {
       "model_id": "da31441faa574555aabf4da9ec270fd1",
       "version_major": 2,
       "version_minor": 0
      },
      "text/plain": [
       "chain 2 |          | 00:00 Status"
      ]
     },
     "metadata": {},
     "output_type": "display_data"
    },
    {
     "data": {
      "application/vnd.jupyter.widget-view+json": {
       "model_id": "8b114564a08e407aa1a0f3ffc67cc9da",
       "version_major": 2,
       "version_minor": 0
      },
      "text/plain": [
       "chain 3 |          | 00:00 Status"
      ]
     },
     "metadata": {},
     "output_type": "display_data"
    },
    {
     "data": {
      "application/vnd.jupyter.widget-view+json": {
       "model_id": "22b79114957a43eea33e632ac9dc7d3f",
       "version_major": 2,
       "version_minor": 0
      },
      "text/plain": [
       "chain 4 |          | 00:00 Status"
      ]
     },
     "metadata": {},
     "output_type": "display_data"
    },
    {
     "name": "stdout",
     "output_type": "stream",
     "text": [
      "                                                                                                                                                                                                                                                                                                                                "
     ]
    },
    {
     "name": "stderr",
     "output_type": "stream",
     "text": [
      "17:11:02 - cmdstanpy - INFO - CmdStan done processing.\n"
     ]
    },
    {
     "name": "stdout",
     "output_type": "stream",
     "text": [
      "\n"
     ]
    },
    {
     "name": "stderr",
     "output_type": "stream",
     "text": [
      "17:11:04 - cmdstanpy - INFO - CmdStan start processing\n"
     ]
    },
    {
     "data": {
      "application/vnd.jupyter.widget-view+json": {
       "model_id": "77208a3ee7534ff4b5f956eddd72dc69",
       "version_major": 2,
       "version_minor": 0
      },
      "text/plain": [
       "chain 1 |          | 00:00 Status"
      ]
     },
     "metadata": {},
     "output_type": "display_data"
    },
    {
     "data": {
      "application/vnd.jupyter.widget-view+json": {
       "model_id": "b6404b0d3e4448b88dd8f43dfb1d253c",
       "version_major": 2,
       "version_minor": 0
      },
      "text/plain": [
       "chain 2 |          | 00:00 Status"
      ]
     },
     "metadata": {},
     "output_type": "display_data"
    },
    {
     "data": {
      "application/vnd.jupyter.widget-view+json": {
       "model_id": "610bb9471a214699bb7bc49900038d83",
       "version_major": 2,
       "version_minor": 0
      },
      "text/plain": [
       "chain 3 |          | 00:00 Status"
      ]
     },
     "metadata": {},
     "output_type": "display_data"
    },
    {
     "data": {
      "application/vnd.jupyter.widget-view+json": {
       "model_id": "2d20a4c76c22429e8392151c9b8d99cc",
       "version_major": 2,
       "version_minor": 0
      },
      "text/plain": [
       "chain 4 |          | 00:00 Status"
      ]
     },
     "metadata": {},
     "output_type": "display_data"
    },
    {
     "name": "stdout",
     "output_type": "stream",
     "text": [
      "                                                                                                                                                                                                                                                                                                                                "
     ]
    },
    {
     "name": "stderr",
     "output_type": "stream",
     "text": [
      "17:12:27 - cmdstanpy - INFO - CmdStan done processing.\n"
     ]
    },
    {
     "name": "stdout",
     "output_type": "stream",
     "text": [
      "\n"
     ]
    },
    {
     "name": "stderr",
     "output_type": "stream",
     "text": [
      "17:12:29 - cmdstanpy - INFO - CmdStan start processing\n"
     ]
    },
    {
     "data": {
      "application/vnd.jupyter.widget-view+json": {
       "model_id": "81317d1cf2c741afa432bb2e1ee112aa",
       "version_major": 2,
       "version_minor": 0
      },
      "text/plain": [
       "chain 1 |          | 00:00 Status"
      ]
     },
     "metadata": {},
     "output_type": "display_data"
    },
    {
     "data": {
      "application/vnd.jupyter.widget-view+json": {
       "model_id": "11e03c39b3974ee1ad0cf0c07b39d64b",
       "version_major": 2,
       "version_minor": 0
      },
      "text/plain": [
       "chain 2 |          | 00:00 Status"
      ]
     },
     "metadata": {},
     "output_type": "display_data"
    },
    {
     "data": {
      "application/vnd.jupyter.widget-view+json": {
       "model_id": "33fd260e61f044f6ab5a5d024b1959e0",
       "version_major": 2,
       "version_minor": 0
      },
      "text/plain": [
       "chain 3 |          | 00:00 Status"
      ]
     },
     "metadata": {},
     "output_type": "display_data"
    },
    {
     "data": {
      "application/vnd.jupyter.widget-view+json": {
       "model_id": "15c93b81270e412f99305800b6d31dab",
       "version_major": 2,
       "version_minor": 0
      },
      "text/plain": [
       "chain 4 |          | 00:00 Status"
      ]
     },
     "metadata": {},
     "output_type": "display_data"
    },
    {
     "name": "stdout",
     "output_type": "stream",
     "text": [
      "                                                                                                                                                                                                                                                                                                                                "
     ]
    },
    {
     "name": "stderr",
     "output_type": "stream",
     "text": [
      "17:13:27 - cmdstanpy - INFO - CmdStan done processing.\n"
     ]
    },
    {
     "name": "stdout",
     "output_type": "stream",
     "text": [
      "\n"
     ]
    },
    {
     "name": "stderr",
     "output_type": "stream",
     "text": [
      "17:13:29 - cmdstanpy - INFO - CmdStan start processing\n"
     ]
    },
    {
     "data": {
      "application/vnd.jupyter.widget-view+json": {
       "model_id": "891ce80590b9489c966230df72a17697",
       "version_major": 2,
       "version_minor": 0
      },
      "text/plain": [
       "chain 1 |          | 00:00 Status"
      ]
     },
     "metadata": {},
     "output_type": "display_data"
    },
    {
     "data": {
      "application/vnd.jupyter.widget-view+json": {
       "model_id": "6322497db96c43a6a4346c61143fd8db",
       "version_major": 2,
       "version_minor": 0
      },
      "text/plain": [
       "chain 2 |          | 00:00 Status"
      ]
     },
     "metadata": {},
     "output_type": "display_data"
    },
    {
     "data": {
      "application/vnd.jupyter.widget-view+json": {
       "model_id": "dbb688dbed3b43688831113f2364ceae",
       "version_major": 2,
       "version_minor": 0
      },
      "text/plain": [
       "chain 3 |          | 00:00 Status"
      ]
     },
     "metadata": {},
     "output_type": "display_data"
    },
    {
     "data": {
      "application/vnd.jupyter.widget-view+json": {
       "model_id": "97e6512869644db0a3595448d8758bef",
       "version_major": 2,
       "version_minor": 0
      },
      "text/plain": [
       "chain 4 |          | 00:00 Status"
      ]
     },
     "metadata": {},
     "output_type": "display_data"
    },
    {
     "name": "stdout",
     "output_type": "stream",
     "text": [
      "                                                                                                                                                                                                                                                                                                                                "
     ]
    },
    {
     "name": "stderr",
     "output_type": "stream",
     "text": [
      "17:14:28 - cmdstanpy - INFO - CmdStan done processing.\n"
     ]
    },
    {
     "name": "stdout",
     "output_type": "stream",
     "text": [
      "\n"
     ]
    },
    {
     "name": "stderr",
     "output_type": "stream",
     "text": [
      "17:14:29 - cmdstanpy - INFO - CmdStan start processing\n"
     ]
    },
    {
     "data": {
      "application/vnd.jupyter.widget-view+json": {
       "model_id": "e85ef9357eaf4795a2f27c9505b7620e",
       "version_major": 2,
       "version_minor": 0
      },
      "text/plain": [
       "chain 1 |          | 00:00 Status"
      ]
     },
     "metadata": {},
     "output_type": "display_data"
    },
    {
     "data": {
      "application/vnd.jupyter.widget-view+json": {
       "model_id": "8ce76591349843efbf846278f06fa481",
       "version_major": 2,
       "version_minor": 0
      },
      "text/plain": [
       "chain 2 |          | 00:00 Status"
      ]
     },
     "metadata": {},
     "output_type": "display_data"
    },
    {
     "data": {
      "application/vnd.jupyter.widget-view+json": {
       "model_id": "3579dd92485b4ccf88674494782030ad",
       "version_major": 2,
       "version_minor": 0
      },
      "text/plain": [
       "chain 3 |          | 00:00 Status"
      ]
     },
     "metadata": {},
     "output_type": "display_data"
    },
    {
     "data": {
      "application/vnd.jupyter.widget-view+json": {
       "model_id": "05a58d7dfa4b4f78a5c5ff5f1276ba48",
       "version_major": 2,
       "version_minor": 0
      },
      "text/plain": [
       "chain 4 |          | 00:00 Status"
      ]
     },
     "metadata": {},
     "output_type": "display_data"
    },
    {
     "name": "stdout",
     "output_type": "stream",
     "text": [
      "                                                                                                                                                                                                                                                                                                                                "
     ]
    },
    {
     "name": "stderr",
     "output_type": "stream",
     "text": [
      "17:15:30 - cmdstanpy - INFO - CmdStan done processing.\n"
     ]
    },
    {
     "name": "stdout",
     "output_type": "stream",
     "text": [
      "\n"
     ]
    },
    {
     "name": "stderr",
     "output_type": "stream",
     "text": [
      "17:15:32 - cmdstanpy - INFO - CmdStan start processing\n"
     ]
    },
    {
     "data": {
      "application/vnd.jupyter.widget-view+json": {
       "model_id": "7a484db8bdb243fdab70056e81f31963",
       "version_major": 2,
       "version_minor": 0
      },
      "text/plain": [
       "chain 1 |          | 00:00 Status"
      ]
     },
     "metadata": {},
     "output_type": "display_data"
    },
    {
     "data": {
      "application/vnd.jupyter.widget-view+json": {
       "model_id": "dacdf74caec941c3b317a3b035fd06ab",
       "version_major": 2,
       "version_minor": 0
      },
      "text/plain": [
       "chain 2 |          | 00:00 Status"
      ]
     },
     "metadata": {},
     "output_type": "display_data"
    },
    {
     "data": {
      "application/vnd.jupyter.widget-view+json": {
       "model_id": "a34646e62f3b4234a3e98b06f704fe89",
       "version_major": 2,
       "version_minor": 0
      },
      "text/plain": [
       "chain 3 |          | 00:00 Status"
      ]
     },
     "metadata": {},
     "output_type": "display_data"
    },
    {
     "data": {
      "application/vnd.jupyter.widget-view+json": {
       "model_id": "d846a9d776214500b11191bb8aaaf8db",
       "version_major": 2,
       "version_minor": 0
      },
      "text/plain": [
       "chain 4 |          | 00:00 Status"
      ]
     },
     "metadata": {},
     "output_type": "display_data"
    },
    {
     "name": "stdout",
     "output_type": "stream",
     "text": [
      "                                                                                                                                                                                                                                                                                                                                "
     ]
    },
    {
     "name": "stderr",
     "output_type": "stream",
     "text": [
      "17:16:29 - cmdstanpy - INFO - CmdStan done processing.\n"
     ]
    },
    {
     "name": "stdout",
     "output_type": "stream",
     "text": [
      "\n"
     ]
    },
    {
     "name": "stderr",
     "output_type": "stream",
     "text": [
      "17:16:31 - cmdstanpy - INFO - CmdStan start processing\n"
     ]
    },
    {
     "data": {
      "application/vnd.jupyter.widget-view+json": {
       "model_id": "ddf0ceb08d1b4546b4be850c6fd7c24f",
       "version_major": 2,
       "version_minor": 0
      },
      "text/plain": [
       "chain 1 |          | 00:00 Status"
      ]
     },
     "metadata": {},
     "output_type": "display_data"
    },
    {
     "data": {
      "application/vnd.jupyter.widget-view+json": {
       "model_id": "453de497b814411dbdb19bcf044e0016",
       "version_major": 2,
       "version_minor": 0
      },
      "text/plain": [
       "chain 2 |          | 00:00 Status"
      ]
     },
     "metadata": {},
     "output_type": "display_data"
    },
    {
     "data": {
      "application/vnd.jupyter.widget-view+json": {
       "model_id": "612fbbd8369a4ca8a5f148a7a43c7100",
       "version_major": 2,
       "version_minor": 0
      },
      "text/plain": [
       "chain 3 |          | 00:00 Status"
      ]
     },
     "metadata": {},
     "output_type": "display_data"
    },
    {
     "data": {
      "application/vnd.jupyter.widget-view+json": {
       "model_id": "3a2709a0df4f459abf2a771c4e089a91",
       "version_major": 2,
       "version_minor": 0
      },
      "text/plain": [
       "chain 4 |          | 00:00 Status"
      ]
     },
     "metadata": {},
     "output_type": "display_data"
    },
    {
     "name": "stdout",
     "output_type": "stream",
     "text": [
      "                                                                                                                                                                                                                                                                                                                                "
     ]
    },
    {
     "name": "stderr",
     "output_type": "stream",
     "text": [
      "17:18:31 - cmdstanpy - INFO - CmdStan done processing.\n"
     ]
    },
    {
     "name": "stdout",
     "output_type": "stream",
     "text": [
      "\n"
     ]
    },
    {
     "name": "stderr",
     "output_type": "stream",
     "text": [
      "17:18:33 - cmdstanpy - INFO - CmdStan start processing\n"
     ]
    },
    {
     "data": {
      "application/vnd.jupyter.widget-view+json": {
       "model_id": "5ed26e6be5e34f23a397db4f1d522f46",
       "version_major": 2,
       "version_minor": 0
      },
      "text/plain": [
       "chain 1 |          | 00:00 Status"
      ]
     },
     "metadata": {},
     "output_type": "display_data"
    },
    {
     "data": {
      "application/vnd.jupyter.widget-view+json": {
       "model_id": "d075c61e07e74002b8be5a29678d6531",
       "version_major": 2,
       "version_minor": 0
      },
      "text/plain": [
       "chain 2 |          | 00:00 Status"
      ]
     },
     "metadata": {},
     "output_type": "display_data"
    },
    {
     "data": {
      "application/vnd.jupyter.widget-view+json": {
       "model_id": "3adcb79604864b7d91267223d6cbe569",
       "version_major": 2,
       "version_minor": 0
      },
      "text/plain": [
       "chain 3 |          | 00:00 Status"
      ]
     },
     "metadata": {},
     "output_type": "display_data"
    },
    {
     "data": {
      "application/vnd.jupyter.widget-view+json": {
       "model_id": "18379ba2277a4d5782637a82a4fe3f56",
       "version_major": 2,
       "version_minor": 0
      },
      "text/plain": [
       "chain 4 |          | 00:00 Status"
      ]
     },
     "metadata": {},
     "output_type": "display_data"
    },
    {
     "name": "stdout",
     "output_type": "stream",
     "text": [
      "                                                                                                                                                                                                                                                                                                                                "
     ]
    },
    {
     "name": "stderr",
     "output_type": "stream",
     "text": [
      "17:20:37 - cmdstanpy - INFO - CmdStan done processing.\n"
     ]
    },
    {
     "name": "stdout",
     "output_type": "stream",
     "text": [
      "\n"
     ]
    },
    {
     "name": "stderr",
     "output_type": "stream",
     "text": [
      "17:20:39 - cmdstanpy - INFO - CmdStan start processing\n"
     ]
    },
    {
     "data": {
      "application/vnd.jupyter.widget-view+json": {
       "model_id": "ddcd4dfe1b84412eb8041f86e5b38782",
       "version_major": 2,
       "version_minor": 0
      },
      "text/plain": [
       "chain 1 |          | 00:00 Status"
      ]
     },
     "metadata": {},
     "output_type": "display_data"
    },
    {
     "data": {
      "application/vnd.jupyter.widget-view+json": {
       "model_id": "5853a2dfc6bc477a907ded89f3237700",
       "version_major": 2,
       "version_minor": 0
      },
      "text/plain": [
       "chain 2 |          | 00:00 Status"
      ]
     },
     "metadata": {},
     "output_type": "display_data"
    },
    {
     "data": {
      "application/vnd.jupyter.widget-view+json": {
       "model_id": "e0c832c1125f4d53a32bfaeef3d38792",
       "version_major": 2,
       "version_minor": 0
      },
      "text/plain": [
       "chain 3 |          | 00:00 Status"
      ]
     },
     "metadata": {},
     "output_type": "display_data"
    },
    {
     "data": {
      "application/vnd.jupyter.widget-view+json": {
       "model_id": "74c1819dd6a34cfab670c77009051326",
       "version_major": 2,
       "version_minor": 0
      },
      "text/plain": [
       "chain 4 |          | 00:00 Status"
      ]
     },
     "metadata": {},
     "output_type": "display_data"
    },
    {
     "name": "stdout",
     "output_type": "stream",
     "text": [
      "                                                                                                                                                                                                                                                                                                                                "
     ]
    },
    {
     "name": "stderr",
     "output_type": "stream",
     "text": [
      "17:21:39 - cmdstanpy - INFO - CmdStan done processing.\n"
     ]
    },
    {
     "name": "stdout",
     "output_type": "stream",
     "text": [
      "\n"
     ]
    },
    {
     "name": "stderr",
     "output_type": "stream",
     "text": [
      "17:21:41 - cmdstanpy - INFO - CmdStan start processing\n"
     ]
    },
    {
     "data": {
      "application/vnd.jupyter.widget-view+json": {
       "model_id": "0b5b98b9677b4de7b44268c538395157",
       "version_major": 2,
       "version_minor": 0
      },
      "text/plain": [
       "chain 1 |          | 00:00 Status"
      ]
     },
     "metadata": {},
     "output_type": "display_data"
    },
    {
     "data": {
      "application/vnd.jupyter.widget-view+json": {
       "model_id": "d2167e3016d843d89615b3087f8560e2",
       "version_major": 2,
       "version_minor": 0
      },
      "text/plain": [
       "chain 2 |          | 00:00 Status"
      ]
     },
     "metadata": {},
     "output_type": "display_data"
    },
    {
     "data": {
      "application/vnd.jupyter.widget-view+json": {
       "model_id": "6d5b0b39db3f45ba8c201a8ae802a203",
       "version_major": 2,
       "version_minor": 0
      },
      "text/plain": [
       "chain 3 |          | 00:00 Status"
      ]
     },
     "metadata": {},
     "output_type": "display_data"
    },
    {
     "data": {
      "application/vnd.jupyter.widget-view+json": {
       "model_id": "198368bbc75f407c868c883c650b9794",
       "version_major": 2,
       "version_minor": 0
      },
      "text/plain": [
       "chain 4 |          | 00:00 Status"
      ]
     },
     "metadata": {},
     "output_type": "display_data"
    },
    {
     "name": "stdout",
     "output_type": "stream",
     "text": [
      "                                                                                                                                                                                                                                                                                                                                "
     ]
    },
    {
     "name": "stderr",
     "output_type": "stream",
     "text": [
      "17:22:53 - cmdstanpy - INFO - CmdStan done processing.\n"
     ]
    },
    {
     "name": "stdout",
     "output_type": "stream",
     "text": [
      "\n"
     ]
    },
    {
     "name": "stderr",
     "output_type": "stream",
     "text": [
      "17:22:55 - cmdstanpy - INFO - CmdStan start processing\n"
     ]
    },
    {
     "data": {
      "application/vnd.jupyter.widget-view+json": {
       "model_id": "6dda56306d4a4decaa72b7eed0c492cc",
       "version_major": 2,
       "version_minor": 0
      },
      "text/plain": [
       "chain 1 |          | 00:00 Status"
      ]
     },
     "metadata": {},
     "output_type": "display_data"
    },
    {
     "data": {
      "application/vnd.jupyter.widget-view+json": {
       "model_id": "0352d87b8d4946c0b57170a6a8378184",
       "version_major": 2,
       "version_minor": 0
      },
      "text/plain": [
       "chain 2 |          | 00:00 Status"
      ]
     },
     "metadata": {},
     "output_type": "display_data"
    },
    {
     "data": {
      "application/vnd.jupyter.widget-view+json": {
       "model_id": "53a7c539a7d1475885eeccab0e67eadd",
       "version_major": 2,
       "version_minor": 0
      },
      "text/plain": [
       "chain 3 |          | 00:00 Status"
      ]
     },
     "metadata": {},
     "output_type": "display_data"
    },
    {
     "data": {
      "application/vnd.jupyter.widget-view+json": {
       "model_id": "2f0db4b522ad4e3a8441f2b4d1905681",
       "version_major": 2,
       "version_minor": 0
      },
      "text/plain": [
       "chain 4 |          | 00:00 Status"
      ]
     },
     "metadata": {},
     "output_type": "display_data"
    },
    {
     "name": "stdout",
     "output_type": "stream",
     "text": [
      "                                                                                                                                                                                                                                                                                                                                "
     ]
    },
    {
     "name": "stderr",
     "output_type": "stream",
     "text": [
      "17:24:00 - cmdstanpy - INFO - CmdStan done processing.\n"
     ]
    },
    {
     "name": "stdout",
     "output_type": "stream",
     "text": [
      "\n"
     ]
    },
    {
     "name": "stderr",
     "output_type": "stream",
     "text": [
      "17:24:02 - cmdstanpy - INFO - CmdStan start processing\n"
     ]
    },
    {
     "data": {
      "application/vnd.jupyter.widget-view+json": {
       "model_id": "7ea1c2da9423421d9b8a05ebbce9d6f9",
       "version_major": 2,
       "version_minor": 0
      },
      "text/plain": [
       "chain 1 |          | 00:00 Status"
      ]
     },
     "metadata": {},
     "output_type": "display_data"
    },
    {
     "data": {
      "application/vnd.jupyter.widget-view+json": {
       "model_id": "17942c9f54164d59bbdad20c9b44be9e",
       "version_major": 2,
       "version_minor": 0
      },
      "text/plain": [
       "chain 2 |          | 00:00 Status"
      ]
     },
     "metadata": {},
     "output_type": "display_data"
    },
    {
     "data": {
      "application/vnd.jupyter.widget-view+json": {
       "model_id": "2cf2a79d7f934947b05a2d446b506696",
       "version_major": 2,
       "version_minor": 0
      },
      "text/plain": [
       "chain 3 |          | 00:00 Status"
      ]
     },
     "metadata": {},
     "output_type": "display_data"
    },
    {
     "data": {
      "application/vnd.jupyter.widget-view+json": {
       "model_id": "9a19999751144df39cdd8c5784e716bc",
       "version_major": 2,
       "version_minor": 0
      },
      "text/plain": [
       "chain 4 |          | 00:00 Status"
      ]
     },
     "metadata": {},
     "output_type": "display_data"
    },
    {
     "name": "stdout",
     "output_type": "stream",
     "text": [
      "                                                                                                                                                                                                                                                                                                                                "
     ]
    },
    {
     "name": "stderr",
     "output_type": "stream",
     "text": [
      "17:25:31 - cmdstanpy - INFO - CmdStan done processing.\n"
     ]
    },
    {
     "name": "stdout",
     "output_type": "stream",
     "text": [
      "\n"
     ]
    },
    {
     "name": "stderr",
     "output_type": "stream",
     "text": [
      "17:25:32 - cmdstanpy - INFO - CmdStan start processing\n"
     ]
    },
    {
     "data": {
      "application/vnd.jupyter.widget-view+json": {
       "model_id": "f0308dd54b4f4712b4b7db636bc0213e",
       "version_major": 2,
       "version_minor": 0
      },
      "text/plain": [
       "chain 1 |          | 00:00 Status"
      ]
     },
     "metadata": {},
     "output_type": "display_data"
    },
    {
     "data": {
      "application/vnd.jupyter.widget-view+json": {
       "model_id": "3b545276a8bf496e9554e0d28279b7c2",
       "version_major": 2,
       "version_minor": 0
      },
      "text/plain": [
       "chain 2 |          | 00:00 Status"
      ]
     },
     "metadata": {},
     "output_type": "display_data"
    },
    {
     "data": {
      "application/vnd.jupyter.widget-view+json": {
       "model_id": "906c252bbad348fb82ec9f2a7781bd43",
       "version_major": 2,
       "version_minor": 0
      },
      "text/plain": [
       "chain 3 |          | 00:00 Status"
      ]
     },
     "metadata": {},
     "output_type": "display_data"
    },
    {
     "data": {
      "application/vnd.jupyter.widget-view+json": {
       "model_id": "f8dfbfa1bcb34270bd8c51cdd6a31425",
       "version_major": 2,
       "version_minor": 0
      },
      "text/plain": [
       "chain 4 |          | 00:00 Status"
      ]
     },
     "metadata": {},
     "output_type": "display_data"
    },
    {
     "name": "stdout",
     "output_type": "stream",
     "text": [
      "                                                                                                                                                                                                                                                                                                                                "
     ]
    },
    {
     "name": "stderr",
     "output_type": "stream",
     "text": [
      "17:26:31 - cmdstanpy - INFO - CmdStan done processing.\n"
     ]
    },
    {
     "name": "stdout",
     "output_type": "stream",
     "text": [
      "\n"
     ]
    },
    {
     "name": "stderr",
     "output_type": "stream",
     "text": [
      "17:26:32 - cmdstanpy - INFO - CmdStan start processing\n"
     ]
    },
    {
     "data": {
      "application/vnd.jupyter.widget-view+json": {
       "model_id": "8cf332816aeb4c998da9ca497e4c2a57",
       "version_major": 2,
       "version_minor": 0
      },
      "text/plain": [
       "chain 1 |          | 00:00 Status"
      ]
     },
     "metadata": {},
     "output_type": "display_data"
    },
    {
     "data": {
      "application/vnd.jupyter.widget-view+json": {
       "model_id": "813250ec0795453182c9a3aacfeb9d31",
       "version_major": 2,
       "version_minor": 0
      },
      "text/plain": [
       "chain 2 |          | 00:00 Status"
      ]
     },
     "metadata": {},
     "output_type": "display_data"
    },
    {
     "data": {
      "application/vnd.jupyter.widget-view+json": {
       "model_id": "84c76280ed8a46e2845146effbe61f2a",
       "version_major": 2,
       "version_minor": 0
      },
      "text/plain": [
       "chain 3 |          | 00:00 Status"
      ]
     },
     "metadata": {},
     "output_type": "display_data"
    },
    {
     "data": {
      "application/vnd.jupyter.widget-view+json": {
       "model_id": "405bf97462d74a0b89c1cbeb5c4a50e7",
       "version_major": 2,
       "version_minor": 0
      },
      "text/plain": [
       "chain 4 |          | 00:00 Status"
      ]
     },
     "metadata": {},
     "output_type": "display_data"
    },
    {
     "name": "stdout",
     "output_type": "stream",
     "text": [
      "                                                                                                                                                                                                                                                                                                                                "
     ]
    },
    {
     "name": "stderr",
     "output_type": "stream",
     "text": [
      "17:28:11 - cmdstanpy - INFO - CmdStan done processing.\n"
     ]
    },
    {
     "name": "stdout",
     "output_type": "stream",
     "text": [
      "\n"
     ]
    },
    {
     "name": "stderr",
     "output_type": "stream",
     "text": [
      "17:28:13 - cmdstanpy - INFO - CmdStan start processing\n"
     ]
    },
    {
     "data": {
      "application/vnd.jupyter.widget-view+json": {
       "model_id": "77553084293542c5896c6cdded63538d",
       "version_major": 2,
       "version_minor": 0
      },
      "text/plain": [
       "chain 1 |          | 00:00 Status"
      ]
     },
     "metadata": {},
     "output_type": "display_data"
    },
    {
     "data": {
      "application/vnd.jupyter.widget-view+json": {
       "model_id": "3442d7df03594286aa3772b1140e5efd",
       "version_major": 2,
       "version_minor": 0
      },
      "text/plain": [
       "chain 2 |          | 00:00 Status"
      ]
     },
     "metadata": {},
     "output_type": "display_data"
    },
    {
     "data": {
      "application/vnd.jupyter.widget-view+json": {
       "model_id": "e34811ede2024f7987eb77d1954b0f29",
       "version_major": 2,
       "version_minor": 0
      },
      "text/plain": [
       "chain 3 |          | 00:00 Status"
      ]
     },
     "metadata": {},
     "output_type": "display_data"
    },
    {
     "data": {
      "application/vnd.jupyter.widget-view+json": {
       "model_id": "e9ea13acd4824f5a8c1c19958e7ce221",
       "version_major": 2,
       "version_minor": 0
      },
      "text/plain": [
       "chain 4 |          | 00:00 Status"
      ]
     },
     "metadata": {},
     "output_type": "display_data"
    },
    {
     "name": "stdout",
     "output_type": "stream",
     "text": [
      "                                                                                                                                                                                                                                                                                                                                "
     ]
    },
    {
     "name": "stderr",
     "output_type": "stream",
     "text": [
      "17:29:54 - cmdstanpy - INFO - CmdStan done processing.\n"
     ]
    },
    {
     "name": "stdout",
     "output_type": "stream",
     "text": [
      "\n"
     ]
    },
    {
     "name": "stderr",
     "output_type": "stream",
     "text": [
      "17:29:56 - cmdstanpy - INFO - CmdStan start processing\n"
     ]
    },
    {
     "data": {
      "application/vnd.jupyter.widget-view+json": {
       "model_id": "693f6c22c7654a608c4b7a88db1e0ab1",
       "version_major": 2,
       "version_minor": 0
      },
      "text/plain": [
       "chain 1 |          | 00:00 Status"
      ]
     },
     "metadata": {},
     "output_type": "display_data"
    },
    {
     "data": {
      "application/vnd.jupyter.widget-view+json": {
       "model_id": "efb561bd02a0492da0420eb2bf1cbd77",
       "version_major": 2,
       "version_minor": 0
      },
      "text/plain": [
       "chain 2 |          | 00:00 Status"
      ]
     },
     "metadata": {},
     "output_type": "display_data"
    },
    {
     "data": {
      "application/vnd.jupyter.widget-view+json": {
       "model_id": "329609c991a848b79e9e48713550d8d4",
       "version_major": 2,
       "version_minor": 0
      },
      "text/plain": [
       "chain 3 |          | 00:00 Status"
      ]
     },
     "metadata": {},
     "output_type": "display_data"
    },
    {
     "data": {
      "application/vnd.jupyter.widget-view+json": {
       "model_id": "16a04f5d73ef401fb80fe5cc1944f286",
       "version_major": 2,
       "version_minor": 0
      },
      "text/plain": [
       "chain 4 |          | 00:00 Status"
      ]
     },
     "metadata": {},
     "output_type": "display_data"
    },
    {
     "name": "stdout",
     "output_type": "stream",
     "text": [
      "                                                                                                                                                                                                                                                                                                                                "
     ]
    },
    {
     "name": "stderr",
     "output_type": "stream",
     "text": [
      "17:31:28 - cmdstanpy - INFO - CmdStan done processing.\n"
     ]
    },
    {
     "name": "stdout",
     "output_type": "stream",
     "text": [
      "\n"
     ]
    },
    {
     "name": "stderr",
     "output_type": "stream",
     "text": [
      "17:31:30 - cmdstanpy - INFO - CmdStan start processing\n"
     ]
    },
    {
     "data": {
      "application/vnd.jupyter.widget-view+json": {
       "model_id": "cfe2fe2034384df88301c116f2aed4da",
       "version_major": 2,
       "version_minor": 0
      },
      "text/plain": [
       "chain 1 |          | 00:00 Status"
      ]
     },
     "metadata": {},
     "output_type": "display_data"
    },
    {
     "data": {
      "application/vnd.jupyter.widget-view+json": {
       "model_id": "70fd189984ca4cd3bd454035fa005a98",
       "version_major": 2,
       "version_minor": 0
      },
      "text/plain": [
       "chain 2 |          | 00:00 Status"
      ]
     },
     "metadata": {},
     "output_type": "display_data"
    },
    {
     "data": {
      "application/vnd.jupyter.widget-view+json": {
       "model_id": "39ad1a9115f147a9b1e848987882d516",
       "version_major": 2,
       "version_minor": 0
      },
      "text/plain": [
       "chain 3 |          | 00:00 Status"
      ]
     },
     "metadata": {},
     "output_type": "display_data"
    },
    {
     "data": {
      "application/vnd.jupyter.widget-view+json": {
       "model_id": "742834e6cd894808951965849b73b6e7",
       "version_major": 2,
       "version_minor": 0
      },
      "text/plain": [
       "chain 4 |          | 00:00 Status"
      ]
     },
     "metadata": {},
     "output_type": "display_data"
    },
    {
     "name": "stdout",
     "output_type": "stream",
     "text": [
      "                                                                                                                                                                                                                                                                                                                                "
     ]
    },
    {
     "name": "stderr",
     "output_type": "stream",
     "text": [
      "17:32:23 - cmdstanpy - INFO - CmdStan done processing.\n"
     ]
    },
    {
     "name": "stdout",
     "output_type": "stream",
     "text": [
      "\n"
     ]
    },
    {
     "name": "stderr",
     "output_type": "stream",
     "text": [
      "17:32:25 - cmdstanpy - INFO - CmdStan start processing\n"
     ]
    },
    {
     "data": {
      "application/vnd.jupyter.widget-view+json": {
       "model_id": "61f7423cca2c48578cc817909a9742ef",
       "version_major": 2,
       "version_minor": 0
      },
      "text/plain": [
       "chain 1 |          | 00:00 Status"
      ]
     },
     "metadata": {},
     "output_type": "display_data"
    },
    {
     "data": {
      "application/vnd.jupyter.widget-view+json": {
       "model_id": "9c46bdd6c13344909aa0a76f6b3cfcfd",
       "version_major": 2,
       "version_minor": 0
      },
      "text/plain": [
       "chain 2 |          | 00:00 Status"
      ]
     },
     "metadata": {},
     "output_type": "display_data"
    },
    {
     "data": {
      "application/vnd.jupyter.widget-view+json": {
       "model_id": "266870bcba444de68035f05d205e8a45",
       "version_major": 2,
       "version_minor": 0
      },
      "text/plain": [
       "chain 3 |          | 00:00 Status"
      ]
     },
     "metadata": {},
     "output_type": "display_data"
    },
    {
     "data": {
      "application/vnd.jupyter.widget-view+json": {
       "model_id": "03aa70114115444d9d38f8b8635d19e0",
       "version_major": 2,
       "version_minor": 0
      },
      "text/plain": [
       "chain 4 |          | 00:00 Status"
      ]
     },
     "metadata": {},
     "output_type": "display_data"
    },
    {
     "name": "stdout",
     "output_type": "stream",
     "text": [
      "                                                                                                                                                                                                                                                                                                                                "
     ]
    },
    {
     "name": "stderr",
     "output_type": "stream",
     "text": [
      "17:33:17 - cmdstanpy - INFO - CmdStan done processing.\n"
     ]
    },
    {
     "name": "stdout",
     "output_type": "stream",
     "text": [
      "\n"
     ]
    },
    {
     "name": "stderr",
     "output_type": "stream",
     "text": [
      "17:33:19 - cmdstanpy - INFO - CmdStan start processing\n"
     ]
    },
    {
     "data": {
      "application/vnd.jupyter.widget-view+json": {
       "model_id": "024c48a8523b469b9256f6013c1cb6b1",
       "version_major": 2,
       "version_minor": 0
      },
      "text/plain": [
       "chain 1 |          | 00:00 Status"
      ]
     },
     "metadata": {},
     "output_type": "display_data"
    },
    {
     "data": {
      "application/vnd.jupyter.widget-view+json": {
       "model_id": "48cb34b44e1b4da38c0e117422baacee",
       "version_major": 2,
       "version_minor": 0
      },
      "text/plain": [
       "chain 2 |          | 00:00 Status"
      ]
     },
     "metadata": {},
     "output_type": "display_data"
    },
    {
     "data": {
      "application/vnd.jupyter.widget-view+json": {
       "model_id": "cbd5aa54392a462bbbfa7dc3c99c4f6f",
       "version_major": 2,
       "version_minor": 0
      },
      "text/plain": [
       "chain 3 |          | 00:00 Status"
      ]
     },
     "metadata": {},
     "output_type": "display_data"
    },
    {
     "data": {
      "application/vnd.jupyter.widget-view+json": {
       "model_id": "0d908d3bf6724c2582a42726674d53a2",
       "version_major": 2,
       "version_minor": 0
      },
      "text/plain": [
       "chain 4 |          | 00:00 Status"
      ]
     },
     "metadata": {},
     "output_type": "display_data"
    },
    {
     "name": "stdout",
     "output_type": "stream",
     "text": [
      "                                                                                                                                                                                                                                                                                                                                "
     ]
    },
    {
     "name": "stderr",
     "output_type": "stream",
     "text": [
      "17:34:20 - cmdstanpy - INFO - CmdStan done processing.\n"
     ]
    },
    {
     "name": "stdout",
     "output_type": "stream",
     "text": [
      "\n"
     ]
    },
    {
     "name": "stderr",
     "output_type": "stream",
     "text": [
      "17:34:22 - cmdstanpy - INFO - CmdStan start processing\n"
     ]
    },
    {
     "data": {
      "application/vnd.jupyter.widget-view+json": {
       "model_id": "10d481ee9e444b4da602520b7270509d",
       "version_major": 2,
       "version_minor": 0
      },
      "text/plain": [
       "chain 1 |          | 00:00 Status"
      ]
     },
     "metadata": {},
     "output_type": "display_data"
    },
    {
     "data": {
      "application/vnd.jupyter.widget-view+json": {
       "model_id": "9462b3a7fb6d4bbc8d79a8c05199dcd6",
       "version_major": 2,
       "version_minor": 0
      },
      "text/plain": [
       "chain 2 |          | 00:00 Status"
      ]
     },
     "metadata": {},
     "output_type": "display_data"
    },
    {
     "data": {
      "application/vnd.jupyter.widget-view+json": {
       "model_id": "a3fe000e4e4b4cfb9a4ca7470322115e",
       "version_major": 2,
       "version_minor": 0
      },
      "text/plain": [
       "chain 3 |          | 00:00 Status"
      ]
     },
     "metadata": {},
     "output_type": "display_data"
    },
    {
     "data": {
      "application/vnd.jupyter.widget-view+json": {
       "model_id": "bca7ab316f4f49618650afbcd08fad4f",
       "version_major": 2,
       "version_minor": 0
      },
      "text/plain": [
       "chain 4 |          | 00:00 Status"
      ]
     },
     "metadata": {},
     "output_type": "display_data"
    },
    {
     "name": "stdout",
     "output_type": "stream",
     "text": [
      "                                                                                                                                                                                                                                                                                                                                "
     ]
    },
    {
     "name": "stderr",
     "output_type": "stream",
     "text": [
      "17:35:21 - cmdstanpy - INFO - CmdStan done processing.\n"
     ]
    },
    {
     "name": "stdout",
     "output_type": "stream",
     "text": [
      "\n"
     ]
    },
    {
     "name": "stderr",
     "output_type": "stream",
     "text": [
      "17:35:23 - cmdstanpy - INFO - CmdStan start processing\n"
     ]
    },
    {
     "data": {
      "application/vnd.jupyter.widget-view+json": {
       "model_id": "e2aca4510d0a4fce8fe9e4e8ff578e30",
       "version_major": 2,
       "version_minor": 0
      },
      "text/plain": [
       "chain 1 |          | 00:00 Status"
      ]
     },
     "metadata": {},
     "output_type": "display_data"
    },
    {
     "data": {
      "application/vnd.jupyter.widget-view+json": {
       "model_id": "59a20d56e6fb4e9e892eeedc028dbf82",
       "version_major": 2,
       "version_minor": 0
      },
      "text/plain": [
       "chain 2 |          | 00:00 Status"
      ]
     },
     "metadata": {},
     "output_type": "display_data"
    },
    {
     "data": {
      "application/vnd.jupyter.widget-view+json": {
       "model_id": "2789d86e181049b0a4d55fa8635e58c4",
       "version_major": 2,
       "version_minor": 0
      },
      "text/plain": [
       "chain 3 |          | 00:00 Status"
      ]
     },
     "metadata": {},
     "output_type": "display_data"
    },
    {
     "data": {
      "application/vnd.jupyter.widget-view+json": {
       "model_id": "317c47409e8e412994a0b7e2f3c0d1b8",
       "version_major": 2,
       "version_minor": 0
      },
      "text/plain": [
       "chain 4 |          | 00:00 Status"
      ]
     },
     "metadata": {},
     "output_type": "display_data"
    },
    {
     "name": "stdout",
     "output_type": "stream",
     "text": [
      "                                                                                                                                                                                                                                                                                                                                "
     ]
    },
    {
     "name": "stderr",
     "output_type": "stream",
     "text": [
      "17:37:41 - cmdstanpy - INFO - CmdStan done processing.\n"
     ]
    },
    {
     "name": "stdout",
     "output_type": "stream",
     "text": [
      "\n"
     ]
    },
    {
     "name": "stderr",
     "output_type": "stream",
     "text": [
      "17:37:42 - cmdstanpy - INFO - CmdStan start processing\n"
     ]
    },
    {
     "data": {
      "application/vnd.jupyter.widget-view+json": {
       "model_id": "b14b4fa4f8354da688b19878357736f4",
       "version_major": 2,
       "version_minor": 0
      },
      "text/plain": [
       "chain 1 |          | 00:00 Status"
      ]
     },
     "metadata": {},
     "output_type": "display_data"
    },
    {
     "data": {
      "application/vnd.jupyter.widget-view+json": {
       "model_id": "fd49641a4b5c42ad9e7c0a4e3c40666d",
       "version_major": 2,
       "version_minor": 0
      },
      "text/plain": [
       "chain 2 |          | 00:00 Status"
      ]
     },
     "metadata": {},
     "output_type": "display_data"
    },
    {
     "data": {
      "application/vnd.jupyter.widget-view+json": {
       "model_id": "b5768cdddbea434abd91cc62842d32ec",
       "version_major": 2,
       "version_minor": 0
      },
      "text/plain": [
       "chain 3 |          | 00:00 Status"
      ]
     },
     "metadata": {},
     "output_type": "display_data"
    },
    {
     "data": {
      "application/vnd.jupyter.widget-view+json": {
       "model_id": "290fe679670f4c82be9fd1944d34d151",
       "version_major": 2,
       "version_minor": 0
      },
      "text/plain": [
       "chain 4 |          | 00:00 Status"
      ]
     },
     "metadata": {},
     "output_type": "display_data"
    },
    {
     "name": "stdout",
     "output_type": "stream",
     "text": [
      "                                                                                                                                                                                                                                                                                                                                "
     ]
    },
    {
     "name": "stderr",
     "output_type": "stream",
     "text": [
      "17:39:29 - cmdstanpy - INFO - CmdStan done processing.\n"
     ]
    },
    {
     "name": "stdout",
     "output_type": "stream",
     "text": [
      "\n"
     ]
    },
    {
     "name": "stderr",
     "output_type": "stream",
     "text": [
      "17:39:31 - cmdstanpy - INFO - CmdStan start processing\n"
     ]
    },
    {
     "data": {
      "application/vnd.jupyter.widget-view+json": {
       "model_id": "0ad97e7d6d7c4ff9bcc6e6c6f887aa1c",
       "version_major": 2,
       "version_minor": 0
      },
      "text/plain": [
       "chain 1 |          | 00:00 Status"
      ]
     },
     "metadata": {},
     "output_type": "display_data"
    },
    {
     "data": {
      "application/vnd.jupyter.widget-view+json": {
       "model_id": "0d17c450e5c94d00b90e207b82256163",
       "version_major": 2,
       "version_minor": 0
      },
      "text/plain": [
       "chain 2 |          | 00:00 Status"
      ]
     },
     "metadata": {},
     "output_type": "display_data"
    },
    {
     "data": {
      "application/vnd.jupyter.widget-view+json": {
       "model_id": "2dce5f12364f48af830ae5e73caf4c1a",
       "version_major": 2,
       "version_minor": 0
      },
      "text/plain": [
       "chain 3 |          | 00:00 Status"
      ]
     },
     "metadata": {},
     "output_type": "display_data"
    },
    {
     "data": {
      "application/vnd.jupyter.widget-view+json": {
       "model_id": "4ae5eb04d01c4bbdbd33e01327be36c1",
       "version_major": 2,
       "version_minor": 0
      },
      "text/plain": [
       "chain 4 |          | 00:00 Status"
      ]
     },
     "metadata": {},
     "output_type": "display_data"
    },
    {
     "name": "stdout",
     "output_type": "stream",
     "text": [
      "                                                                                                                                                                                                                                                                                                                                "
     ]
    },
    {
     "name": "stderr",
     "output_type": "stream",
     "text": [
      "17:40:37 - cmdstanpy - INFO - CmdStan done processing.\n"
     ]
    },
    {
     "name": "stdout",
     "output_type": "stream",
     "text": [
      "\n"
     ]
    },
    {
     "name": "stderr",
     "output_type": "stream",
     "text": [
      "17:40:39 - cmdstanpy - INFO - CmdStan start processing\n"
     ]
    },
    {
     "data": {
      "application/vnd.jupyter.widget-view+json": {
       "model_id": "7639590874c6463995c718f0f54c4d0c",
       "version_major": 2,
       "version_minor": 0
      },
      "text/plain": [
       "chain 1 |          | 00:00 Status"
      ]
     },
     "metadata": {},
     "output_type": "display_data"
    },
    {
     "data": {
      "application/vnd.jupyter.widget-view+json": {
       "model_id": "0d37a67007c949fea1043b57e74ab032",
       "version_major": 2,
       "version_minor": 0
      },
      "text/plain": [
       "chain 2 |          | 00:00 Status"
      ]
     },
     "metadata": {},
     "output_type": "display_data"
    },
    {
     "data": {
      "application/vnd.jupyter.widget-view+json": {
       "model_id": "c53e89a384984cf68bbb72f684670b0d",
       "version_major": 2,
       "version_minor": 0
      },
      "text/plain": [
       "chain 3 |          | 00:00 Status"
      ]
     },
     "metadata": {},
     "output_type": "display_data"
    },
    {
     "data": {
      "application/vnd.jupyter.widget-view+json": {
       "model_id": "03e3f3675aa74992be81239cb03d2410",
       "version_major": 2,
       "version_minor": 0
      },
      "text/plain": [
       "chain 4 |          | 00:00 Status"
      ]
     },
     "metadata": {},
     "output_type": "display_data"
    },
    {
     "name": "stdout",
     "output_type": "stream",
     "text": [
      "                                                                                                                                                                                                                                                                                                                                "
     ]
    },
    {
     "name": "stderr",
     "output_type": "stream",
     "text": [
      "17:41:41 - cmdstanpy - INFO - CmdStan done processing.\n"
     ]
    },
    {
     "name": "stdout",
     "output_type": "stream",
     "text": [
      "\n"
     ]
    },
    {
     "name": "stderr",
     "output_type": "stream",
     "text": [
      "17:41:43 - cmdstanpy - INFO - CmdStan start processing\n"
     ]
    },
    {
     "data": {
      "application/vnd.jupyter.widget-view+json": {
       "model_id": "c8bd0a106621456686299eae5b21d673",
       "version_major": 2,
       "version_minor": 0
      },
      "text/plain": [
       "chain 1 |          | 00:00 Status"
      ]
     },
     "metadata": {},
     "output_type": "display_data"
    },
    {
     "data": {
      "application/vnd.jupyter.widget-view+json": {
       "model_id": "79acd4677ef24f35ab5dd223686d4ccd",
       "version_major": 2,
       "version_minor": 0
      },
      "text/plain": [
       "chain 2 |          | 00:00 Status"
      ]
     },
     "metadata": {},
     "output_type": "display_data"
    },
    {
     "data": {
      "application/vnd.jupyter.widget-view+json": {
       "model_id": "65fb94b247f0456ebae07634e6cf655a",
       "version_major": 2,
       "version_minor": 0
      },
      "text/plain": [
       "chain 3 |          | 00:00 Status"
      ]
     },
     "metadata": {},
     "output_type": "display_data"
    },
    {
     "data": {
      "application/vnd.jupyter.widget-view+json": {
       "model_id": "4ad1ce59a05942fa98e62f3a80e549f3",
       "version_major": 2,
       "version_minor": 0
      },
      "text/plain": [
       "chain 4 |          | 00:00 Status"
      ]
     },
     "metadata": {},
     "output_type": "display_data"
    },
    {
     "name": "stdout",
     "output_type": "stream",
     "text": [
      "                                                                                                                                                                                                                                                                                                                                "
     ]
    },
    {
     "name": "stderr",
     "output_type": "stream",
     "text": [
      "17:44:20 - cmdstanpy - INFO - CmdStan done processing.\n"
     ]
    },
    {
     "name": "stdout",
     "output_type": "stream",
     "text": [
      "\n"
     ]
    },
    {
     "name": "stderr",
     "output_type": "stream",
     "text": [
      "17:44:22 - cmdstanpy - INFO - CmdStan start processing\n"
     ]
    },
    {
     "data": {
      "application/vnd.jupyter.widget-view+json": {
       "model_id": "e5b68cdd592e416d960a4f61c351265b",
       "version_major": 2,
       "version_minor": 0
      },
      "text/plain": [
       "chain 1 |          | 00:00 Status"
      ]
     },
     "metadata": {},
     "output_type": "display_data"
    },
    {
     "data": {
      "application/vnd.jupyter.widget-view+json": {
       "model_id": "8cf88036531d4ac1991122b6a804e90e",
       "version_major": 2,
       "version_minor": 0
      },
      "text/plain": [
       "chain 2 |          | 00:00 Status"
      ]
     },
     "metadata": {},
     "output_type": "display_data"
    },
    {
     "data": {
      "application/vnd.jupyter.widget-view+json": {
       "model_id": "22c5e60b400248d59ed0ddc2343b00eb",
       "version_major": 2,
       "version_minor": 0
      },
      "text/plain": [
       "chain 3 |          | 00:00 Status"
      ]
     },
     "metadata": {},
     "output_type": "display_data"
    },
    {
     "data": {
      "application/vnd.jupyter.widget-view+json": {
       "model_id": "866c1c32ad7440ae9429f6bb074b53f0",
       "version_major": 2,
       "version_minor": 0
      },
      "text/plain": [
       "chain 4 |          | 00:00 Status"
      ]
     },
     "metadata": {},
     "output_type": "display_data"
    },
    {
     "name": "stdout",
     "output_type": "stream",
     "text": [
      "                                                                                                                                                                                                                                                                                                                                "
     ]
    },
    {
     "name": "stderr",
     "output_type": "stream",
     "text": [
      "17:45:19 - cmdstanpy - INFO - CmdStan done processing.\n"
     ]
    },
    {
     "name": "stdout",
     "output_type": "stream",
     "text": [
      "\n"
     ]
    },
    {
     "name": "stderr",
     "output_type": "stream",
     "text": [
      "17:45:21 - cmdstanpy - INFO - CmdStan start processing\n"
     ]
    },
    {
     "data": {
      "application/vnd.jupyter.widget-view+json": {
       "model_id": "45dea019435d416fb16ab609e6a3a9fa",
       "version_major": 2,
       "version_minor": 0
      },
      "text/plain": [
       "chain 1 |          | 00:00 Status"
      ]
     },
     "metadata": {},
     "output_type": "display_data"
    },
    {
     "data": {
      "application/vnd.jupyter.widget-view+json": {
       "model_id": "cbf726b8287e4b629e8180fd53c1209e",
       "version_major": 2,
       "version_minor": 0
      },
      "text/plain": [
       "chain 2 |          | 00:00 Status"
      ]
     },
     "metadata": {},
     "output_type": "display_data"
    },
    {
     "data": {
      "application/vnd.jupyter.widget-view+json": {
       "model_id": "89a4a29ac9b04966bd65f11791725341",
       "version_major": 2,
       "version_minor": 0
      },
      "text/plain": [
       "chain 3 |          | 00:00 Status"
      ]
     },
     "metadata": {},
     "output_type": "display_data"
    },
    {
     "data": {
      "application/vnd.jupyter.widget-view+json": {
       "model_id": "5f645f82d6184dc283e405ad9e4eb534",
       "version_major": 2,
       "version_minor": 0
      },
      "text/plain": [
       "chain 4 |          | 00:00 Status"
      ]
     },
     "metadata": {},
     "output_type": "display_data"
    },
    {
     "name": "stdout",
     "output_type": "stream",
     "text": [
      "                                                                                                                                                                                                                                                                                                                                "
     ]
    },
    {
     "name": "stderr",
     "output_type": "stream",
     "text": [
      "17:46:13 - cmdstanpy - INFO - CmdStan done processing.\n"
     ]
    },
    {
     "name": "stdout",
     "output_type": "stream",
     "text": [
      "\n"
     ]
    },
    {
     "name": "stderr",
     "output_type": "stream",
     "text": [
      "17:46:15 - cmdstanpy - INFO - CmdStan start processing\n"
     ]
    },
    {
     "data": {
      "application/vnd.jupyter.widget-view+json": {
       "model_id": "606754dab2624575bcb8abc2b1b2bf5b",
       "version_major": 2,
       "version_minor": 0
      },
      "text/plain": [
       "chain 1 |          | 00:00 Status"
      ]
     },
     "metadata": {},
     "output_type": "display_data"
    },
    {
     "data": {
      "application/vnd.jupyter.widget-view+json": {
       "model_id": "2ff3b17070ba4a27b21f9b5bf5a5a62e",
       "version_major": 2,
       "version_minor": 0
      },
      "text/plain": [
       "chain 2 |          | 00:00 Status"
      ]
     },
     "metadata": {},
     "output_type": "display_data"
    },
    {
     "data": {
      "application/vnd.jupyter.widget-view+json": {
       "model_id": "db6b1ecd538d45598f180e5be67178a8",
       "version_major": 2,
       "version_minor": 0
      },
      "text/plain": [
       "chain 3 |          | 00:00 Status"
      ]
     },
     "metadata": {},
     "output_type": "display_data"
    },
    {
     "data": {
      "application/vnd.jupyter.widget-view+json": {
       "model_id": "d980703c43b74e41aa2a6b564ed234ae",
       "version_major": 2,
       "version_minor": 0
      },
      "text/plain": [
       "chain 4 |          | 00:00 Status"
      ]
     },
     "metadata": {},
     "output_type": "display_data"
    },
    {
     "name": "stdout",
     "output_type": "stream",
     "text": [
      "                                                                                                                                                                                                                                                                                                                                "
     ]
    },
    {
     "name": "stderr",
     "output_type": "stream",
     "text": [
      "17:47:12 - cmdstanpy - INFO - CmdStan done processing.\n"
     ]
    },
    {
     "name": "stdout",
     "output_type": "stream",
     "text": [
      "\n"
     ]
    },
    {
     "name": "stderr",
     "output_type": "stream",
     "text": [
      "17:47:14 - cmdstanpy - INFO - CmdStan start processing\n"
     ]
    },
    {
     "data": {
      "application/vnd.jupyter.widget-view+json": {
       "model_id": "cc80c5931f6d484388b121428f5353e7",
       "version_major": 2,
       "version_minor": 0
      },
      "text/plain": [
       "chain 1 |          | 00:00 Status"
      ]
     },
     "metadata": {},
     "output_type": "display_data"
    },
    {
     "data": {
      "application/vnd.jupyter.widget-view+json": {
       "model_id": "321abed7156d42b4994b9f689e293953",
       "version_major": 2,
       "version_minor": 0
      },
      "text/plain": [
       "chain 2 |          | 00:00 Status"
      ]
     },
     "metadata": {},
     "output_type": "display_data"
    },
    {
     "data": {
      "application/vnd.jupyter.widget-view+json": {
       "model_id": "5f03fa0462084b8a8e43fd666f0b286d",
       "version_major": 2,
       "version_minor": 0
      },
      "text/plain": [
       "chain 3 |          | 00:00 Status"
      ]
     },
     "metadata": {},
     "output_type": "display_data"
    },
    {
     "data": {
      "application/vnd.jupyter.widget-view+json": {
       "model_id": "a24583ac77724427969f03119e5af4d9",
       "version_major": 2,
       "version_minor": 0
      },
      "text/plain": [
       "chain 4 |          | 00:00 Status"
      ]
     },
     "metadata": {},
     "output_type": "display_data"
    },
    {
     "name": "stdout",
     "output_type": "stream",
     "text": [
      "                                                                                                                                                                                                                                                                                                                                "
     ]
    },
    {
     "name": "stderr",
     "output_type": "stream",
     "text": [
      "17:48:07 - cmdstanpy - INFO - CmdStan done processing.\n"
     ]
    },
    {
     "name": "stdout",
     "output_type": "stream",
     "text": [
      "\n"
     ]
    },
    {
     "name": "stderr",
     "output_type": "stream",
     "text": [
      "17:48:09 - cmdstanpy - INFO - CmdStan start processing\n"
     ]
    },
    {
     "data": {
      "application/vnd.jupyter.widget-view+json": {
       "model_id": "4cae5f0ca5d84e11bd1c8d523bf87a5d",
       "version_major": 2,
       "version_minor": 0
      },
      "text/plain": [
       "chain 1 |          | 00:00 Status"
      ]
     },
     "metadata": {},
     "output_type": "display_data"
    },
    {
     "data": {
      "application/vnd.jupyter.widget-view+json": {
       "model_id": "3b38d1f3cde147af9ea897274125b21c",
       "version_major": 2,
       "version_minor": 0
      },
      "text/plain": [
       "chain 2 |          | 00:00 Status"
      ]
     },
     "metadata": {},
     "output_type": "display_data"
    },
    {
     "data": {
      "application/vnd.jupyter.widget-view+json": {
       "model_id": "5455aa171bd24b33b05ca52f705fc47d",
       "version_major": 2,
       "version_minor": 0
      },
      "text/plain": [
       "chain 3 |          | 00:00 Status"
      ]
     },
     "metadata": {},
     "output_type": "display_data"
    },
    {
     "data": {
      "application/vnd.jupyter.widget-view+json": {
       "model_id": "4bc8a8d31c56431d81f6b52093f4ac5f",
       "version_major": 2,
       "version_minor": 0
      },
      "text/plain": [
       "chain 4 |          | 00:00 Status"
      ]
     },
     "metadata": {},
     "output_type": "display_data"
    },
    {
     "name": "stdout",
     "output_type": "stream",
     "text": [
      "                                                                                                                                                                                                                                                                                                                                "
     ]
    },
    {
     "name": "stderr",
     "output_type": "stream",
     "text": [
      "17:48:50 - cmdstanpy - INFO - CmdStan done processing.\n"
     ]
    },
    {
     "name": "stdout",
     "output_type": "stream",
     "text": [
      "\n"
     ]
    },
    {
     "name": "stderr",
     "output_type": "stream",
     "text": [
      "17:48:52 - cmdstanpy - INFO - CmdStan start processing\n"
     ]
    },
    {
     "data": {
      "application/vnd.jupyter.widget-view+json": {
       "model_id": "333ae38e887e45d9ad8ccbb688dff81b",
       "version_major": 2,
       "version_minor": 0
      },
      "text/plain": [
       "chain 1 |          | 00:00 Status"
      ]
     },
     "metadata": {},
     "output_type": "display_data"
    },
    {
     "data": {
      "application/vnd.jupyter.widget-view+json": {
       "model_id": "5c0919d7449c483bb8ea1db996a3bfe5",
       "version_major": 2,
       "version_minor": 0
      },
      "text/plain": [
       "chain 2 |          | 00:00 Status"
      ]
     },
     "metadata": {},
     "output_type": "display_data"
    },
    {
     "data": {
      "application/vnd.jupyter.widget-view+json": {
       "model_id": "56e2959f0f4e42bf907a60065f2dd73b",
       "version_major": 2,
       "version_minor": 0
      },
      "text/plain": [
       "chain 3 |          | 00:00 Status"
      ]
     },
     "metadata": {},
     "output_type": "display_data"
    },
    {
     "data": {
      "application/vnd.jupyter.widget-view+json": {
       "model_id": "e17a997a1b4b458b9f49a8f47bbcc412",
       "version_major": 2,
       "version_minor": 0
      },
      "text/plain": [
       "chain 4 |          | 00:00 Status"
      ]
     },
     "metadata": {},
     "output_type": "display_data"
    },
    {
     "name": "stdout",
     "output_type": "stream",
     "text": [
      "                                                                                                                                                                                                                                                                                                                                "
     ]
    },
    {
     "name": "stderr",
     "output_type": "stream",
     "text": [
      "17:49:48 - cmdstanpy - INFO - CmdStan done processing.\n"
     ]
    },
    {
     "name": "stdout",
     "output_type": "stream",
     "text": [
      "\n"
     ]
    },
    {
     "name": "stderr",
     "output_type": "stream",
     "text": [
      "17:49:50 - cmdstanpy - INFO - CmdStan start processing\n"
     ]
    },
    {
     "data": {
      "application/vnd.jupyter.widget-view+json": {
       "model_id": "d0c55b1321cd4f3782936de8059892b4",
       "version_major": 2,
       "version_minor": 0
      },
      "text/plain": [
       "chain 1 |          | 00:00 Status"
      ]
     },
     "metadata": {},
     "output_type": "display_data"
    },
    {
     "data": {
      "application/vnd.jupyter.widget-view+json": {
       "model_id": "b1ddf73f2bd84fb3b45a9efab4cb12d3",
       "version_major": 2,
       "version_minor": 0
      },
      "text/plain": [
       "chain 2 |          | 00:00 Status"
      ]
     },
     "metadata": {},
     "output_type": "display_data"
    },
    {
     "data": {
      "application/vnd.jupyter.widget-view+json": {
       "model_id": "9e40c0d3213742529c7a6273083d373f",
       "version_major": 2,
       "version_minor": 0
      },
      "text/plain": [
       "chain 3 |          | 00:00 Status"
      ]
     },
     "metadata": {},
     "output_type": "display_data"
    },
    {
     "data": {
      "application/vnd.jupyter.widget-view+json": {
       "model_id": "28ab394fbcba44fe88ed95b532ce393e",
       "version_major": 2,
       "version_minor": 0
      },
      "text/plain": [
       "chain 4 |          | 00:00 Status"
      ]
     },
     "metadata": {},
     "output_type": "display_data"
    },
    {
     "name": "stdout",
     "output_type": "stream",
     "text": [
      "                                                                                                                                                                                                                                                                                                                                "
     ]
    },
    {
     "name": "stderr",
     "output_type": "stream",
     "text": [
      "17:50:52 - cmdstanpy - INFO - CmdStan done processing.\n"
     ]
    },
    {
     "name": "stdout",
     "output_type": "stream",
     "text": [
      "\n"
     ]
    },
    {
     "name": "stderr",
     "output_type": "stream",
     "text": [
      "17:50:54 - cmdstanpy - INFO - CmdStan start processing\n"
     ]
    },
    {
     "data": {
      "application/vnd.jupyter.widget-view+json": {
       "model_id": "6cf38627e47e4982a0234594239eb2ef",
       "version_major": 2,
       "version_minor": 0
      },
      "text/plain": [
       "chain 1 |          | 00:00 Status"
      ]
     },
     "metadata": {},
     "output_type": "display_data"
    },
    {
     "data": {
      "application/vnd.jupyter.widget-view+json": {
       "model_id": "87a314051faa4a07b4742f7363645d05",
       "version_major": 2,
       "version_minor": 0
      },
      "text/plain": [
       "chain 2 |          | 00:00 Status"
      ]
     },
     "metadata": {},
     "output_type": "display_data"
    },
    {
     "data": {
      "application/vnd.jupyter.widget-view+json": {
       "model_id": "3c2d97c0279743f2a7ec16a804c5a78a",
       "version_major": 2,
       "version_minor": 0
      },
      "text/plain": [
       "chain 3 |          | 00:00 Status"
      ]
     },
     "metadata": {},
     "output_type": "display_data"
    },
    {
     "data": {
      "application/vnd.jupyter.widget-view+json": {
       "model_id": "effb494787744793b57c0dd41be193c8",
       "version_major": 2,
       "version_minor": 0
      },
      "text/plain": [
       "chain 4 |          | 00:00 Status"
      ]
     },
     "metadata": {},
     "output_type": "display_data"
    },
    {
     "name": "stdout",
     "output_type": "stream",
     "text": [
      "                                                                                                                                                                                                                                                                                                                                "
     ]
    },
    {
     "name": "stderr",
     "output_type": "stream",
     "text": [
      "17:51:51 - cmdstanpy - INFO - CmdStan done processing.\n"
     ]
    },
    {
     "name": "stdout",
     "output_type": "stream",
     "text": [
      "\n"
     ]
    },
    {
     "name": "stderr",
     "output_type": "stream",
     "text": [
      "17:51:52 - cmdstanpy - INFO - CmdStan start processing\n"
     ]
    },
    {
     "data": {
      "application/vnd.jupyter.widget-view+json": {
       "model_id": "285c0506f7c94aa6a4f091fbcb335de9",
       "version_major": 2,
       "version_minor": 0
      },
      "text/plain": [
       "chain 1 |          | 00:00 Status"
      ]
     },
     "metadata": {},
     "output_type": "display_data"
    },
    {
     "data": {
      "application/vnd.jupyter.widget-view+json": {
       "model_id": "9746c0c6faf84fb890d60b9e0440cd11",
       "version_major": 2,
       "version_minor": 0
      },
      "text/plain": [
       "chain 2 |          | 00:00 Status"
      ]
     },
     "metadata": {},
     "output_type": "display_data"
    },
    {
     "data": {
      "application/vnd.jupyter.widget-view+json": {
       "model_id": "99dc6b72ecf34de49a8eabfdacc18a46",
       "version_major": 2,
       "version_minor": 0
      },
      "text/plain": [
       "chain 3 |          | 00:00 Status"
      ]
     },
     "metadata": {},
     "output_type": "display_data"
    },
    {
     "data": {
      "application/vnd.jupyter.widget-view+json": {
       "model_id": "eccc76fef81943af98d2a0d2efe96bc0",
       "version_major": 2,
       "version_minor": 0
      },
      "text/plain": [
       "chain 4 |          | 00:00 Status"
      ]
     },
     "metadata": {},
     "output_type": "display_data"
    },
    {
     "name": "stdout",
     "output_type": "stream",
     "text": [
      "                                                                                                                                                                                                                                                                                                                                "
     ]
    },
    {
     "name": "stderr",
     "output_type": "stream",
     "text": [
      "17:52:52 - cmdstanpy - INFO - CmdStan done processing.\n"
     ]
    },
    {
     "name": "stdout",
     "output_type": "stream",
     "text": [
      "\n"
     ]
    },
    {
     "name": "stderr",
     "output_type": "stream",
     "text": [
      "17:52:54 - cmdstanpy - INFO - CmdStan start processing\n"
     ]
    },
    {
     "data": {
      "application/vnd.jupyter.widget-view+json": {
       "model_id": "c41dc37ab1db4f5aab9e3a5ab3751681",
       "version_major": 2,
       "version_minor": 0
      },
      "text/plain": [
       "chain 1 |          | 00:00 Status"
      ]
     },
     "metadata": {},
     "output_type": "display_data"
    },
    {
     "data": {
      "application/vnd.jupyter.widget-view+json": {
       "model_id": "7c9d948aeacc4c91bf76b79fc02c60ee",
       "version_major": 2,
       "version_minor": 0
      },
      "text/plain": [
       "chain 2 |          | 00:00 Status"
      ]
     },
     "metadata": {},
     "output_type": "display_data"
    },
    {
     "data": {
      "application/vnd.jupyter.widget-view+json": {
       "model_id": "8c43381526d2478bbbb65f82a377a243",
       "version_major": 2,
       "version_minor": 0
      },
      "text/plain": [
       "chain 3 |          | 00:00 Status"
      ]
     },
     "metadata": {},
     "output_type": "display_data"
    },
    {
     "data": {
      "application/vnd.jupyter.widget-view+json": {
       "model_id": "f36f2d36d67c4eee8c80abb24c62d42a",
       "version_major": 2,
       "version_minor": 0
      },
      "text/plain": [
       "chain 4 |          | 00:00 Status"
      ]
     },
     "metadata": {},
     "output_type": "display_data"
    },
    {
     "name": "stdout",
     "output_type": "stream",
     "text": [
      "                                                                                                                                                                                                                                                                                                                                "
     ]
    },
    {
     "name": "stderr",
     "output_type": "stream",
     "text": [
      "17:53:50 - cmdstanpy - INFO - CmdStan done processing.\n"
     ]
    },
    {
     "name": "stdout",
     "output_type": "stream",
     "text": [
      "\n"
     ]
    },
    {
     "name": "stderr",
     "output_type": "stream",
     "text": [
      "17:53:52 - cmdstanpy - INFO - CmdStan start processing\n"
     ]
    },
    {
     "data": {
      "application/vnd.jupyter.widget-view+json": {
       "model_id": "f44fe2ee70fd4966a9253e1d0dbf8453",
       "version_major": 2,
       "version_minor": 0
      },
      "text/plain": [
       "chain 1 |          | 00:00 Status"
      ]
     },
     "metadata": {},
     "output_type": "display_data"
    },
    {
     "data": {
      "application/vnd.jupyter.widget-view+json": {
       "model_id": "4fc3673e074c445faca696f5c9c15744",
       "version_major": 2,
       "version_minor": 0
      },
      "text/plain": [
       "chain 2 |          | 00:00 Status"
      ]
     },
     "metadata": {},
     "output_type": "display_data"
    },
    {
     "data": {
      "application/vnd.jupyter.widget-view+json": {
       "model_id": "922ac5bbd3f2457d9b7dd0d4a63f3d2a",
       "version_major": 2,
       "version_minor": 0
      },
      "text/plain": [
       "chain 3 |          | 00:00 Status"
      ]
     },
     "metadata": {},
     "output_type": "display_data"
    },
    {
     "data": {
      "application/vnd.jupyter.widget-view+json": {
       "model_id": "363ff8e102584e5a9b0864dac518a56a",
       "version_major": 2,
       "version_minor": 0
      },
      "text/plain": [
       "chain 4 |          | 00:00 Status"
      ]
     },
     "metadata": {},
     "output_type": "display_data"
    },
    {
     "name": "stdout",
     "output_type": "stream",
     "text": [
      "                                                                                                                                                                                                                                                                                                                                "
     ]
    },
    {
     "name": "stderr",
     "output_type": "stream",
     "text": [
      "17:54:49 - cmdstanpy - INFO - CmdStan done processing.\n"
     ]
    },
    {
     "name": "stdout",
     "output_type": "stream",
     "text": [
      "\n"
     ]
    },
    {
     "name": "stderr",
     "output_type": "stream",
     "text": [
      "17:54:51 - cmdstanpy - INFO - CmdStan start processing\n"
     ]
    },
    {
     "data": {
      "application/vnd.jupyter.widget-view+json": {
       "model_id": "c733ca02d7084a9b9f0b74a28e50ee50",
       "version_major": 2,
       "version_minor": 0
      },
      "text/plain": [
       "chain 1 |          | 00:00 Status"
      ]
     },
     "metadata": {},
     "output_type": "display_data"
    },
    {
     "data": {
      "application/vnd.jupyter.widget-view+json": {
       "model_id": "88f60553b33d4d45a55b24c9d75f4030",
       "version_major": 2,
       "version_minor": 0
      },
      "text/plain": [
       "chain 2 |          | 00:00 Status"
      ]
     },
     "metadata": {},
     "output_type": "display_data"
    },
    {
     "data": {
      "application/vnd.jupyter.widget-view+json": {
       "model_id": "c97538953a68471cbda24bb46686e0a6",
       "version_major": 2,
       "version_minor": 0
      },
      "text/plain": [
       "chain 3 |          | 00:00 Status"
      ]
     },
     "metadata": {},
     "output_type": "display_data"
    },
    {
     "data": {
      "application/vnd.jupyter.widget-view+json": {
       "model_id": "285e6fd0e78b487d86a25810a10203e2",
       "version_major": 2,
       "version_minor": 0
      },
      "text/plain": [
       "chain 4 |          | 00:00 Status"
      ]
     },
     "metadata": {},
     "output_type": "display_data"
    },
    {
     "name": "stdout",
     "output_type": "stream",
     "text": [
      "                                                                                                                                                                                                                                                                                                                                "
     ]
    },
    {
     "name": "stderr",
     "output_type": "stream",
     "text": [
      "17:55:52 - cmdstanpy - INFO - CmdStan done processing.\n"
     ]
    },
    {
     "name": "stdout",
     "output_type": "stream",
     "text": [
      "\n"
     ]
    },
    {
     "name": "stderr",
     "output_type": "stream",
     "text": [
      "17:55:54 - cmdstanpy - INFO - CmdStan start processing\n"
     ]
    },
    {
     "data": {
      "application/vnd.jupyter.widget-view+json": {
       "model_id": "5ebffe458052444b85b3ecf055e6b6cd",
       "version_major": 2,
       "version_minor": 0
      },
      "text/plain": [
       "chain 1 |          | 00:00 Status"
      ]
     },
     "metadata": {},
     "output_type": "display_data"
    },
    {
     "data": {
      "application/vnd.jupyter.widget-view+json": {
       "model_id": "c6c87031fd4a4282a05766720f5bb532",
       "version_major": 2,
       "version_minor": 0
      },
      "text/plain": [
       "chain 2 |          | 00:00 Status"
      ]
     },
     "metadata": {},
     "output_type": "display_data"
    },
    {
     "data": {
      "application/vnd.jupyter.widget-view+json": {
       "model_id": "7ace6dc1bf22464684fd3b81a09a61f1",
       "version_major": 2,
       "version_minor": 0
      },
      "text/plain": [
       "chain 3 |          | 00:00 Status"
      ]
     },
     "metadata": {},
     "output_type": "display_data"
    },
    {
     "data": {
      "application/vnd.jupyter.widget-view+json": {
       "model_id": "a81d10e5f0c54026bb684ea38593edeb",
       "version_major": 2,
       "version_minor": 0
      },
      "text/plain": [
       "chain 4 |          | 00:00 Status"
      ]
     },
     "metadata": {},
     "output_type": "display_data"
    },
    {
     "name": "stdout",
     "output_type": "stream",
     "text": [
      "                                                                                                                                                                                                                                                                                                                                "
     ]
    },
    {
     "name": "stderr",
     "output_type": "stream",
     "text": [
      "17:57:06 - cmdstanpy - INFO - CmdStan done processing.\n"
     ]
    },
    {
     "name": "stdout",
     "output_type": "stream",
     "text": [
      "\n"
     ]
    },
    {
     "name": "stderr",
     "output_type": "stream",
     "text": [
      "17:57:07 - cmdstanpy - INFO - CmdStan start processing\n"
     ]
    },
    {
     "data": {
      "application/vnd.jupyter.widget-view+json": {
       "model_id": "a12b4cfe6f1742fea702828fd9b84d29",
       "version_major": 2,
       "version_minor": 0
      },
      "text/plain": [
       "chain 1 |          | 00:00 Status"
      ]
     },
     "metadata": {},
     "output_type": "display_data"
    },
    {
     "data": {
      "application/vnd.jupyter.widget-view+json": {
       "model_id": "51016926bd3e467dabb1621c80b1f9f0",
       "version_major": 2,
       "version_minor": 0
      },
      "text/plain": [
       "chain 2 |          | 00:00 Status"
      ]
     },
     "metadata": {},
     "output_type": "display_data"
    },
    {
     "data": {
      "application/vnd.jupyter.widget-view+json": {
       "model_id": "905a6b4ce809494fbd18b3ceef79de08",
       "version_major": 2,
       "version_minor": 0
      },
      "text/plain": [
       "chain 3 |          | 00:00 Status"
      ]
     },
     "metadata": {},
     "output_type": "display_data"
    },
    {
     "data": {
      "application/vnd.jupyter.widget-view+json": {
       "model_id": "adf34b591b064501bcf91375a2f3adcc",
       "version_major": 2,
       "version_minor": 0
      },
      "text/plain": [
       "chain 4 |          | 00:00 Status"
      ]
     },
     "metadata": {},
     "output_type": "display_data"
    },
    {
     "name": "stdout",
     "output_type": "stream",
     "text": [
      "                                                                                                                                                                                                                                                                                                                                "
     ]
    },
    {
     "name": "stderr",
     "output_type": "stream",
     "text": [
      "17:58:10 - cmdstanpy - INFO - CmdStan done processing.\n"
     ]
    },
    {
     "name": "stdout",
     "output_type": "stream",
     "text": [
      "\n"
     ]
    },
    {
     "name": "stderr",
     "output_type": "stream",
     "text": [
      "17:58:12 - cmdstanpy - INFO - CmdStan start processing\n"
     ]
    },
    {
     "data": {
      "application/vnd.jupyter.widget-view+json": {
       "model_id": "3fd29ebeaf0f4a63804326c8ca1832e8",
       "version_major": 2,
       "version_minor": 0
      },
      "text/plain": [
       "chain 1 |          | 00:00 Status"
      ]
     },
     "metadata": {},
     "output_type": "display_data"
    },
    {
     "data": {
      "application/vnd.jupyter.widget-view+json": {
       "model_id": "b68f9906d62a49eda53a2d0307f9b6fa",
       "version_major": 2,
       "version_minor": 0
      },
      "text/plain": [
       "chain 2 |          | 00:00 Status"
      ]
     },
     "metadata": {},
     "output_type": "display_data"
    },
    {
     "data": {
      "application/vnd.jupyter.widget-view+json": {
       "model_id": "3021765cbee84f8783ebc8757bdaf150",
       "version_major": 2,
       "version_minor": 0
      },
      "text/plain": [
       "chain 3 |          | 00:00 Status"
      ]
     },
     "metadata": {},
     "output_type": "display_data"
    },
    {
     "data": {
      "application/vnd.jupyter.widget-view+json": {
       "model_id": "68de810d06474e54a6a63f6bb0b44897",
       "version_major": 2,
       "version_minor": 0
      },
      "text/plain": [
       "chain 4 |          | 00:00 Status"
      ]
     },
     "metadata": {},
     "output_type": "display_data"
    },
    {
     "name": "stdout",
     "output_type": "stream",
     "text": [
      "                                                                                                                                                                                                                                                                                                                                "
     ]
    },
    {
     "name": "stderr",
     "output_type": "stream",
     "text": [
      "17:59:10 - cmdstanpy - INFO - CmdStan done processing.\n"
     ]
    },
    {
     "name": "stdout",
     "output_type": "stream",
     "text": [
      "\n"
     ]
    },
    {
     "name": "stderr",
     "output_type": "stream",
     "text": [
      "17:59:12 - cmdstanpy - INFO - CmdStan start processing\n"
     ]
    },
    {
     "data": {
      "application/vnd.jupyter.widget-view+json": {
       "model_id": "8f3838d9b4604454872f82ef1107b0c4",
       "version_major": 2,
       "version_minor": 0
      },
      "text/plain": [
       "chain 1 |          | 00:00 Status"
      ]
     },
     "metadata": {},
     "output_type": "display_data"
    },
    {
     "data": {
      "application/vnd.jupyter.widget-view+json": {
       "model_id": "f2997b227e544e2ab098fc6d3eec3e23",
       "version_major": 2,
       "version_minor": 0
      },
      "text/plain": [
       "chain 2 |          | 00:00 Status"
      ]
     },
     "metadata": {},
     "output_type": "display_data"
    },
    {
     "data": {
      "application/vnd.jupyter.widget-view+json": {
       "model_id": "0df85aac311745308bd9bca4fd85a0b5",
       "version_major": 2,
       "version_minor": 0
      },
      "text/plain": [
       "chain 3 |          | 00:00 Status"
      ]
     },
     "metadata": {},
     "output_type": "display_data"
    },
    {
     "data": {
      "application/vnd.jupyter.widget-view+json": {
       "model_id": "29d5718b9d014b0c841b9e77aa06e0d9",
       "version_major": 2,
       "version_minor": 0
      },
      "text/plain": [
       "chain 4 |          | 00:00 Status"
      ]
     },
     "metadata": {},
     "output_type": "display_data"
    },
    {
     "name": "stdout",
     "output_type": "stream",
     "text": [
      "                                                                                                                                                                                                                                                                                                                                "
     ]
    },
    {
     "name": "stderr",
     "output_type": "stream",
     "text": [
      "18:00:08 - cmdstanpy - INFO - CmdStan done processing.\n"
     ]
    },
    {
     "name": "stdout",
     "output_type": "stream",
     "text": [
      "\n"
     ]
    },
    {
     "name": "stderr",
     "output_type": "stream",
     "text": [
      "18:00:10 - cmdstanpy - INFO - CmdStan start processing\n"
     ]
    },
    {
     "data": {
      "application/vnd.jupyter.widget-view+json": {
       "model_id": "b10e86f985564106bd8b945b921d2990",
       "version_major": 2,
       "version_minor": 0
      },
      "text/plain": [
       "chain 1 |          | 00:00 Status"
      ]
     },
     "metadata": {},
     "output_type": "display_data"
    },
    {
     "data": {
      "application/vnd.jupyter.widget-view+json": {
       "model_id": "18bd4d00b02a40e681e0d5167acc5f06",
       "version_major": 2,
       "version_minor": 0
      },
      "text/plain": [
       "chain 2 |          | 00:00 Status"
      ]
     },
     "metadata": {},
     "output_type": "display_data"
    },
    {
     "data": {
      "application/vnd.jupyter.widget-view+json": {
       "model_id": "bf6134f47fef43b8bd2b2069bfd03748",
       "version_major": 2,
       "version_minor": 0
      },
      "text/plain": [
       "chain 3 |          | 00:00 Status"
      ]
     },
     "metadata": {},
     "output_type": "display_data"
    },
    {
     "data": {
      "application/vnd.jupyter.widget-view+json": {
       "model_id": "fb99495848614175a5f33282503daca4",
       "version_major": 2,
       "version_minor": 0
      },
      "text/plain": [
       "chain 4 |          | 00:00 Status"
      ]
     },
     "metadata": {},
     "output_type": "display_data"
    },
    {
     "name": "stdout",
     "output_type": "stream",
     "text": [
      "                                                                                                                                                                                                                                                                                                                                "
     ]
    },
    {
     "name": "stderr",
     "output_type": "stream",
     "text": [
      "18:01:05 - cmdstanpy - INFO - CmdStan done processing.\n"
     ]
    },
    {
     "name": "stdout",
     "output_type": "stream",
     "text": [
      "\n"
     ]
    },
    {
     "name": "stderr",
     "output_type": "stream",
     "text": [
      "18:01:07 - cmdstanpy - INFO - CmdStan start processing\n"
     ]
    },
    {
     "data": {
      "application/vnd.jupyter.widget-view+json": {
       "model_id": "962a9f842a184800bd2a3d824f447e02",
       "version_major": 2,
       "version_minor": 0
      },
      "text/plain": [
       "chain 1 |          | 00:00 Status"
      ]
     },
     "metadata": {},
     "output_type": "display_data"
    },
    {
     "data": {
      "application/vnd.jupyter.widget-view+json": {
       "model_id": "b855098d272043c993adee6b7dd35f64",
       "version_major": 2,
       "version_minor": 0
      },
      "text/plain": [
       "chain 2 |          | 00:00 Status"
      ]
     },
     "metadata": {},
     "output_type": "display_data"
    },
    {
     "data": {
      "application/vnd.jupyter.widget-view+json": {
       "model_id": "94675c3297fd4a31b5aedab5eb6e9316",
       "version_major": 2,
       "version_minor": 0
      },
      "text/plain": [
       "chain 3 |          | 00:00 Status"
      ]
     },
     "metadata": {},
     "output_type": "display_data"
    },
    {
     "data": {
      "application/vnd.jupyter.widget-view+json": {
       "model_id": "2e3267654a2d4bbbbfda8b4427eb9b2b",
       "version_major": 2,
       "version_minor": 0
      },
      "text/plain": [
       "chain 4 |          | 00:00 Status"
      ]
     },
     "metadata": {},
     "output_type": "display_data"
    },
    {
     "name": "stdout",
     "output_type": "stream",
     "text": [
      "                                                                                                                                                                                                                                                                                                                                "
     ]
    },
    {
     "name": "stderr",
     "output_type": "stream",
     "text": [
      "18:02:01 - cmdstanpy - INFO - CmdStan done processing.\n"
     ]
    },
    {
     "name": "stdout",
     "output_type": "stream",
     "text": [
      "\n"
     ]
    },
    {
     "name": "stderr",
     "output_type": "stream",
     "text": [
      "18:02:02 - cmdstanpy - INFO - CmdStan start processing\n"
     ]
    },
    {
     "data": {
      "application/vnd.jupyter.widget-view+json": {
       "model_id": "71ac630540094423a00a0513da843920",
       "version_major": 2,
       "version_minor": 0
      },
      "text/plain": [
       "chain 1 |          | 00:00 Status"
      ]
     },
     "metadata": {},
     "output_type": "display_data"
    },
    {
     "data": {
      "application/vnd.jupyter.widget-view+json": {
       "model_id": "0b814a34b20a497789d1a768d1538f26",
       "version_major": 2,
       "version_minor": 0
      },
      "text/plain": [
       "chain 2 |          | 00:00 Status"
      ]
     },
     "metadata": {},
     "output_type": "display_data"
    },
    {
     "data": {
      "application/vnd.jupyter.widget-view+json": {
       "model_id": "3c3e69842b3d4907922c7a42dba981f9",
       "version_major": 2,
       "version_minor": 0
      },
      "text/plain": [
       "chain 3 |          | 00:00 Status"
      ]
     },
     "metadata": {},
     "output_type": "display_data"
    },
    {
     "data": {
      "application/vnd.jupyter.widget-view+json": {
       "model_id": "057957659c2a4c2581ea28e2f7acc636",
       "version_major": 2,
       "version_minor": 0
      },
      "text/plain": [
       "chain 4 |          | 00:00 Status"
      ]
     },
     "metadata": {},
     "output_type": "display_data"
    },
    {
     "name": "stdout",
     "output_type": "stream",
     "text": [
      "                                                                                                                                                                                                                                                                                                                                "
     ]
    },
    {
     "name": "stderr",
     "output_type": "stream",
     "text": [
      "18:03:02 - cmdstanpy - INFO - CmdStan done processing.\n"
     ]
    },
    {
     "name": "stdout",
     "output_type": "stream",
     "text": [
      "\n"
     ]
    },
    {
     "name": "stderr",
     "output_type": "stream",
     "text": [
      "18:03:04 - cmdstanpy - INFO - CmdStan start processing\n"
     ]
    },
    {
     "data": {
      "application/vnd.jupyter.widget-view+json": {
       "model_id": "889be6b1c3fc46cdaa0b3d42a1451a84",
       "version_major": 2,
       "version_minor": 0
      },
      "text/plain": [
       "chain 1 |          | 00:00 Status"
      ]
     },
     "metadata": {},
     "output_type": "display_data"
    },
    {
     "data": {
      "application/vnd.jupyter.widget-view+json": {
       "model_id": "cf422e3eba1a400ba64eadee955f5dc1",
       "version_major": 2,
       "version_minor": 0
      },
      "text/plain": [
       "chain 2 |          | 00:00 Status"
      ]
     },
     "metadata": {},
     "output_type": "display_data"
    },
    {
     "data": {
      "application/vnd.jupyter.widget-view+json": {
       "model_id": "3a112200cb974f77a6f528a68d579c1b",
       "version_major": 2,
       "version_minor": 0
      },
      "text/plain": [
       "chain 3 |          | 00:00 Status"
      ]
     },
     "metadata": {},
     "output_type": "display_data"
    },
    {
     "data": {
      "application/vnd.jupyter.widget-view+json": {
       "model_id": "b588df6b04f74cb88cb8592130781927",
       "version_major": 2,
       "version_minor": 0
      },
      "text/plain": [
       "chain 4 |          | 00:00 Status"
      ]
     },
     "metadata": {},
     "output_type": "display_data"
    },
    {
     "name": "stdout",
     "output_type": "stream",
     "text": [
      "                                                                                                                                                                                                                                                                                                                                "
     ]
    },
    {
     "name": "stderr",
     "output_type": "stream",
     "text": [
      "18:04:05 - cmdstanpy - INFO - CmdStan done processing.\n"
     ]
    },
    {
     "name": "stdout",
     "output_type": "stream",
     "text": [
      "\n"
     ]
    },
    {
     "name": "stderr",
     "output_type": "stream",
     "text": [
      "18:04:06 - cmdstanpy - INFO - CmdStan start processing\n"
     ]
    },
    {
     "data": {
      "application/vnd.jupyter.widget-view+json": {
       "model_id": "094d0a54739447c1a49aa851b59de026",
       "version_major": 2,
       "version_minor": 0
      },
      "text/plain": [
       "chain 1 |          | 00:00 Status"
      ]
     },
     "metadata": {},
     "output_type": "display_data"
    },
    {
     "data": {
      "application/vnd.jupyter.widget-view+json": {
       "model_id": "e1bbad0129694a90a33ae8a9759a4685",
       "version_major": 2,
       "version_minor": 0
      },
      "text/plain": [
       "chain 2 |          | 00:00 Status"
      ]
     },
     "metadata": {},
     "output_type": "display_data"
    },
    {
     "data": {
      "application/vnd.jupyter.widget-view+json": {
       "model_id": "3103efe10ff143b29524fd38a9053295",
       "version_major": 2,
       "version_minor": 0
      },
      "text/plain": [
       "chain 3 |          | 00:00 Status"
      ]
     },
     "metadata": {},
     "output_type": "display_data"
    },
    {
     "data": {
      "application/vnd.jupyter.widget-view+json": {
       "model_id": "78ce78eebefa40beb3264b497008a2ad",
       "version_major": 2,
       "version_minor": 0
      },
      "text/plain": [
       "chain 4 |          | 00:00 Status"
      ]
     },
     "metadata": {},
     "output_type": "display_data"
    },
    {
     "name": "stdout",
     "output_type": "stream",
     "text": [
      "                                                                                                                                                                                                                                                                                                                                "
     ]
    },
    {
     "name": "stderr",
     "output_type": "stream",
     "text": [
      "18:05:07 - cmdstanpy - INFO - CmdStan done processing.\n"
     ]
    },
    {
     "name": "stdout",
     "output_type": "stream",
     "text": [
      "\n"
     ]
    },
    {
     "name": "stderr",
     "output_type": "stream",
     "text": [
      "18:05:09 - cmdstanpy - INFO - CmdStan start processing\n"
     ]
    },
    {
     "data": {
      "application/vnd.jupyter.widget-view+json": {
       "model_id": "bdd43626ea314a6a8cc66e27e0c02730",
       "version_major": 2,
       "version_minor": 0
      },
      "text/plain": [
       "chain 1 |          | 00:00 Status"
      ]
     },
     "metadata": {},
     "output_type": "display_data"
    },
    {
     "data": {
      "application/vnd.jupyter.widget-view+json": {
       "model_id": "c8f554a2d21841119c4ce95e6d80e785",
       "version_major": 2,
       "version_minor": 0
      },
      "text/plain": [
       "chain 2 |          | 00:00 Status"
      ]
     },
     "metadata": {},
     "output_type": "display_data"
    },
    {
     "data": {
      "application/vnd.jupyter.widget-view+json": {
       "model_id": "ac19f45b832c4a64a574a62147c9abfe",
       "version_major": 2,
       "version_minor": 0
      },
      "text/plain": [
       "chain 3 |          | 00:00 Status"
      ]
     },
     "metadata": {},
     "output_type": "display_data"
    },
    {
     "data": {
      "application/vnd.jupyter.widget-view+json": {
       "model_id": "967ef9aa07b649f1b9a4084efce07b0d",
       "version_major": 2,
       "version_minor": 0
      },
      "text/plain": [
       "chain 4 |          | 00:00 Status"
      ]
     },
     "metadata": {},
     "output_type": "display_data"
    },
    {
     "name": "stdout",
     "output_type": "stream",
     "text": [
      "                                                                                                                                                                                                                                                                                                                                "
     ]
    },
    {
     "name": "stderr",
     "output_type": "stream",
     "text": [
      "18:06:39 - cmdstanpy - INFO - CmdStan done processing.\n"
     ]
    },
    {
     "name": "stdout",
     "output_type": "stream",
     "text": [
      "\n"
     ]
    },
    {
     "name": "stderr",
     "output_type": "stream",
     "text": [
      "18:06:40 - cmdstanpy - INFO - CmdStan start processing\n"
     ]
    },
    {
     "data": {
      "application/vnd.jupyter.widget-view+json": {
       "model_id": "6a938691516a4958b8c6551b1c6cba8a",
       "version_major": 2,
       "version_minor": 0
      },
      "text/plain": [
       "chain 1 |          | 00:00 Status"
      ]
     },
     "metadata": {},
     "output_type": "display_data"
    },
    {
     "data": {
      "application/vnd.jupyter.widget-view+json": {
       "model_id": "00a40ee5965141bb93e0965ee4d2a3a5",
       "version_major": 2,
       "version_minor": 0
      },
      "text/plain": [
       "chain 2 |          | 00:00 Status"
      ]
     },
     "metadata": {},
     "output_type": "display_data"
    },
    {
     "data": {
      "application/vnd.jupyter.widget-view+json": {
       "model_id": "2c8af03e0bb64182a171519438750512",
       "version_major": 2,
       "version_minor": 0
      },
      "text/plain": [
       "chain 3 |          | 00:00 Status"
      ]
     },
     "metadata": {},
     "output_type": "display_data"
    },
    {
     "data": {
      "application/vnd.jupyter.widget-view+json": {
       "model_id": "5eb9df13894f4bf09834aefc5ecb5a42",
       "version_major": 2,
       "version_minor": 0
      },
      "text/plain": [
       "chain 4 |          | 00:00 Status"
      ]
     },
     "metadata": {},
     "output_type": "display_data"
    },
    {
     "name": "stdout",
     "output_type": "stream",
     "text": [
      "                                                                                                                                                                                                                                                                                                                                "
     ]
    },
    {
     "name": "stderr",
     "output_type": "stream",
     "text": [
      "18:07:39 - cmdstanpy - INFO - CmdStan done processing.\n"
     ]
    },
    {
     "name": "stdout",
     "output_type": "stream",
     "text": [
      "\n"
     ]
    },
    {
     "name": "stderr",
     "output_type": "stream",
     "text": [
      "18:07:41 - cmdstanpy - INFO - CmdStan start processing\n"
     ]
    },
    {
     "data": {
      "application/vnd.jupyter.widget-view+json": {
       "model_id": "a5bf070e39cd45da9f5d05700950b741",
       "version_major": 2,
       "version_minor": 0
      },
      "text/plain": [
       "chain 1 |          | 00:00 Status"
      ]
     },
     "metadata": {},
     "output_type": "display_data"
    },
    {
     "data": {
      "application/vnd.jupyter.widget-view+json": {
       "model_id": "cace7ae045314f1db1a4fcb4ab4b7630",
       "version_major": 2,
       "version_minor": 0
      },
      "text/plain": [
       "chain 2 |          | 00:00 Status"
      ]
     },
     "metadata": {},
     "output_type": "display_data"
    },
    {
     "data": {
      "application/vnd.jupyter.widget-view+json": {
       "model_id": "fc1d618f1dfe4fd89b0bc3e343e31949",
       "version_major": 2,
       "version_minor": 0
      },
      "text/plain": [
       "chain 3 |          | 00:00 Status"
      ]
     },
     "metadata": {},
     "output_type": "display_data"
    },
    {
     "data": {
      "application/vnd.jupyter.widget-view+json": {
       "model_id": "8c23d21eebec4569bf3d2a0d6bc2303d",
       "version_major": 2,
       "version_minor": 0
      },
      "text/plain": [
       "chain 4 |          | 00:00 Status"
      ]
     },
     "metadata": {},
     "output_type": "display_data"
    },
    {
     "name": "stdout",
     "output_type": "stream",
     "text": [
      "                                                                                                                                                                                                                                                                                                                                "
     ]
    },
    {
     "name": "stderr",
     "output_type": "stream",
     "text": [
      "18:09:14 - cmdstanpy - INFO - CmdStan done processing.\n"
     ]
    },
    {
     "name": "stdout",
     "output_type": "stream",
     "text": [
      "\n"
     ]
    },
    {
     "name": "stderr",
     "output_type": "stream",
     "text": [
      "18:09:16 - cmdstanpy - INFO - CmdStan start processing\n"
     ]
    },
    {
     "data": {
      "application/vnd.jupyter.widget-view+json": {
       "model_id": "f95884a5d29b4bf5ae4e629b496df053",
       "version_major": 2,
       "version_minor": 0
      },
      "text/plain": [
       "chain 1 |          | 00:00 Status"
      ]
     },
     "metadata": {},
     "output_type": "display_data"
    },
    {
     "data": {
      "application/vnd.jupyter.widget-view+json": {
       "model_id": "67027944481a4a2ab3b5cf425a0550a9",
       "version_major": 2,
       "version_minor": 0
      },
      "text/plain": [
       "chain 2 |          | 00:00 Status"
      ]
     },
     "metadata": {},
     "output_type": "display_data"
    },
    {
     "data": {
      "application/vnd.jupyter.widget-view+json": {
       "model_id": "268670352f184b96aca887a2fbc310ac",
       "version_major": 2,
       "version_minor": 0
      },
      "text/plain": [
       "chain 3 |          | 00:00 Status"
      ]
     },
     "metadata": {},
     "output_type": "display_data"
    },
    {
     "data": {
      "application/vnd.jupyter.widget-view+json": {
       "model_id": "5dda6b66a5584b7ea2a8384cf7c47c86",
       "version_major": 2,
       "version_minor": 0
      },
      "text/plain": [
       "chain 4 |          | 00:00 Status"
      ]
     },
     "metadata": {},
     "output_type": "display_data"
    },
    {
     "name": "stdout",
     "output_type": "stream",
     "text": [
      "                                                                                                                                                                                                                                                                                                                                "
     ]
    },
    {
     "name": "stderr",
     "output_type": "stream",
     "text": [
      "18:10:06 - cmdstanpy - INFO - CmdStan done processing.\n"
     ]
    },
    {
     "name": "stdout",
     "output_type": "stream",
     "text": [
      "\n"
     ]
    }
   ],
   "source": [
    "full = update_all(n_iter = 100, Y_vec = Y_vec, X_mat = X_given, l = 1.0e+1, c_0 = 1, p = 2)"
   ]
  },
  {
   "cell_type": "code",
   "execution_count": 69,
   "id": "aae53271",
   "metadata": {
    "collapsed": true
   },
   "outputs": [
    {
     "data": {
      "text/plain": [
       "[0.483465,\n",
       " 0.459898,\n",
       " 0.465082,\n",
       " 0.463963,\n",
       " 0.463484,\n",
       " 0.454684,\n",
       " 0.647376,\n",
       " 0.570704,\n",
       " 0.483604,\n",
       " 0.479069,\n",
       " 0.454389,\n",
       " 0.452777,\n",
       " 0.457326,\n",
       " 0.516817,\n",
       " 0.477065,\n",
       " 0.484238,\n",
       " 0.448352,\n",
       " 0.467845,\n",
       " 0.456321,\n",
       " 0.405743,\n",
       " 0.461717,\n",
       " 0.453809,\n",
       " 0.474635,\n",
       " 0.507528,\n",
       " 0.489695,\n",
       " 0.44796,\n",
       " 0.478298,\n",
       " 0.49841,\n",
       " 0.480302,\n",
       " 0.431025,\n",
       " 0.486752,\n",
       " 0.461586,\n",
       " 0.429196,\n",
       " 0.466517,\n",
       " 0.479891,\n",
       " 0.456531,\n",
       " 0.483409,\n",
       " 0.538032,\n",
       " 0.469875,\n",
       " 0.413241,\n",
       " 0.460963,\n",
       " 0.46232,\n",
       " 0.481391,\n",
       " 0.457177,\n",
       " 0.443234,\n",
       " 0.498266,\n",
       " 0.499135,\n",
       " 0.46522,\n",
       " 0.478022,\n",
       " 0.45247,\n",
       " 0.466121,\n",
       " 0.566192,\n",
       " 0.490239,\n",
       " 0.459275,\n",
       " 0.756842,\n",
       " 0.443939,\n",
       " 0.471578,\n",
       " 0.473882,\n",
       " 0.453107,\n",
       " 0.468129,\n",
       " 0.433713,\n",
       " 0.505281,\n",
       " 0.509861,\n",
       " 0.481211,\n",
       " 0.475239,\n",
       " 0.467228,\n",
       " 0.559563,\n",
       " 0.523159,\n",
       " 0.510263,\n",
       " 0.475469,\n",
       " 0.444804,\n",
       " 0.484579,\n",
       " 0.470447,\n",
       " 0.448788,\n",
       " 0.44867,\n",
       " 0.568181,\n",
       " 0.463102,\n",
       " 0.463919,\n",
       " 0.455325,\n",
       " 0.456202,\n",
       " 0.530235,\n",
       " 0.445435,\n",
       " 0.513879,\n",
       " 0.483295,\n",
       " 0.492332,\n",
       " 0.455526,\n",
       " 0.396594,\n",
       " 0.59547,\n",
       " 0.469611,\n",
       " 0.463201,\n",
       " 0.453875,\n",
       " 0.458335,\n",
       " 0.467035,\n",
       " 0.606069,\n",
       " 0.4981,\n",
       " 0.447717,\n",
       " 0.492436,\n",
       " 0.484998,\n",
       " 0.455299,\n",
       " 0.514328]"
      ]
     },
     "execution_count": 69,
     "metadata": {},
     "output_type": "execute_result"
    }
   ],
   "source": [
    "full['d_mat'][-1]"
   ]
  },
  {
   "cell_type": "code",
   "execution_count": 73,
   "id": "c49e20ea",
   "metadata": {},
   "outputs": [
    {
     "data": {
      "text/plain": [
       "[<matplotlib.lines.Line2D at 0x2447283ea60>]"
      ]
     },
     "execution_count": 73,
     "metadata": {},
     "output_type": "execute_result"
    },
    {
     "data": {
      "image/png": "[encoded data removed]",
      "text/plain": [
       "<Figure size 432x288 with 1 Axes>"
      ]
     },
     "metadata": {
      "needs_background": "light"
     },
     "output_type": "display_data"
    }
   ],
   "source": [
    "plt.plot(np.array(full['d_mat']).T[30])"
   ]
  },
  {
   "cell_type": "code",
   "execution_count": null,
   "id": "912aedf7",
   "metadata": {},
   "outputs": [],
   "source": []
  },
  {
   "cell_type": "markdown",
   "id": "9e204a0f",
   "metadata": {},
   "source": [
    "# No $\\mu$ updates:"
   ]
  },
  {
   "cell_type": "code",
   "execution_count": 15,
   "id": "6c8cee5b",
   "metadata": {},
   "outputs": [
    {
     "name": "stderr",
     "output_type": "stream",
     "text": [
      "INFO:cmdstanjupyter:Reusing cached model file .stan/d_model.stan\n",
      "INFO:cmdstanjupyter:Creating CmdStanPy model & assigning it to variable \"d_model\"\n",
      "INFO:cmdstanjupyter:StanModel now available as variable \"d_model\"!\n",
      " Compilation took a moment.\n"
     ]
    }
   ],
   "source": [
    "%%stan d_model\n",
    "functions{\n",
    "    matrix create_K_new(matrix K_old, vector d, real sigma, real c_0, int p, int s){\n",
    "      matrix[s, s] K_new = rep_matrix(0, s, s);\n",
    "      for(j in 1:s){\n",
    "        for(i in 1:s){\n",
    "            if(i == j){\n",
    "                K_new[i, j] = pow(sigma, 2) + K_old[i, j] * pow(c_0 + d[i]*d[j], 2);\n",
    "            }\n",
    "            else{\n",
    "                K_new[i, j] = K_old[i, j] * pow(c_0 + d[i]*d[j], 2);\n",
    "            }\n",
    "        }\n",
    "      }\n",
    "      return K_new;\n",
    "    }\n",
    "}\n",
    "\n",
    "data{\n",
    "    int<lower = 0> s;\n",
    "    int<lower = 0> p;\n",
    "    vector[s] Y;\n",
    "    real<lower = 0> c_0;\n",
    "    real<lower = 0> sigma;\n",
    "    matrix[s, s] K_old;\n",
    "}\n",
    "\n",
    "parameters{\n",
    "    vector<lower=0, upper=1>[s] d;\n",
    "}\n",
    "\n",
    "model{\n",
    "    Y ~ multi_normal(rep_vector(0, s), create_K_new(K_old, d, sigma, c_0, p, s));\n",
    "}"
   ]
  },
  {
   "cell_type": "code",
   "execution_count": 38,
   "id": "f9c1fcc7",
   "metadata": {},
   "outputs": [],
   "source": [
    "X_mat = np.random.normal(size = (100, 10))\n",
    "K_old = create_sqexp_mat(X_mat = X_mat, l = 1.0e-0)"
   ]
  },
  {
   "cell_type": "code",
   "execution_count": 44,
   "id": "cbba2b6d",
   "metadata": {},
   "outputs": [],
   "source": [
    "def update_d(Y_vec, K_old, sigma, c_0, p):\n",
    "    n = len(Y_vec)\n",
    "    data_d = {'s':n, 'p':p, 'c_0':c_0, 'Y':Y_vec, 'sigma':sigma, 'K_old':K_old}\n",
    "    fit_d = d_model.sample(data = data_d)\n",
    "    out = list(fit_d.summary()['Mean'].iloc[1:])\n",
    "    return out"
   ]
  },
  {
   "cell_type": "code",
   "execution_count": 16,
   "id": "8a49fc13",
   "metadata": {
    "scrolled": true
   },
   "outputs": [
    {
     "name": "stderr",
     "output_type": "stream",
     "text": [
      "17:33:44 - cmdstanpy - INFO - CmdStan start processing\n"
     ]
    },
    {
     "data": {
      "application/vnd.jupyter.widget-view+json": {
       "model_id": "ba9d9a8ce6224ba0b5b753d0b41219f8",
       "version_major": 2,
       "version_minor": 0
      },
      "text/plain": [
       "chain 1 |          | 00:00 Status"
      ]
     },
     "metadata": {},
     "output_type": "display_data"
    },
    {
     "data": {
      "application/vnd.jupyter.widget-view+json": {
       "model_id": "8a1765acfc504c55a5f19950c18dcad0",
       "version_major": 2,
       "version_minor": 0
      },
      "text/plain": [
       "chain 2 |          | 00:00 Status"
      ]
     },
     "metadata": {},
     "output_type": "display_data"
    },
    {
     "data": {
      "application/vnd.jupyter.widget-view+json": {
       "model_id": "ab88062b289141e79ab910529a63325c",
       "version_major": 2,
       "version_minor": 0
      },
      "text/plain": [
       "chain 3 |          | 00:00 Status"
      ]
     },
     "metadata": {},
     "output_type": "display_data"
    },
    {
     "data": {
      "application/vnd.jupyter.widget-view+json": {
       "model_id": "4c153b517e214bc4a64e256612f1f904",
       "version_major": 2,
       "version_minor": 0
      },
      "text/plain": [
       "chain 4 |          | 00:00 Status"
      ]
     },
     "metadata": {},
     "output_type": "display_data"
    },
    {
     "name": "stdout",
     "output_type": "stream",
     "text": [
      "                                                                                                                                                                                                                                                                                                                                "
     ]
    },
    {
     "name": "stderr",
     "output_type": "stream",
     "text": [
      "17:34:11 - cmdstanpy - INFO - CmdStan done processing.\n"
     ]
    },
    {
     "name": "stdout",
     "output_type": "stream",
     "text": [
      "\n"
     ]
    }
   ],
   "source": [
    "n_samples = 100\n",
    "X_given = np.random.normal(size = (n_samples, 10))\n",
    "d_true = np.ones(n_samples)/3\n",
    "K_old = create_sqexp_mat(X_mat = X_given, l = 1.0e-0)\n",
    "\n",
    "def f_true(X_vec, d_scalar):\n",
    "    return 2*np.sum(X_vec) + 5*d_scalar\n",
    "\n",
    "#Y_vec = np.random.normal(size = n_samples)\n",
    "#Y_vec = np.array([f_true(X_vec = X_given[i], d_scalar = d_true[i]) for i in range(len(d_true))])\n",
    "Y_vec = np.random.multivariate_normal(mean = np.zeros(n_samples), \n",
    "                                      cov = 0.01*np.identity(n_samples) \n",
    "                                      + create_K_full(X_given, d_true, l = 1.0e-0, c_0 = 1, p = 3))\n",
    "\n",
    "n = len(Y_vec)\n",
    "data_d = {'s':n_samples, 'p':3, 'c_0':1, 'Y':Y_vec, 'sigma':0.01, 'K_old':K_old}\n",
    "fit_d = d_model.sample(data = data_d)"
   ]
  },
  {
   "cell_type": "code",
   "execution_count": 22,
   "id": "80b9162c",
   "metadata": {},
   "outputs": [
    {
     "data": {
      "text/plain": [
       "array([[1.37174211e+00, 1.82293018e-06, 8.61105035e-07, ...,\n",
       "        6.62046967e-08, 7.80206225e-11, 1.65349546e-04],\n",
       "       [1.82293018e-06, 1.37174211e+00, 3.27492306e-06, ...,\n",
       "        1.94212665e-07, 5.02131613e-05, 3.39353069e-08],\n",
       "       [8.61105035e-07, 3.27492306e-06, 1.37174211e+00, ...,\n",
       "        6.83946388e-08, 1.43658337e-04, 1.10887945e-11],\n",
       "       ...,\n",
       "       [6.62046967e-08, 1.94212665e-07, 6.83946388e-08, ...,\n",
       "        1.37174211e+00, 1.18186155e-13, 1.25686274e-09],\n",
       "       [7.80206225e-11, 5.02131613e-05, 1.43658337e-04, ...,\n",
       "        1.18186155e-13, 1.37174211e+00, 3.75009201e-14],\n",
       "       [1.65349546e-04, 3.39353069e-08, 1.10887945e-11, ...,\n",
       "        1.25686274e-09, 3.75009201e-14, 1.37174211e+00]])"
      ]
     },
     "execution_count": 22,
     "metadata": {},
     "output_type": "execute_result"
    }
   ],
   "source": [
    "create_K_full(X_given, d_true, l = 1.0e-0, c_0 = 1, p = 3)"
   ]
  },
  {
   "cell_type": "code",
   "execution_count": 17,
   "id": "ce5f9768",
   "metadata": {},
   "outputs": [],
   "source": [
    "d_draws = fit_d.stan_variable(var = 'd')"
   ]
  },
  {
   "cell_type": "code",
   "execution_count": 18,
   "id": "88f8f0ad",
   "metadata": {},
   "outputs": [
    {
     "data": {
      "text/plain": [
       "(array([562., 474., 463., 447., 425., 429., 332., 303., 302., 263.]),\n",
       " array([7.97143000e-05, 1.00051843e-01, 2.00023971e-01, 2.99996100e-01,\n",
       "        3.99968229e-01, 4.99940357e-01, 5.99912486e-01, 6.99884614e-01,\n",
       "        7.99856743e-01, 8.99828871e-01, 9.99801000e-01]),\n",
       " <BarContainer object of 10 artists>)"
      ]
     },
     "execution_count": 18,
     "metadata": {},
     "output_type": "execute_result"
    },
    {
     "data": {
      "image/png": "[encoded data removed]",
      "text/plain": [
       "<Figure size 432x288 with 1 Axes>"
      ]
     },
     "metadata": {
      "needs_background": "light"
     },
     "output_type": "display_data"
    }
   ],
   "source": [
    "plt.hist(d_draws.T[0])"
   ]
  },
  {
   "cell_type": "code",
   "execution_count": 19,
   "id": "fa74a7be",
   "metadata": {},
   "outputs": [
    {
     "data": {
      "text/plain": [
       "(array([473., 466., 468., 462., 427., 422., 387., 333., 287., 275.]),\n",
       " array([2.01531000e-04, 1.00076978e-01, 1.99952425e-01, 2.99827872e-01,\n",
       "        3.99703319e-01, 4.99578765e-01, 5.99454212e-01, 6.99329659e-01,\n",
       "        7.99205106e-01, 8.99080553e-01, 9.98956000e-01]),\n",
       " <BarContainer object of 10 artists>)"
      ]
     },
     "execution_count": 19,
     "metadata": {},
     "output_type": "execute_result"
    },
    {
     "data": {
      "image/png": "[encoded data removed]",
      "text/plain": [
       "<Figure size 432x288 with 1 Axes>"
      ]
     },
     "metadata": {
      "needs_background": "light"
     },
     "output_type": "display_data"
    }
   ],
   "source": [
    "plt.hist(d_draws.T[50])"
   ]
  },
  {
   "cell_type": "code",
   "execution_count": 20,
   "id": "18d00b6a",
   "metadata": {},
   "outputs": [
    {
     "data": {
      "text/plain": [
       "(array([449., 490., 458., 459., 439., 386., 359., 378., 323., 259.]),\n",
       " array([2.67372000e-04, 1.00199035e-01, 2.00130698e-01, 3.00062360e-01,\n",
       "        3.99994023e-01, 4.99925686e-01, 5.99857349e-01, 6.99789012e-01,\n",
       "        7.99720674e-01, 8.99652337e-01, 9.99584000e-01]),\n",
       " <BarContainer object of 10 artists>)"
      ]
     },
     "execution_count": 20,
     "metadata": {},
     "output_type": "execute_result"
    },
    {
     "data": {
      "image/png": "[encoded data removed]",
      "text/plain": [
       "<Figure size 432x288 with 1 Axes>"
      ]
     },
     "metadata": {
      "needs_background": "light"
     },
     "output_type": "display_data"
    }
   ],
   "source": [
    "plt.hist(d_draws.T[99])"
   ]
  },
  {
   "cell_type": "code",
   "execution_count": 21,
   "id": "44de656b",
   "metadata": {},
   "outputs": [
    {
     "data": {
      "text/plain": [
       "(array([431., 420., 413., 432., 422., 425., 383., 384., 363., 327.]),\n",
       " array([1.65055000e-04, 1.00146449e-01, 2.00127844e-01, 3.00109239e-01,\n",
       "        4.00090633e-01, 5.00072028e-01, 6.00053422e-01, 7.00034816e-01,\n",
       "        8.00016211e-01, 8.99997605e-01, 9.99979000e-01]),\n",
       " <BarContainer object of 10 artists>)"
      ]
     },
     "execution_count": 21,
     "metadata": {},
     "output_type": "execute_result"
    },
    {
     "data": {
      "image/png": "[encoded data removed]",
      "text/plain": [
       "<Figure size 432x288 with 1 Axes>"
      ]
     },
     "metadata": {
      "needs_background": "light"
     },
     "output_type": "display_data"
    }
   ],
   "source": [
    "plt.hist(d_draws.T[90])"
   ]
  },
  {
   "cell_type": "code",
   "execution_count": null,
   "id": "3d96b1d7",
   "metadata": {},
   "outputs": [],
   "source": []
  },
  {
   "cell_type": "code",
   "execution_count": null,
   "id": "f0d5f85e",
   "metadata": {},
   "outputs": [],
   "source": []
  },
  {
   "cell_type": "code",
   "execution_count": 45,
   "id": "c0b9bde2",
   "metadata": {},
   "outputs": [],
   "source": [
    "# run this only once !!\n",
    "X_given = np.random.normal(size = (100, 10))\n",
    "d_true = np.ones(100)/10"
   ]
  },
  {
   "cell_type": "code",
   "execution_count": 46,
   "id": "f3a810d2",
   "metadata": {},
   "outputs": [],
   "source": [
    "def f_true(X_vec, d_scalar):\n",
    "    return 2*np.sum(X_vec) + 5*d_scalar"
   ]
  },
  {
   "cell_type": "code",
   "execution_count": 47,
   "id": "ab1b6660",
   "metadata": {},
   "outputs": [],
   "source": [
    "Y_vec = np.array([f_true(X_vec = X_given[i], d_scalar = d_true[i]) for i in range(len(d_true))])"
   ]
  },
  {
   "cell_type": "code",
   "execution_count": 49,
   "id": "6c88d528",
   "metadata": {},
   "outputs": [
    {
     "name": "stderr",
     "output_type": "stream",
     "text": [
      "12:52:00 - cmdstanpy - INFO - CmdStan start processing\n"
     ]
    },
    {
     "data": {
      "application/vnd.jupyter.widget-view+json": {
       "model_id": "7b3e483c0cd24ba785cbcd9c9d47a018",
       "version_major": 2,
       "version_minor": 0
      },
      "text/plain": [
       "chain 1 |          | 00:00 Status"
      ]
     },
     "metadata": {},
     "output_type": "display_data"
    },
    {
     "data": {
      "application/vnd.jupyter.widget-view+json": {
       "model_id": "9cfa2a49fbc64112a27eaba25feaf51c",
       "version_major": 2,
       "version_minor": 0
      },
      "text/plain": [
       "chain 2 |          | 00:00 Status"
      ]
     },
     "metadata": {},
     "output_type": "display_data"
    },
    {
     "data": {
      "application/vnd.jupyter.widget-view+json": {
       "model_id": "9e48d5242df94648bcc3749f4fd4e8da",
       "version_major": 2,
       "version_minor": 0
      },
      "text/plain": [
       "chain 3 |          | 00:00 Status"
      ]
     },
     "metadata": {},
     "output_type": "display_data"
    },
    {
     "data": {
      "application/vnd.jupyter.widget-view+json": {
       "model_id": "21551fa7c458495a95fee65899bf07a3",
       "version_major": 2,
       "version_minor": 0
      },
      "text/plain": [
       "chain 4 |          | 00:00 Status"
      ]
     },
     "metadata": {},
     "output_type": "display_data"
    },
    {
     "name": "stdout",
     "output_type": "stream",
     "text": [
      "                                                                                                                                                                                                                                                                                                                                "
     ]
    },
    {
     "name": "stderr",
     "output_type": "stream",
     "text": [
      "12:52:30 - cmdstanpy - INFO - CmdStan done processing.\n"
     ]
    },
    {
     "name": "stdout",
     "output_type": "stream",
     "text": [
      "\n"
     ]
    }
   ],
   "source": [
    "d_est = update_d(Y_vec = Y_vec, K_old = K_old, sigma = 1, c_0 = 1, p = 2)"
   ]
  },
  {
   "cell_type": "code",
   "execution_count": 50,
   "id": "2f40bd43",
   "metadata": {
    "collapsed": true
   },
   "outputs": [
    {
     "data": {
      "text/plain": [
       "[0.548769,\n",
       " 0.63207,\n",
       " 0.948912,\n",
       " 0.643452,\n",
       " 0.763798,\n",
       " 0.506079,\n",
       " 0.530864,\n",
       " 0.659286,\n",
       " 0.467198,\n",
       " 0.560637,\n",
       " 0.778133,\n",
       " 0.534339,\n",
       " 0.571915,\n",
       " 0.963849,\n",
       " 0.839103,\n",
       " 0.965036,\n",
       " 0.553773,\n",
       " 0.616754,\n",
       " 0.869455,\n",
       " 0.832953,\n",
       " 0.672266,\n",
       " 0.535884,\n",
       " 0.638909,\n",
       " 0.88749,\n",
       " 0.49554,\n",
       " 0.974517,\n",
       " 0.485479,\n",
       " 0.808636,\n",
       " 0.920672,\n",
       " 0.521069,\n",
       " 0.81851,\n",
       " 0.811915,\n",
       " 0.717636,\n",
       " 0.880112,\n",
       " 0.91393,\n",
       " 0.935417,\n",
       " 0.51843,\n",
       " 0.576265,\n",
       " 0.707928,\n",
       " 0.671319,\n",
       " 0.785116,\n",
       " 0.570865,\n",
       " 0.936851,\n",
       " 0.4633,\n",
       " 0.657275,\n",
       " 0.923729,\n",
       " 0.886817,\n",
       " 0.848813,\n",
       " 0.943696,\n",
       " 0.550708,\n",
       " 0.822441,\n",
       " 0.77768,\n",
       " 0.923977,\n",
       " 0.4651,\n",
       " 0.542936,\n",
       " 0.593189,\n",
       " 0.967269,\n",
       " 0.551233,\n",
       " 0.807456,\n",
       " 0.963248,\n",
       " 0.511977,\n",
       " 0.532289,\n",
       " 0.967105,\n",
       " 0.825075,\n",
       " 0.5225,\n",
       " 0.496097,\n",
       " 0.652683,\n",
       " 0.813851,\n",
       " 0.46719,\n",
       " 0.922678,\n",
       " 0.927561,\n",
       " 0.469603,\n",
       " 0.896402,\n",
       " 0.587785,\n",
       " 0.872831,\n",
       " 0.915165,\n",
       " 0.964352,\n",
       " 0.927043,\n",
       " 0.950155,\n",
       " 0.800416,\n",
       " 0.944281,\n",
       " 0.923437,\n",
       " 0.507497,\n",
       " 0.529636,\n",
       " 0.517358,\n",
       " 0.89185,\n",
       " 0.824345,\n",
       " 0.621929,\n",
       " 0.724714,\n",
       " 0.522364,\n",
       " 0.480272,\n",
       " 0.925948,\n",
       " 0.511732,\n",
       " 0.786159,\n",
       " 0.580116,\n",
       " 0.473782,\n",
       " 0.467148,\n",
       " 0.612171,\n",
       " 0.496448,\n",
       " 0.483949]"
      ]
     },
     "execution_count": 50,
     "metadata": {},
     "output_type": "execute_result"
    }
   ],
   "source": [
    "d_est"
   ]
  },
  {
   "cell_type": "code",
   "execution_count": 51,
   "id": "c60b136e",
   "metadata": {},
   "outputs": [
    {
     "data": {
      "text/plain": [
       "10.562311563301343"
      ]
     },
     "execution_count": 51,
     "metadata": {},
     "output_type": "execute_result"
    }
   ],
   "source": [
    "GP_mean(Y_vec = Y_vec, X_mat = X_given,\n",
    "        d_vec = d_est, X_vec = np.ones(10), d_scalar = 0.5,\n",
    "        l = 1.0e+1, c_0 = 1, p = 2)"
   ]
  },
  {
   "cell_type": "code",
   "execution_count": null,
   "id": "7a543bd2",
   "metadata": {},
   "outputs": [],
   "source": []
  },
  {
   "cell_type": "code",
   "execution_count": null,
   "id": "0c42e5c0",
   "metadata": {},
   "outputs": [],
   "source": []
  },
  {
   "cell_type": "code",
   "execution_count": null,
   "id": "09f75376",
   "metadata": {},
   "outputs": [],
   "source": []
  },
  {
   "cell_type": "code",
   "execution_count": null,
   "id": "0caf4cb1",
   "metadata": {},
   "outputs": [],
   "source": []
  },
  {
   "cell_type": "code",
   "execution_count": 33,
   "id": "8a23538c",
   "metadata": {},
   "outputs": [],
   "source": [
    "###############################################################################################################################"
   ]
  },
  {
   "cell_type": "markdown",
   "id": "32843f65",
   "metadata": {},
   "source": [
    "# Creating 'Warped' Sq-exp Gram matrix for unknown covariate"
   ]
  },
  {
   "cell_type": "markdown",
   "id": "4a1229bd",
   "metadata": {},
   "source": [
    "## Logit Warping"
   ]
  },
  {
   "cell_type": "code",
   "execution_count": 8,
   "id": "8f7cc8dc",
   "metadata": {},
   "outputs": [],
   "source": [
    "# modified Squared Exponential Kernel function for scalars d1, d2\n",
    "def K_warp_sqexp(d1, d2, l):\n",
    "        return np.exp(-((special.logit(d1) - special.logit(d2))/l)**2)"
   ]
  },
  {
   "cell_type": "code",
   "execution_count": 9,
   "id": "3f94a247",
   "metadata": {},
   "outputs": [
    {
     "data": {
      "text/plain": [
       "4.1044939710641305e-09"
      ]
     },
     "execution_count": 9,
     "metadata": {},
     "output_type": "execute_result"
    }
   ],
   "source": [
    "K_warp_sqexp(d1 = 0.9, d2 = 0.1, l = 1)"
   ]
  },
  {
   "cell_type": "code",
   "execution_count": 10,
   "id": "972e1f73",
   "metadata": {},
   "outputs": [],
   "source": [
    "def create_warp_sqexp_mat(d_vec, l):\n",
    "    n = len(d_vec)\n",
    "    out = np.zeros(shape = (n, n))\n",
    "    for i in range(n - 1):\n",
    "        for j in range(i + 1, n):\n",
    "            out[j][i] = out[i][j] = K_warp_sqexp(d1 = d_vec[i], d2 = d_vec[j], l = l)\n",
    "    for i in range(n):\n",
    "        out[i][i] = K_warp_sqexp(d1 = d_vec[i], d2 = d_vec[i], l = l)\n",
    "    return out"
   ]
  },
  {
   "cell_type": "code",
   "execution_count": 11,
   "id": "63995aa0",
   "metadata": {},
   "outputs": [
    {
     "data": {
      "text/plain": [
       "0.2619376586416067"
      ]
     },
     "execution_count": 11,
     "metadata": {},
     "output_type": "execute_result"
    }
   ],
   "source": [
    "K_d_mat = create_warp_sqexp_mat(d_vec = np.random.uniform(size = 100), l = 1.0e-3)\n",
    "\n",
    "# smallest absolute eigen-value\n",
    "np.min(abs(linalg.eig(K_d_mat)[0]))"
   ]
  },
  {
   "cell_type": "code",
   "execution_count": 12,
   "id": "c5f8f597",
   "metadata": {},
   "outputs": [
    {
     "data": {
      "text/plain": [
       "array([[1., 0., 0., 0.],\n",
       "       [0., 1., 0., 0.],\n",
       "       [0., 0., 1., 0.],\n",
       "       [0., 0., 0., 1.]])"
      ]
     },
     "execution_count": 12,
     "metadata": {},
     "output_type": "execute_result"
    }
   ],
   "source": [
    "K_d_mat[:4, :4]"
   ]
  },
  {
   "cell_type": "markdown",
   "id": "37175d19",
   "metadata": {},
   "source": [
    "## Sin Warping"
   ]
  },
  {
   "cell_type": "code",
   "execution_count": null,
   "id": "b5dcef7d",
   "metadata": {},
   "outputs": [],
   "source": [
    "# modified Squared Exponential Kernel function for scalars d1, d2\n",
    "def K_warp_sqexp(d1, d2, l):\n",
    "        return np.exp(-((special.logit(d1) - special.logit(d2))/l)**2)"
   ]
  },
  {
   "cell_type": "code",
   "execution_count": null,
   "id": "481d5637",
   "metadata": {},
   "outputs": [],
   "source": []
  },
  {
   "cell_type": "code",
   "execution_count": null,
   "id": "b3bbc57e",
   "metadata": {},
   "outputs": [],
   "source": []
  },
  {
   "cell_type": "code",
   "execution_count": null,
   "id": "63de002c",
   "metadata": {},
   "outputs": [],
   "source": []
  },
  {
   "cell_type": "code",
   "execution_count": null,
   "id": "d299a826",
   "metadata": {},
   "outputs": [],
   "source": []
  },
  {
   "cell_type": "markdown",
   "id": "c003717f",
   "metadata": {},
   "source": [
    "# Creating Full Gram matrix for all covariates (with warping)"
   ]
  },
  {
   "cell_type": "code",
   "execution_count": 13,
   "id": "821c3edf",
   "metadata": {},
   "outputs": [],
   "source": [
    "def create_K_full(X_mat, d_vec, l_X, l_d):\n",
    "    return np.multiply(create_sqexp_mat(X_mat = X_mat, l = l_X), create_warp_sqexp_mat(d_vec = d_vec, l = l_d))"
   ]
  },
  {
   "cell_type": "code",
   "execution_count": 14,
   "id": "824c4e80",
   "metadata": {},
   "outputs": [
    {
     "data": {
      "text/plain": [
       "0.12223416367883085"
      ]
     },
     "execution_count": 14,
     "metadata": {},
     "output_type": "execute_result"
    }
   ],
   "source": [
    "K_full = create_K_full(X_mat = np.random.normal(size = (100, 4)), d_vec = np.random.uniform(size = 100), l_X = 1, l_d = 1)\n",
    "\n",
    "# smallest absolute eigen-value\n",
    "np.min(abs(linalg.eig(K_full)[0]))"
   ]
  },
  {
   "cell_type": "code",
   "execution_count": null,
   "id": "470d88dd",
   "metadata": {},
   "outputs": [],
   "source": []
  },
  {
   "cell_type": "code",
   "execution_count": null,
   "id": "f2217609",
   "metadata": {},
   "outputs": [],
   "source": []
  },
  {
   "cell_type": "code",
   "execution_count": 4,
   "id": "49dc2ccf",
   "metadata": {},
   "outputs": [],
   "source": [
    "def create_K_prod_mat(X_mat, c_0 = 1, offset = 0.5, p = 2):\n",
    "    mat = X_mat - offset\n",
    "    out = c_0 + np.matmul(mat, mat.T)\n",
    "    return out**p"
   ]
  },
  {
   "cell_type": "code",
   "execution_count": 66,
   "id": "626697c1",
   "metadata": {},
   "outputs": [
    {
     "data": {
      "text/plain": [
       "3.233355286790019e-17"
      ]
     },
     "execution_count": 66,
     "metadata": {},
     "output_type": "execute_result"
    }
   ],
   "source": [
    "KK = create_K_prod_mat(X_mat = np.random.normal(size = (50, 5)), c_0 = 1, offset = 0.5)\n",
    "\n",
    "# smallest absolute eigen-value\n",
    "np.min(abs(linalg.eig(KK)[0]))"
   ]
  },
  {
   "cell_type": "code",
   "execution_count": null,
   "id": "0fe21e44",
   "metadata": {},
   "outputs": [],
   "source": []
  },
  {
   "cell_type": "code",
   "execution_count": null,
   "id": "875898eb",
   "metadata": {},
   "outputs": [],
   "source": []
  },
  {
   "cell_type": "code",
   "execution_count": 9,
   "id": "8ce3730a",
   "metadata": {},
   "outputs": [],
   "source": [
    "def create_K_prod_vec(X_mat, X_vec, c_0 = 0, offset = 0.5):\n",
    "    mat = X_mat - offset\n",
    "    vec = X_vec - offset\n",
    "    vec = np.atleast_2d(vec)\n",
    "    out = c_0 + np.matmul(mat, vec.T)\n",
    "    return np.ravel(out)"
   ]
  },
  {
   "cell_type": "code",
   "execution_count": 10,
   "id": "bcbd1573",
   "metadata": {},
   "outputs": [
    {
     "data": {
      "text/plain": [
       "array([ 1.06123573, -0.08387609, -0.56225959,  4.44628528])"
      ]
     },
     "execution_count": 10,
     "metadata": {},
     "output_type": "execute_result"
    }
   ],
   "source": [
    "create_K_prod_vec(X_mat = np.random.normal(size = (4, 2)), X_vec = np.random.normal(size = 2), c_0 = 0, offset = 0.5)"
   ]
  },
  {
   "cell_type": "code",
   "execution_count": 11,
   "id": "8fcdda31",
   "metadata": {},
   "outputs": [],
   "source": [
    "def create_X_mat(x, u):\n",
    "    n = len(x)\n",
    "    return np.array([[x[i], u[i]] for i in range(n)])"
   ]
  },
  {
   "cell_type": "code",
   "execution_count": 12,
   "id": "0a6855ac",
   "metadata": {},
   "outputs": [],
   "source": [
    "def GP_mean(y_vec, X_mat, x_vec):\n",
    "    n = len(y_vec)\n",
    "    v = kernel_vec_sqexp(X_mat, x_vec, l = 1)\n",
    "    M = linalg.inv(np.identity(n) + kernel_sqexp(X_mat, l = 1))\n",
    "    return np.dot(np.matmul(M, v), y_vec)"
   ]
  },
  {
   "cell_type": "code",
   "execution_count": 13,
   "id": "11ed5d2e",
   "metadata": {},
   "outputs": [],
   "source": [
    "def update_mu(y, x, u, c_0 = 1, offset = 0.5):\n",
    "    n = len(y)\n",
    "    X_mat = create_X_mat(x, u)\n",
    "    K_prod_mat = create_K_prod_mat(X_mat, c_0, offset)\n",
    "    cov = linalg.inv(linalg.inv(K_prod_mat) + np.identity(n))\n",
    "    mu = np.random.multivariate_normal(mean = np.matmul(cov, y), cov = cov)\n",
    "    return mu"
   ]
  },
  {
   "cell_type": "code",
   "execution_count": 22,
   "id": "293d9112",
   "metadata": {},
   "outputs": [
    {
     "name": "stderr",
     "output_type": "stream",
     "text": [
      "INFO:cmdstanjupyter:Reusing cached model file .stan/u_model.stan\n",
      "INFO:cmdstanjupyter:Creating CmdStanPy model & assigning it to variable \"u_model\"\n",
      "INFO:cmdstanjupyter:StanModel now available as variable \"u_model\"!\n",
      " Compilation took a moment.\n"
     ]
    }
   ],
   "source": [
    "%%stan u_model\n",
    "functions{\n",
    "    matrix create_K_mat(vector x, vector u, real c_0, real offset_val, int p, int n){\n",
    "        matrix[n, n] K_mat = rep_matrix(0, n, n);\n",
    "        for(j in 1:n){\n",
    "            for(i in 1:n){\n",
    "                K_mat[i, j] = pow(c_0 + (x[i] - offset_val)*(x[j] - offset_val) + (u[i] - offset_val)*(u[j] - offset_val), p);\n",
    "            }\n",
    "        }\n",
    "        return K_mat;\n",
    "    }\n",
    "}\n",
    "\n",
    "data{\n",
    "    int<lower = 0> n;\n",
    "    int<lower=1> p;\n",
    "    real<lower=0> c_0;\n",
    "    real offset_val;\n",
    "    vector[n] mu;\n",
    "    vector[n] x;\n",
    "}\n",
    "\n",
    "parameters{\n",
    "    vector<lower=0, upper=1>[n] u;\n",
    "}\n",
    "\n",
    "model{\n",
    "    mu ~ multi_normal(rep_vector(0, n), create_K_mat(x, u, c_0, offset_val, p, n));\n",
    "}"
   ]
  },
  {
   "cell_type": "code",
   "execution_count": 23,
   "id": "96c3002c",
   "metadata": {},
   "outputs": [],
   "source": [
    "def update_u(mu, x, c_0, offset, p):\n",
    "    n = len(x)\n",
    "    data_u = {'n':n, 'p':p, 'c_0':c_0, 'offset_val':offset, 'mu':mu, 'x':x}\n",
    "    fit_u = u_model.sample(data = data_u)\n",
    "    out = list(fit_u.summary()['Mean'].iloc[1:])\n",
    "    return out"
   ]
  },
  {
   "cell_type": "code",
   "execution_count": 39,
   "id": "5a77312f",
   "metadata": {},
   "outputs": [
    {
     "name": "stderr",
     "output_type": "stream",
     "text": [
      "15:38:40 - cmdstanpy - INFO - CmdStan start processing\n"
     ]
    },
    {
     "data": {
      "application/vnd.jupyter.widget-view+json": {
       "model_id": "b6add8b43ef445dd9469f99139f1a799",
       "version_major": 2,
       "version_minor": 0
      },
      "text/plain": [
       "chain 1 |          | 00:00 Status"
      ]
     },
     "metadata": {},
     "output_type": "display_data"
    },
    {
     "data": {
      "application/vnd.jupyter.widget-view+json": {
       "model_id": "3d562bbb2837457ba4d113651c5cefb8",
       "version_major": 2,
       "version_minor": 0
      },
      "text/plain": [
       "chain 2 |          | 00:00 Status"
      ]
     },
     "metadata": {},
     "output_type": "display_data"
    },
    {
     "data": {
      "application/vnd.jupyter.widget-view+json": {
       "model_id": "0c0be8a4b8234a9a87a7eee93a866241",
       "version_major": 2,
       "version_minor": 0
      },
      "text/plain": [
       "chain 3 |          | 00:00 Status"
      ]
     },
     "metadata": {},
     "output_type": "display_data"
    },
    {
     "data": {
      "application/vnd.jupyter.widget-view+json": {
       "model_id": "698402fe8a3a4d35b090095ace65ea87",
       "version_major": 2,
       "version_minor": 0
      },
      "text/plain": [
       "chain 4 |          | 00:00 Status"
      ]
     },
     "metadata": {},
     "output_type": "display_data"
    },
    {
     "name": "stderr",
     "output_type": "stream",
     "text": [
      "15:38:40 - cmdstanpy - ERROR - Chain [2] error: error during processing Operation not permitted\n",
      "15:38:40 - cmdstanpy - ERROR - Chain [1] error: error during processing Operation not permitted\n",
      "15:38:40 - cmdstanpy - ERROR - Chain [4] error: error during processing Operation not permitted\n",
      "15:38:40 - cmdstanpy - ERROR - Chain [3] error: error during processing Operation not permitted\n"
     ]
    },
    {
     "name": "stdout",
     "output_type": "stream",
     "text": [
      "                                                                                                                                                                                                                                                                                                                                "
     ]
    },
    {
     "name": "stderr",
     "output_type": "stream",
     "text": [
      "15:38:40 - cmdstanpy - INFO - CmdStan done processing.\n"
     ]
    },
    {
     "name": "stdout",
     "output_type": "stream",
     "text": [
      "\n"
     ]
    },
    {
     "ename": "RuntimeError",
     "evalue": "Error during sampling:\nException: multi_normal_lpdf: LDLT_Factor of covariance parameter is not positive definite.  last conditional variance is 1.11022e-015. (in 'D:/PYTHON~1/STAN~1/u_model.stan', line 27, column 4 to column 83)\n\tException: multi_normal_lpdf: LDLT_Factor of covariance parameter is not positive definite.  last conditional variance is 6.66134e-016. (in 'D:/PYTHON~1/STAN~1/u_model.stan', line 27, column 4 to column 83)\n\tException: multi_normal_lpdf: LDLT_Factor of covariance parameter is not positive definite.  last conditional variance is 0. (in 'D:/PYTHON~1/STAN~1/u_model.stan', line 27, column 4 to column 83)\n\tException: multi_normal_lpdf: LDLT_Factor of covariance parameter is not positive definite.  last conditional variance is -1.11022e-014. (in 'D:/PYTHON~1/STAN~1/u_model.stan', line 27, column 4 to column 83)\n\tException: multi_normal_lpdf: LDLT_Factor of covariance parameter is not positive definite.  last conditional variance is 1.55431e-015. (in 'D:/PYTHON~1/STAN~1/u_model.stan', line 27, column 4 to column 83)\n\tException: multi_normal_lpdf: LDLT_Factor of covariance parameter is not positive definite.  last conditional variance is -4.44089e-016. (in 'D:/PYTHON~1/STAN~1/u_model.stan', line 27, column 4 to column 83)\n\tException: multi_normal_lpdf: LDLT_Factor of covariance parameter is not positive definite.  last conditional variance is -3.55271e-015. (in 'D:/PYTHON~1/STAN~1/u_model.stan', line 27, column 4 to column 83)\n\tException: multi_normal_lpdf: LDLT_Factor of covariance parameter is not positive definite.  last conditional variance is -5.32907e-015. (in 'D:/PYTHON~1/STAN~1/u_model.stan', line 27, column 4 to column 83)\n\tException: multi_normal_lpdf: LDLT_Factor of covariance parameter is not positive definite.  last conditional variance is 8.88178e-016. (in 'D:/PYTHON~1/STAN~1/u_model.stan', line 27, column 4 to column 83)\n\tException: multi_normal_lpdf: LDLT_Factor of covariance parameter is not positive definite.  last conditional variance is -1.55431e-015. (in 'D:/PYTHON~1/STAN~1/u_model.stan', line 27, column 4 to column 83)\n\tException: multi_normal_lpdf: LDLT_Factor of covariance parameter is not positive definite.  last conditional variance is -2.22045e-016. (in 'D:/PYTHON~1/STAN~1/u_model.stan', line 27, column 4 to column 83)\n\tException: multi_normal_lpdf: LDLT_Factor of covariance parameter is not positive definite.  last conditional variance is -4.44089e-016. (in 'D:/PYTHON~1/STAN~1/u_model.stan', line 27, column 4 to column 83)\n\tException: multi_normal_lpdf: LDLT_Factor of covariance parameter is not positive definite.  last conditional variance is -1.77636e-015. (in 'D:/PYTHON~1/STAN~1/u_model.stan', line 27, column 4 to column 83)\n\tException: multi_normal_lpdf: LDLT_Factor of covariance parameter is not positive definite.  last conditional variance is 5.77316e-015. (in 'D:/PYTHON~1/STAN~1/u_model.stan', line 27, column 4 to column 83)\n\tException: multi_normal_lpdf: LDLT_Factor of covariance parameter is not positive definite.  last conditional variance is 1.55431e-015. (in 'D:/PYTHON~1/STAN~1/u_model.stan', line 27, column 4 to column 83)\n\tException: multi_normal_lpdf: LDLT_Factor of covariance parameter is not positive definite.  last conditional variance is -2.22045e-015. (in 'D:/PYTHON~1/STAN~1/u_model.stan', line 27, column 4 to column 83)\n\tException: multi_normal_lpdf: LDLT_Factor of covariance parameter is not positive definite.  last conditional variance is 4.44089e-016. (in 'D:/PYTHON~1/STAN~1/u_model.stan', line 27, column 4 to column 83)\n\tException: multi_normal_lpdf: LDLT_Factor of covariance parameter is not positive definite.  last conditional variance is 1.77636e-015. (in 'D:/PYTHON~1/STAN~1/u_model.stan', line 27, column 4 to column 83)\n\tException: multi_normal_lpdf: LDLT_Factor of covariance parameter is not positive definite.  last conditional variance is 4.44089e-015. (in 'D:/PYTHON~1/STAN~1/u_model.stan', line 27, column 4 to column 83)\n\tException: multi_normal_lpdf: LDLT_Factor of covariance parameter is not positive definite.  last conditional variance is 6.66134e-016. (in 'D:/PYTHON~1/STAN~1/u_model.stan', line 27, column 4 to column 83)\n\tException: multi_normal_lpdf: LDLT_Factor of covariance parameter is not positive definite.  last conditional variance is 0. (in 'D:/PYTHON~1/STAN~1/u_model.stan', line 27, column 4 to column 83)\n\tException: multi_normal_lpdf: LDLT_Factor of covariance parameter is not positive definite.  last conditional variance is -4.44089e-016. (in 'D:/PYTHON~1/STAN~1/u_model.stan', line 27, column 4 to column 83)\n\tException: multi_normal_lpdf: LDLT_Factor of covariance parameter is not positive definite.  last conditional variance is 1.33227e-015. (in 'D:/PYTHON~1/STAN~1/u_model.stan', line 27, column 4 to column 83)\n\tException: multi_normal_lpdf: LDLT_Factor of covariance parameter is not positive definite.  last conditional variance is 5.55112e-015. (in 'D:/PYTHON~1/STAN~1/u_model.stan', line 27, column 4 to column 83)\n\tException: multi_normal_lpdf: LDLT_Factor of covariance parameter is not positive definite.  last conditional variance is 2.44249e-015. (in 'D:/PYTHON~1/STAN~1/u_model.stan', line 27, column 4 to column 83)\n\tException: multi_normal_lpdf: LDLT_Factor of covariance parameter is not positive definite.  last conditional variance is 0. (in 'D:/PYTHON~1/STAN~1/u_model.stan', line 27, column 4 to column 83)\n\tException: multi_normal_lpdf: LDLT_Factor of covariance parameter is not positive definite.  last conditional variance is -2.44249e-015. (in 'D:/PYTHON~1/STAN~1/u_model.stan', line 27, column 4 to column 83)\n\tException: multi_normal_lpdf: LDLT_Factor of covariance parameter is not positive definite.  last conditional variance is -7.77156e-015. (in 'D:/PYTHON~1/STAN~1/u_model.stan', line 27, column 4 to column 83)\n\tException: multi_normal_lpdf: LDLT_Factor of covariance parameter is not positive definite.  last conditional variance is -2.22045e-016. (in 'D:/PYTHON~1/STAN~1/u_model.stan', line 27, column 4 to column 83)\n\tException: multi_normal_lpdf: LDLT_Factor of covariance parameter is not positive definite.  last conditional variance is -1.11022e-015. (in 'D:/PYTHON~1/STAN~1/u_model.stan', line 27, column 4 to column 83)\n\tException: multi_normal_lpdf: LDLT_Factor of covariance parameter is not positive definite.  last conditional variance is 2.22045e-016. (in 'D:/PYTHON~1/STAN~1/u_model.stan', line 27, column 4 to column 83)\n\tException: multi_normal_lpdf: LDLT_Factor of covariance parameter is not positive definite.  last conditional variance is 8.88178e-016. (in 'D:/PYTHON~1/STAN~1/u_model.stan', line 27, column 4 to column 83)\n\tException: multi_normal_lpdf: LDLT_Factor of covariance parameter is not positive definite.  last conditional variance is -1.11022e-015. (in 'D:/PYTHON~1/STAN~1/u_model.stan', line 27, column 4 to column 83)\n\tException: multi_normal_lpdf: LDLT_Factor of covariance parameter is not positive definite.  last conditional variance is 0. (in 'D:/PYTHON~1/STAN~1/u_model.stan', line 27, column 4 to column 83)\n\tException: multi_normal_lpdf: LDLT_Factor of covariance parameter is not positive definite.  last conditional variance is -4.44089e-016. (in 'D:/PYTHON~1/STAN~1/u_model.stan', line 27, column 4 to column 83)\n\tException: multi_normal_lpdf: LDLT_Factor of covariance parameter is not positive definite.  last conditional variance is 8.88178e-016. (in 'D:/PYTHON~1/STAN~1/u_model.stan', line 27, column 4 to column 83)\n\tException: multi_normal_lpdf: LDLT_Factor of covariance parameter is not positive definite.  last conditional variance is 4.44089e-016. (in 'D:/PYTHON~1/STAN~1/u_model.stan', line 27, column 4 to column 83)\n\tException: multi_normal_lpdf: LDLT_Factor of covariance parameter is not positive definite.  last conditional variance is -1.9984e-015. (in 'D:/PYTHON~1/STAN~1/u_model.stan', line 27, column 4 to column 83)\n\tException: multi_normal_lpdf: LDLT_Factor of covariance parameter is not positive definite.  last conditional variance is 1.55431e-015. (in 'D:/PYTHON~1/STAN~1/u_model.stan', line 27, column 4 to column 83)\n\tException: multi_normal_lpdf: LDLT_Factor of covariance parameter is not positive definite.  last conditional variance is -3.9968e-015. (in 'D:/PYTHON~1/STAN~1/u_model.stan', line 27, column 4 to column 83)\n\tException: multi_normal_lpdf: LDLT_Factor of covariance parameter is not positive definite.  last conditional variance is -4.44089e-016. (in 'D:/PYTHON~1/STAN~1/u_model.stan', line 27, column 4 to column 83)\n\tException: multi_normal_lpdf: LDLT_Factor of covariance parameter is not positive definite.  last conditional variance is -2.22045e-016. (in 'D:/PYTHON~1/STAN~1/u_model.stan', line 27, column 4 to column 83)\n\tException: multi_normal_lpdf: LDLT_Factor of covariance parameter is not positive definite.  last conditional variance is -1.11022e-015. (in 'D:/PYTHON~1/STAN~1/u_model.stan', line 27, column 4 to column 83)\n\tException: multi_normal_lpdf: LDLT_Factor of covariance parameter is not positive definite.  last conditional variance is -1.9984e-015. (in 'D:/PYTHON~1/STAN~1/u_model.stan', line 27, column 4 to column 83)\n\tException: multi_normal_lpdf: LDLT_Factor of covariance parameter is not positive definite.  last conditional variance is 1.55431e-015. (in 'D:/PYTHON~1/STAN~1/u_model.stan', line 27, column 4 to column 83)\n\tException: multi_normal_lpdf: LDLT_Factor of covariance parameter is not positive definite.  last conditional variance is 4.44089e-016. (in 'D:/PYTHON~1/STAN~1/u_model.stan', line 27, column 4 to column 83)\n\tException: multi_normal_lpdf: LDLT_Factor of covariance parameter is not positive definite.  last conditional variance is -5.10703e-015. (in 'D:/PYTHON~1/STAN~1/u_model.stan', line 27, column 4 to column 83)\n\tException: multi_normal_lpdf: LDLT_Factor of covariance parameter is not positive definite.  last conditional variance is 4.44089e-016. (in 'D:/PYTHON~1/STAN~1/u_model.stan', line 27, column 4 to column 83)\n\tException: multi_normal_lpdf: LDLT_Factor of covariance parameter is not positive definite.  last conditional variance is -1.77636e-015. (in 'D:/PYTHON~1/STAN~1/u_model.stan', line 27, column 4 to column 83)\n\tException: multi_normal_lpdf: LDLT_Factor of covariance parameter is not positive definite.  last conditional variance is -4.44089e-016. (in 'D:/PYTHON~1/STAN~1/u_model.stan', line 27, column 4 to column 83)\n\tException: multi_normal_lpdf: LDLT_Factor of covariance parameter is not positive definite.  last conditional variance is 0. (in 'D:/PYTHON~1/STAN~1/u_model.stan', line 27, column 4 to column 83)\n\tException: multi_normal_lpdf: LDLT_Factor of covariance parameter is not positive definite.  last conditional variance is 4.44089e-016. (in 'D:/PYTHON~1/STAN~1/u_model.stan', line 27, column 4 to column 83)\n\tException: multi_normal_lpdf: LDLT_Factor of covariance parameter is not positive definite.  last conditional variance is 4.44089e-016. (in 'D:/PYTHON~1/STAN~1/u_model.stan', line 27, column 4 to column 83)\n\tException: multi_normal_lpdf: LDLT_Factor of covariance parameter is not positive definite.  last conditional variance is 2.66454e-015. (in 'D:/PYTHON~1/STAN~1/u_model.stan', line 27, column 4 to column 83)\n\tException: multi_normal_lpdf: LDLT_Factor of covariance parameter is not positive definite.  last conditional variance is 2.44249e-015. (in 'D:/PYTHON~1/STAN~1/u_model.stan', line 27, column 4 to column 83)\n\tException: multi_normal_lpdf: LDLT_Factor of covariance parameter is not positive definite.  last conditional variance is -3.55271e-015. (in 'D:/PYTHON~1/STAN~1/u_model.stan', line 27, column 4 to column 83)\n\tException: multi_normal_lpdf: LDLT_Factor of covariance parameter is not positive definite.  last conditional variance is -4.44089e-016. (in 'D:/PYTHON~1/STAN~1/u_model.stan', line 27, column 4 to column 83)\n\tException: multi_normal_lpdf: LDLT_Factor of covariance parameter is not positive definite.  last conditional variance is 1.11022e-015. (in 'D:/PYTHON~1/STAN~1/u_model.stan', line 27, column 4 to column 83)\n\tException: multi_normal_lpdf: LDLT_Factor of covariance parameter is not positive definite.  last conditional variance is 1.33227e-015. (in 'D:/PYTHON~1/STAN~1/u_model.stan', line 27, column 4 to column 83)\n\tException: multi_normal_lpdf: LDLT_Factor of covariance parameter is not positive definite.  last conditional variance is 9.10383e-015. (in 'D:/PYTHON~1/STAN~1/u_model.stan', line 27, column 4 to column 83)\n\tException: multi_normal_lpdf: LDLT_Factor of covariance parameter is not positive definite.  last conditional variance is 6.66134e-016. (in 'D:/PYTHON~1/STAN~1/u_model.stan', line 27, column 4 to column 83)\n\tException: multi_normal_lpdf: LDLT_Factor of covariance parameter is not positive definite.  last conditional variance is 0. (in 'D:/PYTHON~1/STAN~1/u_model.stan', line 27, column 4 to column 83)\n\tException: multi_normal_lpdf: LDLT_Factor of covariance parameter is not positive definite.  last conditional variance is 1.33227e-015. (in 'D:/PYTHON~1/STAN~1/u_model.stan', line 27, column 4 to column 83)\n\tException: multi_normal_lpdf: LDLT_Factor of covariance parameter is not positive definite.  last conditional variance is 2.22045e-016. (in 'D:/PYTHON~1/STAN~1/u_model.stan', line 27, column 4 to column 83)\n\tException: multi_normal_lpdf: LDLT_Factor of covariance parameter is not positive definite.  last conditional variance is -6.88338e-015. (in 'D:/PYTHON~1/STAN~1/u_model.stan', line 27, column 4 to column 83)\n\tException: multi_normal_lpdf: LDLT_Factor of covariance parameter is not positive definite.  last conditional variance is 8.88178e-016. (in 'D:/PYTHON~1/STAN~1/u_model.stan', line 27, column 4 to column 83)\n\tException: multi_normal_lpdf: LDLT_Factor of covariance parameter is not positive definite.  last conditional variance is 1.77636e-015. (in 'D:/PYTHON~1/STAN~1/u_model.stan', line 27, column 4 to column 83)\n\tException: multi_normal_lpdf: LDLT_Factor of covariance parameter is not positive definite.  last conditional variance is 2.66454e-015. (in 'D:/PYTHON~1/STAN~1/u_model.stan', line 27, column 4 to column 83)\n\tException: multi_normal_lpdf: LDLT_Factor of covariance parameter is not positive definite.  last conditional variance is -4.21885e-015. (in 'D:/PYTHON~1/STAN~1/u_model.stan', line 27, column 4 to column 83)\n\tException: multi_normal_lpdf: LDLT_Factor of covariance parameter is not positive definite.  last conditional variance is -8.88178e-016. (in 'D:/PYTHON~1/STAN~1/u_model.stan', line 27, column 4 to column 83)\n\tException: multi_normal_lpdf: LDLT_Factor of covariance parameter is not positive definite.  last conditional variance is -1.77636e-015. (in 'D:/PYTHON~1/STAN~1/u_model.stan', line 27, column 4 to column 83)\n\tException: multi_normal_lpdf: LDLT_Factor of covariance parameter is not positive definite.  last conditional variance is 1.9984e-015. (in 'D:/PYTHON~1/STAN~1/u_model.stan', line 27, column 4 to column 83)\n\tException: multi_normal_lpdf: LDLT_Factor of covariance parameter is not positive definite.  last conditional variance is 0. (in 'D:/PYTHON~1/STAN~1/u_model.stan', line 27, column 4 to column 83)\n\tException: multi_normal_lpdf: LDLT_Factor of covariance parameter is not positive definite.  last conditional variance is 2.88658e-015. (in 'D:/PYTHON~1/STAN~1/u_model.stan', line 27, column 4 to column 83)\n\tException: multi_normal_lpdf: LDLT_Factor of covariance parameter is not positive definite.  last conditional variance is 6.66134e-016. (in 'D:/PYTHON~1/STAN~1/u_model.stan', line 27, column 4 to column 83)\n\tException: multi_normal_lpdf: LDLT_Factor of covariance parameter is not positive definite.  last conditional variance is 5.9952e-015. (in 'D:/PYTHON~1/STAN~1/u_model.stan', line 27, column 4 to column 83)\n\tException: multi_normal_lpdf: LDLT_Factor of covariance parameter is not positive definite.  last conditional variance is 2.22045e-016. (in 'D:/PYTHON~1/STAN~1/u_model.stan', line 27, column 4 to column 83)\n\tException: multi_normal_lpdf: LDLT_Factor of covariance parameter is not positive definite.  last conditional variance is 6.66134e-016. (in 'D:/PYTHON~1/STAN~1/u_model.stan', line 27, column 4 to column 83)\n\tException: multi_normal_lpdf: LDLT_Factor of covariance parameter is not positive definite.  last conditional variance is -8.88178e-016. (in 'D:/PYTHON~1/STAN~1/u_model.stan', line 27, column 4 to column 83)\n\tException: multi_normal_lpdf: LDLT_Factor of covariance parameter is not positive definite.  last conditional variance is 4.44089e-016. (in 'D:/PYTHON~1/STAN~1/u_model.stan', line 27, column 4 to column 83)\n\tException: multi_normal_lpdf: LDLT_Factor of covariance parameter is not positive definite.  last conditional variance is 1.11022e-015. (in 'D:/PYTHON~1/STAN~1/u_model.stan', line 27, column 4 to column 83)\n\tException: multi_normal_lpdf: LDLT_Factor of covariance parameter is not positive definite.  last conditional variance is 0. (in 'D:/PYTHON~1/STAN~1/u_model.stan', line 27, column 4 to column 83)\n\tException: multi_normal_lpdf: LDLT_Factor of covariance parameter is not positive definite.  last conditional variance is 2.44249e-015. (in 'D:/PYTHON~1/STAN~1/u_model.stan', line 27, column 4 to column 83)\n\tException: multi_normal_lpdf: LDLT_Factor of covariance parameter is not positive definite.  last conditional variance is 3.64153e-014. (in 'D:/PYTHON~1/STAN~1/u_model.stan', line 27, column 4 to column 83)\n\tException: multi_normal_lpdf: LDLT_Factor of covariance parameter is not positive definite.  last conditional variance is 5.10703e-015. (in 'D:/PYTHON~1/STAN~1/u_model.stan', line 27, column 4 to column 83)\n\tException: multi_normal_lpdf: LDLT_Factor of covariance parameter is not positive definite.  last conditional variance is 2.22045e-016. (in 'D:/PYTHON~1/STAN~1/u_model.stan', line 27, column 4 to column 83)\n\tException: multi_normal_lpdf: LDLT_Factor of covariance parameter is not positive definite.  last conditional variance is -2.22045e-016. (in 'D:/PYTHON~1/STAN~1/u_model.stan', line 27, column 4 to column 83)\n\tException: multi_normal_lpdf: LDLT_Factor of covariance parameter is not positive definite.  last conditional variance is -8.88178e-016. (in 'D:/PYTHON~1/STAN~1/u_model.stan', line 27, column 4 to column 83)\n\tException: multi_normal_lpdf: LDLT_Factor of covariance parameter is not positive definite.  last conditional variance is 2.22045e-015. (in 'D:/PYTHON~1/STAN~1/u_model.stan', line 27, column 4 to column 83)\n\tException: multi_normal_lpdf: LDLT_Factor of covariance parameter is not positive definite.  last conditional variance is 1.9984e-015. (in 'D:/PYTHON~1/STAN~1/u_model.stan', line 27, column 4 to column 83)\n\tException: multi_normal_lpdf: LDLT_Factor of covariance parameter is not positive definite.  last conditional variance is 4.44089e-016. (in 'D:/PYTHON~1/STAN~1/u_model.stan', line 27, column 4 to column 83)\n\tException: multi_normal_lpdf: LDLT_Factor of covariance parameter is not positive definite.  last conditional variance is -4.21885e-015. (in 'D:/PYTHON~1/STAN~1/u_model.stan', line 27, column 4 to column 83)\n\tException: multi_normal_lpdf: LDLT_Factor of covariance parameter is not positive definite.  last conditional variance is -1.9984e-015. (in 'D:/PYTHON~1/STAN~1/u_model.stan', line 27, column 4 to column 83)\n\tException: multi_normal_lpdf: LDLT_Factor of covariance parameter is not positive definite.  last conditional variance is 2.66454e-015. (in 'D:/PYTHON~1/STAN~1/u_model.stan', line 27, column 4 to column 83)\n\tException: multi_normal_lpdf: LDLT_Factor of covariance parameter is not positive definite.  last conditional variance is 4.44089e-016. (in 'D:/PYTHON~1/STAN~1/u_model.stan', line 27, column 4 to column 83)\n\tException: multi_normal_lpdf: LDLT_Factor of covariance parameter is not positive definite.  last conditional variance is 1.55431e-015. (in 'D:/PYTHON~1/STAN~1/u_model.stan', line 27, column 4 to column 83)\n\tException: multi_normal_lpdf: LDLT_Factor of covariance parameter is not positive definite.  last conditional variance is -2.22045e-016. (in 'D:/PYTHON~1/STAN~1/u_model.stan', line 27, column 4 to column 83)\n\tException: multi_normal_lpdf: LDLT_Factor of covariance parameter is not positive definite.  last conditional variance is -6.66134e-016. (in 'D:/PYTHON~1/STAN~1/u_model.stan', line 27, column 4 to column 83)\n\tException: multi_normal_lpdf: LDLT_Factor of covariance parameter is not positive definite.  last conditional variance is 1.77636e-015. (in 'D:/PYTHON~1/STAN~1/u_model.stan', line 27, column 4 to column 83)\n\tException: multi_normal_lpdf: LDLT_Factor of covariance parameter is not positive definite.  last conditional variance is 1.33227e-015. (in 'D:/PYTHON~1/STAN~1/u_model.stan', line 27, column 4 to column 83)\nException: multi_normal_lpdf: LDLT_Factor of covariance parameter is not positive definite.  last conditional variance is 0. (in 'D:/PYTHON~1/STAN~1/u_model.stan', line 27, column 4 to column 83)\n\tException: multi_normal_lpdf: LDLT_Factor of covariance parameter is not positive definite.  last conditional variance is 4.44089e-016. (in 'D:/PYTHON~1/STAN~1/u_model.stan', line 27, column 4 to column 83)\n\tException: multi_normal_lpdf: LDLT_Factor of covariance parameter is not positive definite.  last conditional variance is 8.88178e-016. (in 'D:/PYTHON~1/STAN~1/u_model.stan', line 27, column 4 to column 83)\n\tException: multi_normal_lpdf: LDLT_Factor of covariance parameter is not positive definite.  last conditional variance is 6.66134e-016. (in 'D:/PYTHON~1/STAN~1/u_model.stan', line 27, column 4 to column 83)\n\tException: multi_normal_lpdf: LDLT_Factor of covariance parameter is not positive definite.  last conditional variance is -2.44249e-015. (in 'D:/PYTHON~1/STAN~1/u_model.stan', line 27, column 4 to column 83)\n\tException: multi_normal_lpdf: LDLT_Factor of covariance parameter is not positive definite.  last conditional variance is 6.66134e-016. (in 'D:/PYTHON~1/STAN~1/u_model.stan', line 27, column 4 to column 83)\n\tException: multi_normal_lpdf: LDLT_Factor of covariance parameter is not positive definite.  last conditional variance is 3.55271e-015. (in 'D:/PYTHON~1/STAN~1/u_model.stan', line 27, column 4 to column 83)\n\tException: multi_normal_lpdf: LDLT_Factor of covariance parameter is not positive definite.  last conditional variance is 2.22045e-016. (in 'D:/PYTHON~1/STAN~1/u_model.stan', line 27, column 4 to column 83)\n\tException: multi_normal_lpdf: LDLT_Factor of covariance parameter is not positive definite.  last conditional variance is 8.88178e-016. (in 'D:/PYTHON~1/STAN~1/u_model.stan', line 27, column 4 to column 83)\n\tException: multi_normal_lpdf: LDLT_Factor of covariance parameter is not positive definite.  last conditional variance is 4.44089e-016. (in 'D:/PYTHON~1/STAN~1/u_model.stan', line 27, column 4 to column 83)\n\tException: multi_normal_lpdf: LDLT_Factor of covariance parameter is not positive definite.  last conditional variance is 8.88178e-016. (in 'D:/PYTHON~1/STAN~1/u_model.stan', line 27, column 4 to column 83)\n\tException: multi_normal_lpdf: LDLT_Factor of covariance parameter is not positive definite.  last conditional variance is -3.77476e-015. (in 'D:/PYTHON~1/STAN~1/u_model.stan', line 27, column 4 to column 83)\n\tException: multi_normal_lpdf: LDLT_Factor of covariance parameter is not positive definite.  last conditional variance is 4.44089e-016. (in 'D:/PYTHON~1/STAN~1/u_model.stan', line 27, column 4 to column 83)\n\tException: multi_normal_lpdf: LDLT_Factor of covariance parameter is not positive definite.  last conditional variance is -1.55431e-015. (in 'D:/PYTHON~1/STAN~1/u_model.stan', line 27, column 4 to column 83)\n\tException: multi_normal_lpdf: LDLT_Factor of covariance parameter is not positive definite.  last conditional variance is -1.11022e-015. (in 'D:/PYTHON~1/STAN~1/u_model.stan', line 27, column 4 to column 83)\n\tException: multi_normal_lpdf: LDLT_Factor of covariance parameter is not positive definite.  last conditional variance is -3.33067e-015. (in 'D:/PYTHON~1/STAN~1/u_model.stan', line 27, column 4 to column 83)\n\tException: multi_normal_lpdf: LDLT_Factor of covariance parameter is not positive definite.  last conditional variance is -3.33067e-015. (in 'D:/PYTHON~1/STAN~1/u_model.stan', line 27, column 4 to column 83)\n\tException: multi_normal_lpdf: LDLT_Factor of covariance parameter is not positive definite.  last conditional variance is -6.66134e-016. (in 'D:/PYTHON~1/STAN~1/u_model.stan', line 27, column 4 to column 83)\n\tException: multi_normal_lpdf: LDLT_Factor of covariance parameter is not positive definite.  last conditional variance is -1.55431e-015. (in 'D:/PYTHON~1/STAN~1/u_model.stan', line 27, column 4 to column 83)\n\tException: multi_normal_lpdf: LDLT_Factor of covariance parameter is not positive definite.  last conditional variance is 4.44089e-016. (in 'D:/PYTHON~1/STAN~1/u_model.stan', line 27, column 4 to column 83)\n\tException: multi_normal_lpdf: LDLT_Factor of covariance parameter is not positive definite.  last conditional variance is 2.22045e-016. (in 'D:/PYTHON~1/STAN~1/u_model.stan', line 27, column 4 to column 83)\n\tException: multi_normal_lpdf: LDLT_Factor of covariance parameter is not positive definite.  last conditional variance is 2.22045e-016. (in 'D:/PYTHON~1/STAN~1/u_model.stan', line 27, column 4 to column 83)\n\tException: multi_normal_lpdf: LDLT_Factor of covariance parameter is not positive definite.  last conditional variance is -6.66134e-016. (in 'D:/PYTHON~1/STAN~1/u_model.stan', line 27, column 4 to column 83)\n\tException: multi_normal_lpdf: LDLT_Factor of covariance parameter is not positive definite.  last conditional variance is -1.11022e-015. (in 'D:/PYTHON~1/STAN~1/u_model.stan', line 27, column 4 to column 83)\n\tException: multi_normal_lpdf: LDLT_Factor of covariance parameter is not positive definite.  last conditional variance is -8.88178e-016. (in 'D:/PYTHON~1/STAN~1/u_model.stan', line 27, column 4 to column 83)\n\tException: multi_normal_lpdf: LDLT_Factor of covariance parameter is not positive definite.  last conditional variance is 2.44249e-015. (in 'D:/PYTHON~1/STAN~1/u_model.stan', line 27, column 4 to column 83)\n\tException: multi_normal_lpdf: LDLT_Factor of covariance parameter is not positive definite.  last conditional variance is 1.86517e-014. (in 'D:/PYTHON~1/STAN~1/u_model.stan', line 27, column 4 to column 83)\n\tException: multi_normal_lpdf: LDLT_Factor of covariance parameter is not positive definite.  last conditional variance is -8.88178e-016. (in 'D:/PYTHON~1/STAN~1/u_model.stan', line 27, column 4 to column 83)\n\tException: multi_normal_lpdf: LDLT_Factor of covariance parameter is not positive definite.  last conditional variance is 1.9984e-015. (in 'D:/PYTHON~1/STAN~1/u_model.stan', line 27, column 4 to column 83)\n\tException: multi_normal_lpdf: LDLT_Factor of covariance parameter is not positive definite.  last conditional variance is 0. (in 'D:/PYTHON~1/STAN~1/u_model.stan', line 27, column 4 to column 83)\n\tException: multi_normal_lpdf: LDLT_Factor of covariance parameter is not positive definite.  last conditional variance is 4.44089e-016. (in 'D:/PYTHON~1/STAN~1/u_model.stan', line 27, column 4 to column 83)\n\tException: multi_normal_lpdf: LDLT_Factor of covariance parameter is not positive definite.  last conditional variance is 4.21885e-015. (in 'D:/PYTHON~1/STAN~1/u_model.stan', line 27, column 4 to column 83)\n\tException: multi_normal_lpdf: LDLT_Factor of covariance parameter is not positive definite.  last conditional variance is 1.55431e-015. (in 'D:/PYTHON~1/STAN~1/u_model.stan', line 27, column 4 to column 83)\n\tException: multi_normal_lpdf: LDLT_Factor of covariance parameter is not positive definite.  last conditional variance is 1.55431e-015. (in 'D:/PYTHON~1/STAN~1/u_model.stan', line 27, column 4 to column 83)\n\tException: multi_normal_lpdf: LDLT_Factor of covariance parameter is not positive definite.  last conditional variance is 8.88178e-016. (in 'D:/PYTHON~1/STAN~1/u_model.stan', line 27, column 4 to column 83)\n\tException: multi_normal_lpdf: LDLT_Factor of covariance parameter is not positive definite.  last conditional variance is 2.22045e-016. (in 'D:/PYTHON~1/STAN~1/u_model.stan', line 27, column 4 to column 83)\n\tException: multi_normal_lpdf: LDLT_Factor of covariance parameter is not positive definite.  last conditional variance is -1.11022e-015. (in 'D:/PYTHON~1/STAN~1/u_model.stan', line 27, column 4 to column 83)\n\tException: multi_normal_lpdf: LDLT_Factor of covariance parameter is not positive definite.  last conditional variance is 1.9984e-015. (in 'D:/PYTHON~1/STAN~1/u_model.stan', line 27, column 4 to column 83)\n\tException: multi_normal_lpdf: LDLT_Factor of covariance parameter is not positive definite.  last conditional variance is -2.22045e-016. (in 'D:/PYTHON~1/STAN~1/u_model.stan', line 27, column 4 to column 83)\n\tException: multi_normal_lpdf: LDLT_Factor of covariance parameter is not positive definite.  last conditional variance is 2.22045e-016. (in 'D:/PYTHON~1/STAN~1/u_model.stan', line 27, column 4 to column 83)\n\tException: multi_normal_lpdf: LDLT_Factor of covariance parameter is not positive definite.  last conditional variance is -8.88178e-016. (in 'D:/PYTHON~1/STAN~1/u_model.stan', line 27, column 4 to column 83)\n\tException: multi_normal_lpdf: LDLT_Factor of covariance parameter is not positive definite.  last conditional variance is 5.32907e-015. (in 'D:/PYTHON~1/STAN~1/u_model.stan', line 27, column 4 to column 83)\n\tException: multi_normal_lpdf: LDLT_Factor of covariance parameter is not positive definite.  last conditional variance is 1.11022e-015. (in 'D:/PYTHON~1/STAN~1/u_model.stan', line 27, column 4 to column 83)\n\tException: multi_normal_lpdf: LDLT_Factor of covariance parameter is not positive definite.  last conditional variance is 1.11022e-015. (in 'D:/PYTHON~1/STAN~1/u_model.stan', line 27, column 4 to column 83)\n\tException: multi_normal_lpdf: LDLT_Factor of covariance parameter is not positive definite.  last conditional variance is -1.79856e-014. (in 'D:/PYTHON~1/STAN~1/u_model.stan', line 27, column 4 to column 83)\n\tException: multi_normal_lpdf: LDLT_Factor of covariance parameter is not positive definite.  last conditional variance is -4.44089e-016. (in 'D:/PYTHON~1/STAN~1/u_model.stan', line 27, column 4 to column 83)\n\tException: multi_normal_lpdf: LDLT_Factor of covariance parameter is not positive definite.  last conditional variance is -6.43929e-015. (in 'D:/PYTHON~1/STAN~1/u_model.stan', line 27, column 4 to column 83)\n\tException: multi_normal_lpdf: LDLT_Factor of covariance parameter is not positive definite.  last conditional variance is -2.22045e-016. (in 'D:/PYTHON~1/STAN~1/u_model.stan', line 27, column 4 to column 83)\n\tException: multi_normal_lpdf: LDLT_Factor of covariance parameter is not positive definite.  last conditional variance is -3.10862e-015. (in 'D:/PYTHON~1/STAN~1/u_model.stan', line 27, column 4 to column 83)\n\tException: multi_normal_lpdf: LDLT_Factor of covariance parameter is not positive definite.  last conditional variance is 0. (in 'D:/PYTHON~1/STAN~1/u_model.stan', line 27, column 4 to column 83)\n\tException: multi_normal_lpdf: LDLT_Factor of covariance parameter is not positive definite.  last conditional variance is 8.88178e-016. (in 'D:/PYTHON~1/STAN~1/u_model.stan', line 27, column 4 to column 83)\n\tException: multi_normal_lpdf: LDLT_Factor of covariance parameter is not positive definite.  last conditional variance is 8.88178e-016. (in 'D:/PYTHON~1/STAN~1/u_model.stan', line 27, column 4 to column 83)\n\tException: multi_normal_lpdf: LDLT_Factor of covariance parameter is not positive definite.  last conditional variance is 5.77316e-015. (in 'D:/PYTHON~1/STAN~1/u_model.stan', line 27, column 4 to column 83)\n\tException: multi_normal_lpdf: LDLT_Factor of covariance parameter is not positive definite.  last conditional variance is 2.88658e-015. (in 'D:/PYTHON~1/STAN~1/u_model.stan', line 27, column 4 to column 83)\n\tException: multi_normal_lpdf: LDLT_Factor of covariance parameter is not positive definite.  last conditional variance is -1.33227e-015. (in 'D:/PYTHON~1/STAN~1/u_model.stan', line 27, column 4 to column 83)\n\tException: multi_normal_lpdf: LDLT_Factor of covariance parameter is not positive definite.  last conditional variance is 4.44089e-015. (in 'D:/PYTHON~1/STAN~1/u_model.stan', line 27, column 4 to column 83)\n\tException: multi_normal_lpdf: LDLT_Factor of covariance parameter is not positive definite.  last conditional variance is -3.10862e-015. (in 'D:/PYTHON~1/STAN~1/u_model.stan', line 27, column 4 to column 83)\n\tException: multi_normal_lpdf: LDLT_Factor of covariance parameter is not positive definite.  last conditional variance is -6.66134e-016. (in 'D:/PYTHON~1/STAN~1/u_model.stan', line 27, column 4 to column 83)\n\tException: multi_normal_lpdf: LDLT_Factor of covariance parameter is not positive definite.  last conditional variance is -1.9984e-015. (in 'D:/PYTHON~1/STAN~1/u_model.stan', line 27, column 4 to column 83)\n\tException: multi_normal_lpdf: LDLT_Factor of covariance parameter is not positive definite.  last conditional variance is -6.66134e-016. (in 'D:/PYTHON~1/STAN~1/u_model.stan', line 27, column 4 to column 83)\n\tException: multi_normal_lpdf: LDLT_Factor of covariance parameter is not positive definite.  last conditional variance is -2.22045e-016. (in 'D:/PYTHON~1/STAN~1/u_model.stan', line 27, column 4 to column 83)\n\tException: multi_normal_lpdf: LDLT_Factor of covariance parameter is not positive definite.  last conditional variance is 4.44089e-016. (in 'D:/PYTHON~1/STAN~1/u_model.stan', line 27, column 4 to column 83)\n\tException: multi_normal_lpdf: LDLT_Factor of covariance parameter is not positive definite.  last conditional variance is 6.66134e-016. (in 'D:/PYTHON~1/STAN~1/u_model.stan', line 27, column 4 to column 83)\n\tException: multi_normal_lpdf: LDLT_Factor of covariance parameter is not positive definite.  last conditional variance is 1.77636e-015. (in 'D:/PYTHON~1/STAN~1/u_model.stan', line 27, column 4 to column 83)\n\tException: multi_normal_lpdf: LDLT_Factor of covariance parameter is not positive definite.  last conditional variance is 1.77636e-015. (in 'D:/PYTHON~1/STAN~1/u_model.stan', line 27, column 4 to column 83)\n\tException: multi_normal_lpdf: LDLT_Factor of covariance parameter is not positive definite.  last conditional variance is 1.77636e-015. (in 'D:/PYTHON~1/STAN~1/u_model.stan', line 27, column 4 to column 83)\n\tException: multi_normal_lpdf: LDLT_Factor of covariance parameter is not positive definite.  last conditional variance is 2.22045e-016. (in 'D:/PYTHON~1/STAN~1/u_model.stan', line 27, column 4 to column 83)\n\tException: multi_normal_lpdf: LDLT_Factor of covariance parameter is not positive definite.  last conditional variance is 0. (in 'D:/PYTHON~1/STAN~1/u_model.stan', line 27, column 4 to column 83)\n\tException: multi_normal_lpdf: LDLT_Factor of covariance parameter is not positive definite.  last conditional variance is 6.66134e-016. (in 'D:/PYTHON~1/STAN~1/u_model.stan', line 27, column 4 to column 83)\n\tException: multi_normal_lpdf: LDLT_Factor of covariance parameter is not positive definite.  last conditional variance is 2.22045e-015. (in 'D:/PYTHON~1/STAN~1/u_model.stan', line 27, column 4 to column 83)\n\tException: multi_normal_lpdf: LDLT_Factor of covariance parameter is not positive definite.  last conditional variance is -6.66134e-016. (in 'D:/PYTHON~1/STAN~1/u_model.stan', line 27, column 4 to column 83)\n\tException: multi_normal_lpdf: LDLT_Factor of covariance parameter is not positive definite.  last conditional variance is -6.21725e-015. (in 'D:/PYTHON~1/STAN~1/u_model.stan', line 27, column 4 to column 83)\n\tException: multi_normal_lpdf: LDLT_Factor of covariance parameter is not positive definite.  last conditional variance is 0. (in 'D:/PYTHON~1/STAN~1/u_model.stan', line 27, column 4 to column 83)\n\tException: multi_normal_lpdf: LDLT_Factor of covariance parameter is not positive definite.  last conditional variance is -1.9984e-015. (in 'D:/PYTHON~1/STAN~1/u_model.stan', line 27, column 4 to column 83)\n\tException: multi_normal_lpdf: LDLT_Factor of covariance parameter is not positive definite.  last conditional variance is -1.33227e-015. (in 'D:/PYTHON~1/STAN~1/u_model.stan', line 27, column 4 to column 83)\n\tException: multi_normal_lpdf: LDLT_Factor of covariance parameter is not positive definite.  last conditional variance is -2.22045e-016. (in 'D:/PYTHON~1/STAN~1/u_model.stan', line 27, column 4 to column 83)\n\tException: multi_normal_lpdf: LDLT_Factor of covariance parameter is not positive definite.  last conditional variance is 0. (in 'D:/PYTHON~1/STAN~1/u_model.stan', line 27, column 4 to column 83)\n\tException: multi_normal_lpdf: LDLT_Factor of covariance parameter is not positive definite.  last conditional variance is 8.88178e-016. (in 'D:/PYTHON~1/STAN~1/u_model.stan', line 27, column 4 to column 83)\n\tException: multi_normal_lpdf: LDLT_Factor of covariance parameter is not positive definite.  last conditional variance is 0. (in 'D:/PYTHON~1/STAN~1/u_model.stan', line 27, column 4 to column 83)\n\tException: multi_normal_lpdf: LDLT_Factor of covariance parameter is not positive definite.  last conditional variance is 1.9984e-015. (in 'D:/PYTHON~1/STAN~1/u_model.stan', line 27, column 4 to column 83)\n\tException: multi_normal_lpdf: LDLT_Factor of covariance parameter is not positive definite.  last conditional variance is 1.55431e-015. (in 'D:/PYTHON~1/STAN~1/u_model.stan', line 27, column 4 to column 83)\n\tException: multi_normal_lpdf: LDLT_Factor of covariance parameter is not positive definite.  last conditional variance is -3.9968e-015. (in 'D:/PYTHON~1/STAN~1/u_model.stan', line 27, column 4 to column 83)\n\tException: multi_normal_lpdf: LDLT_Factor of covariance parameter is not positive definite.  last conditional variance is 4.44089e-016. (in 'D:/PYTHON~1/STAN~1/u_model.stan', line 27, column 4 to column 83)\n\tException: multi_normal_lpdf: LDLT_Factor of covariance parameter is not positive definite.  last conditional variance is 2.44249e-015. (in 'D:/PYTHON~1/STAN~1/u_model.stan', line 27, column 4 to column 83)\n\tException: multi_normal_lpdf: LDLT_Factor of covariance parameter is not positive definite.  last conditional variance is 1.55431e-015. (in 'D:/PYTHON~1/STAN~1/u_model.stan', line 27, column 4 to column 83)\n\tException: multi_normal_lpdf: LDLT_Factor of covariance parameter is not positive definite.  last conditional variance is -1.11022e-015. (in 'D:/PYTHON~1/STAN~1/u_model.stan', line 27, column 4 to column 83)\n\tException: multi_normal_lpdf: LDLT_Factor of covariance parameter is not positive definite.  last conditional variance is 6.66134e-016. (in 'D:/PYTHON~1/STAN~1/u_model.stan', line 27, column 4 to column 83)\n\tException: multi_normal_lpdf: LDLT_Factor of covariance parameter is not positive definite.  last conditional variance is -4.44089e-016. (in 'D:/PYTHON~1/STAN~1/u_model.stan', line 27, column 4 to column 83)\n\tException: multi_normal_lpdf: LDLT_Factor of covariance parameter is not positive definite.  last conditional variance is 6.66134e-016. (in 'D:/PYTHON~1/STAN~1/u_model.stan', line 27, column 4 to column 83)\n\tException: multi_normal_lpdf: LDLT_Factor of covariance parameter is not positive definite.  last conditional variance is -8.88178e-016. (in 'D:/PYTHON~1/STAN~1/u_model.stan', line 27, column 4 to column 83)\n\tException: multi_normal_lpdf: LDLT_Factor of covariance parameter is not positive definite.  last conditional variance is -8.88178e-016. (in 'D:/PYTHON~1/STAN~1/u_model.stan', line 27, column 4 to column 83)\n\tException: multi_normal_lpdf: LDLT_Factor of covariance parameter is not positive definite.  last conditional variance is 3.10862e-015. (in 'D:/PYTHON~1/STAN~1/u_model.stan', line 27, column 4 to column 83)\n\tException: multi_normal_lpdf: LDLT_Factor of covariance parameter is not positive definite.  last conditional variance is 6.66134e-016. (in 'D:/PYTHON~1/STAN~1/u_model.stan', line 27, column 4 to column 83)\n\tException: multi_normal_lpdf: LDLT_Factor of covariance parameter is not positive definite.  last conditional variance is -1.33227e-015. (in 'D:/PYTHON~1/STAN~1/u_model.stan', line 27, column 4 to column 83)\n\tException: multi_normal_lpdf: LDLT_Factor of covariance parameter is not positive definite.  last conditional variance is 8.88178e-016. (in 'D:/PYTHON~1/STAN~1/u_model.stan', line 27, column 4 to column 83)\n\tException: multi_normal_lpdf: LDLT_Factor of covariance parameter is not positive definite.  last conditional variance is 6.66134e-016. (in 'D:/PYTHON~1/STAN~1/u_model.stan', line 27, column 4 to column 83)\n\tException: multi_normal_lpdf: LDLT_Factor of covariance parameter is not positive definite.  last conditional variance is -2.22045e-016. (in 'D:/PYTHON~1/STAN~1/u_model.stan', line 27, column 4 to column 83)\n\tException: multi_normal_lpdf: LDLT_Factor of covariance parameter is not positive definite.  last conditional variance is -6.66134e-016. (in 'D:/PYTHON~1/STAN~1/u_model.stan', line 27, column 4 to column 83)\n\tException: multi_normal_lpdf: LDLT_Factor of covariance parameter is not positive definite.  last conditional variance is 5.55112e-015. (in 'D:/PYTHON~1/STAN~1/u_model.stan', line 27, column 4 to column 83)\n\tException: multi_normal_lpdf: LDLT_Factor of covariance parameter is not positive definite.  last conditional variance is -1.11022e-015. (in 'D:/PYTHON~1/STAN~1/u_model.stan', line 27, column 4 to column 83)\nException: multi_normal_lpdf: LDLT_Factor of covariance parameter is not positive definite.  last conditional variance is 3.55271e-015. (in 'D:/PYTHON~1/STAN~1/u_model.stan', line 27, column 4 to column 83)\n\tException: multi_normal_lpdf: LDLT_Factor of covariance parameter is not positive definite.  last conditional variance is 2.22045e-016. (in 'D:/PYTHON~1/STAN~1/u_model.stan', line 27, column 4 to column 83)\n\tException: multi_normal_lpdf: LDLT_Factor of covariance parameter is not positive definite.  last conditional variance is 1.33227e-015. (in 'D:/PYTHON~1/STAN~1/u_model.stan', line 27, column 4 to column 83)\n\tException: multi_normal_lpdf: LDLT_Factor of covariance parameter is not positive definite.  last conditional variance is -1.33227e-015. (in 'D:/PYTHON~1/STAN~1/u_model.stan', line 27, column 4 to column 83)\n\tException: multi_normal_lpdf: LDLT_Factor of covariance parameter is not positive definite.  last conditional variance is 1.33227e-015. (in 'D:/PYTHON~1/STAN~1/u_model.stan', line 27, column 4 to column 83)\n\tException: multi_normal_lpdf: LDLT_Factor of covariance parameter is not positive definite.  last conditional variance is 0. (in 'D:/PYTHON~1/STAN~1/u_model.stan', line 27, column 4 to column 83)\n\tException: multi_normal_lpdf: LDLT_Factor of covariance parameter is not positive definite.  last conditional variance is -9.32587e-015. (in 'D:/PYTHON~1/STAN~1/u_model.stan', line 27, column 4 to column 83)\n\tException: multi_normal_lpdf: LDLT_Factor of covariance parameter is not positive definite.  last conditional variance is -2.22045e-016. (in 'D:/PYTHON~1/STAN~1/u_model.stan', line 27, column 4 to column 83)\n\tException: multi_normal_lpdf: LDLT_Factor of covariance parameter is not positive definite.  last conditional variance is 7.77156e-015. (in 'D:/PYTHON~1/STAN~1/u_model.stan', line 27, column 4 to column 83)\n\tException: multi_normal_lpdf: LDLT_Factor of covariance parameter is not positive definite.  last conditional variance is 1.33227e-015. (in 'D:/PYTHON~1/STAN~1/u_model.stan', line 27, column 4 to column 83)\n\tException: multi_normal_lpdf: LDLT_Factor of covariance parameter is not positive definite.  last conditional variance is -2.22045e-016. (in 'D:/PYTHON~1/STAN~1/u_model.stan', line 27, column 4 to column 83)\n\tException: multi_normal_lpdf: LDLT_Factor of covariance parameter is not positive definite.  last conditional variance is 0. (in 'D:/PYTHON~1/STAN~1/u_model.stan', line 27, column 4 to column 83)\n\tException: multi_normal_lpdf: LDLT_Factor of covariance parameter is not positive definite.  last conditional variance is 4.44089e-016. (in 'D:/PYTHON~1/STAN~1/u_model.stan', line 27, column 4 to column 83)\n\tException: multi_normal_lpdf: LDLT_Factor of covariance parameter is not positive definite.  last conditional variance is 1.9984e-015. (in 'D:/PYTHON~1/STAN~1/u_model.stan', line 27, column 4 to column 83)\n\tException: multi_normal_lpdf: LDLT_Factor of covariance parameter is not positive definite.  last conditional variance is 0. (in 'D:/PYTHON~1/STAN~1/u_model.stan', line 27, column 4 to column 83)\n\tException: multi_normal_lpdf: LDLT_Factor of covariance parameter is not positive definite.  last conditional variance is -1.55431e-015. (in 'D:/PYTHON~1/STAN~1/u_model.stan', line 27, column 4 to column 83)\n\tException: multi_normal_lpdf: LDLT_Factor of covariance parameter is not positive definite.  last conditional variance is 2.22045e-016. (in 'D:/PYTHON~1/STAN~1/u_model.stan', line 27, column 4 to column 83)\n\tException: multi_normal_lpdf: LDLT_Factor of covariance parameter is not positive definite.  last conditional variance is 0. (in 'D:/PYTHON~1/STAN~1/u_model.stan', line 27, column 4 to column 83)\n\tException: multi_normal_lpdf: LDLT_Factor of covariance parameter is not positive definite.  last conditional variance is 6.66134e-016. (in 'D:/PYTHON~1/STAN~1/u_model.stan', line 27, column 4 to column 83)\n\tException: multi_normal_lpdf: LDLT_Factor of covariance parameter is not positive definite.  last conditional variance is -5.9952e-015. (in 'D:/PYTHON~1/STAN~1/u_model.stan', line 27, column 4 to column 83)\n\tException: multi_normal_lpdf: LDLT_Factor of covariance parameter is not positive definite.  last conditional variance is -1.44329e-014. (in 'D:/PYTHON~1/STAN~1/u_model.stan', line 27, column 4 to column 83)\n\tException: multi_normal_lpdf: LDLT_Factor of covariance parameter is not positive definite.  last conditional variance is -1.11022e-015. (in 'D:/PYTHON~1/STAN~1/u_model.stan', line 27, column 4 to column 83)\n\tException: multi_normal_lpdf: LDLT_Factor of covariance parameter is not positive definite.  last conditional variance is -1.9984e-015. (in 'D:/PYTHON~1/STAN~1/u_model.stan', line 27, column 4 to column 83)\n\tException: multi_normal_lpdf: LDLT_Factor of covariance parameter is not positive definite.  last conditional variance is 2.22045e-016. (in 'D:/PYTHON~1/STAN~1/u_model.stan', line 27, column 4 to column 83)\n\tException: multi_normal_lpdf: LDLT_Factor of covariance parameter is not positive definite.  last conditional variance is -1.33227e-015. (in 'D:/PYTHON~1/STAN~1/u_model.stan', line 27, column 4 to column 83)\n\tException: multi_normal_lpdf: LDLT_Factor of covariance parameter is not positive definite.  last conditional variance is 6.66134e-016. (in 'D:/PYTHON~1/STAN~1/u_model.stan', line 27, column 4 to column 83)\n\tException: multi_normal_lpdf: LDLT_Factor of covariance parameter is not positive definite.  last conditional variance is 1.55431e-015. (in 'D:/PYTHON~1/STAN~1/u_model.stan', line 27, column 4 to column 83)\n\tException: multi_normal_lpdf: LDLT_Factor of covariance parameter is not positive definite.  last conditional variance is -3.77476e-015. (in 'D:/PYTHON~1/STAN~1/u_model.stan', line 27, column 4 to column 83)\n\tException: multi_normal_lpdf: LDLT_Factor of covariance parameter is not positive definite.  last conditional variance is -1.11022e-015. (in 'D:/PYTHON~1/STAN~1/u_model.stan', line 27, column 4 to column 83)\n\tException: multi_normal_lpdf: LDLT_Factor of covariance parameter is not positive definite.  last conditional variance is -6.43929e-015. (in 'D:/PYTHON~1/STAN~1/u_model.stan', line 27, column 4 to column 83)\n\tException: multi_normal_lpdf: LDLT_Factor of covariance parameter is not positive definite.  last conditional variance is -4.44089e-016. (in 'D:/PYTHON~1/STAN~1/u_model.stan', line 27, column 4 to column 83)\n\tException: multi_normal_lpdf: LDLT_Factor of covariance parameter is not positive definite.  last conditional variance is 0. (in 'D:/PYTHON~1/STAN~1/u_model.stan', line 27, column 4 to column 83)\n\tException: multi_normal_lpdf: LDLT_Factor of covariance parameter is not positive definite.  last conditional variance is 6.66134e-016. (in 'D:/PYTHON~1/STAN~1/u_model.stan', line 27, column 4 to column 83)\n\tException: multi_normal_lpdf: LDLT_Factor of covariance parameter is not positive definite.  last conditional variance is -3.77476e-015. (in 'D:/PYTHON~1/STAN~1/u_model.stan', line 27, column 4 to column 83)\n\tException: multi_normal_lpdf: LDLT_Factor of covariance parameter is not positive definite.  last conditional variance is 9.99201e-015. (in 'D:/PYTHON~1/STAN~1/u_model.stan', line 27, column 4 to column 83)\n\tException: multi_normal_lpdf: LDLT_Factor of covariance parameter is not positive definite.  last conditional variance is 0. (in 'D:/PYTHON~1/STAN~1/u_model.stan', line 27, column 4 to column 83)\n\tException: multi_normal_lpdf: LDLT_Factor of covariance parameter is not positive definite.  last conditional variance is 6.66134e-016. (in 'D:/PYTHON~1/STAN~1/u_model.stan', line 27, column 4 to column 83)\n\tException: multi_normal_lpdf: LDLT_Factor of covariance parameter is not positive definite.  last conditional variance is 1.55431e-015. (in 'D:/PYTHON~1/STAN~1/u_model.stan', line 27, column 4 to column 83)\n\tException: multi_normal_lpdf: LDLT_Factor of covariance parameter is not positive definite.  last conditional variance is 6.66134e-015. (in 'D:/PYTHON~1/STAN~1/u_model.stan', line 27, column 4 to column 83)\n\tException: multi_normal_lpdf: LDLT_Factor of covariance parameter is not positive definite.  last conditional variance is 1.11022e-015. (in 'D:/PYTHON~1/STAN~1/u_model.stan', line 27, column 4 to column 83)\n\tException: multi_normal_lpdf: LDLT_Factor of covariance parameter is not positive definite.  last conditional variance is -8.88178e-016. (in 'D:/PYTHON~1/STAN~1/u_model.stan', line 27, column 4 to column 83)\n\tException: multi_normal_lpdf: LDLT_Factor of covariance parameter is not positive definite.  last conditional variance is 7.99361e-015. (in 'D:/PYTHON~1/STAN~1/u_model.stan', line 27, column 4 to column 83)\n\tException: multi_normal_lpdf: LDLT_Factor of covariance parameter is not positive definite.  last conditional variance is 2.22045e-016. (in 'D:/PYTHON~1/STAN~1/u_model.stan', line 27, column 4 to column 83)\n\tException: multi_normal_lpdf: LDLT_Factor of covariance parameter is not positive definite.  last conditional variance is -1.11022e-015. (in 'D:/PYTHON~1/STAN~1/u_model.stan', line 27, column 4 to column 83)\n\tException: multi_normal_lpdf: LDLT_Factor of covariance parameter is not positive definite.  last conditional variance is -5.10703e-015. (in 'D:/PYTHON~1/STAN~1/u_model.stan', line 27, column 4 to column 83)\n\tException: multi_normal_lpdf: LDLT_Factor of covariance parameter is not positive definite.  last conditional variance is 1.11022e-015. (in 'D:/PYTHON~1/STAN~1/u_model.stan', line 27, column 4 to column 83)\n\tException: multi_normal_lpdf: LDLT_Factor of covariance parameter is not positive definite.  last conditional variance is 6.66134e-016. (in 'D:/PYTHON~1/STAN~1/u_model.stan', line 27, column 4 to column 83)\n\tException: multi_normal_lpdf: LDLT_Factor of covariance parameter is not positive definite.  last conditional variance is -1.11022e-015. (in 'D:/PYTHON~1/STAN~1/u_model.stan', line 27, column 4 to column 83)\n\tException: multi_normal_lpdf: LDLT_Factor of covariance parameter is not positive definite.  last conditional variance is -6.66134e-016. (in 'D:/PYTHON~1/STAN~1/u_model.stan', line 27, column 4 to column 83)\n\tException: multi_normal_lpdf: LDLT_Factor of covariance parameter is not positive definite.  last conditional variance is -6.66134e-016. (in 'D:/PYTHON~1/STAN~1/u_model.stan', line 27, column 4 to column 83)\n\tException: multi_normal_lpdf: LDLT_Factor of covariance parameter is not positive definite.  last conditional variance is -1.77636e-015. (in 'D:/PYTHON~1/STAN~1/u_model.stan', line 27, column 4 to column 83)\n\tException: multi_normal_lpdf: LDLT_Factor of covariance parameter is not positive definite.  last conditional variance is 2.22045e-016. (in 'D:/PYTHON~1/STAN~1/u_model.stan', line 27, column 4 to column 83)\n\tException: multi_normal_lpdf: LDLT_Factor of covariance parameter is not positive definite.  last conditional variance is 1.46549e-014. (in 'D:/PYTHON~1/STAN~1/u_model.stan', line 27, column 4 to column 83)\n\tException: multi_normal_lpdf: LDLT_Factor of covariance parameter is not positive definite.  last conditional variance is 6.66134e-016. (in 'D:/PYTHON~1/STAN~1/u_model.stan', line 27, column 4 to column 83)\n\tException: multi_normal_lpdf: LDLT_Factor of covariance parameter is not positive definite.  last conditional variance is 2.22045e-016. (in 'D:/PYTHON~1/STAN~1/u_model.stan', line 27, column 4 to column 83)\n\tException: multi_normal_lpdf: LDLT_Factor of covariance parameter is not positive definite.  last conditional variance is -6.66134e-016. (in 'D:/PYTHON~1/STAN~1/u_model.stan', line 27, column 4 to column 83)\n\tException: multi_normal_lpdf: LDLT_Factor of covariance parameter is not positive definite.  last conditional variance is -6.43929e-015. (in 'D:/PYTHON~1/STAN~1/u_model.stan', line 27, column 4 to column 83)\n\tException: multi_normal_lpdf: LDLT_Factor of covariance parameter is not positive definite.  last conditional variance is 2.22045e-016. (in 'D:/PYTHON~1/STAN~1/u_model.stan', line 27, column 4 to column 83)\n\tException: multi_normal_lpdf: LDLT_Factor of covariance parameter is not positive definite.  last conditional variance is -1.55431e-015. (in 'D:/PYTHON~1/STAN~1/u_model.stan', line 27, column 4 to column 83)\n\tException: multi_normal_lpdf: LDLT_Factor of covariance parameter is not positive definite.  last conditional variance is -1.55431e-015. (in 'D:/PYTHON~1/STAN~1/u_model.stan', line 27, column 4 to column 83)\n\tException: multi_normal_lpdf: LDLT_Factor of covariance parameter is not positive definite.  last conditional variance is -1.55431e-015. (in 'D:/PYTHON~1/STAN~1/u_model.stan', line 27, column 4 to column 83)\n\tException: multi_normal_lpdf: LDLT_Factor of covariance parameter is not positive definite.  last conditional variance is 6.66134e-016. (in 'D:/PYTHON~1/STAN~1/u_model.stan', line 27, column 4 to column 83)\n\tException: multi_normal_lpdf: LDLT_Factor of covariance parameter is not positive definite.  last conditional variance is -2.22045e-016. (in 'D:/PYTHON~1/STAN~1/u_model.stan', line 27, column 4 to column 83)\n\tException: multi_normal_lpdf: LDLT_Factor of covariance parameter is not positive definite.  last conditional variance is 6.66134e-016. (in 'D:/PYTHON~1/STAN~1/u_model.stan', line 27, column 4 to column 83)\n\tException: multi_normal_lpdf: LDLT_Factor of covariance parameter is not positive definite.  last conditional variance is -1.33227e-015. (in 'D:/PYTHON~1/STAN~1/u_model.stan', line 27, column 4 to column 83)\n\tException: multi_normal_lpdf: LDLT_Factor of covariance parameter is not positive definite.  last conditional variance is 4.44089e-016. (in 'D:/PYTHON~1/STAN~1/u_model.stan', line 27, column 4 to column 83)\n\tException: multi_normal_lpdf: LDLT_Factor of covariance parameter is not positive definite.  last conditional variance is 4.44089e-016. (in 'D:/PYTHON~1/STAN~1/u_model.stan', line 27, column 4 to column 83)\n\tException: multi_normal_lpdf: LDLT_Factor of covariance parameter is not positive definite.  last conditional variance is 3.55271e-015. (in 'D:/PYTHON~1/STAN~1/u_model.stan', line 27, column 4 to column 83)\n\tException: multi_normal_lpdf: LDLT_Factor of covariance parameter is not positive definite.  last conditional variance is 2.22045e-015. (in 'D:/PYTHON~1/STAN~1/u_model.stan', line 27, column 4 to column 83)\n\tException: multi_normal_lpdf: LDLT_Factor of covariance parameter is not positive definite.  last conditional variance is -4.44089e-016. (in 'D:/PYTHON~1/STAN~1/u_model.stan', line 27, column 4 to column 83)\n\tException: multi_normal_lpdf: LDLT_Factor of covariance parameter is not positive definite.  last conditional variance is -1.33227e-015. (in 'D:/PYTHON~1/STAN~1/u_model.stan', line 27, column 4 to column 83)\n\tException: multi_normal_lpdf: LDLT_Factor of covariance parameter is not positive definite.  last conditional variance is 1.33227e-015. (in 'D:/PYTHON~1/STAN~1/u_model.stan', line 27, column 4 to column 83)\n\tException: multi_normal_lpdf: LDLT_Factor of covariance parameter is not positive definite.  last conditional variance is 1.33227e-015. (in 'D:/PYTHON~1/STAN~1/u_model.stan', line 27, column 4 to column 83)\n\tException: multi_normal_lpdf: LDLT_Factor of covariance parameter is not positive definite.  last conditional variance is -2.22045e-016. (in 'D:/PYTHON~1/STAN~1/u_model.stan', line 27, column 4 to column 83)\n\tException: multi_normal_lpdf: LDLT_Factor of covariance parameter is not positive definite.  last conditional variance is -1.11022e-015. (in 'D:/PYTHON~1/STAN~1/u_model.stan', line 27, column 4 to column 83)\n\tException: multi_normal_lpdf: LDLT_Factor of covariance parameter is not positive definite.  last conditional variance is -2.22045e-016. (in 'D:/PYTHON~1/STAN~1/u_model.stan', line 27, column 4 to column 83)\n\tException: multi_normal_lpdf: LDLT_Factor of covariance parameter is not positive definite.  last conditional variance is 6.66134e-016. (in 'D:/PYTHON~1/STAN~1/u_model.stan', line 27, column 4 to column 83)\n\tException: multi_normal_lpdf: LDLT_Factor of covariance parameter is not positive definite.  last conditional variance is 6.66134e-016. (in 'D:/PYTHON~1/STAN~1/u_model.stan', line 27, column 4 to column 83)\n\tException: multi_normal_lpdf: LDLT_Factor of covariance parameter is not positive definite.  last conditional variance is 5.9952e-015. (in 'D:/PYTHON~1/STAN~1/u_model.stan', line 27, column 4 to column 83)\n\tException: multi_normal_lpdf: LDLT_Factor of covariance parameter is not positive definite.  last conditional variance is -8.88178e-016. (in 'D:/PYTHON~1/STAN~1/u_model.stan', line 27, column 4 to column 83)\n\tException: multi_normal_lpdf: LDLT_Factor of covariance parameter is not positive definite.  last conditional variance is 8.88178e-016. (in 'D:/PYTHON~1/STAN~1/u_model.stan', line 27, column 4 to column 83)\n\tException: multi_normal_lpdf: LDLT_Factor of covariance parameter is not positive definite.  last conditional variance is -1.77636e-015. (in 'D:/PYTHON~1/STAN~1/u_model.stan', line 27, column 4 to column 83)\n\tException: multi_normal_lpdf: LDLT_Factor of covariance parameter is not positive definite.  last conditional variance is -1.55431e-015. (in 'D:/PYTHON~1/STAN~1/u_model.stan', line 27, column 4 to column 83)\n\tException: multi_normal_lpdf: LDLT_Factor of covariance parameter is not positive definite.  last conditional variance is 1.55431e-015. (in 'D:/PYTHON~1/STAN~1/u_model.stan', line 27, column 4 to column 83)\n\tException: multi_normal_lpdf: LDLT_Factor of covariance parameter is not positive definite.  last conditional variance is 6.66134e-016. (in 'D:/PYTHON~1/STAN~1/u_model.stan', line 27, column 4 to column 83)\n\tException: multi_normal_lpdf: LDLT_Factor of covariance parameter is not positive definite.  last conditional variance is 3.55271e-015. (in 'D:/PYTHON~1/STAN~1/u_model.stan', line 27, column 4 to column 83)\n\tException: multi_normal_lpdf: LDLT_Factor of covariance parameter is not positive definite.  last conditional variance is -8.88178e-016. (in 'D:/PYTHON~1/STAN~1/u_model.stan', line 27, column 4 to column 83)\n\tException: multi_normal_lpdf: LDLT_Factor of covariance parameter is not positive definite.  last conditional variance is -1.77636e-015. (in 'D:/PYTHON~1/STAN~1/u_model.stan', line 27, column 4 to column 83)\n\tException: multi_normal_lpdf: LDLT_Factor of covariance parameter is not positive definite.  last conditional variance is -2.22045e-015. (in 'D:/PYTHON~1/STAN~1/u_model.stan', line 27, column 4 to column 83)\n\tException: multi_normal_lpdf: LDLT_Factor of covariance parameter is not positive definite.  last conditional variance is -8.88178e-016. (in 'D:/PYTHON~1/STAN~1/u_model.stan', line 27, column 4 to column 83)\n\tException: multi_normal_lpdf: LDLT_Factor of covariance parameter is not positive definite.  last conditional variance is -1.77636e-015. (in 'D:/PYTHON~1/STAN~1/u_model.stan', line 27, column 4 to column 83)\n\tException: multi_normal_lpdf: LDLT_Factor of covariance parameter is not positive definite.  last conditional variance is 3.41949e-014. (in 'D:/PYTHON~1/STAN~1/u_model.stan', line 27, column 4 to column 83)\n\tException: multi_normal_lpdf: LDLT_Factor of covariance parameter is not positive definite.  last conditional variance is 6.66134e-016. (in 'D:/PYTHON~1/STAN~1/u_model.stan', line 27, column 4 to column 83)\n\tException: multi_normal_lpdf: LDLT_Factor of covariance parameter is not positive definite.  last conditional variance is 8.88178e-016. (in 'D:/PYTHON~1/STAN~1/u_model.stan', line 27, column 4 to column 83)\n\tException: multi_normal_lpdf: LDLT_Factor of covariance parameter is not positive definite.  last conditional variance is 6.66134e-016. (in 'D:/PYTHON~1/STAN~1/u_model.stan', line 27, column 4 to column 83)\n\tException: multi_normal_lpdf: LDLT_Factor of covariance parameter is not positive definite.  last conditional variance is -2.66454e-015. (in 'D:/PYTHON~1/STAN~1/u_model.stan', line 27, column 4 to column 83)\n\tException: multi_normal_lpdf: LDLT_Factor of covariance parameter is not positive definite.  last conditional variance is 2.22045e-016. (in 'D:/PYTHON~1/STAN~1/u_model.stan', line 27, column 4 to column 83)\n\tException: multi_normal_lpdf: LDLT_Factor of covariance parameter is not positive definite.  last conditional variance is -1.77636e-015. (in 'D:/PYTHON~1/STAN~1/u_model.stan', line 27, column 4 to column 83)\n\tException: multi_normal_lpdf: LDLT_Factor of covariance parameter is not positive definite.  last conditional variance is -6.88338e-015. (in 'D:/PYTHON~1/STAN~1/u_model.stan', line 27, column 4 to column 83)\n\tException: multi_normal_lpdf: LDLT_Factor of covariance parameter is not positive definite.  last conditional variance is -9.10383e-015. (in 'D:/PYTHON~1/STAN~1/u_model.stan', line 27, column 4 to column 83)\nException: multi_normal_lpdf: LDLT_Factor of covariance parameter is not positive definite.  last conditional variance is -1.77636e-015. (in 'D:/PYTHON~1/STAN~1/u_model.stan', line 27, column 4 to column 83)\n\tException: multi_normal_lpdf: LDLT_Factor of covariance parameter is not positive definite.  last conditional variance is -4.44089e-016. (in 'D:/PYTHON~1/STAN~1/u_model.stan', line 27, column 4 to column 83)\n\tException: multi_normal_lpdf: LDLT_Factor of covariance parameter is not positive definite.  last conditional variance is 3.9968e-015. (in 'D:/PYTHON~1/STAN~1/u_model.stan', line 27, column 4 to column 83)\n\tException: multi_normal_lpdf: LDLT_Factor of covariance parameter is not positive definite.  last conditional variance is 2.22045e-015. (in 'D:/PYTHON~1/STAN~1/u_model.stan', line 27, column 4 to column 83)\n\tException: multi_normal_lpdf: LDLT_Factor of covariance parameter is not positive definite.  last conditional variance is -8.88178e-016. (in 'D:/PYTHON~1/STAN~1/u_model.stan', line 27, column 4 to column 83)\n\tException: multi_normal_lpdf: LDLT_Factor of covariance parameter is not positive definite.  last conditional variance is -4.44089e-016. (in 'D:/PYTHON~1/STAN~1/u_model.stan', line 27, column 4 to column 83)\n\tException: multi_normal_lpdf: LDLT_Factor of covariance parameter is not positive definite.  last conditional variance is 1.11022e-015. (in 'D:/PYTHON~1/STAN~1/u_model.stan', line 27, column 4 to column 83)\n\tException: multi_normal_lpdf: LDLT_Factor of covariance parameter is not positive definite.  last conditional variance is -1.84297e-014. (in 'D:/PYTHON~1/STAN~1/u_model.stan', line 27, column 4 to column 83)\n\tException: multi_normal_lpdf: LDLT_Factor of covariance parameter is not positive definite.  last conditional variance is 4.44089e-016. (in 'D:/PYTHON~1/STAN~1/u_model.stan', line 27, column 4 to column 83)\n\tException: multi_normal_lpdf: LDLT_Factor of covariance parameter is not positive definite.  last conditional variance is 1.33227e-015. (in 'D:/PYTHON~1/STAN~1/u_model.stan', line 27, column 4 to column 83)\n\tException: multi_normal_lpdf: LDLT_Factor of covariance parameter is not positive definite.  last conditional variance is 3.77476e-015. (in 'D:/PYTHON~1/STAN~1/u_model.stan', line 27, column 4 to column 83)\n\tException: multi_normal_lpdf: LDLT_Factor of covariance parameter is not positive definite.  last conditional variance is 0. (in 'D:/PYTHON~1/STAN~1/u_model.stan', line 27, column 4 to column 83)\n\tException: multi_normal_lpdf: LDLT_Factor of covariance parameter is not positive definite.  last conditional variance is 8.88178e-016. (in 'D:/PYTHON~1/STAN~1/u_model.stan', line 27, column 4 to column 83)\n\tException: multi_normal_lpdf: LDLT_Factor of covariance parameter is not positive definite.  last conditional variance is -2.22045e-016. (in 'D:/PYTHON~1/STAN~1/u_model.stan', line 27, column 4 to column 83)\n\tException: multi_normal_lpdf: LDLT_Factor of covariance parameter is not positive definite.  last conditional variance is 1.55431e-015. (in 'D:/PYTHON~1/STAN~1/u_model.stan', line 27, column 4 to column 83)\n\tException: multi_normal_lpdf: LDLT_Factor of covariance parameter is not positive definite.  last conditional variance is 2.66454e-015. (in 'D:/PYTHON~1/STAN~1/u_model.stan', line 27, column 4 to column 83)\n\tException: multi_normal_lpdf: LDLT_Factor of covariance parameter is not positive definite.  last conditional variance is 1.33227e-015. (in 'D:/PYTHON~1/STAN~1/u_model.stan', line 27, column 4 to column 83)\n\tException: multi_normal_lpdf: LDLT_Factor of covariance parameter is not positive definite.  last conditional variance is 4.66294e-015. (in 'D:/PYTHON~1/STAN~1/u_model.stan', line 27, column 4 to column 83)\n\tException: multi_normal_lpdf: LDLT_Factor of covariance parameter is not positive definite.  last conditional variance is 2.22045e-016. (in 'D:/PYTHON~1/STAN~1/u_model.stan', line 27, column 4 to column 83)\n\tException: multi_normal_lpdf: LDLT_Factor of covariance parameter is not positive definite.  last conditional variance is 2.22045e-016. (in 'D:/PYTHON~1/STAN~1/u_model.stan', line 27, column 4 to column 83)\n\tException: multi_normal_lpdf: LDLT_Factor of covariance parameter is not positive definite.  last conditional variance is -2.22045e-016. (in 'D:/PYTHON~1/STAN~1/u_model.stan', line 27, column 4 to column 83)\n\tException: multi_normal_lpdf: LDLT_Factor of covariance parameter is not positive definite.  last conditional variance is 0. (in 'D:/PYTHON~1/STAN~1/u_model.stan', line 27, column 4 to column 83)\n\tException: multi_normal_lpdf: LDLT_Factor of covariance parameter is not positive definite.  last conditional variance is -1.9984e-015. (in 'D:/PYTHON~1/STAN~1/u_model.stan', line 27, column 4 to column 83)\n\tException: multi_normal_lpdf: LDLT_Factor of covariance parameter is not positive definite.  last conditional variance is -1.11022e-015. (in 'D:/PYTHON~1/STAN~1/u_model.stan', line 27, column 4 to column 83)\n\tException: multi_normal_lpdf: LDLT_Factor of covariance parameter is not positive definite.  last conditional variance is 4.44089e-016. (in 'D:/PYTHON~1/STAN~1/u_model.stan', line 27, column 4 to column 83)\n\tException: multi_normal_lpdf: LDLT_Factor of covariance parameter is not positive definite.  last conditional variance is 1.33227e-015. (in 'D:/PYTHON~1/STAN~1/u_model.stan', line 27, column 4 to column 83)\n\tException: multi_normal_lpdf: LDLT_Factor of covariance parameter is not positive definite.  last conditional variance is -4.44089e-016. (in 'D:/PYTHON~1/STAN~1/u_model.stan', line 27, column 4 to column 83)\n\tException: multi_normal_lpdf: LDLT_Factor of covariance parameter is not positive definite.  last conditional variance is 3.77476e-015. (in 'D:/PYTHON~1/STAN~1/u_model.stan', line 27, column 4 to column 83)\n\tException: multi_normal_lpdf: LDLT_Factor of covariance parameter is not positive definite.  last conditional variance is 0. (in 'D:/PYTHON~1/STAN~1/u_model.stan', line 27, column 4 to column 83)\n\tException: multi_normal_lpdf: LDLT_Factor of covariance parameter is not positive definite.  last conditional variance is 6.66134e-016. (in 'D:/PYTHON~1/STAN~1/u_model.stan', line 27, column 4 to column 83)\n\tException: multi_normal_lpdf: LDLT_Factor of covariance parameter is not positive definite.  last conditional variance is 2.22045e-016. (in 'D:/PYTHON~1/STAN~1/u_model.stan', line 27, column 4 to column 83)\n\tException: multi_normal_lpdf: LDLT_Factor of covariance parameter is not positive definite.  last conditional variance is -2.22045e-016. (in 'D:/PYTHON~1/STAN~1/u_model.stan', line 27, column 4 to column 83)\n\tException: multi_normal_lpdf: LDLT_Factor of covariance parameter is not positive definite.  last conditional variance is 4.44089e-016. (in 'D:/PYTHON~1/STAN~1/u_model.stan', line 27, column 4 to column 83)\n\tException: multi_normal_lpdf: LDLT_Factor of covariance parameter is not positive definite.  last conditional variance is -6.66134e-016. (in 'D:/PYTHON~1/STAN~1/u_model.stan', line 27, column 4 to column 83)\n\tException: multi_normal_lpdf: LDLT_Factor of covariance parameter is not positive definite.  last conditional variance is 3.33067e-015. (in 'D:/PYTHON~1/STAN~1/u_model.stan', line 27, column 4 to column 83)\n\tException: multi_normal_lpdf: LDLT_Factor of covariance parameter is not positive definite.  last conditional variance is 4.21885e-015. (in 'D:/PYTHON~1/STAN~1/u_model.stan', line 27, column 4 to column 83)\n\tException: multi_normal_lpdf: LDLT_Factor of covariance parameter is not positive definite.  last conditional variance is -1.9984e-015. (in 'D:/PYTHON~1/STAN~1/u_model.stan', line 27, column 4 to column 83)\n\tException: multi_normal_lpdf: LDLT_Factor of covariance parameter is not positive definite.  last conditional variance is -2.22045e-016. (in 'D:/PYTHON~1/STAN~1/u_model.stan', line 27, column 4 to column 83)\n\tException: multi_normal_lpdf: LDLT_Factor of covariance parameter is not positive definite.  last conditional variance is -8.88178e-016. (in 'D:/PYTHON~1/STAN~1/u_model.stan', line 27, column 4 to column 83)\n\tException: multi_normal_lpdf: LDLT_Factor of covariance parameter is not positive definite.  last conditional variance is -1.33227e-015. (in 'D:/PYTHON~1/STAN~1/u_model.stan', line 27, column 4 to column 83)\n\tException: multi_normal_lpdf: LDLT_Factor of covariance parameter is not positive definite.  last conditional variance is -4.44089e-016. (in 'D:/PYTHON~1/STAN~1/u_model.stan', line 27, column 4 to column 83)\n\tException: multi_normal_lpdf: LDLT_Factor of covariance parameter is not positive definite.  last conditional variance is -1.55431e-015. (in 'D:/PYTHON~1/STAN~1/u_model.stan', line 27, column 4 to column 83)\n\tException: multi_normal_lpdf: LDLT_Factor of covariance parameter is not positive definite.  last conditional variance is -2.22045e-015. (in 'D:/PYTHON~1/STAN~1/u_model.stan', line 27, column 4 to column 83)\n\tException: multi_normal_lpdf: LDLT_Factor of covariance parameter is not positive definite.  last conditional variance is 6.66134e-016. (in 'D:/PYTHON~1/STAN~1/u_model.stan', line 27, column 4 to column 83)\n\tException: multi_normal_lpdf: LDLT_Factor of covariance parameter is not positive definite.  last conditional variance is -4.44089e-016. (in 'D:/PYTHON~1/STAN~1/u_model.stan', line 27, column 4 to column 83)\n\tException: multi_normal_lpdf: LDLT_Factor of covariance parameter is not positive definite.  last conditional variance is 6.66134e-016. (in 'D:/PYTHON~1/STAN~1/u_model.stan', line 27, column 4 to column 83)\n\tException: multi_normal_lpdf: LDLT_Factor of covariance parameter is not positive definite.  last conditional variance is 0. (in 'D:/PYTHON~1/STAN~1/u_model.stan', line 27, column 4 to column 83)\n\tException: multi_normal_lpdf: LDLT_Factor of covariance parameter is not positive definite.  last conditional variance is -1.75415e-014. (in 'D:/PYTHON~1/STAN~1/u_model.stan', line 27, column 4 to column 83)\n\tException: multi_normal_lpdf: LDLT_Factor of covariance parameter is not positive definite.  last conditional variance is 2.22045e-016. (in 'D:/PYTHON~1/STAN~1/u_model.stan', line 27, column 4 to column 83)\n\tException: multi_normal_lpdf: LDLT_Factor of covariance parameter is not positive definite.  last conditional variance is 3.9968e-015. (in 'D:/PYTHON~1/STAN~1/u_model.stan', line 27, column 4 to column 83)\n\tException: multi_normal_lpdf: LDLT_Factor of covariance parameter is not positive definite.  last conditional variance is -1.11022e-015. (in 'D:/PYTHON~1/STAN~1/u_model.stan', line 27, column 4 to column 83)\n\tException: multi_normal_lpdf: LDLT_Factor of covariance parameter is not positive definite.  last conditional variance is 1.33227e-015. (in 'D:/PYTHON~1/STAN~1/u_model.stan', line 27, column 4 to column 83)\n\tException: multi_normal_lpdf: LDLT_Factor of covariance parameter is not positive definite.  last conditional variance is 1.9984e-015. (in 'D:/PYTHON~1/STAN~1/u_model.stan', line 27, column 4 to column 83)\n\tException: multi_normal_lpdf: LDLT_Factor of covariance parameter is not positive definite.  last conditional variance is 2.22045e-016. (in 'D:/PYTHON~1/STAN~1/u_model.stan', line 27, column 4 to column 83)\n\tException: multi_normal_lpdf: LDLT_Factor of covariance parameter is not positive definite.  last conditional variance is 1.11022e-015. (in 'D:/PYTHON~1/STAN~1/u_model.stan', line 27, column 4 to column 83)\n\tException: multi_normal_lpdf: LDLT_Factor of covariance parameter is not positive definite.  last conditional variance is -2.22045e-015. (in 'D:/PYTHON~1/STAN~1/u_model.stan', line 27, column 4 to column 83)\n\tException: multi_normal_lpdf: LDLT_Factor of covariance parameter is not positive definite.  last conditional variance is -1.11022e-015. (in 'D:/PYTHON~1/STAN~1/u_model.stan', line 27, column 4 to column 83)\n\tException: multi_normal_lpdf: LDLT_Factor of covariance parameter is not positive definite.  last conditional variance is 1.33227e-015. (in 'D:/PYTHON~1/STAN~1/u_model.stan', line 27, column 4 to column 83)\n\tException: multi_normal_lpdf: LDLT_Factor of covariance parameter is not positive definite.  last conditional variance is -1.11022e-015. (in 'D:/PYTHON~1/STAN~1/u_model.stan', line 27, column 4 to column 83)\n\tException: multi_normal_lpdf: LDLT_Factor of covariance parameter is not positive definite.  last conditional variance is 2.22045e-016. (in 'D:/PYTHON~1/STAN~1/u_model.stan', line 27, column 4 to column 83)\n\tException: multi_normal_lpdf: LDLT_Factor of covariance parameter is not positive definite.  last conditional variance is -1.55431e-015. (in 'D:/PYTHON~1/STAN~1/u_model.stan', line 27, column 4 to column 83)\n\tException: multi_normal_lpdf: LDLT_Factor of covariance parameter is not positive definite.  last conditional variance is 1.33227e-015. (in 'D:/PYTHON~1/STAN~1/u_model.stan', line 27, column 4 to column 83)\n\tException: multi_normal_lpdf: LDLT_Factor of covariance parameter is not positive definite.  last conditional variance is 0. (in 'D:/PYTHON~1/STAN~1/u_model.stan', line 27, column 4 to column 83)\n\tException: multi_normal_lpdf: LDLT_Factor of covariance parameter is not positive definite.  last conditional variance is -4.66294e-015. (in 'D:/PYTHON~1/STAN~1/u_model.stan', line 27, column 4 to column 83)\n\tException: multi_normal_lpdf: LDLT_Factor of covariance parameter is not positive definite.  last conditional variance is 4.44089e-016. (in 'D:/PYTHON~1/STAN~1/u_model.stan', line 27, column 4 to column 83)\n\tException: multi_normal_lpdf: LDLT_Factor of covariance parameter is not positive definite.  last conditional variance is 2.22045e-016. (in 'D:/PYTHON~1/STAN~1/u_model.stan', line 27, column 4 to column 83)\n\tException: multi_normal_lpdf: LDLT_Factor of covariance parameter is not positive definite.  last conditional variance is -8.88178e-016. (in 'D:/PYTHON~1/STAN~1/u_model.stan', line 27, column 4 to column 83)\n\tException: multi_normal_lpdf: LDLT_Factor of covariance parameter is not positive definite.  last conditional variance is -2.22045e-015. (in 'D:/PYTHON~1/STAN~1/u_model.stan', line 27, column 4 to column 83)\n\tException: multi_normal_lpdf: LDLT_Factor of covariance parameter is not positive definite.  last conditional variance is 2.22045e-015. (in 'D:/PYTHON~1/STAN~1/u_model.stan', line 27, column 4 to column 83)\n\tException: multi_normal_lpdf: LDLT_Factor of covariance parameter is not positive definite.  last conditional variance is -4.44089e-016. (in 'D:/PYTHON~1/STAN~1/u_model.stan', line 27, column 4 to column 83)\n\tException: multi_normal_lpdf: LDLT_Factor of covariance parameter is not positive definite.  last conditional variance is 4.44089e-016. (in 'D:/PYTHON~1/STAN~1/u_model.stan', line 27, column 4 to column 83)\n\tException: multi_normal_lpdf: LDLT_Factor of covariance parameter is not positive definite.  last conditional variance is 2.66454e-015. (in 'D:/PYTHON~1/STAN~1/u_model.stan', line 27, column 4 to column 83)\n\tException: multi_normal_lpdf: LDLT_Factor of covariance parameter is not positive definite.  last conditional variance is 6.66134e-016. (in 'D:/PYTHON~1/STAN~1/u_model.stan', line 27, column 4 to column 83)\n\tException: multi_normal_lpdf: LDLT_Factor of covariance parameter is not positive definite.  last conditional variance is 8.88178e-016. (in 'D:/PYTHON~1/STAN~1/u_model.stan', line 27, column 4 to column 83)\n\tException: multi_normal_lpdf: LDLT_Factor of covariance parameter is not positive definite.  last conditional variance is 1.11022e-015. (in 'D:/PYTHON~1/STAN~1/u_model.stan', line 27, column 4 to column 83)\n\tException: multi_normal_lpdf: LDLT_Factor of covariance parameter is not positive definite.  last conditional variance is -2.88658e-015. (in 'D:/PYTHON~1/STAN~1/u_model.stan', line 27, column 4 to column 83)\n\tException: multi_normal_lpdf: LDLT_Factor of covariance parameter is not positive definite.  last conditional variance is 0. (in 'D:/PYTHON~1/STAN~1/u_model.stan', line 27, column 4 to column 83)\n\tException: multi_normal_lpdf: LDLT_Factor of covariance parameter is not positive definite.  last conditional variance is -4.44089e-016. (in 'D:/PYTHON~1/STAN~1/u_model.stan', line 27, column 4 to column 83)\n\tException: multi_normal_lpdf: LDLT_Factor of covariance parameter is not positive definite.  last conditional variance is 1.11022e-015. (in 'D:/PYTHON~1/STAN~1/u_model.stan', line 27, column 4 to column 83)\n\tException: multi_normal_lpdf: LDLT_Factor of covariance parameter is not positive definite.  last conditional variance is -8.88178e-016. (in 'D:/PYTHON~1/STAN~1/u_model.stan', line 27, column 4 to column 83)\n\tException: multi_normal_lpdf: LDLT_Factor of covariance parameter is not positive definite.  last conditional variance is 1.11022e-015. (in 'D:/PYTHON~1/STAN~1/u_model.stan', line 27, column 4 to column 83)\n\tException: multi_normal_lpdf: LDLT_Factor of covariance parameter is not positive definite.  last conditional variance is -6.66134e-016. (in 'D:/PYTHON~1/STAN~1/u_model.stan', line 27, column 4 to column 83)\n\tException: multi_normal_lpdf: LDLT_Factor of covariance parameter is not positive definite.  last conditional variance is 6.66134e-016. (in 'D:/PYTHON~1/STAN~1/u_model.stan', line 27, column 4 to column 83)\n\tException: multi_normal_lpdf: LDLT_Factor of covariance parameter is not positive definite.  last conditional variance is -2.22045e-015. (in 'D:/PYTHON~1/STAN~1/u_model.stan', line 27, column 4 to column 83)\n\tException: multi_normal_lpdf: LDLT_Factor of covariance parameter is not positive definite.  last conditional variance is -8.88178e-016. (in 'D:/PYTHON~1/STAN~1/u_model.stan', line 27, column 4 to column 83)\n\tException: multi_normal_lpdf: LDLT_Factor of covariance parameter is not positive definite.  last conditional variance is 1.55431e-015. (in 'D:/PYTHON~1/STAN~1/u_model.stan', line 27, column 4 to column 83)\n\tException: multi_normal_lpdf: LDLT_Factor of covariance parameter is not positive definite.  last conditional variance is 3.10862e-015. (in 'D:/PYTHON~1/STAN~1/u_model.stan', line 27, column 4 to column 83)\n\tException: multi_normal_lpdf: LDLT_Factor of covariance parameter is not positive definite.  last conditional variance is 2.22045e-016. (in 'D:/PYTHON~1/STAN~1/u_model.stan', line 27, column 4 to column 83)\n\tException: multi_normal_lpdf: LDLT_Factor of covariance parameter is not positive definite.  last conditional variance is 2.22045e-016. (in 'D:/PYTHON~1/STAN~1/u_model.stan', line 27, column 4 to column 83)\n\tException: multi_normal_lpdf: LDLT_Factor of covariance parameter is not positive definite.  last conditional variance is -1.9984e-015. (in 'D:/PYTHON~1/STAN~1/u_model.stan', line 27, column 4 to column 83)\n\tException: multi_normal_lpdf: LDLT_Factor of covariance parameter is not positive definite.  last conditional variance is -1.55431e-015. (in 'D:/PYTHON~1/STAN~1/u_model.stan', line 27, column 4 to column 83)\n\tException: multi_normal_lpdf: LDLT_Factor of covariance parameter is not positive definite.  last conditional variance is 6.66134e-016. (in 'D:/PYTHON~1/STAN~1/u_model.stan', line 27, column 4 to column 83)\n\tException: multi_normal_lpdf: LDLT_Factor of covariance parameter is not positive definite.  last conditional variance is 1.11022e-015. (in 'D:/PYTHON~1/STAN~1/u_model.stan', line 27, column 4 to column 83)\n\tException: multi_normal_lpdf: LDLT_Factor of covariance parameter is not positive definite.  last conditional variance is 1.55431e-015. (in 'D:/PYTHON~1/STAN~1/u_model.stan', line 27, column 4 to column 83)\n\tException: multi_normal_lpdf: LDLT_Factor of covariance parameter is not positive definite.  last conditional variance is 3.10862e-015. (in 'D:/PYTHON~1/STAN~1/u_model.stan', line 27, column 4 to column 83)\n\tException: multi_normal_lpdf: LDLT_Factor of covariance parameter is not positive definite.  last conditional variance is 1.77636e-015. (in 'D:/PYTHON~1/STAN~1/u_model.stan', line 27, column 4 to column 83)\n\tException: multi_normal_lpdf: LDLT_Factor of covariance parameter is not positive definite.  last conditional variance is -4.44089e-016. (in 'D:/PYTHON~1/STAN~1/u_model.stan', line 27, column 4 to column 83)\n\tException: multi_normal_lpdf: LDLT_Factor of covariance parameter is not positive definite.  last conditional variance is -1.55431e-015. (in 'D:/PYTHON~1/STAN~1/u_model.stan', line 27, column 4 to column 83)\n\tException: multi_normal_lpdf: LDLT_Factor of covariance parameter is not positive definite.  last conditional variance is -6.66134e-016. (in 'D:/PYTHON~1/STAN~1/u_model.stan', line 27, column 4 to column 83)\n\tException: multi_normal_lpdf: LDLT_Factor of covariance parameter is not positive definite.  last conditional variance is -1.33227e-015. (in 'D:/PYTHON~1/STAN~1/u_model.stan', line 27, column 4 to column 83)\nCommand and output files:\nRunSet: chains=4, chain_ids=[1, 2, 3, 4], num_processes=4\n cmd (chain 1):\n\t['D:\\\\Python Files\\\\.stan\\\\u_model.exe', 'id=1', 'random', 'seed=73172', 'data', 'file=C:\\\\Users\\\\biraj\\\\AppData\\\\Local\\\\Temp\\\\tmp644n0d8y\\\\wszsgpwf.json', 'output', 'file=C:\\\\Users\\\\biraj\\\\AppData\\\\Local\\\\Temp\\\\tmp644n0d8y\\\\u_modeln3awkzq2\\\\u_model-20221110153840_1.csv', 'method=sample', 'algorithm=hmc', 'adapt', 'engaged=1']\n retcodes=[1, 1, 1, 1]\n per-chain output files (showing chain 1 only):\n csv_file:\n\tC:\\Users\\biraj\\AppData\\Local\\Temp\\tmp644n0d8y\\u_modeln3awkzq2\\u_model-20221110153840_1.csv\n console_msgs (if any):\n\tC:\\Users\\biraj\\AppData\\Local\\Temp\\tmp644n0d8y\\u_modeln3awkzq2\\u_model-20221110153840_0-stdout.txt\nConsider re-running with show_console=True if the above output is unclear!",
     "output_type": "error",
     "traceback": [
      "\u001b[1;31m---------------------------------------------------------------------------\u001b[0m",
      "\u001b[1;31mRuntimeError\u001b[0m                              Traceback (most recent call last)",
      "Input \u001b[1;32mIn [39]\u001b[0m, in \u001b[0;36m<cell line: 1>\u001b[1;34m()\u001b[0m\n\u001b[1;32m----> 1\u001b[0m \u001b[43mupdate_u\u001b[49m\u001b[43m(\u001b[49m\u001b[43mmu\u001b[49m\u001b[43m \u001b[49m\u001b[38;5;241;43m=\u001b[39;49m\u001b[43m \u001b[49m\u001b[43mnp\u001b[49m\u001b[38;5;241;43m.\u001b[39;49m\u001b[43mrandom\u001b[49m\u001b[38;5;241;43m.\u001b[39;49m\u001b[43mnormal\u001b[49m\u001b[43m(\u001b[49m\u001b[43msize\u001b[49m\u001b[43m \u001b[49m\u001b[38;5;241;43m=\u001b[39;49m\u001b[43m \u001b[49m\u001b[38;5;241;43m50\u001b[39;49m\u001b[43m)\u001b[49m\u001b[43m,\u001b[49m\u001b[43m \u001b[49m\u001b[43mx\u001b[49m\u001b[43m \u001b[49m\u001b[38;5;241;43m=\u001b[39;49m\u001b[43m \u001b[49m\u001b[43mnp\u001b[49m\u001b[38;5;241;43m.\u001b[39;49m\u001b[43mrandom\u001b[49m\u001b[38;5;241;43m.\u001b[39;49m\u001b[43mnormal\u001b[49m\u001b[43m(\u001b[49m\u001b[43msize\u001b[49m\u001b[43m \u001b[49m\u001b[38;5;241;43m=\u001b[39;49m\u001b[43m \u001b[49m\u001b[38;5;241;43m50\u001b[39;49m\u001b[43m)\u001b[49m\u001b[43m,\u001b[49m\u001b[43m \u001b[49m\u001b[43mc_0\u001b[49m\u001b[43m \u001b[49m\u001b[38;5;241;43m=\u001b[39;49m\u001b[43m \u001b[49m\u001b[38;5;241;43m1\u001b[39;49m\u001b[43m,\u001b[49m\u001b[43m \u001b[49m\u001b[43moffset\u001b[49m\u001b[43m \u001b[49m\u001b[38;5;241;43m=\u001b[39;49m\u001b[43m \u001b[49m\u001b[38;5;241;43m0.5\u001b[39;49m\u001b[43m,\u001b[49m\u001b[43m \u001b[49m\u001b[43mp\u001b[49m\u001b[43m \u001b[49m\u001b[38;5;241;43m=\u001b[39;49m\u001b[43m \u001b[49m\u001b[38;5;241;43m3\u001b[39;49m\u001b[43m)\u001b[49m\n",
      "Input \u001b[1;32mIn [23]\u001b[0m, in \u001b[0;36mupdate_u\u001b[1;34m(mu, x, c_0, offset, p)\u001b[0m\n\u001b[0;32m      2\u001b[0m n \u001b[38;5;241m=\u001b[39m \u001b[38;5;28mlen\u001b[39m(x)\n\u001b[0;32m      3\u001b[0m data_u \u001b[38;5;241m=\u001b[39m {\u001b[38;5;124m'\u001b[39m\u001b[38;5;124mn\u001b[39m\u001b[38;5;124m'\u001b[39m:n, \u001b[38;5;124m'\u001b[39m\u001b[38;5;124mp\u001b[39m\u001b[38;5;124m'\u001b[39m:p, \u001b[38;5;124m'\u001b[39m\u001b[38;5;124mc_0\u001b[39m\u001b[38;5;124m'\u001b[39m:c_0, \u001b[38;5;124m'\u001b[39m\u001b[38;5;124moffset_val\u001b[39m\u001b[38;5;124m'\u001b[39m:offset, \u001b[38;5;124m'\u001b[39m\u001b[38;5;124mmu\u001b[39m\u001b[38;5;124m'\u001b[39m:mu, \u001b[38;5;124m'\u001b[39m\u001b[38;5;124mx\u001b[39m\u001b[38;5;124m'\u001b[39m:x}\n\u001b[1;32m----> 4\u001b[0m fit_u \u001b[38;5;241m=\u001b[39m \u001b[43mu_model\u001b[49m\u001b[38;5;241;43m.\u001b[39;49m\u001b[43msample\u001b[49m\u001b[43m(\u001b[49m\u001b[43mdata\u001b[49m\u001b[43m \u001b[49m\u001b[38;5;241;43m=\u001b[39;49m\u001b[43m \u001b[49m\u001b[43mdata_u\u001b[49m\u001b[43m)\u001b[49m\n\u001b[0;32m      5\u001b[0m out \u001b[38;5;241m=\u001b[39m \u001b[38;5;28mlist\u001b[39m(fit_u\u001b[38;5;241m.\u001b[39msummary()[\u001b[38;5;124m'\u001b[39m\u001b[38;5;124mMean\u001b[39m\u001b[38;5;124m'\u001b[39m]\u001b[38;5;241m.\u001b[39miloc[\u001b[38;5;241m1\u001b[39m:])\n\u001b[0;32m      6\u001b[0m \u001b[38;5;28;01mreturn\u001b[39;00m out\n",
      "File \u001b[1;32mD:\\Anaconda\\lib\\site-packages\\cmdstanpy\\model.py:1190\u001b[0m, in \u001b[0;36mCmdStanModel.sample\u001b[1;34m(self, data, chains, parallel_chains, threads_per_chain, seed, chain_ids, inits, iter_warmup, iter_sampling, save_warmup, thin, max_treedepth, metric, step_size, adapt_engaged, adapt_delta, adapt_init_phase, adapt_metric_window, adapt_step_size, fixed_param, output_dir, sig_figs, save_latent_dynamics, save_profile, show_progress, show_console, refresh, time_fmt, force_one_process_per_chain)\u001b[0m\n\u001b[0;32m   1183\u001b[0m \u001b[38;5;28;01mif\u001b[39;00m \u001b[38;5;129;01mnot\u001b[39;00m runset\u001b[38;5;241m.\u001b[39m_check_retcodes():\n\u001b[0;32m   1184\u001b[0m     msg \u001b[38;5;241m=\u001b[39m (\n\u001b[0;32m   1185\u001b[0m         \u001b[38;5;124mf\u001b[39m\u001b[38;5;124m'\u001b[39m\u001b[38;5;124mError during sampling:\u001b[39m\u001b[38;5;130;01m\\n\u001b[39;00m\u001b[38;5;132;01m{\u001b[39;00merrors\u001b[38;5;132;01m}\u001b[39;00m\u001b[38;5;130;01m\\n\u001b[39;00m\u001b[38;5;124m'\u001b[39m\n\u001b[0;32m   1186\u001b[0m         \u001b[38;5;241m+\u001b[39m \u001b[38;5;124mf\u001b[39m\u001b[38;5;124m'\u001b[39m\u001b[38;5;124mCommand and output files:\u001b[39m\u001b[38;5;130;01m\\n\u001b[39;00m\u001b[38;5;132;01m{\u001b[39;00m\u001b[38;5;28mrepr\u001b[39m(runset)\u001b[38;5;132;01m}\u001b[39;00m\u001b[38;5;130;01m\\n\u001b[39;00m\u001b[38;5;124m'\u001b[39m\n\u001b[0;32m   1187\u001b[0m         \u001b[38;5;241m+\u001b[39m \u001b[38;5;124m'\u001b[39m\u001b[38;5;124mConsider re-running with show_console=True if the above\u001b[39m\u001b[38;5;124m'\u001b[39m\n\u001b[0;32m   1188\u001b[0m         \u001b[38;5;241m+\u001b[39m \u001b[38;5;124m'\u001b[39m\u001b[38;5;124m output is unclear!\u001b[39m\u001b[38;5;124m'\u001b[39m\n\u001b[0;32m   1189\u001b[0m     )\n\u001b[1;32m-> 1190\u001b[0m     \u001b[38;5;28;01mraise\u001b[39;00m \u001b[38;5;167;01mRuntimeError\u001b[39;00m(msg)\n\u001b[0;32m   1191\u001b[0m \u001b[38;5;28;01mif\u001b[39;00m errors:\n\u001b[0;32m   1192\u001b[0m     msg \u001b[38;5;241m=\u001b[39m (\n\u001b[0;32m   1193\u001b[0m         \u001b[38;5;124mf\u001b[39m\u001b[38;5;124m'\u001b[39m\u001b[38;5;124mNon-fatal error during sampling:\u001b[39m\u001b[38;5;130;01m\\n\u001b[39;00m\u001b[38;5;132;01m{\u001b[39;00merrors\u001b[38;5;132;01m}\u001b[39;00m\u001b[38;5;130;01m\\n\u001b[39;00m\u001b[38;5;124m'\u001b[39m\n\u001b[0;32m   1194\u001b[0m         \u001b[38;5;241m+\u001b[39m \u001b[38;5;124m'\u001b[39m\u001b[38;5;124mConsider re-running with show_console=True if the above\u001b[39m\u001b[38;5;124m'\u001b[39m\n\u001b[0;32m   1195\u001b[0m         \u001b[38;5;241m+\u001b[39m \u001b[38;5;124m'\u001b[39m\u001b[38;5;124m output is unclear!\u001b[39m\u001b[38;5;124m'\u001b[39m\n\u001b[0;32m   1196\u001b[0m     )\n",
      "\u001b[1;31mRuntimeError\u001b[0m: Error during sampling:\nException: multi_normal_lpdf: LDLT_Factor of covariance parameter is not positive definite.  last conditional variance is 1.11022e-015. (in 'D:/PYTHON~1/STAN~1/u_model.stan', line 27, column 4 to column 83)\n\tException: multi_normal_lpdf: LDLT_Factor of covariance parameter is not positive definite.  last conditional variance is 6.66134e-016. (in 'D:/PYTHON~1/STAN~1/u_model.stan', line 27, column 4 to column 83)\n\tException: multi_normal_lpdf: LDLT_Factor of covariance parameter is not positive definite.  last conditional variance is 0. (in 'D:/PYTHON~1/STAN~1/u_model.stan', line 27, column 4 to column 83)\n\tException: multi_normal_lpdf: LDLT_Factor of covariance parameter is not positive definite.  last conditional variance is -1.11022e-014. (in 'D:/PYTHON~1/STAN~1/u_model.stan', line 27, column 4 to column 83)\n\tException: multi_normal_lpdf: LDLT_Factor of covariance parameter is not positive definite.  last conditional variance is 1.55431e-015. (in 'D:/PYTHON~1/STAN~1/u_model.stan', line 27, column 4 to column 83)\n\tException: multi_normal_lpdf: LDLT_Factor of covariance parameter is not positive definite.  last conditional variance is -4.44089e-016. (in 'D:/PYTHON~1/STAN~1/u_model.stan', line 27, column 4 to column 83)\n\tException: multi_normal_lpdf: LDLT_Factor of covariance parameter is not positive definite.  last conditional variance is -3.55271e-015. (in 'D:/PYTHON~1/STAN~1/u_model.stan', line 27, column 4 to column 83)\n\tException: multi_normal_lpdf: LDLT_Factor of covariance parameter is not positive definite.  last conditional variance is -5.32907e-015. (in 'D:/PYTHON~1/STAN~1/u_model.stan', line 27, column 4 to column 83)\n\tException: multi_normal_lpdf: LDLT_Factor of covariance parameter is not positive definite.  last conditional variance is 8.88178e-016. (in 'D:/PYTHON~1/STAN~1/u_model.stan', line 27, column 4 to column 83)\n\tException: multi_normal_lpdf: LDLT_Factor of covariance parameter is not positive definite.  last conditional variance is -1.55431e-015. (in 'D:/PYTHON~1/STAN~1/u_model.stan', line 27, column 4 to column 83)\n\tException: multi_normal_lpdf: LDLT_Factor of covariance parameter is not positive definite.  last conditional variance is -2.22045e-016. (in 'D:/PYTHON~1/STAN~1/u_model.stan', line 27, column 4 to column 83)\n\tException: multi_normal_lpdf: LDLT_Factor of covariance parameter is not positive definite.  last conditional variance is -4.44089e-016. (in 'D:/PYTHON~1/STAN~1/u_model.stan', line 27, column 4 to column 83)\n\tException: multi_normal_lpdf: LDLT_Factor of covariance parameter is not positive definite.  last conditional variance is -1.77636e-015. (in 'D:/PYTHON~1/STAN~1/u_model.stan', line 27, column 4 to column 83)\n\tException: multi_normal_lpdf: LDLT_Factor of covariance parameter is not positive definite.  last conditional variance is 5.77316e-015. (in 'D:/PYTHON~1/STAN~1/u_model.stan', line 27, column 4 to column 83)\n\tException: multi_normal_lpdf: LDLT_Factor of covariance parameter is not positive definite.  last conditional variance is 1.55431e-015. (in 'D:/PYTHON~1/STAN~1/u_model.stan', line 27, column 4 to column 83)\n\tException: multi_normal_lpdf: LDLT_Factor of covariance parameter is not positive definite.  last conditional variance is -2.22045e-015. (in 'D:/PYTHON~1/STAN~1/u_model.stan', line 27, column 4 to column 83)\n\tException: multi_normal_lpdf: LDLT_Factor of covariance parameter is not positive definite.  last conditional variance is 4.44089e-016. (in 'D:/PYTHON~1/STAN~1/u_model.stan', line 27, column 4 to column 83)\n\tException: multi_normal_lpdf: LDLT_Factor of covariance parameter is not positive definite.  last conditional variance is 1.77636e-015. (in 'D:/PYTHON~1/STAN~1/u_model.stan', line 27, column 4 to column 83)\n\tException: multi_normal_lpdf: LDLT_Factor of covariance parameter is not positive definite.  last conditional variance is 4.44089e-015. (in 'D:/PYTHON~1/STAN~1/u_model.stan', line 27, column 4 to column 83)\n\tException: multi_normal_lpdf: LDLT_Factor of covariance parameter is not positive definite.  last conditional variance is 6.66134e-016. (in 'D:/PYTHON~1/STAN~1/u_model.stan', line 27, column 4 to column 83)\n\tException: multi_normal_lpdf: LDLT_Factor of covariance parameter is not positive definite.  last conditional variance is 0. (in 'D:/PYTHON~1/STAN~1/u_model.stan', line 27, column 4 to column 83)\n\tException: multi_normal_lpdf: LDLT_Factor of covariance parameter is not positive definite.  last conditional variance is -4.44089e-016. (in 'D:/PYTHON~1/STAN~1/u_model.stan', line 27, column 4 to column 83)\n\tException: multi_normal_lpdf: LDLT_Factor of covariance parameter is not positive definite.  last conditional variance is 1.33227e-015. (in 'D:/PYTHON~1/STAN~1/u_model.stan', line 27, column 4 to column 83)\n\tException: multi_normal_lpdf: LDLT_Factor of covariance parameter is not positive definite.  last conditional variance is 5.55112e-015. (in 'D:/PYTHON~1/STAN~1/u_model.stan', line 27, column 4 to column 83)\n\tException: multi_normal_lpdf: LDLT_Factor of covariance parameter is not positive definite.  last conditional variance is 2.44249e-015. (in 'D:/PYTHON~1/STAN~1/u_model.stan', line 27, column 4 to column 83)\n\tException: multi_normal_lpdf: LDLT_Factor of covariance parameter is not positive definite.  last conditional variance is 0. (in 'D:/PYTHON~1/STAN~1/u_model.stan', line 27, column 4 to column 83)\n\tException: multi_normal_lpdf: LDLT_Factor of covariance parameter is not positive definite.  last conditional variance is -2.44249e-015. (in 'D:/PYTHON~1/STAN~1/u_model.stan', line 27, column 4 to column 83)\n\tException: multi_normal_lpdf: LDLT_Factor of covariance parameter is not positive definite.  last conditional variance is -7.77156e-015. (in 'D:/PYTHON~1/STAN~1/u_model.stan', line 27, column 4 to column 83)\n\tException: multi_normal_lpdf: LDLT_Factor of covariance parameter is not positive definite.  last conditional variance is -2.22045e-016. (in 'D:/PYTHON~1/STAN~1/u_model.stan', line 27, column 4 to column 83)\n\tException: multi_normal_lpdf: LDLT_Factor of covariance parameter is not positive definite.  last conditional variance is -1.11022e-015. (in 'D:/PYTHON~1/STAN~1/u_model.stan', line 27, column 4 to column 83)\n\tException: multi_normal_lpdf: LDLT_Factor of covariance parameter is not positive definite.  last conditional variance is 2.22045e-016. (in 'D:/PYTHON~1/STAN~1/u_model.stan', line 27, column 4 to column 83)\n\tException: multi_normal_lpdf: LDLT_Factor of covariance parameter is not positive definite.  last conditional variance is 8.88178e-016. (in 'D:/PYTHON~1/STAN~1/u_model.stan', line 27, column 4 to column 83)\n\tException: multi_normal_lpdf: LDLT_Factor of covariance parameter is not positive definite.  last conditional variance is -1.11022e-015. (in 'D:/PYTHON~1/STAN~1/u_model.stan', line 27, column 4 to column 83)\n\tException: multi_normal_lpdf: LDLT_Factor of covariance parameter is not positive definite.  last conditional variance is 0. (in 'D:/PYTHON~1/STAN~1/u_model.stan', line 27, column 4 to column 83)\n\tException: multi_normal_lpdf: LDLT_Factor of covariance parameter is not positive definite.  last conditional variance is -4.44089e-016. (in 'D:/PYTHON~1/STAN~1/u_model.stan', line 27, column 4 to column 83)\n\tException: multi_normal_lpdf: LDLT_Factor of covariance parameter is not positive definite.  last conditional variance is 8.88178e-016. (in 'D:/PYTHON~1/STAN~1/u_model.stan', line 27, column 4 to column 83)\n\tException: multi_normal_lpdf: LDLT_Factor of covariance parameter is not positive definite.  last conditional variance is 4.44089e-016. (in 'D:/PYTHON~1/STAN~1/u_model.stan', line 27, column 4 to column 83)\n\tException: multi_normal_lpdf: LDLT_Factor of covariance parameter is not positive definite.  last conditional variance is -1.9984e-015. (in 'D:/PYTHON~1/STAN~1/u_model.stan', line 27, column 4 to column 83)\n\tException: multi_normal_lpdf: LDLT_Factor of covariance parameter is not positive definite.  last conditional variance is 1.55431e-015. (in 'D:/PYTHON~1/STAN~1/u_model.stan', line 27, column 4 to column 83)\n\tException: multi_normal_lpdf: LDLT_Factor of covariance parameter is not positive definite.  last conditional variance is -3.9968e-015. (in 'D:/PYTHON~1/STAN~1/u_model.stan', line 27, column 4 to column 83)\n\tException: multi_normal_lpdf: LDLT_Factor of covariance parameter is not positive definite.  last conditional variance is -4.44089e-016. (in 'D:/PYTHON~1/STAN~1/u_model.stan', line 27, column 4 to column 83)\n\tException: multi_normal_lpdf: LDLT_Factor of covariance parameter is not positive definite.  last conditional variance is -2.22045e-016. (in 'D:/PYTHON~1/STAN~1/u_model.stan', line 27, column 4 to column 83)\n\tException: multi_normal_lpdf: LDLT_Factor of covariance parameter is not positive definite.  last conditional variance is -1.11022e-015. (in 'D:/PYTHON~1/STAN~1/u_model.stan', line 27, column 4 to column 83)\n\tException: multi_normal_lpdf: LDLT_Factor of covariance parameter is not positive definite.  last conditional variance is -1.9984e-015. (in 'D:/PYTHON~1/STAN~1/u_model.stan', line 27, column 4 to column 83)\n\tException: multi_normal_lpdf: LDLT_Factor of covariance parameter is not positive definite.  last conditional variance is 1.55431e-015. (in 'D:/PYTHON~1/STAN~1/u_model.stan', line 27, column 4 to column 83)\n\tException: multi_normal_lpdf: LDLT_Factor of covariance parameter is not positive definite.  last conditional variance is 4.44089e-016. (in 'D:/PYTHON~1/STAN~1/u_model.stan', line 27, column 4 to column 83)\n\tException: multi_normal_lpdf: LDLT_Factor of covariance parameter is not positive definite.  last conditional variance is -5.10703e-015. (in 'D:/PYTHON~1/STAN~1/u_model.stan', line 27, column 4 to column 83)\n\tException: multi_normal_lpdf: LDLT_Factor of covariance parameter is not positive definite.  last conditional variance is 4.44089e-016. (in 'D:/PYTHON~1/STAN~1/u_model.stan', line 27, column 4 to column 83)\n\tException: multi_normal_lpdf: LDLT_Factor of covariance parameter is not positive definite.  last conditional variance is -1.77636e-015. (in 'D:/PYTHON~1/STAN~1/u_model.stan', line 27, column 4 to column 83)\n\tException: multi_normal_lpdf: LDLT_Factor of covariance parameter is not positive definite.  last conditional variance is -4.44089e-016. (in 'D:/PYTHON~1/STAN~1/u_model.stan', line 27, column 4 to column 83)\n\tException: multi_normal_lpdf: LDLT_Factor of covariance parameter is not positive definite.  last conditional variance is 0. (in 'D:/PYTHON~1/STAN~1/u_model.stan', line 27, column 4 to column 83)\n\tException: multi_normal_lpdf: LDLT_Factor of covariance parameter is not positive definite.  last conditional variance is 4.44089e-016. (in 'D:/PYTHON~1/STAN~1/u_model.stan', line 27, column 4 to column 83)\n\tException: multi_normal_lpdf: LDLT_Factor of covariance parameter is not positive definite.  last conditional variance is 4.44089e-016. (in 'D:/PYTHON~1/STAN~1/u_model.stan', line 27, column 4 to column 83)\n\tException: multi_normal_lpdf: LDLT_Factor of covariance parameter is not positive definite.  last conditional variance is 2.66454e-015. (in 'D:/PYTHON~1/STAN~1/u_model.stan', line 27, column 4 to column 83)\n\tException: multi_normal_lpdf: LDLT_Factor of covariance parameter is not positive definite.  last conditional variance is 2.44249e-015. (in 'D:/PYTHON~1/STAN~1/u_model.stan', line 27, column 4 to column 83)\n\tException: multi_normal_lpdf: LDLT_Factor of covariance parameter is not positive definite.  last conditional variance is -3.55271e-015. (in 'D:/PYTHON~1/STAN~1/u_model.stan', line 27, column 4 to column 83)\n\tException: multi_normal_lpdf: LDLT_Factor of covariance parameter is not positive definite.  last conditional variance is -4.44089e-016. (in 'D:/PYTHON~1/STAN~1/u_model.stan', line 27, column 4 to column 83)\n\tException: multi_normal_lpdf: LDLT_Factor of covariance parameter is not positive definite.  last conditional variance is 1.11022e-015. (in 'D:/PYTHON~1/STAN~1/u_model.stan', line 27, column 4 to column 83)\n\tException: multi_normal_lpdf: LDLT_Factor of covariance parameter is not positive definite.  last conditional variance is 1.33227e-015. (in 'D:/PYTHON~1/STAN~1/u_model.stan', line 27, column 4 to column 83)\n\tException: multi_normal_lpdf: LDLT_Factor of covariance parameter is not positive definite.  last conditional variance is 9.10383e-015. (in 'D:/PYTHON~1/STAN~1/u_model.stan', line 27, column 4 to column 83)\n\tException: multi_normal_lpdf: LDLT_Factor of covariance parameter is not positive definite.  last conditional variance is 6.66134e-016. (in 'D:/PYTHON~1/STAN~1/u_model.stan', line 27, column 4 to column 83)\n\tException: multi_normal_lpdf: LDLT_Factor of covariance parameter is not positive definite.  last conditional variance is 0. (in 'D:/PYTHON~1/STAN~1/u_model.stan', line 27, column 4 to column 83)\n\tException: multi_normal_lpdf: LDLT_Factor of covariance parameter is not positive definite.  last conditional variance is 1.33227e-015. (in 'D:/PYTHON~1/STAN~1/u_model.stan', line 27, column 4 to column 83)\n\tException: multi_normal_lpdf: LDLT_Factor of covariance parameter is not positive definite.  last conditional variance is 2.22045e-016. (in 'D:/PYTHON~1/STAN~1/u_model.stan', line 27, column 4 to column 83)\n\tException: multi_normal_lpdf: LDLT_Factor of covariance parameter is not positive definite.  last conditional variance is -6.88338e-015. (in 'D:/PYTHON~1/STAN~1/u_model.stan', line 27, column 4 to column 83)\n\tException: multi_normal_lpdf: LDLT_Factor of covariance parameter is not positive definite.  last conditional variance is 8.88178e-016. (in 'D:/PYTHON~1/STAN~1/u_model.stan', line 27, column 4 to column 83)\n\tException: multi_normal_lpdf: LDLT_Factor of covariance parameter is not positive definite.  last conditional variance is 1.77636e-015. (in 'D:/PYTHON~1/STAN~1/u_model.stan', line 27, column 4 to column 83)\n\tException: multi_normal_lpdf: LDLT_Factor of covariance parameter is not positive definite.  last conditional variance is 2.66454e-015. (in 'D:/PYTHON~1/STAN~1/u_model.stan', line 27, column 4 to column 83)\n\tException: multi_normal_lpdf: LDLT_Factor of covariance parameter is not positive definite.  last conditional variance is -4.21885e-015. (in 'D:/PYTHON~1/STAN~1/u_model.stan', line 27, column 4 to column 83)\n\tException: multi_normal_lpdf: LDLT_Factor of covariance parameter is not positive definite.  last conditional variance is -8.88178e-016. (in 'D:/PYTHON~1/STAN~1/u_model.stan', line 27, column 4 to column 83)\n\tException: multi_normal_lpdf: LDLT_Factor of covariance parameter is not positive definite.  last conditional variance is -1.77636e-015. (in 'D:/PYTHON~1/STAN~1/u_model.stan', line 27, column 4 to column 83)\n\tException: multi_normal_lpdf: LDLT_Factor of covariance parameter is not positive definite.  last conditional variance is 1.9984e-015. (in 'D:/PYTHON~1/STAN~1/u_model.stan', line 27, column 4 to column 83)\n\tException: multi_normal_lpdf: LDLT_Factor of covariance parameter is not positive definite.  last conditional variance is 0. (in 'D:/PYTHON~1/STAN~1/u_model.stan', line 27, column 4 to column 83)\n\tException: multi_normal_lpdf: LDLT_Factor of covariance parameter is not positive definite.  last conditional variance is 2.88658e-015. (in 'D:/PYTHON~1/STAN~1/u_model.stan', line 27, column 4 to column 83)\n\tException: multi_normal_lpdf: LDLT_Factor of covariance parameter is not positive definite.  last conditional variance is 6.66134e-016. (in 'D:/PYTHON~1/STAN~1/u_model.stan', line 27, column 4 to column 83)\n\tException: multi_normal_lpdf: LDLT_Factor of covariance parameter is not positive definite.  last conditional variance is 5.9952e-015. (in 'D:/PYTHON~1/STAN~1/u_model.stan', line 27, column 4 to column 83)\n\tException: multi_normal_lpdf: LDLT_Factor of covariance parameter is not positive definite.  last conditional variance is 2.22045e-016. (in 'D:/PYTHON~1/STAN~1/u_model.stan', line 27, column 4 to column 83)\n\tException: multi_normal_lpdf: LDLT_Factor of covariance parameter is not positive definite.  last conditional variance is 6.66134e-016. (in 'D:/PYTHON~1/STAN~1/u_model.stan', line 27, column 4 to column 83)\n\tException: multi_normal_lpdf: LDLT_Factor of covariance parameter is not positive definite.  last conditional variance is -8.88178e-016. (in 'D:/PYTHON~1/STAN~1/u_model.stan', line 27, column 4 to column 83)\n\tException: multi_normal_lpdf: LDLT_Factor of covariance parameter is not positive definite.  last conditional variance is 4.44089e-016. (in 'D:/PYTHON~1/STAN~1/u_model.stan', line 27, column 4 to column 83)\n\tException: multi_normal_lpdf: LDLT_Factor of covariance parameter is not positive definite.  last conditional variance is 1.11022e-015. (in 'D:/PYTHON~1/STAN~1/u_model.stan', line 27, column 4 to column 83)\n\tException: multi_normal_lpdf: LDLT_Factor of covariance parameter is not positive definite.  last conditional variance is 0. (in 'D:/PYTHON~1/STAN~1/u_model.stan', line 27, column 4 to column 83)\n\tException: multi_normal_lpdf: LDLT_Factor of covariance parameter is not positive definite.  last conditional variance is 2.44249e-015. (in 'D:/PYTHON~1/STAN~1/u_model.stan', line 27, column 4 to column 83)\n\tException: multi_normal_lpdf: LDLT_Factor of covariance parameter is not positive definite.  last conditional variance is 3.64153e-014. (in 'D:/PYTHON~1/STAN~1/u_model.stan', line 27, column 4 to column 83)\n\tException: multi_normal_lpdf: LDLT_Factor of covariance parameter is not positive definite.  last conditional variance is 5.10703e-015. (in 'D:/PYTHON~1/STAN~1/u_model.stan', line 27, column 4 to column 83)\n\tException: multi_normal_lpdf: LDLT_Factor of covariance parameter is not positive definite.  last conditional variance is 2.22045e-016. (in 'D:/PYTHON~1/STAN~1/u_model.stan', line 27, column 4 to column 83)\n\tException: multi_normal_lpdf: LDLT_Factor of covariance parameter is not positive definite.  last conditional variance is -2.22045e-016. (in 'D:/PYTHON~1/STAN~1/u_model.stan', line 27, column 4 to column 83)\n\tException: multi_normal_lpdf: LDLT_Factor of covariance parameter is not positive definite.  last conditional variance is -8.88178e-016. (in 'D:/PYTHON~1/STAN~1/u_model.stan', line 27, column 4 to column 83)\n\tException: multi_normal_lpdf: LDLT_Factor of covariance parameter is not positive definite.  last conditional variance is 2.22045e-015. (in 'D:/PYTHON~1/STAN~1/u_model.stan', line 27, column 4 to column 83)\n\tException: multi_normal_lpdf: LDLT_Factor of covariance parameter is not positive definite.  last conditional variance is 1.9984e-015. (in 'D:/PYTHON~1/STAN~1/u_model.stan', line 27, column 4 to column 83)\n\tException: multi_normal_lpdf: LDLT_Factor of covariance parameter is not positive definite.  last conditional variance is 4.44089e-016. (in 'D:/PYTHON~1/STAN~1/u_model.stan', line 27, column 4 to column 83)\n\tException: multi_normal_lpdf: LDLT_Factor of covariance parameter is not positive definite.  last conditional variance is -4.21885e-015. (in 'D:/PYTHON~1/STAN~1/u_model.stan', line 27, column 4 to column 83)\n\tException: multi_normal_lpdf: LDLT_Factor of covariance parameter is not positive definite.  last conditional variance is -1.9984e-015. (in 'D:/PYTHON~1/STAN~1/u_model.stan', line 27, column 4 to column 83)\n\tException: multi_normal_lpdf: LDLT_Factor of covariance parameter is not positive definite.  last conditional variance is 2.66454e-015. (in 'D:/PYTHON~1/STAN~1/u_model.stan', line 27, column 4 to column 83)\n\tException: multi_normal_lpdf: LDLT_Factor of covariance parameter is not positive definite.  last conditional variance is 4.44089e-016. (in 'D:/PYTHON~1/STAN~1/u_model.stan', line 27, column 4 to column 83)\n\tException: multi_normal_lpdf: LDLT_Factor of covariance parameter is not positive definite.  last conditional variance is 1.55431e-015. (in 'D:/PYTHON~1/STAN~1/u_model.stan', line 27, column 4 to column 83)\n\tException: multi_normal_lpdf: LDLT_Factor of covariance parameter is not positive definite.  last conditional variance is -2.22045e-016. (in 'D:/PYTHON~1/STAN~1/u_model.stan', line 27, column 4 to column 83)\n\tException: multi_normal_lpdf: LDLT_Factor of covariance parameter is not positive definite.  last conditional variance is -6.66134e-016. (in 'D:/PYTHON~1/STAN~1/u_model.stan', line 27, column 4 to column 83)\n\tException: multi_normal_lpdf: LDLT_Factor of covariance parameter is not positive definite.  last conditional variance is 1.77636e-015. (in 'D:/PYTHON~1/STAN~1/u_model.stan', line 27, column 4 to column 83)\n\tException: multi_normal_lpdf: LDLT_Factor of covariance parameter is not positive definite.  last conditional variance is 1.33227e-015. (in 'D:/PYTHON~1/STAN~1/u_model.stan', line 27, column 4 to column 83)\nException: multi_normal_lpdf: LDLT_Factor of covariance parameter is not positive definite.  last conditional variance is 0. (in 'D:/PYTHON~1/STAN~1/u_model.stan', line 27, column 4 to column 83)\n\tException: multi_normal_lpdf: LDLT_Factor of covariance parameter is not positive definite.  last conditional variance is 4.44089e-016. (in 'D:/PYTHON~1/STAN~1/u_model.stan', line 27, column 4 to column 83)\n\tException: multi_normal_lpdf: LDLT_Factor of covariance parameter is not positive definite.  last conditional variance is 8.88178e-016. (in 'D:/PYTHON~1/STAN~1/u_model.stan', line 27, column 4 to column 83)\n\tException: multi_normal_lpdf: LDLT_Factor of covariance parameter is not positive definite.  last conditional variance is 6.66134e-016. (in 'D:/PYTHON~1/STAN~1/u_model.stan', line 27, column 4 to column 83)\n\tException: multi_normal_lpdf: LDLT_Factor of covariance parameter is not positive definite.  last conditional variance is -2.44249e-015. (in 'D:/PYTHON~1/STAN~1/u_model.stan', line 27, column 4 to column 83)\n\tException: multi_normal_lpdf: LDLT_Factor of covariance parameter is not positive definite.  last conditional variance is 6.66134e-016. (in 'D:/PYTHON~1/STAN~1/u_model.stan', line 27, column 4 to column 83)\n\tException: multi_normal_lpdf: LDLT_Factor of covariance parameter is not positive definite.  last conditional variance is 3.55271e-015. (in 'D:/PYTHON~1/STAN~1/u_model.stan', line 27, column 4 to column 83)\n\tException: multi_normal_lpdf: LDLT_Factor of covariance parameter is not positive definite.  last conditional variance is 2.22045e-016. (in 'D:/PYTHON~1/STAN~1/u_model.stan', line 27, column 4 to column 83)\n\tException: multi_normal_lpdf: LDLT_Factor of covariance parameter is not positive definite.  last conditional variance is 8.88178e-016. (in 'D:/PYTHON~1/STAN~1/u_model.stan', line 27, column 4 to column 83)\n\tException: multi_normal_lpdf: LDLT_Factor of covariance parameter is not positive definite.  last conditional variance is 4.44089e-016. (in 'D:/PYTHON~1/STAN~1/u_model.stan', line 27, column 4 to column 83)\n\tException: multi_normal_lpdf: LDLT_Factor of covariance parameter is not positive definite.  last conditional variance is 8.88178e-016. (in 'D:/PYTHON~1/STAN~1/u_model.stan', line 27, column 4 to column 83)\n\tException: multi_normal_lpdf: LDLT_Factor of covariance parameter is not positive definite.  last conditional variance is -3.77476e-015. (in 'D:/PYTHON~1/STAN~1/u_model.stan', line 27, column 4 to column 83)\n\tException: multi_normal_lpdf: LDLT_Factor of covariance parameter is not positive definite.  last conditional variance is 4.44089e-016. (in 'D:/PYTHON~1/STAN~1/u_model.stan', line 27, column 4 to column 83)\n\tException: multi_normal_lpdf: LDLT_Factor of covariance parameter is not positive definite.  last conditional variance is -1.55431e-015. (in 'D:/PYTHON~1/STAN~1/u_model.stan', line 27, column 4 to column 83)\n\tException: multi_normal_lpdf: LDLT_Factor of covariance parameter is not positive definite.  last conditional variance is -1.11022e-015. (in 'D:/PYTHON~1/STAN~1/u_model.stan', line 27, column 4 to column 83)\n\tException: multi_normal_lpdf: LDLT_Factor of covariance parameter is not positive definite.  last conditional variance is -3.33067e-015. (in 'D:/PYTHON~1/STAN~1/u_model.stan', line 27, column 4 to column 83)\n\tException: multi_normal_lpdf: LDLT_Factor of covariance parameter is not positive definite.  last conditional variance is -3.33067e-015. (in 'D:/PYTHON~1/STAN~1/u_model.stan', line 27, column 4 to column 83)\n\tException: multi_normal_lpdf: LDLT_Factor of covariance parameter is not positive definite.  last conditional variance is -6.66134e-016. (in 'D:/PYTHON~1/STAN~1/u_model.stan', line 27, column 4 to column 83)\n\tException: multi_normal_lpdf: LDLT_Factor of covariance parameter is not positive definite.  last conditional variance is -1.55431e-015. (in 'D:/PYTHON~1/STAN~1/u_model.stan', line 27, column 4 to column 83)\n\tException: multi_normal_lpdf: LDLT_Factor of covariance parameter is not positive definite.  last conditional variance is 4.44089e-016. (in 'D:/PYTHON~1/STAN~1/u_model.stan', line 27, column 4 to column 83)\n\tException: multi_normal_lpdf: LDLT_Factor of covariance parameter is not positive definite.  last conditional variance is 2.22045e-016. (in 'D:/PYTHON~1/STAN~1/u_model.stan', line 27, column 4 to column 83)\n\tException: multi_normal_lpdf: LDLT_Factor of covariance parameter is not positive definite.  last conditional variance is 2.22045e-016. (in 'D:/PYTHON~1/STAN~1/u_model.stan', line 27, column 4 to column 83)\n\tException: multi_normal_lpdf: LDLT_Factor of covariance parameter is not positive definite.  last conditional variance is -6.66134e-016. (in 'D:/PYTHON~1/STAN~1/u_model.stan', line 27, column 4 to column 83)\n\tException: multi_normal_lpdf: LDLT_Factor of covariance parameter is not positive definite.  last conditional variance is -1.11022e-015. (in 'D:/PYTHON~1/STAN~1/u_model.stan', line 27, column 4 to column 83)\n\tException: multi_normal_lpdf: LDLT_Factor of covariance parameter is not positive definite.  last conditional variance is -8.88178e-016. (in 'D:/PYTHON~1/STAN~1/u_model.stan', line 27, column 4 to column 83)\n\tException: multi_normal_lpdf: LDLT_Factor of covariance parameter is not positive definite.  last conditional variance is 2.44249e-015. (in 'D:/PYTHON~1/STAN~1/u_model.stan', line 27, column 4 to column 83)\n\tException: multi_normal_lpdf: LDLT_Factor of covariance parameter is not positive definite.  last conditional variance is 1.86517e-014. (in 'D:/PYTHON~1/STAN~1/u_model.stan', line 27, column 4 to column 83)\n\tException: multi_normal_lpdf: LDLT_Factor of covariance parameter is not positive definite.  last conditional variance is -8.88178e-016. (in 'D:/PYTHON~1/STAN~1/u_model.stan', line 27, column 4 to column 83)\n\tException: multi_normal_lpdf: LDLT_Factor of covariance parameter is not positive definite.  last conditional variance is 1.9984e-015. (in 'D:/PYTHON~1/STAN~1/u_model.stan', line 27, column 4 to column 83)\n\tException: multi_normal_lpdf: LDLT_Factor of covariance parameter is not positive definite.  last conditional variance is 0. (in 'D:/PYTHON~1/STAN~1/u_model.stan', line 27, column 4 to column 83)\n\tException: multi_normal_lpdf: LDLT_Factor of covariance parameter is not positive definite.  last conditional variance is 4.44089e-016. (in 'D:/PYTHON~1/STAN~1/u_model.stan', line 27, column 4 to column 83)\n\tException: multi_normal_lpdf: LDLT_Factor of covariance parameter is not positive definite.  last conditional variance is 4.21885e-015. (in 'D:/PYTHON~1/STAN~1/u_model.stan', line 27, column 4 to column 83)\n\tException: multi_normal_lpdf: LDLT_Factor of covariance parameter is not positive definite.  last conditional variance is 1.55431e-015. (in 'D:/PYTHON~1/STAN~1/u_model.stan', line 27, column 4 to column 83)\n\tException: multi_normal_lpdf: LDLT_Factor of covariance parameter is not positive definite.  last conditional variance is 1.55431e-015. (in 'D:/PYTHON~1/STAN~1/u_model.stan', line 27, column 4 to column 83)\n\tException: multi_normal_lpdf: LDLT_Factor of covariance parameter is not positive definite.  last conditional variance is 8.88178e-016. (in 'D:/PYTHON~1/STAN~1/u_model.stan', line 27, column 4 to column 83)\n\tException: multi_normal_lpdf: LDLT_Factor of covariance parameter is not positive definite.  last conditional variance is 2.22045e-016. (in 'D:/PYTHON~1/STAN~1/u_model.stan', line 27, column 4 to column 83)\n\tException: multi_normal_lpdf: LDLT_Factor of covariance parameter is not positive definite.  last conditional variance is -1.11022e-015. (in 'D:/PYTHON~1/STAN~1/u_model.stan', line 27, column 4 to column 83)\n\tException: multi_normal_lpdf: LDLT_Factor of covariance parameter is not positive definite.  last conditional variance is 1.9984e-015. (in 'D:/PYTHON~1/STAN~1/u_model.stan', line 27, column 4 to column 83)\n\tException: multi_normal_lpdf: LDLT_Factor of covariance parameter is not positive definite.  last conditional variance is -2.22045e-016. (in 'D:/PYTHON~1/STAN~1/u_model.stan', line 27, column 4 to column 83)\n\tException: multi_normal_lpdf: LDLT_Factor of covariance parameter is not positive definite.  last conditional variance is 2.22045e-016. (in 'D:/PYTHON~1/STAN~1/u_model.stan', line 27, column 4 to column 83)\n\tException: multi_normal_lpdf: LDLT_Factor of covariance parameter is not positive definite.  last conditional variance is -8.88178e-016. (in 'D:/PYTHON~1/STAN~1/u_model.stan', line 27, column 4 to column 83)\n\tException: multi_normal_lpdf: LDLT_Factor of covariance parameter is not positive definite.  last conditional variance is 5.32907e-015. (in 'D:/PYTHON~1/STAN~1/u_model.stan', line 27, column 4 to column 83)\n\tException: multi_normal_lpdf: LDLT_Factor of covariance parameter is not positive definite.  last conditional variance is 1.11022e-015. (in 'D:/PYTHON~1/STAN~1/u_model.stan', line 27, column 4 to column 83)\n\tException: multi_normal_lpdf: LDLT_Factor of covariance parameter is not positive definite.  last conditional variance is 1.11022e-015. (in 'D:/PYTHON~1/STAN~1/u_model.stan', line 27, column 4 to column 83)\n\tException: multi_normal_lpdf: LDLT_Factor of covariance parameter is not positive definite.  last conditional variance is -1.79856e-014. (in 'D:/PYTHON~1/STAN~1/u_model.stan', line 27, column 4 to column 83)\n\tException: multi_normal_lpdf: LDLT_Factor of covariance parameter is not positive definite.  last conditional variance is -4.44089e-016. (in 'D:/PYTHON~1/STAN~1/u_model.stan', line 27, column 4 to column 83)\n\tException: multi_normal_lpdf: LDLT_Factor of covariance parameter is not positive definite.  last conditional variance is -6.43929e-015. (in 'D:/PYTHON~1/STAN~1/u_model.stan', line 27, column 4 to column 83)\n\tException: multi_normal_lpdf: LDLT_Factor of covariance parameter is not positive definite.  last conditional variance is -2.22045e-016. (in 'D:/PYTHON~1/STAN~1/u_model.stan', line 27, column 4 to column 83)\n\tException: multi_normal_lpdf: LDLT_Factor of covariance parameter is not positive definite.  last conditional variance is -3.10862e-015. (in 'D:/PYTHON~1/STAN~1/u_model.stan', line 27, column 4 to column 83)\n\tException: multi_normal_lpdf: LDLT_Factor of covariance parameter is not positive definite.  last conditional variance is 0. (in 'D:/PYTHON~1/STAN~1/u_model.stan', line 27, column 4 to column 83)\n\tException: multi_normal_lpdf: LDLT_Factor of covariance parameter is not positive definite.  last conditional variance is 8.88178e-016. (in 'D:/PYTHON~1/STAN~1/u_model.stan', line 27, column 4 to column 83)\n\tException: multi_normal_lpdf: LDLT_Factor of covariance parameter is not positive definite.  last conditional variance is 8.88178e-016. (in 'D:/PYTHON~1/STAN~1/u_model.stan', line 27, column 4 to column 83)\n\tException: multi_normal_lpdf: LDLT_Factor of covariance parameter is not positive definite.  last conditional variance is 5.77316e-015. (in 'D:/PYTHON~1/STAN~1/u_model.stan', line 27, column 4 to column 83)\n\tException: multi_normal_lpdf: LDLT_Factor of covariance parameter is not positive definite.  last conditional variance is 2.88658e-015. (in 'D:/PYTHON~1/STAN~1/u_model.stan', line 27, column 4 to column 83)\n\tException: multi_normal_lpdf: LDLT_Factor of covariance parameter is not positive definite.  last conditional variance is -1.33227e-015. (in 'D:/PYTHON~1/STAN~1/u_model.stan', line 27, column 4 to column 83)\n\tException: multi_normal_lpdf: LDLT_Factor of covariance parameter is not positive definite.  last conditional variance is 4.44089e-015. (in 'D:/PYTHON~1/STAN~1/u_model.stan', line 27, column 4 to column 83)\n\tException: multi_normal_lpdf: LDLT_Factor of covariance parameter is not positive definite.  last conditional variance is -3.10862e-015. (in 'D:/PYTHON~1/STAN~1/u_model.stan', line 27, column 4 to column 83)\n\tException: multi_normal_lpdf: LDLT_Factor of covariance parameter is not positive definite.  last conditional variance is -6.66134e-016. (in 'D:/PYTHON~1/STAN~1/u_model.stan', line 27, column 4 to column 83)\n\tException: multi_normal_lpdf: LDLT_Factor of covariance parameter is not positive definite.  last conditional variance is -1.9984e-015. (in 'D:/PYTHON~1/STAN~1/u_model.stan', line 27, column 4 to column 83)\n\tException: multi_normal_lpdf: LDLT_Factor of covariance parameter is not positive definite.  last conditional variance is -6.66134e-016. (in 'D:/PYTHON~1/STAN~1/u_model.stan', line 27, column 4 to column 83)\n\tException: multi_normal_lpdf: LDLT_Factor of covariance parameter is not positive definite.  last conditional variance is -2.22045e-016. (in 'D:/PYTHON~1/STAN~1/u_model.stan', line 27, column 4 to column 83)\n\tException: multi_normal_lpdf: LDLT_Factor of covariance parameter is not positive definite.  last conditional variance is 4.44089e-016. (in 'D:/PYTHON~1/STAN~1/u_model.stan', line 27, column 4 to column 83)\n\tException: multi_normal_lpdf: LDLT_Factor of covariance parameter is not positive definite.  last conditional variance is 6.66134e-016. (in 'D:/PYTHON~1/STAN~1/u_model.stan', line 27, column 4 to column 83)\n\tException: multi_normal_lpdf: LDLT_Factor of covariance parameter is not positive definite.  last conditional variance is 1.77636e-015. (in 'D:/PYTHON~1/STAN~1/u_model.stan', line 27, column 4 to column 83)\n\tException: multi_normal_lpdf: LDLT_Factor of covariance parameter is not positive definite.  last conditional variance is 1.77636e-015. (in 'D:/PYTHON~1/STAN~1/u_model.stan', line 27, column 4 to column 83)\n\tException: multi_normal_lpdf: LDLT_Factor of covariance parameter is not positive definite.  last conditional variance is 1.77636e-015. (in 'D:/PYTHON~1/STAN~1/u_model.stan', line 27, column 4 to column 83)\n\tException: multi_normal_lpdf: LDLT_Factor of covariance parameter is not positive definite.  last conditional variance is 2.22045e-016. (in 'D:/PYTHON~1/STAN~1/u_model.stan', line 27, column 4 to column 83)\n\tException: multi_normal_lpdf: LDLT_Factor of covariance parameter is not positive definite.  last conditional variance is 0. (in 'D:/PYTHON~1/STAN~1/u_model.stan', line 27, column 4 to column 83)\n\tException: multi_normal_lpdf: LDLT_Factor of covariance parameter is not positive definite.  last conditional variance is 6.66134e-016. (in 'D:/PYTHON~1/STAN~1/u_model.stan', line 27, column 4 to column 83)\n\tException: multi_normal_lpdf: LDLT_Factor of covariance parameter is not positive definite.  last conditional variance is 2.22045e-015. (in 'D:/PYTHON~1/STAN~1/u_model.stan', line 27, column 4 to column 83)\n\tException: multi_normal_lpdf: LDLT_Factor of covariance parameter is not positive definite.  last conditional variance is -6.66134e-016. (in 'D:/PYTHON~1/STAN~1/u_model.stan', line 27, column 4 to column 83)\n\tException: multi_normal_lpdf: LDLT_Factor of covariance parameter is not positive definite.  last conditional variance is -6.21725e-015. (in 'D:/PYTHON~1/STAN~1/u_model.stan', line 27, column 4 to column 83)\n\tException: multi_normal_lpdf: LDLT_Factor of covariance parameter is not positive definite.  last conditional variance is 0. (in 'D:/PYTHON~1/STAN~1/u_model.stan', line 27, column 4 to column 83)\n\tException: multi_normal_lpdf: LDLT_Factor of covariance parameter is not positive definite.  last conditional variance is -1.9984e-015. (in 'D:/PYTHON~1/STAN~1/u_model.stan', line 27, column 4 to column 83)\n\tException: multi_normal_lpdf: LDLT_Factor of covariance parameter is not positive definite.  last conditional variance is -1.33227e-015. (in 'D:/PYTHON~1/STAN~1/u_model.stan', line 27, column 4 to column 83)\n\tException: multi_normal_lpdf: LDLT_Factor of covariance parameter is not positive definite.  last conditional variance is -2.22045e-016. (in 'D:/PYTHON~1/STAN~1/u_model.stan', line 27, column 4 to column 83)\n\tException: multi_normal_lpdf: LDLT_Factor of covariance parameter is not positive definite.  last conditional variance is 0. (in 'D:/PYTHON~1/STAN~1/u_model.stan', line 27, column 4 to column 83)\n\tException: multi_normal_lpdf: LDLT_Factor of covariance parameter is not positive definite.  last conditional variance is 8.88178e-016. (in 'D:/PYTHON~1/STAN~1/u_model.stan', line 27, column 4 to column 83)\n\tException: multi_normal_lpdf: LDLT_Factor of covariance parameter is not positive definite.  last conditional variance is 0. (in 'D:/PYTHON~1/STAN~1/u_model.stan', line 27, column 4 to column 83)\n\tException: multi_normal_lpdf: LDLT_Factor of covariance parameter is not positive definite.  last conditional variance is 1.9984e-015. (in 'D:/PYTHON~1/STAN~1/u_model.stan', line 27, column 4 to column 83)\n\tException: multi_normal_lpdf: LDLT_Factor of covariance parameter is not positive definite.  last conditional variance is 1.55431e-015. (in 'D:/PYTHON~1/STAN~1/u_model.stan', line 27, column 4 to column 83)\n\tException: multi_normal_lpdf: LDLT_Factor of covariance parameter is not positive definite.  last conditional variance is -3.9968e-015. (in 'D:/PYTHON~1/STAN~1/u_model.stan', line 27, column 4 to column 83)\n\tException: multi_normal_lpdf: LDLT_Factor of covariance parameter is not positive definite.  last conditional variance is 4.44089e-016. (in 'D:/PYTHON~1/STAN~1/u_model.stan', line 27, column 4 to column 83)\n\tException: multi_normal_lpdf: LDLT_Factor of covariance parameter is not positive definite.  last conditional variance is 2.44249e-015. (in 'D:/PYTHON~1/STAN~1/u_model.stan', line 27, column 4 to column 83)\n\tException: multi_normal_lpdf: LDLT_Factor of covariance parameter is not positive definite.  last conditional variance is 1.55431e-015. (in 'D:/PYTHON~1/STAN~1/u_model.stan', line 27, column 4 to column 83)\n\tException: multi_normal_lpdf: LDLT_Factor of covariance parameter is not positive definite.  last conditional variance is -1.11022e-015. (in 'D:/PYTHON~1/STAN~1/u_model.stan', line 27, column 4 to column 83)\n\tException: multi_normal_lpdf: LDLT_Factor of covariance parameter is not positive definite.  last conditional variance is 6.66134e-016. (in 'D:/PYTHON~1/STAN~1/u_model.stan', line 27, column 4 to column 83)\n\tException: multi_normal_lpdf: LDLT_Factor of covariance parameter is not positive definite.  last conditional variance is -4.44089e-016. (in 'D:/PYTHON~1/STAN~1/u_model.stan', line 27, column 4 to column 83)\n\tException: multi_normal_lpdf: LDLT_Factor of covariance parameter is not positive definite.  last conditional variance is 6.66134e-016. (in 'D:/PYTHON~1/STAN~1/u_model.stan', line 27, column 4 to column 83)\n\tException: multi_normal_lpdf: LDLT_Factor of covariance parameter is not positive definite.  last conditional variance is -8.88178e-016. (in 'D:/PYTHON~1/STAN~1/u_model.stan', line 27, column 4 to column 83)\n\tException: multi_normal_lpdf: LDLT_Factor of covariance parameter is not positive definite.  last conditional variance is -8.88178e-016. (in 'D:/PYTHON~1/STAN~1/u_model.stan', line 27, column 4 to column 83)\n\tException: multi_normal_lpdf: LDLT_Factor of covariance parameter is not positive definite.  last conditional variance is 3.10862e-015. (in 'D:/PYTHON~1/STAN~1/u_model.stan', line 27, column 4 to column 83)\n\tException: multi_normal_lpdf: LDLT_Factor of covariance parameter is not positive definite.  last conditional variance is 6.66134e-016. (in 'D:/PYTHON~1/STAN~1/u_model.stan', line 27, column 4 to column 83)\n\tException: multi_normal_lpdf: LDLT_Factor of covariance parameter is not positive definite.  last conditional variance is -1.33227e-015. (in 'D:/PYTHON~1/STAN~1/u_model.stan', line 27, column 4 to column 83)\n\tException: multi_normal_lpdf: LDLT_Factor of covariance parameter is not positive definite.  last conditional variance is 8.88178e-016. (in 'D:/PYTHON~1/STAN~1/u_model.stan', line 27, column 4 to column 83)\n\tException: multi_normal_lpdf: LDLT_Factor of covariance parameter is not positive definite.  last conditional variance is 6.66134e-016. (in 'D:/PYTHON~1/STAN~1/u_model.stan', line 27, column 4 to column 83)\n\tException: multi_normal_lpdf: LDLT_Factor of covariance parameter is not positive definite.  last conditional variance is -2.22045e-016. (in 'D:/PYTHON~1/STAN~1/u_model.stan', line 27, column 4 to column 83)\n\tException: multi_normal_lpdf: LDLT_Factor of covariance parameter is not positive definite.  last conditional variance is -6.66134e-016. (in 'D:/PYTHON~1/STAN~1/u_model.stan', line 27, column 4 to column 83)\n\tException: multi_normal_lpdf: LDLT_Factor of covariance parameter is not positive definite.  last conditional variance is 5.55112e-015. (in 'D:/PYTHON~1/STAN~1/u_model.stan', line 27, column 4 to column 83)\n\tException: multi_normal_lpdf: LDLT_Factor of covariance parameter is not positive definite.  last conditional variance is -1.11022e-015. (in 'D:/PYTHON~1/STAN~1/u_model.stan', line 27, column 4 to column 83)\nException: multi_normal_lpdf: LDLT_Factor of covariance parameter is not positive definite.  last conditional variance is 3.55271e-015. (in 'D:/PYTHON~1/STAN~1/u_model.stan', line 27, column 4 to column 83)\n\tException: multi_normal_lpdf: LDLT_Factor of covariance parameter is not positive definite.  last conditional variance is 2.22045e-016. (in 'D:/PYTHON~1/STAN~1/u_model.stan', line 27, column 4 to column 83)\n\tException: multi_normal_lpdf: LDLT_Factor of covariance parameter is not positive definite.  last conditional variance is 1.33227e-015. (in 'D:/PYTHON~1/STAN~1/u_model.stan', line 27, column 4 to column 83)\n\tException: multi_normal_lpdf: LDLT_Factor of covariance parameter is not positive definite.  last conditional variance is -1.33227e-015. (in 'D:/PYTHON~1/STAN~1/u_model.stan', line 27, column 4 to column 83)\n\tException: multi_normal_lpdf: LDLT_Factor of covariance parameter is not positive definite.  last conditional variance is 1.33227e-015. (in 'D:/PYTHON~1/STAN~1/u_model.stan', line 27, column 4 to column 83)\n\tException: multi_normal_lpdf: LDLT_Factor of covariance parameter is not positive definite.  last conditional variance is 0. (in 'D:/PYTHON~1/STAN~1/u_model.stan', line 27, column 4 to column 83)\n\tException: multi_normal_lpdf: LDLT_Factor of covariance parameter is not positive definite.  last conditional variance is -9.32587e-015. (in 'D:/PYTHON~1/STAN~1/u_model.stan', line 27, column 4 to column 83)\n\tException: multi_normal_lpdf: LDLT_Factor of covariance parameter is not positive definite.  last conditional variance is -2.22045e-016. (in 'D:/PYTHON~1/STAN~1/u_model.stan', line 27, column 4 to column 83)\n\tException: multi_normal_lpdf: LDLT_Factor of covariance parameter is not positive definite.  last conditional variance is 7.77156e-015. (in 'D:/PYTHON~1/STAN~1/u_model.stan', line 27, column 4 to column 83)\n\tException: multi_normal_lpdf: LDLT_Factor of covariance parameter is not positive definite.  last conditional variance is 1.33227e-015. (in 'D:/PYTHON~1/STAN~1/u_model.stan', line 27, column 4 to column 83)\n\tException: multi_normal_lpdf: LDLT_Factor of covariance parameter is not positive definite.  last conditional variance is -2.22045e-016. (in 'D:/PYTHON~1/STAN~1/u_model.stan', line 27, column 4 to column 83)\n\tException: multi_normal_lpdf: LDLT_Factor of covariance parameter is not positive definite.  last conditional variance is 0. (in 'D:/PYTHON~1/STAN~1/u_model.stan', line 27, column 4 to column 83)\n\tException: multi_normal_lpdf: LDLT_Factor of covariance parameter is not positive definite.  last conditional variance is 4.44089e-016. (in 'D:/PYTHON~1/STAN~1/u_model.stan', line 27, column 4 to column 83)\n\tException: multi_normal_lpdf: LDLT_Factor of covariance parameter is not positive definite.  last conditional variance is 1.9984e-015. (in 'D:/PYTHON~1/STAN~1/u_model.stan', line 27, column 4 to column 83)\n\tException: multi_normal_lpdf: LDLT_Factor of covariance parameter is not positive definite.  last conditional variance is 0. (in 'D:/PYTHON~1/STAN~1/u_model.stan', line 27, column 4 to column 83)\n\tException: multi_normal_lpdf: LDLT_Factor of covariance parameter is not positive definite.  last conditional variance is -1.55431e-015. (in 'D:/PYTHON~1/STAN~1/u_model.stan', line 27, column 4 to column 83)\n\tException: multi_normal_lpdf: LDLT_Factor of covariance parameter is not positive definite.  last conditional variance is 2.22045e-016. (in 'D:/PYTHON~1/STAN~1/u_model.stan', line 27, column 4 to column 83)\n\tException: multi_normal_lpdf: LDLT_Factor of covariance parameter is not positive definite.  last conditional variance is 0. (in 'D:/PYTHON~1/STAN~1/u_model.stan', line 27, column 4 to column 83)\n\tException: multi_normal_lpdf: LDLT_Factor of covariance parameter is not positive definite.  last conditional variance is 6.66134e-016. (in 'D:/PYTHON~1/STAN~1/u_model.stan', line 27, column 4 to column 83)\n\tException: multi_normal_lpdf: LDLT_Factor of covariance parameter is not positive definite.  last conditional variance is -5.9952e-015. (in 'D:/PYTHON~1/STAN~1/u_model.stan', line 27, column 4 to column 83)\n\tException: multi_normal_lpdf: LDLT_Factor of covariance parameter is not positive definite.  last conditional variance is -1.44329e-014. (in 'D:/PYTHON~1/STAN~1/u_model.stan', line 27, column 4 to column 83)\n\tException: multi_normal_lpdf: LDLT_Factor of covariance parameter is not positive definite.  last conditional variance is -1.11022e-015. (in 'D:/PYTHON~1/STAN~1/u_model.stan', line 27, column 4 to column 83)\n\tException: multi_normal_lpdf: LDLT_Factor of covariance parameter is not positive definite.  last conditional variance is -1.9984e-015. (in 'D:/PYTHON~1/STAN~1/u_model.stan', line 27, column 4 to column 83)\n\tException: multi_normal_lpdf: LDLT_Factor of covariance parameter is not positive definite.  last conditional variance is 2.22045e-016. (in 'D:/PYTHON~1/STAN~1/u_model.stan', line 27, column 4 to column 83)\n\tException: multi_normal_lpdf: LDLT_Factor of covariance parameter is not positive definite.  last conditional variance is -1.33227e-015. (in 'D:/PYTHON~1/STAN~1/u_model.stan', line 27, column 4 to column 83)\n\tException: multi_normal_lpdf: LDLT_Factor of covariance parameter is not positive definite.  last conditional variance is 6.66134e-016. (in 'D:/PYTHON~1/STAN~1/u_model.stan', line 27, column 4 to column 83)\n\tException: multi_normal_lpdf: LDLT_Factor of covariance parameter is not positive definite.  last conditional variance is 1.55431e-015. (in 'D:/PYTHON~1/STAN~1/u_model.stan', line 27, column 4 to column 83)\n\tException: multi_normal_lpdf: LDLT_Factor of covariance parameter is not positive definite.  last conditional variance is -3.77476e-015. (in 'D:/PYTHON~1/STAN~1/u_model.stan', line 27, column 4 to column 83)\n\tException: multi_normal_lpdf: LDLT_Factor of covariance parameter is not positive definite.  last conditional variance is -1.11022e-015. (in 'D:/PYTHON~1/STAN~1/u_model.stan', line 27, column 4 to column 83)\n\tException: multi_normal_lpdf: LDLT_Factor of covariance parameter is not positive definite.  last conditional variance is -6.43929e-015. (in 'D:/PYTHON~1/STAN~1/u_model.stan', line 27, column 4 to column 83)\n\tException: multi_normal_lpdf: LDLT_Factor of covariance parameter is not positive definite.  last conditional variance is -4.44089e-016. (in 'D:/PYTHON~1/STAN~1/u_model.stan', line 27, column 4 to column 83)\n\tException: multi_normal_lpdf: LDLT_Factor of covariance parameter is not positive definite.  last conditional variance is 0. (in 'D:/PYTHON~1/STAN~1/u_model.stan', line 27, column 4 to column 83)\n\tException: multi_normal_lpdf: LDLT_Factor of covariance parameter is not positive definite.  last conditional variance is 6.66134e-016. (in 'D:/PYTHON~1/STAN~1/u_model.stan', line 27, column 4 to column 83)\n\tException: multi_normal_lpdf: LDLT_Factor of covariance parameter is not positive definite.  last conditional variance is -3.77476e-015. (in 'D:/PYTHON~1/STAN~1/u_model.stan', line 27, column 4 to column 83)\n\tException: multi_normal_lpdf: LDLT_Factor of covariance parameter is not positive definite.  last conditional variance is 9.99201e-015. (in 'D:/PYTHON~1/STAN~1/u_model.stan', line 27, column 4 to column 83)\n\tException: multi_normal_lpdf: LDLT_Factor of covariance parameter is not positive definite.  last conditional variance is 0. (in 'D:/PYTHON~1/STAN~1/u_model.stan', line 27, column 4 to column 83)\n\tException: multi_normal_lpdf: LDLT_Factor of covariance parameter is not positive definite.  last conditional variance is 6.66134e-016. (in 'D:/PYTHON~1/STAN~1/u_model.stan', line 27, column 4 to column 83)\n\tException: multi_normal_lpdf: LDLT_Factor of covariance parameter is not positive definite.  last conditional variance is 1.55431e-015. (in 'D:/PYTHON~1/STAN~1/u_model.stan', line 27, column 4 to column 83)\n\tException: multi_normal_lpdf: LDLT_Factor of covariance parameter is not positive definite.  last conditional variance is 6.66134e-015. (in 'D:/PYTHON~1/STAN~1/u_model.stan', line 27, column 4 to column 83)\n\tException: multi_normal_lpdf: LDLT_Factor of covariance parameter is not positive definite.  last conditional variance is 1.11022e-015. (in 'D:/PYTHON~1/STAN~1/u_model.stan', line 27, column 4 to column 83)\n\tException: multi_normal_lpdf: LDLT_Factor of covariance parameter is not positive definite.  last conditional variance is -8.88178e-016. (in 'D:/PYTHON~1/STAN~1/u_model.stan', line 27, column 4 to column 83)\n\tException: multi_normal_lpdf: LDLT_Factor of covariance parameter is not positive definite.  last conditional variance is 7.99361e-015. (in 'D:/PYTHON~1/STAN~1/u_model.stan', line 27, column 4 to column 83)\n\tException: multi_normal_lpdf: LDLT_Factor of covariance parameter is not positive definite.  last conditional variance is 2.22045e-016. (in 'D:/PYTHON~1/STAN~1/u_model.stan', line 27, column 4 to column 83)\n\tException: multi_normal_lpdf: LDLT_Factor of covariance parameter is not positive definite.  last conditional variance is -1.11022e-015. (in 'D:/PYTHON~1/STAN~1/u_model.stan', line 27, column 4 to column 83)\n\tException: multi_normal_lpdf: LDLT_Factor of covariance parameter is not positive definite.  last conditional variance is -5.10703e-015. (in 'D:/PYTHON~1/STAN~1/u_model.stan', line 27, column 4 to column 83)\n\tException: multi_normal_lpdf: LDLT_Factor of covariance parameter is not positive definite.  last conditional variance is 1.11022e-015. (in 'D:/PYTHON~1/STAN~1/u_model.stan', line 27, column 4 to column 83)\n\tException: multi_normal_lpdf: LDLT_Factor of covariance parameter is not positive definite.  last conditional variance is 6.66134e-016. (in 'D:/PYTHON~1/STAN~1/u_model.stan', line 27, column 4 to column 83)\n\tException: multi_normal_lpdf: LDLT_Factor of covariance parameter is not positive definite.  last conditional variance is -1.11022e-015. (in 'D:/PYTHON~1/STAN~1/u_model.stan', line 27, column 4 to column 83)\n\tException: multi_normal_lpdf: LDLT_Factor of covariance parameter is not positive definite.  last conditional variance is -6.66134e-016. (in 'D:/PYTHON~1/STAN~1/u_model.stan', line 27, column 4 to column 83)\n\tException: multi_normal_lpdf: LDLT_Factor of covariance parameter is not positive definite.  last conditional variance is -6.66134e-016. (in 'D:/PYTHON~1/STAN~1/u_model.stan', line 27, column 4 to column 83)\n\tException: multi_normal_lpdf: LDLT_Factor of covariance parameter is not positive definite.  last conditional variance is -1.77636e-015. (in 'D:/PYTHON~1/STAN~1/u_model.stan', line 27, column 4 to column 83)\n\tException: multi_normal_lpdf: LDLT_Factor of covariance parameter is not positive definite.  last conditional variance is 2.22045e-016. (in 'D:/PYTHON~1/STAN~1/u_model.stan', line 27, column 4 to column 83)\n\tException: multi_normal_lpdf: LDLT_Factor of covariance parameter is not positive definite.  last conditional variance is 1.46549e-014. (in 'D:/PYTHON~1/STAN~1/u_model.stan', line 27, column 4 to column 83)\n\tException: multi_normal_lpdf: LDLT_Factor of covariance parameter is not positive definite.  last conditional variance is 6.66134e-016. (in 'D:/PYTHON~1/STAN~1/u_model.stan', line 27, column 4 to column 83)\n\tException: multi_normal_lpdf: LDLT_Factor of covariance parameter is not positive definite.  last conditional variance is 2.22045e-016. (in 'D:/PYTHON~1/STAN~1/u_model.stan', line 27, column 4 to column 83)\n\tException: multi_normal_lpdf: LDLT_Factor of covariance parameter is not positive definite.  last conditional variance is -6.66134e-016. (in 'D:/PYTHON~1/STAN~1/u_model.stan', line 27, column 4 to column 83)\n\tException: multi_normal_lpdf: LDLT_Factor of covariance parameter is not positive definite.  last conditional variance is -6.43929e-015. (in 'D:/PYTHON~1/STAN~1/u_model.stan', line 27, column 4 to column 83)\n\tException: multi_normal_lpdf: LDLT_Factor of covariance parameter is not positive definite.  last conditional variance is 2.22045e-016. (in 'D:/PYTHON~1/STAN~1/u_model.stan', line 27, column 4 to column 83)\n\tException: multi_normal_lpdf: LDLT_Factor of covariance parameter is not positive definite.  last conditional variance is -1.55431e-015. (in 'D:/PYTHON~1/STAN~1/u_model.stan', line 27, column 4 to column 83)\n\tException: multi_normal_lpdf: LDLT_Factor of covariance parameter is not positive definite.  last conditional variance is -1.55431e-015. (in 'D:/PYTHON~1/STAN~1/u_model.stan', line 27, column 4 to column 83)\n\tException: multi_normal_lpdf: LDLT_Factor of covariance parameter is not positive definite.  last conditional variance is -1.55431e-015. (in 'D:/PYTHON~1/STAN~1/u_model.stan', line 27, column 4 to column 83)\n\tException: multi_normal_lpdf: LDLT_Factor of covariance parameter is not positive definite.  last conditional variance is 6.66134e-016. (in 'D:/PYTHON~1/STAN~1/u_model.stan', line 27, column 4 to column 83)\n\tException: multi_normal_lpdf: LDLT_Factor of covariance parameter is not positive definite.  last conditional variance is -2.22045e-016. (in 'D:/PYTHON~1/STAN~1/u_model.stan', line 27, column 4 to column 83)\n\tException: multi_normal_lpdf: LDLT_Factor of covariance parameter is not positive definite.  last conditional variance is 6.66134e-016. (in 'D:/PYTHON~1/STAN~1/u_model.stan', line 27, column 4 to column 83)\n\tException: multi_normal_lpdf: LDLT_Factor of covariance parameter is not positive definite.  last conditional variance is -1.33227e-015. (in 'D:/PYTHON~1/STAN~1/u_model.stan', line 27, column 4 to column 83)\n\tException: multi_normal_lpdf: LDLT_Factor of covariance parameter is not positive definite.  last conditional variance is 4.44089e-016. (in 'D:/PYTHON~1/STAN~1/u_model.stan', line 27, column 4 to column 83)\n\tException: multi_normal_lpdf: LDLT_Factor of covariance parameter is not positive definite.  last conditional variance is 4.44089e-016. (in 'D:/PYTHON~1/STAN~1/u_model.stan', line 27, column 4 to column 83)\n\tException: multi_normal_lpdf: LDLT_Factor of covariance parameter is not positive definite.  last conditional variance is 3.55271e-015. (in 'D:/PYTHON~1/STAN~1/u_model.stan', line 27, column 4 to column 83)\n\tException: multi_normal_lpdf: LDLT_Factor of covariance parameter is not positive definite.  last conditional variance is 2.22045e-015. (in 'D:/PYTHON~1/STAN~1/u_model.stan', line 27, column 4 to column 83)\n\tException: multi_normal_lpdf: LDLT_Factor of covariance parameter is not positive definite.  last conditional variance is -4.44089e-016. (in 'D:/PYTHON~1/STAN~1/u_model.stan', line 27, column 4 to column 83)\n\tException: multi_normal_lpdf: LDLT_Factor of covariance parameter is not positive definite.  last conditional variance is -1.33227e-015. (in 'D:/PYTHON~1/STAN~1/u_model.stan', line 27, column 4 to column 83)\n\tException: multi_normal_lpdf: LDLT_Factor of covariance parameter is not positive definite.  last conditional variance is 1.33227e-015. (in 'D:/PYTHON~1/STAN~1/u_model.stan', line 27, column 4 to column 83)\n\tException: multi_normal_lpdf: LDLT_Factor of covariance parameter is not positive definite.  last conditional variance is 1.33227e-015. (in 'D:/PYTHON~1/STAN~1/u_model.stan', line 27, column 4 to column 83)\n\tException: multi_normal_lpdf: LDLT_Factor of covariance parameter is not positive definite.  last conditional variance is -2.22045e-016. (in 'D:/PYTHON~1/STAN~1/u_model.stan', line 27, column 4 to column 83)\n\tException: multi_normal_lpdf: LDLT_Factor of covariance parameter is not positive definite.  last conditional variance is -1.11022e-015. (in 'D:/PYTHON~1/STAN~1/u_model.stan', line 27, column 4 to column 83)\n\tException: multi_normal_lpdf: LDLT_Factor of covariance parameter is not positive definite.  last conditional variance is -2.22045e-016. (in 'D:/PYTHON~1/STAN~1/u_model.stan', line 27, column 4 to column 83)\n\tException: multi_normal_lpdf: LDLT_Factor of covariance parameter is not positive definite.  last conditional variance is 6.66134e-016. (in 'D:/PYTHON~1/STAN~1/u_model.stan', line 27, column 4 to column 83)\n\tException: multi_normal_lpdf: LDLT_Factor of covariance parameter is not positive definite.  last conditional variance is 6.66134e-016. (in 'D:/PYTHON~1/STAN~1/u_model.stan', line 27, column 4 to column 83)\n\tException: multi_normal_lpdf: LDLT_Factor of covariance parameter is not positive definite.  last conditional variance is 5.9952e-015. (in 'D:/PYTHON~1/STAN~1/u_model.stan', line 27, column 4 to column 83)\n\tException: multi_normal_lpdf: LDLT_Factor of covariance parameter is not positive definite.  last conditional variance is -8.88178e-016. (in 'D:/PYTHON~1/STAN~1/u_model.stan', line 27, column 4 to column 83)\n\tException: multi_normal_lpdf: LDLT_Factor of covariance parameter is not positive definite.  last conditional variance is 8.88178e-016. (in 'D:/PYTHON~1/STAN~1/u_model.stan', line 27, column 4 to column 83)\n\tException: multi_normal_lpdf: LDLT_Factor of covariance parameter is not positive definite.  last conditional variance is -1.77636e-015. (in 'D:/PYTHON~1/STAN~1/u_model.stan', line 27, column 4 to column 83)\n\tException: multi_normal_lpdf: LDLT_Factor of covariance parameter is not positive definite.  last conditional variance is -1.55431e-015. (in 'D:/PYTHON~1/STAN~1/u_model.stan', line 27, column 4 to column 83)\n\tException: multi_normal_lpdf: LDLT_Factor of covariance parameter is not positive definite.  last conditional variance is 1.55431e-015. (in 'D:/PYTHON~1/STAN~1/u_model.stan', line 27, column 4 to column 83)\n\tException: multi_normal_lpdf: LDLT_Factor of covariance parameter is not positive definite.  last conditional variance is 6.66134e-016. (in 'D:/PYTHON~1/STAN~1/u_model.stan', line 27, column 4 to column 83)\n\tException: multi_normal_lpdf: LDLT_Factor of covariance parameter is not positive definite.  last conditional variance is 3.55271e-015. (in 'D:/PYTHON~1/STAN~1/u_model.stan', line 27, column 4 to column 83)\n\tException: multi_normal_lpdf: LDLT_Factor of covariance parameter is not positive definite.  last conditional variance is -8.88178e-016. (in 'D:/PYTHON~1/STAN~1/u_model.stan', line 27, column 4 to column 83)\n\tException: multi_normal_lpdf: LDLT_Factor of covariance parameter is not positive definite.  last conditional variance is -1.77636e-015. (in 'D:/PYTHON~1/STAN~1/u_model.stan', line 27, column 4 to column 83)\n\tException: multi_normal_lpdf: LDLT_Factor of covariance parameter is not positive definite.  last conditional variance is -2.22045e-015. (in 'D:/PYTHON~1/STAN~1/u_model.stan', line 27, column 4 to column 83)\n\tException: multi_normal_lpdf: LDLT_Factor of covariance parameter is not positive definite.  last conditional variance is -8.88178e-016. (in 'D:/PYTHON~1/STAN~1/u_model.stan', line 27, column 4 to column 83)\n\tException: multi_normal_lpdf: LDLT_Factor of covariance parameter is not positive definite.  last conditional variance is -1.77636e-015. (in 'D:/PYTHON~1/STAN~1/u_model.stan', line 27, column 4 to column 83)\n\tException: multi_normal_lpdf: LDLT_Factor of covariance parameter is not positive definite.  last conditional variance is 3.41949e-014. (in 'D:/PYTHON~1/STAN~1/u_model.stan', line 27, column 4 to column 83)\n\tException: multi_normal_lpdf: LDLT_Factor of covariance parameter is not positive definite.  last conditional variance is 6.66134e-016. (in 'D:/PYTHON~1/STAN~1/u_model.stan', line 27, column 4 to column 83)\n\tException: multi_normal_lpdf: LDLT_Factor of covariance parameter is not positive definite.  last conditional variance is 8.88178e-016. (in 'D:/PYTHON~1/STAN~1/u_model.stan', line 27, column 4 to column 83)\n\tException: multi_normal_lpdf: LDLT_Factor of covariance parameter is not positive definite.  last conditional variance is 6.66134e-016. (in 'D:/PYTHON~1/STAN~1/u_model.stan', line 27, column 4 to column 83)\n\tException: multi_normal_lpdf: LDLT_Factor of covariance parameter is not positive definite.  last conditional variance is -2.66454e-015. (in 'D:/PYTHON~1/STAN~1/u_model.stan', line 27, column 4 to column 83)\n\tException: multi_normal_lpdf: LDLT_Factor of covariance parameter is not positive definite.  last conditional variance is 2.22045e-016. (in 'D:/PYTHON~1/STAN~1/u_model.stan', line 27, column 4 to column 83)\n\tException: multi_normal_lpdf: LDLT_Factor of covariance parameter is not positive definite.  last conditional variance is -1.77636e-015. (in 'D:/PYTHON~1/STAN~1/u_model.stan', line 27, column 4 to column 83)\n\tException: multi_normal_lpdf: LDLT_Factor of covariance parameter is not positive definite.  last conditional variance is -6.88338e-015. (in 'D:/PYTHON~1/STAN~1/u_model.stan', line 27, column 4 to column 83)\n\tException: multi_normal_lpdf: LDLT_Factor of covariance parameter is not positive definite.  last conditional variance is -9.10383e-015. (in 'D:/PYTHON~1/STAN~1/u_model.stan', line 27, column 4 to column 83)\nException: multi_normal_lpdf: LDLT_Factor of covariance parameter is not positive definite.  last conditional variance is -1.77636e-015. (in 'D:/PYTHON~1/STAN~1/u_model.stan', line 27, column 4 to column 83)\n\tException: multi_normal_lpdf: LDLT_Factor of covariance parameter is not positive definite.  last conditional variance is -4.44089e-016. (in 'D:/PYTHON~1/STAN~1/u_model.stan', line 27, column 4 to column 83)\n\tException: multi_normal_lpdf: LDLT_Factor of covariance parameter is not positive definite.  last conditional variance is 3.9968e-015. (in 'D:/PYTHON~1/STAN~1/u_model.stan', line 27, column 4 to column 83)\n\tException: multi_normal_lpdf: LDLT_Factor of covariance parameter is not positive definite.  last conditional variance is 2.22045e-015. (in 'D:/PYTHON~1/STAN~1/u_model.stan', line 27, column 4 to column 83)\n\tException: multi_normal_lpdf: LDLT_Factor of covariance parameter is not positive definite.  last conditional variance is -8.88178e-016. (in 'D:/PYTHON~1/STAN~1/u_model.stan', line 27, column 4 to column 83)\n\tException: multi_normal_lpdf: LDLT_Factor of covariance parameter is not positive definite.  last conditional variance is -4.44089e-016. (in 'D:/PYTHON~1/STAN~1/u_model.stan', line 27, column 4 to column 83)\n\tException: multi_normal_lpdf: LDLT_Factor of covariance parameter is not positive definite.  last conditional variance is 1.11022e-015. (in 'D:/PYTHON~1/STAN~1/u_model.stan', line 27, column 4 to column 83)\n\tException: multi_normal_lpdf: LDLT_Factor of covariance parameter is not positive definite.  last conditional variance is -1.84297e-014. (in 'D:/PYTHON~1/STAN~1/u_model.stan', line 27, column 4 to column 83)\n\tException: multi_normal_lpdf: LDLT_Factor of covariance parameter is not positive definite.  last conditional variance is 4.44089e-016. (in 'D:/PYTHON~1/STAN~1/u_model.stan', line 27, column 4 to column 83)\n\tException: multi_normal_lpdf: LDLT_Factor of covariance parameter is not positive definite.  last conditional variance is 1.33227e-015. (in 'D:/PYTHON~1/STAN~1/u_model.stan', line 27, column 4 to column 83)\n\tException: multi_normal_lpdf: LDLT_Factor of covariance parameter is not positive definite.  last conditional variance is 3.77476e-015. (in 'D:/PYTHON~1/STAN~1/u_model.stan', line 27, column 4 to column 83)\n\tException: multi_normal_lpdf: LDLT_Factor of covariance parameter is not positive definite.  last conditional variance is 0. (in 'D:/PYTHON~1/STAN~1/u_model.stan', line 27, column 4 to column 83)\n\tException: multi_normal_lpdf: LDLT_Factor of covariance parameter is not positive definite.  last conditional variance is 8.88178e-016. (in 'D:/PYTHON~1/STAN~1/u_model.stan', line 27, column 4 to column 83)\n\tException: multi_normal_lpdf: LDLT_Factor of covariance parameter is not positive definite.  last conditional variance is -2.22045e-016. (in 'D:/PYTHON~1/STAN~1/u_model.stan', line 27, column 4 to column 83)\n\tException: multi_normal_lpdf: LDLT_Factor of covariance parameter is not positive definite.  last conditional variance is 1.55431e-015. (in 'D:/PYTHON~1/STAN~1/u_model.stan', line 27, column 4 to column 83)\n\tException: multi_normal_lpdf: LDLT_Factor of covariance parameter is not positive definite.  last conditional variance is 2.66454e-015. (in 'D:/PYTHON~1/STAN~1/u_model.stan', line 27, column 4 to column 83)\n\tException: multi_normal_lpdf: LDLT_Factor of covariance parameter is not positive definite.  last conditional variance is 1.33227e-015. (in 'D:/PYTHON~1/STAN~1/u_model.stan', line 27, column 4 to column 83)\n\tException: multi_normal_lpdf: LDLT_Factor of covariance parameter is not positive definite.  last conditional variance is 4.66294e-015. (in 'D:/PYTHON~1/STAN~1/u_model.stan', line 27, column 4 to column 83)\n\tException: multi_normal_lpdf: LDLT_Factor of covariance parameter is not positive definite.  last conditional variance is 2.22045e-016. (in 'D:/PYTHON~1/STAN~1/u_model.stan', line 27, column 4 to column 83)\n\tException: multi_normal_lpdf: LDLT_Factor of covariance parameter is not positive definite.  last conditional variance is 2.22045e-016. (in 'D:/PYTHON~1/STAN~1/u_model.stan', line 27, column 4 to column 83)\n\tException: multi_normal_lpdf: LDLT_Factor of covariance parameter is not positive definite.  last conditional variance is -2.22045e-016. (in 'D:/PYTHON~1/STAN~1/u_model.stan', line 27, column 4 to column 83)\n\tException: multi_normal_lpdf: LDLT_Factor of covariance parameter is not positive definite.  last conditional variance is 0. (in 'D:/PYTHON~1/STAN~1/u_model.stan', line 27, column 4 to column 83)\n\tException: multi_normal_lpdf: LDLT_Factor of covariance parameter is not positive definite.  last conditional variance is -1.9984e-015. (in 'D:/PYTHON~1/STAN~1/u_model.stan', line 27, column 4 to column 83)\n\tException: multi_normal_lpdf: LDLT_Factor of covariance parameter is not positive definite.  last conditional variance is -1.11022e-015. (in 'D:/PYTHON~1/STAN~1/u_model.stan', line 27, column 4 to column 83)\n\tException: multi_normal_lpdf: LDLT_Factor of covariance parameter is not positive definite.  last conditional variance is 4.44089e-016. (in 'D:/PYTHON~1/STAN~1/u_model.stan', line 27, column 4 to column 83)\n\tException: multi_normal_lpdf: LDLT_Factor of covariance parameter is not positive definite.  last conditional variance is 1.33227e-015. (in 'D:/PYTHON~1/STAN~1/u_model.stan', line 27, column 4 to column 83)\n\tException: multi_normal_lpdf: LDLT_Factor of covariance parameter is not positive definite.  last conditional variance is -4.44089e-016. (in 'D:/PYTHON~1/STAN~1/u_model.stan', line 27, column 4 to column 83)\n\tException: multi_normal_lpdf: LDLT_Factor of covariance parameter is not positive definite.  last conditional variance is 3.77476e-015. (in 'D:/PYTHON~1/STAN~1/u_model.stan', line 27, column 4 to column 83)\n\tException: multi_normal_lpdf: LDLT_Factor of covariance parameter is not positive definite.  last conditional variance is 0. (in 'D:/PYTHON~1/STAN~1/u_model.stan', line 27, column 4 to column 83)\n\tException: multi_normal_lpdf: LDLT_Factor of covariance parameter is not positive definite.  last conditional variance is 6.66134e-016. (in 'D:/PYTHON~1/STAN~1/u_model.stan', line 27, column 4 to column 83)\n\tException: multi_normal_lpdf: LDLT_Factor of covariance parameter is not positive definite.  last conditional variance is 2.22045e-016. (in 'D:/PYTHON~1/STAN~1/u_model.stan', line 27, column 4 to column 83)\n\tException: multi_normal_lpdf: LDLT_Factor of covariance parameter is not positive definite.  last conditional variance is -2.22045e-016. (in 'D:/PYTHON~1/STAN~1/u_model.stan', line 27, column 4 to column 83)\n\tException: multi_normal_lpdf: LDLT_Factor of covariance parameter is not positive definite.  last conditional variance is 4.44089e-016. (in 'D:/PYTHON~1/STAN~1/u_model.stan', line 27, column 4 to column 83)\n\tException: multi_normal_lpdf: LDLT_Factor of covariance parameter is not positive definite.  last conditional variance is -6.66134e-016. (in 'D:/PYTHON~1/STAN~1/u_model.stan', line 27, column 4 to column 83)\n\tException: multi_normal_lpdf: LDLT_Factor of covariance parameter is not positive definite.  last conditional variance is 3.33067e-015. (in 'D:/PYTHON~1/STAN~1/u_model.stan', line 27, column 4 to column 83)\n\tException: multi_normal_lpdf: LDLT_Factor of covariance parameter is not positive definite.  last conditional variance is 4.21885e-015. (in 'D:/PYTHON~1/STAN~1/u_model.stan', line 27, column 4 to column 83)\n\tException: multi_normal_lpdf: LDLT_Factor of covariance parameter is not positive definite.  last conditional variance is -1.9984e-015. (in 'D:/PYTHON~1/STAN~1/u_model.stan', line 27, column 4 to column 83)\n\tException: multi_normal_lpdf: LDLT_Factor of covariance parameter is not positive definite.  last conditional variance is -2.22045e-016. (in 'D:/PYTHON~1/STAN~1/u_model.stan', line 27, column 4 to column 83)\n\tException: multi_normal_lpdf: LDLT_Factor of covariance parameter is not positive definite.  last conditional variance is -8.88178e-016. (in 'D:/PYTHON~1/STAN~1/u_model.stan', line 27, column 4 to column 83)\n\tException: multi_normal_lpdf: LDLT_Factor of covariance parameter is not positive definite.  last conditional variance is -1.33227e-015. (in 'D:/PYTHON~1/STAN~1/u_model.stan', line 27, column 4 to column 83)\n\tException: multi_normal_lpdf: LDLT_Factor of covariance parameter is not positive definite.  last conditional variance is -4.44089e-016. (in 'D:/PYTHON~1/STAN~1/u_model.stan', line 27, column 4 to column 83)\n\tException: multi_normal_lpdf: LDLT_Factor of covariance parameter is not positive definite.  last conditional variance is -1.55431e-015. (in 'D:/PYTHON~1/STAN~1/u_model.stan', line 27, column 4 to column 83)\n\tException: multi_normal_lpdf: LDLT_Factor of covariance parameter is not positive definite.  last conditional variance is -2.22045e-015. (in 'D:/PYTHON~1/STAN~1/u_model.stan', line 27, column 4 to column 83)\n\tException: multi_normal_lpdf: LDLT_Factor of covariance parameter is not positive definite.  last conditional variance is 6.66134e-016. (in 'D:/PYTHON~1/STAN~1/u_model.stan', line 27, column 4 to column 83)\n\tException: multi_normal_lpdf: LDLT_Factor of covariance parameter is not positive definite.  last conditional variance is -4.44089e-016. (in 'D:/PYTHON~1/STAN~1/u_model.stan', line 27, column 4 to column 83)\n\tException: multi_normal_lpdf: LDLT_Factor of covariance parameter is not positive definite.  last conditional variance is 6.66134e-016. (in 'D:/PYTHON~1/STAN~1/u_model.stan', line 27, column 4 to column 83)\n\tException: multi_normal_lpdf: LDLT_Factor of covariance parameter is not positive definite.  last conditional variance is 0. (in 'D:/PYTHON~1/STAN~1/u_model.stan', line 27, column 4 to column 83)\n\tException: multi_normal_lpdf: LDLT_Factor of covariance parameter is not positive definite.  last conditional variance is -1.75415e-014. (in 'D:/PYTHON~1/STAN~1/u_model.stan', line 27, column 4 to column 83)\n\tException: multi_normal_lpdf: LDLT_Factor of covariance parameter is not positive definite.  last conditional variance is 2.22045e-016. (in 'D:/PYTHON~1/STAN~1/u_model.stan', line 27, column 4 to column 83)\n\tException: multi_normal_lpdf: LDLT_Factor of covariance parameter is not positive definite.  last conditional variance is 3.9968e-015. (in 'D:/PYTHON~1/STAN~1/u_model.stan', line 27, column 4 to column 83)\n\tException: multi_normal_lpdf: LDLT_Factor of covariance parameter is not positive definite.  last conditional variance is -1.11022e-015. (in 'D:/PYTHON~1/STAN~1/u_model.stan', line 27, column 4 to column 83)\n\tException: multi_normal_lpdf: LDLT_Factor of covariance parameter is not positive definite.  last conditional variance is 1.33227e-015. (in 'D:/PYTHON~1/STAN~1/u_model.stan', line 27, column 4 to column 83)\n\tException: multi_normal_lpdf: LDLT_Factor of covariance parameter is not positive definite.  last conditional variance is 1.9984e-015. (in 'D:/PYTHON~1/STAN~1/u_model.stan', line 27, column 4 to column 83)\n\tException: multi_normal_lpdf: LDLT_Factor of covariance parameter is not positive definite.  last conditional variance is 2.22045e-016. (in 'D:/PYTHON~1/STAN~1/u_model.stan', line 27, column 4 to column 83)\n\tException: multi_normal_lpdf: LDLT_Factor of covariance parameter is not positive definite.  last conditional variance is 1.11022e-015. (in 'D:/PYTHON~1/STAN~1/u_model.stan', line 27, column 4 to column 83)\n\tException: multi_normal_lpdf: LDLT_Factor of covariance parameter is not positive definite.  last conditional variance is -2.22045e-015. (in 'D:/PYTHON~1/STAN~1/u_model.stan', line 27, column 4 to column 83)\n\tException: multi_normal_lpdf: LDLT_Factor of covariance parameter is not positive definite.  last conditional variance is -1.11022e-015. (in 'D:/PYTHON~1/STAN~1/u_model.stan', line 27, column 4 to column 83)\n\tException: multi_normal_lpdf: LDLT_Factor of covariance parameter is not positive definite.  last conditional variance is 1.33227e-015. (in 'D:/PYTHON~1/STAN~1/u_model.stan', line 27, column 4 to column 83)\n\tException: multi_normal_lpdf: LDLT_Factor of covariance parameter is not positive definite.  last conditional variance is -1.11022e-015. (in 'D:/PYTHON~1/STAN~1/u_model.stan', line 27, column 4 to column 83)\n\tException: multi_normal_lpdf: LDLT_Factor of covariance parameter is not positive definite.  last conditional variance is 2.22045e-016. (in 'D:/PYTHON~1/STAN~1/u_model.stan', line 27, column 4 to column 83)\n\tException: multi_normal_lpdf: LDLT_Factor of covariance parameter is not positive definite.  last conditional variance is -1.55431e-015. (in 'D:/PYTHON~1/STAN~1/u_model.stan', line 27, column 4 to column 83)\n\tException: multi_normal_lpdf: LDLT_Factor of covariance parameter is not positive definite.  last conditional variance is 1.33227e-015. (in 'D:/PYTHON~1/STAN~1/u_model.stan', line 27, column 4 to column 83)\n\tException: multi_normal_lpdf: LDLT_Factor of covariance parameter is not positive definite.  last conditional variance is 0. (in 'D:/PYTHON~1/STAN~1/u_model.stan', line 27, column 4 to column 83)\n\tException: multi_normal_lpdf: LDLT_Factor of covariance parameter is not positive definite.  last conditional variance is -4.66294e-015. (in 'D:/PYTHON~1/STAN~1/u_model.stan', line 27, column 4 to column 83)\n\tException: multi_normal_lpdf: LDLT_Factor of covariance parameter is not positive definite.  last conditional variance is 4.44089e-016. (in 'D:/PYTHON~1/STAN~1/u_model.stan', line 27, column 4 to column 83)\n\tException: multi_normal_lpdf: LDLT_Factor of covariance parameter is not positive definite.  last conditional variance is 2.22045e-016. (in 'D:/PYTHON~1/STAN~1/u_model.stan', line 27, column 4 to column 83)\n\tException: multi_normal_lpdf: LDLT_Factor of covariance parameter is not positive definite.  last conditional variance is -8.88178e-016. (in 'D:/PYTHON~1/STAN~1/u_model.stan', line 27, column 4 to column 83)\n\tException: multi_normal_lpdf: LDLT_Factor of covariance parameter is not positive definite.  last conditional variance is -2.22045e-015. (in 'D:/PYTHON~1/STAN~1/u_model.stan', line 27, column 4 to column 83)\n\tException: multi_normal_lpdf: LDLT_Factor of covariance parameter is not positive definite.  last conditional variance is 2.22045e-015. (in 'D:/PYTHON~1/STAN~1/u_model.stan', line 27, column 4 to column 83)\n\tException: multi_normal_lpdf: LDLT_Factor of covariance parameter is not positive definite.  last conditional variance is -4.44089e-016. (in 'D:/PYTHON~1/STAN~1/u_model.stan', line 27, column 4 to column 83)\n\tException: multi_normal_lpdf: LDLT_Factor of covariance parameter is not positive definite.  last conditional variance is 4.44089e-016. (in 'D:/PYTHON~1/STAN~1/u_model.stan', line 27, column 4 to column 83)\n\tException: multi_normal_lpdf: LDLT_Factor of covariance parameter is not positive definite.  last conditional variance is 2.66454e-015. (in 'D:/PYTHON~1/STAN~1/u_model.stan', line 27, column 4 to column 83)\n\tException: multi_normal_lpdf: LDLT_Factor of covariance parameter is not positive definite.  last conditional variance is 6.66134e-016. (in 'D:/PYTHON~1/STAN~1/u_model.stan', line 27, column 4 to column 83)\n\tException: multi_normal_lpdf: LDLT_Factor of covariance parameter is not positive definite.  last conditional variance is 8.88178e-016. (in 'D:/PYTHON~1/STAN~1/u_model.stan', line 27, column 4 to column 83)\n\tException: multi_normal_lpdf: LDLT_Factor of covariance parameter is not positive definite.  last conditional variance is 1.11022e-015. (in 'D:/PYTHON~1/STAN~1/u_model.stan', line 27, column 4 to column 83)\n\tException: multi_normal_lpdf: LDLT_Factor of covariance parameter is not positive definite.  last conditional variance is -2.88658e-015. (in 'D:/PYTHON~1/STAN~1/u_model.stan', line 27, column 4 to column 83)\n\tException: multi_normal_lpdf: LDLT_Factor of covariance parameter is not positive definite.  last conditional variance is 0. (in 'D:/PYTHON~1/STAN~1/u_model.stan', line 27, column 4 to column 83)\n\tException: multi_normal_lpdf: LDLT_Factor of covariance parameter is not positive definite.  last conditional variance is -4.44089e-016. (in 'D:/PYTHON~1/STAN~1/u_model.stan', line 27, column 4 to column 83)\n\tException: multi_normal_lpdf: LDLT_Factor of covariance parameter is not positive definite.  last conditional variance is 1.11022e-015. (in 'D:/PYTHON~1/STAN~1/u_model.stan', line 27, column 4 to column 83)\n\tException: multi_normal_lpdf: LDLT_Factor of covariance parameter is not positive definite.  last conditional variance is -8.88178e-016. (in 'D:/PYTHON~1/STAN~1/u_model.stan', line 27, column 4 to column 83)\n\tException: multi_normal_lpdf: LDLT_Factor of covariance parameter is not positive definite.  last conditional variance is 1.11022e-015. (in 'D:/PYTHON~1/STAN~1/u_model.stan', line 27, column 4 to column 83)\n\tException: multi_normal_lpdf: LDLT_Factor of covariance parameter is not positive definite.  last conditional variance is -6.66134e-016. (in 'D:/PYTHON~1/STAN~1/u_model.stan', line 27, column 4 to column 83)\n\tException: multi_normal_lpdf: LDLT_Factor of covariance parameter is not positive definite.  last conditional variance is 6.66134e-016. (in 'D:/PYTHON~1/STAN~1/u_model.stan', line 27, column 4 to column 83)\n\tException: multi_normal_lpdf: LDLT_Factor of covariance parameter is not positive definite.  last conditional variance is -2.22045e-015. (in 'D:/PYTHON~1/STAN~1/u_model.stan', line 27, column 4 to column 83)\n\tException: multi_normal_lpdf: LDLT_Factor of covariance parameter is not positive definite.  last conditional variance is -8.88178e-016. (in 'D:/PYTHON~1/STAN~1/u_model.stan', line 27, column 4 to column 83)\n\tException: multi_normal_lpdf: LDLT_Factor of covariance parameter is not positive definite.  last conditional variance is 1.55431e-015. (in 'D:/PYTHON~1/STAN~1/u_model.stan', line 27, column 4 to column 83)\n\tException: multi_normal_lpdf: LDLT_Factor of covariance parameter is not positive definite.  last conditional variance is 3.10862e-015. (in 'D:/PYTHON~1/STAN~1/u_model.stan', line 27, column 4 to column 83)\n\tException: multi_normal_lpdf: LDLT_Factor of covariance parameter is not positive definite.  last conditional variance is 2.22045e-016. (in 'D:/PYTHON~1/STAN~1/u_model.stan', line 27, column 4 to column 83)\n\tException: multi_normal_lpdf: LDLT_Factor of covariance parameter is not positive definite.  last conditional variance is 2.22045e-016. (in 'D:/PYTHON~1/STAN~1/u_model.stan', line 27, column 4 to column 83)\n\tException: multi_normal_lpdf: LDLT_Factor of covariance parameter is not positive definite.  last conditional variance is -1.9984e-015. (in 'D:/PYTHON~1/STAN~1/u_model.stan', line 27, column 4 to column 83)\n\tException: multi_normal_lpdf: LDLT_Factor of covariance parameter is not positive definite.  last conditional variance is -1.55431e-015. (in 'D:/PYTHON~1/STAN~1/u_model.stan', line 27, column 4 to column 83)\n\tException: multi_normal_lpdf: LDLT_Factor of covariance parameter is not positive definite.  last conditional variance is 6.66134e-016. (in 'D:/PYTHON~1/STAN~1/u_model.stan', line 27, column 4 to column 83)\n\tException: multi_normal_lpdf: LDLT_Factor of covariance parameter is not positive definite.  last conditional variance is 1.11022e-015. (in 'D:/PYTHON~1/STAN~1/u_model.stan', line 27, column 4 to column 83)\n\tException: multi_normal_lpdf: LDLT_Factor of covariance parameter is not positive definite.  last conditional variance is 1.55431e-015. (in 'D:/PYTHON~1/STAN~1/u_model.stan', line 27, column 4 to column 83)\n\tException: multi_normal_lpdf: LDLT_Factor of covariance parameter is not positive definite.  last conditional variance is 3.10862e-015. (in 'D:/PYTHON~1/STAN~1/u_model.stan', line 27, column 4 to column 83)\n\tException: multi_normal_lpdf: LDLT_Factor of covariance parameter is not positive definite.  last conditional variance is 1.77636e-015. (in 'D:/PYTHON~1/STAN~1/u_model.stan', line 27, column 4 to column 83)\n\tException: multi_normal_lpdf: LDLT_Factor of covariance parameter is not positive definite.  last conditional variance is -4.44089e-016. (in 'D:/PYTHON~1/STAN~1/u_model.stan', line 27, column 4 to column 83)\n\tException: multi_normal_lpdf: LDLT_Factor of covariance parameter is not positive definite.  last conditional variance is -1.55431e-015. (in 'D:/PYTHON~1/STAN~1/u_model.stan', line 27, column 4 to column 83)\n\tException: multi_normal_lpdf: LDLT_Factor of covariance parameter is not positive definite.  last conditional variance is -6.66134e-016. (in 'D:/PYTHON~1/STAN~1/u_model.stan', line 27, column 4 to column 83)\n\tException: multi_normal_lpdf: LDLT_Factor of covariance parameter is not positive definite.  last conditional variance is -1.33227e-015. (in 'D:/PYTHON~1/STAN~1/u_model.stan', line 27, column 4 to column 83)\nCommand and output files:\nRunSet: chains=4, chain_ids=[1, 2, 3, 4], num_processes=4\n cmd (chain 1):\n\t['D:\\\\Python Files\\\\.stan\\\\u_model.exe', 'id=1', 'random', 'seed=73172', 'data', 'file=C:\\\\Users\\\\biraj\\\\AppData\\\\Local\\\\Temp\\\\tmp644n0d8y\\\\wszsgpwf.json', 'output', 'file=C:\\\\Users\\\\biraj\\\\AppData\\\\Local\\\\Temp\\\\tmp644n0d8y\\\\u_modeln3awkzq2\\\\u_model-20221110153840_1.csv', 'method=sample', 'algorithm=hmc', 'adapt', 'engaged=1']\n retcodes=[1, 1, 1, 1]\n per-chain output files (showing chain 1 only):\n csv_file:\n\tC:\\Users\\biraj\\AppData\\Local\\Temp\\tmp644n0d8y\\u_modeln3awkzq2\\u_model-20221110153840_1.csv\n console_msgs (if any):\n\tC:\\Users\\biraj\\AppData\\Local\\Temp\\tmp644n0d8y\\u_modeln3awkzq2\\u_model-20221110153840_0-stdout.txt\nConsider re-running with show_console=True if the above output is unclear!"
     ]
    }
   ],
   "source": [
    "update_u(mu = np.random.normal(size = 50), x = np.random.normal(size = 50), c_0 = 1, offset = 0.5, p = 3)"
   ]
  },
  {
   "cell_type": "code",
   "execution_count": 158,
   "id": "51577242",
   "metadata": {},
   "outputs": [],
   "source": [
    "def update_all(n_iter, y, x, c_0, offset, p):\n",
    "    n = len(x)\n",
    "    # initializing\n",
    "    u = np.random.uniform(size = n)\n",
    "    \n",
    "    mu_mat = []\n",
    "    u_mat = []\n",
    "    \n",
    "    # iteration\n",
    "    for j in range(n_iter):\n",
    "        mu = update_mu(y, x, u, c_0, offset)\n",
    "        u = update_u(mu, x, c_0, offset, p)\n",
    "        # storing all draws\n",
    "        mu_mat = mu_mat + [mu]\n",
    "        u_mat = u_mat + [u]\n",
    "    return {'mu_mat':mu_mat, 'u_mat':u_mat}"
   ]
  },
  {
   "cell_type": "code",
   "execution_count": 159,
   "id": "cb78b87d",
   "metadata": {},
   "outputs": [],
   "source": [
    "x = np.random.normal(scale = 1, size = n)\n",
    "u_true = np.ones(n)/3\n",
    "y = f_true(x, u_true)"
   ]
  },
  {
   "cell_type": "code",
   "execution_count": 160,
   "id": "d6fb8ee4",
   "metadata": {},
   "outputs": [
    {
     "name": "stderr",
     "output_type": "stream",
     "text": [
      "C:\\Users\\biraj\\AppData\\Local\\Temp\\ipykernel_215132\\2242004715.py:6: RuntimeWarning: covariance is not positive-semidefinite.\n",
      "  mu = np.random.multivariate_normal(mean = np.matmul(cov, y), cov = cov)\n",
      "13:49:20 - cmdstanpy - INFO - CmdStan start processing\n"
     ]
    },
    {
     "data": {
      "application/vnd.jupyter.widget-view+json": {
       "model_id": "08d24b8cfd8f4d689a276d3b3c4109f9",
       "version_major": 2,
       "version_minor": 0
      },
      "text/plain": [
       "chain 1 |          | 00:00 Status"
      ]
     },
     "metadata": {},
     "output_type": "display_data"
    },
    {
     "data": {
      "application/vnd.jupyter.widget-view+json": {
       "model_id": "dee6f5ee83434997a497c25d04c92219",
       "version_major": 2,
       "version_minor": 0
      },
      "text/plain": [
       "chain 2 |          | 00:00 Status"
      ]
     },
     "metadata": {},
     "output_type": "display_data"
    },
    {
     "data": {
      "application/vnd.jupyter.widget-view+json": {
       "model_id": "2d2bd5c72b714beeb3c2ef4c1e0b1b2d",
       "version_major": 2,
       "version_minor": 0
      },
      "text/plain": [
       "chain 3 |          | 00:00 Status"
      ]
     },
     "metadata": {},
     "output_type": "display_data"
    },
    {
     "data": {
      "application/vnd.jupyter.widget-view+json": {
       "model_id": "40dad4850aa94465838f83ea9eba75bb",
       "version_major": 2,
       "version_minor": 0
      },
      "text/plain": [
       "chain 4 |          | 00:00 Status"
      ]
     },
     "metadata": {},
     "output_type": "display_data"
    },
    {
     "name": "stderr",
     "output_type": "stream",
     "text": [
      "13:49:20 - cmdstanpy - ERROR - Chain [4] error: error during processing Operation not permitted\n",
      "13:49:20 - cmdstanpy - ERROR - Chain [3] error: error during processing Operation not permitted\n",
      "13:49:20 - cmdstanpy - ERROR - Chain [2] error: error during processing Operation not permitted\n",
      "13:49:20 - cmdstanpy - ERROR - Chain [1] error: error during processing Operation not permitted\n"
     ]
    },
    {
     "name": "stdout",
     "output_type": "stream",
     "text": [
      "                                                                                                                                                                                                                                                                                                                                "
     ]
    },
    {
     "name": "stderr",
     "output_type": "stream",
     "text": [
      "13:49:20 - cmdstanpy - INFO - CmdStan done processing.\n"
     ]
    },
    {
     "name": "stdout",
     "output_type": "stream",
     "text": [
      "\n"
     ]
    },
    {
     "ename": "RuntimeError",
     "evalue": "Error during sampling:\nException: multi_normal_lpdf: LDLT_Factor of covariance parameter is not positive definite.  last conditional variance is 2.88658e-015. (in 'D:/PYTHON~1/STAN~1/u_model.stan', line 27, column 4 to column 83)\n\tException: multi_normal_lpdf: LDLT_Factor of covariance parameter is not positive definite.  last conditional variance is 2.88658e-015. (in 'D:/PYTHON~1/STAN~1/u_model.stan', line 27, column 4 to column 83)\n\tException: multi_normal_lpdf: LDLT_Factor of covariance parameter is not positive definite.  last conditional variance is 1.11022e-015. (in 'D:/PYTHON~1/STAN~1/u_model.stan', line 27, column 4 to column 83)\n\tException: multi_normal_lpdf: LDLT_Factor of covariance parameter is not positive definite.  last conditional variance is -8.88178e-016. (in 'D:/PYTHON~1/STAN~1/u_model.stan', line 27, column 4 to column 83)\n\tException: multi_normal_lpdf: LDLT_Factor of covariance parameter is not positive definite.  last conditional variance is -3.55271e-015. (in 'D:/PYTHON~1/STAN~1/u_model.stan', line 27, column 4 to column 83)\n\tException: multi_normal_lpdf: LDLT_Factor of covariance parameter is not positive definite.  last conditional variance is -8.88178e-016. (in 'D:/PYTHON~1/STAN~1/u_model.stan', line 27, column 4 to column 83)\n\tException: multi_normal_lpdf: LDLT_Factor of covariance parameter is not positive definite.  last conditional variance is -2.44249e-015. (in 'D:/PYTHON~1/STAN~1/u_model.stan', line 27, column 4 to column 83)\n\tException: multi_normal_lpdf: LDLT_Factor of covariance parameter is not positive definite.  last conditional variance is 6.66134e-016. (in 'D:/PYTHON~1/STAN~1/u_model.stan', line 27, column 4 to column 83)\n\tException: multi_normal_lpdf: LDLT_Factor of covariance parameter is not positive definite.  last conditional variance is 1.77636e-015. (in 'D:/PYTHON~1/STAN~1/u_model.stan', line 27, column 4 to column 83)\n\tException: multi_normal_lpdf: LDLT_Factor of covariance parameter is not positive definite.  last conditional variance is -2.88658e-015. (in 'D:/PYTHON~1/STAN~1/u_model.stan', line 27, column 4 to column 83)\n\tException: multi_normal_lpdf: LDLT_Factor of covariance parameter is not positive definite.  last conditional variance is -1.77636e-015. (in 'D:/PYTHON~1/STAN~1/u_model.stan', line 27, column 4 to column 83)\n\tException: multi_normal_lpdf: LDLT_Factor of covariance parameter is not positive definite.  last conditional variance is 3.33067e-015. (in 'D:/PYTHON~1/STAN~1/u_model.stan', line 27, column 4 to column 83)\n\tException: multi_normal_lpdf: LDLT_Factor of covariance parameter is not positive definite.  last conditional variance is -3.10862e-015. (in 'D:/PYTHON~1/STAN~1/u_model.stan', line 27, column 4 to column 83)\n\tException: multi_normal_lpdf: LDLT_Factor of covariance parameter is not positive definite.  last conditional variance is -1.33227e-015. (in 'D:/PYTHON~1/STAN~1/u_model.stan', line 27, column 4 to column 83)\n\tException: multi_normal_lpdf: LDLT_Factor of covariance parameter is not positive definite.  last conditional variance is -1.55431e-015. (in 'D:/PYTHON~1/STAN~1/u_model.stan', line 27, column 4 to column 83)\n\tException: multi_normal_lpdf: LDLT_Factor of covariance parameter is not positive definite.  last conditional variance is 1.33227e-015. (in 'D:/PYTHON~1/STAN~1/u_model.stan', line 27, column 4 to column 83)\n\tException: multi_normal_lpdf: LDLT_Factor of covariance parameter is not positive definite.  last conditional variance is 2.22045e-016. (in 'D:/PYTHON~1/STAN~1/u_model.stan', line 27, column 4 to column 83)\n\tException: multi_normal_lpdf: LDLT_Factor of covariance parameter is not positive definite.  last conditional variance is -1.33227e-015. (in 'D:/PYTHON~1/STAN~1/u_model.stan', line 27, column 4 to column 83)\n\tException: multi_normal_lpdf: LDLT_Factor of covariance parameter is not positive definite.  last conditional variance is -4.44089e-016. (in 'D:/PYTHON~1/STAN~1/u_model.stan', line 27, column 4 to column 83)\n\tException: multi_normal_lpdf: LDLT_Factor of covariance parameter is not positive definite.  last conditional variance is 8.88178e-016. (in 'D:/PYTHON~1/STAN~1/u_model.stan', line 27, column 4 to column 83)\n\tException: multi_normal_lpdf: LDLT_Factor of covariance parameter is not positive definite.  last conditional variance is 8.88178e-016. (in 'D:/PYTHON~1/STAN~1/u_model.stan', line 27, column 4 to column 83)\n\tException: multi_normal_lpdf: LDLT_Factor of covariance parameter is not positive definite.  last conditional variance is -1.77636e-015. (in 'D:/PYTHON~1/STAN~1/u_model.stan', line 27, column 4 to column 83)\n\tException: multi_normal_lpdf: LDLT_Factor of covariance parameter is not positive definite.  last conditional variance is -2.44249e-015. (in 'D:/PYTHON~1/STAN~1/u_model.stan', line 27, column 4 to column 83)\n\tException: multi_normal_lpdf: LDLT_Factor of covariance parameter is not positive definite.  last conditional variance is 2.44249e-015. (in 'D:/PYTHON~1/STAN~1/u_model.stan', line 27, column 4 to column 83)\n\tException: multi_normal_lpdf: LDLT_Factor of covariance parameter is not positive definite.  last conditional variance is -1.9984e-015. (in 'D:/PYTHON~1/STAN~1/u_model.stan', line 27, column 4 to column 83)\n\tException: multi_normal_lpdf: LDLT_Factor of covariance parameter is not positive definite.  last conditional variance is 0. (in 'D:/PYTHON~1/STAN~1/u_model.stan', line 27, column 4 to column 83)\n\tException: multi_normal_lpdf: LDLT_Factor of covariance parameter is not positive definite.  last conditional variance is -1.11022e-015. (in 'D:/PYTHON~1/STAN~1/u_model.stan', line 27, column 4 to column 83)\n\tException: multi_normal_lpdf: LDLT_Factor of covariance parameter is not positive definite.  last conditional variance is 8.88178e-016. (in 'D:/PYTHON~1/STAN~1/u_model.stan', line 27, column 4 to column 83)\n\tException: multi_normal_lpdf: LDLT_Factor of covariance parameter is not positive definite.  last conditional variance is 6.88338e-015. (in 'D:/PYTHON~1/STAN~1/u_model.stan', line 27, column 4 to column 83)\n\tException: multi_normal_lpdf: LDLT_Factor of covariance parameter is not positive definite.  last conditional variance is 3.9968e-015. (in 'D:/PYTHON~1/STAN~1/u_model.stan', line 27, column 4 to column 83)\n\tException: multi_normal_lpdf: LDLT_Factor of covariance parameter is not positive definite.  last conditional variance is -5.55112e-015. (in 'D:/PYTHON~1/STAN~1/u_model.stan', line 27, column 4 to column 83)\n\tException: multi_normal_lpdf: LDLT_Factor of covariance parameter is not positive definite.  last conditional variance is 8.88178e-016. (in 'D:/PYTHON~1/STAN~1/u_model.stan', line 27, column 4 to column 83)\n\tException: multi_normal_lpdf: LDLT_Factor of covariance parameter is not positive definite.  last conditional variance is -4.44089e-016. (in 'D:/PYTHON~1/STAN~1/u_model.stan', line 27, column 4 to column 83)\n\tException: multi_normal_lpdf: LDLT_Factor of covariance parameter is not positive definite.  last conditional variance is -2.88658e-015. (in 'D:/PYTHON~1/STAN~1/u_model.stan', line 27, column 4 to column 83)\n\tException: multi_normal_lpdf: LDLT_Factor of covariance parameter is not positive definite.  last conditional variance is -6.66134e-016. (in 'D:/PYTHON~1/STAN~1/u_model.stan', line 27, column 4 to column 83)\n\tException: multi_normal_lpdf: LDLT_Factor of covariance parameter is not positive definite.  last conditional variance is 1.33227e-015. (in 'D:/PYTHON~1/STAN~1/u_model.stan', line 27, column 4 to column 83)\n\tException: multi_normal_lpdf: LDLT_Factor of covariance parameter is not positive definite.  last conditional variance is 0. (in 'D:/PYTHON~1/STAN~1/u_model.stan', line 27, column 4 to column 83)\n\tException: multi_normal_lpdf: LDLT_Factor of covariance parameter is not positive definite.  last conditional variance is -1.33227e-015. (in 'D:/PYTHON~1/STAN~1/u_model.stan', line 27, column 4 to column 83)\n\tException: multi_normal_lpdf: LDLT_Factor of covariance parameter is not positive definite.  last conditional variance is 8.88178e-016. (in 'D:/PYTHON~1/STAN~1/u_model.stan', line 27, column 4 to column 83)\n\tException: multi_normal_lpdf: LDLT_Factor of covariance parameter is not positive definite.  last conditional variance is -2.55351e-014. (in 'D:/PYTHON~1/STAN~1/u_model.stan', line 27, column 4 to column 83)\n\tException: multi_normal_lpdf: LDLT_Factor of covariance parameter is not positive definite.  last conditional variance is -4.66294e-015. (in 'D:/PYTHON~1/STAN~1/u_model.stan', line 27, column 4 to column 83)\n\tException: multi_normal_lpdf: LDLT_Factor of covariance parameter is not positive definite.  last conditional variance is -2.22045e-015. (in 'D:/PYTHON~1/STAN~1/u_model.stan', line 27, column 4 to column 83)\n\tException: multi_normal_lpdf: LDLT_Factor of covariance parameter is not positive definite.  last conditional variance is 0. (in 'D:/PYTHON~1/STAN~1/u_model.stan', line 27, column 4 to column 83)\n\tException: multi_normal_lpdf: LDLT_Factor of covariance parameter is not positive definite.  last conditional variance is -1.33227e-015. (in 'D:/PYTHON~1/STAN~1/u_model.stan', line 27, column 4 to column 83)\n\tException: multi_normal_lpdf: LDLT_Factor of covariance parameter is not positive definite.  last conditional variance is 6.66134e-016. (in 'D:/PYTHON~1/STAN~1/u_model.stan', line 27, column 4 to column 83)\n\tException: multi_normal_lpdf: LDLT_Factor of covariance parameter is not positive definite.  last conditional variance is -8.88178e-016. (in 'D:/PYTHON~1/STAN~1/u_model.stan', line 27, column 4 to column 83)\n\tException: multi_normal_lpdf: LDLT_Factor of covariance parameter is not positive definite.  last conditional variance is 2.22045e-015. (in 'D:/PYTHON~1/STAN~1/u_model.stan', line 27, column 4 to column 83)\n\tException: multi_normal_lpdf: LDLT_Factor of covariance parameter is not positive definite.  last conditional variance is -8.88178e-016. (in 'D:/PYTHON~1/STAN~1/u_model.stan', line 27, column 4 to column 83)\n\tException: multi_normal_lpdf: LDLT_Factor of covariance parameter is not positive definite.  last conditional variance is -4.44089e-016. (in 'D:/PYTHON~1/STAN~1/u_model.stan', line 27, column 4 to column 83)\n\tException: multi_normal_lpdf: LDLT_Factor of covariance parameter is not positive definite.  last conditional variance is 1.33227e-015. (in 'D:/PYTHON~1/STAN~1/u_model.stan', line 27, column 4 to column 83)\n\tException: multi_normal_lpdf: LDLT_Factor of covariance parameter is not positive definite.  last conditional variance is -3.33067e-015. (in 'D:/PYTHON~1/STAN~1/u_model.stan', line 27, column 4 to column 83)\n\tException: multi_normal_lpdf: LDLT_Factor of covariance parameter is not positive definite.  last conditional variance is 1.33227e-015. (in 'D:/PYTHON~1/STAN~1/u_model.stan', line 27, column 4 to column 83)\n\tException: multi_normal_lpdf: LDLT_Factor of covariance parameter is not positive definite.  last conditional variance is -6.21725e-015. (in 'D:/PYTHON~1/STAN~1/u_model.stan', line 27, column 4 to column 83)\n\tException: multi_normal_lpdf: LDLT_Factor of covariance parameter is not positive definite.  last conditional variance is 4.44089e-016. (in 'D:/PYTHON~1/STAN~1/u_model.stan', line 27, column 4 to column 83)\n\tException: multi_normal_lpdf: LDLT_Factor of covariance parameter is not positive definite.  last conditional variance is -3.77476e-015. (in 'D:/PYTHON~1/STAN~1/u_model.stan', line 27, column 4 to column 83)\n\tException: multi_normal_lpdf: LDLT_Factor of covariance parameter is not positive definite.  last conditional variance is 0. (in 'D:/PYTHON~1/STAN~1/u_model.stan', line 27, column 4 to column 83)\n\tException: multi_normal_lpdf: LDLT_Factor of covariance parameter is not positive definite.  last conditional variance is 1.77636e-015. (in 'D:/PYTHON~1/STAN~1/u_model.stan', line 27, column 4 to column 83)\n\tException: multi_normal_lpdf: LDLT_Factor of covariance parameter is not positive definite.  last conditional variance is -6.66134e-016. (in 'D:/PYTHON~1/STAN~1/u_model.stan', line 27, column 4 to column 83)\n\tException: multi_normal_lpdf: LDLT_Factor of covariance parameter is not positive definite.  last conditional variance is 8.88178e-016. (in 'D:/PYTHON~1/STAN~1/u_model.stan', line 27, column 4 to column 83)\n\tException: multi_normal_lpdf: LDLT_Factor of covariance parameter is not positive definite.  last conditional variance is 2.44249e-015. (in 'D:/PYTHON~1/STAN~1/u_model.stan', line 27, column 4 to column 83)\n\tException: multi_normal_lpdf: LDLT_Factor of covariance parameter is not positive definite.  last conditional variance is -2.22045e-016. (in 'D:/PYTHON~1/STAN~1/u_model.stan', line 27, column 4 to column 83)\n\tException: multi_normal_lpdf: LDLT_Factor of covariance parameter is not positive definite.  last conditional variance is -2.22045e-016. (in 'D:/PYTHON~1/STAN~1/u_model.stan', line 27, column 4 to column 83)\n\tException: multi_normal_lpdf: LDLT_Factor of covariance parameter is not positive definite.  last conditional variance is 2.22045e-016. (in 'D:/PYTHON~1/STAN~1/u_model.stan', line 27, column 4 to column 83)\n\tException: multi_normal_lpdf: LDLT_Factor of covariance parameter is not positive definite.  last conditional variance is -1.11022e-015. (in 'D:/PYTHON~1/STAN~1/u_model.stan', line 27, column 4 to column 83)\n\tException: multi_normal_lpdf: LDLT_Factor of covariance parameter is not positive definite.  last conditional variance is -2.22045e-015. (in 'D:/PYTHON~1/STAN~1/u_model.stan', line 27, column 4 to column 83)\n\tException: multi_normal_lpdf: LDLT_Factor of covariance parameter is not positive definite.  last conditional variance is -4.44089e-016. (in 'D:/PYTHON~1/STAN~1/u_model.stan', line 27, column 4 to column 83)\n\tException: multi_normal_lpdf: LDLT_Factor of covariance parameter is not positive definite.  last conditional variance is -8.88178e-016. (in 'D:/PYTHON~1/STAN~1/u_model.stan', line 27, column 4 to column 83)\n\tException: multi_normal_lpdf: LDLT_Factor of covariance parameter is not positive definite.  last conditional variance is 1.55431e-015. (in 'D:/PYTHON~1/STAN~1/u_model.stan', line 27, column 4 to column 83)\n\tException: multi_normal_lpdf: LDLT_Factor of covariance parameter is not positive definite.  last conditional variance is -1.33227e-015. (in 'D:/PYTHON~1/STAN~1/u_model.stan', line 27, column 4 to column 83)\n\tException: multi_normal_lpdf: LDLT_Factor of covariance parameter is not positive definite.  last conditional variance is 4.44089e-016. (in 'D:/PYTHON~1/STAN~1/u_model.stan', line 27, column 4 to column 83)\n\tException: multi_normal_lpdf: LDLT_Factor of covariance parameter is not positive definite.  last conditional variance is 2.22045e-016. (in 'D:/PYTHON~1/STAN~1/u_model.stan', line 27, column 4 to column 83)\n\tException: multi_normal_lpdf: LDLT_Factor of covariance parameter is not positive definite.  last conditional variance is -1.55431e-015. (in 'D:/PYTHON~1/STAN~1/u_model.stan', line 27, column 4 to column 83)\n\tException: multi_normal_lpdf: LDLT_Factor of covariance parameter is not positive definite.  last conditional variance is -8.88178e-016. (in 'D:/PYTHON~1/STAN~1/u_model.stan', line 27, column 4 to column 83)\n\tException: multi_normal_lpdf: LDLT_Factor of covariance parameter is not positive definite.  last conditional variance is -6.66134e-016. (in 'D:/PYTHON~1/STAN~1/u_model.stan', line 27, column 4 to column 83)\n\tException: multi_normal_lpdf: LDLT_Factor of covariance parameter is not positive definite.  last conditional variance is -5.10703e-015. (in 'D:/PYTHON~1/STAN~1/u_model.stan', line 27, column 4 to column 83)\n\tException: multi_normal_lpdf: LDLT_Factor of covariance parameter is not positive definite.  last conditional variance is 0. (in 'D:/PYTHON~1/STAN~1/u_model.stan', line 27, column 4 to column 83)\n\tException: multi_normal_lpdf: LDLT_Factor of covariance parameter is not positive definite.  last conditional variance is 1.33227e-015. (in 'D:/PYTHON~1/STAN~1/u_model.stan', line 27, column 4 to column 83)\n\tException: multi_normal_lpdf: LDLT_Factor of covariance parameter is not positive definite.  last conditional variance is 6.66134e-016. (in 'D:/PYTHON~1/STAN~1/u_model.stan', line 27, column 4 to column 83)\n\tException: multi_normal_lpdf: LDLT_Factor of covariance parameter is not positive definite.  last conditional variance is -1.33227e-015. (in 'D:/PYTHON~1/STAN~1/u_model.stan', line 27, column 4 to column 83)\n\tException: multi_normal_lpdf: LDLT_Factor of covariance parameter is not positive definite.  last conditional variance is 1.11022e-015. (in 'D:/PYTHON~1/STAN~1/u_model.stan', line 27, column 4 to column 83)\n\tException: multi_normal_lpdf: LDLT_Factor of covariance parameter is not positive definite.  last conditional variance is 8.88178e-016. (in 'D:/PYTHON~1/STAN~1/u_model.stan', line 27, column 4 to column 83)\n\tException: multi_normal_lpdf: LDLT_Factor of covariance parameter is not positive definite.  last conditional variance is 5.77316e-015. (in 'D:/PYTHON~1/STAN~1/u_model.stan', line 27, column 4 to column 83)\n\tException: multi_normal_lpdf: LDLT_Factor of covariance parameter is not positive definite.  last conditional variance is 6.66134e-016. (in 'D:/PYTHON~1/STAN~1/u_model.stan', line 27, column 4 to column 83)\n\tException: multi_normal_lpdf: LDLT_Factor of covariance parameter is not positive definite.  last conditional variance is -6.66134e-016. (in 'D:/PYTHON~1/STAN~1/u_model.stan', line 27, column 4 to column 83)\n\tException: multi_normal_lpdf: LDLT_Factor of covariance parameter is not positive definite.  last conditional variance is 2.22045e-016. (in 'D:/PYTHON~1/STAN~1/u_model.stan', line 27, column 4 to column 83)\n\tException: multi_normal_lpdf: LDLT_Factor of covariance parameter is not positive definite.  last conditional variance is 1.33227e-015. (in 'D:/PYTHON~1/STAN~1/u_model.stan', line 27, column 4 to column 83)\n\tException: multi_normal_lpdf: LDLT_Factor of covariance parameter is not positive definite.  last conditional variance is -2.22045e-016. (in 'D:/PYTHON~1/STAN~1/u_model.stan', line 27, column 4 to column 83)\n\tException: multi_normal_lpdf: LDLT_Factor of covariance parameter is not positive definite.  last conditional variance is 2.66454e-015. (in 'D:/PYTHON~1/STAN~1/u_model.stan', line 27, column 4 to column 83)\n\tException: multi_normal_lpdf: LDLT_Factor of covariance parameter is not positive definite.  last conditional variance is -1.33227e-015. (in 'D:/PYTHON~1/STAN~1/u_model.stan', line 27, column 4 to column 83)\n\tException: multi_normal_lpdf: LDLT_Factor of covariance parameter is not positive definite.  last conditional variance is 0. (in 'D:/PYTHON~1/STAN~1/u_model.stan', line 27, column 4 to column 83)\n\tException: multi_normal_lpdf: LDLT_Factor of covariance parameter is not positive definite.  last conditional variance is -1.33227e-015. (in 'D:/PYTHON~1/STAN~1/u_model.stan', line 27, column 4 to column 83)\n\tException: multi_normal_lpdf: LDLT_Factor of covariance parameter is not positive definite.  last conditional variance is 0. (in 'D:/PYTHON~1/STAN~1/u_model.stan', line 27, column 4 to column 83)\n\tException: multi_normal_lpdf: LDLT_Factor of covariance parameter is not positive definite.  last conditional variance is 1.55431e-015. (in 'D:/PYTHON~1/STAN~1/u_model.stan', line 27, column 4 to column 83)\n\tException: multi_normal_lpdf: LDLT_Factor of covariance parameter is not positive definite.  last conditional variance is 2.88658e-015. (in 'D:/PYTHON~1/STAN~1/u_model.stan', line 27, column 4 to column 83)\n\tException: multi_normal_lpdf: LDLT_Factor of covariance parameter is not positive definite.  last conditional variance is -1.9984e-015. (in 'D:/PYTHON~1/STAN~1/u_model.stan', line 27, column 4 to column 83)\n\tException: multi_normal_lpdf: LDLT_Factor of covariance parameter is not positive definite.  last conditional variance is 1.77636e-015. (in 'D:/PYTHON~1/STAN~1/u_model.stan', line 27, column 4 to column 83)\n\tException: multi_normal_lpdf: LDLT_Factor of covariance parameter is not positive definite.  last conditional variance is -1.9984e-015. (in 'D:/PYTHON~1/STAN~1/u_model.stan', line 27, column 4 to column 83)\n\tException: multi_normal_lpdf: LDLT_Factor of covariance parameter is not positive definite.  last conditional variance is -1.55431e-015. (in 'D:/PYTHON~1/STAN~1/u_model.stan', line 27, column 4 to column 83)\n\tException: multi_normal_lpdf: LDLT_Factor of covariance parameter is not positive definite.  last conditional variance is -1.33227e-015. (in 'D:/PYTHON~1/STAN~1/u_model.stan', line 27, column 4 to column 83)\n\tException: multi_normal_lpdf: LDLT_Factor of covariance parameter is not positive definite.  last conditional variance is 4.44089e-016. (in 'D:/PYTHON~1/STAN~1/u_model.stan', line 27, column 4 to column 83)\nException: multi_normal_lpdf: LDLT_Factor of covariance parameter is not positive definite.  last conditional variance is -4.21885e-015. (in 'D:/PYTHON~1/STAN~1/u_model.stan', line 27, column 4 to column 83)\n\tException: multi_normal_lpdf: LDLT_Factor of covariance parameter is not positive definite.  last conditional variance is 2.44249e-015. (in 'D:/PYTHON~1/STAN~1/u_model.stan', line 27, column 4 to column 83)\n\tException: multi_normal_lpdf: LDLT_Factor of covariance parameter is not positive definite.  last conditional variance is -1.22125e-014. (in 'D:/PYTHON~1/STAN~1/u_model.stan', line 27, column 4 to column 83)\n\tException: multi_normal_lpdf: LDLT_Factor of covariance parameter is not positive definite.  last conditional variance is -1.55431e-015. (in 'D:/PYTHON~1/STAN~1/u_model.stan', line 27, column 4 to column 83)\n\tException: multi_normal_lpdf: LDLT_Factor of covariance parameter is not positive definite.  last conditional variance is 1.77636e-015. (in 'D:/PYTHON~1/STAN~1/u_model.stan', line 27, column 4 to column 83)\n\tException: multi_normal_lpdf: LDLT_Factor of covariance parameter is not positive definite.  last conditional variance is -2.66454e-015. (in 'D:/PYTHON~1/STAN~1/u_model.stan', line 27, column 4 to column 83)\n\tException: multi_normal_lpdf: LDLT_Factor of covariance parameter is not positive definite.  last conditional variance is 6.66134e-016. (in 'D:/PYTHON~1/STAN~1/u_model.stan', line 27, column 4 to column 83)\n\tException: multi_normal_lpdf: LDLT_Factor of covariance parameter is not positive definite.  last conditional variance is 8.88178e-016. (in 'D:/PYTHON~1/STAN~1/u_model.stan', line 27, column 4 to column 83)\n\tException: multi_normal_lpdf: LDLT_Factor of covariance parameter is not positive definite.  last conditional variance is 2.22045e-015. (in 'D:/PYTHON~1/STAN~1/u_model.stan', line 27, column 4 to column 83)\n\tException: multi_normal_lpdf: LDLT_Factor of covariance parameter is not positive definite.  last conditional variance is -2.22045e-016. (in 'D:/PYTHON~1/STAN~1/u_model.stan', line 27, column 4 to column 83)\n\tException: multi_normal_lpdf: LDLT_Factor of covariance parameter is not positive definite.  last conditional variance is 6.43929e-015. (in 'D:/PYTHON~1/STAN~1/u_model.stan', line 27, column 4 to column 83)\n\tException: multi_normal_lpdf: LDLT_Factor of covariance parameter is not positive definite.  last conditional variance is 1.33227e-015. (in 'D:/PYTHON~1/STAN~1/u_model.stan', line 27, column 4 to column 83)\n\tException: multi_normal_lpdf: LDLT_Factor of covariance parameter is not positive definite.  last conditional variance is -6.66134e-016. (in 'D:/PYTHON~1/STAN~1/u_model.stan', line 27, column 4 to column 83)\n\tException: multi_normal_lpdf: LDLT_Factor of covariance parameter is not positive definite.  last conditional variance is 1.33227e-015. (in 'D:/PYTHON~1/STAN~1/u_model.stan', line 27, column 4 to column 83)\n\tException: multi_normal_lpdf: LDLT_Factor of covariance parameter is not positive definite.  last conditional variance is 3.33067e-015. (in 'D:/PYTHON~1/STAN~1/u_model.stan', line 27, column 4 to column 83)\n\tException: multi_normal_lpdf: LDLT_Factor of covariance parameter is not positive definite.  last conditional variance is -7.10543e-015. (in 'D:/PYTHON~1/STAN~1/u_model.stan', line 27, column 4 to column 83)\n\tException: multi_normal_lpdf: LDLT_Factor of covariance parameter is not positive definite.  last conditional variance is 4.21885e-015. (in 'D:/PYTHON~1/STAN~1/u_model.stan', line 27, column 4 to column 83)\n\tException: multi_normal_lpdf: LDLT_Factor of covariance parameter is not positive definite.  last conditional variance is 2.22045e-016. (in 'D:/PYTHON~1/STAN~1/u_model.stan', line 27, column 4 to column 83)\n\tException: multi_normal_lpdf: LDLT_Factor of covariance parameter is not positive definite.  last conditional variance is -8.88178e-016. (in 'D:/PYTHON~1/STAN~1/u_model.stan', line 27, column 4 to column 83)\n\tException: multi_normal_lpdf: LDLT_Factor of covariance parameter is not positive definite.  last conditional variance is -6.66134e-016. (in 'D:/PYTHON~1/STAN~1/u_model.stan', line 27, column 4 to column 83)\n\tException: multi_normal_lpdf: LDLT_Factor of covariance parameter is not positive definite.  last conditional variance is 1.11022e-015. (in 'D:/PYTHON~1/STAN~1/u_model.stan', line 27, column 4 to column 83)\n\tException: multi_normal_lpdf: LDLT_Factor of covariance parameter is not positive definite.  last conditional variance is -2.02061e-014. (in 'D:/PYTHON~1/STAN~1/u_model.stan', line 27, column 4 to column 83)\n\tException: multi_normal_lpdf: LDLT_Factor of covariance parameter is not positive definite.  last conditional variance is -8.88178e-016. (in 'D:/PYTHON~1/STAN~1/u_model.stan', line 27, column 4 to column 83)\n\tException: multi_normal_lpdf: LDLT_Factor of covariance parameter is not positive definite.  last conditional variance is -1.55431e-015. (in 'D:/PYTHON~1/STAN~1/u_model.stan', line 27, column 4 to column 83)\n\tException: multi_normal_lpdf: LDLT_Factor of covariance parameter is not positive definite.  last conditional variance is -2.22045e-016. (in 'D:/PYTHON~1/STAN~1/u_model.stan', line 27, column 4 to column 83)\n\tException: multi_normal_lpdf: LDLT_Factor of covariance parameter is not positive definite.  last conditional variance is -5.10703e-015. (in 'D:/PYTHON~1/STAN~1/u_model.stan', line 27, column 4 to column 83)\n\tException: multi_normal_lpdf: LDLT_Factor of covariance parameter is not positive definite.  last conditional variance is 1.11022e-015. (in 'D:/PYTHON~1/STAN~1/u_model.stan', line 27, column 4 to column 83)\n\tException: multi_normal_lpdf: LDLT_Factor of covariance parameter is not positive definite.  last conditional variance is -1.55431e-015. (in 'D:/PYTHON~1/STAN~1/u_model.stan', line 27, column 4 to column 83)\n\tException: multi_normal_lpdf: LDLT_Factor of covariance parameter is not positive definite.  last conditional variance is 4.44089e-016. (in 'D:/PYTHON~1/STAN~1/u_model.stan', line 27, column 4 to column 83)\n\tException: multi_normal_lpdf: LDLT_Factor of covariance parameter is not positive definite.  last conditional variance is 0. (in 'D:/PYTHON~1/STAN~1/u_model.stan', line 27, column 4 to column 83)\n\tException: multi_normal_lpdf: LDLT_Factor of covariance parameter is not positive definite.  last conditional variance is -1.11022e-015. (in 'D:/PYTHON~1/STAN~1/u_model.stan', line 27, column 4 to column 83)\n\tException: multi_normal_lpdf: LDLT_Factor of covariance parameter is not positive definite.  last conditional variance is 0. (in 'D:/PYTHON~1/STAN~1/u_model.stan', line 27, column 4 to column 83)\n\tException: multi_normal_lpdf: LDLT_Factor of covariance parameter is not positive definite.  last conditional variance is -1.9984e-015. (in 'D:/PYTHON~1/STAN~1/u_model.stan', line 27, column 4 to column 83)\n\tException: multi_normal_lpdf: LDLT_Factor of covariance parameter is not positive definite.  last conditional variance is 0. (in 'D:/PYTHON~1/STAN~1/u_model.stan', line 27, column 4 to column 83)\n\tException: multi_normal_lpdf: LDLT_Factor of covariance parameter is not positive definite.  last conditional variance is -8.88178e-016. (in 'D:/PYTHON~1/STAN~1/u_model.stan', line 27, column 4 to column 83)\n\tException: multi_normal_lpdf: LDLT_Factor of covariance parameter is not positive definite.  last conditional variance is -6.66134e-016. (in 'D:/PYTHON~1/STAN~1/u_model.stan', line 27, column 4 to column 83)\n\tException: multi_normal_lpdf: LDLT_Factor of covariance parameter is not positive definite.  last conditional variance is 1.19904e-014. (in 'D:/PYTHON~1/STAN~1/u_model.stan', line 27, column 4 to column 83)\n\tException: multi_normal_lpdf: LDLT_Factor of covariance parameter is not positive definite.  last conditional variance is -1.55431e-015. (in 'D:/PYTHON~1/STAN~1/u_model.stan', line 27, column 4 to column 83)\n\tException: multi_normal_lpdf: LDLT_Factor of covariance parameter is not positive definite.  last conditional variance is 1.11022e-015. (in 'D:/PYTHON~1/STAN~1/u_model.stan', line 27, column 4 to column 83)\n\tException: multi_normal_lpdf: LDLT_Factor of covariance parameter is not positive definite.  last conditional variance is -1.11022e-015. (in 'D:/PYTHON~1/STAN~1/u_model.stan', line 27, column 4 to column 83)\n\tException: multi_normal_lpdf: LDLT_Factor of covariance parameter is not positive definite.  last conditional variance is 2.44249e-015. (in 'D:/PYTHON~1/STAN~1/u_model.stan', line 27, column 4 to column 83)\n\tException: multi_normal_lpdf: LDLT_Factor of covariance parameter is not positive definite.  last conditional variance is -2.70894e-014. (in 'D:/PYTHON~1/STAN~1/u_model.stan', line 27, column 4 to column 83)\n\tException: multi_normal_lpdf: LDLT_Factor of covariance parameter is not positive definite.  last conditional variance is 2.22045e-015. (in 'D:/PYTHON~1/STAN~1/u_model.stan', line 27, column 4 to column 83)\n\tException: multi_normal_lpdf: LDLT_Factor of covariance parameter is not positive definite.  last conditional variance is 2.22045e-016. (in 'D:/PYTHON~1/STAN~1/u_model.stan', line 27, column 4 to column 83)\n\tException: multi_normal_lpdf: LDLT_Factor of covariance parameter is not positive definite.  last conditional variance is 7.32747e-015. (in 'D:/PYTHON~1/STAN~1/u_model.stan', line 27, column 4 to column 83)\n\tException: multi_normal_lpdf: LDLT_Factor of covariance parameter is not positive definite.  last conditional variance is 4.44089e-016. (in 'D:/PYTHON~1/STAN~1/u_model.stan', line 27, column 4 to column 83)\n\tException: multi_normal_lpdf: LDLT_Factor of covariance parameter is not positive definite.  last conditional variance is 4.44089e-016. (in 'D:/PYTHON~1/STAN~1/u_model.stan', line 27, column 4 to column 83)\n\tException: multi_normal_lpdf: LDLT_Factor of covariance parameter is not positive definite.  last conditional variance is -6.66134e-016. (in 'D:/PYTHON~1/STAN~1/u_model.stan', line 27, column 4 to column 83)\n\tException: multi_normal_lpdf: LDLT_Factor of covariance parameter is not positive definite.  last conditional variance is 2.22045e-015. (in 'D:/PYTHON~1/STAN~1/u_model.stan', line 27, column 4 to column 83)\n\tException: multi_normal_lpdf: LDLT_Factor of covariance parameter is not positive definite.  last conditional variance is -1.77636e-015. (in 'D:/PYTHON~1/STAN~1/u_model.stan', line 27, column 4 to column 83)\n\tException: multi_normal_lpdf: LDLT_Factor of covariance parameter is not positive definite.  last conditional variance is 6.43929e-015. (in 'D:/PYTHON~1/STAN~1/u_model.stan', line 27, column 4 to column 83)\n\tException: multi_normal_lpdf: LDLT_Factor of covariance parameter is not positive definite.  last conditional variance is 0. (in 'D:/PYTHON~1/STAN~1/u_model.stan', line 27, column 4 to column 83)\n\tException: multi_normal_lpdf: LDLT_Factor of covariance parameter is not positive definite.  last conditional variance is 6.66134e-016. (in 'D:/PYTHON~1/STAN~1/u_model.stan', line 27, column 4 to column 83)\n\tException: multi_normal_lpdf: LDLT_Factor of covariance parameter is not positive definite.  last conditional variance is 1.9984e-015. (in 'D:/PYTHON~1/STAN~1/u_model.stan', line 27, column 4 to column 83)\n\tException: multi_normal_lpdf: LDLT_Factor of covariance parameter is not positive definite.  last conditional variance is -6.66134e-016. (in 'D:/PYTHON~1/STAN~1/u_model.stan', line 27, column 4 to column 83)\n\tException: multi_normal_lpdf: LDLT_Factor of covariance parameter is not positive definite.  last conditional variance is -3.33067e-015. (in 'D:/PYTHON~1/STAN~1/u_model.stan', line 27, column 4 to column 83)\n\tException: multi_normal_lpdf: LDLT_Factor of covariance parameter is not positive definite.  last conditional variance is 1.11022e-015. (in 'D:/PYTHON~1/STAN~1/u_model.stan', line 27, column 4 to column 83)\n\tException: multi_normal_lpdf: LDLT_Factor of covariance parameter is not positive definite.  last conditional variance is 2.44249e-015. (in 'D:/PYTHON~1/STAN~1/u_model.stan', line 27, column 4 to column 83)\n\tException: multi_normal_lpdf: LDLT_Factor of covariance parameter is not positive definite.  last conditional variance is 1.33227e-015. (in 'D:/PYTHON~1/STAN~1/u_model.stan', line 27, column 4 to column 83)\n\tException: multi_normal_lpdf: LDLT_Factor of covariance parameter is not positive definite.  last conditional variance is 0. (in 'D:/PYTHON~1/STAN~1/u_model.stan', line 27, column 4 to column 83)\n\tException: multi_normal_lpdf: LDLT_Factor of covariance parameter is not positive definite.  last conditional variance is -2.22045e-016. (in 'D:/PYTHON~1/STAN~1/u_model.stan', line 27, column 4 to column 83)\n\tException: multi_normal_lpdf: LDLT_Factor of covariance parameter is not positive definite.  last conditional variance is -1.77636e-015. (in 'D:/PYTHON~1/STAN~1/u_model.stan', line 27, column 4 to column 83)\n\tException: multi_normal_lpdf: LDLT_Factor of covariance parameter is not positive definite.  last conditional variance is -8.88178e-016. (in 'D:/PYTHON~1/STAN~1/u_model.stan', line 27, column 4 to column 83)\n\tException: multi_normal_lpdf: LDLT_Factor of covariance parameter is not positive definite.  last conditional variance is -8.65974e-015. (in 'D:/PYTHON~1/STAN~1/u_model.stan', line 27, column 4 to column 83)\n\tException: multi_normal_lpdf: LDLT_Factor of covariance parameter is not positive definite.  last conditional variance is -1.9984e-015. (in 'D:/PYTHON~1/STAN~1/u_model.stan', line 27, column 4 to column 83)\n\tException: multi_normal_lpdf: LDLT_Factor of covariance parameter is not positive definite.  last conditional variance is -4.44089e-016. (in 'D:/PYTHON~1/STAN~1/u_model.stan', line 27, column 4 to column 83)\n\tException: multi_normal_lpdf: LDLT_Factor of covariance parameter is not positive definite.  last conditional variance is -2.88658e-015. (in 'D:/PYTHON~1/STAN~1/u_model.stan', line 27, column 4 to column 83)\n\tException: multi_normal_lpdf: LDLT_Factor of covariance parameter is not positive definite.  last conditional variance is 2.22045e-016. (in 'D:/PYTHON~1/STAN~1/u_model.stan', line 27, column 4 to column 83)\n\tException: multi_normal_lpdf: LDLT_Factor of covariance parameter is not positive definite.  last conditional variance is -1.15463e-014. (in 'D:/PYTHON~1/STAN~1/u_model.stan', line 27, column 4 to column 83)\n\tException: multi_normal_lpdf: LDLT_Factor of covariance parameter is not positive definite.  last conditional variance is -1.11022e-015. (in 'D:/PYTHON~1/STAN~1/u_model.stan', line 27, column 4 to column 83)\n\tException: multi_normal_lpdf: LDLT_Factor of covariance parameter is not positive definite.  last conditional variance is -3.9968e-015. (in 'D:/PYTHON~1/STAN~1/u_model.stan', line 27, column 4 to column 83)\n\tException: multi_normal_lpdf: LDLT_Factor of covariance parameter is not positive definite.  last conditional variance is -1.9984e-015. (in 'D:/PYTHON~1/STAN~1/u_model.stan', line 27, column 4 to column 83)\n\tException: multi_normal_lpdf: LDLT_Factor of covariance parameter is not positive definite.  last conditional variance is -8.43769e-015. (in 'D:/PYTHON~1/STAN~1/u_model.stan', line 27, column 4 to column 83)\n\tException: multi_normal_lpdf: LDLT_Factor of covariance parameter is not positive definite.  last conditional variance is 3.33067e-015. (in 'D:/PYTHON~1/STAN~1/u_model.stan', line 27, column 4 to column 83)\n\tException: multi_normal_lpdf: LDLT_Factor of covariance parameter is not positive definite.  last conditional variance is 2.22045e-016. (in 'D:/PYTHON~1/STAN~1/u_model.stan', line 27, column 4 to column 83)\n\tException: multi_normal_lpdf: LDLT_Factor of covariance parameter is not positive definite.  last conditional variance is 1.55431e-015. (in 'D:/PYTHON~1/STAN~1/u_model.stan', line 27, column 4 to column 83)\n\tException: multi_normal_lpdf: LDLT_Factor of covariance parameter is not positive definite.  last conditional variance is -4.44089e-016. (in 'D:/PYTHON~1/STAN~1/u_model.stan', line 27, column 4 to column 83)\n\tException: multi_normal_lpdf: LDLT_Factor of covariance parameter is not positive definite.  last conditional variance is 6.66134e-016. (in 'D:/PYTHON~1/STAN~1/u_model.stan', line 27, column 4 to column 83)\n\tException: multi_normal_lpdf: LDLT_Factor of covariance parameter is not positive definite.  last conditional variance is 2.88658e-015. (in 'D:/PYTHON~1/STAN~1/u_model.stan', line 27, column 4 to column 83)\n\tException: multi_normal_lpdf: LDLT_Factor of covariance parameter is not positive definite.  last conditional variance is -4.21885e-015. (in 'D:/PYTHON~1/STAN~1/u_model.stan', line 27, column 4 to column 83)\n\tException: multi_normal_lpdf: LDLT_Factor of covariance parameter is not positive definite.  last conditional variance is -2.22045e-015. (in 'D:/PYTHON~1/STAN~1/u_model.stan', line 27, column 4 to column 83)\n\tException: multi_normal_lpdf: LDLT_Factor of covariance parameter is not positive definite.  last conditional variance is 6.21725e-015. (in 'D:/PYTHON~1/STAN~1/u_model.stan', line 27, column 4 to column 83)\n\tException: multi_normal_lpdf: LDLT_Factor of covariance parameter is not positive definite.  last conditional variance is 0. (in 'D:/PYTHON~1/STAN~1/u_model.stan', line 27, column 4 to column 83)\n\tException: multi_normal_lpdf: LDLT_Factor of covariance parameter is not positive definite.  last conditional variance is 4.44089e-016. (in 'D:/PYTHON~1/STAN~1/u_model.stan', line 27, column 4 to column 83)\n\tException: multi_normal_lpdf: LDLT_Factor of covariance parameter is not positive definite.  last conditional variance is 4.44089e-016. (in 'D:/PYTHON~1/STAN~1/u_model.stan', line 27, column 4 to column 83)\n\tException: multi_normal_lpdf: LDLT_Factor of covariance parameter is not positive definite.  last conditional variance is 1.55431e-015. (in 'D:/PYTHON~1/STAN~1/u_model.stan', line 27, column 4 to column 83)\n\tException: multi_normal_lpdf: LDLT_Factor of covariance parameter is not positive definite.  last conditional variance is 4.44089e-016. (in 'D:/PYTHON~1/STAN~1/u_model.stan', line 27, column 4 to column 83)\n\tException: multi_normal_lpdf: LDLT_Factor of covariance parameter is not positive definite.  last conditional variance is 4.44089e-015. (in 'D:/PYTHON~1/STAN~1/u_model.stan', line 27, column 4 to column 83)\n\tException: multi_normal_lpdf: LDLT_Factor of covariance parameter is not positive definite.  last conditional variance is -3.9968e-015. (in 'D:/PYTHON~1/STAN~1/u_model.stan', line 27, column 4 to column 83)\n\tException: multi_normal_lpdf: LDLT_Factor of covariance parameter is not positive definite.  last conditional variance is 1.33227e-015. (in 'D:/PYTHON~1/STAN~1/u_model.stan', line 27, column 4 to column 83)\n\tException: multi_normal_lpdf: LDLT_Factor of covariance parameter is not positive definite.  last conditional variance is 4.44089e-016. (in 'D:/PYTHON~1/STAN~1/u_model.stan', line 27, column 4 to column 83)\n\tException: multi_normal_lpdf: LDLT_Factor of covariance parameter is not positive definite.  last conditional variance is -8.88178e-016. (in 'D:/PYTHON~1/STAN~1/u_model.stan', line 27, column 4 to column 83)\n\tException: multi_normal_lpdf: LDLT_Factor of covariance parameter is not positive definite.  last conditional variance is 8.88178e-016. (in 'D:/PYTHON~1/STAN~1/u_model.stan', line 27, column 4 to column 83)\n\tException: multi_normal_lpdf: LDLT_Factor of covariance parameter is not positive definite.  last conditional variance is -2.22045e-016. (in 'D:/PYTHON~1/STAN~1/u_model.stan', line 27, column 4 to column 83)\n\tException: multi_normal_lpdf: LDLT_Factor of covariance parameter is not positive definite.  last conditional variance is 1.11022e-015. (in 'D:/PYTHON~1/STAN~1/u_model.stan', line 27, column 4 to column 83)\n\tException: multi_normal_lpdf: LDLT_Factor of covariance parameter is not positive definite.  last conditional variance is 4.44089e-016. (in 'D:/PYTHON~1/STAN~1/u_model.stan', line 27, column 4 to column 83)\n\tException: multi_normal_lpdf: LDLT_Factor of covariance parameter is not positive definite.  last conditional variance is 0. (in 'D:/PYTHON~1/STAN~1/u_model.stan', line 27, column 4 to column 83)\n\tException: multi_normal_lpdf: LDLT_Factor of covariance parameter is not positive definite.  last conditional variance is 4.06342e-014. (in 'D:/PYTHON~1/STAN~1/u_model.stan', line 27, column 4 to column 83)\n\tException: multi_normal_lpdf: LDLT_Factor of covariance parameter is not positive definite.  last conditional variance is 6.66134e-016. (in 'D:/PYTHON~1/STAN~1/u_model.stan', line 27, column 4 to column 83)\n\tException: multi_normal_lpdf: LDLT_Factor of covariance parameter is not positive definite.  last conditional variance is -1.33227e-015. (in 'D:/PYTHON~1/STAN~1/u_model.stan', line 27, column 4 to column 83)\nException: multi_normal_lpdf: LDLT_Factor of covariance parameter is not positive definite.  last conditional variance is 0. (in 'D:/PYTHON~1/STAN~1/u_model.stan', line 27, column 4 to column 83)\n\tException: multi_normal_lpdf: LDLT_Factor of covariance parameter is not positive definite.  last conditional variance is -1.11022e-015. (in 'D:/PYTHON~1/STAN~1/u_model.stan', line 27, column 4 to column 83)\n\tException: multi_normal_lpdf: LDLT_Factor of covariance parameter is not positive definite.  last conditional variance is -8.88178e-016. (in 'D:/PYTHON~1/STAN~1/u_model.stan', line 27, column 4 to column 83)\n\tException: multi_normal_lpdf: LDLT_Factor of covariance parameter is not positive definite.  last conditional variance is -2.22045e-016. (in 'D:/PYTHON~1/STAN~1/u_model.stan', line 27, column 4 to column 83)\n\tException: multi_normal_lpdf: LDLT_Factor of covariance parameter is not positive definite.  last conditional variance is 0. (in 'D:/PYTHON~1/STAN~1/u_model.stan', line 27, column 4 to column 83)\n\tException: multi_normal_lpdf: LDLT_Factor of covariance parameter is not positive definite.  last conditional variance is 0. (in 'D:/PYTHON~1/STAN~1/u_model.stan', line 27, column 4 to column 83)\n\tException: multi_normal_lpdf: LDLT_Factor of covariance parameter is not positive definite.  last conditional variance is 1.33227e-015. (in 'D:/PYTHON~1/STAN~1/u_model.stan', line 27, column 4 to column 83)\n\tException: multi_normal_lpdf: LDLT_Factor of covariance parameter is not positive definite.  last conditional variance is -2.22045e-016. (in 'D:/PYTHON~1/STAN~1/u_model.stan', line 27, column 4 to column 83)\n\tException: multi_normal_lpdf: LDLT_Factor of covariance parameter is not positive definite.  last conditional variance is 1.9984e-015. (in 'D:/PYTHON~1/STAN~1/u_model.stan', line 27, column 4 to column 83)\n\tException: multi_normal_lpdf: LDLT_Factor of covariance parameter is not positive definite.  last conditional variance is 4.44089e-016. (in 'D:/PYTHON~1/STAN~1/u_model.stan', line 27, column 4 to column 83)\n\tException: multi_normal_lpdf: LDLT_Factor of covariance parameter is not positive definite.  last conditional variance is 1.77636e-015. (in 'D:/PYTHON~1/STAN~1/u_model.stan', line 27, column 4 to column 83)\n\tException: multi_normal_lpdf: LDLT_Factor of covariance parameter is not positive definite.  last conditional variance is -2.88658e-015. (in 'D:/PYTHON~1/STAN~1/u_model.stan', line 27, column 4 to column 83)\n\tException: multi_normal_lpdf: LDLT_Factor of covariance parameter is not positive definite.  last conditional variance is 2.88658e-015. (in 'D:/PYTHON~1/STAN~1/u_model.stan', line 27, column 4 to column 83)\n\tException: multi_normal_lpdf: LDLT_Factor of covariance parameter is not positive definite.  last conditional variance is 0. (in 'D:/PYTHON~1/STAN~1/u_model.stan', line 27, column 4 to column 83)\n\tException: multi_normal_lpdf: LDLT_Factor of covariance parameter is not positive definite.  last conditional variance is 1.9984e-015. (in 'D:/PYTHON~1/STAN~1/u_model.stan', line 27, column 4 to column 83)\n\tException: multi_normal_lpdf: LDLT_Factor of covariance parameter is not positive definite.  last conditional variance is 2.44249e-015. (in 'D:/PYTHON~1/STAN~1/u_model.stan', line 27, column 4 to column 83)\n\tException: multi_normal_lpdf: LDLT_Factor of covariance parameter is not positive definite.  last conditional variance is 2.22045e-016. (in 'D:/PYTHON~1/STAN~1/u_model.stan', line 27, column 4 to column 83)\n\tException: multi_normal_lpdf: LDLT_Factor of covariance parameter is not positive definite.  last conditional variance is 0. (in 'D:/PYTHON~1/STAN~1/u_model.stan', line 27, column 4 to column 83)\n\tException: multi_normal_lpdf: LDLT_Factor of covariance parameter is not positive definite.  last conditional variance is 5.9952e-015. (in 'D:/PYTHON~1/STAN~1/u_model.stan', line 27, column 4 to column 83)\n\tException: multi_normal_lpdf: LDLT_Factor of covariance parameter is not positive definite.  last conditional variance is 6.66134e-016. (in 'D:/PYTHON~1/STAN~1/u_model.stan', line 27, column 4 to column 83)\n\tException: multi_normal_lpdf: LDLT_Factor of covariance parameter is not positive definite.  last conditional variance is 2.10942e-014. (in 'D:/PYTHON~1/STAN~1/u_model.stan', line 27, column 4 to column 83)\n\tException: multi_normal_lpdf: LDLT_Factor of covariance parameter is not positive definite.  last conditional variance is 1.33227e-015. (in 'D:/PYTHON~1/STAN~1/u_model.stan', line 27, column 4 to column 83)\n\tException: multi_normal_lpdf: LDLT_Factor of covariance parameter is not positive definite.  last conditional variance is 3.55271e-015. (in 'D:/PYTHON~1/STAN~1/u_model.stan', line 27, column 4 to column 83)\n\tException: multi_normal_lpdf: LDLT_Factor of covariance parameter is not positive definite.  last conditional variance is -3.9968e-015. (in 'D:/PYTHON~1/STAN~1/u_model.stan', line 27, column 4 to column 83)\n\tException: multi_normal_lpdf: LDLT_Factor of covariance parameter is not positive definite.  last conditional variance is -9.32587e-015. (in 'D:/PYTHON~1/STAN~1/u_model.stan', line 27, column 4 to column 83)\n\tException: multi_normal_lpdf: LDLT_Factor of covariance parameter is not positive definite.  last conditional variance is -8.88178e-016. (in 'D:/PYTHON~1/STAN~1/u_model.stan', line 27, column 4 to column 83)\n\tException: multi_normal_lpdf: LDLT_Factor of covariance parameter is not positive definite.  last conditional variance is 3.77476e-015. (in 'D:/PYTHON~1/STAN~1/u_model.stan', line 27, column 4 to column 83)\n\tException: multi_normal_lpdf: LDLT_Factor of covariance parameter is not positive definite.  last conditional variance is 4.44089e-016. (in 'D:/PYTHON~1/STAN~1/u_model.stan', line 27, column 4 to column 83)\n\tException: multi_normal_lpdf: LDLT_Factor of covariance parameter is not positive definite.  last conditional variance is 3.9968e-015. (in 'D:/PYTHON~1/STAN~1/u_model.stan', line 27, column 4 to column 83)\n\tException: multi_normal_lpdf: LDLT_Factor of covariance parameter is not positive definite.  last conditional variance is 0. (in 'D:/PYTHON~1/STAN~1/u_model.stan', line 27, column 4 to column 83)\n\tException: multi_normal_lpdf: LDLT_Factor of covariance parameter is not positive definite.  last conditional variance is 1.11022e-015. (in 'D:/PYTHON~1/STAN~1/u_model.stan', line 27, column 4 to column 83)\n\tException: multi_normal_lpdf: LDLT_Factor of covariance parameter is not positive definite.  last conditional variance is 3.55271e-015. (in 'D:/PYTHON~1/STAN~1/u_model.stan', line 27, column 4 to column 83)\n\tException: multi_normal_lpdf: LDLT_Factor of covariance parameter is not positive definite.  last conditional variance is -8.88178e-016. (in 'D:/PYTHON~1/STAN~1/u_model.stan', line 27, column 4 to column 83)\n\tException: multi_normal_lpdf: LDLT_Factor of covariance parameter is not positive definite.  last conditional variance is -1.9984e-015. (in 'D:/PYTHON~1/STAN~1/u_model.stan', line 27, column 4 to column 83)\n\tException: multi_normal_lpdf: LDLT_Factor of covariance parameter is not positive definite.  last conditional variance is -1.33227e-015. (in 'D:/PYTHON~1/STAN~1/u_model.stan', line 27, column 4 to column 83)\n\tException: multi_normal_lpdf: LDLT_Factor of covariance parameter is not positive definite.  last conditional variance is -3.10862e-015. (in 'D:/PYTHON~1/STAN~1/u_model.stan', line 27, column 4 to column 83)\n\tException: multi_normal_lpdf: LDLT_Factor of covariance parameter is not positive definite.  last conditional variance is 4.44089e-016. (in 'D:/PYTHON~1/STAN~1/u_model.stan', line 27, column 4 to column 83)\n\tException: multi_normal_lpdf: LDLT_Factor of covariance parameter is not positive definite.  last conditional variance is -2.22045e-015. (in 'D:/PYTHON~1/STAN~1/u_model.stan', line 27, column 4 to column 83)\n\tException: multi_normal_lpdf: LDLT_Factor of covariance parameter is not positive definite.  last conditional variance is 6.66134e-016. (in 'D:/PYTHON~1/STAN~1/u_model.stan', line 27, column 4 to column 83)\n\tException: multi_normal_lpdf: LDLT_Factor of covariance parameter is not positive definite.  last conditional variance is 1.33227e-015. (in 'D:/PYTHON~1/STAN~1/u_model.stan', line 27, column 4 to column 83)\n\tException: multi_normal_lpdf: LDLT_Factor of covariance parameter is not positive definite.  last conditional variance is -1.77636e-015. (in 'D:/PYTHON~1/STAN~1/u_model.stan', line 27, column 4 to column 83)\n\tException: multi_normal_lpdf: LDLT_Factor of covariance parameter is not positive definite.  last conditional variance is 0. (in 'D:/PYTHON~1/STAN~1/u_model.stan', line 27, column 4 to column 83)\n\tException: multi_normal_lpdf: LDLT_Factor of covariance parameter is not positive definite.  last conditional variance is 2.88658e-015. (in 'D:/PYTHON~1/STAN~1/u_model.stan', line 27, column 4 to column 83)\n\tException: multi_normal_lpdf: LDLT_Factor of covariance parameter is not positive definite.  last conditional variance is 1.9984e-015. (in 'D:/PYTHON~1/STAN~1/u_model.stan', line 27, column 4 to column 83)\n\tException: multi_normal_lpdf: LDLT_Factor of covariance parameter is not positive definite.  last conditional variance is 2.66454e-015. (in 'D:/PYTHON~1/STAN~1/u_model.stan', line 27, column 4 to column 83)\n\tException: multi_normal_lpdf: LDLT_Factor of covariance parameter is not positive definite.  last conditional variance is -2.22045e-015. (in 'D:/PYTHON~1/STAN~1/u_model.stan', line 27, column 4 to column 83)\n\tException: multi_normal_lpdf: LDLT_Factor of covariance parameter is not positive definite.  last conditional variance is -4.44089e-016. (in 'D:/PYTHON~1/STAN~1/u_model.stan', line 27, column 4 to column 83)\n\tException: multi_normal_lpdf: LDLT_Factor of covariance parameter is not positive definite.  last conditional variance is -6.66134e-016. (in 'D:/PYTHON~1/STAN~1/u_model.stan', line 27, column 4 to column 83)\n\tException: multi_normal_lpdf: LDLT_Factor of covariance parameter is not positive definite.  last conditional variance is 2.22045e-015. (in 'D:/PYTHON~1/STAN~1/u_model.stan', line 27, column 4 to column 83)\n\tException: multi_normal_lpdf: LDLT_Factor of covariance parameter is not positive definite.  last conditional variance is -2.22045e-016. (in 'D:/PYTHON~1/STAN~1/u_model.stan', line 27, column 4 to column 83)\n\tException: multi_normal_lpdf: LDLT_Factor of covariance parameter is not positive definite.  last conditional variance is -6.66134e-016. (in 'D:/PYTHON~1/STAN~1/u_model.stan', line 27, column 4 to column 83)\n\tException: multi_normal_lpdf: LDLT_Factor of covariance parameter is not positive definite.  last conditional variance is 6.88338e-015. (in 'D:/PYTHON~1/STAN~1/u_model.stan', line 27, column 4 to column 83)\n\tException: multi_normal_lpdf: LDLT_Factor of covariance parameter is not positive definite.  last conditional variance is -1.9984e-015. (in 'D:/PYTHON~1/STAN~1/u_model.stan', line 27, column 4 to column 83)\n\tException: multi_normal_lpdf: LDLT_Factor of covariance parameter is not positive definite.  last conditional variance is -3.9968e-015. (in 'D:/PYTHON~1/STAN~1/u_model.stan', line 27, column 4 to column 83)\n\tException: multi_normal_lpdf: LDLT_Factor of covariance parameter is not positive definite.  last conditional variance is -6.66134e-016. (in 'D:/PYTHON~1/STAN~1/u_model.stan', line 27, column 4 to column 83)\n\tException: multi_normal_lpdf: LDLT_Factor of covariance parameter is not positive definite.  last conditional variance is -4.44089e-016. (in 'D:/PYTHON~1/STAN~1/u_model.stan', line 27, column 4 to column 83)\n\tException: multi_normal_lpdf: LDLT_Factor of covariance parameter is not positive definite.  last conditional variance is 2.22045e-016. (in 'D:/PYTHON~1/STAN~1/u_model.stan', line 27, column 4 to column 83)\n\tException: multi_normal_lpdf: LDLT_Factor of covariance parameter is not positive definite.  last conditional variance is 1.11022e-015. (in 'D:/PYTHON~1/STAN~1/u_model.stan', line 27, column 4 to column 83)\n\tException: multi_normal_lpdf: LDLT_Factor of covariance parameter is not positive definite.  last conditional variance is 1.55431e-015. (in 'D:/PYTHON~1/STAN~1/u_model.stan', line 27, column 4 to column 83)\n\tException: multi_normal_lpdf: LDLT_Factor of covariance parameter is not positive definite.  last conditional variance is 0. (in 'D:/PYTHON~1/STAN~1/u_model.stan', line 27, column 4 to column 83)\n\tException: multi_normal_lpdf: LDLT_Factor of covariance parameter is not positive definite.  last conditional variance is 2.22045e-015. (in 'D:/PYTHON~1/STAN~1/u_model.stan', line 27, column 4 to column 83)\n\tException: multi_normal_lpdf: LDLT_Factor of covariance parameter is not positive definite.  last conditional variance is 6.66134e-016. (in 'D:/PYTHON~1/STAN~1/u_model.stan', line 27, column 4 to column 83)\n\tException: multi_normal_lpdf: LDLT_Factor of covariance parameter is not positive definite.  last conditional variance is -7.77156e-015. (in 'D:/PYTHON~1/STAN~1/u_model.stan', line 27, column 4 to column 83)\n\tException: multi_normal_lpdf: LDLT_Factor of covariance parameter is not positive definite.  last conditional variance is -2.22045e-016. (in 'D:/PYTHON~1/STAN~1/u_model.stan', line 27, column 4 to column 83)\n\tException: multi_normal_lpdf: LDLT_Factor of covariance parameter is not positive definite.  last conditional variance is -1.33227e-015. (in 'D:/PYTHON~1/STAN~1/u_model.stan', line 27, column 4 to column 83)\n\tException: multi_normal_lpdf: LDLT_Factor of covariance parameter is not positive definite.  last conditional variance is -4.88498e-015. (in 'D:/PYTHON~1/STAN~1/u_model.stan', line 27, column 4 to column 83)\n\tException: multi_normal_lpdf: LDLT_Factor of covariance parameter is not positive definite.  last conditional variance is 0. (in 'D:/PYTHON~1/STAN~1/u_model.stan', line 27, column 4 to column 83)\n\tException: multi_normal_lpdf: LDLT_Factor of covariance parameter is not positive definite.  last conditional variance is 1.55431e-015. (in 'D:/PYTHON~1/STAN~1/u_model.stan', line 27, column 4 to column 83)\n\tException: multi_normal_lpdf: LDLT_Factor of covariance parameter is not positive definite.  last conditional variance is -8.88178e-016. (in 'D:/PYTHON~1/STAN~1/u_model.stan', line 27, column 4 to column 83)\n\tException: multi_normal_lpdf: LDLT_Factor of covariance parameter is not positive definite.  last conditional variance is -6.66134e-016. (in 'D:/PYTHON~1/STAN~1/u_model.stan', line 27, column 4 to column 83)\n\tException: multi_normal_lpdf: LDLT_Factor of covariance parameter is not positive definite.  last conditional variance is -8.88178e-016. (in 'D:/PYTHON~1/STAN~1/u_model.stan', line 27, column 4 to column 83)\n\tException: multi_normal_lpdf: LDLT_Factor of covariance parameter is not positive definite.  last conditional variance is -6.66134e-016. (in 'D:/PYTHON~1/STAN~1/u_model.stan', line 27, column 4 to column 83)\n\tException: multi_normal_lpdf: LDLT_Factor of covariance parameter is not positive definite.  last conditional variance is 1.11022e-015. (in 'D:/PYTHON~1/STAN~1/u_model.stan', line 27, column 4 to column 83)\n\tException: multi_normal_lpdf: LDLT_Factor of covariance parameter is not positive definite.  last conditional variance is -4.44089e-016. (in 'D:/PYTHON~1/STAN~1/u_model.stan', line 27, column 4 to column 83)\n\tException: multi_normal_lpdf: LDLT_Factor of covariance parameter is not positive definite.  last conditional variance is -2.22045e-016. (in 'D:/PYTHON~1/STAN~1/u_model.stan', line 27, column 4 to column 83)\n\tException: multi_normal_lpdf: LDLT_Factor of covariance parameter is not positive definite.  last conditional variance is -1.11022e-015. (in 'D:/PYTHON~1/STAN~1/u_model.stan', line 27, column 4 to column 83)\n\tException: multi_normal_lpdf: LDLT_Factor of covariance parameter is not positive definite.  last conditional variance is 1.55431e-015. (in 'D:/PYTHON~1/STAN~1/u_model.stan', line 27, column 4 to column 83)\n\tException: multi_normal_lpdf: LDLT_Factor of covariance parameter is not positive definite.  last conditional variance is -6.66134e-016. (in 'D:/PYTHON~1/STAN~1/u_model.stan', line 27, column 4 to column 83)\n\tException: multi_normal_lpdf: LDLT_Factor of covariance parameter is not positive definite.  last conditional variance is 2.22045e-016. (in 'D:/PYTHON~1/STAN~1/u_model.stan', line 27, column 4 to column 83)\n\tException: multi_normal_lpdf: LDLT_Factor of covariance parameter is not positive definite.  last conditional variance is 6.66134e-016. (in 'D:/PYTHON~1/STAN~1/u_model.stan', line 27, column 4 to column 83)\n\tException: multi_normal_lpdf: LDLT_Factor of covariance parameter is not positive definite.  last conditional variance is -8.88178e-016. (in 'D:/PYTHON~1/STAN~1/u_model.stan', line 27, column 4 to column 83)\n\tException: multi_normal_lpdf: LDLT_Factor of covariance parameter is not positive definite.  last conditional variance is -4.44089e-016. (in 'D:/PYTHON~1/STAN~1/u_model.stan', line 27, column 4 to column 83)\n\tException: multi_normal_lpdf: LDLT_Factor of covariance parameter is not positive definite.  last conditional variance is -1.55431e-015. (in 'D:/PYTHON~1/STAN~1/u_model.stan', line 27, column 4 to column 83)\n\tException: multi_normal_lpdf: LDLT_Factor of covariance parameter is not positive definite.  last conditional variance is 4.44089e-016. (in 'D:/PYTHON~1/STAN~1/u_model.stan', line 27, column 4 to column 83)\n\tException: multi_normal_lpdf: LDLT_Factor of covariance parameter is not positive definite.  last conditional variance is -2.44249e-015. (in 'D:/PYTHON~1/STAN~1/u_model.stan', line 27, column 4 to column 83)\n\tException: multi_normal_lpdf: LDLT_Factor of covariance parameter is not positive definite.  last conditional variance is -2.88658e-015. (in 'D:/PYTHON~1/STAN~1/u_model.stan', line 27, column 4 to column 83)\n\tException: multi_normal_lpdf: LDLT_Factor of covariance parameter is not positive definite.  last conditional variance is 1.31006e-014. (in 'D:/PYTHON~1/STAN~1/u_model.stan', line 27, column 4 to column 83)\n\tException: multi_normal_lpdf: LDLT_Factor of covariance parameter is not positive definite.  last conditional variance is 3.33067e-015. (in 'D:/PYTHON~1/STAN~1/u_model.stan', line 27, column 4 to column 83)\n\tException: multi_normal_lpdf: LDLT_Factor of covariance parameter is not positive definite.  last conditional variance is 6.66134e-016. (in 'D:/PYTHON~1/STAN~1/u_model.stan', line 27, column 4 to column 83)\n\tException: multi_normal_lpdf: LDLT_Factor of covariance parameter is not positive definite.  last conditional variance is -8.88178e-016. (in 'D:/PYTHON~1/STAN~1/u_model.stan', line 27, column 4 to column 83)\n\tException: multi_normal_lpdf: LDLT_Factor of covariance parameter is not positive definite.  last conditional variance is -6.66134e-016. (in 'D:/PYTHON~1/STAN~1/u_model.stan', line 27, column 4 to column 83)\n\tException: multi_normal_lpdf: LDLT_Factor of covariance parameter is not positive definite.  last conditional variance is -4.44089e-016. (in 'D:/PYTHON~1/STAN~1/u_model.stan', line 27, column 4 to column 83)\n\tException: multi_normal_lpdf: LDLT_Factor of covariance parameter is not positive definite.  last conditional variance is -4.44089e-016. (in 'D:/PYTHON~1/STAN~1/u_model.stan', line 27, column 4 to column 83)\n\tException: multi_normal_lpdf: LDLT_Factor of covariance parameter is not positive definite.  last conditional variance is 0. (in 'D:/PYTHON~1/STAN~1/u_model.stan', line 27, column 4 to column 83)\n\tException: multi_normal_lpdf: LDLT_Factor of covariance parameter is not positive definite.  last conditional variance is -1.33227e-015. (in 'D:/PYTHON~1/STAN~1/u_model.stan', line 27, column 4 to column 83)\n\tException: multi_normal_lpdf: LDLT_Factor of covariance parameter is not positive definite.  last conditional variance is 6.66134e-016. (in 'D:/PYTHON~1/STAN~1/u_model.stan', line 27, column 4 to column 83)\n\tException: multi_normal_lpdf: LDLT_Factor of covariance parameter is not positive definite.  last conditional variance is -4.44089e-016. (in 'D:/PYTHON~1/STAN~1/u_model.stan', line 27, column 4 to column 83)\n\tException: multi_normal_lpdf: LDLT_Factor of covariance parameter is not positive definite.  last conditional variance is 2.22045e-016. (in 'D:/PYTHON~1/STAN~1/u_model.stan', line 27, column 4 to column 83)\n\tException: multi_normal_lpdf: LDLT_Factor of covariance parameter is not positive definite.  last conditional variance is 6.66134e-016. (in 'D:/PYTHON~1/STAN~1/u_model.stan', line 27, column 4 to column 83)\n\tException: multi_normal_lpdf: LDLT_Factor of covariance parameter is not positive definite.  last conditional variance is -2.22045e-016. (in 'D:/PYTHON~1/STAN~1/u_model.stan', line 27, column 4 to column 83)\nException: multi_normal_lpdf: LDLT_Factor of covariance parameter is not positive definite.  last conditional variance is 1.11022e-015. (in 'D:/PYTHON~1/STAN~1/u_model.stan', line 27, column 4 to column 83)\n\tException: multi_normal_lpdf: LDLT_Factor of covariance parameter is not positive definite.  last conditional variance is 2.44249e-015. (in 'D:/PYTHON~1/STAN~1/u_model.stan', line 27, column 4 to column 83)\n\tException: multi_normal_lpdf: LDLT_Factor of covariance parameter is not positive definite.  last conditional variance is -6.21725e-015. (in 'D:/PYTHON~1/STAN~1/u_model.stan', line 27, column 4 to column 83)\n\tException: multi_normal_lpdf: LDLT_Factor of covariance parameter is not positive definite.  last conditional variance is 8.88178e-016. (in 'D:/PYTHON~1/STAN~1/u_model.stan', line 27, column 4 to column 83)\n\tException: multi_normal_lpdf: LDLT_Factor of covariance parameter is not positive definite.  last conditional variance is 2.22045e-016. (in 'D:/PYTHON~1/STAN~1/u_model.stan', line 27, column 4 to column 83)\n\tException: multi_normal_lpdf: LDLT_Factor of covariance parameter is not positive definite.  last conditional variance is 2.22045e-016. (in 'D:/PYTHON~1/STAN~1/u_model.stan', line 27, column 4 to column 83)\n\tException: multi_normal_lpdf: LDLT_Factor of covariance parameter is not positive definite.  last conditional variance is -2.22045e-016. (in 'D:/PYTHON~1/STAN~1/u_model.stan', line 27, column 4 to column 83)\n\tException: multi_normal_lpdf: LDLT_Factor of covariance parameter is not positive definite.  last conditional variance is -7.10543e-015. (in 'D:/PYTHON~1/STAN~1/u_model.stan', line 27, column 4 to column 83)\n\tException: multi_normal_lpdf: LDLT_Factor of covariance parameter is not positive definite.  last conditional variance is 4.44089e-016. (in 'D:/PYTHON~1/STAN~1/u_model.stan', line 27, column 4 to column 83)\n\tException: multi_normal_lpdf: LDLT_Factor of covariance parameter is not positive definite.  last conditional variance is 2.22045e-016. (in 'D:/PYTHON~1/STAN~1/u_model.stan', line 27, column 4 to column 83)\n\tException: multi_normal_lpdf: LDLT_Factor of covariance parameter is not positive definite.  last conditional variance is 3.77476e-015. (in 'D:/PYTHON~1/STAN~1/u_model.stan', line 27, column 4 to column 83)\n\tException: multi_normal_lpdf: LDLT_Factor of covariance parameter is not positive definite.  last conditional variance is 0. (in 'D:/PYTHON~1/STAN~1/u_model.stan', line 27, column 4 to column 83)\n\tException: multi_normal_lpdf: LDLT_Factor of covariance parameter is not positive definite.  last conditional variance is -6.66134e-016. (in 'D:/PYTHON~1/STAN~1/u_model.stan', line 27, column 4 to column 83)\n\tException: multi_normal_lpdf: LDLT_Factor of covariance parameter is not positive definite.  last conditional variance is 6.66134e-016. (in 'D:/PYTHON~1/STAN~1/u_model.stan', line 27, column 4 to column 83)\n\tException: multi_normal_lpdf: LDLT_Factor of covariance parameter is not positive definite.  last conditional variance is 1.9984e-015. (in 'D:/PYTHON~1/STAN~1/u_model.stan', line 27, column 4 to column 83)\n\tException: multi_normal_lpdf: LDLT_Factor of covariance parameter is not positive definite.  last conditional variance is -4.66294e-015. (in 'D:/PYTHON~1/STAN~1/u_model.stan', line 27, column 4 to column 83)\n\tException: multi_normal_lpdf: LDLT_Factor of covariance parameter is not positive definite.  last conditional variance is 4.21885e-015. (in 'D:/PYTHON~1/STAN~1/u_model.stan', line 27, column 4 to column 83)\n\tException: multi_normal_lpdf: LDLT_Factor of covariance parameter is not positive definite.  last conditional variance is 8.88178e-016. (in 'D:/PYTHON~1/STAN~1/u_model.stan', line 27, column 4 to column 83)\n\tException: multi_normal_lpdf: LDLT_Factor of covariance parameter is not positive definite.  last conditional variance is -8.88178e-016. (in 'D:/PYTHON~1/STAN~1/u_model.stan', line 27, column 4 to column 83)\n\tException: multi_normal_lpdf: LDLT_Factor of covariance parameter is not positive definite.  last conditional variance is -8.88178e-016. (in 'D:/PYTHON~1/STAN~1/u_model.stan', line 27, column 4 to column 83)\n\tException: multi_normal_lpdf: LDLT_Factor of covariance parameter is not positive definite.  last conditional variance is -3.33067e-015. (in 'D:/PYTHON~1/STAN~1/u_model.stan', line 27, column 4 to column 83)\n\tException: multi_normal_lpdf: LDLT_Factor of covariance parameter is not positive definite.  last conditional variance is 1.11022e-015. (in 'D:/PYTHON~1/STAN~1/u_model.stan', line 27, column 4 to column 83)\n\tException: multi_normal_lpdf: LDLT_Factor of covariance parameter is not positive definite.  last conditional variance is -3.33067e-015. (in 'D:/PYTHON~1/STAN~1/u_model.stan', line 27, column 4 to column 83)\n\tException: multi_normal_lpdf: LDLT_Factor of covariance parameter is not positive definite.  last conditional variance is -1.77636e-015. (in 'D:/PYTHON~1/STAN~1/u_model.stan', line 27, column 4 to column 83)\n\tException: multi_normal_lpdf: LDLT_Factor of covariance parameter is not positive definite.  last conditional variance is -1.55431e-015. (in 'D:/PYTHON~1/STAN~1/u_model.stan', line 27, column 4 to column 83)\n\tException: multi_normal_lpdf: LDLT_Factor of covariance parameter is not positive definite.  last conditional variance is -1.33227e-015. (in 'D:/PYTHON~1/STAN~1/u_model.stan', line 27, column 4 to column 83)\n\tException: multi_normal_lpdf: LDLT_Factor of covariance parameter is not positive definite.  last conditional variance is 6.66134e-016. (in 'D:/PYTHON~1/STAN~1/u_model.stan', line 27, column 4 to column 83)\n\tException: multi_normal_lpdf: LDLT_Factor of covariance parameter is not positive definite.  last conditional variance is -6.66134e-016. (in 'D:/PYTHON~1/STAN~1/u_model.stan', line 27, column 4 to column 83)\n\tException: multi_normal_lpdf: LDLT_Factor of covariance parameter is not positive definite.  last conditional variance is 4.44089e-016. (in 'D:/PYTHON~1/STAN~1/u_model.stan', line 27, column 4 to column 83)\n\tException: multi_normal_lpdf: LDLT_Factor of covariance parameter is not positive definite.  last conditional variance is -6.66134e-016. (in 'D:/PYTHON~1/STAN~1/u_model.stan', line 27, column 4 to column 83)\n\tException: multi_normal_lpdf: LDLT_Factor of covariance parameter is not positive definite.  last conditional variance is -8.88178e-016. (in 'D:/PYTHON~1/STAN~1/u_model.stan', line 27, column 4 to column 83)\n\tException: multi_normal_lpdf: LDLT_Factor of covariance parameter is not positive definite.  last conditional variance is 1.95399e-014. (in 'D:/PYTHON~1/STAN~1/u_model.stan', line 27, column 4 to column 83)\n\tException: multi_normal_lpdf: LDLT_Factor of covariance parameter is not positive definite.  last conditional variance is -1.55431e-015. (in 'D:/PYTHON~1/STAN~1/u_model.stan', line 27, column 4 to column 83)\n\tException: multi_normal_lpdf: LDLT_Factor of covariance parameter is not positive definite.  last conditional variance is 6.66134e-016. (in 'D:/PYTHON~1/STAN~1/u_model.stan', line 27, column 4 to column 83)\n\tException: multi_normal_lpdf: LDLT_Factor of covariance parameter is not positive definite.  last conditional variance is -1.33227e-015. (in 'D:/PYTHON~1/STAN~1/u_model.stan', line 27, column 4 to column 83)\n\tException: multi_normal_lpdf: LDLT_Factor of covariance parameter is not positive definite.  last conditional variance is 2.22045e-016. (in 'D:/PYTHON~1/STAN~1/u_model.stan', line 27, column 4 to column 83)\n\tException: multi_normal_lpdf: LDLT_Factor of covariance parameter is not positive definite.  last conditional variance is -6.66134e-016. (in 'D:/PYTHON~1/STAN~1/u_model.stan', line 27, column 4 to column 83)\n\tException: multi_normal_lpdf: LDLT_Factor of covariance parameter is not positive definite.  last conditional variance is -6.66134e-016. (in 'D:/PYTHON~1/STAN~1/u_model.stan', line 27, column 4 to column 83)\n\tException: multi_normal_lpdf: LDLT_Factor of covariance parameter is not positive definite.  last conditional variance is -1.77636e-015. (in 'D:/PYTHON~1/STAN~1/u_model.stan', line 27, column 4 to column 83)\n\tException: multi_normal_lpdf: LDLT_Factor of covariance parameter is not positive definite.  last conditional variance is 4.44089e-016. (in 'D:/PYTHON~1/STAN~1/u_model.stan', line 27, column 4 to column 83)\n\tException: multi_normal_lpdf: LDLT_Factor of covariance parameter is not positive definite.  last conditional variance is 6.66134e-016. (in 'D:/PYTHON~1/STAN~1/u_model.stan', line 27, column 4 to column 83)\n\tException: multi_normal_lpdf: LDLT_Factor of covariance parameter is not positive definite.  last conditional variance is -1.11022e-015. (in 'D:/PYTHON~1/STAN~1/u_model.stan', line 27, column 4 to column 83)\n\tException: multi_normal_lpdf: LDLT_Factor of covariance parameter is not positive definite.  last conditional variance is -6.66134e-015. (in 'D:/PYTHON~1/STAN~1/u_model.stan', line 27, column 4 to column 83)\n\tException: multi_normal_lpdf: LDLT_Factor of covariance parameter is not positive definite.  last conditional variance is 1.33227e-015. (in 'D:/PYTHON~1/STAN~1/u_model.stan', line 27, column 4 to column 83)\n\tException: multi_normal_lpdf: LDLT_Factor of covariance parameter is not positive definite.  last conditional variance is -7.54952e-015. (in 'D:/PYTHON~1/STAN~1/u_model.stan', line 27, column 4 to column 83)\n\tException: multi_normal_lpdf: LDLT_Factor of covariance parameter is not positive definite.  last conditional variance is 1.9984e-015. (in 'D:/PYTHON~1/STAN~1/u_model.stan', line 27, column 4 to column 83)\n\tException: multi_normal_lpdf: LDLT_Factor of covariance parameter is not positive definite.  last conditional variance is -4.44089e-016. (in 'D:/PYTHON~1/STAN~1/u_model.stan', line 27, column 4 to column 83)\n\tException: multi_normal_lpdf: LDLT_Factor of covariance parameter is not positive definite.  last conditional variance is -8.88178e-016. (in 'D:/PYTHON~1/STAN~1/u_model.stan', line 27, column 4 to column 83)\n\tException: multi_normal_lpdf: LDLT_Factor of covariance parameter is not positive definite.  last conditional variance is 0. (in 'D:/PYTHON~1/STAN~1/u_model.stan', line 27, column 4 to column 83)\n\tException: multi_normal_lpdf: LDLT_Factor of covariance parameter is not positive definite.  last conditional variance is -1.11022e-015. (in 'D:/PYTHON~1/STAN~1/u_model.stan', line 27, column 4 to column 83)\n\tException: multi_normal_lpdf: LDLT_Factor of covariance parameter is not positive definite.  last conditional variance is 2.44249e-015. (in 'D:/PYTHON~1/STAN~1/u_model.stan', line 27, column 4 to column 83)\n\tException: multi_normal_lpdf: LDLT_Factor of covariance parameter is not positive definite.  last conditional variance is 2.22045e-016. (in 'D:/PYTHON~1/STAN~1/u_model.stan', line 27, column 4 to column 83)\n\tException: multi_normal_lpdf: LDLT_Factor of covariance parameter is not positive definite.  last conditional variance is 2.22045e-015. (in 'D:/PYTHON~1/STAN~1/u_model.stan', line 27, column 4 to column 83)\n\tException: multi_normal_lpdf: LDLT_Factor of covariance parameter is not positive definite.  last conditional variance is -1.55431e-015. (in 'D:/PYTHON~1/STAN~1/u_model.stan', line 27, column 4 to column 83)\n\tException: multi_normal_lpdf: LDLT_Factor of covariance parameter is not positive definite.  last conditional variance is 2.22045e-016. (in 'D:/PYTHON~1/STAN~1/u_model.stan', line 27, column 4 to column 83)\n\tException: multi_normal_lpdf: LDLT_Factor of covariance parameter is not positive definite.  last conditional variance is 6.66134e-016. (in 'D:/PYTHON~1/STAN~1/u_model.stan', line 27, column 4 to column 83)\n\tException: multi_normal_lpdf: LDLT_Factor of covariance parameter is not positive definite.  last conditional variance is -1.33227e-015. (in 'D:/PYTHON~1/STAN~1/u_model.stan', line 27, column 4 to column 83)\n\tException: multi_normal_lpdf: LDLT_Factor of covariance parameter is not positive definite.  last conditional variance is -2.66454e-015. (in 'D:/PYTHON~1/STAN~1/u_model.stan', line 27, column 4 to column 83)\n\tException: multi_normal_lpdf: LDLT_Factor of covariance parameter is not positive definite.  last conditional variance is 1.19904e-014. (in 'D:/PYTHON~1/STAN~1/u_model.stan', line 27, column 4 to column 83)\n\tException: multi_normal_lpdf: LDLT_Factor of covariance parameter is not positive definite.  last conditional variance is -5.10703e-015. (in 'D:/PYTHON~1/STAN~1/u_model.stan', line 27, column 4 to column 83)\n\tException: multi_normal_lpdf: LDLT_Factor of covariance parameter is not positive definite.  last conditional variance is -2.39808e-014. (in 'D:/PYTHON~1/STAN~1/u_model.stan', line 27, column 4 to column 83)\n\tException: multi_normal_lpdf: LDLT_Factor of covariance parameter is not positive definite.  last conditional variance is 0. (in 'D:/PYTHON~1/STAN~1/u_model.stan', line 27, column 4 to column 83)\n\tException: multi_normal_lpdf: LDLT_Factor of covariance parameter is not positive definite.  last conditional variance is -1.55431e-015. (in 'D:/PYTHON~1/STAN~1/u_model.stan', line 27, column 4 to column 83)\n\tException: multi_normal_lpdf: LDLT_Factor of covariance parameter is not positive definite.  last conditional variance is -1.33227e-015. (in 'D:/PYTHON~1/STAN~1/u_model.stan', line 27, column 4 to column 83)\n\tException: multi_normal_lpdf: LDLT_Factor of covariance parameter is not positive definite.  last conditional variance is 1.77636e-015. (in 'D:/PYTHON~1/STAN~1/u_model.stan', line 27, column 4 to column 83)\n\tException: multi_normal_lpdf: LDLT_Factor of covariance parameter is not positive definite.  last conditional variance is -4.44089e-016. (in 'D:/PYTHON~1/STAN~1/u_model.stan', line 27, column 4 to column 83)\n\tException: multi_normal_lpdf: LDLT_Factor of covariance parameter is not positive definite.  last conditional variance is 4.44089e-016. (in 'D:/PYTHON~1/STAN~1/u_model.stan', line 27, column 4 to column 83)\n\tException: multi_normal_lpdf: LDLT_Factor of covariance parameter is not positive definite.  last conditional variance is 0. (in 'D:/PYTHON~1/STAN~1/u_model.stan', line 27, column 4 to column 83)\n\tException: multi_normal_lpdf: LDLT_Factor of covariance parameter is not positive definite.  last conditional variance is -6.66134e-016. (in 'D:/PYTHON~1/STAN~1/u_model.stan', line 27, column 4 to column 83)\n\tException: multi_normal_lpdf: LDLT_Factor of covariance parameter is not positive definite.  last conditional variance is -2.22045e-015. (in 'D:/PYTHON~1/STAN~1/u_model.stan', line 27, column 4 to column 83)\n\tException: multi_normal_lpdf: LDLT_Factor of covariance parameter is not positive definite.  last conditional variance is -4.44089e-016. (in 'D:/PYTHON~1/STAN~1/u_model.stan', line 27, column 4 to column 83)\n\tException: multi_normal_lpdf: LDLT_Factor of covariance parameter is not positive definite.  last conditional variance is 6.66134e-016. (in 'D:/PYTHON~1/STAN~1/u_model.stan', line 27, column 4 to column 83)\n\tException: multi_normal_lpdf: LDLT_Factor of covariance parameter is not positive definite.  last conditional variance is -6.66134e-016. (in 'D:/PYTHON~1/STAN~1/u_model.stan', line 27, column 4 to column 83)\n\tException: multi_normal_lpdf: LDLT_Factor of covariance parameter is not positive definite.  last conditional variance is 1.77636e-015. (in 'D:/PYTHON~1/STAN~1/u_model.stan', line 27, column 4 to column 83)\n\tException: multi_normal_lpdf: LDLT_Factor of covariance parameter is not positive definite.  last conditional variance is -1.11022e-015. (in 'D:/PYTHON~1/STAN~1/u_model.stan', line 27, column 4 to column 83)\n\tException: multi_normal_lpdf: LDLT_Factor of covariance parameter is not positive definite.  last conditional variance is 0. (in 'D:/PYTHON~1/STAN~1/u_model.stan', line 27, column 4 to column 83)\n\tException: multi_normal_lpdf: LDLT_Factor of covariance parameter is not positive definite.  last conditional variance is 2.88658e-015. (in 'D:/PYTHON~1/STAN~1/u_model.stan', line 27, column 4 to column 83)\n\tException: multi_normal_lpdf: LDLT_Factor of covariance parameter is not positive definite.  last conditional variance is 0. (in 'D:/PYTHON~1/STAN~1/u_model.stan', line 27, column 4 to column 83)\n\tException: multi_normal_lpdf: LDLT_Factor of covariance parameter is not positive definite.  last conditional variance is -2.22045e-016. (in 'D:/PYTHON~1/STAN~1/u_model.stan', line 27, column 4 to column 83)\n\tException: multi_normal_lpdf: LDLT_Factor of covariance parameter is not positive definite.  last conditional variance is -6.21725e-015. (in 'D:/PYTHON~1/STAN~1/u_model.stan', line 27, column 4 to column 83)\n\tException: multi_normal_lpdf: LDLT_Factor of covariance parameter is not positive definite.  last conditional variance is -4.44089e-016. (in 'D:/PYTHON~1/STAN~1/u_model.stan', line 27, column 4 to column 83)\n\tException: multi_normal_lpdf: LDLT_Factor of covariance parameter is not positive definite.  last conditional variance is 1.11022e-015. (in 'D:/PYTHON~1/STAN~1/u_model.stan', line 27, column 4 to column 83)\n\tException: multi_normal_lpdf: LDLT_Factor of covariance parameter is not positive definite.  last conditional variance is -4.44089e-016. (in 'D:/PYTHON~1/STAN~1/u_model.stan', line 27, column 4 to column 83)\n\tException: multi_normal_lpdf: LDLT_Factor of covariance parameter is not positive definite.  last conditional variance is 1.77636e-015. (in 'D:/PYTHON~1/STAN~1/u_model.stan', line 27, column 4 to column 83)\n\tException: multi_normal_lpdf: LDLT_Factor of covariance parameter is not positive definite.  last conditional variance is 0. (in 'D:/PYTHON~1/STAN~1/u_model.stan', line 27, column 4 to column 83)\n\tException: multi_normal_lpdf: LDLT_Factor of covariance parameter is not positive definite.  last conditional variance is 8.88178e-016. (in 'D:/PYTHON~1/STAN~1/u_model.stan', line 27, column 4 to column 83)\n\tException: multi_normal_lpdf: LDLT_Factor of covariance parameter is not positive definite.  last conditional variance is -4.44089e-016. (in 'D:/PYTHON~1/STAN~1/u_model.stan', line 27, column 4 to column 83)\n\tException: multi_normal_lpdf: LDLT_Factor of covariance parameter is not positive definite.  last conditional variance is 1.55431e-015. (in 'D:/PYTHON~1/STAN~1/u_model.stan', line 27, column 4 to column 83)\n\tException: multi_normal_lpdf: LDLT_Factor of covariance parameter is not positive definite.  last conditional variance is -1.9984e-015. (in 'D:/PYTHON~1/STAN~1/u_model.stan', line 27, column 4 to column 83)\n\tException: multi_normal_lpdf: LDLT_Factor of covariance parameter is not positive definite.  last conditional variance is -2.22045e-015. (in 'D:/PYTHON~1/STAN~1/u_model.stan', line 27, column 4 to column 83)\n\tException: multi_normal_lpdf: LDLT_Factor of covariance parameter is not positive definite.  last conditional variance is 1.55431e-015. (in 'D:/PYTHON~1/STAN~1/u_model.stan', line 27, column 4 to column 83)\n\tException: multi_normal_lpdf: LDLT_Factor of covariance parameter is not positive definite.  last conditional variance is 6.66134e-016. (in 'D:/PYTHON~1/STAN~1/u_model.stan', line 27, column 4 to column 83)\n\tException: multi_normal_lpdf: LDLT_Factor of covariance parameter is not positive definite.  last conditional variance is 1.9984e-015. (in 'D:/PYTHON~1/STAN~1/u_model.stan', line 27, column 4 to column 83)\n\tException: multi_normal_lpdf: LDLT_Factor of covariance parameter is not positive definite.  last conditional variance is 6.66134e-016. (in 'D:/PYTHON~1/STAN~1/u_model.stan', line 27, column 4 to column 83)\n\tException: multi_normal_lpdf: LDLT_Factor of covariance parameter is not positive definite.  last conditional variance is 7.32747e-015. (in 'D:/PYTHON~1/STAN~1/u_model.stan', line 27, column 4 to column 83)\n\tException: multi_normal_lpdf: LDLT_Factor of covariance parameter is not positive definite.  last conditional variance is -1.55431e-015. (in 'D:/PYTHON~1/STAN~1/u_model.stan', line 27, column 4 to column 83)\n\tException: multi_normal_lpdf: LDLT_Factor of covariance parameter is not positive definite.  last conditional variance is -5.32907e-015. (in 'D:/PYTHON~1/STAN~1/u_model.stan', line 27, column 4 to column 83)\n\tException: multi_normal_lpdf: LDLT_Factor of covariance parameter is not positive definite.  last conditional variance is -4.44089e-016. (in 'D:/PYTHON~1/STAN~1/u_model.stan', line 27, column 4 to column 83)\n\tException: multi_normal_lpdf: LDLT_Factor of covariance parameter is not positive definite.  last conditional variance is 7.54952e-015. (in 'D:/PYTHON~1/STAN~1/u_model.stan', line 27, column 4 to column 83)\n\tException: multi_normal_lpdf: LDLT_Factor of covariance parameter is not positive definite.  last conditional variance is -2.44249e-015. (in 'D:/PYTHON~1/STAN~1/u_model.stan', line 27, column 4 to column 83)\nCommand and output files:\nRunSet: chains=4, chain_ids=[1, 2, 3, 4], num_processes=4\n cmd (chain 1):\n\t['D:\\\\Python Files\\\\.stan\\\\u_model.exe', 'id=1', 'random', 'seed=17938', 'data', 'file=C:\\\\Users\\\\biraj\\\\AppData\\\\Local\\\\Temp\\\\tmp0we9rzt1\\\\rg7_3mp3.json', 'output', 'file=C:\\\\Users\\\\biraj\\\\AppData\\\\Local\\\\Temp\\\\tmp0we9rzt1\\\\u_model0ie1sgwd\\\\u_model-20221108134920_1.csv', 'method=sample', 'algorithm=hmc', 'adapt', 'engaged=1']\n retcodes=[1, 1, 1, 1]\n per-chain output files (showing chain 1 only):\n csv_file:\n\tC:\\Users\\biraj\\AppData\\Local\\Temp\\tmp0we9rzt1\\u_model0ie1sgwd\\u_model-20221108134920_1.csv\n console_msgs (if any):\n\tC:\\Users\\biraj\\AppData\\Local\\Temp\\tmp0we9rzt1\\u_model0ie1sgwd\\u_model-20221108134920_0-stdout.txt\nConsider re-running with show_console=True if the above output is unclear!",
     "output_type": "error",
     "traceback": [
      "\u001b[1;31m---------------------------------------------------------------------------\u001b[0m",
      "\u001b[1;31mRuntimeError\u001b[0m                              Traceback (most recent call last)",
      "Input \u001b[1;32mIn [160]\u001b[0m, in \u001b[0;36m<cell line: 1>\u001b[1;34m()\u001b[0m\n\u001b[1;32m----> 1\u001b[0m full \u001b[38;5;241m=\u001b[39m \u001b[43mupdate_all\u001b[49m\u001b[43m(\u001b[49m\u001b[43mn_iter\u001b[49m\u001b[43m \u001b[49m\u001b[38;5;241;43m=\u001b[39;49m\u001b[43m \u001b[49m\u001b[38;5;241;43m5\u001b[39;49m\u001b[43m,\u001b[49m\u001b[43m \u001b[49m\u001b[43my\u001b[49m\u001b[43m \u001b[49m\u001b[38;5;241;43m=\u001b[39;49m\u001b[43m \u001b[49m\u001b[43my\u001b[49m\u001b[43m,\u001b[49m\u001b[43m \u001b[49m\u001b[43mx\u001b[49m\u001b[43m \u001b[49m\u001b[38;5;241;43m=\u001b[39;49m\u001b[43m \u001b[49m\u001b[43mx\u001b[49m\u001b[43m,\u001b[49m\u001b[43m \u001b[49m\u001b[43mc_0\u001b[49m\u001b[43m \u001b[49m\u001b[38;5;241;43m=\u001b[39;49m\u001b[43m \u001b[49m\u001b[38;5;241;43m1\u001b[39;49m\u001b[43m,\u001b[49m\u001b[43m \u001b[49m\u001b[43moffset\u001b[49m\u001b[43m \u001b[49m\u001b[38;5;241;43m=\u001b[39;49m\u001b[43m \u001b[49m\u001b[38;5;241;43m0.5\u001b[39;49m\u001b[43m,\u001b[49m\u001b[43m \u001b[49m\u001b[43mp\u001b[49m\u001b[43m \u001b[49m\u001b[38;5;241;43m=\u001b[39;49m\u001b[43m \u001b[49m\u001b[38;5;241;43m2\u001b[39;49m\u001b[43m)\u001b[49m\n",
      "Input \u001b[1;32mIn [158]\u001b[0m, in \u001b[0;36mupdate_all\u001b[1;34m(n_iter, y, x, c_0, offset, p)\u001b[0m\n\u001b[0;32m     10\u001b[0m \u001b[38;5;28;01mfor\u001b[39;00m j \u001b[38;5;129;01min\u001b[39;00m \u001b[38;5;28mrange\u001b[39m(n_iter):\n\u001b[0;32m     11\u001b[0m     mu \u001b[38;5;241m=\u001b[39m update_mu(y, x, u, c_0, offset)\n\u001b[1;32m---> 12\u001b[0m     u \u001b[38;5;241m=\u001b[39m \u001b[43mupdate_u\u001b[49m\u001b[43m(\u001b[49m\u001b[43mmu\u001b[49m\u001b[43m,\u001b[49m\u001b[43m \u001b[49m\u001b[43mx\u001b[49m\u001b[43m,\u001b[49m\u001b[43m \u001b[49m\u001b[43mc_0\u001b[49m\u001b[43m,\u001b[49m\u001b[43m \u001b[49m\u001b[43moffset\u001b[49m\u001b[43m,\u001b[49m\u001b[43m \u001b[49m\u001b[43mp\u001b[49m\u001b[43m)\u001b[49m\n\u001b[0;32m     13\u001b[0m     \u001b[38;5;66;03m# storing all draws\u001b[39;00m\n\u001b[0;32m     14\u001b[0m     mu_mat \u001b[38;5;241m=\u001b[39m mu_mat \u001b[38;5;241m+\u001b[39m [mu]\n",
      "Input \u001b[1;32mIn [132]\u001b[0m, in \u001b[0;36mupdate_u\u001b[1;34m(mu, x, c_0, offset, p)\u001b[0m\n\u001b[0;32m      2\u001b[0m n \u001b[38;5;241m=\u001b[39m \u001b[38;5;28mlen\u001b[39m(x)\n\u001b[0;32m      3\u001b[0m data_u \u001b[38;5;241m=\u001b[39m {\u001b[38;5;124m'\u001b[39m\u001b[38;5;124mn\u001b[39m\u001b[38;5;124m'\u001b[39m:n, \u001b[38;5;124m'\u001b[39m\u001b[38;5;124mp\u001b[39m\u001b[38;5;124m'\u001b[39m:p, \u001b[38;5;124m'\u001b[39m\u001b[38;5;124mc_0\u001b[39m\u001b[38;5;124m'\u001b[39m:c_0, \u001b[38;5;124m'\u001b[39m\u001b[38;5;124moffset_val\u001b[39m\u001b[38;5;124m'\u001b[39m:offset, \u001b[38;5;124m'\u001b[39m\u001b[38;5;124mmu\u001b[39m\u001b[38;5;124m'\u001b[39m:mu, \u001b[38;5;124m'\u001b[39m\u001b[38;5;124mx\u001b[39m\u001b[38;5;124m'\u001b[39m:x}\n\u001b[1;32m----> 4\u001b[0m fit_u \u001b[38;5;241m=\u001b[39m \u001b[43mu_model\u001b[49m\u001b[38;5;241;43m.\u001b[39;49m\u001b[43msample\u001b[49m\u001b[43m(\u001b[49m\u001b[43mdata\u001b[49m\u001b[43m \u001b[49m\u001b[38;5;241;43m=\u001b[39;49m\u001b[43m \u001b[49m\u001b[43mdata_u\u001b[49m\u001b[43m)\u001b[49m\n\u001b[0;32m      5\u001b[0m out \u001b[38;5;241m=\u001b[39m \u001b[38;5;28mlist\u001b[39m(fit_u\u001b[38;5;241m.\u001b[39msummary()[\u001b[38;5;124m'\u001b[39m\u001b[38;5;124mMean\u001b[39m\u001b[38;5;124m'\u001b[39m]\u001b[38;5;241m.\u001b[39miloc[\u001b[38;5;241m1\u001b[39m:])\n\u001b[0;32m      6\u001b[0m \u001b[38;5;28;01mreturn\u001b[39;00m out\n",
      "File \u001b[1;32mD:\\Anaconda\\lib\\site-packages\\cmdstanpy\\model.py:1190\u001b[0m, in \u001b[0;36mCmdStanModel.sample\u001b[1;34m(self, data, chains, parallel_chains, threads_per_chain, seed, chain_ids, inits, iter_warmup, iter_sampling, save_warmup, thin, max_treedepth, metric, step_size, adapt_engaged, adapt_delta, adapt_init_phase, adapt_metric_window, adapt_step_size, fixed_param, output_dir, sig_figs, save_latent_dynamics, save_profile, show_progress, show_console, refresh, time_fmt, force_one_process_per_chain)\u001b[0m\n\u001b[0;32m   1183\u001b[0m \u001b[38;5;28;01mif\u001b[39;00m \u001b[38;5;129;01mnot\u001b[39;00m runset\u001b[38;5;241m.\u001b[39m_check_retcodes():\n\u001b[0;32m   1184\u001b[0m     msg \u001b[38;5;241m=\u001b[39m (\n\u001b[0;32m   1185\u001b[0m         \u001b[38;5;124mf\u001b[39m\u001b[38;5;124m'\u001b[39m\u001b[38;5;124mError during sampling:\u001b[39m\u001b[38;5;130;01m\\n\u001b[39;00m\u001b[38;5;132;01m{\u001b[39;00merrors\u001b[38;5;132;01m}\u001b[39;00m\u001b[38;5;130;01m\\n\u001b[39;00m\u001b[38;5;124m'\u001b[39m\n\u001b[0;32m   1186\u001b[0m         \u001b[38;5;241m+\u001b[39m \u001b[38;5;124mf\u001b[39m\u001b[38;5;124m'\u001b[39m\u001b[38;5;124mCommand and output files:\u001b[39m\u001b[38;5;130;01m\\n\u001b[39;00m\u001b[38;5;132;01m{\u001b[39;00m\u001b[38;5;28mrepr\u001b[39m(runset)\u001b[38;5;132;01m}\u001b[39;00m\u001b[38;5;130;01m\\n\u001b[39;00m\u001b[38;5;124m'\u001b[39m\n\u001b[0;32m   1187\u001b[0m         \u001b[38;5;241m+\u001b[39m \u001b[38;5;124m'\u001b[39m\u001b[38;5;124mConsider re-running with show_console=True if the above\u001b[39m\u001b[38;5;124m'\u001b[39m\n\u001b[0;32m   1188\u001b[0m         \u001b[38;5;241m+\u001b[39m \u001b[38;5;124m'\u001b[39m\u001b[38;5;124m output is unclear!\u001b[39m\u001b[38;5;124m'\u001b[39m\n\u001b[0;32m   1189\u001b[0m     )\n\u001b[1;32m-> 1190\u001b[0m     \u001b[38;5;28;01mraise\u001b[39;00m \u001b[38;5;167;01mRuntimeError\u001b[39;00m(msg)\n\u001b[0;32m   1191\u001b[0m \u001b[38;5;28;01mif\u001b[39;00m errors:\n\u001b[0;32m   1192\u001b[0m     msg \u001b[38;5;241m=\u001b[39m (\n\u001b[0;32m   1193\u001b[0m         \u001b[38;5;124mf\u001b[39m\u001b[38;5;124m'\u001b[39m\u001b[38;5;124mNon-fatal error during sampling:\u001b[39m\u001b[38;5;130;01m\\n\u001b[39;00m\u001b[38;5;132;01m{\u001b[39;00merrors\u001b[38;5;132;01m}\u001b[39;00m\u001b[38;5;130;01m\\n\u001b[39;00m\u001b[38;5;124m'\u001b[39m\n\u001b[0;32m   1194\u001b[0m         \u001b[38;5;241m+\u001b[39m \u001b[38;5;124m'\u001b[39m\u001b[38;5;124mConsider re-running with show_console=True if the above\u001b[39m\u001b[38;5;124m'\u001b[39m\n\u001b[0;32m   1195\u001b[0m         \u001b[38;5;241m+\u001b[39m \u001b[38;5;124m'\u001b[39m\u001b[38;5;124m output is unclear!\u001b[39m\u001b[38;5;124m'\u001b[39m\n\u001b[0;32m   1196\u001b[0m     )\n",
      "\u001b[1;31mRuntimeError\u001b[0m: Error during sampling:\nException: multi_normal_lpdf: LDLT_Factor of covariance parameter is not positive definite.  last conditional variance is 2.88658e-015. (in 'D:/PYTHON~1/STAN~1/u_model.stan', line 27, column 4 to column 83)\n\tException: multi_normal_lpdf: LDLT_Factor of covariance parameter is not positive definite.  last conditional variance is 2.88658e-015. (in 'D:/PYTHON~1/STAN~1/u_model.stan', line 27, column 4 to column 83)\n\tException: multi_normal_lpdf: LDLT_Factor of covariance parameter is not positive definite.  last conditional variance is 1.11022e-015. (in 'D:/PYTHON~1/STAN~1/u_model.stan', line 27, column 4 to column 83)\n\tException: multi_normal_lpdf: LDLT_Factor of covariance parameter is not positive definite.  last conditional variance is -8.88178e-016. (in 'D:/PYTHON~1/STAN~1/u_model.stan', line 27, column 4 to column 83)\n\tException: multi_normal_lpdf: LDLT_Factor of covariance parameter is not positive definite.  last conditional variance is -3.55271e-015. (in 'D:/PYTHON~1/STAN~1/u_model.stan', line 27, column 4 to column 83)\n\tException: multi_normal_lpdf: LDLT_Factor of covariance parameter is not positive definite.  last conditional variance is -8.88178e-016. (in 'D:/PYTHON~1/STAN~1/u_model.stan', line 27, column 4 to column 83)\n\tException: multi_normal_lpdf: LDLT_Factor of covariance parameter is not positive definite.  last conditional variance is -2.44249e-015. (in 'D:/PYTHON~1/STAN~1/u_model.stan', line 27, column 4 to column 83)\n\tException: multi_normal_lpdf: LDLT_Factor of covariance parameter is not positive definite.  last conditional variance is 6.66134e-016. (in 'D:/PYTHON~1/STAN~1/u_model.stan', line 27, column 4 to column 83)\n\tException: multi_normal_lpdf: LDLT_Factor of covariance parameter is not positive definite.  last conditional variance is 1.77636e-015. (in 'D:/PYTHON~1/STAN~1/u_model.stan', line 27, column 4 to column 83)\n\tException: multi_normal_lpdf: LDLT_Factor of covariance parameter is not positive definite.  last conditional variance is -2.88658e-015. (in 'D:/PYTHON~1/STAN~1/u_model.stan', line 27, column 4 to column 83)\n\tException: multi_normal_lpdf: LDLT_Factor of covariance parameter is not positive definite.  last conditional variance is -1.77636e-015. (in 'D:/PYTHON~1/STAN~1/u_model.stan', line 27, column 4 to column 83)\n\tException: multi_normal_lpdf: LDLT_Factor of covariance parameter is not positive definite.  last conditional variance is 3.33067e-015. (in 'D:/PYTHON~1/STAN~1/u_model.stan', line 27, column 4 to column 83)\n\tException: multi_normal_lpdf: LDLT_Factor of covariance parameter is not positive definite.  last conditional variance is -3.10862e-015. (in 'D:/PYTHON~1/STAN~1/u_model.stan', line 27, column 4 to column 83)\n\tException: multi_normal_lpdf: LDLT_Factor of covariance parameter is not positive definite.  last conditional variance is -1.33227e-015. (in 'D:/PYTHON~1/STAN~1/u_model.stan', line 27, column 4 to column 83)\n\tException: multi_normal_lpdf: LDLT_Factor of covariance parameter is not positive definite.  last conditional variance is -1.55431e-015. (in 'D:/PYTHON~1/STAN~1/u_model.stan', line 27, column 4 to column 83)\n\tException: multi_normal_lpdf: LDLT_Factor of covariance parameter is not positive definite.  last conditional variance is 1.33227e-015. (in 'D:/PYTHON~1/STAN~1/u_model.stan', line 27, column 4 to column 83)\n\tException: multi_normal_lpdf: LDLT_Factor of covariance parameter is not positive definite.  last conditional variance is 2.22045e-016. (in 'D:/PYTHON~1/STAN~1/u_model.stan', line 27, column 4 to column 83)\n\tException: multi_normal_lpdf: LDLT_Factor of covariance parameter is not positive definite.  last conditional variance is -1.33227e-015. (in 'D:/PYTHON~1/STAN~1/u_model.stan', line 27, column 4 to column 83)\n\tException: multi_normal_lpdf: LDLT_Factor of covariance parameter is not positive definite.  last conditional variance is -4.44089e-016. (in 'D:/PYTHON~1/STAN~1/u_model.stan', line 27, column 4 to column 83)\n\tException: multi_normal_lpdf: LDLT_Factor of covariance parameter is not positive definite.  last conditional variance is 8.88178e-016. (in 'D:/PYTHON~1/STAN~1/u_model.stan', line 27, column 4 to column 83)\n\tException: multi_normal_lpdf: LDLT_Factor of covariance parameter is not positive definite.  last conditional variance is 8.88178e-016. (in 'D:/PYTHON~1/STAN~1/u_model.stan', line 27, column 4 to column 83)\n\tException: multi_normal_lpdf: LDLT_Factor of covariance parameter is not positive definite.  last conditional variance is -1.77636e-015. (in 'D:/PYTHON~1/STAN~1/u_model.stan', line 27, column 4 to column 83)\n\tException: multi_normal_lpdf: LDLT_Factor of covariance parameter is not positive definite.  last conditional variance is -2.44249e-015. (in 'D:/PYTHON~1/STAN~1/u_model.stan', line 27, column 4 to column 83)\n\tException: multi_normal_lpdf: LDLT_Factor of covariance parameter is not positive definite.  last conditional variance is 2.44249e-015. (in 'D:/PYTHON~1/STAN~1/u_model.stan', line 27, column 4 to column 83)\n\tException: multi_normal_lpdf: LDLT_Factor of covariance parameter is not positive definite.  last conditional variance is -1.9984e-015. (in 'D:/PYTHON~1/STAN~1/u_model.stan', line 27, column 4 to column 83)\n\tException: multi_normal_lpdf: LDLT_Factor of covariance parameter is not positive definite.  last conditional variance is 0. (in 'D:/PYTHON~1/STAN~1/u_model.stan', line 27, column 4 to column 83)\n\tException: multi_normal_lpdf: LDLT_Factor of covariance parameter is not positive definite.  last conditional variance is -1.11022e-015. (in 'D:/PYTHON~1/STAN~1/u_model.stan', line 27, column 4 to column 83)\n\tException: multi_normal_lpdf: LDLT_Factor of covariance parameter is not positive definite.  last conditional variance is 8.88178e-016. (in 'D:/PYTHON~1/STAN~1/u_model.stan', line 27, column 4 to column 83)\n\tException: multi_normal_lpdf: LDLT_Factor of covariance parameter is not positive definite.  last conditional variance is 6.88338e-015. (in 'D:/PYTHON~1/STAN~1/u_model.stan', line 27, column 4 to column 83)\n\tException: multi_normal_lpdf: LDLT_Factor of covariance parameter is not positive definite.  last conditional variance is 3.9968e-015. (in 'D:/PYTHON~1/STAN~1/u_model.stan', line 27, column 4 to column 83)\n\tException: multi_normal_lpdf: LDLT_Factor of covariance parameter is not positive definite.  last conditional variance is -5.55112e-015. (in 'D:/PYTHON~1/STAN~1/u_model.stan', line 27, column 4 to column 83)\n\tException: multi_normal_lpdf: LDLT_Factor of covariance parameter is not positive definite.  last conditional variance is 8.88178e-016. (in 'D:/PYTHON~1/STAN~1/u_model.stan', line 27, column 4 to column 83)\n\tException: multi_normal_lpdf: LDLT_Factor of covariance parameter is not positive definite.  last conditional variance is -4.44089e-016. (in 'D:/PYTHON~1/STAN~1/u_model.stan', line 27, column 4 to column 83)\n\tException: multi_normal_lpdf: LDLT_Factor of covariance parameter is not positive definite.  last conditional variance is -2.88658e-015. (in 'D:/PYTHON~1/STAN~1/u_model.stan', line 27, column 4 to column 83)\n\tException: multi_normal_lpdf: LDLT_Factor of covariance parameter is not positive definite.  last conditional variance is -6.66134e-016. (in 'D:/PYTHON~1/STAN~1/u_model.stan', line 27, column 4 to column 83)\n\tException: multi_normal_lpdf: LDLT_Factor of covariance parameter is not positive definite.  last conditional variance is 1.33227e-015. (in 'D:/PYTHON~1/STAN~1/u_model.stan', line 27, column 4 to column 83)\n\tException: multi_normal_lpdf: LDLT_Factor of covariance parameter is not positive definite.  last conditional variance is 0. (in 'D:/PYTHON~1/STAN~1/u_model.stan', line 27, column 4 to column 83)\n\tException: multi_normal_lpdf: LDLT_Factor of covariance parameter is not positive definite.  last conditional variance is -1.33227e-015. (in 'D:/PYTHON~1/STAN~1/u_model.stan', line 27, column 4 to column 83)\n\tException: multi_normal_lpdf: LDLT_Factor of covariance parameter is not positive definite.  last conditional variance is 8.88178e-016. (in 'D:/PYTHON~1/STAN~1/u_model.stan', line 27, column 4 to column 83)\n\tException: multi_normal_lpdf: LDLT_Factor of covariance parameter is not positive definite.  last conditional variance is -2.55351e-014. (in 'D:/PYTHON~1/STAN~1/u_model.stan', line 27, column 4 to column 83)\n\tException: multi_normal_lpdf: LDLT_Factor of covariance parameter is not positive definite.  last conditional variance is -4.66294e-015. (in 'D:/PYTHON~1/STAN~1/u_model.stan', line 27, column 4 to column 83)\n\tException: multi_normal_lpdf: LDLT_Factor of covariance parameter is not positive definite.  last conditional variance is -2.22045e-015. (in 'D:/PYTHON~1/STAN~1/u_model.stan', line 27, column 4 to column 83)\n\tException: multi_normal_lpdf: LDLT_Factor of covariance parameter is not positive definite.  last conditional variance is 0. (in 'D:/PYTHON~1/STAN~1/u_model.stan', line 27, column 4 to column 83)\n\tException: multi_normal_lpdf: LDLT_Factor of covariance parameter is not positive definite.  last conditional variance is -1.33227e-015. (in 'D:/PYTHON~1/STAN~1/u_model.stan', line 27, column 4 to column 83)\n\tException: multi_normal_lpdf: LDLT_Factor of covariance parameter is not positive definite.  last conditional variance is 6.66134e-016. (in 'D:/PYTHON~1/STAN~1/u_model.stan', line 27, column 4 to column 83)\n\tException: multi_normal_lpdf: LDLT_Factor of covariance parameter is not positive definite.  last conditional variance is -8.88178e-016. (in 'D:/PYTHON~1/STAN~1/u_model.stan', line 27, column 4 to column 83)\n\tException: multi_normal_lpdf: LDLT_Factor of covariance parameter is not positive definite.  last conditional variance is 2.22045e-015. (in 'D:/PYTHON~1/STAN~1/u_model.stan', line 27, column 4 to column 83)\n\tException: multi_normal_lpdf: LDLT_Factor of covariance parameter is not positive definite.  last conditional variance is -8.88178e-016. (in 'D:/PYTHON~1/STAN~1/u_model.stan', line 27, column 4 to column 83)\n\tException: multi_normal_lpdf: LDLT_Factor of covariance parameter is not positive definite.  last conditional variance is -4.44089e-016. (in 'D:/PYTHON~1/STAN~1/u_model.stan', line 27, column 4 to column 83)\n\tException: multi_normal_lpdf: LDLT_Factor of covariance parameter is not positive definite.  last conditional variance is 1.33227e-015. (in 'D:/PYTHON~1/STAN~1/u_model.stan', line 27, column 4 to column 83)\n\tException: multi_normal_lpdf: LDLT_Factor of covariance parameter is not positive definite.  last conditional variance is -3.33067e-015. (in 'D:/PYTHON~1/STAN~1/u_model.stan', line 27, column 4 to column 83)\n\tException: multi_normal_lpdf: LDLT_Factor of covariance parameter is not positive definite.  last conditional variance is 1.33227e-015. (in 'D:/PYTHON~1/STAN~1/u_model.stan', line 27, column 4 to column 83)\n\tException: multi_normal_lpdf: LDLT_Factor of covariance parameter is not positive definite.  last conditional variance is -6.21725e-015. (in 'D:/PYTHON~1/STAN~1/u_model.stan', line 27, column 4 to column 83)\n\tException: multi_normal_lpdf: LDLT_Factor of covariance parameter is not positive definite.  last conditional variance is 4.44089e-016. (in 'D:/PYTHON~1/STAN~1/u_model.stan', line 27, column 4 to column 83)\n\tException: multi_normal_lpdf: LDLT_Factor of covariance parameter is not positive definite.  last conditional variance is -3.77476e-015. (in 'D:/PYTHON~1/STAN~1/u_model.stan', line 27, column 4 to column 83)\n\tException: multi_normal_lpdf: LDLT_Factor of covariance parameter is not positive definite.  last conditional variance is 0. (in 'D:/PYTHON~1/STAN~1/u_model.stan', line 27, column 4 to column 83)\n\tException: multi_normal_lpdf: LDLT_Factor of covariance parameter is not positive definite.  last conditional variance is 1.77636e-015. (in 'D:/PYTHON~1/STAN~1/u_model.stan', line 27, column 4 to column 83)\n\tException: multi_normal_lpdf: LDLT_Factor of covariance parameter is not positive definite.  last conditional variance is -6.66134e-016. (in 'D:/PYTHON~1/STAN~1/u_model.stan', line 27, column 4 to column 83)\n\tException: multi_normal_lpdf: LDLT_Factor of covariance parameter is not positive definite.  last conditional variance is 8.88178e-016. (in 'D:/PYTHON~1/STAN~1/u_model.stan', line 27, column 4 to column 83)\n\tException: multi_normal_lpdf: LDLT_Factor of covariance parameter is not positive definite.  last conditional variance is 2.44249e-015. (in 'D:/PYTHON~1/STAN~1/u_model.stan', line 27, column 4 to column 83)\n\tException: multi_normal_lpdf: LDLT_Factor of covariance parameter is not positive definite.  last conditional variance is -2.22045e-016. (in 'D:/PYTHON~1/STAN~1/u_model.stan', line 27, column 4 to column 83)\n\tException: multi_normal_lpdf: LDLT_Factor of covariance parameter is not positive definite.  last conditional variance is -2.22045e-016. (in 'D:/PYTHON~1/STAN~1/u_model.stan', line 27, column 4 to column 83)\n\tException: multi_normal_lpdf: LDLT_Factor of covariance parameter is not positive definite.  last conditional variance is 2.22045e-016. (in 'D:/PYTHON~1/STAN~1/u_model.stan', line 27, column 4 to column 83)\n\tException: multi_normal_lpdf: LDLT_Factor of covariance parameter is not positive definite.  last conditional variance is -1.11022e-015. (in 'D:/PYTHON~1/STAN~1/u_model.stan', line 27, column 4 to column 83)\n\tException: multi_normal_lpdf: LDLT_Factor of covariance parameter is not positive definite.  last conditional variance is -2.22045e-015. (in 'D:/PYTHON~1/STAN~1/u_model.stan', line 27, column 4 to column 83)\n\tException: multi_normal_lpdf: LDLT_Factor of covariance parameter is not positive definite.  last conditional variance is -4.44089e-016. (in 'D:/PYTHON~1/STAN~1/u_model.stan', line 27, column 4 to column 83)\n\tException: multi_normal_lpdf: LDLT_Factor of covariance parameter is not positive definite.  last conditional variance is -8.88178e-016. (in 'D:/PYTHON~1/STAN~1/u_model.stan', line 27, column 4 to column 83)\n\tException: multi_normal_lpdf: LDLT_Factor of covariance parameter is not positive definite.  last conditional variance is 1.55431e-015. (in 'D:/PYTHON~1/STAN~1/u_model.stan', line 27, column 4 to column 83)\n\tException: multi_normal_lpdf: LDLT_Factor of covariance parameter is not positive definite.  last conditional variance is -1.33227e-015. (in 'D:/PYTHON~1/STAN~1/u_model.stan', line 27, column 4 to column 83)\n\tException: multi_normal_lpdf: LDLT_Factor of covariance parameter is not positive definite.  last conditional variance is 4.44089e-016. (in 'D:/PYTHON~1/STAN~1/u_model.stan', line 27, column 4 to column 83)\n\tException: multi_normal_lpdf: LDLT_Factor of covariance parameter is not positive definite.  last conditional variance is 2.22045e-016. (in 'D:/PYTHON~1/STAN~1/u_model.stan', line 27, column 4 to column 83)\n\tException: multi_normal_lpdf: LDLT_Factor of covariance parameter is not positive definite.  last conditional variance is -1.55431e-015. (in 'D:/PYTHON~1/STAN~1/u_model.stan', line 27, column 4 to column 83)\n\tException: multi_normal_lpdf: LDLT_Factor of covariance parameter is not positive definite.  last conditional variance is -8.88178e-016. (in 'D:/PYTHON~1/STAN~1/u_model.stan', line 27, column 4 to column 83)\n\tException: multi_normal_lpdf: LDLT_Factor of covariance parameter is not positive definite.  last conditional variance is -6.66134e-016. (in 'D:/PYTHON~1/STAN~1/u_model.stan', line 27, column 4 to column 83)\n\tException: multi_normal_lpdf: LDLT_Factor of covariance parameter is not positive definite.  last conditional variance is -5.10703e-015. (in 'D:/PYTHON~1/STAN~1/u_model.stan', line 27, column 4 to column 83)\n\tException: multi_normal_lpdf: LDLT_Factor of covariance parameter is not positive definite.  last conditional variance is 0. (in 'D:/PYTHON~1/STAN~1/u_model.stan', line 27, column 4 to column 83)\n\tException: multi_normal_lpdf: LDLT_Factor of covariance parameter is not positive definite.  last conditional variance is 1.33227e-015. (in 'D:/PYTHON~1/STAN~1/u_model.stan', line 27, column 4 to column 83)\n\tException: multi_normal_lpdf: LDLT_Factor of covariance parameter is not positive definite.  last conditional variance is 6.66134e-016. (in 'D:/PYTHON~1/STAN~1/u_model.stan', line 27, column 4 to column 83)\n\tException: multi_normal_lpdf: LDLT_Factor of covariance parameter is not positive definite.  last conditional variance is -1.33227e-015. (in 'D:/PYTHON~1/STAN~1/u_model.stan', line 27, column 4 to column 83)\n\tException: multi_normal_lpdf: LDLT_Factor of covariance parameter is not positive definite.  last conditional variance is 1.11022e-015. (in 'D:/PYTHON~1/STAN~1/u_model.stan', line 27, column 4 to column 83)\n\tException: multi_normal_lpdf: LDLT_Factor of covariance parameter is not positive definite.  last conditional variance is 8.88178e-016. (in 'D:/PYTHON~1/STAN~1/u_model.stan', line 27, column 4 to column 83)\n\tException: multi_normal_lpdf: LDLT_Factor of covariance parameter is not positive definite.  last conditional variance is 5.77316e-015. (in 'D:/PYTHON~1/STAN~1/u_model.stan', line 27, column 4 to column 83)\n\tException: multi_normal_lpdf: LDLT_Factor of covariance parameter is not positive definite.  last conditional variance is 6.66134e-016. (in 'D:/PYTHON~1/STAN~1/u_model.stan', line 27, column 4 to column 83)\n\tException: multi_normal_lpdf: LDLT_Factor of covariance parameter is not positive definite.  last conditional variance is -6.66134e-016. (in 'D:/PYTHON~1/STAN~1/u_model.stan', line 27, column 4 to column 83)\n\tException: multi_normal_lpdf: LDLT_Factor of covariance parameter is not positive definite.  last conditional variance is 2.22045e-016. (in 'D:/PYTHON~1/STAN~1/u_model.stan', line 27, column 4 to column 83)\n\tException: multi_normal_lpdf: LDLT_Factor of covariance parameter is not positive definite.  last conditional variance is 1.33227e-015. (in 'D:/PYTHON~1/STAN~1/u_model.stan', line 27, column 4 to column 83)\n\tException: multi_normal_lpdf: LDLT_Factor of covariance parameter is not positive definite.  last conditional variance is -2.22045e-016. (in 'D:/PYTHON~1/STAN~1/u_model.stan', line 27, column 4 to column 83)\n\tException: multi_normal_lpdf: LDLT_Factor of covariance parameter is not positive definite.  last conditional variance is 2.66454e-015. (in 'D:/PYTHON~1/STAN~1/u_model.stan', line 27, column 4 to column 83)\n\tException: multi_normal_lpdf: LDLT_Factor of covariance parameter is not positive definite.  last conditional variance is -1.33227e-015. (in 'D:/PYTHON~1/STAN~1/u_model.stan', line 27, column 4 to column 83)\n\tException: multi_normal_lpdf: LDLT_Factor of covariance parameter is not positive definite.  last conditional variance is 0. (in 'D:/PYTHON~1/STAN~1/u_model.stan', line 27, column 4 to column 83)\n\tException: multi_normal_lpdf: LDLT_Factor of covariance parameter is not positive definite.  last conditional variance is -1.33227e-015. (in 'D:/PYTHON~1/STAN~1/u_model.stan', line 27, column 4 to column 83)\n\tException: multi_normal_lpdf: LDLT_Factor of covariance parameter is not positive definite.  last conditional variance is 0. (in 'D:/PYTHON~1/STAN~1/u_model.stan', line 27, column 4 to column 83)\n\tException: multi_normal_lpdf: LDLT_Factor of covariance parameter is not positive definite.  last conditional variance is 1.55431e-015. (in 'D:/PYTHON~1/STAN~1/u_model.stan', line 27, column 4 to column 83)\n\tException: multi_normal_lpdf: LDLT_Factor of covariance parameter is not positive definite.  last conditional variance is 2.88658e-015. (in 'D:/PYTHON~1/STAN~1/u_model.stan', line 27, column 4 to column 83)\n\tException: multi_normal_lpdf: LDLT_Factor of covariance parameter is not positive definite.  last conditional variance is -1.9984e-015. (in 'D:/PYTHON~1/STAN~1/u_model.stan', line 27, column 4 to column 83)\n\tException: multi_normal_lpdf: LDLT_Factor of covariance parameter is not positive definite.  last conditional variance is 1.77636e-015. (in 'D:/PYTHON~1/STAN~1/u_model.stan', line 27, column 4 to column 83)\n\tException: multi_normal_lpdf: LDLT_Factor of covariance parameter is not positive definite.  last conditional variance is -1.9984e-015. (in 'D:/PYTHON~1/STAN~1/u_model.stan', line 27, column 4 to column 83)\n\tException: multi_normal_lpdf: LDLT_Factor of covariance parameter is not positive definite.  last conditional variance is -1.55431e-015. (in 'D:/PYTHON~1/STAN~1/u_model.stan', line 27, column 4 to column 83)\n\tException: multi_normal_lpdf: LDLT_Factor of covariance parameter is not positive definite.  last conditional variance is -1.33227e-015. (in 'D:/PYTHON~1/STAN~1/u_model.stan', line 27, column 4 to column 83)\n\tException: multi_normal_lpdf: LDLT_Factor of covariance parameter is not positive definite.  last conditional variance is 4.44089e-016. (in 'D:/PYTHON~1/STAN~1/u_model.stan', line 27, column 4 to column 83)\nException: multi_normal_lpdf: LDLT_Factor of covariance parameter is not positive definite.  last conditional variance is -4.21885e-015. (in 'D:/PYTHON~1/STAN~1/u_model.stan', line 27, column 4 to column 83)\n\tException: multi_normal_lpdf: LDLT_Factor of covariance parameter is not positive definite.  last conditional variance is 2.44249e-015. (in 'D:/PYTHON~1/STAN~1/u_model.stan', line 27, column 4 to column 83)\n\tException: multi_normal_lpdf: LDLT_Factor of covariance parameter is not positive definite.  last conditional variance is -1.22125e-014. (in 'D:/PYTHON~1/STAN~1/u_model.stan', line 27, column 4 to column 83)\n\tException: multi_normal_lpdf: LDLT_Factor of covariance parameter is not positive definite.  last conditional variance is -1.55431e-015. (in 'D:/PYTHON~1/STAN~1/u_model.stan', line 27, column 4 to column 83)\n\tException: multi_normal_lpdf: LDLT_Factor of covariance parameter is not positive definite.  last conditional variance is 1.77636e-015. (in 'D:/PYTHON~1/STAN~1/u_model.stan', line 27, column 4 to column 83)\n\tException: multi_normal_lpdf: LDLT_Factor of covariance parameter is not positive definite.  last conditional variance is -2.66454e-015. (in 'D:/PYTHON~1/STAN~1/u_model.stan', line 27, column 4 to column 83)\n\tException: multi_normal_lpdf: LDLT_Factor of covariance parameter is not positive definite.  last conditional variance is 6.66134e-016. (in 'D:/PYTHON~1/STAN~1/u_model.stan', line 27, column 4 to column 83)\n\tException: multi_normal_lpdf: LDLT_Factor of covariance parameter is not positive definite.  last conditional variance is 8.88178e-016. (in 'D:/PYTHON~1/STAN~1/u_model.stan', line 27, column 4 to column 83)\n\tException: multi_normal_lpdf: LDLT_Factor of covariance parameter is not positive definite.  last conditional variance is 2.22045e-015. (in 'D:/PYTHON~1/STAN~1/u_model.stan', line 27, column 4 to column 83)\n\tException: multi_normal_lpdf: LDLT_Factor of covariance parameter is not positive definite.  last conditional variance is -2.22045e-016. (in 'D:/PYTHON~1/STAN~1/u_model.stan', line 27, column 4 to column 83)\n\tException: multi_normal_lpdf: LDLT_Factor of covariance parameter is not positive definite.  last conditional variance is 6.43929e-015. (in 'D:/PYTHON~1/STAN~1/u_model.stan', line 27, column 4 to column 83)\n\tException: multi_normal_lpdf: LDLT_Factor of covariance parameter is not positive definite.  last conditional variance is 1.33227e-015. (in 'D:/PYTHON~1/STAN~1/u_model.stan', line 27, column 4 to column 83)\n\tException: multi_normal_lpdf: LDLT_Factor of covariance parameter is not positive definite.  last conditional variance is -6.66134e-016. (in 'D:/PYTHON~1/STAN~1/u_model.stan', line 27, column 4 to column 83)\n\tException: multi_normal_lpdf: LDLT_Factor of covariance parameter is not positive definite.  last conditional variance is 1.33227e-015. (in 'D:/PYTHON~1/STAN~1/u_model.stan', line 27, column 4 to column 83)\n\tException: multi_normal_lpdf: LDLT_Factor of covariance parameter is not positive definite.  last conditional variance is 3.33067e-015. (in 'D:/PYTHON~1/STAN~1/u_model.stan', line 27, column 4 to column 83)\n\tException: multi_normal_lpdf: LDLT_Factor of covariance parameter is not positive definite.  last conditional variance is -7.10543e-015. (in 'D:/PYTHON~1/STAN~1/u_model.stan', line 27, column 4 to column 83)\n\tException: multi_normal_lpdf: LDLT_Factor of covariance parameter is not positive definite.  last conditional variance is 4.21885e-015. (in 'D:/PYTHON~1/STAN~1/u_model.stan', line 27, column 4 to column 83)\n\tException: multi_normal_lpdf: LDLT_Factor of covariance parameter is not positive definite.  last conditional variance is 2.22045e-016. (in 'D:/PYTHON~1/STAN~1/u_model.stan', line 27, column 4 to column 83)\n\tException: multi_normal_lpdf: LDLT_Factor of covariance parameter is not positive definite.  last conditional variance is -8.88178e-016. (in 'D:/PYTHON~1/STAN~1/u_model.stan', line 27, column 4 to column 83)\n\tException: multi_normal_lpdf: LDLT_Factor of covariance parameter is not positive definite.  last conditional variance is -6.66134e-016. (in 'D:/PYTHON~1/STAN~1/u_model.stan', line 27, column 4 to column 83)\n\tException: multi_normal_lpdf: LDLT_Factor of covariance parameter is not positive definite.  last conditional variance is 1.11022e-015. (in 'D:/PYTHON~1/STAN~1/u_model.stan', line 27, column 4 to column 83)\n\tException: multi_normal_lpdf: LDLT_Factor of covariance parameter is not positive definite.  last conditional variance is -2.02061e-014. (in 'D:/PYTHON~1/STAN~1/u_model.stan', line 27, column 4 to column 83)\n\tException: multi_normal_lpdf: LDLT_Factor of covariance parameter is not positive definite.  last conditional variance is -8.88178e-016. (in 'D:/PYTHON~1/STAN~1/u_model.stan', line 27, column 4 to column 83)\n\tException: multi_normal_lpdf: LDLT_Factor of covariance parameter is not positive definite.  last conditional variance is -1.55431e-015. (in 'D:/PYTHON~1/STAN~1/u_model.stan', line 27, column 4 to column 83)\n\tException: multi_normal_lpdf: LDLT_Factor of covariance parameter is not positive definite.  last conditional variance is -2.22045e-016. (in 'D:/PYTHON~1/STAN~1/u_model.stan', line 27, column 4 to column 83)\n\tException: multi_normal_lpdf: LDLT_Factor of covariance parameter is not positive definite.  last conditional variance is -5.10703e-015. (in 'D:/PYTHON~1/STAN~1/u_model.stan', line 27, column 4 to column 83)\n\tException: multi_normal_lpdf: LDLT_Factor of covariance parameter is not positive definite.  last conditional variance is 1.11022e-015. (in 'D:/PYTHON~1/STAN~1/u_model.stan', line 27, column 4 to column 83)\n\tException: multi_normal_lpdf: LDLT_Factor of covariance parameter is not positive definite.  last conditional variance is -1.55431e-015. (in 'D:/PYTHON~1/STAN~1/u_model.stan', line 27, column 4 to column 83)\n\tException: multi_normal_lpdf: LDLT_Factor of covariance parameter is not positive definite.  last conditional variance is 4.44089e-016. (in 'D:/PYTHON~1/STAN~1/u_model.stan', line 27, column 4 to column 83)\n\tException: multi_normal_lpdf: LDLT_Factor of covariance parameter is not positive definite.  last conditional variance is 0. (in 'D:/PYTHON~1/STAN~1/u_model.stan', line 27, column 4 to column 83)\n\tException: multi_normal_lpdf: LDLT_Factor of covariance parameter is not positive definite.  last conditional variance is -1.11022e-015. (in 'D:/PYTHON~1/STAN~1/u_model.stan', line 27, column 4 to column 83)\n\tException: multi_normal_lpdf: LDLT_Factor of covariance parameter is not positive definite.  last conditional variance is 0. (in 'D:/PYTHON~1/STAN~1/u_model.stan', line 27, column 4 to column 83)\n\tException: multi_normal_lpdf: LDLT_Factor of covariance parameter is not positive definite.  last conditional variance is -1.9984e-015. (in 'D:/PYTHON~1/STAN~1/u_model.stan', line 27, column 4 to column 83)\n\tException: multi_normal_lpdf: LDLT_Factor of covariance parameter is not positive definite.  last conditional variance is 0. (in 'D:/PYTHON~1/STAN~1/u_model.stan', line 27, column 4 to column 83)\n\tException: multi_normal_lpdf: LDLT_Factor of covariance parameter is not positive definite.  last conditional variance is -8.88178e-016. (in 'D:/PYTHON~1/STAN~1/u_model.stan', line 27, column 4 to column 83)\n\tException: multi_normal_lpdf: LDLT_Factor of covariance parameter is not positive definite.  last conditional variance is -6.66134e-016. (in 'D:/PYTHON~1/STAN~1/u_model.stan', line 27, column 4 to column 83)\n\tException: multi_normal_lpdf: LDLT_Factor of covariance parameter is not positive definite.  last conditional variance is 1.19904e-014. (in 'D:/PYTHON~1/STAN~1/u_model.stan', line 27, column 4 to column 83)\n\tException: multi_normal_lpdf: LDLT_Factor of covariance parameter is not positive definite.  last conditional variance is -1.55431e-015. (in 'D:/PYTHON~1/STAN~1/u_model.stan', line 27, column 4 to column 83)\n\tException: multi_normal_lpdf: LDLT_Factor of covariance parameter is not positive definite.  last conditional variance is 1.11022e-015. (in 'D:/PYTHON~1/STAN~1/u_model.stan', line 27, column 4 to column 83)\n\tException: multi_normal_lpdf: LDLT_Factor of covariance parameter is not positive definite.  last conditional variance is -1.11022e-015. (in 'D:/PYTHON~1/STAN~1/u_model.stan', line 27, column 4 to column 83)\n\tException: multi_normal_lpdf: LDLT_Factor of covariance parameter is not positive definite.  last conditional variance is 2.44249e-015. (in 'D:/PYTHON~1/STAN~1/u_model.stan', line 27, column 4 to column 83)\n\tException: multi_normal_lpdf: LDLT_Factor of covariance parameter is not positive definite.  last conditional variance is -2.70894e-014. (in 'D:/PYTHON~1/STAN~1/u_model.stan', line 27, column 4 to column 83)\n\tException: multi_normal_lpdf: LDLT_Factor of covariance parameter is not positive definite.  last conditional variance is 2.22045e-015. (in 'D:/PYTHON~1/STAN~1/u_model.stan', line 27, column 4 to column 83)\n\tException: multi_normal_lpdf: LDLT_Factor of covariance parameter is not positive definite.  last conditional variance is 2.22045e-016. (in 'D:/PYTHON~1/STAN~1/u_model.stan', line 27, column 4 to column 83)\n\tException: multi_normal_lpdf: LDLT_Factor of covariance parameter is not positive definite.  last conditional variance is 7.32747e-015. (in 'D:/PYTHON~1/STAN~1/u_model.stan', line 27, column 4 to column 83)\n\tException: multi_normal_lpdf: LDLT_Factor of covariance parameter is not positive definite.  last conditional variance is 4.44089e-016. (in 'D:/PYTHON~1/STAN~1/u_model.stan', line 27, column 4 to column 83)\n\tException: multi_normal_lpdf: LDLT_Factor of covariance parameter is not positive definite.  last conditional variance is 4.44089e-016. (in 'D:/PYTHON~1/STAN~1/u_model.stan', line 27, column 4 to column 83)\n\tException: multi_normal_lpdf: LDLT_Factor of covariance parameter is not positive definite.  last conditional variance is -6.66134e-016. (in 'D:/PYTHON~1/STAN~1/u_model.stan', line 27, column 4 to column 83)\n\tException: multi_normal_lpdf: LDLT_Factor of covariance parameter is not positive definite.  last conditional variance is 2.22045e-015. (in 'D:/PYTHON~1/STAN~1/u_model.stan', line 27, column 4 to column 83)\n\tException: multi_normal_lpdf: LDLT_Factor of covariance parameter is not positive definite.  last conditional variance is -1.77636e-015. (in 'D:/PYTHON~1/STAN~1/u_model.stan', line 27, column 4 to column 83)\n\tException: multi_normal_lpdf: LDLT_Factor of covariance parameter is not positive definite.  last conditional variance is 6.43929e-015. (in 'D:/PYTHON~1/STAN~1/u_model.stan', line 27, column 4 to column 83)\n\tException: multi_normal_lpdf: LDLT_Factor of covariance parameter is not positive definite.  last conditional variance is 0. (in 'D:/PYTHON~1/STAN~1/u_model.stan', line 27, column 4 to column 83)\n\tException: multi_normal_lpdf: LDLT_Factor of covariance parameter is not positive definite.  last conditional variance is 6.66134e-016. (in 'D:/PYTHON~1/STAN~1/u_model.stan', line 27, column 4 to column 83)\n\tException: multi_normal_lpdf: LDLT_Factor of covariance parameter is not positive definite.  last conditional variance is 1.9984e-015. (in 'D:/PYTHON~1/STAN~1/u_model.stan', line 27, column 4 to column 83)\n\tException: multi_normal_lpdf: LDLT_Factor of covariance parameter is not positive definite.  last conditional variance is -6.66134e-016. (in 'D:/PYTHON~1/STAN~1/u_model.stan', line 27, column 4 to column 83)\n\tException: multi_normal_lpdf: LDLT_Factor of covariance parameter is not positive definite.  last conditional variance is -3.33067e-015. (in 'D:/PYTHON~1/STAN~1/u_model.stan', line 27, column 4 to column 83)\n\tException: multi_normal_lpdf: LDLT_Factor of covariance parameter is not positive definite.  last conditional variance is 1.11022e-015. (in 'D:/PYTHON~1/STAN~1/u_model.stan', line 27, column 4 to column 83)\n\tException: multi_normal_lpdf: LDLT_Factor of covariance parameter is not positive definite.  last conditional variance is 2.44249e-015. (in 'D:/PYTHON~1/STAN~1/u_model.stan', line 27, column 4 to column 83)\n\tException: multi_normal_lpdf: LDLT_Factor of covariance parameter is not positive definite.  last conditional variance is 1.33227e-015. (in 'D:/PYTHON~1/STAN~1/u_model.stan', line 27, column 4 to column 83)\n\tException: multi_normal_lpdf: LDLT_Factor of covariance parameter is not positive definite.  last conditional variance is 0. (in 'D:/PYTHON~1/STAN~1/u_model.stan', line 27, column 4 to column 83)\n\tException: multi_normal_lpdf: LDLT_Factor of covariance parameter is not positive definite.  last conditional variance is -2.22045e-016. (in 'D:/PYTHON~1/STAN~1/u_model.stan', line 27, column 4 to column 83)\n\tException: multi_normal_lpdf: LDLT_Factor of covariance parameter is not positive definite.  last conditional variance is -1.77636e-015. (in 'D:/PYTHON~1/STAN~1/u_model.stan', line 27, column 4 to column 83)\n\tException: multi_normal_lpdf: LDLT_Factor of covariance parameter is not positive definite.  last conditional variance is -8.88178e-016. (in 'D:/PYTHON~1/STAN~1/u_model.stan', line 27, column 4 to column 83)\n\tException: multi_normal_lpdf: LDLT_Factor of covariance parameter is not positive definite.  last conditional variance is -8.65974e-015. (in 'D:/PYTHON~1/STAN~1/u_model.stan', line 27, column 4 to column 83)\n\tException: multi_normal_lpdf: LDLT_Factor of covariance parameter is not positive definite.  last conditional variance is -1.9984e-015. (in 'D:/PYTHON~1/STAN~1/u_model.stan', line 27, column 4 to column 83)\n\tException: multi_normal_lpdf: LDLT_Factor of covariance parameter is not positive definite.  last conditional variance is -4.44089e-016. (in 'D:/PYTHON~1/STAN~1/u_model.stan', line 27, column 4 to column 83)\n\tException: multi_normal_lpdf: LDLT_Factor of covariance parameter is not positive definite.  last conditional variance is -2.88658e-015. (in 'D:/PYTHON~1/STAN~1/u_model.stan', line 27, column 4 to column 83)\n\tException: multi_normal_lpdf: LDLT_Factor of covariance parameter is not positive definite.  last conditional variance is 2.22045e-016. (in 'D:/PYTHON~1/STAN~1/u_model.stan', line 27, column 4 to column 83)\n\tException: multi_normal_lpdf: LDLT_Factor of covariance parameter is not positive definite.  last conditional variance is -1.15463e-014. (in 'D:/PYTHON~1/STAN~1/u_model.stan', line 27, column 4 to column 83)\n\tException: multi_normal_lpdf: LDLT_Factor of covariance parameter is not positive definite.  last conditional variance is -1.11022e-015. (in 'D:/PYTHON~1/STAN~1/u_model.stan', line 27, column 4 to column 83)\n\tException: multi_normal_lpdf: LDLT_Factor of covariance parameter is not positive definite.  last conditional variance is -3.9968e-015. (in 'D:/PYTHON~1/STAN~1/u_model.stan', line 27, column 4 to column 83)\n\tException: multi_normal_lpdf: LDLT_Factor of covariance parameter is not positive definite.  last conditional variance is -1.9984e-015. (in 'D:/PYTHON~1/STAN~1/u_model.stan', line 27, column 4 to column 83)\n\tException: multi_normal_lpdf: LDLT_Factor of covariance parameter is not positive definite.  last conditional variance is -8.43769e-015. (in 'D:/PYTHON~1/STAN~1/u_model.stan', line 27, column 4 to column 83)\n\tException: multi_normal_lpdf: LDLT_Factor of covariance parameter is not positive definite.  last conditional variance is 3.33067e-015. (in 'D:/PYTHON~1/STAN~1/u_model.stan', line 27, column 4 to column 83)\n\tException: multi_normal_lpdf: LDLT_Factor of covariance parameter is not positive definite.  last conditional variance is 2.22045e-016. (in 'D:/PYTHON~1/STAN~1/u_model.stan', line 27, column 4 to column 83)\n\tException: multi_normal_lpdf: LDLT_Factor of covariance parameter is not positive definite.  last conditional variance is 1.55431e-015. (in 'D:/PYTHON~1/STAN~1/u_model.stan', line 27, column 4 to column 83)\n\tException: multi_normal_lpdf: LDLT_Factor of covariance parameter is not positive definite.  last conditional variance is -4.44089e-016. (in 'D:/PYTHON~1/STAN~1/u_model.stan', line 27, column 4 to column 83)\n\tException: multi_normal_lpdf: LDLT_Factor of covariance parameter is not positive definite.  last conditional variance is 6.66134e-016. (in 'D:/PYTHON~1/STAN~1/u_model.stan', line 27, column 4 to column 83)\n\tException: multi_normal_lpdf: LDLT_Factor of covariance parameter is not positive definite.  last conditional variance is 2.88658e-015. (in 'D:/PYTHON~1/STAN~1/u_model.stan', line 27, column 4 to column 83)\n\tException: multi_normal_lpdf: LDLT_Factor of covariance parameter is not positive definite.  last conditional variance is -4.21885e-015. (in 'D:/PYTHON~1/STAN~1/u_model.stan', line 27, column 4 to column 83)\n\tException: multi_normal_lpdf: LDLT_Factor of covariance parameter is not positive definite.  last conditional variance is -2.22045e-015. (in 'D:/PYTHON~1/STAN~1/u_model.stan', line 27, column 4 to column 83)\n\tException: multi_normal_lpdf: LDLT_Factor of covariance parameter is not positive definite.  last conditional variance is 6.21725e-015. (in 'D:/PYTHON~1/STAN~1/u_model.stan', line 27, column 4 to column 83)\n\tException: multi_normal_lpdf: LDLT_Factor of covariance parameter is not positive definite.  last conditional variance is 0. (in 'D:/PYTHON~1/STAN~1/u_model.stan', line 27, column 4 to column 83)\n\tException: multi_normal_lpdf: LDLT_Factor of covariance parameter is not positive definite.  last conditional variance is 4.44089e-016. (in 'D:/PYTHON~1/STAN~1/u_model.stan', line 27, column 4 to column 83)\n\tException: multi_normal_lpdf: LDLT_Factor of covariance parameter is not positive definite.  last conditional variance is 4.44089e-016. (in 'D:/PYTHON~1/STAN~1/u_model.stan', line 27, column 4 to column 83)\n\tException: multi_normal_lpdf: LDLT_Factor of covariance parameter is not positive definite.  last conditional variance is 1.55431e-015. (in 'D:/PYTHON~1/STAN~1/u_model.stan', line 27, column 4 to column 83)\n\tException: multi_normal_lpdf: LDLT_Factor of covariance parameter is not positive definite.  last conditional variance is 4.44089e-016. (in 'D:/PYTHON~1/STAN~1/u_model.stan', line 27, column 4 to column 83)\n\tException: multi_normal_lpdf: LDLT_Factor of covariance parameter is not positive definite.  last conditional variance is 4.44089e-015. (in 'D:/PYTHON~1/STAN~1/u_model.stan', line 27, column 4 to column 83)\n\tException: multi_normal_lpdf: LDLT_Factor of covariance parameter is not positive definite.  last conditional variance is -3.9968e-015. (in 'D:/PYTHON~1/STAN~1/u_model.stan', line 27, column 4 to column 83)\n\tException: multi_normal_lpdf: LDLT_Factor of covariance parameter is not positive definite.  last conditional variance is 1.33227e-015. (in 'D:/PYTHON~1/STAN~1/u_model.stan', line 27, column 4 to column 83)\n\tException: multi_normal_lpdf: LDLT_Factor of covariance parameter is not positive definite.  last conditional variance is 4.44089e-016. (in 'D:/PYTHON~1/STAN~1/u_model.stan', line 27, column 4 to column 83)\n\tException: multi_normal_lpdf: LDLT_Factor of covariance parameter is not positive definite.  last conditional variance is -8.88178e-016. (in 'D:/PYTHON~1/STAN~1/u_model.stan', line 27, column 4 to column 83)\n\tException: multi_normal_lpdf: LDLT_Factor of covariance parameter is not positive definite.  last conditional variance is 8.88178e-016. (in 'D:/PYTHON~1/STAN~1/u_model.stan', line 27, column 4 to column 83)\n\tException: multi_normal_lpdf: LDLT_Factor of covariance parameter is not positive definite.  last conditional variance is -2.22045e-016. (in 'D:/PYTHON~1/STAN~1/u_model.stan', line 27, column 4 to column 83)\n\tException: multi_normal_lpdf: LDLT_Factor of covariance parameter is not positive definite.  last conditional variance is 1.11022e-015. (in 'D:/PYTHON~1/STAN~1/u_model.stan', line 27, column 4 to column 83)\n\tException: multi_normal_lpdf: LDLT_Factor of covariance parameter is not positive definite.  last conditional variance is 4.44089e-016. (in 'D:/PYTHON~1/STAN~1/u_model.stan', line 27, column 4 to column 83)\n\tException: multi_normal_lpdf: LDLT_Factor of covariance parameter is not positive definite.  last conditional variance is 0. (in 'D:/PYTHON~1/STAN~1/u_model.stan', line 27, column 4 to column 83)\n\tException: multi_normal_lpdf: LDLT_Factor of covariance parameter is not positive definite.  last conditional variance is 4.06342e-014. (in 'D:/PYTHON~1/STAN~1/u_model.stan', line 27, column 4 to column 83)\n\tException: multi_normal_lpdf: LDLT_Factor of covariance parameter is not positive definite.  last conditional variance is 6.66134e-016. (in 'D:/PYTHON~1/STAN~1/u_model.stan', line 27, column 4 to column 83)\n\tException: multi_normal_lpdf: LDLT_Factor of covariance parameter is not positive definite.  last conditional variance is -1.33227e-015. (in 'D:/PYTHON~1/STAN~1/u_model.stan', line 27, column 4 to column 83)\nException: multi_normal_lpdf: LDLT_Factor of covariance parameter is not positive definite.  last conditional variance is 0. (in 'D:/PYTHON~1/STAN~1/u_model.stan', line 27, column 4 to column 83)\n\tException: multi_normal_lpdf: LDLT_Factor of covariance parameter is not positive definite.  last conditional variance is -1.11022e-015. (in 'D:/PYTHON~1/STAN~1/u_model.stan', line 27, column 4 to column 83)\n\tException: multi_normal_lpdf: LDLT_Factor of covariance parameter is not positive definite.  last conditional variance is -8.88178e-016. (in 'D:/PYTHON~1/STAN~1/u_model.stan', line 27, column 4 to column 83)\n\tException: multi_normal_lpdf: LDLT_Factor of covariance parameter is not positive definite.  last conditional variance is -2.22045e-016. (in 'D:/PYTHON~1/STAN~1/u_model.stan', line 27, column 4 to column 83)\n\tException: multi_normal_lpdf: LDLT_Factor of covariance parameter is not positive definite.  last conditional variance is 0. (in 'D:/PYTHON~1/STAN~1/u_model.stan', line 27, column 4 to column 83)\n\tException: multi_normal_lpdf: LDLT_Factor of covariance parameter is not positive definite.  last conditional variance is 0. (in 'D:/PYTHON~1/STAN~1/u_model.stan', line 27, column 4 to column 83)\n\tException: multi_normal_lpdf: LDLT_Factor of covariance parameter is not positive definite.  last conditional variance is 1.33227e-015. (in 'D:/PYTHON~1/STAN~1/u_model.stan', line 27, column 4 to column 83)\n\tException: multi_normal_lpdf: LDLT_Factor of covariance parameter is not positive definite.  last conditional variance is -2.22045e-016. (in 'D:/PYTHON~1/STAN~1/u_model.stan', line 27, column 4 to column 83)\n\tException: multi_normal_lpdf: LDLT_Factor of covariance parameter is not positive definite.  last conditional variance is 1.9984e-015. (in 'D:/PYTHON~1/STAN~1/u_model.stan', line 27, column 4 to column 83)\n\tException: multi_normal_lpdf: LDLT_Factor of covariance parameter is not positive definite.  last conditional variance is 4.44089e-016. (in 'D:/PYTHON~1/STAN~1/u_model.stan', line 27, column 4 to column 83)\n\tException: multi_normal_lpdf: LDLT_Factor of covariance parameter is not positive definite.  last conditional variance is 1.77636e-015. (in 'D:/PYTHON~1/STAN~1/u_model.stan', line 27, column 4 to column 83)\n\tException: multi_normal_lpdf: LDLT_Factor of covariance parameter is not positive definite.  last conditional variance is -2.88658e-015. (in 'D:/PYTHON~1/STAN~1/u_model.stan', line 27, column 4 to column 83)\n\tException: multi_normal_lpdf: LDLT_Factor of covariance parameter is not positive definite.  last conditional variance is 2.88658e-015. (in 'D:/PYTHON~1/STAN~1/u_model.stan', line 27, column 4 to column 83)\n\tException: multi_normal_lpdf: LDLT_Factor of covariance parameter is not positive definite.  last conditional variance is 0. (in 'D:/PYTHON~1/STAN~1/u_model.stan', line 27, column 4 to column 83)\n\tException: multi_normal_lpdf: LDLT_Factor of covariance parameter is not positive definite.  last conditional variance is 1.9984e-015. (in 'D:/PYTHON~1/STAN~1/u_model.stan', line 27, column 4 to column 83)\n\tException: multi_normal_lpdf: LDLT_Factor of covariance parameter is not positive definite.  last conditional variance is 2.44249e-015. (in 'D:/PYTHON~1/STAN~1/u_model.stan', line 27, column 4 to column 83)\n\tException: multi_normal_lpdf: LDLT_Factor of covariance parameter is not positive definite.  last conditional variance is 2.22045e-016. (in 'D:/PYTHON~1/STAN~1/u_model.stan', line 27, column 4 to column 83)\n\tException: multi_normal_lpdf: LDLT_Factor of covariance parameter is not positive definite.  last conditional variance is 0. (in 'D:/PYTHON~1/STAN~1/u_model.stan', line 27, column 4 to column 83)\n\tException: multi_normal_lpdf: LDLT_Factor of covariance parameter is not positive definite.  last conditional variance is 5.9952e-015. (in 'D:/PYTHON~1/STAN~1/u_model.stan', line 27, column 4 to column 83)\n\tException: multi_normal_lpdf: LDLT_Factor of covariance parameter is not positive definite.  last conditional variance is 6.66134e-016. (in 'D:/PYTHON~1/STAN~1/u_model.stan', line 27, column 4 to column 83)\n\tException: multi_normal_lpdf: LDLT_Factor of covariance parameter is not positive definite.  last conditional variance is 2.10942e-014. (in 'D:/PYTHON~1/STAN~1/u_model.stan', line 27, column 4 to column 83)\n\tException: multi_normal_lpdf: LDLT_Factor of covariance parameter is not positive definite.  last conditional variance is 1.33227e-015. (in 'D:/PYTHON~1/STAN~1/u_model.stan', line 27, column 4 to column 83)\n\tException: multi_normal_lpdf: LDLT_Factor of covariance parameter is not positive definite.  last conditional variance is 3.55271e-015. (in 'D:/PYTHON~1/STAN~1/u_model.stan', line 27, column 4 to column 83)\n\tException: multi_normal_lpdf: LDLT_Factor of covariance parameter is not positive definite.  last conditional variance is -3.9968e-015. (in 'D:/PYTHON~1/STAN~1/u_model.stan', line 27, column 4 to column 83)\n\tException: multi_normal_lpdf: LDLT_Factor of covariance parameter is not positive definite.  last conditional variance is -9.32587e-015. (in 'D:/PYTHON~1/STAN~1/u_model.stan', line 27, column 4 to column 83)\n\tException: multi_normal_lpdf: LDLT_Factor of covariance parameter is not positive definite.  last conditional variance is -8.88178e-016. (in 'D:/PYTHON~1/STAN~1/u_model.stan', line 27, column 4 to column 83)\n\tException: multi_normal_lpdf: LDLT_Factor of covariance parameter is not positive definite.  last conditional variance is 3.77476e-015. (in 'D:/PYTHON~1/STAN~1/u_model.stan', line 27, column 4 to column 83)\n\tException: multi_normal_lpdf: LDLT_Factor of covariance parameter is not positive definite.  last conditional variance is 4.44089e-016. (in 'D:/PYTHON~1/STAN~1/u_model.stan', line 27, column 4 to column 83)\n\tException: multi_normal_lpdf: LDLT_Factor of covariance parameter is not positive definite.  last conditional variance is 3.9968e-015. (in 'D:/PYTHON~1/STAN~1/u_model.stan', line 27, column 4 to column 83)\n\tException: multi_normal_lpdf: LDLT_Factor of covariance parameter is not positive definite.  last conditional variance is 0. (in 'D:/PYTHON~1/STAN~1/u_model.stan', line 27, column 4 to column 83)\n\tException: multi_normal_lpdf: LDLT_Factor of covariance parameter is not positive definite.  last conditional variance is 1.11022e-015. (in 'D:/PYTHON~1/STAN~1/u_model.stan', line 27, column 4 to column 83)\n\tException: multi_normal_lpdf: LDLT_Factor of covariance parameter is not positive definite.  last conditional variance is 3.55271e-015. (in 'D:/PYTHON~1/STAN~1/u_model.stan', line 27, column 4 to column 83)\n\tException: multi_normal_lpdf: LDLT_Factor of covariance parameter is not positive definite.  last conditional variance is -8.88178e-016. (in 'D:/PYTHON~1/STAN~1/u_model.stan', line 27, column 4 to column 83)\n\tException: multi_normal_lpdf: LDLT_Factor of covariance parameter is not positive definite.  last conditional variance is -1.9984e-015. (in 'D:/PYTHON~1/STAN~1/u_model.stan', line 27, column 4 to column 83)\n\tException: multi_normal_lpdf: LDLT_Factor of covariance parameter is not positive definite.  last conditional variance is -1.33227e-015. (in 'D:/PYTHON~1/STAN~1/u_model.stan', line 27, column 4 to column 83)\n\tException: multi_normal_lpdf: LDLT_Factor of covariance parameter is not positive definite.  last conditional variance is -3.10862e-015. (in 'D:/PYTHON~1/STAN~1/u_model.stan', line 27, column 4 to column 83)\n\tException: multi_normal_lpdf: LDLT_Factor of covariance parameter is not positive definite.  last conditional variance is 4.44089e-016. (in 'D:/PYTHON~1/STAN~1/u_model.stan', line 27, column 4 to column 83)\n\tException: multi_normal_lpdf: LDLT_Factor of covariance parameter is not positive definite.  last conditional variance is -2.22045e-015. (in 'D:/PYTHON~1/STAN~1/u_model.stan', line 27, column 4 to column 83)\n\tException: multi_normal_lpdf: LDLT_Factor of covariance parameter is not positive definite.  last conditional variance is 6.66134e-016. (in 'D:/PYTHON~1/STAN~1/u_model.stan', line 27, column 4 to column 83)\n\tException: multi_normal_lpdf: LDLT_Factor of covariance parameter is not positive definite.  last conditional variance is 1.33227e-015. (in 'D:/PYTHON~1/STAN~1/u_model.stan', line 27, column 4 to column 83)\n\tException: multi_normal_lpdf: LDLT_Factor of covariance parameter is not positive definite.  last conditional variance is -1.77636e-015. (in 'D:/PYTHON~1/STAN~1/u_model.stan', line 27, column 4 to column 83)\n\tException: multi_normal_lpdf: LDLT_Factor of covariance parameter is not positive definite.  last conditional variance is 0. (in 'D:/PYTHON~1/STAN~1/u_model.stan', line 27, column 4 to column 83)\n\tException: multi_normal_lpdf: LDLT_Factor of covariance parameter is not positive definite.  last conditional variance is 2.88658e-015. (in 'D:/PYTHON~1/STAN~1/u_model.stan', line 27, column 4 to column 83)\n\tException: multi_normal_lpdf: LDLT_Factor of covariance parameter is not positive definite.  last conditional variance is 1.9984e-015. (in 'D:/PYTHON~1/STAN~1/u_model.stan', line 27, column 4 to column 83)\n\tException: multi_normal_lpdf: LDLT_Factor of covariance parameter is not positive definite.  last conditional variance is 2.66454e-015. (in 'D:/PYTHON~1/STAN~1/u_model.stan', line 27, column 4 to column 83)\n\tException: multi_normal_lpdf: LDLT_Factor of covariance parameter is not positive definite.  last conditional variance is -2.22045e-015. (in 'D:/PYTHON~1/STAN~1/u_model.stan', line 27, column 4 to column 83)\n\tException: multi_normal_lpdf: LDLT_Factor of covariance parameter is not positive definite.  last conditional variance is -4.44089e-016. (in 'D:/PYTHON~1/STAN~1/u_model.stan', line 27, column 4 to column 83)\n\tException: multi_normal_lpdf: LDLT_Factor of covariance parameter is not positive definite.  last conditional variance is -6.66134e-016. (in 'D:/PYTHON~1/STAN~1/u_model.stan', line 27, column 4 to column 83)\n\tException: multi_normal_lpdf: LDLT_Factor of covariance parameter is not positive definite.  last conditional variance is 2.22045e-015. (in 'D:/PYTHON~1/STAN~1/u_model.stan', line 27, column 4 to column 83)\n\tException: multi_normal_lpdf: LDLT_Factor of covariance parameter is not positive definite.  last conditional variance is -2.22045e-016. (in 'D:/PYTHON~1/STAN~1/u_model.stan', line 27, column 4 to column 83)\n\tException: multi_normal_lpdf: LDLT_Factor of covariance parameter is not positive definite.  last conditional variance is -6.66134e-016. (in 'D:/PYTHON~1/STAN~1/u_model.stan', line 27, column 4 to column 83)\n\tException: multi_normal_lpdf: LDLT_Factor of covariance parameter is not positive definite.  last conditional variance is 6.88338e-015. (in 'D:/PYTHON~1/STAN~1/u_model.stan', line 27, column 4 to column 83)\n\tException: multi_normal_lpdf: LDLT_Factor of covariance parameter is not positive definite.  last conditional variance is -1.9984e-015. (in 'D:/PYTHON~1/STAN~1/u_model.stan', line 27, column 4 to column 83)\n\tException: multi_normal_lpdf: LDLT_Factor of covariance parameter is not positive definite.  last conditional variance is -3.9968e-015. (in 'D:/PYTHON~1/STAN~1/u_model.stan', line 27, column 4 to column 83)\n\tException: multi_normal_lpdf: LDLT_Factor of covariance parameter is not positive definite.  last conditional variance is -6.66134e-016. (in 'D:/PYTHON~1/STAN~1/u_model.stan', line 27, column 4 to column 83)\n\tException: multi_normal_lpdf: LDLT_Factor of covariance parameter is not positive definite.  last conditional variance is -4.44089e-016. (in 'D:/PYTHON~1/STAN~1/u_model.stan', line 27, column 4 to column 83)\n\tException: multi_normal_lpdf: LDLT_Factor of covariance parameter is not positive definite.  last conditional variance is 2.22045e-016. (in 'D:/PYTHON~1/STAN~1/u_model.stan', line 27, column 4 to column 83)\n\tException: multi_normal_lpdf: LDLT_Factor of covariance parameter is not positive definite.  last conditional variance is 1.11022e-015. (in 'D:/PYTHON~1/STAN~1/u_model.stan', line 27, column 4 to column 83)\n\tException: multi_normal_lpdf: LDLT_Factor of covariance parameter is not positive definite.  last conditional variance is 1.55431e-015. (in 'D:/PYTHON~1/STAN~1/u_model.stan', line 27, column 4 to column 83)\n\tException: multi_normal_lpdf: LDLT_Factor of covariance parameter is not positive definite.  last conditional variance is 0. (in 'D:/PYTHON~1/STAN~1/u_model.stan', line 27, column 4 to column 83)\n\tException: multi_normal_lpdf: LDLT_Factor of covariance parameter is not positive definite.  last conditional variance is 2.22045e-015. (in 'D:/PYTHON~1/STAN~1/u_model.stan', line 27, column 4 to column 83)\n\tException: multi_normal_lpdf: LDLT_Factor of covariance parameter is not positive definite.  last conditional variance is 6.66134e-016. (in 'D:/PYTHON~1/STAN~1/u_model.stan', line 27, column 4 to column 83)\n\tException: multi_normal_lpdf: LDLT_Factor of covariance parameter is not positive definite.  last conditional variance is -7.77156e-015. (in 'D:/PYTHON~1/STAN~1/u_model.stan', line 27, column 4 to column 83)\n\tException: multi_normal_lpdf: LDLT_Factor of covariance parameter is not positive definite.  last conditional variance is -2.22045e-016. (in 'D:/PYTHON~1/STAN~1/u_model.stan', line 27, column 4 to column 83)\n\tException: multi_normal_lpdf: LDLT_Factor of covariance parameter is not positive definite.  last conditional variance is -1.33227e-015. (in 'D:/PYTHON~1/STAN~1/u_model.stan', line 27, column 4 to column 83)\n\tException: multi_normal_lpdf: LDLT_Factor of covariance parameter is not positive definite.  last conditional variance is -4.88498e-015. (in 'D:/PYTHON~1/STAN~1/u_model.stan', line 27, column 4 to column 83)\n\tException: multi_normal_lpdf: LDLT_Factor of covariance parameter is not positive definite.  last conditional variance is 0. (in 'D:/PYTHON~1/STAN~1/u_model.stan', line 27, column 4 to column 83)\n\tException: multi_normal_lpdf: LDLT_Factor of covariance parameter is not positive definite.  last conditional variance is 1.55431e-015. (in 'D:/PYTHON~1/STAN~1/u_model.stan', line 27, column 4 to column 83)\n\tException: multi_normal_lpdf: LDLT_Factor of covariance parameter is not positive definite.  last conditional variance is -8.88178e-016. (in 'D:/PYTHON~1/STAN~1/u_model.stan', line 27, column 4 to column 83)\n\tException: multi_normal_lpdf: LDLT_Factor of covariance parameter is not positive definite.  last conditional variance is -6.66134e-016. (in 'D:/PYTHON~1/STAN~1/u_model.stan', line 27, column 4 to column 83)\n\tException: multi_normal_lpdf: LDLT_Factor of covariance parameter is not positive definite.  last conditional variance is -8.88178e-016. (in 'D:/PYTHON~1/STAN~1/u_model.stan', line 27, column 4 to column 83)\n\tException: multi_normal_lpdf: LDLT_Factor of covariance parameter is not positive definite.  last conditional variance is -6.66134e-016. (in 'D:/PYTHON~1/STAN~1/u_model.stan', line 27, column 4 to column 83)\n\tException: multi_normal_lpdf: LDLT_Factor of covariance parameter is not positive definite.  last conditional variance is 1.11022e-015. (in 'D:/PYTHON~1/STAN~1/u_model.stan', line 27, column 4 to column 83)\n\tException: multi_normal_lpdf: LDLT_Factor of covariance parameter is not positive definite.  last conditional variance is -4.44089e-016. (in 'D:/PYTHON~1/STAN~1/u_model.stan', line 27, column 4 to column 83)\n\tException: multi_normal_lpdf: LDLT_Factor of covariance parameter is not positive definite.  last conditional variance is -2.22045e-016. (in 'D:/PYTHON~1/STAN~1/u_model.stan', line 27, column 4 to column 83)\n\tException: multi_normal_lpdf: LDLT_Factor of covariance parameter is not positive definite.  last conditional variance is -1.11022e-015. (in 'D:/PYTHON~1/STAN~1/u_model.stan', line 27, column 4 to column 83)\n\tException: multi_normal_lpdf: LDLT_Factor of covariance parameter is not positive definite.  last conditional variance is 1.55431e-015. (in 'D:/PYTHON~1/STAN~1/u_model.stan', line 27, column 4 to column 83)\n\tException: multi_normal_lpdf: LDLT_Factor of covariance parameter is not positive definite.  last conditional variance is -6.66134e-016. (in 'D:/PYTHON~1/STAN~1/u_model.stan', line 27, column 4 to column 83)\n\tException: multi_normal_lpdf: LDLT_Factor of covariance parameter is not positive definite.  last conditional variance is 2.22045e-016. (in 'D:/PYTHON~1/STAN~1/u_model.stan', line 27, column 4 to column 83)\n\tException: multi_normal_lpdf: LDLT_Factor of covariance parameter is not positive definite.  last conditional variance is 6.66134e-016. (in 'D:/PYTHON~1/STAN~1/u_model.stan', line 27, column 4 to column 83)\n\tException: multi_normal_lpdf: LDLT_Factor of covariance parameter is not positive definite.  last conditional variance is -8.88178e-016. (in 'D:/PYTHON~1/STAN~1/u_model.stan', line 27, column 4 to column 83)\n\tException: multi_normal_lpdf: LDLT_Factor of covariance parameter is not positive definite.  last conditional variance is -4.44089e-016. (in 'D:/PYTHON~1/STAN~1/u_model.stan', line 27, column 4 to column 83)\n\tException: multi_normal_lpdf: LDLT_Factor of covariance parameter is not positive definite.  last conditional variance is -1.55431e-015. (in 'D:/PYTHON~1/STAN~1/u_model.stan', line 27, column 4 to column 83)\n\tException: multi_normal_lpdf: LDLT_Factor of covariance parameter is not positive definite.  last conditional variance is 4.44089e-016. (in 'D:/PYTHON~1/STAN~1/u_model.stan', line 27, column 4 to column 83)\n\tException: multi_normal_lpdf: LDLT_Factor of covariance parameter is not positive definite.  last conditional variance is -2.44249e-015. (in 'D:/PYTHON~1/STAN~1/u_model.stan', line 27, column 4 to column 83)\n\tException: multi_normal_lpdf: LDLT_Factor of covariance parameter is not positive definite.  last conditional variance is -2.88658e-015. (in 'D:/PYTHON~1/STAN~1/u_model.stan', line 27, column 4 to column 83)\n\tException: multi_normal_lpdf: LDLT_Factor of covariance parameter is not positive definite.  last conditional variance is 1.31006e-014. (in 'D:/PYTHON~1/STAN~1/u_model.stan', line 27, column 4 to column 83)\n\tException: multi_normal_lpdf: LDLT_Factor of covariance parameter is not positive definite.  last conditional variance is 3.33067e-015. (in 'D:/PYTHON~1/STAN~1/u_model.stan', line 27, column 4 to column 83)\n\tException: multi_normal_lpdf: LDLT_Factor of covariance parameter is not positive definite.  last conditional variance is 6.66134e-016. (in 'D:/PYTHON~1/STAN~1/u_model.stan', line 27, column 4 to column 83)\n\tException: multi_normal_lpdf: LDLT_Factor of covariance parameter is not positive definite.  last conditional variance is -8.88178e-016. (in 'D:/PYTHON~1/STAN~1/u_model.stan', line 27, column 4 to column 83)\n\tException: multi_normal_lpdf: LDLT_Factor of covariance parameter is not positive definite.  last conditional variance is -6.66134e-016. (in 'D:/PYTHON~1/STAN~1/u_model.stan', line 27, column 4 to column 83)\n\tException: multi_normal_lpdf: LDLT_Factor of covariance parameter is not positive definite.  last conditional variance is -4.44089e-016. (in 'D:/PYTHON~1/STAN~1/u_model.stan', line 27, column 4 to column 83)\n\tException: multi_normal_lpdf: LDLT_Factor of covariance parameter is not positive definite.  last conditional variance is -4.44089e-016. (in 'D:/PYTHON~1/STAN~1/u_model.stan', line 27, column 4 to column 83)\n\tException: multi_normal_lpdf: LDLT_Factor of covariance parameter is not positive definite.  last conditional variance is 0. (in 'D:/PYTHON~1/STAN~1/u_model.stan', line 27, column 4 to column 83)\n\tException: multi_normal_lpdf: LDLT_Factor of covariance parameter is not positive definite.  last conditional variance is -1.33227e-015. (in 'D:/PYTHON~1/STAN~1/u_model.stan', line 27, column 4 to column 83)\n\tException: multi_normal_lpdf: LDLT_Factor of covariance parameter is not positive definite.  last conditional variance is 6.66134e-016. (in 'D:/PYTHON~1/STAN~1/u_model.stan', line 27, column 4 to column 83)\n\tException: multi_normal_lpdf: LDLT_Factor of covariance parameter is not positive definite.  last conditional variance is -4.44089e-016. (in 'D:/PYTHON~1/STAN~1/u_model.stan', line 27, column 4 to column 83)\n\tException: multi_normal_lpdf: LDLT_Factor of covariance parameter is not positive definite.  last conditional variance is 2.22045e-016. (in 'D:/PYTHON~1/STAN~1/u_model.stan', line 27, column 4 to column 83)\n\tException: multi_normal_lpdf: LDLT_Factor of covariance parameter is not positive definite.  last conditional variance is 6.66134e-016. (in 'D:/PYTHON~1/STAN~1/u_model.stan', line 27, column 4 to column 83)\n\tException: multi_normal_lpdf: LDLT_Factor of covariance parameter is not positive definite.  last conditional variance is -2.22045e-016. (in 'D:/PYTHON~1/STAN~1/u_model.stan', line 27, column 4 to column 83)\nException: multi_normal_lpdf: LDLT_Factor of covariance parameter is not positive definite.  last conditional variance is 1.11022e-015. (in 'D:/PYTHON~1/STAN~1/u_model.stan', line 27, column 4 to column 83)\n\tException: multi_normal_lpdf: LDLT_Factor of covariance parameter is not positive definite.  last conditional variance is 2.44249e-015. (in 'D:/PYTHON~1/STAN~1/u_model.stan', line 27, column 4 to column 83)\n\tException: multi_normal_lpdf: LDLT_Factor of covariance parameter is not positive definite.  last conditional variance is -6.21725e-015. (in 'D:/PYTHON~1/STAN~1/u_model.stan', line 27, column 4 to column 83)\n\tException: multi_normal_lpdf: LDLT_Factor of covariance parameter is not positive definite.  last conditional variance is 8.88178e-016. (in 'D:/PYTHON~1/STAN~1/u_model.stan', line 27, column 4 to column 83)\n\tException: multi_normal_lpdf: LDLT_Factor of covariance parameter is not positive definite.  last conditional variance is 2.22045e-016. (in 'D:/PYTHON~1/STAN~1/u_model.stan', line 27, column 4 to column 83)\n\tException: multi_normal_lpdf: LDLT_Factor of covariance parameter is not positive definite.  last conditional variance is 2.22045e-016. (in 'D:/PYTHON~1/STAN~1/u_model.stan', line 27, column 4 to column 83)\n\tException: multi_normal_lpdf: LDLT_Factor of covariance parameter is not positive definite.  last conditional variance is -2.22045e-016. (in 'D:/PYTHON~1/STAN~1/u_model.stan', line 27, column 4 to column 83)\n\tException: multi_normal_lpdf: LDLT_Factor of covariance parameter is not positive definite.  last conditional variance is -7.10543e-015. (in 'D:/PYTHON~1/STAN~1/u_model.stan', line 27, column 4 to column 83)\n\tException: multi_normal_lpdf: LDLT_Factor of covariance parameter is not positive definite.  last conditional variance is 4.44089e-016. (in 'D:/PYTHON~1/STAN~1/u_model.stan', line 27, column 4 to column 83)\n\tException: multi_normal_lpdf: LDLT_Factor of covariance parameter is not positive definite.  last conditional variance is 2.22045e-016. (in 'D:/PYTHON~1/STAN~1/u_model.stan', line 27, column 4 to column 83)\n\tException: multi_normal_lpdf: LDLT_Factor of covariance parameter is not positive definite.  last conditional variance is 3.77476e-015. (in 'D:/PYTHON~1/STAN~1/u_model.stan', line 27, column 4 to column 83)\n\tException: multi_normal_lpdf: LDLT_Factor of covariance parameter is not positive definite.  last conditional variance is 0. (in 'D:/PYTHON~1/STAN~1/u_model.stan', line 27, column 4 to column 83)\n\tException: multi_normal_lpdf: LDLT_Factor of covariance parameter is not positive definite.  last conditional variance is -6.66134e-016. (in 'D:/PYTHON~1/STAN~1/u_model.stan', line 27, column 4 to column 83)\n\tException: multi_normal_lpdf: LDLT_Factor of covariance parameter is not positive definite.  last conditional variance is 6.66134e-016. (in 'D:/PYTHON~1/STAN~1/u_model.stan', line 27, column 4 to column 83)\n\tException: multi_normal_lpdf: LDLT_Factor of covariance parameter is not positive definite.  last conditional variance is 1.9984e-015. (in 'D:/PYTHON~1/STAN~1/u_model.stan', line 27, column 4 to column 83)\n\tException: multi_normal_lpdf: LDLT_Factor of covariance parameter is not positive definite.  last conditional variance is -4.66294e-015. (in 'D:/PYTHON~1/STAN~1/u_model.stan', line 27, column 4 to column 83)\n\tException: multi_normal_lpdf: LDLT_Factor of covariance parameter is not positive definite.  last conditional variance is 4.21885e-015. (in 'D:/PYTHON~1/STAN~1/u_model.stan', line 27, column 4 to column 83)\n\tException: multi_normal_lpdf: LDLT_Factor of covariance parameter is not positive definite.  last conditional variance is 8.88178e-016. (in 'D:/PYTHON~1/STAN~1/u_model.stan', line 27, column 4 to column 83)\n\tException: multi_normal_lpdf: LDLT_Factor of covariance parameter is not positive definite.  last conditional variance is -8.88178e-016. (in 'D:/PYTHON~1/STAN~1/u_model.stan', line 27, column 4 to column 83)\n\tException: multi_normal_lpdf: LDLT_Factor of covariance parameter is not positive definite.  last conditional variance is -8.88178e-016. (in 'D:/PYTHON~1/STAN~1/u_model.stan', line 27, column 4 to column 83)\n\tException: multi_normal_lpdf: LDLT_Factor of covariance parameter is not positive definite.  last conditional variance is -3.33067e-015. (in 'D:/PYTHON~1/STAN~1/u_model.stan', line 27, column 4 to column 83)\n\tException: multi_normal_lpdf: LDLT_Factor of covariance parameter is not positive definite.  last conditional variance is 1.11022e-015. (in 'D:/PYTHON~1/STAN~1/u_model.stan', line 27, column 4 to column 83)\n\tException: multi_normal_lpdf: LDLT_Factor of covariance parameter is not positive definite.  last conditional variance is -3.33067e-015. (in 'D:/PYTHON~1/STAN~1/u_model.stan', line 27, column 4 to column 83)\n\tException: multi_normal_lpdf: LDLT_Factor of covariance parameter is not positive definite.  last conditional variance is -1.77636e-015. (in 'D:/PYTHON~1/STAN~1/u_model.stan', line 27, column 4 to column 83)\n\tException: multi_normal_lpdf: LDLT_Factor of covariance parameter is not positive definite.  last conditional variance is -1.55431e-015. (in 'D:/PYTHON~1/STAN~1/u_model.stan', line 27, column 4 to column 83)\n\tException: multi_normal_lpdf: LDLT_Factor of covariance parameter is not positive definite.  last conditional variance is -1.33227e-015. (in 'D:/PYTHON~1/STAN~1/u_model.stan', line 27, column 4 to column 83)\n\tException: multi_normal_lpdf: LDLT_Factor of covariance parameter is not positive definite.  last conditional variance is 6.66134e-016. (in 'D:/PYTHON~1/STAN~1/u_model.stan', line 27, column 4 to column 83)\n\tException: multi_normal_lpdf: LDLT_Factor of covariance parameter is not positive definite.  last conditional variance is -6.66134e-016. (in 'D:/PYTHON~1/STAN~1/u_model.stan', line 27, column 4 to column 83)\n\tException: multi_normal_lpdf: LDLT_Factor of covariance parameter is not positive definite.  last conditional variance is 4.44089e-016. (in 'D:/PYTHON~1/STAN~1/u_model.stan', line 27, column 4 to column 83)\n\tException: multi_normal_lpdf: LDLT_Factor of covariance parameter is not positive definite.  last conditional variance is -6.66134e-016. (in 'D:/PYTHON~1/STAN~1/u_model.stan', line 27, column 4 to column 83)\n\tException: multi_normal_lpdf: LDLT_Factor of covariance parameter is not positive definite.  last conditional variance is -8.88178e-016. (in 'D:/PYTHON~1/STAN~1/u_model.stan', line 27, column 4 to column 83)\n\tException: multi_normal_lpdf: LDLT_Factor of covariance parameter is not positive definite.  last conditional variance is 1.95399e-014. (in 'D:/PYTHON~1/STAN~1/u_model.stan', line 27, column 4 to column 83)\n\tException: multi_normal_lpdf: LDLT_Factor of covariance parameter is not positive definite.  last conditional variance is -1.55431e-015. (in 'D:/PYTHON~1/STAN~1/u_model.stan', line 27, column 4 to column 83)\n\tException: multi_normal_lpdf: LDLT_Factor of covariance parameter is not positive definite.  last conditional variance is 6.66134e-016. (in 'D:/PYTHON~1/STAN~1/u_model.stan', line 27, column 4 to column 83)\n\tException: multi_normal_lpdf: LDLT_Factor of covariance parameter is not positive definite.  last conditional variance is -1.33227e-015. (in 'D:/PYTHON~1/STAN~1/u_model.stan', line 27, column 4 to column 83)\n\tException: multi_normal_lpdf: LDLT_Factor of covariance parameter is not positive definite.  last conditional variance is 2.22045e-016. (in 'D:/PYTHON~1/STAN~1/u_model.stan', line 27, column 4 to column 83)\n\tException: multi_normal_lpdf: LDLT_Factor of covariance parameter is not positive definite.  last conditional variance is -6.66134e-016. (in 'D:/PYTHON~1/STAN~1/u_model.stan', line 27, column 4 to column 83)\n\tException: multi_normal_lpdf: LDLT_Factor of covariance parameter is not positive definite.  last conditional variance is -6.66134e-016. (in 'D:/PYTHON~1/STAN~1/u_model.stan', line 27, column 4 to column 83)\n\tException: multi_normal_lpdf: LDLT_Factor of covariance parameter is not positive definite.  last conditional variance is -1.77636e-015. (in 'D:/PYTHON~1/STAN~1/u_model.stan', line 27, column 4 to column 83)\n\tException: multi_normal_lpdf: LDLT_Factor of covariance parameter is not positive definite.  last conditional variance is 4.44089e-016. (in 'D:/PYTHON~1/STAN~1/u_model.stan', line 27, column 4 to column 83)\n\tException: multi_normal_lpdf: LDLT_Factor of covariance parameter is not positive definite.  last conditional variance is 6.66134e-016. (in 'D:/PYTHON~1/STAN~1/u_model.stan', line 27, column 4 to column 83)\n\tException: multi_normal_lpdf: LDLT_Factor of covariance parameter is not positive definite.  last conditional variance is -1.11022e-015. (in 'D:/PYTHON~1/STAN~1/u_model.stan', line 27, column 4 to column 83)\n\tException: multi_normal_lpdf: LDLT_Factor of covariance parameter is not positive definite.  last conditional variance is -6.66134e-015. (in 'D:/PYTHON~1/STAN~1/u_model.stan', line 27, column 4 to column 83)\n\tException: multi_normal_lpdf: LDLT_Factor of covariance parameter is not positive definite.  last conditional variance is 1.33227e-015. (in 'D:/PYTHON~1/STAN~1/u_model.stan', line 27, column 4 to column 83)\n\tException: multi_normal_lpdf: LDLT_Factor of covariance parameter is not positive definite.  last conditional variance is -7.54952e-015. (in 'D:/PYTHON~1/STAN~1/u_model.stan', line 27, column 4 to column 83)\n\tException: multi_normal_lpdf: LDLT_Factor of covariance parameter is not positive definite.  last conditional variance is 1.9984e-015. (in 'D:/PYTHON~1/STAN~1/u_model.stan', line 27, column 4 to column 83)\n\tException: multi_normal_lpdf: LDLT_Factor of covariance parameter is not positive definite.  last conditional variance is -4.44089e-016. (in 'D:/PYTHON~1/STAN~1/u_model.stan', line 27, column 4 to column 83)\n\tException: multi_normal_lpdf: LDLT_Factor of covariance parameter is not positive definite.  last conditional variance is -8.88178e-016. (in 'D:/PYTHON~1/STAN~1/u_model.stan', line 27, column 4 to column 83)\n\tException: multi_normal_lpdf: LDLT_Factor of covariance parameter is not positive definite.  last conditional variance is 0. (in 'D:/PYTHON~1/STAN~1/u_model.stan', line 27, column 4 to column 83)\n\tException: multi_normal_lpdf: LDLT_Factor of covariance parameter is not positive definite.  last conditional variance is -1.11022e-015. (in 'D:/PYTHON~1/STAN~1/u_model.stan', line 27, column 4 to column 83)\n\tException: multi_normal_lpdf: LDLT_Factor of covariance parameter is not positive definite.  last conditional variance is 2.44249e-015. (in 'D:/PYTHON~1/STAN~1/u_model.stan', line 27, column 4 to column 83)\n\tException: multi_normal_lpdf: LDLT_Factor of covariance parameter is not positive definite.  last conditional variance is 2.22045e-016. (in 'D:/PYTHON~1/STAN~1/u_model.stan', line 27, column 4 to column 83)\n\tException: multi_normal_lpdf: LDLT_Factor of covariance parameter is not positive definite.  last conditional variance is 2.22045e-015. (in 'D:/PYTHON~1/STAN~1/u_model.stan', line 27, column 4 to column 83)\n\tException: multi_normal_lpdf: LDLT_Factor of covariance parameter is not positive definite.  last conditional variance is -1.55431e-015. (in 'D:/PYTHON~1/STAN~1/u_model.stan', line 27, column 4 to column 83)\n\tException: multi_normal_lpdf: LDLT_Factor of covariance parameter is not positive definite.  last conditional variance is 2.22045e-016. (in 'D:/PYTHON~1/STAN~1/u_model.stan', line 27, column 4 to column 83)\n\tException: multi_normal_lpdf: LDLT_Factor of covariance parameter is not positive definite.  last conditional variance is 6.66134e-016. (in 'D:/PYTHON~1/STAN~1/u_model.stan', line 27, column 4 to column 83)\n\tException: multi_normal_lpdf: LDLT_Factor of covariance parameter is not positive definite.  last conditional variance is -1.33227e-015. (in 'D:/PYTHON~1/STAN~1/u_model.stan', line 27, column 4 to column 83)\n\tException: multi_normal_lpdf: LDLT_Factor of covariance parameter is not positive definite.  last conditional variance is -2.66454e-015. (in 'D:/PYTHON~1/STAN~1/u_model.stan', line 27, column 4 to column 83)\n\tException: multi_normal_lpdf: LDLT_Factor of covariance parameter is not positive definite.  last conditional variance is 1.19904e-014. (in 'D:/PYTHON~1/STAN~1/u_model.stan', line 27, column 4 to column 83)\n\tException: multi_normal_lpdf: LDLT_Factor of covariance parameter is not positive definite.  last conditional variance is -5.10703e-015. (in 'D:/PYTHON~1/STAN~1/u_model.stan', line 27, column 4 to column 83)\n\tException: multi_normal_lpdf: LDLT_Factor of covariance parameter is not positive definite.  last conditional variance is -2.39808e-014. (in 'D:/PYTHON~1/STAN~1/u_model.stan', line 27, column 4 to column 83)\n\tException: multi_normal_lpdf: LDLT_Factor of covariance parameter is not positive definite.  last conditional variance is 0. (in 'D:/PYTHON~1/STAN~1/u_model.stan', line 27, column 4 to column 83)\n\tException: multi_normal_lpdf: LDLT_Factor of covariance parameter is not positive definite.  last conditional variance is -1.55431e-015. (in 'D:/PYTHON~1/STAN~1/u_model.stan', line 27, column 4 to column 83)\n\tException: multi_normal_lpdf: LDLT_Factor of covariance parameter is not positive definite.  last conditional variance is -1.33227e-015. (in 'D:/PYTHON~1/STAN~1/u_model.stan', line 27, column 4 to column 83)\n\tException: multi_normal_lpdf: LDLT_Factor of covariance parameter is not positive definite.  last conditional variance is 1.77636e-015. (in 'D:/PYTHON~1/STAN~1/u_model.stan', line 27, column 4 to column 83)\n\tException: multi_normal_lpdf: LDLT_Factor of covariance parameter is not positive definite.  last conditional variance is -4.44089e-016. (in 'D:/PYTHON~1/STAN~1/u_model.stan', line 27, column 4 to column 83)\n\tException: multi_normal_lpdf: LDLT_Factor of covariance parameter is not positive definite.  last conditional variance is 4.44089e-016. (in 'D:/PYTHON~1/STAN~1/u_model.stan', line 27, column 4 to column 83)\n\tException: multi_normal_lpdf: LDLT_Factor of covariance parameter is not positive definite.  last conditional variance is 0. (in 'D:/PYTHON~1/STAN~1/u_model.stan', line 27, column 4 to column 83)\n\tException: multi_normal_lpdf: LDLT_Factor of covariance parameter is not positive definite.  last conditional variance is -6.66134e-016. (in 'D:/PYTHON~1/STAN~1/u_model.stan', line 27, column 4 to column 83)\n\tException: multi_normal_lpdf: LDLT_Factor of covariance parameter is not positive definite.  last conditional variance is -2.22045e-015. (in 'D:/PYTHON~1/STAN~1/u_model.stan', line 27, column 4 to column 83)\n\tException: multi_normal_lpdf: LDLT_Factor of covariance parameter is not positive definite.  last conditional variance is -4.44089e-016. (in 'D:/PYTHON~1/STAN~1/u_model.stan', line 27, column 4 to column 83)\n\tException: multi_normal_lpdf: LDLT_Factor of covariance parameter is not positive definite.  last conditional variance is 6.66134e-016. (in 'D:/PYTHON~1/STAN~1/u_model.stan', line 27, column 4 to column 83)\n\tException: multi_normal_lpdf: LDLT_Factor of covariance parameter is not positive definite.  last conditional variance is -6.66134e-016. (in 'D:/PYTHON~1/STAN~1/u_model.stan', line 27, column 4 to column 83)\n\tException: multi_normal_lpdf: LDLT_Factor of covariance parameter is not positive definite.  last conditional variance is 1.77636e-015. (in 'D:/PYTHON~1/STAN~1/u_model.stan', line 27, column 4 to column 83)\n\tException: multi_normal_lpdf: LDLT_Factor of covariance parameter is not positive definite.  last conditional variance is -1.11022e-015. (in 'D:/PYTHON~1/STAN~1/u_model.stan', line 27, column 4 to column 83)\n\tException: multi_normal_lpdf: LDLT_Factor of covariance parameter is not positive definite.  last conditional variance is 0. (in 'D:/PYTHON~1/STAN~1/u_model.stan', line 27, column 4 to column 83)\n\tException: multi_normal_lpdf: LDLT_Factor of covariance parameter is not positive definite.  last conditional variance is 2.88658e-015. (in 'D:/PYTHON~1/STAN~1/u_model.stan', line 27, column 4 to column 83)\n\tException: multi_normal_lpdf: LDLT_Factor of covariance parameter is not positive definite.  last conditional variance is 0. (in 'D:/PYTHON~1/STAN~1/u_model.stan', line 27, column 4 to column 83)\n\tException: multi_normal_lpdf: LDLT_Factor of covariance parameter is not positive definite.  last conditional variance is -2.22045e-016. (in 'D:/PYTHON~1/STAN~1/u_model.stan', line 27, column 4 to column 83)\n\tException: multi_normal_lpdf: LDLT_Factor of covariance parameter is not positive definite.  last conditional variance is -6.21725e-015. (in 'D:/PYTHON~1/STAN~1/u_model.stan', line 27, column 4 to column 83)\n\tException: multi_normal_lpdf: LDLT_Factor of covariance parameter is not positive definite.  last conditional variance is -4.44089e-016. (in 'D:/PYTHON~1/STAN~1/u_model.stan', line 27, column 4 to column 83)\n\tException: multi_normal_lpdf: LDLT_Factor of covariance parameter is not positive definite.  last conditional variance is 1.11022e-015. (in 'D:/PYTHON~1/STAN~1/u_model.stan', line 27, column 4 to column 83)\n\tException: multi_normal_lpdf: LDLT_Factor of covariance parameter is not positive definite.  last conditional variance is -4.44089e-016. (in 'D:/PYTHON~1/STAN~1/u_model.stan', line 27, column 4 to column 83)\n\tException: multi_normal_lpdf: LDLT_Factor of covariance parameter is not positive definite.  last conditional variance is 1.77636e-015. (in 'D:/PYTHON~1/STAN~1/u_model.stan', line 27, column 4 to column 83)\n\tException: multi_normal_lpdf: LDLT_Factor of covariance parameter is not positive definite.  last conditional variance is 0. (in 'D:/PYTHON~1/STAN~1/u_model.stan', line 27, column 4 to column 83)\n\tException: multi_normal_lpdf: LDLT_Factor of covariance parameter is not positive definite.  last conditional variance is 8.88178e-016. (in 'D:/PYTHON~1/STAN~1/u_model.stan', line 27, column 4 to column 83)\n\tException: multi_normal_lpdf: LDLT_Factor of covariance parameter is not positive definite.  last conditional variance is -4.44089e-016. (in 'D:/PYTHON~1/STAN~1/u_model.stan', line 27, column 4 to column 83)\n\tException: multi_normal_lpdf: LDLT_Factor of covariance parameter is not positive definite.  last conditional variance is 1.55431e-015. (in 'D:/PYTHON~1/STAN~1/u_model.stan', line 27, column 4 to column 83)\n\tException: multi_normal_lpdf: LDLT_Factor of covariance parameter is not positive definite.  last conditional variance is -1.9984e-015. (in 'D:/PYTHON~1/STAN~1/u_model.stan', line 27, column 4 to column 83)\n\tException: multi_normal_lpdf: LDLT_Factor of covariance parameter is not positive definite.  last conditional variance is -2.22045e-015. (in 'D:/PYTHON~1/STAN~1/u_model.stan', line 27, column 4 to column 83)\n\tException: multi_normal_lpdf: LDLT_Factor of covariance parameter is not positive definite.  last conditional variance is 1.55431e-015. (in 'D:/PYTHON~1/STAN~1/u_model.stan', line 27, column 4 to column 83)\n\tException: multi_normal_lpdf: LDLT_Factor of covariance parameter is not positive definite.  last conditional variance is 6.66134e-016. (in 'D:/PYTHON~1/STAN~1/u_model.stan', line 27, column 4 to column 83)\n\tException: multi_normal_lpdf: LDLT_Factor of covariance parameter is not positive definite.  last conditional variance is 1.9984e-015. (in 'D:/PYTHON~1/STAN~1/u_model.stan', line 27, column 4 to column 83)\n\tException: multi_normal_lpdf: LDLT_Factor of covariance parameter is not positive definite.  last conditional variance is 6.66134e-016. (in 'D:/PYTHON~1/STAN~1/u_model.stan', line 27, column 4 to column 83)\n\tException: multi_normal_lpdf: LDLT_Factor of covariance parameter is not positive definite.  last conditional variance is 7.32747e-015. (in 'D:/PYTHON~1/STAN~1/u_model.stan', line 27, column 4 to column 83)\n\tException: multi_normal_lpdf: LDLT_Factor of covariance parameter is not positive definite.  last conditional variance is -1.55431e-015. (in 'D:/PYTHON~1/STAN~1/u_model.stan', line 27, column 4 to column 83)\n\tException: multi_normal_lpdf: LDLT_Factor of covariance parameter is not positive definite.  last conditional variance is -5.32907e-015. (in 'D:/PYTHON~1/STAN~1/u_model.stan', line 27, column 4 to column 83)\n\tException: multi_normal_lpdf: LDLT_Factor of covariance parameter is not positive definite.  last conditional variance is -4.44089e-016. (in 'D:/PYTHON~1/STAN~1/u_model.stan', line 27, column 4 to column 83)\n\tException: multi_normal_lpdf: LDLT_Factor of covariance parameter is not positive definite.  last conditional variance is 7.54952e-015. (in 'D:/PYTHON~1/STAN~1/u_model.stan', line 27, column 4 to column 83)\n\tException: multi_normal_lpdf: LDLT_Factor of covariance parameter is not positive definite.  last conditional variance is -2.44249e-015. (in 'D:/PYTHON~1/STAN~1/u_model.stan', line 27, column 4 to column 83)\nCommand and output files:\nRunSet: chains=4, chain_ids=[1, 2, 3, 4], num_processes=4\n cmd (chain 1):\n\t['D:\\\\Python Files\\\\.stan\\\\u_model.exe', 'id=1', 'random', 'seed=17938', 'data', 'file=C:\\\\Users\\\\biraj\\\\AppData\\\\Local\\\\Temp\\\\tmp0we9rzt1\\\\rg7_3mp3.json', 'output', 'file=C:\\\\Users\\\\biraj\\\\AppData\\\\Local\\\\Temp\\\\tmp0we9rzt1\\\\u_model0ie1sgwd\\\\u_model-20221108134920_1.csv', 'method=sample', 'algorithm=hmc', 'adapt', 'engaged=1']\n retcodes=[1, 1, 1, 1]\n per-chain output files (showing chain 1 only):\n csv_file:\n\tC:\\Users\\biraj\\AppData\\Local\\Temp\\tmp0we9rzt1\\u_model0ie1sgwd\\u_model-20221108134920_1.csv\n console_msgs (if any):\n\tC:\\Users\\biraj\\AppData\\Local\\Temp\\tmp0we9rzt1\\u_model0ie1sgwd\\u_model-20221108134920_0-stdout.txt\nConsider re-running with show_console=True if the above output is unclear!"
     ]
    }
   ],
   "source": [
    "full = update_all(n_iter = 5, y = y, x = x, c_0 = 1, offset = 0.5, p = 2)"
   ]
  },
  {
   "cell_type": "code",
   "execution_count": null,
   "id": "a7d9988c",
   "metadata": {},
   "outputs": [],
   "source": []
  },
  {
   "cell_type": "code",
   "execution_count": null,
   "id": "9cb192fe",
   "metadata": {},
   "outputs": [],
   "source": []
  },
  {
   "cell_type": "code",
   "execution_count": null,
   "id": "b34deb48",
   "metadata": {},
   "outputs": [],
   "source": []
  },
  {
   "cell_type": "code",
   "execution_count": null,
   "id": "828f7112",
   "metadata": {},
   "outputs": [],
   "source": []
  },
  {
   "cell_type": "code",
   "execution_count": null,
   "id": "a96c23e8",
   "metadata": {},
   "outputs": [],
   "source": []
  },
  {
   "cell_type": "code",
   "execution_count": 13,
   "id": "d1a8f20a",
   "metadata": {},
   "outputs": [],
   "source": [
    "# new kernel matrix (only d_bar part)\n",
    "def kernel_d_mat(d_bar, l, nu):\n",
    "    n = len(d_bar)\n",
    "    out = np.array([[None]*n]*n, dtype = 'float32')\n",
    "    for i in range(n):\n",
    "        out[i][i] = K_val(d_bar[i], d_bar[i], l, nu)\n",
    "    for i in range(n - 1):\n",
    "        for j in range(i + 1, n):\n",
    "            out[i][j] = out[j][i] = K_val(d_bar[i], d_bar[j], l, nu)\n",
    "    return out"
   ]
  }
 ],
 "metadata": {
  "kernelspec": {
   "display_name": "Python 3 (ipykernel)",
   "language": "python",
   "name": "python3"
  },
  "language_info": {
   "codemirror_mode": {
    "name": "ipython",
    "version": 3
   },
   "file_extension": ".py",
   "mimetype": "text/x-python",
   "name": "python",
   "nbconvert_exporter": "python",
   "pygments_lexer": "ipython3",
   "version": "3.9.12"
  }
 },
 "nbformat": 4,
 "nbformat_minor": 5
}
