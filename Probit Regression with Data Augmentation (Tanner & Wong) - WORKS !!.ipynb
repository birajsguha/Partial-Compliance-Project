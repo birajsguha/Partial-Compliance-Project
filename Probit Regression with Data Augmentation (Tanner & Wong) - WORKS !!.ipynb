{
 "cells": [
  {
   "cell_type": "markdown",
   "id": "b8ef58ff",
   "metadata": {},
   "source": [
    "### Target is to perform basic probit regression, both directly and through Data Augmentation, and compare the results on the same dataset"
   ]
  },
  {
   "cell_type": "markdown",
   "id": "f68c02e9",
   "metadata": {},
   "source": [
    "$$ Y_i \\sim \\mbox{Bernoulli} \\left( \\Phi \\left( x_i^T \\beta \\right) \\right), i = 1 \\dots n, \\; \\beta \\sim \\mathcal{N} \\left( 0, I_p \\right) $$\n",
    "$$ \\Big \\Updownarrow $$\n",
    "$$ Y_i = \\mathbb{1}_{z_i > 0}, \\; z_i \\sim \\mathcal{N} \\left( x_i^T \\beta, 1 \\right), i = 1 \\dots n, \\; \\beta \\sim \\mathcal{N} \\left( 0, I_p \\right) $$"
   ]
  },
  {
   "cell_type": "markdown",
   "id": "86433fde",
   "metadata": {},
   "source": [
    "$\\beta$ : Main Parameter of Interest, $z_i$ : latent variable"
   ]
  },
  {
   "cell_type": "code",
   "execution_count": 1,
   "id": "e6f3392c",
   "metadata": {},
   "outputs": [],
   "source": [
    "%load_ext cmdstanjupyter"
   ]
  },
  {
   "cell_type": "code",
   "execution_count": 2,
   "id": "9e178c92",
   "metadata": {},
   "outputs": [],
   "source": [
    "import numpy as np\n",
    "import pandas as pd\n",
    "from scipy import stats\n",
    "from scipy import linalg\n",
    "from scipy import special\n",
    "import matplotlib.pyplot as plt\n",
    "import arviz as ar\n",
    "import seaborn as sns"
   ]
  },
  {
   "cell_type": "code",
   "execution_count": 3,
   "id": "4c9effea",
   "metadata": {},
   "outputs": [],
   "source": [
    "# choose n even\n",
    "n = 100\n",
    "p = 5\n",
    "X1 = np.random.uniform(size = (n//2, p))\n",
    "X2 = -np.random.uniform(size = (n//2, p))\n",
    "X = np.append(X1, X2, axis = 0)\n",
    "Y = np.array([1]*(n//2) + [0]*(n//2))"
   ]
  },
  {
   "cell_type": "code",
   "execution_count": 4,
   "id": "f4ef0b7c",
   "metadata": {},
   "outputs": [
    {
     "name": "stderr",
     "output_type": "stream",
     "text": [
      "INFO:cmdstanjupyter:Reusing cached model file .stan/beta_model.stan\n",
      "INFO:cmdstanjupyter:Creating CmdStanPy model & assigning it to variable \"beta_model\"\n",
      "INFO:cmdstanjupyter:StanModel now available as variable \"beta_model\"!\n",
      " Compilation took a moment.\n"
     ]
    }
   ],
   "source": [
    "%%stan beta_model\n",
    "data{\n",
    "    int<lower = 1> n;\n",
    "    int<lower = 1> p;\n",
    "    matrix[n, p] X;\n",
    "    array[n] int<lower=0, upper=1> Y;\n",
    "}\n",
    "\n",
    "parameters{\n",
    "    vector[p] beta;\n",
    "}\n",
    "\n",
    "model{\n",
    "    beta ~ normal(0, 1);\n",
    "    for(i in 1:n){\n",
    "        Y[i] ~ bernoulli(normal_cdf(X[i,]*beta| 0, 1));\n",
    "    }\n",
    "}"
   ]
  },
  {
   "cell_type": "code",
   "execution_count": 5,
   "id": "770e4882",
   "metadata": {},
   "outputs": [
    {
     "name": "stderr",
     "output_type": "stream",
     "text": [
      "14:05:33 - cmdstanpy - INFO - CmdStan start processing\n"
     ]
    },
    {
     "data": {
      "application/vnd.jupyter.widget-view+json": {
       "model_id": "d3c922c977f34ec7b417666dcd803098",
       "version_major": 2,
       "version_minor": 0
      },
      "text/plain": [
       "chain 1 |          | 00:00 Status"
      ]
     },
     "metadata": {},
     "output_type": "display_data"
    },
    {
     "data": {
      "application/vnd.jupyter.widget-view+json": {
       "model_id": "59752cc5074b4344bb63fbd8948559ac",
       "version_major": 2,
       "version_minor": 0
      },
      "text/plain": [
       "chain 2 |          | 00:00 Status"
      ]
     },
     "metadata": {},
     "output_type": "display_data"
    },
    {
     "data": {
      "application/vnd.jupyter.widget-view+json": {
       "model_id": "f006324eb1034b08802023539ae6cd1c",
       "version_major": 2,
       "version_minor": 0
      },
      "text/plain": [
       "chain 3 |          | 00:00 Status"
      ]
     },
     "metadata": {},
     "output_type": "display_data"
    },
    {
     "data": {
      "application/vnd.jupyter.widget-view+json": {
       "model_id": "16e828a3b8c2453bb1a611e3eed09abb",
       "version_major": 2,
       "version_minor": 0
      },
      "text/plain": [
       "chain 4 |          | 00:00 Status"
      ]
     },
     "metadata": {},
     "output_type": "display_data"
    },
    {
     "name": "stdout",
     "output_type": "stream",
     "text": [
      "                                                                                                                                                                                                                                                                                                                                "
     ]
    },
    {
     "name": "stderr",
     "output_type": "stream",
     "text": [
      "14:05:34 - cmdstanpy - INFO - CmdStan done processing.\n"
     ]
    },
    {
     "name": "stdout",
     "output_type": "stream",
     "text": [
      "\n"
     ]
    }
   ],
   "source": [
    "beta_data = {'n':n, 'p':p, 'X':X, 'Y':Y}\n",
    "beta_fit = beta_model.sample(data = beta_data)"
   ]
  },
  {
   "cell_type": "code",
   "execution_count": 84,
   "id": "f2f54f7d",
   "metadata": {},
   "outputs": [
    {
     "data": {
      "text/html": [
       "<div>\n",
       "<style scoped>\n",
       "    .dataframe tbody tr th:only-of-type {\n",
       "        vertical-align: middle;\n",
       "    }\n",
       "\n",
       "    .dataframe tbody tr th {\n",
       "        vertical-align: top;\n",
       "    }\n",
       "\n",
       "    .dataframe thead th {\n",
       "        text-align: right;\n",
       "    }\n",
       "</style>\n",
       "<table border=\"1\" class=\"dataframe\">\n",
       "  <thead>\n",
       "    <tr style=\"text-align: right;\">\n",
       "      <th></th>\n",
       "      <th>Mean</th>\n",
       "      <th>MCSE</th>\n",
       "      <th>StdDev</th>\n",
       "      <th>5%</th>\n",
       "      <th>50%</th>\n",
       "      <th>95%</th>\n",
       "      <th>N_Eff</th>\n",
       "      <th>N_Eff/s</th>\n",
       "      <th>R_hat</th>\n",
       "    </tr>\n",
       "  </thead>\n",
       "  <tbody>\n",
       "    <tr>\n",
       "      <th>lp__</th>\n",
       "      <td>-7.18950</td>\n",
       "      <td>0.036906</td>\n",
       "      <td>1.636270</td>\n",
       "      <td>-10.346000</td>\n",
       "      <td>-6.85836</td>\n",
       "      <td>-5.21732</td>\n",
       "      <td>1965.69</td>\n",
       "      <td>1999.69</td>\n",
       "      <td>0.999579</td>\n",
       "    </tr>\n",
       "    <tr>\n",
       "      <th>beta[1]</th>\n",
       "      <td>1.19005</td>\n",
       "      <td>0.012607</td>\n",
       "      <td>0.786666</td>\n",
       "      <td>-0.089815</td>\n",
       "      <td>1.17955</td>\n",
       "      <td>2.52589</td>\n",
       "      <td>3893.60</td>\n",
       "      <td>3960.94</td>\n",
       "      <td>1.000050</td>\n",
       "    </tr>\n",
       "    <tr>\n",
       "      <th>beta[2]</th>\n",
       "      <td>1.15922</td>\n",
       "      <td>0.013085</td>\n",
       "      <td>0.783810</td>\n",
       "      <td>-0.096459</td>\n",
       "      <td>1.14042</td>\n",
       "      <td>2.51040</td>\n",
       "      <td>3588.02</td>\n",
       "      <td>3650.07</td>\n",
       "      <td>1.000100</td>\n",
       "    </tr>\n",
       "    <tr>\n",
       "      <th>beta[3]</th>\n",
       "      <td>1.26987</td>\n",
       "      <td>0.012502</td>\n",
       "      <td>0.796256</td>\n",
       "      <td>0.013595</td>\n",
       "      <td>1.25873</td>\n",
       "      <td>2.65163</td>\n",
       "      <td>4056.78</td>\n",
       "      <td>4126.93</td>\n",
       "      <td>0.999441</td>\n",
       "    </tr>\n",
       "    <tr>\n",
       "      <th>beta[4]</th>\n",
       "      <td>1.28067</td>\n",
       "      <td>0.012651</td>\n",
       "      <td>0.757139</td>\n",
       "      <td>0.056252</td>\n",
       "      <td>1.27723</td>\n",
       "      <td>2.53681</td>\n",
       "      <td>3581.77</td>\n",
       "      <td>3643.71</td>\n",
       "      <td>0.999767</td>\n",
       "    </tr>\n",
       "    <tr>\n",
       "      <th>beta[5]</th>\n",
       "      <td>1.26247</td>\n",
       "      <td>0.013045</td>\n",
       "      <td>0.804239</td>\n",
       "      <td>-0.039973</td>\n",
       "      <td>1.24851</td>\n",
       "      <td>2.60718</td>\n",
       "      <td>3801.01</td>\n",
       "      <td>3866.74</td>\n",
       "      <td>1.000750</td>\n",
       "    </tr>\n",
       "  </tbody>\n",
       "</table>\n",
       "</div>"
      ],
      "text/plain": [
       "            Mean      MCSE    StdDev         5%      50%      95%    N_Eff  \\\n",
       "lp__    -7.18950  0.036906  1.636270 -10.346000 -6.85836 -5.21732  1965.69   \n",
       "beta[1]  1.19005  0.012607  0.786666  -0.089815  1.17955  2.52589  3893.60   \n",
       "beta[2]  1.15922  0.013085  0.783810  -0.096459  1.14042  2.51040  3588.02   \n",
       "beta[3]  1.26987  0.012502  0.796256   0.013595  1.25873  2.65163  4056.78   \n",
       "beta[4]  1.28067  0.012651  0.757139   0.056252  1.27723  2.53681  3581.77   \n",
       "beta[5]  1.26247  0.013045  0.804239  -0.039973  1.24851  2.60718  3801.01   \n",
       "\n",
       "         N_Eff/s     R_hat  \n",
       "lp__     1999.69  0.999579  \n",
       "beta[1]  3960.94  1.000050  \n",
       "beta[2]  3650.07  1.000100  \n",
       "beta[3]  4126.93  0.999441  \n",
       "beta[4]  3643.71  0.999767  \n",
       "beta[5]  3866.74  1.000750  "
      ]
     },
     "execution_count": 84,
     "metadata": {},
     "output_type": "execute_result"
    }
   ],
   "source": [
    "beta_fit.summary()"
   ]
  },
  {
   "cell_type": "code",
   "execution_count": 89,
   "id": "76599215",
   "metadata": {},
   "outputs": [
    {
     "data": {
      "text/plain": [
       "array([[ 0.532125 ,  1.14499  , -0.224128 , ...,  1.35927  ,  1.10978  ,\n",
       "         0.68379  ],\n",
       "       [ 1.05282  ,  1.52028  ,  1.42919  , ...,  0.244855 ,  1.56349  ,\n",
       "         1.12847  ],\n",
       "       [ 1.0839   ,  1.33287  ,  0.0860159, ...,  1.16107  ,  0.901567 ,\n",
       "         0.784005 ],\n",
       "       [ 2.00344  ,  1.97957  ,  1.29042  , ...,  0.609959 ,  0.539473 ,\n",
       "         0.324466 ],\n",
       "       [ 0.993084 ,  1.47773  ,  1.82399  , ...,  2.02261  ,  2.12706  ,\n",
       "         1.49596  ]])"
      ]
     },
     "execution_count": 89,
     "metadata": {},
     "output_type": "execute_result"
    }
   ],
   "source": [
    "beta_fit.stan_variable(var = 'beta').T"
   ]
  },
  {
   "cell_type": "code",
   "execution_count": 93,
   "id": "52a65e63",
   "metadata": {},
   "outputs": [],
   "source": [
    "draws = beta_fit.stan_variable(var = 'beta').T"
   ]
  },
  {
   "cell_type": "code",
   "execution_count": 94,
   "id": "4d36ee71",
   "metadata": {},
   "outputs": [
    {
     "data": {
      "text/plain": [
       "<AxesSubplot:ylabel='Count'>"
      ]
     },
     "execution_count": 94,
     "metadata": {},
     "output_type": "execute_result"
    },
    {
     "data": {
      "image/png": "[encoded data removed]",
      "text/plain": [
       "<Figure size 432x288 with 1 Axes>"
      ]
     },
     "metadata": {
      "needs_background": "light"
     },
     "output_type": "display_data"
    }
   ],
   "source": [
    "sns.histplot(draws[0])"
   ]
  },
  {
   "cell_type": "code",
   "execution_count": 95,
   "id": "4af0c9dc",
   "metadata": {},
   "outputs": [
    {
     "data": {
      "text/plain": [
       "<AxesSubplot:ylabel='Count'>"
      ]
     },
     "execution_count": 95,
     "metadata": {},
     "output_type": "execute_result"
    },
    {
     "data": {
      "image/png": "[encoded data removed]",
      "text/plain": [
       "<Figure size 432x288 with 1 Axes>"
      ]
     },
     "metadata": {
      "needs_background": "light"
     },
     "output_type": "display_data"
    }
   ],
   "source": [
    "sns.histplot(draws[1])"
   ]
  },
  {
   "cell_type": "code",
   "execution_count": 96,
   "id": "3e0121df",
   "metadata": {},
   "outputs": [
    {
     "data": {
      "text/plain": [
       "<AxesSubplot:ylabel='Count'>"
      ]
     },
     "execution_count": 96,
     "metadata": {},
     "output_type": "execute_result"
    },
    {
     "data": {
      "image/png": "[encoded data removed]",
      "text/plain": [
       "<Figure size 432x288 with 1 Axes>"
      ]
     },
     "metadata": {
      "needs_background": "light"
     },
     "output_type": "display_data"
    }
   ],
   "source": [
    "sns.histplot(draws[2])"
   ]
  },
  {
   "cell_type": "code",
   "execution_count": 97,
   "id": "62740036",
   "metadata": {},
   "outputs": [
    {
     "data": {
      "text/plain": [
       "<AxesSubplot:ylabel='Count'>"
      ]
     },
     "execution_count": 97,
     "metadata": {},
     "output_type": "execute_result"
    },
    {
     "data": {
      "image/png": "[encoded data removed]",
      "text/plain": [
       "<Figure size 432x288 with 1 Axes>"
      ]
     },
     "metadata": {
      "needs_background": "light"
     },
     "output_type": "display_data"
    }
   ],
   "source": [
    "sns.histplot(draws[3])"
   ]
  },
  {
   "cell_type": "code",
   "execution_count": 98,
   "id": "3a6b2496",
   "metadata": {},
   "outputs": [
    {
     "data": {
      "text/plain": [
       "<AxesSubplot:ylabel='Count'>"
      ]
     },
     "execution_count": 98,
     "metadata": {},
     "output_type": "execute_result"
    },
    {
     "data": {
      "image/png": "[encoded data removed]",
      "text/plain": [
       "<Figure size 432x288 with 1 Axes>"
      ]
     },
     "metadata": {
      "needs_background": "light"
     },
     "output_type": "display_data"
    }
   ],
   "source": [
    "sns.histplot(draws[4])"
   ]
  },
  {
   "cell_type": "markdown",
   "id": "7aa43a93",
   "metadata": {},
   "source": [
    "### Data Augmentation Iterations"
   ]
  },
  {
   "cell_type": "code",
   "execution_count": 179,
   "id": "fc21f4b1",
   "metadata": {},
   "outputs": [],
   "source": [
    "# takes around 15 mins\n",
    "K = 50\n",
    "J = 50\n",
    "n_iter = 1000\n",
    "no_draws = 1000\n",
    "cov = linalg.inv(np.identity(p) + np.matmul(X.T, X))\n",
    "beta_mat = np.random.normal(size = (K, p))\n",
    "beta_draws = np.zeros((no_draws, p))\n",
    "z_mat = np.zeros((J, n))\n",
    "for l in range(n_iter):\n",
    "    for j in range(J):\n",
    "        k = np.argmax(np.random.multinomial(n = 1, pvals = np.ones(K)/K))\n",
    "        beta = beta_mat[k]\n",
    "        for i in range(n):\n",
    "            if Y[i] == 1:\n",
    "                z_mat[j, i] = trunc_draw_plus(n_samples = 1, mu = np.dot(X[i], beta))[0]\n",
    "            else:\n",
    "                z_mat[j, i] = trunc_draw_minus(n_samples = 1, mu = np.dot(X[i], beta))[0]\n",
    "    for k in range(K):\n",
    "        j = np.argmax(np.random.multinomial(n = 1, pvals = np.ones(J)/J))\n",
    "        z_vec = z_mat[j]\n",
    "        mu = np.matmul(cov, np.matmul(X.T, z_vec))\n",
    "        beta_mat[k] = np.random.multivariate_normal(mean = mu, cov = cov)\n",
    "for l in range(no_draws):\n",
    "        j = np.argmax(np.random.multinomial(n = 1, pvals = np.ones(J)/J))\n",
    "        z_vec = z_mat[j]\n",
    "        mu = np.matmul(cov, np.matmul(X.T, z_vec))\n",
    "        beta_draws[l] = np.random.multivariate_normal(mean = mu, cov = cov)\n",
    "beta_draws = beta_draws.T"
   ]
  },
  {
   "cell_type": "code",
   "execution_count": 180,
   "id": "67081e9d",
   "metadata": {},
   "outputs": [
    {
     "data": {
      "text/plain": [
       "<AxesSubplot:ylabel='Count'>"
      ]
     },
     "execution_count": 180,
     "metadata": {},
     "output_type": "execute_result"
    },
    {
     "data": {
      "image/png": "[encoded data removed]",
      "text/plain": [
       "<Figure size 432x288 with 1 Axes>"
      ]
     },
     "metadata": {
      "needs_background": "light"
     },
     "output_type": "display_data"
    }
   ],
   "source": [
    "sns.histplot(beta_draws[0])"
   ]
  },
  {
   "cell_type": "code",
   "execution_count": 181,
   "id": "cdee3a52",
   "metadata": {},
   "outputs": [
    {
     "data": {
      "text/plain": [
       "<AxesSubplot:ylabel='Count'>"
      ]
     },
     "execution_count": 181,
     "metadata": {},
     "output_type": "execute_result"
    },
    {
     "data": {
      "image/png": "[encoded data removed]",
      "text/plain": [
       "<Figure size 432x288 with 1 Axes>"
      ]
     },
     "metadata": {
      "needs_background": "light"
     },
     "output_type": "display_data"
    }
   ],
   "source": [
    "sns.histplot(beta_draws[1])"
   ]
  },
  {
   "cell_type": "code",
   "execution_count": 182,
   "id": "ab5a0e23",
   "metadata": {},
   "outputs": [
    {
     "data": {
      "text/plain": [
       "<AxesSubplot:ylabel='Count'>"
      ]
     },
     "execution_count": 182,
     "metadata": {},
     "output_type": "execute_result"
    },
    {
     "data": {
      "image/png": "[encoded data removed]",
      "text/plain": [
       "<Figure size 432x288 with 1 Axes>"
      ]
     },
     "metadata": {
      "needs_background": "light"
     },
     "output_type": "display_data"
    }
   ],
   "source": [
    "sns.histplot(beta_draws[2])"
   ]
  },
  {
   "cell_type": "code",
   "execution_count": 183,
   "id": "cb627834",
   "metadata": {},
   "outputs": [
    {
     "data": {
      "text/plain": [
       "<AxesSubplot:ylabel='Count'>"
      ]
     },
     "execution_count": 183,
     "metadata": {},
     "output_type": "execute_result"
    },
    {
     "data": {
      "image/png": "[encoded data removed]",
      "text/plain": [
       "<Figure size 432x288 with 1 Axes>"
      ]
     },
     "metadata": {
      "needs_background": "light"
     },
     "output_type": "display_data"
    }
   ],
   "source": [
    "sns.histplot(beta_draws[3])"
   ]
  },
  {
   "cell_type": "code",
   "execution_count": 184,
   "id": "08e54efc",
   "metadata": {},
   "outputs": [
    {
     "data": {
      "text/plain": [
       "<AxesSubplot:ylabel='Count'>"
      ]
     },
     "execution_count": 184,
     "metadata": {},
     "output_type": "execute_result"
    },
    {
     "data": {
      "image/png": "[encoded data removed]",
      "text/plain": [
       "<Figure size 432x288 with 1 Axes>"
      ]
     },
     "metadata": {
      "needs_background": "light"
     },
     "output_type": "display_data"
    }
   ],
   "source": [
    "sns.histplot(beta_draws[4])"
   ]
  },
  {
   "cell_type": "code",
   "execution_count": null,
   "id": "f779ea30",
   "metadata": {},
   "outputs": [],
   "source": []
  },
  {
   "cell_type": "code",
   "execution_count": null,
   "id": "f2efc10f",
   "metadata": {},
   "outputs": [],
   "source": []
  },
  {
   "cell_type": "code",
   "execution_count": 131,
   "id": "5e9198a7",
   "metadata": {},
   "outputs": [
    {
     "data": {
      "text/plain": [
       "-0.5896462512944076"
      ]
     },
     "execution_count": 131,
     "metadata": {},
     "output_type": "execute_result"
    }
   ],
   "source": [
    "# red-flag with built in function !!!\n",
    "stats.truncnorm.rvs(a = 0, b = np.inf, loc = -2, scale = 1)"
   ]
  },
  {
   "cell_type": "code",
   "execution_count": 161,
   "id": "c26cc801",
   "metadata": {},
   "outputs": [],
   "source": [
    "# this function draws from N(\\mu, 1) truncated on (0, \\infty)\n",
    "def trunc_draw_plus(n_samples, mu):\n",
    "    U = np.random.uniform(size = n_samples)\n",
    "    return np.array([mu - stats.norm.ppf((1 - u)*stats.norm.cdf(mu)) for u in U])\n",
    "\n",
    "# this function draws from N(\\mu, 1) truncated on (-\\infty, 0)\n",
    "def trunc_draw_minus(n_samples, mu):\n",
    "    U = np.random.uniform(size = n_samples)\n",
    "    return np.array([mu + stats.norm.ppf(u*stats.norm.cdf(-mu)) for u in U])"
   ]
  },
  {
   "cell_type": "code",
   "execution_count": 172,
   "id": "359709fd",
   "metadata": {},
   "outputs": [
    {
     "data": {
      "text/plain": [
       "array([[-1.11026892,  0.90788568,  2.68967518,  2.51455658,  0.90743267],\n",
       "       [-0.04983602,  0.93764703,  2.12625352,  2.8901835 ,  0.46035662],\n",
       "       [ 0.54264296,  0.76840951,  1.3516185 ,  2.47451743,  0.74152523],\n",
       "       [-0.29435022,  0.57209599,  1.81399641,  3.2156438 ,  0.94043932],\n",
       "       [ 0.29960984,  0.58301939,  1.23294459,  3.14067369,  0.74991692],\n",
       "       [ 0.33526747,  1.11565833,  1.57969271,  1.86336149,  1.29838334],\n",
       "       [ 0.31064485,  1.25106987,  0.62953667,  1.49431617,  3.21725477],\n",
       "       [-0.05537494,  0.85244803,  1.38428448,  3.11101236,  0.56846815],\n",
       "       [ 0.44461852,  0.89271841,  1.29139667,  2.81729656,  0.50803906],\n",
       "       [ 0.43732548,  1.95218536,  1.00737733,  0.88275726,  2.71549123]])"
      ]
     },
     "execution_count": 172,
     "metadata": {},
     "output_type": "execute_result"
    }
   ],
   "source": [
    "beta_mat"
   ]
  },
  {
   "cell_type": "code",
   "execution_count": null,
   "id": "84d4b21a",
   "metadata": {},
   "outputs": [],
   "source": []
  },
  {
   "cell_type": "code",
   "execution_count": null,
   "id": "1b5e9e41",
   "metadata": {},
   "outputs": [],
   "source": []
  },
  {
   "cell_type": "code",
   "execution_count": null,
   "id": "1d828135",
   "metadata": {},
   "outputs": [],
   "source": []
  }
 ],
 "metadata": {
  "kernelspec": {
   "display_name": "Python 3 (ipykernel)",
   "language": "python",
   "name": "python3"
  },
  "language_info": {
   "codemirror_mode": {
    "name": "ipython",
    "version": 3
   },
   "file_extension": ".py",
   "mimetype": "text/x-python",
   "name": "python",
   "nbconvert_exporter": "python",
   "pygments_lexer": "ipython3",
   "version": "3.9.12"
  }
 },
 "nbformat": 4,
 "nbformat_minor": 5
}
