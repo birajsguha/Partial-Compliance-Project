{
 "cells": [
  {
   "cell_type": "markdown",
   "metadata": {
    "id": "z2Ak9UP9RfG7"
   },
   "source": [
    "Details of many rSTAN examples:\n",
    "http://hedibert.org/wp-content/uploads/2021/02/stan-rstan-examples.html"
   ]
  },
  {
   "cell_type": "code",
   "execution_count": 1,
   "metadata": {},
   "outputs": [],
   "source": [
    "%load_ext cmdstanjupyter"
   ]
  },
  {
   "cell_type": "code",
   "execution_count": 2,
   "metadata": {
    "id": "XKKAkSfNX_Jd"
   },
   "outputs": [],
   "source": [
    "import numpy as np\n",
    "import pandas as pd\n",
    "import matplotlib.pyplot as plt\n",
    "import arviz as ar\n",
    "import scipy.stats"
   ]
  },
  {
   "cell_type": "markdown",
   "metadata": {
    "id": "ZL_QWzb3RKmp"
   },
   "source": [
    "# Regression Test (WORKS LIKE A CHARM !!!)"
   ]
  },
  {
   "cell_type": "code",
   "execution_count": 5,
   "metadata": {
    "id": "Q5cUfzYZdYtG"
   },
   "outputs": [],
   "source": [
    "n = 50\n",
    "p = 5"
   ]
  },
  {
   "cell_type": "code",
   "execution_count": 6,
   "metadata": {
    "colab": {
     "base_uri": "https://localhost:8080/"
    },
    "id": "dYrZ0GvWYI5W",
    "outputId": "2fa8ea73-f7a4-457c-9881-f3ab74313f17"
   },
   "outputs": [
    {
     "data": {
      "text/plain": [
       "array([[  1.        ,  -7.32867928,   1.85401881,   1.8945266 ,\n",
       "        -10.82272135,  -4.93473427],\n",
       "       [  1.        ,  -1.3679623 ,   8.98085018,  -8.98390296,\n",
       "          5.34632386,  -7.67380402],\n",
       "       [  1.        ,   2.33494581,   8.13883042,  -3.75062073,\n",
       "          3.12849496,   5.62941858],\n",
       "       [  1.        ,  -7.25119238,   4.14285566,   2.666821  ,\n",
       "         -2.77208277,  -9.21832069],\n",
       "       [  1.        ,  -1.24786353,  -0.64950101,   6.75178248,\n",
       "         -5.07078229,   1.67729212]])"
      ]
     },
     "execution_count": 6,
     "metadata": {},
     "output_type": "execute_result"
    }
   ],
   "source": [
    "# generating the covariate matrix\n",
    "\n",
    "X_data = np.random.normal(loc = 1, scale = 5, size = (n, p))\n",
    "X_data = np.array([np.append(1.0, a) for a in X_data])\n",
    "X_data[:5]"
   ]
  },
  {
   "cell_type": "code",
   "execution_count": 7,
   "metadata": {
    "colab": {
     "base_uri": "https://localhost:8080/"
    },
    "id": "uP1qVC-rYcjo",
    "outputId": "1c7253e0-c066-44f9-f714-03907251bb2f"
   },
   "outputs": [
    {
     "name": "stderr",
     "output_type": "stream",
     "text": [
      "D:\\Anaconda\\lib\\site-packages\\numpy\\lib\\function_base.py:2691: RuntimeWarning: invalid value encountered in true_divide\n",
      "  c /= stddev[:, None]\n",
      "D:\\Anaconda\\lib\\site-packages\\numpy\\lib\\function_base.py:2692: RuntimeWarning: invalid value encountered in true_divide\n",
      "  c /= stddev[None, :]\n"
     ]
    },
    {
     "data": {
      "text/plain": [
       "array([[        nan,         nan,         nan,         nan,         nan,\n",
       "                nan],\n",
       "       [        nan,  1.        , -0.09535166, -0.20416101,  0.11554129,\n",
       "         0.04933109],\n",
       "       [        nan, -0.09535166,  1.        , -0.25322514,  0.08822333,\n",
       "        -0.00649013],\n",
       "       [        nan, -0.20416101, -0.25322514,  1.        , -0.02757833,\n",
       "        -0.14596156],\n",
       "       [        nan,  0.11554129,  0.08822333, -0.02757833,  1.        ,\n",
       "         0.12689892],\n",
       "       [        nan,  0.04933109, -0.00649013, -0.14596156,  0.12689892,\n",
       "         1.        ]])"
      ]
     },
     "execution_count": 7,
     "metadata": {},
     "output_type": "execute_result"
    }
   ],
   "source": [
    "#checking whether the columns are corrleted too much\n",
    "\n",
    "np.corrcoef(X_data.transpose())"
   ]
  },
  {
   "cell_type": "code",
   "execution_count": 8,
   "metadata": {
    "colab": {
     "base_uri": "https://localhost:8080/"
    },
    "id": "AvRmsCIlaMY5",
    "outputId": "52500812-12b5-442b-8b73-f3242d5fa5ca"
   },
   "outputs": [
    {
     "data": {
      "text/plain": [
       "array([-10,   1,   2,   3,   4,   5])"
      ]
     },
     "execution_count": 8,
     "metadata": {},
     "output_type": "execute_result"
    }
   ],
   "source": [
    "# true co-efficient vector\n",
    "\n",
    "beta_0 = np.array([-10, 1, 2, 3, 4, 5])\n",
    "beta_0"
   ]
  },
  {
   "cell_type": "code",
   "execution_count": 9,
   "metadata": {
    "colab": {
     "base_uri": "https://localhost:8080/"
    },
    "id": "E8o3cIfhcN-D",
    "outputId": "5aef80a0-daa2-448c-9854-7f3fd3a2f44f"
   },
   "outputs": [
    {
     "data": {
      "text/plain": [
       "array([-77.17163249, -37.73865251,  38.736706  , -57.80837298,\n",
       "        -4.92404553, -44.91176898, -23.93387612, -36.20260411,\n",
       "        41.03585046,  22.151874  , -61.68713331,  17.79165168,\n",
       "       -61.65662733,  18.54223392,  17.84400211,  31.6672342 ,\n",
       "         9.16276066,  65.3382678 ,  53.96944363,  -1.09917524,\n",
       "        40.01152241,  29.59094438,  16.80609163,  44.30415783,\n",
       "        43.60301831, -46.24410128, -20.35799425,  72.67194201,\n",
       "        60.85672975,  34.74167044,  -5.31293961, -29.9949698 ,\n",
       "        93.99868809, -27.80964225,  21.41996249,  -0.54805948,\n",
       "       -23.82885544, -32.42847476,  10.89883897,  31.80382828,\n",
       "       -13.98722871,   6.6411482 ,  -9.43518703,  14.96866569,\n",
       "        19.74973567, -30.93558816, -41.38063952,  36.26326358,\n",
       "         2.88066524, 106.15480763])"
      ]
     },
     "execution_count": 9,
     "metadata": {},
     "output_type": "execute_result"
    }
   ],
   "source": [
    "# data generation\n",
    "\n",
    "Y_data = np.dot(X_data, beta_0) + np.random.normal(size = n)\n",
    "Y_data"
   ]
  },
  {
   "cell_type": "code",
   "execution_count": 10,
   "metadata": {
    "id": "iz40fB3oa6lj"
   },
   "outputs": [],
   "source": [
    "reg_code = \"\"\"\n",
    "\n",
    "data {\n",
    "  int<lower=0> n;\n",
    "  int<lower=0> p;\n",
    "  vector[n] Y;\n",
    "  matrix[n, p] X;\n",
    "}\n",
    "\n",
    "parameters {\n",
    "  vector[p] beta;\n",
    "}\n",
    "\n",
    "model {\n",
    "  beta ~ normal(0, 1);\n",
    "  Y ~ normal(X*beta, 1);\n",
    "}\n",
    "\n",
    "\"\"\""
   ]
  },
  {
   "cell_type": "code",
   "execution_count": 11,
   "metadata": {
    "id": "WsG0jwaZdHiO"
   },
   "outputs": [],
   "source": [
    "reg_data = {\"n\":n, \"p\":p + 1, \"X\":X_data, \"Y\":Y_data}"
   ]
  },
  {
   "cell_type": "code",
   "execution_count": 14,
   "metadata": {
    "colab": {
     "base_uri": "https://localhost:8080/"
    },
    "id": "M0C3S6EWd9bh",
    "outputId": "4d0852ac-c0f7-411c-dd59-bec389ccb7ec"
   },
   "outputs": [
    {
     "name": "stderr",
     "output_type": "stream",
     "text": [
      "WARNING:pystan:DeprecationWarning: pystan.stan was deprecated in version 2.17 and will be removed in version 3.0. Compile and use a Stan program in separate steps.\n",
      "INFO:pystan:COMPILING THE C++ CODE FOR MODEL anon_model_583a05b390409b2b6b7b273415b94e6d NOW.\n",
      "WARNING:pystan:MSVC compiler is not supported\n"
     ]
    },
    {
     "ename": "CompileError",
     "evalue": "command 'C:\\\\Program Files (x86)\\\\Microsoft Visual Studio\\\\2022\\\\BuildTools\\\\VC\\\\Tools\\\\MSVC\\\\14.33.31629\\\\bin\\\\HostX86\\\\x64\\\\cl.exe' failed with exit code 2",
     "output_type": "error",
     "traceback": [
      "\u001b[1;31m---------------------------------------------------------------------------\u001b[0m",
      "\u001b[1;31mDistutilsExecError\u001b[0m                        Traceback (most recent call last)",
      "File \u001b[1;32mD:\\Anaconda\\lib\\site-packages\\setuptools\\_distutils\\_msvccompiler.py:412\u001b[0m, in \u001b[0;36mMSVCCompiler.compile\u001b[1;34m(self, sources, output_dir, macros, include_dirs, debug, extra_preargs, extra_postargs, depends)\u001b[0m\n\u001b[0;32m    411\u001b[0m \u001b[38;5;28;01mtry\u001b[39;00m:\n\u001b[1;32m--> 412\u001b[0m     \u001b[38;5;28;43mself\u001b[39;49m\u001b[38;5;241;43m.\u001b[39;49m\u001b[43mspawn\u001b[49m\u001b[43m(\u001b[49m\u001b[43margs\u001b[49m\u001b[43m)\u001b[49m\n\u001b[0;32m    413\u001b[0m \u001b[38;5;28;01mexcept\u001b[39;00m DistutilsExecError \u001b[38;5;28;01mas\u001b[39;00m msg:\n",
      "File \u001b[1;32mD:\\Anaconda\\lib\\site-packages\\setuptools\\_distutils\\_msvccompiler.py:517\u001b[0m, in \u001b[0;36mMSVCCompiler.spawn\u001b[1;34m(self, cmd)\u001b[0m\n\u001b[0;32m    516\u001b[0m \u001b[38;5;28;01mwith\u001b[39;00m \u001b[38;5;28mself\u001b[39m\u001b[38;5;241m.\u001b[39m_fallback_spawn(cmd, env) \u001b[38;5;28;01mas\u001b[39;00m fallback:\n\u001b[1;32m--> 517\u001b[0m     \u001b[38;5;28;01mreturn\u001b[39;00m \u001b[38;5;28;43msuper\u001b[39;49m\u001b[43m(\u001b[49m\u001b[43m)\u001b[49m\u001b[38;5;241;43m.\u001b[39;49m\u001b[43mspawn\u001b[49m\u001b[43m(\u001b[49m\u001b[43mcmd\u001b[49m\u001b[43m,\u001b[49m\u001b[43m \u001b[49m\u001b[43menv\u001b[49m\u001b[38;5;241;43m=\u001b[39;49m\u001b[43menv\u001b[49m\u001b[43m)\u001b[49m\n\u001b[0;32m    518\u001b[0m \u001b[38;5;28;01mreturn\u001b[39;00m fallback\u001b[38;5;241m.\u001b[39mvalue\n",
      "File \u001b[1;32mD:\\Anaconda\\lib\\site-packages\\setuptools\\_distutils\\ccompiler.py:917\u001b[0m, in \u001b[0;36mCCompiler.spawn\u001b[1;34m(self, cmd, **kwargs)\u001b[0m\n\u001b[0;32m    916\u001b[0m \u001b[38;5;28;01mdef\u001b[39;00m \u001b[38;5;21mspawn\u001b[39m(\u001b[38;5;28mself\u001b[39m, cmd, \u001b[38;5;241m*\u001b[39m\u001b[38;5;241m*\u001b[39mkwargs):\n\u001b[1;32m--> 917\u001b[0m     spawn(cmd, dry_run\u001b[38;5;241m=\u001b[39m\u001b[38;5;28mself\u001b[39m\u001b[38;5;241m.\u001b[39mdry_run, \u001b[38;5;241m*\u001b[39m\u001b[38;5;241m*\u001b[39mkwargs)\n",
      "File \u001b[1;32mD:\\Anaconda\\lib\\site-packages\\setuptools\\_distutils\\spawn.py:68\u001b[0m, in \u001b[0;36mspawn\u001b[1;34m(cmd, search_path, verbose, dry_run, env)\u001b[0m\n\u001b[0;32m     67\u001b[0m     cmd \u001b[38;5;241m=\u001b[39m cmd[\u001b[38;5;241m0\u001b[39m]\n\u001b[1;32m---> 68\u001b[0m \u001b[38;5;28;01mraise\u001b[39;00m DistutilsExecError(\n\u001b[0;32m     69\u001b[0m       \u001b[38;5;124m\"\u001b[39m\u001b[38;5;124mcommand \u001b[39m\u001b[38;5;132;01m%r\u001b[39;00m\u001b[38;5;124m failed with exit code \u001b[39m\u001b[38;5;132;01m%s\u001b[39;00m\u001b[38;5;124m\"\u001b[39m \u001b[38;5;241m%\u001b[39m (cmd, exitcode))\n",
      "\u001b[1;31mDistutilsExecError\u001b[0m: command 'C:\\\\Program Files (x86)\\\\Microsoft Visual Studio\\\\2022\\\\BuildTools\\\\VC\\\\Tools\\\\MSVC\\\\14.33.31629\\\\bin\\\\HostX86\\\\x64\\\\cl.exe' failed with exit code 2",
      "\nDuring handling of the above exception, another exception occurred:\n",
      "\u001b[1;31mCompileError\u001b[0m                              Traceback (most recent call last)",
      "Input \u001b[1;32mIn [14]\u001b[0m, in \u001b[0;36m<cell line: 2>\u001b[1;34m()\u001b[0m\n\u001b[0;32m      1\u001b[0m \u001b[38;5;66;03m# posterior = stan.build(reg_code, data = reg_data)\u001b[39;00m\n\u001b[1;32m----> 2\u001b[0m posterior \u001b[38;5;241m=\u001b[39m \u001b[43mstan\u001b[49m\u001b[43m(\u001b[49m\u001b[43mmodel_code\u001b[49m\u001b[43m \u001b[49m\u001b[38;5;241;43m=\u001b[39;49m\u001b[43m \u001b[49m\u001b[43mreg_code\u001b[49m\u001b[43m,\u001b[49m\u001b[43m \u001b[49m\u001b[43mdata\u001b[49m\u001b[43m \u001b[49m\u001b[38;5;241;43m=\u001b[39;49m\u001b[43m \u001b[49m\u001b[43mreg_data\u001b[49m\u001b[43m)\u001b[49m\n",
      "File \u001b[1;32mD:\\Anaconda\\lib\\site-packages\\pystan\\api.py:431\u001b[0m, in \u001b[0;36mstan\u001b[1;34m(file, model_name, model_code, fit, data, pars, chains, iter, warmup, thin, init, seed, algorithm, control, sample_file, diagnostic_file, verbose, boost_lib, eigen_lib, include_paths, n_jobs, allow_undefined, **kwargs)\u001b[0m\n\u001b[0;32m    429\u001b[0m     m \u001b[38;5;241m=\u001b[39m fit\u001b[38;5;241m.\u001b[39mstanmodel\n\u001b[0;32m    430\u001b[0m \u001b[38;5;28;01melse\u001b[39;00m:\n\u001b[1;32m--> 431\u001b[0m     m \u001b[38;5;241m=\u001b[39m \u001b[43mStanModel\u001b[49m\u001b[43m(\u001b[49m\u001b[43mfile\u001b[49m\u001b[38;5;241;43m=\u001b[39;49m\u001b[43mfile\u001b[49m\u001b[43m,\u001b[49m\u001b[43m \u001b[49m\u001b[43mmodel_name\u001b[49m\u001b[38;5;241;43m=\u001b[39;49m\u001b[43mmodel_name\u001b[49m\u001b[43m,\u001b[49m\u001b[43m \u001b[49m\u001b[43mmodel_code\u001b[49m\u001b[38;5;241;43m=\u001b[39;49m\u001b[43mmodel_code\u001b[49m\u001b[43m,\u001b[49m\n\u001b[0;32m    432\u001b[0m \u001b[43m                  \u001b[49m\u001b[43mboost_lib\u001b[49m\u001b[38;5;241;43m=\u001b[39;49m\u001b[43mboost_lib\u001b[49m\u001b[43m,\u001b[49m\u001b[43m \u001b[49m\u001b[43meigen_lib\u001b[49m\u001b[38;5;241;43m=\u001b[39;49m\u001b[43meigen_lib\u001b[49m\u001b[43m,\u001b[49m\n\u001b[0;32m    433\u001b[0m \u001b[43m                  \u001b[49m\u001b[43minclude_paths\u001b[49m\u001b[38;5;241;43m=\u001b[39;49m\u001b[43minclude_paths\u001b[49m\u001b[43m,\u001b[49m\n\u001b[0;32m    434\u001b[0m \u001b[43m                  \u001b[49m\u001b[43mobfuscate_model_name\u001b[49m\u001b[38;5;241;43m=\u001b[39;49m\u001b[43mobfuscate_model_name\u001b[49m\u001b[43m,\u001b[49m\u001b[43m \u001b[49m\u001b[43mverbose\u001b[49m\u001b[38;5;241;43m=\u001b[39;49m\u001b[43mverbose\u001b[49m\u001b[43m,\u001b[49m\n\u001b[0;32m    435\u001b[0m \u001b[43m                  \u001b[49m\u001b[43mallow_undefined\u001b[49m\u001b[38;5;241;43m=\u001b[39;49m\u001b[43mallow_undefined\u001b[49m\u001b[43m)\u001b[49m\n\u001b[0;32m    436\u001b[0m \u001b[38;5;66;03m# check that arguments in kwargs are valid\u001b[39;00m\n\u001b[0;32m    437\u001b[0m valid_args \u001b[38;5;241m=\u001b[39m {\u001b[38;5;124m\"\u001b[39m\u001b[38;5;124mchain_id\u001b[39m\u001b[38;5;124m\"\u001b[39m, \u001b[38;5;124m\"\u001b[39m\u001b[38;5;124minit_r\u001b[39m\u001b[38;5;124m\"\u001b[39m, \u001b[38;5;124m\"\u001b[39m\u001b[38;5;124mtest_grad\u001b[39m\u001b[38;5;124m\"\u001b[39m, \u001b[38;5;124m\"\u001b[39m\u001b[38;5;124mappend_samples\u001b[39m\u001b[38;5;124m\"\u001b[39m, \u001b[38;5;124m\"\u001b[39m\u001b[38;5;124menable_random_init\u001b[39m\u001b[38;5;124m\"\u001b[39m,\n\u001b[0;32m    438\u001b[0m               \u001b[38;5;124m\"\u001b[39m\u001b[38;5;124mrefresh\u001b[39m\u001b[38;5;124m\"\u001b[39m, \u001b[38;5;124m\"\u001b[39m\u001b[38;5;124mcontrol\u001b[39m\u001b[38;5;124m\"\u001b[39m}\n",
      "File \u001b[1;32mD:\\Anaconda\\lib\\site-packages\\pystan\\model.py:378\u001b[0m, in \u001b[0;36mStanModel.__init__\u001b[1;34m(self, file, charset, model_name, model_code, stanc_ret, include_paths, boost_lib, eigen_lib, verbose, obfuscate_model_name, extra_compile_args, allow_undefined, include_dirs, includes)\u001b[0m\n\u001b[0;32m    375\u001b[0m     orig_stderr \u001b[38;5;241m=\u001b[39m pystan\u001b[38;5;241m.\u001b[39mmisc\u001b[38;5;241m.\u001b[39m_redirect_stderr()\n\u001b[0;32m    377\u001b[0m \u001b[38;5;28;01mtry\u001b[39;00m:\n\u001b[1;32m--> 378\u001b[0m     \u001b[43mbuild_extension\u001b[49m\u001b[38;5;241;43m.\u001b[39;49m\u001b[43mrun\u001b[49m\u001b[43m(\u001b[49m\u001b[43m)\u001b[49m\n\u001b[0;32m    379\u001b[0m \u001b[38;5;28;01mfinally\u001b[39;00m:\n\u001b[0;32m    380\u001b[0m     \u001b[38;5;28;01mif\u001b[39;00m redirect_stderr:\n\u001b[0;32m    381\u001b[0m         \u001b[38;5;66;03m# restore stderr\u001b[39;00m\n",
      "File \u001b[1;32mD:\\Anaconda\\lib\\site-packages\\setuptools\\_distutils\\command\\build_ext.py:339\u001b[0m, in \u001b[0;36mbuild_ext.run\u001b[1;34m(self)\u001b[0m\n\u001b[0;32m    336\u001b[0m     \u001b[38;5;28mself\u001b[39m\u001b[38;5;241m.\u001b[39mcompiler\u001b[38;5;241m.\u001b[39mset_link_objects(\u001b[38;5;28mself\u001b[39m\u001b[38;5;241m.\u001b[39mlink_objects)\n\u001b[0;32m    338\u001b[0m \u001b[38;5;66;03m# Now actually compile and link everything.\u001b[39;00m\n\u001b[1;32m--> 339\u001b[0m \u001b[38;5;28;43mself\u001b[39;49m\u001b[38;5;241;43m.\u001b[39;49m\u001b[43mbuild_extensions\u001b[49m\u001b[43m(\u001b[49m\u001b[43m)\u001b[49m\n",
      "File \u001b[1;32mD:\\Anaconda\\lib\\site-packages\\setuptools\\_distutils\\command\\build_ext.py:448\u001b[0m, in \u001b[0;36mbuild_ext.build_extensions\u001b[1;34m(self)\u001b[0m\n\u001b[0;32m    446\u001b[0m     \u001b[38;5;28mself\u001b[39m\u001b[38;5;241m.\u001b[39m_build_extensions_parallel()\n\u001b[0;32m    447\u001b[0m \u001b[38;5;28;01melse\u001b[39;00m:\n\u001b[1;32m--> 448\u001b[0m     \u001b[38;5;28;43mself\u001b[39;49m\u001b[38;5;241;43m.\u001b[39;49m\u001b[43m_build_extensions_serial\u001b[49m\u001b[43m(\u001b[49m\u001b[43m)\u001b[49m\n",
      "File \u001b[1;32mD:\\Anaconda\\lib\\site-packages\\setuptools\\_distutils\\command\\build_ext.py:473\u001b[0m, in \u001b[0;36mbuild_ext._build_extensions_serial\u001b[1;34m(self)\u001b[0m\n\u001b[0;32m    471\u001b[0m \u001b[38;5;28;01mfor\u001b[39;00m ext \u001b[38;5;129;01min\u001b[39;00m \u001b[38;5;28mself\u001b[39m\u001b[38;5;241m.\u001b[39mextensions:\n\u001b[0;32m    472\u001b[0m     \u001b[38;5;28;01mwith\u001b[39;00m \u001b[38;5;28mself\u001b[39m\u001b[38;5;241m.\u001b[39m_filter_build_errors(ext):\n\u001b[1;32m--> 473\u001b[0m         \u001b[38;5;28;43mself\u001b[39;49m\u001b[38;5;241;43m.\u001b[39;49m\u001b[43mbuild_extension\u001b[49m\u001b[43m(\u001b[49m\u001b[43mext\u001b[49m\u001b[43m)\u001b[49m\n",
      "File \u001b[1;32mD:\\Anaconda\\lib\\site-packages\\setuptools\\_distutils\\command\\build_ext.py:528\u001b[0m, in \u001b[0;36mbuild_ext.build_extension\u001b[1;34m(self, ext)\u001b[0m\n\u001b[0;32m    525\u001b[0m \u001b[38;5;28;01mfor\u001b[39;00m undef \u001b[38;5;129;01min\u001b[39;00m ext\u001b[38;5;241m.\u001b[39mundef_macros:\n\u001b[0;32m    526\u001b[0m     macros\u001b[38;5;241m.\u001b[39mappend((undef,))\n\u001b[1;32m--> 528\u001b[0m objects \u001b[38;5;241m=\u001b[39m \u001b[38;5;28;43mself\u001b[39;49m\u001b[38;5;241;43m.\u001b[39;49m\u001b[43mcompiler\u001b[49m\u001b[38;5;241;43m.\u001b[39;49m\u001b[43mcompile\u001b[49m\u001b[43m(\u001b[49m\u001b[43msources\u001b[49m\u001b[43m,\u001b[49m\n\u001b[0;32m    529\u001b[0m \u001b[43m                                 \u001b[49m\u001b[43moutput_dir\u001b[49m\u001b[38;5;241;43m=\u001b[39;49m\u001b[38;5;28;43mself\u001b[39;49m\u001b[38;5;241;43m.\u001b[39;49m\u001b[43mbuild_temp\u001b[49m\u001b[43m,\u001b[49m\n\u001b[0;32m    530\u001b[0m \u001b[43m                                 \u001b[49m\u001b[43mmacros\u001b[49m\u001b[38;5;241;43m=\u001b[39;49m\u001b[43mmacros\u001b[49m\u001b[43m,\u001b[49m\n\u001b[0;32m    531\u001b[0m \u001b[43m                                 \u001b[49m\u001b[43minclude_dirs\u001b[49m\u001b[38;5;241;43m=\u001b[39;49m\u001b[43mext\u001b[49m\u001b[38;5;241;43m.\u001b[39;49m\u001b[43minclude_dirs\u001b[49m\u001b[43m,\u001b[49m\n\u001b[0;32m    532\u001b[0m \u001b[43m                                 \u001b[49m\u001b[43mdebug\u001b[49m\u001b[38;5;241;43m=\u001b[39;49m\u001b[38;5;28;43mself\u001b[39;49m\u001b[38;5;241;43m.\u001b[39;49m\u001b[43mdebug\u001b[49m\u001b[43m,\u001b[49m\n\u001b[0;32m    533\u001b[0m \u001b[43m                                 \u001b[49m\u001b[43mextra_postargs\u001b[49m\u001b[38;5;241;43m=\u001b[39;49m\u001b[43mextra_args\u001b[49m\u001b[43m,\u001b[49m\n\u001b[0;32m    534\u001b[0m \u001b[43m                                 \u001b[49m\u001b[43mdepends\u001b[49m\u001b[38;5;241;43m=\u001b[39;49m\u001b[43mext\u001b[49m\u001b[38;5;241;43m.\u001b[39;49m\u001b[43mdepends\u001b[49m\u001b[43m)\u001b[49m\n\u001b[0;32m    536\u001b[0m \u001b[38;5;66;03m# XXX outdated variable, kept here in case third-part code\u001b[39;00m\n\u001b[0;32m    537\u001b[0m \u001b[38;5;66;03m# needs it.\u001b[39;00m\n\u001b[0;32m    538\u001b[0m \u001b[38;5;28mself\u001b[39m\u001b[38;5;241m.\u001b[39m_built_objects \u001b[38;5;241m=\u001b[39m objects[:]\n",
      "File \u001b[1;32mD:\\Anaconda\\lib\\site-packages\\setuptools\\_distutils\\_msvccompiler.py:414\u001b[0m, in \u001b[0;36mMSVCCompiler.compile\u001b[1;34m(self, sources, output_dir, macros, include_dirs, debug, extra_preargs, extra_postargs, depends)\u001b[0m\n\u001b[0;32m    412\u001b[0m         \u001b[38;5;28mself\u001b[39m\u001b[38;5;241m.\u001b[39mspawn(args)\n\u001b[0;32m    413\u001b[0m     \u001b[38;5;28;01mexcept\u001b[39;00m DistutilsExecError \u001b[38;5;28;01mas\u001b[39;00m msg:\n\u001b[1;32m--> 414\u001b[0m         \u001b[38;5;28;01mraise\u001b[39;00m CompileError(msg)\n\u001b[0;32m    416\u001b[0m \u001b[38;5;28;01mreturn\u001b[39;00m objects\n",
      "\u001b[1;31mCompileError\u001b[0m: command 'C:\\\\Program Files (x86)\\\\Microsoft Visual Studio\\\\2022\\\\BuildTools\\\\VC\\\\Tools\\\\MSVC\\\\14.33.31629\\\\bin\\\\HostX86\\\\x64\\\\cl.exe' failed with exit code 2"
     ]
    }
   ],
   "source": [
    "# posterior = stan.build(reg_code, data = reg_data)\n",
    "posterior = stan(model_code = reg_code, data = reg_data)"
   ]
  },
  {
   "cell_type": "code",
   "execution_count": null,
   "metadata": {
    "colab": {
     "base_uri": "https://localhost:8080/"
    },
    "id": "0s8imSW_f3LV",
    "outputId": "e0887e41-b01a-457e-cee6-003041c781f5"
   },
   "outputs": [
    {
     "name": "stderr",
     "output_type": "stream",
     "text": [
      "Sampling:   0%\n",
      "Sampling:  20% (2000/10000)\n",
      "Sampling:  40% (4000/10000)\n",
      "Sampling:  60% (6000/10000)\n",
      "Sampling:  80% (8000/10000)\n",
      "Sampling: 100% (10000/10000)\n",
      "Sampling: 100% (10000/10000), done.\n",
      "Messages received during sampling:\n",
      "  Gradient evaluation took 1.5e-05 seconds\n",
      "  1000 transitions using 10 leapfrog steps per transition would take 0.15 seconds.\n",
      "  Adjust your expectations accordingly!\n",
      "  Gradient evaluation took 1.9e-05 seconds\n",
      "  1000 transitions using 10 leapfrog steps per transition would take 0.19 seconds.\n",
      "  Adjust your expectations accordingly!\n",
      "  Gradient evaluation took 1.8e-05 seconds\n",
      "  1000 transitions using 10 leapfrog steps per transition would take 0.18 seconds.\n",
      "  Adjust your expectations accordingly!\n",
      "  Gradient evaluation took 1.4e-05 seconds\n",
      "  1000 transitions using 10 leapfrog steps per transition would take 0.14 seconds.\n",
      "  Adjust your expectations accordingly!\n",
      "  Gradient evaluation took 1.1e-05 seconds\n",
      "  1000 transitions using 10 leapfrog steps per transition would take 0.11 seconds.\n",
      "  Adjust your expectations accordingly!\n"
     ]
    }
   ],
   "source": [
    "fit = posterior.sample(num_chains=5, num_samples=1000)"
   ]
  },
  {
   "cell_type": "code",
   "execution_count": null,
   "metadata": {
    "colab": {
     "base_uri": "https://localhost:8080/",
     "height": 455
    },
    "id": "2P5TCwVzegqa",
    "outputId": "a5d08900-caa7-4609-84a6-2281692e7c14"
   },
   "outputs": [
    {
     "data": {
      "text/html": [
       "\n",
       "  <div id=\"df-60fd5174-dc11-4613-b5e8-c1655d9c61fc\">\n",
       "    <div class=\"colab-df-container\">\n",
       "      <div>\n",
       "<style scoped>\n",
       "    .dataframe tbody tr th:only-of-type {\n",
       "        vertical-align: middle;\n",
       "    }\n",
       "\n",
       "    .dataframe tbody tr th {\n",
       "        vertical-align: top;\n",
       "    }\n",
       "\n",
       "    .dataframe thead th {\n",
       "        text-align: right;\n",
       "    }\n",
       "</style>\n",
       "<table border=\"1\" class=\"dataframe\">\n",
       "  <thead>\n",
       "    <tr style=\"text-align: right;\">\n",
       "      <th>parameters</th>\n",
       "      <th>lp__</th>\n",
       "      <th>accept_stat__</th>\n",
       "      <th>stepsize__</th>\n",
       "      <th>treedepth__</th>\n",
       "      <th>n_leapfrog__</th>\n",
       "      <th>divergent__</th>\n",
       "      <th>energy__</th>\n",
       "      <th>beta.1</th>\n",
       "      <th>beta.2</th>\n",
       "      <th>beta.3</th>\n",
       "      <th>beta.4</th>\n",
       "      <th>beta.5</th>\n",
       "      <th>beta.6</th>\n",
       "    </tr>\n",
       "    <tr>\n",
       "      <th>draws</th>\n",
       "      <th></th>\n",
       "      <th></th>\n",
       "      <th></th>\n",
       "      <th></th>\n",
       "      <th></th>\n",
       "      <th></th>\n",
       "      <th></th>\n",
       "      <th></th>\n",
       "      <th></th>\n",
       "      <th></th>\n",
       "      <th></th>\n",
       "      <th></th>\n",
       "      <th></th>\n",
       "    </tr>\n",
       "  </thead>\n",
       "  <tbody>\n",
       "    <tr>\n",
       "      <th>0</th>\n",
       "      <td>-102.969506</td>\n",
       "      <td>0.932795</td>\n",
       "      <td>0.603434</td>\n",
       "      <td>3.0</td>\n",
       "      <td>7.0</td>\n",
       "      <td>0.0</td>\n",
       "      <td>104.605456</td>\n",
       "      <td>-9.706376</td>\n",
       "      <td>0.965620</td>\n",
       "      <td>2.011965</td>\n",
       "      <td>3.060676</td>\n",
       "      <td>4.052343</td>\n",
       "      <td>5.037808</td>\n",
       "    </tr>\n",
       "    <tr>\n",
       "      <th>1</th>\n",
       "      <td>-104.216445</td>\n",
       "      <td>0.931299</td>\n",
       "      <td>0.619601</td>\n",
       "      <td>3.0</td>\n",
       "      <td>7.0</td>\n",
       "      <td>0.0</td>\n",
       "      <td>107.076732</td>\n",
       "      <td>-10.052759</td>\n",
       "      <td>0.991093</td>\n",
       "      <td>2.054547</td>\n",
       "      <td>3.070310</td>\n",
       "      <td>4.025172</td>\n",
       "      <td>5.022056</td>\n",
       "    </tr>\n",
       "    <tr>\n",
       "      <th>2</th>\n",
       "      <td>-107.565699</td>\n",
       "      <td>0.735520</td>\n",
       "      <td>0.649646</td>\n",
       "      <td>2.0</td>\n",
       "      <td>3.0</td>\n",
       "      <td>0.0</td>\n",
       "      <td>109.930898</td>\n",
       "      <td>-9.292443</td>\n",
       "      <td>1.002127</td>\n",
       "      <td>2.022151</td>\n",
       "      <td>2.938131</td>\n",
       "      <td>4.015831</td>\n",
       "      <td>4.952302</td>\n",
       "    </tr>\n",
       "    <tr>\n",
       "      <th>3</th>\n",
       "      <td>-103.032703</td>\n",
       "      <td>0.973309</td>\n",
       "      <td>0.744389</td>\n",
       "      <td>3.0</td>\n",
       "      <td>7.0</td>\n",
       "      <td>0.0</td>\n",
       "      <td>104.313719</td>\n",
       "      <td>-9.844013</td>\n",
       "      <td>0.990154</td>\n",
       "      <td>1.988708</td>\n",
       "      <td>2.923924</td>\n",
       "      <td>4.014658</td>\n",
       "      <td>4.984265</td>\n",
       "    </tr>\n",
       "    <tr>\n",
       "      <th>4</th>\n",
       "      <td>-102.903448</td>\n",
       "      <td>1.000000</td>\n",
       "      <td>0.666052</td>\n",
       "      <td>3.0</td>\n",
       "      <td>7.0</td>\n",
       "      <td>0.0</td>\n",
       "      <td>104.730031</td>\n",
       "      <td>-9.668359</td>\n",
       "      <td>0.960167</td>\n",
       "      <td>1.985335</td>\n",
       "      <td>3.006852</td>\n",
       "      <td>3.979660</td>\n",
       "      <td>4.952969</td>\n",
       "    </tr>\n",
       "    <tr>\n",
       "      <th>...</th>\n",
       "      <td>...</td>\n",
       "      <td>...</td>\n",
       "      <td>...</td>\n",
       "      <td>...</td>\n",
       "      <td>...</td>\n",
       "      <td>...</td>\n",
       "      <td>...</td>\n",
       "      <td>...</td>\n",
       "      <td>...</td>\n",
       "      <td>...</td>\n",
       "      <td>...</td>\n",
       "      <td>...</td>\n",
       "      <td>...</td>\n",
       "    </tr>\n",
       "    <tr>\n",
       "      <th>4995</th>\n",
       "      <td>-101.283813</td>\n",
       "      <td>0.878026</td>\n",
       "      <td>0.603434</td>\n",
       "      <td>3.0</td>\n",
       "      <td>7.0</td>\n",
       "      <td>0.0</td>\n",
       "      <td>105.222038</td>\n",
       "      <td>-9.744898</td>\n",
       "      <td>0.993478</td>\n",
       "      <td>1.996139</td>\n",
       "      <td>2.984600</td>\n",
       "      <td>4.033972</td>\n",
       "      <td>5.060386</td>\n",
       "    </tr>\n",
       "    <tr>\n",
       "      <th>4996</th>\n",
       "      <td>-102.892079</td>\n",
       "      <td>0.913142</td>\n",
       "      <td>0.619601</td>\n",
       "      <td>3.0</td>\n",
       "      <td>7.0</td>\n",
       "      <td>0.0</td>\n",
       "      <td>104.493801</td>\n",
       "      <td>-9.673907</td>\n",
       "      <td>0.982170</td>\n",
       "      <td>1.985971</td>\n",
       "      <td>3.043943</td>\n",
       "      <td>4.049759</td>\n",
       "      <td>4.988302</td>\n",
       "    </tr>\n",
       "    <tr>\n",
       "      <th>4997</th>\n",
       "      <td>-101.507819</td>\n",
       "      <td>0.877954</td>\n",
       "      <td>0.649646</td>\n",
       "      <td>3.0</td>\n",
       "      <td>7.0</td>\n",
       "      <td>0.0</td>\n",
       "      <td>103.457136</td>\n",
       "      <td>-10.001952</td>\n",
       "      <td>0.987194</td>\n",
       "      <td>2.029892</td>\n",
       "      <td>2.998843</td>\n",
       "      <td>4.033798</td>\n",
       "      <td>5.055741</td>\n",
       "    </tr>\n",
       "    <tr>\n",
       "      <th>4998</th>\n",
       "      <td>-100.218341</td>\n",
       "      <td>0.970538</td>\n",
       "      <td>0.744389</td>\n",
       "      <td>2.0</td>\n",
       "      <td>3.0</td>\n",
       "      <td>0.0</td>\n",
       "      <td>101.638308</td>\n",
       "      <td>-9.706522</td>\n",
       "      <td>0.966884</td>\n",
       "      <td>1.985893</td>\n",
       "      <td>2.996972</td>\n",
       "      <td>4.014657</td>\n",
       "      <td>5.000511</td>\n",
       "    </tr>\n",
       "    <tr>\n",
       "      <th>4999</th>\n",
       "      <td>-102.051092</td>\n",
       "      <td>0.893772</td>\n",
       "      <td>0.666052</td>\n",
       "      <td>2.0</td>\n",
       "      <td>7.0</td>\n",
       "      <td>0.0</td>\n",
       "      <td>103.235669</td>\n",
       "      <td>-9.835852</td>\n",
       "      <td>0.997116</td>\n",
       "      <td>2.042685</td>\n",
       "      <td>2.937078</td>\n",
       "      <td>4.024811</td>\n",
       "      <td>5.038148</td>\n",
       "    </tr>\n",
       "  </tbody>\n",
       "</table>\n",
       "<p>5000 rows × 13 columns</p>\n",
       "</div>\n",
       "      <button class=\"colab-df-convert\" onclick=\"convertToInteractive('df-60fd5174-dc11-4613-b5e8-c1655d9c61fc')\"\n",
       "              title=\"Convert this dataframe to an interactive table.\"\n",
       "              style=\"display:none;\">\n",
       "        \n",
       "  <svg xmlns=\"http://www.w3.org/2000/svg\" height=\"24px\"viewBox=\"0 0 24 24\"\n",
       "       width=\"24px\">\n",
       "    <path d=\"M0 0h24v24H0V0z\" fill=\"none\"/>\n",
       "    <path d=\"M18.56 5.44l.94 2.06.94-2.06 2.06-.94-2.06-.94-.94-2.06-.94 2.06-2.06.94zm-11 1L8.5 8.5l.94-2.06 2.06-.94-2.06-.94L8.5 2.5l-.94 2.06-2.06.94zm10 10l.94 2.06.94-2.06 2.06-.94-2.06-.94-.94-2.06-.94 2.06-2.06.94z\"/><path d=\"M17.41 7.96l-1.37-1.37c-.4-.4-.92-.59-1.43-.59-.52 0-1.04.2-1.43.59L10.3 9.45l-7.72 7.72c-.78.78-.78 2.05 0 2.83L4 21.41c.39.39.9.59 1.41.59.51 0 1.02-.2 1.41-.59l7.78-7.78 2.81-2.81c.8-.78.8-2.07 0-2.86zM5.41 20L4 18.59l7.72-7.72 1.47 1.35L5.41 20z\"/>\n",
       "  </svg>\n",
       "      </button>\n",
       "      \n",
       "  <style>\n",
       "    .colab-df-container {\n",
       "      display:flex;\n",
       "      flex-wrap:wrap;\n",
       "      gap: 12px;\n",
       "    }\n",
       "\n",
       "    .colab-df-convert {\n",
       "      background-color: #E8F0FE;\n",
       "      border: none;\n",
       "      border-radius: 50%;\n",
       "      cursor: pointer;\n",
       "      display: none;\n",
       "      fill: #1967D2;\n",
       "      height: 32px;\n",
       "      padding: 0 0 0 0;\n",
       "      width: 32px;\n",
       "    }\n",
       "\n",
       "    .colab-df-convert:hover {\n",
       "      background-color: #E2EBFA;\n",
       "      box-shadow: 0px 1px 2px rgba(60, 64, 67, 0.3), 0px 1px 3px 1px rgba(60, 64, 67, 0.15);\n",
       "      fill: #174EA6;\n",
       "    }\n",
       "\n",
       "    [theme=dark] .colab-df-convert {\n",
       "      background-color: #3B4455;\n",
       "      fill: #D2E3FC;\n",
       "    }\n",
       "\n",
       "    [theme=dark] .colab-df-convert:hover {\n",
       "      background-color: #434B5C;\n",
       "      box-shadow: 0px 1px 3px 1px rgba(0, 0, 0, 0.15);\n",
       "      filter: drop-shadow(0px 1px 2px rgba(0, 0, 0, 0.3));\n",
       "      fill: #FFFFFF;\n",
       "    }\n",
       "  </style>\n",
       "\n",
       "      <script>\n",
       "        const buttonEl =\n",
       "          document.querySelector('#df-60fd5174-dc11-4613-b5e8-c1655d9c61fc button.colab-df-convert');\n",
       "        buttonEl.style.display =\n",
       "          google.colab.kernel.accessAllowed ? 'block' : 'none';\n",
       "\n",
       "        async function convertToInteractive(key) {\n",
       "          const element = document.querySelector('#df-60fd5174-dc11-4613-b5e8-c1655d9c61fc');\n",
       "          const dataTable =\n",
       "            await google.colab.kernel.invokeFunction('convertToInteractive',\n",
       "                                                     [key], {});\n",
       "          if (!dataTable) return;\n",
       "\n",
       "          const docLinkHtml = 'Like what you see? Visit the ' +\n",
       "            '<a target=\"_blank\" href=https://colab.research.google.com/notebooks/data_table.ipynb>data table notebook</a>'\n",
       "            + ' to learn more about interactive tables.';\n",
       "          element.innerHTML = '';\n",
       "          dataTable['output_type'] = 'display_data';\n",
       "          await google.colab.output.renderOutput(dataTable, element);\n",
       "          const docLink = document.createElement('div');\n",
       "          docLink.innerHTML = docLinkHtml;\n",
       "          element.appendChild(docLink);\n",
       "        }\n",
       "      </script>\n",
       "    </div>\n",
       "  </div>\n",
       "  "
      ],
      "text/plain": [
       "parameters        lp__  accept_stat__  stepsize__  treedepth__  n_leapfrog__  \\\n",
       "draws                                                                          \n",
       "0          -102.969506       0.932795    0.603434          3.0           7.0   \n",
       "1          -104.216445       0.931299    0.619601          3.0           7.0   \n",
       "2          -107.565699       0.735520    0.649646          2.0           3.0   \n",
       "3          -103.032703       0.973309    0.744389          3.0           7.0   \n",
       "4          -102.903448       1.000000    0.666052          3.0           7.0   \n",
       "...                ...            ...         ...          ...           ...   \n",
       "4995       -101.283813       0.878026    0.603434          3.0           7.0   \n",
       "4996       -102.892079       0.913142    0.619601          3.0           7.0   \n",
       "4997       -101.507819       0.877954    0.649646          3.0           7.0   \n",
       "4998       -100.218341       0.970538    0.744389          2.0           3.0   \n",
       "4999       -102.051092       0.893772    0.666052          2.0           7.0   \n",
       "\n",
       "parameters  divergent__    energy__     beta.1    beta.2    beta.3    beta.4  \\\n",
       "draws                                                                          \n",
       "0                   0.0  104.605456  -9.706376  0.965620  2.011965  3.060676   \n",
       "1                   0.0  107.076732 -10.052759  0.991093  2.054547  3.070310   \n",
       "2                   0.0  109.930898  -9.292443  1.002127  2.022151  2.938131   \n",
       "3                   0.0  104.313719  -9.844013  0.990154  1.988708  2.923924   \n",
       "4                   0.0  104.730031  -9.668359  0.960167  1.985335  3.006852   \n",
       "...                 ...         ...        ...       ...       ...       ...   \n",
       "4995                0.0  105.222038  -9.744898  0.993478  1.996139  2.984600   \n",
       "4996                0.0  104.493801  -9.673907  0.982170  1.985971  3.043943   \n",
       "4997                0.0  103.457136 -10.001952  0.987194  2.029892  2.998843   \n",
       "4998                0.0  101.638308  -9.706522  0.966884  1.985893  2.996972   \n",
       "4999                0.0  103.235669  -9.835852  0.997116  2.042685  2.937078   \n",
       "\n",
       "parameters    beta.5    beta.6  \n",
       "draws                           \n",
       "0           4.052343  5.037808  \n",
       "1           4.025172  5.022056  \n",
       "2           4.015831  4.952302  \n",
       "3           4.014658  4.984265  \n",
       "4           3.979660  4.952969  \n",
       "...              ...       ...  \n",
       "4995        4.033972  5.060386  \n",
       "4996        4.049759  4.988302  \n",
       "4997        4.033798  5.055741  \n",
       "4998        4.014657  5.000511  \n",
       "4999        4.024811  5.038148  \n",
       "\n",
       "[5000 rows x 13 columns]"
      ]
     },
     "execution_count": 34,
     "metadata": {},
     "output_type": "execute_result"
    }
   ],
   "source": [
    "df = fit.to_frame()\n",
    "df"
   ]
  },
  {
   "cell_type": "code",
   "execution_count": null,
   "metadata": {
    "colab": {
     "base_uri": "https://localhost:8080/",
     "height": 455
    },
    "id": "asso07_ke4q9",
    "outputId": "f18b07d2-922e-4c35-e85a-eaed2bf674df"
   },
   "outputs": [
    {
     "data": {
      "text/html": [
       "\n",
       "  <div id=\"df-37d1acb7-25b7-4be3-b80e-ed4b617d4198\">\n",
       "    <div class=\"colab-df-container\">\n",
       "      <div>\n",
       "<style scoped>\n",
       "    .dataframe tbody tr th:only-of-type {\n",
       "        vertical-align: middle;\n",
       "    }\n",
       "\n",
       "    .dataframe tbody tr th {\n",
       "        vertical-align: top;\n",
       "    }\n",
       "\n",
       "    .dataframe thead th {\n",
       "        text-align: right;\n",
       "    }\n",
       "</style>\n",
       "<table border=\"1\" class=\"dataframe\">\n",
       "  <thead>\n",
       "    <tr style=\"text-align: right;\">\n",
       "      <th>parameters</th>\n",
       "      <th>beta.1</th>\n",
       "      <th>beta.2</th>\n",
       "      <th>beta.3</th>\n",
       "      <th>beta.4</th>\n",
       "      <th>beta.5</th>\n",
       "      <th>beta.6</th>\n",
       "    </tr>\n",
       "    <tr>\n",
       "      <th>draws</th>\n",
       "      <th></th>\n",
       "      <th></th>\n",
       "      <th></th>\n",
       "      <th></th>\n",
       "      <th></th>\n",
       "      <th></th>\n",
       "    </tr>\n",
       "  </thead>\n",
       "  <tbody>\n",
       "    <tr>\n",
       "      <th>4000</th>\n",
       "      <td>-9.807157</td>\n",
       "      <td>0.971576</td>\n",
       "      <td>1.989805</td>\n",
       "      <td>2.990404</td>\n",
       "      <td>4.021370</td>\n",
       "      <td>5.040206</td>\n",
       "    </tr>\n",
       "    <tr>\n",
       "      <th>4001</th>\n",
       "      <td>-9.690968</td>\n",
       "      <td>0.985821</td>\n",
       "      <td>2.063819</td>\n",
       "      <td>3.016354</td>\n",
       "      <td>3.992425</td>\n",
       "      <td>4.994940</td>\n",
       "    </tr>\n",
       "    <tr>\n",
       "      <th>4002</th>\n",
       "      <td>-9.567211</td>\n",
       "      <td>0.972159</td>\n",
       "      <td>2.019149</td>\n",
       "      <td>2.988985</td>\n",
       "      <td>3.999097</td>\n",
       "      <td>4.998583</td>\n",
       "    </tr>\n",
       "    <tr>\n",
       "      <th>4003</th>\n",
       "      <td>-9.749594</td>\n",
       "      <td>0.953980</td>\n",
       "      <td>2.060468</td>\n",
       "      <td>2.987697</td>\n",
       "      <td>4.004415</td>\n",
       "      <td>4.984136</td>\n",
       "    </tr>\n",
       "    <tr>\n",
       "      <th>4004</th>\n",
       "      <td>-9.695347</td>\n",
       "      <td>1.020115</td>\n",
       "      <td>2.048318</td>\n",
       "      <td>2.975951</td>\n",
       "      <td>4.006878</td>\n",
       "      <td>4.981366</td>\n",
       "    </tr>\n",
       "    <tr>\n",
       "      <th>...</th>\n",
       "      <td>...</td>\n",
       "      <td>...</td>\n",
       "      <td>...</td>\n",
       "      <td>...</td>\n",
       "      <td>...</td>\n",
       "      <td>...</td>\n",
       "    </tr>\n",
       "    <tr>\n",
       "      <th>4995</th>\n",
       "      <td>-9.744898</td>\n",
       "      <td>0.993478</td>\n",
       "      <td>1.996139</td>\n",
       "      <td>2.984600</td>\n",
       "      <td>4.033972</td>\n",
       "      <td>5.060386</td>\n",
       "    </tr>\n",
       "    <tr>\n",
       "      <th>4996</th>\n",
       "      <td>-9.673907</td>\n",
       "      <td>0.982170</td>\n",
       "      <td>1.985971</td>\n",
       "      <td>3.043943</td>\n",
       "      <td>4.049759</td>\n",
       "      <td>4.988302</td>\n",
       "    </tr>\n",
       "    <tr>\n",
       "      <th>4997</th>\n",
       "      <td>-10.001952</td>\n",
       "      <td>0.987194</td>\n",
       "      <td>2.029892</td>\n",
       "      <td>2.998843</td>\n",
       "      <td>4.033798</td>\n",
       "      <td>5.055741</td>\n",
       "    </tr>\n",
       "    <tr>\n",
       "      <th>4998</th>\n",
       "      <td>-9.706522</td>\n",
       "      <td>0.966884</td>\n",
       "      <td>1.985893</td>\n",
       "      <td>2.996972</td>\n",
       "      <td>4.014657</td>\n",
       "      <td>5.000511</td>\n",
       "    </tr>\n",
       "    <tr>\n",
       "      <th>4999</th>\n",
       "      <td>-9.835852</td>\n",
       "      <td>0.997116</td>\n",
       "      <td>2.042685</td>\n",
       "      <td>2.937078</td>\n",
       "      <td>4.024811</td>\n",
       "      <td>5.038148</td>\n",
       "    </tr>\n",
       "  </tbody>\n",
       "</table>\n",
       "<p>1000 rows × 6 columns</p>\n",
       "</div>\n",
       "      <button class=\"colab-df-convert\" onclick=\"convertToInteractive('df-37d1acb7-25b7-4be3-b80e-ed4b617d4198')\"\n",
       "              title=\"Convert this dataframe to an interactive table.\"\n",
       "              style=\"display:none;\">\n",
       "        \n",
       "  <svg xmlns=\"http://www.w3.org/2000/svg\" height=\"24px\"viewBox=\"0 0 24 24\"\n",
       "       width=\"24px\">\n",
       "    <path d=\"M0 0h24v24H0V0z\" fill=\"none\"/>\n",
       "    <path d=\"M18.56 5.44l.94 2.06.94-2.06 2.06-.94-2.06-.94-.94-2.06-.94 2.06-2.06.94zm-11 1L8.5 8.5l.94-2.06 2.06-.94-2.06-.94L8.5 2.5l-.94 2.06-2.06.94zm10 10l.94 2.06.94-2.06 2.06-.94-2.06-.94-.94-2.06-.94 2.06-2.06.94z\"/><path d=\"M17.41 7.96l-1.37-1.37c-.4-.4-.92-.59-1.43-.59-.52 0-1.04.2-1.43.59L10.3 9.45l-7.72 7.72c-.78.78-.78 2.05 0 2.83L4 21.41c.39.39.9.59 1.41.59.51 0 1.02-.2 1.41-.59l7.78-7.78 2.81-2.81c.8-.78.8-2.07 0-2.86zM5.41 20L4 18.59l7.72-7.72 1.47 1.35L5.41 20z\"/>\n",
       "  </svg>\n",
       "      </button>\n",
       "      \n",
       "  <style>\n",
       "    .colab-df-container {\n",
       "      display:flex;\n",
       "      flex-wrap:wrap;\n",
       "      gap: 12px;\n",
       "    }\n",
       "\n",
       "    .colab-df-convert {\n",
       "      background-color: #E8F0FE;\n",
       "      border: none;\n",
       "      border-radius: 50%;\n",
       "      cursor: pointer;\n",
       "      display: none;\n",
       "      fill: #1967D2;\n",
       "      height: 32px;\n",
       "      padding: 0 0 0 0;\n",
       "      width: 32px;\n",
       "    }\n",
       "\n",
       "    .colab-df-convert:hover {\n",
       "      background-color: #E2EBFA;\n",
       "      box-shadow: 0px 1px 2px rgba(60, 64, 67, 0.3), 0px 1px 3px 1px rgba(60, 64, 67, 0.15);\n",
       "      fill: #174EA6;\n",
       "    }\n",
       "\n",
       "    [theme=dark] .colab-df-convert {\n",
       "      background-color: #3B4455;\n",
       "      fill: #D2E3FC;\n",
       "    }\n",
       "\n",
       "    [theme=dark] .colab-df-convert:hover {\n",
       "      background-color: #434B5C;\n",
       "      box-shadow: 0px 1px 3px 1px rgba(0, 0, 0, 0.15);\n",
       "      filter: drop-shadow(0px 1px 2px rgba(0, 0, 0, 0.3));\n",
       "      fill: #FFFFFF;\n",
       "    }\n",
       "  </style>\n",
       "\n",
       "      <script>\n",
       "        const buttonEl =\n",
       "          document.querySelector('#df-37d1acb7-25b7-4be3-b80e-ed4b617d4198 button.colab-df-convert');\n",
       "        buttonEl.style.display =\n",
       "          google.colab.kernel.accessAllowed ? 'block' : 'none';\n",
       "\n",
       "        async function convertToInteractive(key) {\n",
       "          const element = document.querySelector('#df-37d1acb7-25b7-4be3-b80e-ed4b617d4198');\n",
       "          const dataTable =\n",
       "            await google.colab.kernel.invokeFunction('convertToInteractive',\n",
       "                                                     [key], {});\n",
       "          if (!dataTable) return;\n",
       "\n",
       "          const docLinkHtml = 'Like what you see? Visit the ' +\n",
       "            '<a target=\"_blank\" href=https://colab.research.google.com/notebooks/data_table.ipynb>data table notebook</a>'\n",
       "            + ' to learn more about interactive tables.';\n",
       "          element.innerHTML = '';\n",
       "          dataTable['output_type'] = 'display_data';\n",
       "          await google.colab.output.renderOutput(dataTable, element);\n",
       "          const docLink = document.createElement('div');\n",
       "          docLink.innerHTML = docLinkHtml;\n",
       "          element.appendChild(docLink);\n",
       "        }\n",
       "      </script>\n",
       "    </div>\n",
       "  </div>\n",
       "  "
      ],
      "text/plain": [
       "parameters     beta.1    beta.2    beta.3    beta.4    beta.5    beta.6\n",
       "draws                                                                  \n",
       "4000        -9.807157  0.971576  1.989805  2.990404  4.021370  5.040206\n",
       "4001        -9.690968  0.985821  2.063819  3.016354  3.992425  4.994940\n",
       "4002        -9.567211  0.972159  2.019149  2.988985  3.999097  4.998583\n",
       "4003        -9.749594  0.953980  2.060468  2.987697  4.004415  4.984136\n",
       "4004        -9.695347  1.020115  2.048318  2.975951  4.006878  4.981366\n",
       "...               ...       ...       ...       ...       ...       ...\n",
       "4995        -9.744898  0.993478  1.996139  2.984600  4.033972  5.060386\n",
       "4996        -9.673907  0.982170  1.985971  3.043943  4.049759  4.988302\n",
       "4997       -10.001952  0.987194  2.029892  2.998843  4.033798  5.055741\n",
       "4998        -9.706522  0.966884  1.985893  2.996972  4.014657  5.000511\n",
       "4999        -9.835852  0.997116  2.042685  2.937078  4.024811  5.038148\n",
       "\n",
       "[1000 rows x 6 columns]"
      ]
     },
     "execution_count": 35,
     "metadata": {},
     "output_type": "execute_result"
    }
   ],
   "source": [
    "# burning samples\n",
    "\n",
    "df_beta = df[df.columns[-6:]]\n",
    "df_beta = df_beta.iloc[-1000:]\n",
    "df_beta"
   ]
  },
  {
   "cell_type": "code",
   "execution_count": null,
   "metadata": {
    "id": "FLsiCVBXetSU"
   },
   "outputs": [],
   "source": [
    "# function to find mode\n",
    "\n",
    "def mode_finder(arr):\n",
    "  hist = np.histogram(arr)\n",
    "  return(hist[1][np.argmax(hist[0])])"
   ]
  },
  {
   "cell_type": "code",
   "execution_count": null,
   "metadata": {
    "colab": {
     "base_uri": "https://localhost:8080/"
    },
    "id": "7WX4zRlYewWv",
    "outputId": "5e4029b5-ea15-44aa-92d3-3729302085c4"
   },
   "outputs": [
    {
     "data": {
      "text/plain": [
       "parameters\n",
       "beta.1   -9.744556\n",
       "beta.2    0.979981\n",
       "beta.3    2.017147\n",
       "beta.4    2.994430\n",
       "beta.5    4.017911\n",
       "beta.6    5.013738\n",
       "dtype: float64"
      ]
     },
     "execution_count": 37,
     "metadata": {},
     "output_type": "execute_result"
    }
   ],
   "source": [
    "df_beta.apply(np.median, axis = 0)"
   ]
  },
  {
   "cell_type": "code",
   "execution_count": null,
   "metadata": {
    "colab": {
     "base_uri": "https://localhost:8080/"
    },
    "id": "_IOb0XC-exHT",
    "outputId": "a303beaf-a138-4642-de4d-2a038f211060"
   },
   "outputs": [
    {
     "data": {
      "text/plain": [
       "parameters\n",
       "beta.1   -9.761671\n",
       "beta.2    0.961971\n",
       "beta.3    1.995982\n",
       "beta.4    2.978751\n",
       "beta.5    3.998287\n",
       "beta.6    5.006494\n",
       "dtype: float64"
      ]
     },
     "execution_count": 38,
     "metadata": {},
     "output_type": "execute_result"
    }
   ],
   "source": [
    "df_beta.apply(mode_finder, axis = 0)"
   ]
  },
  {
   "cell_type": "code",
   "execution_count": null,
   "metadata": {
    "colab": {
     "base_uri": "https://localhost:8080/",
     "height": 387
    },
    "id": "m-XZJdNzfPYv",
    "outputId": "3d8ad88b-8505-4970-bd84-426ac4e2ba7b"
   },
   "outputs": [
    {
     "data": {
      "text/plain": [
       "(array([  1.,   4.,  12.,  38.,  58., 107., 152., 166., 160., 162.,  71.,\n",
       "         41.,  22.,   5.,   1.]),\n",
       " array([-10.27575005, -10.20720615, -10.13866225, -10.07011835,\n",
       "        -10.00157445,  -9.93303055,  -9.86448666,  -9.79594276,\n",
       "         -9.72739886,  -9.65885496,  -9.59031106,  -9.52176716,\n",
       "         -9.45322326,  -9.38467936,  -9.31613546,  -9.24759156]),\n",
       " <a list of 15 Patch objects>)"
      ]
     },
     "execution_count": 39,
     "metadata": {},
     "output_type": "execute_result"
    },
    {
     "data": {
      "image/png": "[encoded data removed]",
      "text/plain": [
       "<Figure size 432x288 with 1 Axes>"
      ]
     },
     "metadata": {
      "needs_background": "light"
     },
     "output_type": "display_data"
    }
   ],
   "source": [
    "plt.hist(df_beta['beta.1'], bins = 15)"
   ]
  },
  {
   "cell_type": "code",
   "execution_count": null,
   "metadata": {
    "colab": {
     "base_uri": "https://localhost:8080/",
     "height": 387
    },
    "id": "0VHpeB7LfU4q",
    "outputId": "919b3b9a-71f1-4e7b-bdc7-f8f85d9ed232"
   },
   "outputs": [
    {
     "data": {
      "text/plain": [
       "(array([  7.,  19.,  46.,  78., 117., 139., 152., 135., 121., 104.,  53.,\n",
       "         21.,   6.,   1.,   1.]),\n",
       " array([4.93330387, 4.94550225, 4.95770064, 4.96989902, 4.98209741,\n",
       "        4.99429579, 5.00649418, 5.01869256, 5.03089095, 5.04308933,\n",
       "        5.05528772, 5.0674861 , 5.07968449, 5.09188287, 5.10408126,\n",
       "        5.11627964]),\n",
       " <a list of 15 Patch objects>)"
      ]
     },
     "execution_count": 40,
     "metadata": {},
     "output_type": "execute_result"
    },
    {
     "data": {
      "image/png": "[encoded data removed]",
      "text/plain": [
       "<Figure size 432x288 with 1 Axes>"
      ]
     },
     "metadata": {
      "needs_background": "light"
     },
     "output_type": "display_data"
    }
   ],
   "source": [
    "plt.hist(df_beta['beta.6'], bins = 15)"
   ]
  },
  {
   "cell_type": "code",
   "execution_count": null,
   "metadata": {
    "colab": {
     "base_uri": "https://localhost:8080/",
     "height": 238
    },
    "id": "PvQtNtSlf2WW",
    "outputId": "580322b2-4362-4cf4-ca18-fdbf5badb68a"
   },
   "outputs": [
    {
     "data": {
      "text/html": [
       "\n",
       "  <div id=\"df-d500e4ee-7170-46e5-a39a-6faeebf23e90\">\n",
       "    <div class=\"colab-df-container\">\n",
       "      <div>\n",
       "<style scoped>\n",
       "    .dataframe tbody tr th:only-of-type {\n",
       "        vertical-align: middle;\n",
       "    }\n",
       "\n",
       "    .dataframe tbody tr th {\n",
       "        vertical-align: top;\n",
       "    }\n",
       "\n",
       "    .dataframe thead th {\n",
       "        text-align: right;\n",
       "    }\n",
       "</style>\n",
       "<table border=\"1\" class=\"dataframe\">\n",
       "  <thead>\n",
       "    <tr style=\"text-align: right;\">\n",
       "      <th></th>\n",
       "      <th>mean</th>\n",
       "      <th>sd</th>\n",
       "      <th>hdi_3%</th>\n",
       "      <th>hdi_97%</th>\n",
       "      <th>mcse_mean</th>\n",
       "      <th>mcse_sd</th>\n",
       "      <th>ess_bulk</th>\n",
       "      <th>ess_tail</th>\n",
       "      <th>r_hat</th>\n",
       "    </tr>\n",
       "  </thead>\n",
       "  <tbody>\n",
       "    <tr>\n",
       "      <th>beta[0]</th>\n",
       "      <td>-9.746</td>\n",
       "      <td>0.156</td>\n",
       "      <td>-10.045</td>\n",
       "      <td>-9.461</td>\n",
       "      <td>0.002</td>\n",
       "      <td>0.001</td>\n",
       "      <td>6006.0</td>\n",
       "      <td>3874.0</td>\n",
       "      <td>1.0</td>\n",
       "    </tr>\n",
       "    <tr>\n",
       "      <th>beta[1]</th>\n",
       "      <td>0.980</td>\n",
       "      <td>0.029</td>\n",
       "      <td>0.924</td>\n",
       "      <td>1.031</td>\n",
       "      <td>0.000</td>\n",
       "      <td>0.000</td>\n",
       "      <td>5910.0</td>\n",
       "      <td>4389.0</td>\n",
       "      <td>1.0</td>\n",
       "    </tr>\n",
       "    <tr>\n",
       "      <th>beta[2]</th>\n",
       "      <td>2.018</td>\n",
       "      <td>0.037</td>\n",
       "      <td>1.948</td>\n",
       "      <td>2.085</td>\n",
       "      <td>0.000</td>\n",
       "      <td>0.000</td>\n",
       "      <td>6099.0</td>\n",
       "      <td>3759.0</td>\n",
       "      <td>1.0</td>\n",
       "    </tr>\n",
       "    <tr>\n",
       "      <th>beta[3]</th>\n",
       "      <td>2.995</td>\n",
       "      <td>0.033</td>\n",
       "      <td>2.933</td>\n",
       "      <td>3.058</td>\n",
       "      <td>0.000</td>\n",
       "      <td>0.000</td>\n",
       "      <td>5659.0</td>\n",
       "      <td>4186.0</td>\n",
       "      <td>1.0</td>\n",
       "    </tr>\n",
       "    <tr>\n",
       "      <th>beta[4]</th>\n",
       "      <td>4.018</td>\n",
       "      <td>0.027</td>\n",
       "      <td>3.965</td>\n",
       "      <td>4.068</td>\n",
       "      <td>0.000</td>\n",
       "      <td>0.000</td>\n",
       "      <td>6331.0</td>\n",
       "      <td>4014.0</td>\n",
       "      <td>1.0</td>\n",
       "    </tr>\n",
       "    <tr>\n",
       "      <th>beta[5]</th>\n",
       "      <td>5.014</td>\n",
       "      <td>0.030</td>\n",
       "      <td>4.956</td>\n",
       "      <td>5.067</td>\n",
       "      <td>0.000</td>\n",
       "      <td>0.000</td>\n",
       "      <td>6089.0</td>\n",
       "      <td>4372.0</td>\n",
       "      <td>1.0</td>\n",
       "    </tr>\n",
       "  </tbody>\n",
       "</table>\n",
       "</div>\n",
       "      <button class=\"colab-df-convert\" onclick=\"convertToInteractive('df-d500e4ee-7170-46e5-a39a-6faeebf23e90')\"\n",
       "              title=\"Convert this dataframe to an interactive table.\"\n",
       "              style=\"display:none;\">\n",
       "        \n",
       "  <svg xmlns=\"http://www.w3.org/2000/svg\" height=\"24px\"viewBox=\"0 0 24 24\"\n",
       "       width=\"24px\">\n",
       "    <path d=\"M0 0h24v24H0V0z\" fill=\"none\"/>\n",
       "    <path d=\"M18.56 5.44l.94 2.06.94-2.06 2.06-.94-2.06-.94-.94-2.06-.94 2.06-2.06.94zm-11 1L8.5 8.5l.94-2.06 2.06-.94-2.06-.94L8.5 2.5l-.94 2.06-2.06.94zm10 10l.94 2.06.94-2.06 2.06-.94-2.06-.94-.94-2.06-.94 2.06-2.06.94z\"/><path d=\"M17.41 7.96l-1.37-1.37c-.4-.4-.92-.59-1.43-.59-.52 0-1.04.2-1.43.59L10.3 9.45l-7.72 7.72c-.78.78-.78 2.05 0 2.83L4 21.41c.39.39.9.59 1.41.59.51 0 1.02-.2 1.41-.59l7.78-7.78 2.81-2.81c.8-.78.8-2.07 0-2.86zM5.41 20L4 18.59l7.72-7.72 1.47 1.35L5.41 20z\"/>\n",
       "  </svg>\n",
       "      </button>\n",
       "      \n",
       "  <style>\n",
       "    .colab-df-container {\n",
       "      display:flex;\n",
       "      flex-wrap:wrap;\n",
       "      gap: 12px;\n",
       "    }\n",
       "\n",
       "    .colab-df-convert {\n",
       "      background-color: #E8F0FE;\n",
       "      border: none;\n",
       "      border-radius: 50%;\n",
       "      cursor: pointer;\n",
       "      display: none;\n",
       "      fill: #1967D2;\n",
       "      height: 32px;\n",
       "      padding: 0 0 0 0;\n",
       "      width: 32px;\n",
       "    }\n",
       "\n",
       "    .colab-df-convert:hover {\n",
       "      background-color: #E2EBFA;\n",
       "      box-shadow: 0px 1px 2px rgba(60, 64, 67, 0.3), 0px 1px 3px 1px rgba(60, 64, 67, 0.15);\n",
       "      fill: #174EA6;\n",
       "    }\n",
       "\n",
       "    [theme=dark] .colab-df-convert {\n",
       "      background-color: #3B4455;\n",
       "      fill: #D2E3FC;\n",
       "    }\n",
       "\n",
       "    [theme=dark] .colab-df-convert:hover {\n",
       "      background-color: #434B5C;\n",
       "      box-shadow: 0px 1px 3px 1px rgba(0, 0, 0, 0.15);\n",
       "      filter: drop-shadow(0px 1px 2px rgba(0, 0, 0, 0.3));\n",
       "      fill: #FFFFFF;\n",
       "    }\n",
       "  </style>\n",
       "\n",
       "      <script>\n",
       "        const buttonEl =\n",
       "          document.querySelector('#df-d500e4ee-7170-46e5-a39a-6faeebf23e90 button.colab-df-convert');\n",
       "        buttonEl.style.display =\n",
       "          google.colab.kernel.accessAllowed ? 'block' : 'none';\n",
       "\n",
       "        async function convertToInteractive(key) {\n",
       "          const element = document.querySelector('#df-d500e4ee-7170-46e5-a39a-6faeebf23e90');\n",
       "          const dataTable =\n",
       "            await google.colab.kernel.invokeFunction('convertToInteractive',\n",
       "                                                     [key], {});\n",
       "          if (!dataTable) return;\n",
       "\n",
       "          const docLinkHtml = 'Like what you see? Visit the ' +\n",
       "            '<a target=\"_blank\" href=https://colab.research.google.com/notebooks/data_table.ipynb>data table notebook</a>'\n",
       "            + ' to learn more about interactive tables.';\n",
       "          element.innerHTML = '';\n",
       "          dataTable['output_type'] = 'display_data';\n",
       "          await google.colab.output.renderOutput(dataTable, element);\n",
       "          const docLink = document.createElement('div');\n",
       "          docLink.innerHTML = docLinkHtml;\n",
       "          element.appendChild(docLink);\n",
       "        }\n",
       "      </script>\n",
       "    </div>\n",
       "  </div>\n",
       "  "
      ],
      "text/plain": [
       "          mean     sd  hdi_3%  hdi_97%  mcse_mean  mcse_sd  ess_bulk  \\\n",
       "beta[0] -9.746  0.156 -10.045   -9.461      0.002    0.001    6006.0   \n",
       "beta[1]  0.980  0.029   0.924    1.031      0.000    0.000    5910.0   \n",
       "beta[2]  2.018  0.037   1.948    2.085      0.000    0.000    6099.0   \n",
       "beta[3]  2.995  0.033   2.933    3.058      0.000    0.000    5659.0   \n",
       "beta[4]  4.018  0.027   3.965    4.068      0.000    0.000    6331.0   \n",
       "beta[5]  5.014  0.030   4.956    5.067      0.000    0.000    6089.0   \n",
       "\n",
       "         ess_tail  r_hat  \n",
       "beta[0]    3874.0    1.0  \n",
       "beta[1]    4389.0    1.0  \n",
       "beta[2]    3759.0    1.0  \n",
       "beta[3]    4186.0    1.0  \n",
       "beta[4]    4014.0    1.0  \n",
       "beta[5]    4372.0    1.0  "
      ]
     },
     "execution_count": 41,
     "metadata": {},
     "output_type": "execute_result"
    }
   ],
   "source": [
    "ar.summary(fit)"
   ]
  },
  {
   "cell_type": "code",
   "execution_count": null,
   "metadata": {
    "id": "jAPybJTdevGB"
   },
   "outputs": [],
   "source": [
    "reg2_code = \"\"\"\n",
    "\n",
    "functions{\n",
    "  real mynorm_lpdf(vector eta){\n",
    "    return -0.5 * eta' * eta;\n",
    "  }\n",
    "}\n",
    "\n",
    "data {\n",
    "  int<lower=0> n;\n",
    "  int<lower=0> p;\n",
    "  vector[n] Y;\n",
    "  matrix[n, p] X;\n",
    "}\n",
    "\n",
    "parameters {\n",
    "  vector[p] beta;\n",
    "}\n",
    "\n",
    "model {\n",
    "  beta ~ mynorm();\n",
    "  Y ~ normal(X*beta, 1);\n",
    "}\n",
    "\n",
    "\"\"\""
   ]
  },
  {
   "cell_type": "code",
   "execution_count": null,
   "metadata": {
    "colab": {
     "base_uri": "https://localhost:8080/",
     "height": 237
    },
    "id": "VUPsVNiwwaK1",
    "outputId": "42ca9e6d-b059-4ed6-959c-b39c1ce6a9d7"
   },
   "outputs": [
    {
     "name": "stdout",
     "output_type": "stream",
     "text": [
      "Building..."
     ]
    },
    {
     "name": "stderr",
     "output_type": "stream",
     "text": [
      "CRITICAL:httpstan:Exception while building model extension module: `CompileError(DistutilsExecError(\"command 'x86_64-linux-gnu-gcc' terminated by signal 2\"))`, traceback: `['  File \"/usr/local/lib/python3.7/dist-packages/httpstan/views.py\", line 114, in handle_create_model\\n    compiler_output = await httpstan.models.build_services_extension_module(program_code)\\n', '  File \"/usr/local/lib/python3.7/dist-packages/httpstan/models.py\", line 169, in build_services_extension_module\\n    None, httpstan.build_ext.run_build_ext, extensions, build_lib\\n', '  File \"/usr/lib/python3.7/asyncio/futures.py\", line 263, in __await__\\n    yield self  # This tells Task to wait for completion.\\n', '  File \"/usr/lib/python3.7/asyncio/tasks.py\", line 318, in __wakeup\\n    future.result()\\n', '  File \"/usr/lib/python3.7/asyncio/futures.py\", line 181, in result\\n    raise self._exception\\n', '  File \"/usr/lib/python3.7/concurrent/futures/thread.py\", line 57, in run\\n    result = self.fn(*self.args, **self.kwargs)\\n', '  File \"/usr/local/lib/python3.7/dist-packages/httpstan/build_ext.py\", line 80, in run_build_ext\\n    build_extension.run()\\n', '  File \"/usr/lib/python3.7/distutils/command/build_ext.py\", line 340, in run\\n    self.build_extensions()\\n', '  File \"/usr/lib/python3.7/distutils/command/build_ext.py\", line 449, in build_extensions\\n    self._build_extensions_serial()\\n', '  File \"/usr/lib/python3.7/distutils/command/build_ext.py\", line 474, in _build_extensions_serial\\n    self.build_extension(ext)\\n', '  File \"/usr/lib/python3.7/distutils/command/build_ext.py\", line 534, in build_extension\\n    depends=ext.depends)\\n', '  File \"/usr/lib/python3.7/distutils/ccompiler.py\", line 574, in compile\\n    self._compile(obj, src, ext, cc_args, extra_postargs, pp_opts)\\n', '  File \"/usr/lib/python3.7/distutils/unixccompiler.py\", line 120, in _compile\\n    raise CompileError(msg)\\n']`\n"
     ]
    },
    {
     "ename": "AttributeError",
     "evalue": "ignored",
     "output_type": "error",
     "traceback": [
      "\u001b[0;31m---------------------------------------------------------------------------\u001b[0m",
      "\u001b[0;31mAttributeError\u001b[0m                            Traceback (most recent call last)",
      "\u001b[0;32m<ipython-input-62-d9e4cc026eba>\u001b[0m in \u001b[0;36m<module>\u001b[0;34m\u001b[0m\n\u001b[1;32m      1\u001b[0m \u001b[0mposterior\u001b[0m \u001b[0;34m=\u001b[0m \u001b[0mstan\u001b[0m\u001b[0;34m.\u001b[0m\u001b[0mbuild\u001b[0m\u001b[0;34m(\u001b[0m\u001b[0mreg2_code\u001b[0m\u001b[0;34m,\u001b[0m \u001b[0mdata\u001b[0m \u001b[0;34m=\u001b[0m \u001b[0mreg_data\u001b[0m\u001b[0;34m)\u001b[0m\u001b[0;34m\u001b[0m\u001b[0;34m\u001b[0m\u001b[0m\n\u001b[0;32m----> 2\u001b[0;31m \u001b[0mfit\u001b[0m \u001b[0;34m=\u001b[0m \u001b[0mposterior\u001b[0m\u001b[0;34m.\u001b[0m\u001b[0msample\u001b[0m\u001b[0;34m(\u001b[0m\u001b[0mnum_chains\u001b[0m\u001b[0;34m=\u001b[0m\u001b[0;36m5\u001b[0m\u001b[0;34m,\u001b[0m \u001b[0mnum_samples\u001b[0m\u001b[0;34m=\u001b[0m\u001b[0;36m1000\u001b[0m\u001b[0;34m)\u001b[0m\u001b[0;34m\u001b[0m\u001b[0;34m\u001b[0m\u001b[0m\n\u001b[0m\u001b[1;32m      3\u001b[0m \u001b[0mdf\u001b[0m \u001b[0;34m=\u001b[0m \u001b[0mfit\u001b[0m\u001b[0;34m.\u001b[0m\u001b[0mto_frame\u001b[0m\u001b[0;34m(\u001b[0m\u001b[0;34m)\u001b[0m\u001b[0;34m\u001b[0m\u001b[0;34m\u001b[0m\u001b[0m\n",
      "\u001b[0;31mAttributeError\u001b[0m: 'NoneType' object has no attribute 'sample'"
     ]
    }
   ],
   "source": [
    "posterior = stan.build(reg2_code, data = reg_data)\n",
    "fit = posterior.sample(num_chains=5, num_samples=1000)\n",
    "df = fit.to_frame()"
   ]
  },
  {
   "cell_type": "code",
   "execution_count": null,
   "metadata": {
    "id": "PJvJYvDpwlyb"
   },
   "outputs": [],
   "source": [
    "# burning samples\n",
    "\n",
    "df_beta = df[df.columns[-6:]]\n",
    "df_beta = df_beta.iloc[-1000:]\n",
    "df_beta"
   ]
  },
  {
   "cell_type": "code",
   "execution_count": null,
   "metadata": {
    "colab": {
     "base_uri": "https://localhost:8080/"
    },
    "id": "NfSO4DTwyl3z",
    "outputId": "7dddc31e-4588-4a38-c64c-6a10bce7404c"
   },
   "outputs": [
    {
     "data": {
      "text/plain": [
       "{'N': 100,\n",
       " 'X': array([4.84462163, 4.96551599, 4.90837713, 4.97550926, 5.01408849,\n",
       "        4.90174901, 4.909719  , 5.09816809, 4.96417418, 4.92436342,\n",
       "        4.8366364 , 4.96479655, 4.96859004, 4.92107889, 5.08907515,\n",
       "        4.93139403, 5.00062546, 4.9909437 , 4.84901507, 5.04306619,\n",
       "        4.8570524 , 5.17526376, 5.00717037, 5.00287574, 5.02651414,\n",
       "        5.08685491, 5.21137953, 4.95852898, 5.06160135, 5.06505077,\n",
       "        4.89282169, 5.0496997 , 4.97555542, 5.13305462, 5.04823819,\n",
       "        5.06304727, 5.14324516, 5.14140985, 5.07514335, 5.06831008,\n",
       "        4.92497798, 5.02864829, 4.98682061, 5.12333344, 4.86620787,\n",
       "        5.01205977, 5.01362481, 5.05078747, 5.02330901, 4.85558866,\n",
       "        5.1670494 , 4.91888771, 4.93262314, 4.86101611, 5.01384637,\n",
       "        5.05304935, 4.95092555, 4.84318454, 4.87607329, 4.9388907 ,\n",
       "        4.9087547 , 5.13111681, 4.93035685, 4.99245809, 5.1618048 ,\n",
       "        5.20896906, 5.02261009, 4.93187838, 5.0015804 , 4.98552464,\n",
       "        4.91037768, 4.9076356 , 4.98087413, 4.86244219, 5.0411298 ,\n",
       "        4.88969039, 4.92595738, 5.04174075, 5.06314985, 5.16001013,\n",
       "        4.96544713, 5.13004064, 4.98133589, 4.98579896, 4.87821615,\n",
       "        5.02381225, 4.9737736 , 5.08266244, 5.06539047, 4.95743113,\n",
       "        4.86091186, 4.89230161, 4.8455471 , 4.86965921, 5.13512664,\n",
       "        4.92384992, 5.09877247, 4.92232436, 5.07109222, 5.03880017])}"
      ]
     },
     "execution_count": 75,
     "metadata": {},
     "output_type": "execute_result"
    }
   ],
   "source": [
    "norm_data = np.random.normal(loc = 5, scale = .1, size = 100)\n",
    "norm_data = {\"N\": 100, \"X\": norm_data}\n",
    "norm_data"
   ]
  },
  {
   "cell_type": "code",
   "execution_count": null,
   "metadata": {
    "id": "QhX2VQNTyIbf"
   },
   "outputs": [],
   "source": [
    "test_code = \"\"\"\n",
    "\n",
    "functions {\n",
    "  real my_std_normal_lpdf(vector y) {\n",
    "    return -0.5*y'*y;\n",
    "  }\n",
    "}\n",
    "\n",
    "data {\n",
    "  int<lower = 0> N;\n",
    "  vector[N] X;\n",
    "}\n",
    "\n",
    "parameters {\n",
    "  vector[N] y;\n",
    "}\n",
    "model {\n",
    "  y ~ my_std_normal();\n",
    "  X ~ normal(y, 1);\n",
    "}\n",
    "\n",
    "\"\"\""
   ]
  },
  {
   "cell_type": "code",
   "execution_count": null,
   "metadata": {
    "colab": {
     "base_uri": "https://localhost:8080/"
    },
    "id": "p77MYMavyv2m",
    "outputId": "b5ad591a-4f61-4eea-a30f-39e1fd11c91c"
   },
   "outputs": [
    {
     "name": "stdout",
     "output_type": "stream",
     "text": [
      "Building...\n"
     ]
    },
    {
     "name": "stderr",
     "output_type": "stream",
     "text": [
      "\n",
      "Building: found in cache, done."
     ]
    }
   ],
   "source": [
    "posterior = stan.build(test_code, data = norm_data)"
   ]
  },
  {
   "cell_type": "code",
   "execution_count": null,
   "metadata": {
    "colab": {
     "base_uri": "https://localhost:8080/"
    },
    "id": "k14lauyu-Asu",
    "outputId": "b7107d27-ce01-4977-ce88-834827916d3b"
   },
   "outputs": [
    {
     "name": "stderr",
     "output_type": "stream",
     "text": [
      "Sampling:   0%\n",
      "Sampling:  20% (2000/10000)\n",
      "Sampling:  40% (4000/10000)\n",
      "Sampling:  60% (6000/10000)\n",
      "Sampling:  80% (8000/10000)\n",
      "Sampling: 100% (10000/10000)\n",
      "Sampling: 100% (10000/10000), done.\n",
      "Messages received during sampling:\n",
      "  Gradient evaluation took 4.1e-05 seconds\n",
      "  1000 transitions using 10 leapfrog steps per transition would take 0.41 seconds.\n",
      "  Adjust your expectations accordingly!\n",
      "  Gradient evaluation took 2.9e-05 seconds\n",
      "  1000 transitions using 10 leapfrog steps per transition would take 0.29 seconds.\n",
      "  Adjust your expectations accordingly!\n",
      "  Gradient evaluation took 1.3e-05 seconds\n",
      "  1000 transitions using 10 leapfrog steps per transition would take 0.13 seconds.\n",
      "  Adjust your expectations accordingly!\n",
      "  Gradient evaluation took 1.1e-05 seconds\n",
      "  1000 transitions using 10 leapfrog steps per transition would take 0.11 seconds.\n",
      "  Adjust your expectations accordingly!\n",
      "  Gradient evaluation took 1.1e-05 seconds\n",
      "  1000 transitions using 10 leapfrog steps per transition would take 0.11 seconds.\n",
      "  Adjust your expectations accordingly!\n"
     ]
    }
   ],
   "source": [
    "fit = posterior.sample(num_chains=5, num_samples=1000)\n",
    "df = fit.to_frame()"
   ]
  },
  {
   "cell_type": "code",
   "execution_count": null,
   "metadata": {
    "colab": {
     "base_uri": "https://localhost:8080/"
    },
    "id": "LCcMIpEN-GKW",
    "outputId": "2f845599-8add-460f-c63d-6a202b598a46"
   },
   "outputs": [
    {
     "data": {
      "text/plain": [
       "parameters\n",
       "lp__            -673.585428\n",
       "accept_stat__      0.900018\n",
       "stepsize__         0.421037\n",
       "treedepth__        3.000000\n",
       "n_leapfrog__       7.000000\n",
       "                    ...    \n",
       "y.96               2.452962\n",
       "y.97               2.548928\n",
       "y.98               2.472325\n",
       "y.99               2.524001\n",
       "y.100              2.517737\n",
       "Length: 107, dtype: float64"
      ]
     },
     "execution_count": 80,
     "metadata": {},
     "output_type": "execute_result"
    }
   ],
   "source": [
    "df.apply(np.median, axis = 0)"
   ]
  },
  {
   "cell_type": "markdown",
   "metadata": {
    "id": "wf30Ra6bZh9i"
   },
   "source": [
    "# Testing vectorization of distributions in STAN (WORKS LIKE A CHARM !!!)"
   ]
  },
  {
   "cell_type": "markdown",
   "metadata": {
    "id": "7kxqLJGSZqPz"
   },
   "source": [
    "For $i \\in 1 \\dots n$, $\\quad$ $Y_i \\sim \\mbox{Poisson} \\left( \\lambda_i \\right)$, $\\;$ $\\lambda_i \\overset{i.i.d}{\\sim} \\mbox{Gamma} \\left( a, b \\right)$\n",
    "\n",
    "Posterior: $\\quad$ $\\lambda_i \\Big| Y_{1:n} \\overset{ind}{\\sim} \\mbox{Gamma} \\left( a + Y_i, b + 1 \\right)$"
   ]
  },
  {
   "cell_type": "code",
   "execution_count": null,
   "metadata": {
    "id": "Ne9aeJ6Tay_X"
   },
   "outputs": [],
   "source": [
    "a = 1; b = 1; n = 100"
   ]
  },
  {
   "cell_type": "code",
   "execution_count": null,
   "metadata": {
    "colab": {
     "base_uri": "https://localhost:8080/"
    },
    "id": "brzUN9c0bsQh",
    "outputId": "db37efbd-fa62-4ccb-ab2a-241b60e824d7"
   },
   "outputs": [
    {
     "data": {
      "text/plain": [
       "array([ 4,  3,  1,  5,  0,  5,  2,  2,  4,  2,  1,  8,  2,  2,  5,  2,  0,\n",
       "        3,  2,  2,  2,  0,  2,  5,  7,  2,  3,  5,  4,  2,  2,  3,  6,  1,\n",
       "       10,  2,  7,  0,  4,  5,  5,  0,  3,  1,  3,  6,  4,  4,  2,  1,  0,\n",
       "        3,  7,  2,  6,  7,  0,  2,  4,  8,  5,  1,  6,  5,  1,  2,  2,  2,\n",
       "        1,  1,  2,  1,  1,  0,  5,  9,  4,  1,  6,  1,  5,  6,  2,  3,  4,\n",
       "        1,  1,  3,  1,  4,  0,  4,  4,  5,  6,  3,  8,  6,  2,  2])"
      ]
     },
     "execution_count": 6,
     "metadata": {},
     "output_type": "execute_result"
    }
   ],
   "source": [
    "Y = np.floor(np.random.gamma(shape = 2, scale = 2, size = n))\n",
    "Y = np.array([int(v) for v in Y])\n",
    "Y"
   ]
  },
  {
   "cell_type": "code",
   "execution_count": null,
   "metadata": {
    "colab": {
     "base_uri": "https://localhost:8080/",
     "height": 320
    },
    "id": "RJjAI9nhcW3X",
    "outputId": "ff220884-1116-41f8-e857-439cab3ea91e"
   },
   "outputs": [
    {
     "data": {
      "text/plain": [
       "(array([ 9., 16., 24., 10., 12., 12.,  8.,  4.,  3.,  2.]),\n",
       " array([ 0.,  1.,  2.,  3.,  4.,  5.,  6.,  7.,  8.,  9., 10.]),\n",
       " <a list of 10 Patch objects>)"
      ]
     },
     "execution_count": 7,
     "metadata": {},
     "output_type": "execute_result"
    },
    {
     "data": {
      "image/png": "[encoded data removed]",
      "text/plain": [
       "<Figure size 432x288 with 1 Axes>"
      ]
     },
     "metadata": {
      "needs_background": "light"
     },
     "output_type": "display_data"
    }
   ],
   "source": [
    "plt.hist(Y)"
   ]
  },
  {
   "cell_type": "code",
   "execution_count": null,
   "metadata": {
    "id": "WZOrPnPlcp_x"
   },
   "outputs": [],
   "source": [
    "lambda_code = \"\"\"\n",
    "\n",
    "data{\n",
    "  int<lower=0> n;\n",
    "  int<lower=0> a;\n",
    "  int<lower=0> b;\n",
    "  array[n] int<lower=0> Y;\n",
    "}\n",
    "\n",
    "parameters{\n",
    "  array[n] real<lower=0> lambda;\n",
    "}\n",
    "\n",
    "model{\n",
    "  lambda ~ gamma(a, b);\n",
    "  Y ~ poisson(lambda);\n",
    "}\n",
    "\n",
    "\"\"\""
   ]
  },
  {
   "cell_type": "code",
   "execution_count": null,
   "metadata": {
    "colab": {
     "base_uri": "https://localhost:8080/",
     "height": 924
    },
    "id": "whnfbaC_dh47",
    "outputId": "d922dac7-e7f4-44ee-f1d9-62e696465d9c"
   },
   "outputs": [
    {
     "name": "stdout",
     "output_type": "stream",
     "text": [
      "Building...\n"
     ]
    },
    {
     "name": "stderr",
     "output_type": "stream",
     "text": [
      "\n",
      "Building: 34.5s, done.Sampling:   0%\n",
      "Sampling:   6% (600/10000)\n",
      "Sampling:  12% (1200/10000)\n",
      "Sampling:  32% (3200/10000)\n",
      "Sampling:  52% (5200/10000)\n",
      "Sampling:  66% (6600/10000)\n",
      "Sampling:  80% (8000/10000)\n",
      "Sampling: 100% (10000/10000)\n",
      "Sampling: 100% (10000/10000), done.\n",
      "Messages received during sampling:\n",
      "  Gradient evaluation took 4.8e-05 seconds\n",
      "  1000 transitions using 10 leapfrog steps per transition would take 0.48 seconds.\n",
      "  Adjust your expectations accordingly!\n",
      "  Gradient evaluation took 6.1e-05 seconds\n",
      "  1000 transitions using 10 leapfrog steps per transition would take 0.61 seconds.\n",
      "  Adjust your expectations accordingly!\n",
      "  Gradient evaluation took 2.1e-05 seconds\n",
      "  1000 transitions using 10 leapfrog steps per transition would take 0.21 seconds.\n",
      "  Adjust your expectations accordingly!\n",
      "  Gradient evaluation took 1.8e-05 seconds\n",
      "  1000 transitions using 10 leapfrog steps per transition would take 0.18 seconds.\n",
      "  Adjust your expectations accordingly!\n",
      "  Gradient evaluation took 2.8e-05 seconds\n",
      "  1000 transitions using 10 leapfrog steps per transition would take 0.28 seconds.\n",
      "  Adjust your expectations accordingly!\n"
     ]
    },
    {
     "data": {
      "text/html": [
       "\n",
       "  <div id=\"df-05315cfe-c599-4c0c-9f89-d9422ed29778\">\n",
       "    <div class=\"colab-df-container\">\n",
       "      <div>\n",
       "<style scoped>\n",
       "    .dataframe tbody tr th:only-of-type {\n",
       "        vertical-align: middle;\n",
       "    }\n",
       "\n",
       "    .dataframe tbody tr th {\n",
       "        vertical-align: top;\n",
       "    }\n",
       "\n",
       "    .dataframe thead th {\n",
       "        text-align: right;\n",
       "    }\n",
       "</style>\n",
       "<table border=\"1\" class=\"dataframe\">\n",
       "  <thead>\n",
       "    <tr style=\"text-align: right;\">\n",
       "      <th>parameters</th>\n",
       "      <th>lambda.1</th>\n",
       "      <th>lambda.2</th>\n",
       "      <th>lambda.3</th>\n",
       "      <th>lambda.4</th>\n",
       "      <th>lambda.5</th>\n",
       "      <th>lambda.6</th>\n",
       "      <th>lambda.7</th>\n",
       "      <th>lambda.8</th>\n",
       "      <th>lambda.9</th>\n",
       "      <th>lambda.10</th>\n",
       "      <th>...</th>\n",
       "      <th>lambda.91</th>\n",
       "      <th>lambda.92</th>\n",
       "      <th>lambda.93</th>\n",
       "      <th>lambda.94</th>\n",
       "      <th>lambda.95</th>\n",
       "      <th>lambda.96</th>\n",
       "      <th>lambda.97</th>\n",
       "      <th>lambda.98</th>\n",
       "      <th>lambda.99</th>\n",
       "      <th>lambda.100</th>\n",
       "    </tr>\n",
       "    <tr>\n",
       "      <th>draws</th>\n",
       "      <th></th>\n",
       "      <th></th>\n",
       "      <th></th>\n",
       "      <th></th>\n",
       "      <th></th>\n",
       "      <th></th>\n",
       "      <th></th>\n",
       "      <th></th>\n",
       "      <th></th>\n",
       "      <th></th>\n",
       "      <th></th>\n",
       "      <th></th>\n",
       "      <th></th>\n",
       "      <th></th>\n",
       "      <th></th>\n",
       "      <th></th>\n",
       "      <th></th>\n",
       "      <th></th>\n",
       "      <th></th>\n",
       "      <th></th>\n",
       "      <th></th>\n",
       "    </tr>\n",
       "  </thead>\n",
       "  <tbody>\n",
       "    <tr>\n",
       "      <th>0</th>\n",
       "      <td>2.034870</td>\n",
       "      <td>2.273674</td>\n",
       "      <td>2.423974</td>\n",
       "      <td>2.004490</td>\n",
       "      <td>1.759357</td>\n",
       "      <td>3.897746</td>\n",
       "      <td>1.351739</td>\n",
       "      <td>0.613603</td>\n",
       "      <td>1.239703</td>\n",
       "      <td>1.409421</td>\n",
       "      <td>...</td>\n",
       "      <td>0.410215</td>\n",
       "      <td>2.397173</td>\n",
       "      <td>3.400781</td>\n",
       "      <td>3.265016</td>\n",
       "      <td>2.796743</td>\n",
       "      <td>2.368391</td>\n",
       "      <td>5.016423</td>\n",
       "      <td>1.590077</td>\n",
       "      <td>1.748364</td>\n",
       "      <td>1.798159</td>\n",
       "    </tr>\n",
       "    <tr>\n",
       "      <th>1</th>\n",
       "      <td>1.710718</td>\n",
       "      <td>1.398417</td>\n",
       "      <td>1.084519</td>\n",
       "      <td>4.024556</td>\n",
       "      <td>0.586775</td>\n",
       "      <td>4.662504</td>\n",
       "      <td>0.884887</td>\n",
       "      <td>1.496355</td>\n",
       "      <td>4.392924</td>\n",
       "      <td>1.772232</td>\n",
       "      <td>...</td>\n",
       "      <td>0.156478</td>\n",
       "      <td>0.526065</td>\n",
       "      <td>3.676003</td>\n",
       "      <td>3.550141</td>\n",
       "      <td>6.507544</td>\n",
       "      <td>2.267025</td>\n",
       "      <td>5.862752</td>\n",
       "      <td>4.214437</td>\n",
       "      <td>3.007334</td>\n",
       "      <td>0.474700</td>\n",
       "    </tr>\n",
       "    <tr>\n",
       "      <th>2</th>\n",
       "      <td>1.695081</td>\n",
       "      <td>3.156612</td>\n",
       "      <td>1.721943</td>\n",
       "      <td>3.278752</td>\n",
       "      <td>0.161804</td>\n",
       "      <td>3.610774</td>\n",
       "      <td>0.283619</td>\n",
       "      <td>1.281930</td>\n",
       "      <td>0.843490</td>\n",
       "      <td>1.225984</td>\n",
       "      <td>...</td>\n",
       "      <td>0.588685</td>\n",
       "      <td>3.822944</td>\n",
       "      <td>2.011564</td>\n",
       "      <td>2.725597</td>\n",
       "      <td>2.933048</td>\n",
       "      <td>1.409269</td>\n",
       "      <td>6.046126</td>\n",
       "      <td>4.653457</td>\n",
       "      <td>0.717862</td>\n",
       "      <td>0.528540</td>\n",
       "    </tr>\n",
       "    <tr>\n",
       "      <th>3</th>\n",
       "      <td>2.836257</td>\n",
       "      <td>1.213174</td>\n",
       "      <td>0.496976</td>\n",
       "      <td>1.741349</td>\n",
       "      <td>0.949194</td>\n",
       "      <td>4.593488</td>\n",
       "      <td>2.477167</td>\n",
       "      <td>1.943026</td>\n",
       "      <td>1.892638</td>\n",
       "      <td>1.345378</td>\n",
       "      <td>...</td>\n",
       "      <td>0.233608</td>\n",
       "      <td>1.152146</td>\n",
       "      <td>1.487830</td>\n",
       "      <td>3.612845</td>\n",
       "      <td>6.086155</td>\n",
       "      <td>2.773334</td>\n",
       "      <td>6.411073</td>\n",
       "      <td>3.443541</td>\n",
       "      <td>2.126572</td>\n",
       "      <td>1.505060</td>\n",
       "    </tr>\n",
       "    <tr>\n",
       "      <th>4</th>\n",
       "      <td>1.170144</td>\n",
       "      <td>3.198962</td>\n",
       "      <td>0.531527</td>\n",
       "      <td>6.097603</td>\n",
       "      <td>2.214739</td>\n",
       "      <td>2.704994</td>\n",
       "      <td>0.397890</td>\n",
       "      <td>1.200927</td>\n",
       "      <td>2.925509</td>\n",
       "      <td>0.884533</td>\n",
       "      <td>...</td>\n",
       "      <td>0.040597</td>\n",
       "      <td>2.148711</td>\n",
       "      <td>2.416885</td>\n",
       "      <td>3.536117</td>\n",
       "      <td>2.818418</td>\n",
       "      <td>2.940863</td>\n",
       "      <td>6.505853</td>\n",
       "      <td>3.600895</td>\n",
       "      <td>1.235100</td>\n",
       "      <td>2.391352</td>\n",
       "    </tr>\n",
       "    <tr>\n",
       "      <th>...</th>\n",
       "      <td>...</td>\n",
       "      <td>...</td>\n",
       "      <td>...</td>\n",
       "      <td>...</td>\n",
       "      <td>...</td>\n",
       "      <td>...</td>\n",
       "      <td>...</td>\n",
       "      <td>...</td>\n",
       "      <td>...</td>\n",
       "      <td>...</td>\n",
       "      <td>...</td>\n",
       "      <td>...</td>\n",
       "      <td>...</td>\n",
       "      <td>...</td>\n",
       "      <td>...</td>\n",
       "      <td>...</td>\n",
       "      <td>...</td>\n",
       "      <td>...</td>\n",
       "      <td>...</td>\n",
       "      <td>...</td>\n",
       "      <td>...</td>\n",
       "    </tr>\n",
       "    <tr>\n",
       "      <th>4995</th>\n",
       "      <td>1.145983</td>\n",
       "      <td>0.975832</td>\n",
       "      <td>0.414575</td>\n",
       "      <td>2.112640</td>\n",
       "      <td>0.046855</td>\n",
       "      <td>3.802177</td>\n",
       "      <td>0.214720</td>\n",
       "      <td>3.554444</td>\n",
       "      <td>4.178418</td>\n",
       "      <td>1.509029</td>\n",
       "      <td>...</td>\n",
       "      <td>0.110105</td>\n",
       "      <td>0.760753</td>\n",
       "      <td>2.491393</td>\n",
       "      <td>2.092173</td>\n",
       "      <td>2.913979</td>\n",
       "      <td>2.581504</td>\n",
       "      <td>4.496756</td>\n",
       "      <td>5.129319</td>\n",
       "      <td>1.252915</td>\n",
       "      <td>2.385804</td>\n",
       "    </tr>\n",
       "    <tr>\n",
       "      <th>4996</th>\n",
       "      <td>4.207358</td>\n",
       "      <td>2.541827</td>\n",
       "      <td>0.456018</td>\n",
       "      <td>2.647201</td>\n",
       "      <td>1.600215</td>\n",
       "      <td>3.335399</td>\n",
       "      <td>1.182481</td>\n",
       "      <td>0.827181</td>\n",
       "      <td>3.084860</td>\n",
       "      <td>0.807409</td>\n",
       "      <td>...</td>\n",
       "      <td>0.415667</td>\n",
       "      <td>3.337423</td>\n",
       "      <td>2.283345</td>\n",
       "      <td>2.290515</td>\n",
       "      <td>1.693795</td>\n",
       "      <td>1.235188</td>\n",
       "      <td>3.813304</td>\n",
       "      <td>4.543345</td>\n",
       "      <td>2.330461</td>\n",
       "      <td>2.100179</td>\n",
       "    </tr>\n",
       "    <tr>\n",
       "      <th>4997</th>\n",
       "      <td>5.054044</td>\n",
       "      <td>1.099124</td>\n",
       "      <td>1.018683</td>\n",
       "      <td>3.598520</td>\n",
       "      <td>0.259296</td>\n",
       "      <td>0.986251</td>\n",
       "      <td>0.623410</td>\n",
       "      <td>1.240126</td>\n",
       "      <td>3.530369</td>\n",
       "      <td>1.627406</td>\n",
       "      <td>...</td>\n",
       "      <td>0.004266</td>\n",
       "      <td>2.071422</td>\n",
       "      <td>1.938113</td>\n",
       "      <td>1.391087</td>\n",
       "      <td>2.262809</td>\n",
       "      <td>1.697877</td>\n",
       "      <td>6.147051</td>\n",
       "      <td>2.911111</td>\n",
       "      <td>1.117161</td>\n",
       "      <td>1.821853</td>\n",
       "    </tr>\n",
       "    <tr>\n",
       "      <th>4998</th>\n",
       "      <td>1.782099</td>\n",
       "      <td>2.042491</td>\n",
       "      <td>2.358636</td>\n",
       "      <td>3.014987</td>\n",
       "      <td>0.244842</td>\n",
       "      <td>3.625100</td>\n",
       "      <td>1.127337</td>\n",
       "      <td>1.841184</td>\n",
       "      <td>1.165474</td>\n",
       "      <td>1.527546</td>\n",
       "      <td>...</td>\n",
       "      <td>0.427003</td>\n",
       "      <td>4.198782</td>\n",
       "      <td>1.546445</td>\n",
       "      <td>3.759842</td>\n",
       "      <td>1.677489</td>\n",
       "      <td>2.585742</td>\n",
       "      <td>5.067466</td>\n",
       "      <td>2.519016</td>\n",
       "      <td>1.215440</td>\n",
       "      <td>1.382942</td>\n",
       "    </tr>\n",
       "    <tr>\n",
       "      <th>4999</th>\n",
       "      <td>2.920901</td>\n",
       "      <td>2.071712</td>\n",
       "      <td>0.780804</td>\n",
       "      <td>1.584932</td>\n",
       "      <td>0.243297</td>\n",
       "      <td>1.324640</td>\n",
       "      <td>2.142120</td>\n",
       "      <td>1.341887</td>\n",
       "      <td>2.630242</td>\n",
       "      <td>1.640135</td>\n",
       "      <td>...</td>\n",
       "      <td>0.006232</td>\n",
       "      <td>7.247319</td>\n",
       "      <td>1.440681</td>\n",
       "      <td>2.341828</td>\n",
       "      <td>5.239232</td>\n",
       "      <td>2.492016</td>\n",
       "      <td>5.002873</td>\n",
       "      <td>3.522895</td>\n",
       "      <td>2.660475</td>\n",
       "      <td>2.104551</td>\n",
       "    </tr>\n",
       "  </tbody>\n",
       "</table>\n",
       "<p>5000 rows × 100 columns</p>\n",
       "</div>\n",
       "      <button class=\"colab-df-convert\" onclick=\"convertToInteractive('df-05315cfe-c599-4c0c-9f89-d9422ed29778')\"\n",
       "              title=\"Convert this dataframe to an interactive table.\"\n",
       "              style=\"display:none;\">\n",
       "        \n",
       "  <svg xmlns=\"http://www.w3.org/2000/svg\" height=\"24px\"viewBox=\"0 0 24 24\"\n",
       "       width=\"24px\">\n",
       "    <path d=\"M0 0h24v24H0V0z\" fill=\"none\"/>\n",
       "    <path d=\"M18.56 5.44l.94 2.06.94-2.06 2.06-.94-2.06-.94-.94-2.06-.94 2.06-2.06.94zm-11 1L8.5 8.5l.94-2.06 2.06-.94-2.06-.94L8.5 2.5l-.94 2.06-2.06.94zm10 10l.94 2.06.94-2.06 2.06-.94-2.06-.94-.94-2.06-.94 2.06-2.06.94z\"/><path d=\"M17.41 7.96l-1.37-1.37c-.4-.4-.92-.59-1.43-.59-.52 0-1.04.2-1.43.59L10.3 9.45l-7.72 7.72c-.78.78-.78 2.05 0 2.83L4 21.41c.39.39.9.59 1.41.59.51 0 1.02-.2 1.41-.59l7.78-7.78 2.81-2.81c.8-.78.8-2.07 0-2.86zM5.41 20L4 18.59l7.72-7.72 1.47 1.35L5.41 20z\"/>\n",
       "  </svg>\n",
       "      </button>\n",
       "      \n",
       "  <style>\n",
       "    .colab-df-container {\n",
       "      display:flex;\n",
       "      flex-wrap:wrap;\n",
       "      gap: 12px;\n",
       "    }\n",
       "\n",
       "    .colab-df-convert {\n",
       "      background-color: #E8F0FE;\n",
       "      border: none;\n",
       "      border-radius: 50%;\n",
       "      cursor: pointer;\n",
       "      display: none;\n",
       "      fill: #1967D2;\n",
       "      height: 32px;\n",
       "      padding: 0 0 0 0;\n",
       "      width: 32px;\n",
       "    }\n",
       "\n",
       "    .colab-df-convert:hover {\n",
       "      background-color: #E2EBFA;\n",
       "      box-shadow: 0px 1px 2px rgba(60, 64, 67, 0.3), 0px 1px 3px 1px rgba(60, 64, 67, 0.15);\n",
       "      fill: #174EA6;\n",
       "    }\n",
       "\n",
       "    [theme=dark] .colab-df-convert {\n",
       "      background-color: #3B4455;\n",
       "      fill: #D2E3FC;\n",
       "    }\n",
       "\n",
       "    [theme=dark] .colab-df-convert:hover {\n",
       "      background-color: #434B5C;\n",
       "      box-shadow: 0px 1px 3px 1px rgba(0, 0, 0, 0.15);\n",
       "      filter: drop-shadow(0px 1px 2px rgba(0, 0, 0, 0.3));\n",
       "      fill: #FFFFFF;\n",
       "    }\n",
       "  </style>\n",
       "\n",
       "      <script>\n",
       "        const buttonEl =\n",
       "          document.querySelector('#df-05315cfe-c599-4c0c-9f89-d9422ed29778 button.colab-df-convert');\n",
       "        buttonEl.style.display =\n",
       "          google.colab.kernel.accessAllowed ? 'block' : 'none';\n",
       "\n",
       "        async function convertToInteractive(key) {\n",
       "          const element = document.querySelector('#df-05315cfe-c599-4c0c-9f89-d9422ed29778');\n",
       "          const dataTable =\n",
       "            await google.colab.kernel.invokeFunction('convertToInteractive',\n",
       "                                                     [key], {});\n",
       "          if (!dataTable) return;\n",
       "\n",
       "          const docLinkHtml = 'Like what you see? Visit the ' +\n",
       "            '<a target=\"_blank\" href=https://colab.research.google.com/notebooks/data_table.ipynb>data table notebook</a>'\n",
       "            + ' to learn more about interactive tables.';\n",
       "          element.innerHTML = '';\n",
       "          dataTable['output_type'] = 'display_data';\n",
       "          await google.colab.output.renderOutput(dataTable, element);\n",
       "          const docLink = document.createElement('div');\n",
       "          docLink.innerHTML = docLinkHtml;\n",
       "          element.appendChild(docLink);\n",
       "        }\n",
       "      </script>\n",
       "    </div>\n",
       "  </div>\n",
       "  "
      ],
      "text/plain": [
       "parameters  lambda.1  lambda.2  lambda.3  lambda.4  lambda.5  lambda.6  \\\n",
       "draws                                                                    \n",
       "0           2.034870  2.273674  2.423974  2.004490  1.759357  3.897746   \n",
       "1           1.710718  1.398417  1.084519  4.024556  0.586775  4.662504   \n",
       "2           1.695081  3.156612  1.721943  3.278752  0.161804  3.610774   \n",
       "3           2.836257  1.213174  0.496976  1.741349  0.949194  4.593488   \n",
       "4           1.170144  3.198962  0.531527  6.097603  2.214739  2.704994   \n",
       "...              ...       ...       ...       ...       ...       ...   \n",
       "4995        1.145983  0.975832  0.414575  2.112640  0.046855  3.802177   \n",
       "4996        4.207358  2.541827  0.456018  2.647201  1.600215  3.335399   \n",
       "4997        5.054044  1.099124  1.018683  3.598520  0.259296  0.986251   \n",
       "4998        1.782099  2.042491  2.358636  3.014987  0.244842  3.625100   \n",
       "4999        2.920901  2.071712  0.780804  1.584932  0.243297  1.324640   \n",
       "\n",
       "parameters  lambda.7  lambda.8  lambda.9  lambda.10  ...  lambda.91  \\\n",
       "draws                                                ...              \n",
       "0           1.351739  0.613603  1.239703   1.409421  ...   0.410215   \n",
       "1           0.884887  1.496355  4.392924   1.772232  ...   0.156478   \n",
       "2           0.283619  1.281930  0.843490   1.225984  ...   0.588685   \n",
       "3           2.477167  1.943026  1.892638   1.345378  ...   0.233608   \n",
       "4           0.397890  1.200927  2.925509   0.884533  ...   0.040597   \n",
       "...              ...       ...       ...        ...  ...        ...   \n",
       "4995        0.214720  3.554444  4.178418   1.509029  ...   0.110105   \n",
       "4996        1.182481  0.827181  3.084860   0.807409  ...   0.415667   \n",
       "4997        0.623410  1.240126  3.530369   1.627406  ...   0.004266   \n",
       "4998        1.127337  1.841184  1.165474   1.527546  ...   0.427003   \n",
       "4999        2.142120  1.341887  2.630242   1.640135  ...   0.006232   \n",
       "\n",
       "parameters  lambda.92  lambda.93  lambda.94  lambda.95  lambda.96  lambda.97  \\\n",
       "draws                                                                          \n",
       "0            2.397173   3.400781   3.265016   2.796743   2.368391   5.016423   \n",
       "1            0.526065   3.676003   3.550141   6.507544   2.267025   5.862752   \n",
       "2            3.822944   2.011564   2.725597   2.933048   1.409269   6.046126   \n",
       "3            1.152146   1.487830   3.612845   6.086155   2.773334   6.411073   \n",
       "4            2.148711   2.416885   3.536117   2.818418   2.940863   6.505853   \n",
       "...               ...        ...        ...        ...        ...        ...   \n",
       "4995         0.760753   2.491393   2.092173   2.913979   2.581504   4.496756   \n",
       "4996         3.337423   2.283345   2.290515   1.693795   1.235188   3.813304   \n",
       "4997         2.071422   1.938113   1.391087   2.262809   1.697877   6.147051   \n",
       "4998         4.198782   1.546445   3.759842   1.677489   2.585742   5.067466   \n",
       "4999         7.247319   1.440681   2.341828   5.239232   2.492016   5.002873   \n",
       "\n",
       "parameters  lambda.98  lambda.99  lambda.100  \n",
       "draws                                         \n",
       "0            1.590077   1.748364    1.798159  \n",
       "1            4.214437   3.007334    0.474700  \n",
       "2            4.653457   0.717862    0.528540  \n",
       "3            3.443541   2.126572    1.505060  \n",
       "4            3.600895   1.235100    2.391352  \n",
       "...               ...        ...         ...  \n",
       "4995         5.129319   1.252915    2.385804  \n",
       "4996         4.543345   2.330461    2.100179  \n",
       "4997         2.911111   1.117161    1.821853  \n",
       "4998         2.519016   1.215440    1.382942  \n",
       "4999         3.522895   2.660475    2.104551  \n",
       "\n",
       "[5000 rows x 100 columns]"
      ]
     },
     "execution_count": 9,
     "metadata": {},
     "output_type": "execute_result"
    }
   ],
   "source": [
    "lambda_data = {'n':n, 'a':a, 'b':b, 'Y':Y}\n",
    "posterior = stan.build(lambda_code, data = lambda_data)\n",
    "fit = posterior.sample(num_chains=5, num_samples=1000)\n",
    "df = fit.to_frame()\n",
    "lambda_mat = df[df.columns[df.columns.str.startswith('lambda')]]\n",
    "lambda_mat"
   ]
  },
  {
   "cell_type": "code",
   "execution_count": null,
   "metadata": {
    "id": "r7gO-OjjjEpe"
   },
   "outputs": [],
   "source": [
    "lambda_mat = np.array(lambda_mat.values[-1000:]).transpose()"
   ]
  },
  {
   "cell_type": "code",
   "execution_count": null,
   "metadata": {
    "colab": {
     "base_uri": "https://localhost:8080/"
    },
    "id": "Dikv3Ud0jo8d",
    "outputId": "44f85ba1-f611-41a6-964f-4d82edbe07ce"
   },
   "outputs": [
    {
     "data": {
      "text/plain": [
       "array([ 4,  3,  1,  5,  0,  5,  2,  2,  4,  2,  1,  8,  2,  2,  5,  2,  0,\n",
       "        3,  2,  2,  2,  0,  2,  5,  7,  2,  3,  5,  4,  2,  2,  3,  6,  1,\n",
       "       10,  2,  7,  0,  4,  5,  5,  0,  3,  1,  3,  6,  4,  4,  2,  1,  0,\n",
       "        3,  7,  2,  6,  7,  0,  2,  4,  8,  5,  1,  6,  5,  1,  2,  2,  2,\n",
       "        1,  1,  2,  1,  1,  0,  5,  9,  4,  1,  6,  1,  5,  6,  2,  3,  4,\n",
       "        1,  1,  3,  1,  4,  0,  4,  4,  5,  6,  3,  8,  6,  2,  2])"
      ]
     },
     "execution_count": 11,
     "metadata": {},
     "output_type": "execute_result"
    }
   ],
   "source": [
    "Y"
   ]
  },
  {
   "cell_type": "code",
   "execution_count": null,
   "metadata": {
    "colab": {
     "base_uri": "https://localhost:8080/",
     "height": 282
    },
    "id": "hIEWg6GZkSqq",
    "outputId": "b3985429-8046-4b38-d4d6-d07fdc5f5a03"
   },
   "outputs": [
    {
     "data": {
      "text/plain": [
       "[<matplotlib.lines.Line2D at 0x7f45150745d0>]"
      ]
     },
     "execution_count": 12,
     "metadata": {},
     "output_type": "execute_result"
    },
    {
     "data": {
      "image/png": "[encoded data removed]",
      "text/plain": [
       "<Figure size 432x288 with 1 Axes>"
      ]
     },
     "metadata": {
      "needs_background": "light"
     },
     "output_type": "display_data"
    }
   ],
   "source": [
    "plt.hist(lambda_mat[0], bins = 20, density = True)\n",
    "x = np.linspace(0, 10, 1000)\n",
    "y = scipy.stats.gamma.pdf(x, a = 6, scale = 0.5)\n",
    "plt.plot(x, y)"
   ]
  },
  {
   "cell_type": "code",
   "execution_count": null,
   "metadata": {
    "id": "hvZAKv8XmhuX"
   },
   "outputs": [],
   "source": [
    "def check_post(row_ind):\n",
    "  plt.hist(lambda_mat[row_ind], bins = 20, density = True)\n",
    "  x = np.linspace(0, 10, 1000)\n",
    "  y = scipy.stats.gamma.pdf(x, a = Y[row_ind] + 1, scale = 0.5) # here 'scale' refers to precision paramter, exactly the opposite!!\n",
    "  plt.plot(x, y)"
   ]
  },
  {
   "cell_type": "code",
   "execution_count": null,
   "metadata": {
    "colab": {
     "base_uri": "https://localhost:8080/",
     "height": 265
    },
    "id": "pJgiNuRHm4Bk",
    "outputId": "2d6515f4-7272-488e-a2b3-123d560da913"
   },
   "outputs": [
    {
     "data": {
      "image/png": "[encoded data removed]",
      "text/plain": [
       "<Figure size 432x288 with 1 Axes>"
      ]
     },
     "metadata": {
      "needs_background": "light"
     },
     "output_type": "display_data"
    }
   ],
   "source": [
    "check_post(98)"
   ]
  },
  {
   "cell_type": "code",
   "execution_count": null,
   "metadata": {
    "colab": {
     "base_uri": "https://localhost:8080/",
     "height": 267
    },
    "id": "rebBR1mpoi3B",
    "outputId": "03e3313a-ad71-4bad-b782-a0a75251a0ef"
   },
   "outputs": [
    {
     "data": {
      "image/png": "[encoded data removed]",
      "text/plain": [
       "<Figure size 432x288 with 1 Axes>"
      ]
     },
     "metadata": {
      "needs_background": "light"
     },
     "output_type": "display_data"
    }
   ],
   "source": [
    "check_post(97)"
   ]
  },
  {
   "cell_type": "markdown",
   "metadata": {
    "id": "LnMFUdrwQ-aU"
   },
   "source": [
    "# Checking pedantic warning: Parameter has no priors (WARNING IS STUPID, actually everything works !!)"
   ]
  },
  {
   "cell_type": "code",
   "execution_count": null,
   "metadata": {
    "id": "nXE-sBTeTgGh"
   },
   "outputs": [],
   "source": [
    "test_code = \"\"\"\n",
    "\n",
    "data{\n",
    "  real y;\n",
    "  real mu_given;\n",
    "}\n",
    "\n",
    "parameters{\n",
    "  real mu;\n",
    "}\n",
    "\n",
    "model{\n",
    "  mu ~ normal(mu_given, 1);\n",
    "  y ~ normal(mu, 1);\n",
    "}\n",
    "\n",
    "\"\"\""
   ]
  },
  {
   "cell_type": "code",
   "execution_count": null,
   "metadata": {
    "colab": {
     "base_uri": "https://localhost:8080/",
     "height": 235
    },
    "id": "QDmWavg6Vq0A",
    "outputId": "9b3fb4f4-7bec-42cd-b804-32f2f3e935f1"
   },
   "outputs": [
    {
     "ename": "NameError",
     "evalue": "ignored",
     "output_type": "error",
     "traceback": [
      "\u001b[0;31m---------------------------------------------------------------------------\u001b[0m",
      "\u001b[0;31mNameError\u001b[0m                                 Traceback (most recent call last)",
      "\u001b[0;32m<ipython-input-2-08b82a96c2d0>\u001b[0m in \u001b[0;36m<module>\u001b[0;34m\u001b[0m\n\u001b[1;32m      1\u001b[0m \u001b[0mtest_data\u001b[0m \u001b[0;34m=\u001b[0m \u001b[0;34m{\u001b[0m\u001b[0;34m'y'\u001b[0m\u001b[0;34m:\u001b[0m\u001b[0;36m1\u001b[0m\u001b[0;34m,\u001b[0m \u001b[0;34m'mu_given'\u001b[0m\u001b[0;34m:\u001b[0m\u001b[0;34m-\u001b[0m\u001b[0;36m1\u001b[0m\u001b[0;34m}\u001b[0m\u001b[0;34m\u001b[0m\u001b[0;34m\u001b[0m\u001b[0m\n\u001b[0;32m----> 2\u001b[0;31m \u001b[0mposterior\u001b[0m \u001b[0;34m=\u001b[0m \u001b[0mstan\u001b[0m\u001b[0;34m.\u001b[0m\u001b[0mbuild\u001b[0m\u001b[0;34m(\u001b[0m\u001b[0mtest_code\u001b[0m\u001b[0;34m,\u001b[0m \u001b[0mdata\u001b[0m \u001b[0;34m=\u001b[0m \u001b[0mtest_data\u001b[0m\u001b[0;34m)\u001b[0m\u001b[0;34m\u001b[0m\u001b[0;34m\u001b[0m\u001b[0m\n\u001b[0m\u001b[1;32m      3\u001b[0m \u001b[0mfit\u001b[0m \u001b[0;34m=\u001b[0m \u001b[0mposterior\u001b[0m\u001b[0;34m.\u001b[0m\u001b[0msample\u001b[0m\u001b[0;34m(\u001b[0m\u001b[0mnum_chains\u001b[0m \u001b[0;34m=\u001b[0m \u001b[0;36m5\u001b[0m\u001b[0;34m,\u001b[0m \u001b[0mnum_samples\u001b[0m \u001b[0;34m=\u001b[0m \u001b[0;36m1000\u001b[0m\u001b[0;34m)\u001b[0m\u001b[0;34m\u001b[0m\u001b[0;34m\u001b[0m\u001b[0m\n\u001b[1;32m      4\u001b[0m \u001b[0mdf\u001b[0m \u001b[0;34m=\u001b[0m \u001b[0mfit\u001b[0m\u001b[0;34m.\u001b[0m\u001b[0mto_frame\u001b[0m\u001b[0;34m(\u001b[0m\u001b[0;34m)\u001b[0m\u001b[0;34m\u001b[0m\u001b[0;34m\u001b[0m\u001b[0m\n\u001b[1;32m      5\u001b[0m \u001b[0mdf\u001b[0m\u001b[0;34m.\u001b[0m\u001b[0mtail\u001b[0m\u001b[0;34m(\u001b[0m\u001b[0;36m2000\u001b[0m\u001b[0;34m)\u001b[0m\u001b[0;34m.\u001b[0m\u001b[0mhist\u001b[0m\u001b[0;34m(\u001b[0m\u001b[0mcolumn\u001b[0m \u001b[0;34m=\u001b[0m \u001b[0;34m'mu'\u001b[0m\u001b[0;34m)\u001b[0m\u001b[0;34m\u001b[0m\u001b[0;34m\u001b[0m\u001b[0m\n",
      "\u001b[0;31mNameError\u001b[0m: name 'stan' is not defined"
     ]
    }
   ],
   "source": [
    "test_data = {'y':1, 'mu_given':-1}\n",
    "posterior = stan.build(test_code, data = test_data)\n",
    "fit = posterior.sample(num_chains = 5, num_samples = 1000)\n",
    "df = fit.to_frame()\n",
    "df.tail(2000).hist(column = 'mu')"
   ]
  },
  {
   "cell_type": "code",
   "execution_count": null,
   "metadata": {
    "colab": {
     "base_uri": "https://localhost:8080/"
    },
    "id": "pQXbEWQIWrZt",
    "outputId": "2a75d381-0e58-4ddb-aa70-901f3992e3c6"
   },
   "outputs": [
    {
     "name": "stdout",
     "output_type": "stream",
     "text": [
      "Number of CPUs in the system: 2\n"
     ]
    }
   ],
   "source": [
    "import os\n",
    "print('Number of CPUs in the system: {}'.format(os.cpu_count()))"
   ]
  },
  {
   "cell_type": "code",
   "execution_count": null,
   "metadata": {
    "colab": {
     "base_uri": "https://localhost:8080/"
    },
    "id": "ocJB9F68Trms",
    "outputId": "ac4265af-c9c1-4559-8af6-d21c066dced5"
   },
   "outputs": [
    {
     "data": {
      "text/plain": [
       "2"
      ]
     },
     "execution_count": 4,
     "metadata": {},
     "output_type": "execute_result"
    }
   ],
   "source": [
    "import multiprocessing\n",
    "multiprocessing.cpu_count()"
   ]
  },
  {
   "cell_type": "code",
   "execution_count": null,
   "metadata": {
    "colab": {
     "base_uri": "https://localhost:8080/"
    },
    "id": "OrK6crBhUAg8",
    "outputId": "265c36ca-a2ca-48fa-85c3-befad20654cf"
   },
   "outputs": [
    {
     "data": {
      "text/plain": [
       "2"
      ]
     },
     "execution_count": 5,
     "metadata": {},
     "output_type": "execute_result"
    }
   ],
   "source": [
    "import psutil\n",
    "psutil.cpu_count()"
   ]
  }
 ],
 "metadata": {
  "colab": {
   "collapsed_sections": [
    "ZL_QWzb3RKmp",
    "wf30Ra6bZh9i"
   ],
   "provenance": []
  },
  "kernelspec": {
   "display_name": "Python 3 (ipykernel)",
   "language": "python",
   "name": "python3"
  },
  "language_info": {
   "codemirror_mode": {
    "name": "ipython",
    "version": 3
   },
   "file_extension": ".py",
   "mimetype": "text/x-python",
   "name": "python",
   "nbconvert_exporter": "python",
   "pygments_lexer": "ipython3",
   "version": "3.9.12"
  }
 },
 "nbformat": 4,
 "nbformat_minor": 1
}
